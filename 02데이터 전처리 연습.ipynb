{
 "cells": [
  {
   "cell_type": "code",
   "execution_count": 1,
   "id": "1e3565a8",
   "metadata": {},
   "outputs": [],
   "source": [
    "import pandas as pd\n",
    "import numpy as np\n",
    "import matplotlib.pyplot as plt\n",
    "import seaborn as sns"
   ]
  },
  {
   "cell_type": "code",
   "execution_count": 2,
   "id": "23037395",
   "metadata": {},
   "outputs": [
    {
     "name": "stdout",
     "output_type": "stream",
     "text": [
      "2.0.3\n"
     ]
    }
   ],
   "source": [
    "print(pd.__version__)"
   ]
  },
  {
   "cell_type": "code",
   "execution_count": 3,
   "id": "5c9ac825",
   "metadata": {},
   "outputs": [],
   "source": [
    "data = pd.read_csv(\"https://raw.githubusercontent.com/haram4th/ablearn/main/galaxy.csv\")"
   ]
  },
  {
   "cell_type": "code",
   "execution_count": 4,
   "id": "6e21c5e2",
   "metadata": {
    "scrolled": true
   },
   "outputs": [
    {
     "data": {
      "text/html": [
       "<div>\n",
       "<style scoped>\n",
       "    .dataframe tbody tr th:only-of-type {\n",
       "        vertical-align: middle;\n",
       "    }\n",
       "\n",
       "    .dataframe tbody tr th {\n",
       "        vertical-align: top;\n",
       "    }\n",
       "\n",
       "    .dataframe thead th {\n",
       "        text-align: right;\n",
       "    }\n",
       "</style>\n",
       "<table border=\"1\" class=\"dataframe\">\n",
       "  <thead>\n",
       "    <tr style=\"text-align: right;\">\n",
       "      <th></th>\n",
       "      <th>BuyItNow</th>\n",
       "      <th>startprice</th>\n",
       "      <th>carrier</th>\n",
       "      <th>color</th>\n",
       "      <th>productline</th>\n",
       "      <th>noDescription</th>\n",
       "      <th>charCountDescription</th>\n",
       "      <th>upperCaseDescription</th>\n",
       "      <th>sold</th>\n",
       "    </tr>\n",
       "  </thead>\n",
       "  <tbody>\n",
       "    <tr>\n",
       "      <th>0</th>\n",
       "      <td>0</td>\n",
       "      <td>199.99</td>\n",
       "      <td>NaN</td>\n",
       "      <td>White</td>\n",
       "      <td>Galaxy_S9</td>\n",
       "      <td>contains description</td>\n",
       "      <td>0</td>\n",
       "      <td>0</td>\n",
       "      <td>1</td>\n",
       "    </tr>\n",
       "    <tr>\n",
       "      <th>1</th>\n",
       "      <td>0</td>\n",
       "      <td>235.00</td>\n",
       "      <td>NaN</td>\n",
       "      <td>NaN</td>\n",
       "      <td>Galaxy_Note9</td>\n",
       "      <td>contains description</td>\n",
       "      <td>0</td>\n",
       "      <td>0</td>\n",
       "      <td>0</td>\n",
       "    </tr>\n",
       "    <tr>\n",
       "      <th>2</th>\n",
       "      <td>0</td>\n",
       "      <td>199.99</td>\n",
       "      <td>NaN</td>\n",
       "      <td>NaN</td>\n",
       "      <td>Unknown</td>\n",
       "      <td>no description</td>\n",
       "      <td>100</td>\n",
       "      <td>2</td>\n",
       "      <td>0</td>\n",
       "    </tr>\n",
       "    <tr>\n",
       "      <th>3</th>\n",
       "      <td>1</td>\n",
       "      <td>175.00</td>\n",
       "      <td>AT&amp;T</td>\n",
       "      <td>Space Gray</td>\n",
       "      <td>Galaxy_Note9</td>\n",
       "      <td>contains description</td>\n",
       "      <td>0</td>\n",
       "      <td>0</td>\n",
       "      <td>1</td>\n",
       "    </tr>\n",
       "    <tr>\n",
       "      <th>4</th>\n",
       "      <td>1</td>\n",
       "      <td>100.00</td>\n",
       "      <td>NaN</td>\n",
       "      <td>Space Gray</td>\n",
       "      <td>Galaxy_S8</td>\n",
       "      <td>contains description</td>\n",
       "      <td>0</td>\n",
       "      <td>0</td>\n",
       "      <td>1</td>\n",
       "    </tr>\n",
       "  </tbody>\n",
       "</table>\n",
       "</div>"
      ],
      "text/plain": [
       "   BuyItNow  startprice carrier       color   productline  \\\n",
       "0         0      199.99     NaN       White     Galaxy_S9   \n",
       "1         0      235.00     NaN         NaN  Galaxy_Note9   \n",
       "2         0      199.99     NaN         NaN       Unknown   \n",
       "3         1      175.00    AT&T  Space Gray  Galaxy_Note9   \n",
       "4         1      100.00     NaN  Space Gray     Galaxy_S8   \n",
       "\n",
       "          noDescription  charCountDescription  upperCaseDescription  sold  \n",
       "0  contains description                     0                     0     1  \n",
       "1  contains description                     0                     0     0  \n",
       "2        no description                   100                     2     0  \n",
       "3  contains description                     0                     0     1  \n",
       "4  contains description                     0                     0     1  "
      ]
     },
     "execution_count": 4,
     "metadata": {},
     "output_type": "execute_result"
    }
   ],
   "source": [
    "data.head()"
   ]
  },
  {
   "cell_type": "code",
   "execution_count": 5,
   "id": "3e5fbba8",
   "metadata": {},
   "outputs": [
    {
     "data": {
      "text/plain": [
       "Index(['BuyItNow', 'startprice', 'carrier', 'color', 'productline',\n",
       "       'noDescription', 'charCountDescription', 'upperCaseDescription',\n",
       "       'sold'],\n",
       "      dtype='object')"
      ]
     },
     "execution_count": 5,
     "metadata": {},
     "output_type": "execute_result"
    }
   ],
   "source": [
    "data.columns"
   ]
  },
  {
   "cell_type": "markdown",
   "id": "c2653977",
   "metadata": {},
   "source": [
    "### 미국 이베이 사이트의 삼성 휴대폰 판매 데이터\n",
    "* BuyItNow: 바로구매\n",
    "* startprice: 시작가격\n",
    "* carrier: 통신사\n",
    "* color: 휴대폰 색상\n",
    "* productline: 휴대폰 모델명\n",
    "* noDescription: 설명글 유무\n",
    "* charCountDescription: 설명글 길이\n",
    "* upperCaseDescription: 대문자 설명, 대문자로 표기 - 강조\n",
    "* sold: 판매 결과 - 종속변수, Target"
   ]
  },
  {
   "cell_type": "code",
   "execution_count": 6,
   "id": "2ad8ce96",
   "metadata": {},
   "outputs": [
    {
     "name": "stdout",
     "output_type": "stream",
     "text": [
      "<class 'pandas.core.frame.DataFrame'>\n",
      "RangeIndex: 1485 entries, 0 to 1484\n",
      "Data columns (total 9 columns):\n",
      " #   Column                Non-Null Count  Dtype  \n",
      "---  ------                --------------  -----  \n",
      " 0   BuyItNow              1485 non-null   int64  \n",
      " 1   startprice            1485 non-null   float64\n",
      " 2   carrier               316 non-null    object \n",
      " 3   color                 892 non-null    object \n",
      " 4   productline           1485 non-null   object \n",
      " 5   noDescription         1485 non-null   object \n",
      " 6   charCountDescription  1485 non-null   int64  \n",
      " 7   upperCaseDescription  1485 non-null   int64  \n",
      " 8   sold                  1485 non-null   int64  \n",
      "dtypes: float64(1), int64(4), object(4)\n",
      "memory usage: 104.5+ KB\n"
     ]
    }
   ],
   "source": [
    "data.info()"
   ]
  },
  {
   "cell_type": "code",
   "execution_count": 8,
   "id": "9ee7a588",
   "metadata": {},
   "outputs": [
    {
     "data": {
      "text/plain": [
       "BuyItNow                   0\n",
       "startprice                 0\n",
       "carrier                 1169\n",
       "color                    593\n",
       "productline                0\n",
       "noDescription              0\n",
       "charCountDescription       0\n",
       "upperCaseDescription       0\n",
       "sold                       0\n",
       "dtype: int64"
      ]
     },
     "execution_count": 8,
     "metadata": {},
     "output_type": "execute_result"
    }
   ],
   "source": [
    "data.isna().sum()"
   ]
  },
  {
   "cell_type": "code",
   "execution_count": 9,
   "id": "84687b8d",
   "metadata": {},
   "outputs": [],
   "source": [
    "data2 =data.copy()"
   ]
  },
  {
   "cell_type": "markdown",
   "id": "3e8d06cd",
   "metadata": {},
   "source": [
    "* 결측값 처리 - carrier와 color는 제품 구매에 영향을 미칠 수 있으므로 결측값을 unknown으로 처리"
   ]
  },
  {
   "cell_type": "code",
   "execution_count": 10,
   "id": "9fbe8937",
   "metadata": {},
   "outputs": [],
   "source": [
    "data = data.fillna(\"unknown\")"
   ]
  },
  {
   "cell_type": "code",
   "execution_count": 12,
   "id": "d62c0f41",
   "metadata": {},
   "outputs": [
    {
     "name": "stdout",
     "output_type": "stream",
     "text": [
      "<class 'pandas.core.frame.DataFrame'>\n",
      "RangeIndex: 1485 entries, 0 to 1484\n",
      "Data columns (total 9 columns):\n",
      " #   Column                Non-Null Count  Dtype  \n",
      "---  ------                --------------  -----  \n",
      " 0   BuyItNow              1485 non-null   int64  \n",
      " 1   startprice            1485 non-null   float64\n",
      " 2   carrier               1485 non-null   object \n",
      " 3   color                 1485 non-null   object \n",
      " 4   productline           1485 non-null   object \n",
      " 5   noDescription         1485 non-null   object \n",
      " 6   charCountDescription  1485 non-null   int64  \n",
      " 7   upperCaseDescription  1485 non-null   int64  \n",
      " 8   sold                  1485 non-null   int64  \n",
      "dtypes: float64(1), int64(4), object(4)\n",
      "memory usage: 104.5+ KB\n"
     ]
    }
   ],
   "source": [
    "data.info()"
   ]
  },
  {
   "cell_type": "markdown",
   "id": "305f9402",
   "metadata": {},
   "source": [
    "* EDA"
   ]
  },
  {
   "cell_type": "code",
   "execution_count": 13,
   "id": "e50ba4d4",
   "metadata": {},
   "outputs": [
    {
     "data": {
      "text/plain": [
       "BuyItNow\n",
       "0    818\n",
       "1    667\n",
       "Name: count, dtype: int64"
      ]
     },
     "execution_count": 13,
     "metadata": {},
     "output_type": "execute_result"
    }
   ],
   "source": [
    "data['BuyItNow'].value_counts()"
   ]
  },
  {
   "cell_type": "code",
   "execution_count": 15,
   "id": "0067afd2",
   "metadata": {},
   "outputs": [
    {
     "data": {
      "text/html": [
       "<div>\n",
       "<style scoped>\n",
       "    .dataframe tbody tr th:only-of-type {\n",
       "        vertical-align: middle;\n",
       "    }\n",
       "\n",
       "    .dataframe tbody tr th {\n",
       "        vertical-align: top;\n",
       "    }\n",
       "\n",
       "    .dataframe thead th {\n",
       "        text-align: right;\n",
       "    }\n",
       "</style>\n",
       "<table border=\"1\" class=\"dataframe\">\n",
       "  <thead>\n",
       "    <tr style=\"text-align: right;\">\n",
       "      <th></th>\n",
       "      <th>BuyItNow</th>\n",
       "      <th>startprice</th>\n",
       "      <th>charCountDescription</th>\n",
       "      <th>upperCaseDescription</th>\n",
       "      <th>sold</th>\n",
       "    </tr>\n",
       "  </thead>\n",
       "  <tbody>\n",
       "    <tr>\n",
       "      <th>count</th>\n",
       "      <td>1485.000000</td>\n",
       "      <td>1485.000000</td>\n",
       "      <td>1485.000000</td>\n",
       "      <td>1485.000000</td>\n",
       "      <td>1485.000000</td>\n",
       "    </tr>\n",
       "    <tr>\n",
       "      <th>mean</th>\n",
       "      <td>0.449158</td>\n",
       "      <td>216.844162</td>\n",
       "      <td>31.184512</td>\n",
       "      <td>2.863300</td>\n",
       "      <td>0.461953</td>\n",
       "    </tr>\n",
       "    <tr>\n",
       "      <th>std</th>\n",
       "      <td>0.497576</td>\n",
       "      <td>172.893308</td>\n",
       "      <td>41.744518</td>\n",
       "      <td>9.418585</td>\n",
       "      <td>0.498718</td>\n",
       "    </tr>\n",
       "    <tr>\n",
       "      <th>min</th>\n",
       "      <td>0.000000</td>\n",
       "      <td>0.010000</td>\n",
       "      <td>0.000000</td>\n",
       "      <td>0.000000</td>\n",
       "      <td>0.000000</td>\n",
       "    </tr>\n",
       "    <tr>\n",
       "      <th>25%</th>\n",
       "      <td>0.000000</td>\n",
       "      <td>80.000000</td>\n",
       "      <td>0.000000</td>\n",
       "      <td>0.000000</td>\n",
       "      <td>0.000000</td>\n",
       "    </tr>\n",
       "    <tr>\n",
       "      <th>50%</th>\n",
       "      <td>0.000000</td>\n",
       "      <td>198.000000</td>\n",
       "      <td>0.000000</td>\n",
       "      <td>0.000000</td>\n",
       "      <td>0.000000</td>\n",
       "    </tr>\n",
       "    <tr>\n",
       "      <th>75%</th>\n",
       "      <td>1.000000</td>\n",
       "      <td>310.000000</td>\n",
       "      <td>79.000000</td>\n",
       "      <td>2.000000</td>\n",
       "      <td>1.000000</td>\n",
       "    </tr>\n",
       "    <tr>\n",
       "      <th>max</th>\n",
       "      <td>1.000000</td>\n",
       "      <td>999.000000</td>\n",
       "      <td>111.000000</td>\n",
       "      <td>81.000000</td>\n",
       "      <td>1.000000</td>\n",
       "    </tr>\n",
       "  </tbody>\n",
       "</table>\n",
       "</div>"
      ],
      "text/plain": [
       "          BuyItNow   startprice  charCountDescription  upperCaseDescription  \\\n",
       "count  1485.000000  1485.000000           1485.000000           1485.000000   \n",
       "mean      0.449158   216.844162             31.184512              2.863300   \n",
       "std       0.497576   172.893308             41.744518              9.418585   \n",
       "min       0.000000     0.010000              0.000000              0.000000   \n",
       "25%       0.000000    80.000000              0.000000              0.000000   \n",
       "50%       0.000000   198.000000              0.000000              0.000000   \n",
       "75%       1.000000   310.000000             79.000000              2.000000   \n",
       "max       1.000000   999.000000            111.000000             81.000000   \n",
       "\n",
       "              sold  \n",
       "count  1485.000000  \n",
       "mean      0.461953  \n",
       "std       0.498718  \n",
       "min       0.000000  \n",
       "25%       0.000000  \n",
       "50%       0.000000  \n",
       "75%       1.000000  \n",
       "max       1.000000  "
      ]
     },
     "execution_count": 15,
     "metadata": {},
     "output_type": "execute_result"
    }
   ],
   "source": [
    "data.describe()"
   ]
  },
  {
   "cell_type": "code",
   "execution_count": 16,
   "id": "b02e4d22",
   "metadata": {},
   "outputs": [
    {
     "data": {
      "text/plain": [
       "<Axes: ylabel='Frequency'>"
      ]
     },
     "execution_count": 16,
     "metadata": {},
     "output_type": "execute_result"
    },
    {
     "data": {
      "image/png": "[encoded data removed]",
      "text/plain": [
       "<Figure size 640x480 with 1 Axes>"
      ]
     },
     "metadata": {},
     "output_type": "display_data"
    }
   ],
   "source": [
    "data['startprice'].plot(kind='hist')"
   ]
  },
  {
   "cell_type": "code",
   "execution_count": 17,
   "id": "9a6f7e44",
   "metadata": {},
   "outputs": [
    {
     "data": {
      "text/plain": [
       "<Axes: >"
      ]
     },
     "execution_count": 17,
     "metadata": {},
     "output_type": "execute_result"
    },
    {
     "data": {
      "image/png": "[encoded data removed]",
      "text/plain": [
       "<Figure size 640x480 with 1 Axes>"
      ]
     },
     "metadata": {},
     "output_type": "display_data"
    }
   ],
   "source": [
    "data['startprice'].plot(kind='box')"
   ]
  },
  {
   "cell_type": "code",
   "execution_count": 25,
   "id": "5a0964d0",
   "metadata": {},
   "outputs": [
    {
     "data": {
      "text/plain": [
       "<Axes: ylabel='Frequency'>"
      ]
     },
     "execution_count": 25,
     "metadata": {},
     "output_type": "execute_result"
    },
    {
     "data": {
      "image/png": "[encoded data removed]",
      "text/plain": [
       "<Figure size 640x480 with 1 Axes>"
      ]
     },
     "metadata": {},
     "output_type": "display_data"
    }
   ],
   "source": [
    "data['charCountDescription'].plot(kind='hist')"
   ]
  },
  {
   "cell_type": "code",
   "execution_count": 20,
   "id": "e8eeb6d5",
   "metadata": {},
   "outputs": [
    {
     "data": {
      "text/plain": [
       "carrier\n",
       "unknown            1169\n",
       "AT&T                177\n",
       "Verizon              87\n",
       "Sprint/T-Mobile      52\n",
       "Name: count, dtype: int64"
      ]
     },
     "execution_count": 20,
     "metadata": {},
     "output_type": "execute_result"
    }
   ],
   "source": [
    "data['carrier'].value_counts()"
   ]
  },
  {
   "cell_type": "code",
   "execution_count": 21,
   "id": "c2855512",
   "metadata": {},
   "outputs": [
    {
     "data": {
      "text/plain": [
       "color\n",
       "unknown           593\n",
       "White             328\n",
       "Midnight Black    274\n",
       "Space Gray        180\n",
       "Gold               52\n",
       "Black              38\n",
       "Aura Black         19\n",
       "Prism Black         1\n",
       "Name: count, dtype: int64"
      ]
     },
     "execution_count": 21,
     "metadata": {},
     "output_type": "execute_result"
    }
   ],
   "source": [
    "data['color'].value_counts()"
   ]
  },
  {
   "cell_type": "code",
   "execution_count": 22,
   "id": "829ba28f",
   "metadata": {},
   "outputs": [
    {
     "data": {
      "text/plain": [
       "productline\n",
       "Galaxy_Note10    351\n",
       "Galaxy_S8        277\n",
       "Galaxy_S7        227\n",
       "Unknown          204\n",
       "Galaxy_S9        158\n",
       "Galaxy_Note8     153\n",
       "Galaxy_Note9     107\n",
       "Galaxy_S10         8\n",
       "Name: count, dtype: int64"
      ]
     },
     "execution_count": 22,
     "metadata": {},
     "output_type": "execute_result"
    }
   ],
   "source": [
    "data['productline'].value_counts()"
   ]
  },
  {
   "cell_type": "code",
   "execution_count": 24,
   "id": "b92602a8",
   "metadata": {},
   "outputs": [
    {
     "data": {
      "text/plain": [
       "<Axes: ylabel='Frequency'>"
      ]
     },
     "execution_count": 24,
     "metadata": {},
     "output_type": "execute_result"
    },
    {
     "data": {
      "image/png": "[encoded data removed]",
      "text/plain": [
       "<Figure size 640x480 with 1 Axes>"
      ]
     },
     "metadata": {},
     "output_type": "display_data"
    }
   ],
   "source": [
    "data['upperCaseDescription'].plot(kind='hist')"
   ]
  },
  {
   "cell_type": "code",
   "execution_count": 26,
   "id": "42466c0e",
   "metadata": {},
   "outputs": [
    {
     "data": {
      "text/plain": [
       "noDescription\n",
       "contains description    856\n",
       "no description          629\n",
       "Name: count, dtype: int64"
      ]
     },
     "execution_count": 26,
     "metadata": {},
     "output_type": "execute_result"
    }
   ],
   "source": [
    "data['noDescription'].value_counts()"
   ]
  },
  {
   "cell_type": "markdown",
   "id": "73fb1045",
   "metadata": {},
   "source": [
    "* feature engineering"
   ]
  },
  {
   "cell_type": "code",
   "execution_count": 27,
   "id": "18f44829",
   "metadata": {},
   "outputs": [
    {
     "data": {
      "text/plain": [
       "color\n",
       "unknown           593\n",
       "White             328\n",
       "Midnight Black    274\n",
       "Space Gray        180\n",
       "Gold               52\n",
       "Black              38\n",
       "Aura Black         19\n",
       "Prism Black         1\n",
       "Name: count, dtype: int64"
      ]
     },
     "execution_count": 27,
     "metadata": {},
     "output_type": "execute_result"
    }
   ],
   "source": [
    "data['color'].value_counts()"
   ]
  },
  {
   "cell_type": "code",
   "execution_count": 28,
   "id": "6e0c9b28",
   "metadata": {},
   "outputs": [],
   "source": [
    "def black(x):\n",
    "    if 'Black' in x:\n",
    "        return 'Black'\n",
    "    else:\n",
    "        return x"
   ]
  },
  {
   "cell_type": "code",
   "execution_count": 31,
   "id": "8a891ffc",
   "metadata": {},
   "outputs": [],
   "source": [
    "data['color'] = data['color'].apply(lambda x: 'Black' if 'Black' in x else x)"
   ]
  },
  {
   "cell_type": "code",
   "execution_count": 32,
   "id": "1227a828",
   "metadata": {},
   "outputs": [
    {
     "data": {
      "text/plain": [
       "color\n",
       "unknown       593\n",
       "Black         332\n",
       "White         328\n",
       "Space Gray    180\n",
       "Gold           52\n",
       "Name: count, dtype: int64"
      ]
     },
     "execution_count": 32,
     "metadata": {},
     "output_type": "execute_result"
    }
   ],
   "source": [
    "data['color'].value_counts()"
   ]
  },
  {
   "cell_type": "code",
   "execution_count": 33,
   "id": "8f925635",
   "metadata": {},
   "outputs": [
    {
     "name": "stdout",
     "output_type": "stream",
     "text": [
      "<class 'pandas.core.frame.DataFrame'>\n",
      "RangeIndex: 1485 entries, 0 to 1484\n",
      "Data columns (total 9 columns):\n",
      " #   Column                Non-Null Count  Dtype  \n",
      "---  ------                --------------  -----  \n",
      " 0   BuyItNow              1485 non-null   int64  \n",
      " 1   startprice            1485 non-null   float64\n",
      " 2   carrier               1485 non-null   object \n",
      " 3   color                 1485 non-null   object \n",
      " 4   productline           1485 non-null   object \n",
      " 5   noDescription         1485 non-null   object \n",
      " 6   charCountDescription  1485 non-null   int64  \n",
      " 7   upperCaseDescription  1485 non-null   int64  \n",
      " 8   sold                  1485 non-null   int64  \n",
      "dtypes: float64(1), int64(4), object(4)\n",
      "memory usage: 104.5+ KB\n"
     ]
    }
   ],
   "source": [
    "data.info()"
   ]
  },
  {
   "cell_type": "code",
   "execution_count": 34,
   "id": "f58fe12f",
   "metadata": {},
   "outputs": [
    {
     "data": {
      "text/plain": [
       "BuyItNow  sold\n",
       "0         0       639\n",
       "          1       179\n",
       "1         0       160\n",
       "          1       507\n",
       "Name: count, dtype: int64"
      ]
     },
     "execution_count": 34,
     "metadata": {},
     "output_type": "execute_result"
    }
   ],
   "source": [
    "data.groupby(\"BuyItNow\")['sold'].value_counts(sort=False)"
   ]
  },
  {
   "cell_type": "code",
   "execution_count": 35,
   "id": "24b9b2c7",
   "metadata": {},
   "outputs": [
    {
     "data": {
      "text/plain": [
       "<Axes: xlabel='BuyItNow,sold'>"
      ]
     },
     "execution_count": 35,
     "metadata": {},
     "output_type": "execute_result"
    },
    {
     "data": {
      "image/png": "[encoded data removed]",
      "text/plain": [
       "<Figure size 640x480 with 1 Axes>"
      ]
     },
     "metadata": {},
     "output_type": "display_data"
    }
   ],
   "source": [
    "data.groupby(\"BuyItNow\")['sold'].value_counts(sort=False).plot(kind='bar')"
   ]
  },
  {
   "cell_type": "code",
   "execution_count": 37,
   "id": "7d535415",
   "metadata": {},
   "outputs": [
    {
     "data": {
      "text/plain": [
       "21.882640586797066"
      ]
     },
     "execution_count": 37,
     "metadata": {},
     "output_type": "execute_result"
    }
   ],
   "source": [
    "# buyit now가 0일때 sold\n",
    "179 / (179+639) * 100"
   ]
  },
  {
   "cell_type": "code",
   "execution_count": 38,
   "id": "f447fdc8",
   "metadata": {},
   "outputs": [
    {
     "data": {
      "text/plain": [
       "76.01199400299849"
      ]
     },
     "execution_count": 38,
     "metadata": {},
     "output_type": "execute_result"
    }
   ],
   "source": [
    "# buyit now가 1일때 sold\n",
    "507 / (507+160) * 100"
   ]
  },
  {
   "cell_type": "code",
   "execution_count": 42,
   "id": "0dfa4b53",
   "metadata": {},
   "outputs": [
    {
     "data": {
      "text/plain": [
       "<Axes: xlabel='carrier,sold'>"
      ]
     },
     "execution_count": 42,
     "metadata": {},
     "output_type": "execute_result"
    },
    {
     "data": {
      "image/png": "[encoded data removed]",
      "text/plain": [
       "<Figure size 640x480 with 1 Axes>"
      ]
     },
     "metadata": {},
     "output_type": "display_data"
    }
   ],
   "source": [
    "data.groupby(\"carrier\")['sold'].value_counts(sort=False).plot(kind='bar')"
   ]
  },
  {
   "cell_type": "code",
   "execution_count": 43,
   "id": "0036292c",
   "metadata": {},
   "outputs": [
    {
     "data": {
      "text/plain": [
       "<Axes: xlabel='color,sold'>"
      ]
     },
     "execution_count": 43,
     "metadata": {},
     "output_type": "execute_result"
    },
    {
     "data": {
      "image/png": "[encoded data removed]",
      "text/plain": [
       "<Figure size 640x480 with 1 Axes>"
      ]
     },
     "metadata": {},
     "output_type": "display_data"
    }
   ],
   "source": [
    "data.groupby(\"color\")['sold'].value_counts(sort=False).plot(kind='bar')"
   ]
  },
  {
   "cell_type": "code",
   "execution_count": 44,
   "id": "0f2a65e5",
   "metadata": {},
   "outputs": [
    {
     "data": {
      "text/plain": [
       "<Axes: xlabel='productline,sold'>"
      ]
     },
     "execution_count": 44,
     "metadata": {},
     "output_type": "execute_result"
    },
    {
     "data": {
      "image/png": "[encoded data removed]",
      "text/plain": [
       "<Figure size 640x480 with 1 Axes>"
      ]
     },
     "metadata": {},
     "output_type": "display_data"
    }
   ],
   "source": [
    "data.groupby(\"productline\")['sold'].value_counts(sort=False).plot(kind='bar')"
   ]
  },
  {
   "cell_type": "code",
   "execution_count": 45,
   "id": "f1fa8223",
   "metadata": {
    "scrolled": true
   },
   "outputs": [
    {
     "data": {
      "text/plain": [
       "<Axes: xlabel='noDescription,sold'>"
      ]
     },
     "execution_count": 45,
     "metadata": {},
     "output_type": "execute_result"
    },
    {
     "data": {
      "image/png": "[encoded data removed]",
      "text/plain": [
       "<Figure size 640x480 with 1 Axes>"
      ]
     },
     "metadata": {},
     "output_type": "display_data"
    }
   ],
   "source": [
    "data.groupby(\"noDescription\")['sold'].value_counts(sort=False).plot(kind='bar')"
   ]
  },
  {
   "cell_type": "code",
   "execution_count": 46,
   "id": "cbea5c3a",
   "metadata": {},
   "outputs": [
    {
     "data": {
      "text/plain": [
       "Index(['BuyItNow', 'startprice', 'carrier', 'color', 'productline',\n",
       "       'noDescription', 'charCountDescription', 'upperCaseDescription',\n",
       "       'sold'],\n",
       "      dtype='object')"
      ]
     },
     "execution_count": 46,
     "metadata": {},
     "output_type": "execute_result"
    }
   ],
   "source": [
    "data.columns"
   ]
  },
  {
   "cell_type": "code",
   "execution_count": 48,
   "id": "ec7bcbf3",
   "metadata": {},
   "outputs": [
    {
     "name": "stdout",
     "output_type": "stream",
     "text": [
      "<class 'pandas.core.frame.DataFrame'>\n",
      "RangeIndex: 1485 entries, 0 to 1484\n",
      "Data columns (total 9 columns):\n",
      " #   Column                Non-Null Count  Dtype  \n",
      "---  ------                --------------  -----  \n",
      " 0   BuyItNow              1485 non-null   int64  \n",
      " 1   startprice            1485 non-null   float64\n",
      " 2   carrier               1485 non-null   object \n",
      " 3   color                 1485 non-null   object \n",
      " 4   productline           1485 non-null   object \n",
      " 5   noDescription         1485 non-null   object \n",
      " 6   charCountDescription  1485 non-null   int64  \n",
      " 7   upperCaseDescription  1485 non-null   int64  \n",
      " 8   sold                  1485 non-null   int64  \n",
      "dtypes: float64(1), int64(4), object(4)\n",
      "memory usage: 104.5+ KB\n"
     ]
    }
   ],
   "source": [
    "data.info()"
   ]
  },
  {
   "cell_type": "code",
   "execution_count": 51,
   "id": "d5235fe5",
   "metadata": {},
   "outputs": [],
   "source": [
    "data = pd.get_dummies(data, columns=['carrier', 'color', 'productline', 'noDescription'], drop_first=True)"
   ]
  },
  {
   "cell_type": "code",
   "execution_count": 52,
   "id": "7d4502ff",
   "metadata": {},
   "outputs": [
    {
     "data": {
      "text/html": [
       "<div>\n",
       "<style scoped>\n",
       "    .dataframe tbody tr th:only-of-type {\n",
       "        vertical-align: middle;\n",
       "    }\n",
       "\n",
       "    .dataframe tbody tr th {\n",
       "        vertical-align: top;\n",
       "    }\n",
       "\n",
       "    .dataframe thead th {\n",
       "        text-align: right;\n",
       "    }\n",
       "</style>\n",
       "<table border=\"1\" class=\"dataframe\">\n",
       "  <thead>\n",
       "    <tr style=\"text-align: right;\">\n",
       "      <th></th>\n",
       "      <th>BuyItNow</th>\n",
       "      <th>startprice</th>\n",
       "      <th>charCountDescription</th>\n",
       "      <th>upperCaseDescription</th>\n",
       "      <th>sold</th>\n",
       "      <th>carrier_Sprint/T-Mobile</th>\n",
       "      <th>carrier_Verizon</th>\n",
       "      <th>carrier_unknown</th>\n",
       "      <th>color_Gold</th>\n",
       "      <th>color_Space Gray</th>\n",
       "      <th>color_White</th>\n",
       "      <th>color_unknown</th>\n",
       "      <th>productline_Galaxy_Note8</th>\n",
       "      <th>productline_Galaxy_Note9</th>\n",
       "      <th>productline_Galaxy_S10</th>\n",
       "      <th>productline_Galaxy_S7</th>\n",
       "      <th>productline_Galaxy_S8</th>\n",
       "      <th>productline_Galaxy_S9</th>\n",
       "      <th>productline_Unknown</th>\n",
       "      <th>noDescription_no description</th>\n",
       "    </tr>\n",
       "  </thead>\n",
       "  <tbody>\n",
       "    <tr>\n",
       "      <th>0</th>\n",
       "      <td>0</td>\n",
       "      <td>199.99</td>\n",
       "      <td>0</td>\n",
       "      <td>0</td>\n",
       "      <td>1</td>\n",
       "      <td>False</td>\n",
       "      <td>False</td>\n",
       "      <td>True</td>\n",
       "      <td>False</td>\n",
       "      <td>False</td>\n",
       "      <td>True</td>\n",
       "      <td>False</td>\n",
       "      <td>False</td>\n",
       "      <td>False</td>\n",
       "      <td>False</td>\n",
       "      <td>False</td>\n",
       "      <td>False</td>\n",
       "      <td>True</td>\n",
       "      <td>False</td>\n",
       "      <td>False</td>\n",
       "    </tr>\n",
       "    <tr>\n",
       "      <th>1</th>\n",
       "      <td>0</td>\n",
       "      <td>235.00</td>\n",
       "      <td>0</td>\n",
       "      <td>0</td>\n",
       "      <td>0</td>\n",
       "      <td>False</td>\n",
       "      <td>False</td>\n",
       "      <td>True</td>\n",
       "      <td>False</td>\n",
       "      <td>False</td>\n",
       "      <td>False</td>\n",
       "      <td>True</td>\n",
       "      <td>False</td>\n",
       "      <td>True</td>\n",
       "      <td>False</td>\n",
       "      <td>False</td>\n",
       "      <td>False</td>\n",
       "      <td>False</td>\n",
       "      <td>False</td>\n",
       "      <td>False</td>\n",
       "    </tr>\n",
       "    <tr>\n",
       "      <th>2</th>\n",
       "      <td>0</td>\n",
       "      <td>199.99</td>\n",
       "      <td>100</td>\n",
       "      <td>2</td>\n",
       "      <td>0</td>\n",
       "      <td>False</td>\n",
       "      <td>False</td>\n",
       "      <td>True</td>\n",
       "      <td>False</td>\n",
       "      <td>False</td>\n",
       "      <td>False</td>\n",
       "      <td>True</td>\n",
       "      <td>False</td>\n",
       "      <td>False</td>\n",
       "      <td>False</td>\n",
       "      <td>False</td>\n",
       "      <td>False</td>\n",
       "      <td>False</td>\n",
       "      <td>True</td>\n",
       "      <td>True</td>\n",
       "    </tr>\n",
       "    <tr>\n",
       "      <th>3</th>\n",
       "      <td>1</td>\n",
       "      <td>175.00</td>\n",
       "      <td>0</td>\n",
       "      <td>0</td>\n",
       "      <td>1</td>\n",
       "      <td>False</td>\n",
       "      <td>False</td>\n",
       "      <td>False</td>\n",
       "      <td>False</td>\n",
       "      <td>True</td>\n",
       "      <td>False</td>\n",
       "      <td>False</td>\n",
       "      <td>False</td>\n",
       "      <td>True</td>\n",
       "      <td>False</td>\n",
       "      <td>False</td>\n",
       "      <td>False</td>\n",
       "      <td>False</td>\n",
       "      <td>False</td>\n",
       "      <td>False</td>\n",
       "    </tr>\n",
       "    <tr>\n",
       "      <th>4</th>\n",
       "      <td>1</td>\n",
       "      <td>100.00</td>\n",
       "      <td>0</td>\n",
       "      <td>0</td>\n",
       "      <td>1</td>\n",
       "      <td>False</td>\n",
       "      <td>False</td>\n",
       "      <td>True</td>\n",
       "      <td>False</td>\n",
       "      <td>True</td>\n",
       "      <td>False</td>\n",
       "      <td>False</td>\n",
       "      <td>False</td>\n",
       "      <td>False</td>\n",
       "      <td>False</td>\n",
       "      <td>False</td>\n",
       "      <td>True</td>\n",
       "      <td>False</td>\n",
       "      <td>False</td>\n",
       "      <td>False</td>\n",
       "    </tr>\n",
       "  </tbody>\n",
       "</table>\n",
       "</div>"
      ],
      "text/plain": [
       "   BuyItNow  startprice  charCountDescription  upperCaseDescription  sold  \\\n",
       "0         0      199.99                     0                     0     1   \n",
       "1         0      235.00                     0                     0     0   \n",
       "2         0      199.99                   100                     2     0   \n",
       "3         1      175.00                     0                     0     1   \n",
       "4         1      100.00                     0                     0     1   \n",
       "\n",
       "   carrier_Sprint/T-Mobile  carrier_Verizon  carrier_unknown  color_Gold  \\\n",
       "0                    False            False             True       False   \n",
       "1                    False            False             True       False   \n",
       "2                    False            False             True       False   \n",
       "3                    False            False            False       False   \n",
       "4                    False            False             True       False   \n",
       "\n",
       "   color_Space Gray  color_White  color_unknown  productline_Galaxy_Note8  \\\n",
       "0             False         True          False                     False   \n",
       "1             False        False           True                     False   \n",
       "2             False        False           True                     False   \n",
       "3              True        False          False                     False   \n",
       "4              True        False          False                     False   \n",
       "\n",
       "   productline_Galaxy_Note9  productline_Galaxy_S10  productline_Galaxy_S7  \\\n",
       "0                     False                   False                  False   \n",
       "1                      True                   False                  False   \n",
       "2                     False                   False                  False   \n",
       "3                      True                   False                  False   \n",
       "4                     False                   False                  False   \n",
       "\n",
       "   productline_Galaxy_S8  productline_Galaxy_S9  productline_Unknown  \\\n",
       "0                  False                   True                False   \n",
       "1                  False                  False                False   \n",
       "2                  False                  False                 True   \n",
       "3                  False                  False                False   \n",
       "4                   True                  False                False   \n",
       "\n",
       "   noDescription_no description  \n",
       "0                         False  \n",
       "1                         False  \n",
       "2                          True  \n",
       "3                         False  \n",
       "4                         False  "
      ]
     },
     "execution_count": 52,
     "metadata": {},
     "output_type": "execute_result"
    }
   ],
   "source": [
    "data.head()"
   ]
  },
  {
   "cell_type": "code",
   "execution_count": 53,
   "id": "64257583",
   "metadata": {},
   "outputs": [],
   "source": [
    "X = data.drop('sold', axis=1)\n",
    "y = data['sold']"
   ]
  },
  {
   "cell_type": "code",
   "execution_count": 54,
   "id": "8ab1fcd5",
   "metadata": {},
   "outputs": [],
   "source": [
    "from sklearn.model_selection import train_test_split\n",
    "X_train, X_test, y_train, y_test = train_test_split(X, y, test_size= 0.2, random_state=10)"
   ]
  },
  {
   "cell_type": "code",
   "execution_count": 58,
   "id": "a13c6a36",
   "metadata": {},
   "outputs": [
    {
     "data": {
      "text/html": [
       "<div>\n",
       "<style scoped>\n",
       "    .dataframe tbody tr th:only-of-type {\n",
       "        vertical-align: middle;\n",
       "    }\n",
       "\n",
       "    .dataframe tbody tr th {\n",
       "        vertical-align: top;\n",
       "    }\n",
       "\n",
       "    .dataframe thead th {\n",
       "        text-align: right;\n",
       "    }\n",
       "</style>\n",
       "<table border=\"1\" class=\"dataframe\">\n",
       "  <thead>\n",
       "    <tr style=\"text-align: right;\">\n",
       "      <th></th>\n",
       "      <th>BuyItNow</th>\n",
       "      <th>startprice</th>\n",
       "      <th>charCountDescription</th>\n",
       "      <th>upperCaseDescription</th>\n",
       "      <th>carrier_Sprint/T-Mobile</th>\n",
       "      <th>carrier_Verizon</th>\n",
       "      <th>carrier_unknown</th>\n",
       "      <th>color_Gold</th>\n",
       "      <th>color_Space Gray</th>\n",
       "      <th>color_White</th>\n",
       "      <th>color_unknown</th>\n",
       "      <th>productline_Galaxy_Note8</th>\n",
       "      <th>productline_Galaxy_Note9</th>\n",
       "      <th>productline_Galaxy_S10</th>\n",
       "      <th>productline_Galaxy_S7</th>\n",
       "      <th>productline_Galaxy_S8</th>\n",
       "      <th>productline_Galaxy_S9</th>\n",
       "      <th>productline_Unknown</th>\n",
       "      <th>noDescription_no description</th>\n",
       "    </tr>\n",
       "  </thead>\n",
       "  <tbody>\n",
       "    <tr>\n",
       "      <th>1121</th>\n",
       "      <td>1</td>\n",
       "      <td>700.00</td>\n",
       "      <td>0</td>\n",
       "      <td>0</td>\n",
       "      <td>False</td>\n",
       "      <td>False</td>\n",
       "      <td>True</td>\n",
       "      <td>False</td>\n",
       "      <td>False</td>\n",
       "      <td>False</td>\n",
       "      <td>True</td>\n",
       "      <td>False</td>\n",
       "      <td>False</td>\n",
       "      <td>False</td>\n",
       "      <td>False</td>\n",
       "      <td>False</td>\n",
       "      <td>False</td>\n",
       "      <td>True</td>\n",
       "      <td>False</td>\n",
       "    </tr>\n",
       "    <tr>\n",
       "      <th>372</th>\n",
       "      <td>0</td>\n",
       "      <td>110.00</td>\n",
       "      <td>103</td>\n",
       "      <td>10</td>\n",
       "      <td>False</td>\n",
       "      <td>False</td>\n",
       "      <td>True</td>\n",
       "      <td>False</td>\n",
       "      <td>False</td>\n",
       "      <td>False</td>\n",
       "      <td>False</td>\n",
       "      <td>False</td>\n",
       "      <td>False</td>\n",
       "      <td>False</td>\n",
       "      <td>True</td>\n",
       "      <td>False</td>\n",
       "      <td>False</td>\n",
       "      <td>False</td>\n",
       "      <td>True</td>\n",
       "    </tr>\n",
       "    <tr>\n",
       "      <th>1129</th>\n",
       "      <td>0</td>\n",
       "      <td>300.00</td>\n",
       "      <td>0</td>\n",
       "      <td>0</td>\n",
       "      <td>False</td>\n",
       "      <td>False</td>\n",
       "      <td>True</td>\n",
       "      <td>False</td>\n",
       "      <td>False</td>\n",
       "      <td>True</td>\n",
       "      <td>False</td>\n",
       "      <td>False</td>\n",
       "      <td>False</td>\n",
       "      <td>False</td>\n",
       "      <td>False</td>\n",
       "      <td>False</td>\n",
       "      <td>False</td>\n",
       "      <td>False</td>\n",
       "      <td>False</td>\n",
       "    </tr>\n",
       "    <tr>\n",
       "      <th>1317</th>\n",
       "      <td>1</td>\n",
       "      <td>0.99</td>\n",
       "      <td>101</td>\n",
       "      <td>0</td>\n",
       "      <td>False</td>\n",
       "      <td>False</td>\n",
       "      <td>True</td>\n",
       "      <td>False</td>\n",
       "      <td>False</td>\n",
       "      <td>False</td>\n",
       "      <td>False</td>\n",
       "      <td>False</td>\n",
       "      <td>False</td>\n",
       "      <td>False</td>\n",
       "      <td>False</td>\n",
       "      <td>True</td>\n",
       "      <td>False</td>\n",
       "      <td>False</td>\n",
       "      <td>True</td>\n",
       "    </tr>\n",
       "    <tr>\n",
       "      <th>1109</th>\n",
       "      <td>0</td>\n",
       "      <td>339.99</td>\n",
       "      <td>0</td>\n",
       "      <td>0</td>\n",
       "      <td>True</td>\n",
       "      <td>False</td>\n",
       "      <td>False</td>\n",
       "      <td>False</td>\n",
       "      <td>False</td>\n",
       "      <td>False</td>\n",
       "      <td>False</td>\n",
       "      <td>False</td>\n",
       "      <td>False</td>\n",
       "      <td>False</td>\n",
       "      <td>False</td>\n",
       "      <td>True</td>\n",
       "      <td>False</td>\n",
       "      <td>False</td>\n",
       "      <td>False</td>\n",
       "    </tr>\n",
       "    <tr>\n",
       "      <th>...</th>\n",
       "      <td>...</td>\n",
       "      <td>...</td>\n",
       "      <td>...</td>\n",
       "      <td>...</td>\n",
       "      <td>...</td>\n",
       "      <td>...</td>\n",
       "      <td>...</td>\n",
       "      <td>...</td>\n",
       "      <td>...</td>\n",
       "      <td>...</td>\n",
       "      <td>...</td>\n",
       "      <td>...</td>\n",
       "      <td>...</td>\n",
       "      <td>...</td>\n",
       "      <td>...</td>\n",
       "      <td>...</td>\n",
       "      <td>...</td>\n",
       "      <td>...</td>\n",
       "      <td>...</td>\n",
       "    </tr>\n",
       "    <tr>\n",
       "      <th>188</th>\n",
       "      <td>1</td>\n",
       "      <td>150.00</td>\n",
       "      <td>0</td>\n",
       "      <td>0</td>\n",
       "      <td>False</td>\n",
       "      <td>False</td>\n",
       "      <td>False</td>\n",
       "      <td>False</td>\n",
       "      <td>False</td>\n",
       "      <td>False</td>\n",
       "      <td>False</td>\n",
       "      <td>True</td>\n",
       "      <td>False</td>\n",
       "      <td>False</td>\n",
       "      <td>False</td>\n",
       "      <td>False</td>\n",
       "      <td>False</td>\n",
       "      <td>False</td>\n",
       "      <td>False</td>\n",
       "    </tr>\n",
       "    <tr>\n",
       "      <th>1117</th>\n",
       "      <td>1</td>\n",
       "      <td>0.99</td>\n",
       "      <td>0</td>\n",
       "      <td>0</td>\n",
       "      <td>False</td>\n",
       "      <td>False</td>\n",
       "      <td>True</td>\n",
       "      <td>False</td>\n",
       "      <td>True</td>\n",
       "      <td>False</td>\n",
       "      <td>False</td>\n",
       "      <td>False</td>\n",
       "      <td>False</td>\n",
       "      <td>False</td>\n",
       "      <td>False</td>\n",
       "      <td>False</td>\n",
       "      <td>False</td>\n",
       "      <td>False</td>\n",
       "      <td>False</td>\n",
       "    </tr>\n",
       "    <tr>\n",
       "      <th>301</th>\n",
       "      <td>1</td>\n",
       "      <td>242.00</td>\n",
       "      <td>0</td>\n",
       "      <td>0</td>\n",
       "      <td>False</td>\n",
       "      <td>True</td>\n",
       "      <td>False</td>\n",
       "      <td>False</td>\n",
       "      <td>False</td>\n",
       "      <td>False</td>\n",
       "      <td>True</td>\n",
       "      <td>False</td>\n",
       "      <td>False</td>\n",
       "      <td>False</td>\n",
       "      <td>False</td>\n",
       "      <td>False</td>\n",
       "      <td>False</td>\n",
       "      <td>False</td>\n",
       "      <td>False</td>\n",
       "    </tr>\n",
       "    <tr>\n",
       "      <th>1462</th>\n",
       "      <td>0</td>\n",
       "      <td>429.00</td>\n",
       "      <td>0</td>\n",
       "      <td>0</td>\n",
       "      <td>False</td>\n",
       "      <td>False</td>\n",
       "      <td>True</td>\n",
       "      <td>False</td>\n",
       "      <td>False</td>\n",
       "      <td>True</td>\n",
       "      <td>False</td>\n",
       "      <td>False</td>\n",
       "      <td>False</td>\n",
       "      <td>False</td>\n",
       "      <td>False</td>\n",
       "      <td>False</td>\n",
       "      <td>False</td>\n",
       "      <td>False</td>\n",
       "      <td>False</td>\n",
       "    </tr>\n",
       "    <tr>\n",
       "      <th>344</th>\n",
       "      <td>1</td>\n",
       "      <td>250.00</td>\n",
       "      <td>0</td>\n",
       "      <td>0</td>\n",
       "      <td>False</td>\n",
       "      <td>False</td>\n",
       "      <td>False</td>\n",
       "      <td>False</td>\n",
       "      <td>False</td>\n",
       "      <td>False</td>\n",
       "      <td>False</td>\n",
       "      <td>True</td>\n",
       "      <td>False</td>\n",
       "      <td>False</td>\n",
       "      <td>False</td>\n",
       "      <td>False</td>\n",
       "      <td>False</td>\n",
       "      <td>False</td>\n",
       "      <td>False</td>\n",
       "    </tr>\n",
       "  </tbody>\n",
       "</table>\n",
       "<p>297 rows × 19 columns</p>\n",
       "</div>"
      ],
      "text/plain": [
       "      BuyItNow  startprice  charCountDescription  upperCaseDescription  \\\n",
       "1121         1      700.00                     0                     0   \n",
       "372          0      110.00                   103                    10   \n",
       "1129         0      300.00                     0                     0   \n",
       "1317         1        0.99                   101                     0   \n",
       "1109         0      339.99                     0                     0   \n",
       "...        ...         ...                   ...                   ...   \n",
       "188          1      150.00                     0                     0   \n",
       "1117         1        0.99                     0                     0   \n",
       "301          1      242.00                     0                     0   \n",
       "1462         0      429.00                     0                     0   \n",
       "344          1      250.00                     0                     0   \n",
       "\n",
       "      carrier_Sprint/T-Mobile  carrier_Verizon  carrier_unknown  color_Gold  \\\n",
       "1121                    False            False             True       False   \n",
       "372                     False            False             True       False   \n",
       "1129                    False            False             True       False   \n",
       "1317                    False            False             True       False   \n",
       "1109                     True            False            False       False   \n",
       "...                       ...              ...              ...         ...   \n",
       "188                     False            False            False       False   \n",
       "1117                    False            False             True       False   \n",
       "301                     False             True            False       False   \n",
       "1462                    False            False             True       False   \n",
       "344                     False            False            False       False   \n",
       "\n",
       "      color_Space Gray  color_White  color_unknown  productline_Galaxy_Note8  \\\n",
       "1121             False        False           True                     False   \n",
       "372              False        False          False                     False   \n",
       "1129             False         True          False                     False   \n",
       "1317             False        False          False                     False   \n",
       "1109             False        False          False                     False   \n",
       "...                ...          ...            ...                       ...   \n",
       "188              False        False          False                      True   \n",
       "1117              True        False          False                     False   \n",
       "301              False        False           True                     False   \n",
       "1462             False         True          False                     False   \n",
       "344              False        False          False                      True   \n",
       "\n",
       "      productline_Galaxy_Note9  productline_Galaxy_S10  productline_Galaxy_S7  \\\n",
       "1121                     False                   False                  False   \n",
       "372                      False                   False                   True   \n",
       "1129                     False                   False                  False   \n",
       "1317                     False                   False                  False   \n",
       "1109                     False                   False                  False   \n",
       "...                        ...                     ...                    ...   \n",
       "188                      False                   False                  False   \n",
       "1117                     False                   False                  False   \n",
       "301                      False                   False                  False   \n",
       "1462                     False                   False                  False   \n",
       "344                      False                   False                  False   \n",
       "\n",
       "      productline_Galaxy_S8  productline_Galaxy_S9  productline_Unknown  \\\n",
       "1121                  False                  False                 True   \n",
       "372                   False                  False                False   \n",
       "1129                  False                  False                False   \n",
       "1317                   True                  False                False   \n",
       "1109                   True                  False                False   \n",
       "...                     ...                    ...                  ...   \n",
       "188                   False                  False                False   \n",
       "1117                  False                  False                False   \n",
       "301                   False                  False                False   \n",
       "1462                  False                  False                False   \n",
       "344                   False                  False                False   \n",
       "\n",
       "      noDescription_no description  \n",
       "1121                         False  \n",
       "372                           True  \n",
       "1129                         False  \n",
       "1317                          True  \n",
       "1109                         False  \n",
       "...                            ...  \n",
       "188                          False  \n",
       "1117                         False  \n",
       "301                          False  \n",
       "1462                         False  \n",
       "344                          False  \n",
       "\n",
       "[297 rows x 19 columns]"
      ]
     },
     "execution_count": 58,
     "metadata": {},
     "output_type": "execute_result"
    }
   ],
   "source": [
    "X_test"
   ]
  },
  {
   "cell_type": "code",
   "execution_count": 55,
   "id": "099c0324",
   "metadata": {},
   "outputs": [],
   "source": [
    "from sklearn.tree import DecisionTreeClassifier"
   ]
  },
  {
   "cell_type": "code",
   "execution_count": 59,
   "id": "3d65f2be",
   "metadata": {},
   "outputs": [],
   "source": [
    "model = DecisionTreeClassifier(max_depth=5, random_state=10)\n",
    "model.fit(X_train, y_train)\n",
    "pred = model.predict(X_test)"
   ]
  },
  {
   "cell_type": "code",
   "execution_count": 61,
   "id": "4c0d3366",
   "metadata": {},
   "outputs": [],
   "source": [
    "from sklearn.metrics import accuracy_score, confusion_matrix, classification_report"
   ]
  },
  {
   "cell_type": "code",
   "execution_count": 62,
   "id": "82f1a314",
   "metadata": {},
   "outputs": [
    {
     "name": "stdout",
     "output_type": "stream",
     "text": [
      "0.7508417508417509\n",
      "[[123  25]\n",
      " [ 49 100]]\n",
      "              precision    recall  f1-score   support\n",
      "\n",
      "           0       0.72      0.83      0.77       148\n",
      "           1       0.80      0.67      0.73       149\n",
      "\n",
      "    accuracy                           0.75       297\n",
      "   macro avg       0.76      0.75      0.75       297\n",
      "weighted avg       0.76      0.75      0.75       297\n",
      "\n"
     ]
    }
   ],
   "source": [
    "print(accuracy_score(y_test, pred))\n",
    "print(confusion_matrix(y_test, pred))\n",
    "print(classification_report(y_test, pred))"
   ]
  },
  {
   "cell_type": "code",
   "execution_count": 63,
   "id": "ecbff9ae",
   "metadata": {},
   "outputs": [
    {
     "name": "stdout",
     "output_type": "stream",
     "text": [
      "1 0.7912457912457912\n",
      "2 0.7171717171717171\n",
      "3 0.7407407407407407\n",
      "4 0.7272727272727273\n",
      "5 0.7508417508417509\n",
      "6 0.7609427609427609\n",
      "7 0.7441077441077442\n",
      "8 0.7441077441077442\n",
      "9 0.7508417508417509\n"
     ]
    }
   ],
   "source": [
    "for i in range(1,10):\n",
    "    model = DecisionTreeClassifier(max_depth=i, random_state=10)\n",
    "    model.fit(X_train, y_train)\n",
    "    pred = model.predict(X_test)\n",
    "    print(i, accuracy_score(y_test, pred))"
   ]
  },
  {
   "cell_type": "code",
   "execution_count": 85,
   "id": "792efa55",
   "metadata": {},
   "outputs": [
    {
     "name": "stdout",
     "output_type": "stream",
     "text": [
      "9 0.7407407407407407\n",
      "[[132  16]\n",
      " [ 61  88]]\n",
      "              precision    recall  f1-score   support\n",
      "\n",
      "           0       0.68      0.89      0.77       148\n",
      "           1       0.85      0.59      0.70       149\n",
      "\n",
      "    accuracy                           0.74       297\n",
      "   macro avg       0.77      0.74      0.73       297\n",
      "weighted avg       0.77      0.74      0.73       297\n",
      "\n"
     ]
    }
   ],
   "source": [
    "model = DecisionTreeClassifier(max_depth=3, random_state=10)\n",
    "model.fit(X_train, y_train)\n",
    "pred = model.predict(X_test)\n",
    "print(i, accuracy_score(y_test, pred))\n",
    "print(confusion_matrix(y_test, pred))\n",
    "print(classification_report(y_test, pred))"
   ]
  },
  {
   "cell_type": "markdown",
   "id": "e792b6b8",
   "metadata": {},
   "source": [
    "* 중요 변수 추출하기 \n"
   ]
  },
  {
   "cell_type": "code",
   "execution_count": 86,
   "id": "1e6a15ab",
   "metadata": {},
   "outputs": [
    {
     "data": {
      "text/plain": [
       "array([0, 0, 0], dtype=int64)"
      ]
     },
     "execution_count": 86,
     "metadata": {},
     "output_type": "execute_result"
    }
   ],
   "source": [
    "pred[:3]"
   ]
  },
  {
   "cell_type": "code",
   "execution_count": 87,
   "id": "db570125",
   "metadata": {
    "scrolled": false
   },
   "outputs": [
    {
     "name": "stdout",
     "output_type": "stream",
     "text": [
      "[[0.62162162 0.37837838]\n",
      " [0.74708171 0.25291829]\n",
      " [0.83986928 0.16013072]]\n"
     ]
    }
   ],
   "source": [
    "print(model.predict_proba(X_test)[:3])"
   ]
  },
  {
   "cell_type": "code",
   "execution_count": 88,
   "id": "53c05ecc",
   "metadata": {},
   "outputs": [
    {
     "data": {
      "text/plain": [
       "array(['BuyItNow', 'startprice', 'charCountDescription',\n",
       "       'upperCaseDescription', 'carrier_Sprint/T-Mobile',\n",
       "       'carrier_Verizon', 'carrier_unknown', 'color_Gold',\n",
       "       'color_Space Gray', 'color_White', 'color_unknown',\n",
       "       'productline_Galaxy_Note8', 'productline_Galaxy_Note9',\n",
       "       'productline_Galaxy_S10', 'productline_Galaxy_S7',\n",
       "       'productline_Galaxy_S8', 'productline_Galaxy_S9',\n",
       "       'productline_Unknown', 'noDescription_no description'],\n",
       "      dtype=object)"
      ]
     },
     "execution_count": 88,
     "metadata": {},
     "output_type": "execute_result"
    }
   ],
   "source": [
    "model.feature_names_in_"
   ]
  },
  {
   "cell_type": "code",
   "execution_count": 89,
   "id": "789f196c",
   "metadata": {},
   "outputs": [
    {
     "data": {
      "text/plain": [
       "array([0.72109539, 0.25294678, 0.        , 0.00687853, 0.        ,\n",
       "       0.        , 0.0190793 , 0.        , 0.        , 0.        ,\n",
       "       0.        , 0.        , 0.        , 0.        , 0.        ,\n",
       "       0.        , 0.        , 0.        , 0.        ])"
      ]
     },
     "execution_count": 89,
     "metadata": {},
     "output_type": "execute_result"
    }
   ],
   "source": [
    "model.feature_importances_"
   ]
  },
  {
   "cell_type": "code",
   "execution_count": 90,
   "id": "5ad06a0f",
   "metadata": {},
   "outputs": [],
   "source": [
    "importance = pd.DataFrame(model.feature_importances_, columns=['importance'], index=model.feature_names_in_)"
   ]
  },
  {
   "cell_type": "code",
   "execution_count": 91,
   "id": "639b7f56",
   "metadata": {},
   "outputs": [
    {
     "data": {
      "text/html": [
       "<div>\n",
       "<style scoped>\n",
       "    .dataframe tbody tr th:only-of-type {\n",
       "        vertical-align: middle;\n",
       "    }\n",
       "\n",
       "    .dataframe tbody tr th {\n",
       "        vertical-align: top;\n",
       "    }\n",
       "\n",
       "    .dataframe thead th {\n",
       "        text-align: right;\n",
       "    }\n",
       "</style>\n",
       "<table border=\"1\" class=\"dataframe\">\n",
       "  <thead>\n",
       "    <tr style=\"text-align: right;\">\n",
       "      <th></th>\n",
       "      <th>importance</th>\n",
       "    </tr>\n",
       "  </thead>\n",
       "  <tbody>\n",
       "    <tr>\n",
       "      <th>BuyItNow</th>\n",
       "      <td>0.721095</td>\n",
       "    </tr>\n",
       "    <tr>\n",
       "      <th>startprice</th>\n",
       "      <td>0.252947</td>\n",
       "    </tr>\n",
       "    <tr>\n",
       "      <th>charCountDescription</th>\n",
       "      <td>0.000000</td>\n",
       "    </tr>\n",
       "    <tr>\n",
       "      <th>upperCaseDescription</th>\n",
       "      <td>0.006879</td>\n",
       "    </tr>\n",
       "    <tr>\n",
       "      <th>carrier_Sprint/T-Mobile</th>\n",
       "      <td>0.000000</td>\n",
       "    </tr>\n",
       "    <tr>\n",
       "      <th>carrier_Verizon</th>\n",
       "      <td>0.000000</td>\n",
       "    </tr>\n",
       "    <tr>\n",
       "      <th>carrier_unknown</th>\n",
       "      <td>0.019079</td>\n",
       "    </tr>\n",
       "    <tr>\n",
       "      <th>color_Gold</th>\n",
       "      <td>0.000000</td>\n",
       "    </tr>\n",
       "    <tr>\n",
       "      <th>color_Space Gray</th>\n",
       "      <td>0.000000</td>\n",
       "    </tr>\n",
       "    <tr>\n",
       "      <th>color_White</th>\n",
       "      <td>0.000000</td>\n",
       "    </tr>\n",
       "    <tr>\n",
       "      <th>color_unknown</th>\n",
       "      <td>0.000000</td>\n",
       "    </tr>\n",
       "    <tr>\n",
       "      <th>productline_Galaxy_Note8</th>\n",
       "      <td>0.000000</td>\n",
       "    </tr>\n",
       "    <tr>\n",
       "      <th>productline_Galaxy_Note9</th>\n",
       "      <td>0.000000</td>\n",
       "    </tr>\n",
       "    <tr>\n",
       "      <th>productline_Galaxy_S10</th>\n",
       "      <td>0.000000</td>\n",
       "    </tr>\n",
       "    <tr>\n",
       "      <th>productline_Galaxy_S7</th>\n",
       "      <td>0.000000</td>\n",
       "    </tr>\n",
       "    <tr>\n",
       "      <th>productline_Galaxy_S8</th>\n",
       "      <td>0.000000</td>\n",
       "    </tr>\n",
       "    <tr>\n",
       "      <th>productline_Galaxy_S9</th>\n",
       "      <td>0.000000</td>\n",
       "    </tr>\n",
       "    <tr>\n",
       "      <th>productline_Unknown</th>\n",
       "      <td>0.000000</td>\n",
       "    </tr>\n",
       "    <tr>\n",
       "      <th>noDescription_no description</th>\n",
       "      <td>0.000000</td>\n",
       "    </tr>\n",
       "  </tbody>\n",
       "</table>\n",
       "</div>"
      ],
      "text/plain": [
       "                              importance\n",
       "BuyItNow                        0.721095\n",
       "startprice                      0.252947\n",
       "charCountDescription            0.000000\n",
       "upperCaseDescription            0.006879\n",
       "carrier_Sprint/T-Mobile         0.000000\n",
       "carrier_Verizon                 0.000000\n",
       "carrier_unknown                 0.019079\n",
       "color_Gold                      0.000000\n",
       "color_Space Gray                0.000000\n",
       "color_White                     0.000000\n",
       "color_unknown                   0.000000\n",
       "productline_Galaxy_Note8        0.000000\n",
       "productline_Galaxy_Note9        0.000000\n",
       "productline_Galaxy_S10          0.000000\n",
       "productline_Galaxy_S7           0.000000\n",
       "productline_Galaxy_S8           0.000000\n",
       "productline_Galaxy_S9           0.000000\n",
       "productline_Unknown             0.000000\n",
       "noDescription_no description    0.000000"
      ]
     },
     "execution_count": 91,
     "metadata": {},
     "output_type": "execute_result"
    }
   ],
   "source": [
    "importance"
   ]
  },
  {
   "cell_type": "code",
   "execution_count": 82,
   "id": "8799d956",
   "metadata": {},
   "outputs": [
    {
     "data": {
      "text/plain": [
       "array(['BuyItNow', 'startprice', 'charCountDescription',\n",
       "       'upperCaseDescription', 'carrier_Sprint/T-Mobile',\n",
       "       'carrier_Verizon', 'carrier_unknown', 'color_Gold',\n",
       "       'color_Space Gray', 'color_White', 'color_unknown',\n",
       "       'productline_Galaxy_Note8', 'productline_Galaxy_Note9',\n",
       "       'productline_Galaxy_S10', 'productline_Galaxy_S7',\n",
       "       'productline_Galaxy_S8', 'productline_Galaxy_S9',\n",
       "       'productline_Unknown', 'noDescription_no description'],\n",
       "      dtype=object)"
      ]
     },
     "execution_count": 82,
     "metadata": {},
     "output_type": "execute_result"
    }
   ],
   "source": [
    "model.feature_names_in_"
   ]
  },
  {
   "cell_type": "code",
   "execution_count": 92,
   "id": "49ca3258",
   "metadata": {
    "scrolled": true
   },
   "outputs": [
    {
     "data": {
      "text/plain": [
       "[Text(0.5, 0.875, 'BuyItNow <= 0.5\\ngini = 0.495\\nsamples = 1188\\nvalue = [651, 537]'),\n",
       " Text(0.25, 0.625, 'startprice <= 251.44\\ngini = 0.339\\nsamples = 660\\nvalue = [517, 143]'),\n",
       " Text(0.125, 0.375, 'carrier_unknown <= 0.5\\ngini = 0.415\\nsamples = 320\\nvalue = [226, 94]'),\n",
       " Text(0.0625, 0.125, 'gini = 0.497\\nsamples = 63\\nvalue = [34, 29]'),\n",
       " Text(0.1875, 0.125, 'gini = 0.378\\nsamples = 257\\nvalue = [192, 65]'),\n",
       " Text(0.375, 0.375, 'upperCaseDescription <= 6.5\\ngini = 0.247\\nsamples = 340\\nvalue = [291, 49]'),\n",
       " Text(0.3125, 0.125, 'gini = 0.269\\nsamples = 306\\nvalue = [257, 49]'),\n",
       " Text(0.4375, 0.125, 'gini = 0.0\\nsamples = 34\\nvalue = [34, 0]'),\n",
       " Text(0.75, 0.625, 'startprice <= 142.475\\ngini = 0.379\\nsamples = 528\\nvalue = [134, 394]'),\n",
       " Text(0.625, 0.375, 'startprice <= 3.0\\ngini = 0.187\\nsamples = 335\\nvalue = [35, 300]'),\n",
       " Text(0.5625, 0.125, 'gini = 0.0\\nsamples = 104\\nvalue = [0, 104]'),\n",
       " Text(0.6875, 0.125, 'gini = 0.257\\nsamples = 231\\nvalue = [35, 196]'),\n",
       " Text(0.875, 0.375, 'startprice <= 205.0\\ngini = 0.5\\nsamples = 193\\nvalue = [99, 94]'),\n",
       " Text(0.8125, 0.125, 'gini = 0.464\\nsamples = 82\\nvalue = [30, 52]'),\n",
       " Text(0.9375, 0.125, 'gini = 0.47\\nsamples = 111\\nvalue = [69, 42]')]"
      ]
     },
     "execution_count": 92,
     "metadata": {},
     "output_type": "execute_result"
    },
    {
     "data": {
      "image/png": "[encoded data removed]",
      "text/plain": [
       "<Figure size 2000x1000 with 1 Axes>"
      ]
     },
     "metadata": {},
     "output_type": "display_data"
    }
   ],
   "source": [
    "from sklearn.tree import plot_tree\n",
    "plt.figure(figsize=(20,10))\n",
    "plot_tree(model, max_depth=3, feature_names=list(model.feature_names_in_), precision=3, fontsize=15)"
   ]
  },
  {
   "cell_type": "code",
   "execution_count": null,
   "id": "9db74aa4",
   "metadata": {},
   "outputs": [],
   "source": []
  },
  {
   "cell_type": "code",
   "execution_count": null,
   "id": "1b1a3350",
   "metadata": {},
   "outputs": [],
   "source": []
  },
  {
   "cell_type": "code",
   "execution_count": null,
   "id": "46eebb94",
   "metadata": {},
   "outputs": [],
   "source": []
  },
  {
   "cell_type": "code",
   "execution_count": null,
   "id": "3580ae83",
   "metadata": {},
   "outputs": [],
   "source": []
  },
  {
   "cell_type": "code",
   "execution_count": null,
   "id": "88ab7713",
   "metadata": {},
   "outputs": [],
   "source": []
  }
 ],
 "metadata": {
  "kernelspec": {
   "display_name": "testenv",
   "language": "python",
   "name": "testenv"
  },
  "language_info": {
   "codemirror_mode": {
    "name": "ipython",
    "version": 3
   },
   "file_extension": ".py",
   "mimetype": "text/x-python",
   "name": "python",
   "nbconvert_exporter": "python",
   "pygments_lexer": "ipython3",
   "version": "3.8.17"
  }
 },
 "nbformat": 4,
 "nbformat_minor": 5
}
