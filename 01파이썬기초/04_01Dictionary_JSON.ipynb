{
 "cells": [
  {
   "cell_type": "markdown",
   "metadata": {},
   "source": [
    "# 딕셔너리(JSON) 사용하기"
   ]
  },
  {
   "cell_type": "markdown",
   "metadata": {},
   "source": [
    "### 딕셔너리형(Dictionary) 변수 JSON(제이슨) 형이라고도 함 - 데이터 분석에서 가장 많이 사용되는 자료형2 "
   ]
  },
  {
   "cell_type": "markdown",
   "metadata": {},
   "source": [
    "Key : Value 형태의 자료형으로 나중에 API를 이용해 자료를 수집하면 대부분 JSON(Python에서 딕셔너리) 형태로 받게 되므로 반드시 사용법에 익숙해져야한다."
   ]
  },
  {
   "cell_type": "markdown",
   "metadata": {},
   "source": [
    "## 1. 딕셔너리 만들기: {키 : 값, 키 : 값, 키 :  값} 형식"
   ]
  },
  {
   "cell_type": "code",
   "execution_count": 145,
   "metadata": {
    "ExecuteTime": {
     "end_time": "2021-09-17T02:59:34.379513Z",
     "start_time": "2021-09-17T02:59:34.359554Z"
    }
   },
   "outputs": [
    {
     "data": {
      "text/plain": [
       "{'년월': '202002', '국가': '미국', '방문자수': 1000}"
      ]
     },
     "execution_count": 145,
     "metadata": {},
     "output_type": "execute_result"
    }
   ],
   "source": [
    "D = {'년월' : '202002', '국가' : '미국', '방문자수' : 1000 }\n",
    "D"
   ]
  },
  {
   "cell_type": "code",
   "execution_count": 146,
   "metadata": {
    "ExecuteTime": {
     "end_time": "2021-09-17T02:59:34.395487Z",
     "start_time": "2021-09-17T02:59:34.381494Z"
    }
   },
   "outputs": [
    {
     "data": {
      "text/plain": [
       "'202002'"
      ]
     },
     "execution_count": 146,
     "metadata": {},
     "output_type": "execute_result"
    }
   ],
   "source": [
    "D['년월']"
   ]
  },
  {
   "cell_type": "code",
   "execution_count": 147,
   "metadata": {
    "ExecuteTime": {
     "end_time": "2021-09-17T02:59:34.411442Z",
     "start_time": "2021-09-17T02:59:34.397452Z"
    }
   },
   "outputs": [
    {
     "data": {
      "text/plain": [
       "'미국'"
      ]
     },
     "execution_count": 147,
     "metadata": {},
     "output_type": "execute_result"
    }
   ],
   "source": [
    "D['국가']"
   ]
  },
  {
   "cell_type": "code",
   "execution_count": 148,
   "metadata": {
    "ExecuteTime": {
     "end_time": "2021-09-17T02:59:34.427398Z",
     "start_time": "2021-09-17T02:59:34.413414Z"
    }
   },
   "outputs": [
    {
     "data": {
      "text/plain": [
       "1000"
      ]
     },
     "execution_count": 148,
     "metadata": {},
     "output_type": "execute_result"
    }
   ],
   "source": [
    "D['방문자수']"
   ]
  },
  {
   "cell_type": "markdown",
   "metadata": {},
   "source": [
    "## 2. 딕셔너리 키의 자료형"
   ]
  },
  {
   "cell_type": "markdown",
   "metadata": {},
   "source": [
    "### 문자열, 정수, 실수, 블린(참, 거짓)\n",
    "### 리스트와 딕셔너리는 사용할 수 없다."
   ]
  },
  {
   "cell_type": "code",
   "execution_count": 149,
   "metadata": {
    "ExecuteTime": {
     "end_time": "2021-09-17T02:59:34.443331Z",
     "start_time": "2021-09-17T02:59:34.429370Z"
    }
   },
   "outputs": [
    {
     "data": {
      "text/plain": [
       "{100: 'hundred', False: 0, 3.5: [3.5, 3.5]}"
      ]
     },
     "execution_count": 149,
     "metadata": {},
     "output_type": "execute_result"
    }
   ],
   "source": [
    "x = {100: 'hundred', False: 0, 3.5: [3.5, 3.5]}\n",
    "x"
   ]
  },
  {
   "cell_type": "markdown",
   "metadata": {},
   "source": [
    "### 키 값이 중복되면 뒤에 오는 키의 값이 출력된다."
   ]
  },
  {
   "cell_type": "code",
   "execution_count": 150,
   "metadata": {
    "ExecuteTime": {
     "end_time": "2021-09-17T02:59:34.459287Z",
     "start_time": "2021-09-17T02:59:34.445327Z"
    }
   },
   "outputs": [
    {
     "data": {
      "text/plain": [
       "{100: '백', False: 0, 3.5: [3.5, 3.5]}"
      ]
     },
     "execution_count": 150,
     "metadata": {},
     "output_type": "execute_result"
    }
   ],
   "source": [
    "x = {100: 'hundred', 100 : '백', False: 0, 3.5: [3.5, 3.5]}\n",
    "x"
   ]
  },
  {
   "cell_type": "code",
   "execution_count": 151,
   "metadata": {
    "ExecuteTime": {
     "end_time": "2021-09-17T02:59:34.475271Z",
     "start_time": "2021-09-17T02:59:34.461287Z"
    }
   },
   "outputs": [
    {
     "data": {
      "text/plain": [
       "'백'"
      ]
     },
     "execution_count": 151,
     "metadata": {},
     "output_type": "execute_result"
    }
   ],
   "source": [
    "x[100]"
   ]
  },
  {
   "cell_type": "markdown",
   "metadata": {},
   "source": [
    "## 3. 딕셔너리 값의 자료형"
   ]
  },
  {
   "cell_type": "markdown",
   "metadata": {},
   "source": [
    "###  딕셔너리 값에는 모든 자료형이 올 수 있다."
   ]
  },
  {
   "cell_type": "code",
   "execution_count": 152,
   "metadata": {
    "ExecuteTime": {
     "end_time": "2021-09-17T02:59:34.491233Z",
     "start_time": "2021-09-17T02:59:34.477265Z"
    }
   },
   "outputs": [
    {
     "data": {
      "text/plain": [
       "{'정수': 100,\n",
       " '실수': 13.5,\n",
       " '문자열': '딕셔너리의 값',\n",
       " '리스트': [1, 2, 3, 4],\n",
       " '튜플': (5, 6, 7, 8),\n",
       " '딕셔너리': {'key': 'value'},\n",
       " '블린': True}"
      ]
     },
     "execution_count": 152,
     "metadata": {},
     "output_type": "execute_result"
    }
   ],
   "source": [
    "y = {'정수' :  100, '실수' : 13.5, '문자열' : '딕셔너리의 값', '리스트' : [1,2,3,4], '튜플' : (5,6,7,8), '딕셔너리' : {'key' : 'value'}, '블린' : True}\n",
    "y"
   ]
  },
  {
   "cell_type": "markdown",
   "metadata": {},
   "source": [
    "## 4. 빈 딕셔너리 만들기 d = {}, d = dict()"
   ]
  },
  {
   "cell_type": "code",
   "execution_count": 153,
   "metadata": {
    "ExecuteTime": {
     "end_time": "2021-09-17T02:59:34.507177Z",
     "start_time": "2021-09-17T02:59:34.494193Z"
    }
   },
   "outputs": [
    {
     "data": {
      "text/plain": [
       "{}"
      ]
     },
     "execution_count": 153,
     "metadata": {},
     "output_type": "execute_result"
    }
   ],
   "source": [
    "d = {}\n",
    "d"
   ]
  },
  {
   "cell_type": "code",
   "execution_count": 154,
   "metadata": {
    "ExecuteTime": {
     "end_time": "2021-09-17T02:59:34.523136Z",
     "start_time": "2021-09-17T02:59:34.508156Z"
    }
   },
   "outputs": [
    {
     "data": {
      "text/plain": [
       "{}"
      ]
     },
     "execution_count": 154,
     "metadata": {},
     "output_type": "execute_result"
    }
   ],
   "source": [
    "d2 = dict()\n",
    "d2"
   ]
  },
  {
   "cell_type": "markdown",
   "metadata": {},
   "source": [
    "## 5. dict()로 딕셔너리 만들기  "
   ]
  },
  {
   "cell_type": "markdown",
   "metadata": {},
   "source": [
    "### 1) dict(키1=값1, 키2=값2) 형식으로 만들기 ※ 키 값에 ' '나 \" \"를 쓰지 않음에 주의"
   ]
  },
  {
   "cell_type": "code",
   "execution_count": 155,
   "metadata": {
    "ExecuteTime": {
     "end_time": "2021-09-17T02:59:34.539073Z",
     "start_time": "2021-09-17T02:59:34.525110Z"
    }
   },
   "outputs": [
    {
     "data": {
      "text/plain": [
       "{'정수': 100, '실수': 13.5}"
      ]
     },
     "execution_count": 155,
     "metadata": {},
     "output_type": "execute_result"
    }
   ],
   "source": [
    "d =  dict(정수 = 100, 실수 = 13.5)\n",
    "d"
   ]
  },
  {
   "cell_type": "markdown",
   "metadata": {
    "ExecuteTime": {
     "end_time": "2021-09-16T14:41:45.604098Z",
     "start_time": "2021-09-16T14:41:45.597108Z"
    }
   },
   "source": [
    "### 2) dict([(키1, 값1), (키2, 값2)]) 형식으로 만들기"
   ]
  },
  {
   "cell_type": "markdown",
   "metadata": {},
   "source": [
    "#### 리스트 안에 튜플을 나열해 만듬"
   ]
  },
  {
   "cell_type": "code",
   "execution_count": 156,
   "metadata": {
    "ExecuteTime": {
     "end_time": "2021-09-17T02:59:34.555062Z",
     "start_time": "2021-09-17T02:59:34.541068Z"
    },
    "scrolled": false
   },
   "outputs": [
    {
     "data": {
      "text/plain": [
       "{'정수': 100, '실수': 13.5}"
      ]
     },
     "execution_count": 156,
     "metadata": {},
     "output_type": "execute_result"
    }
   ],
   "source": [
    "d2 = dict([('정수', 100), ('실수', 13.5)])\n",
    "d2"
   ]
  },
  {
   "cell_type": "markdown",
   "metadata": {},
   "source": [
    "### 3) dict(zip([키1, 키2], [값1, 값2])) 형식으로 만들기"
   ]
  },
  {
   "cell_type": "markdown",
   "metadata": {},
   "source": [
    "zip 함수를 사용해서 첫번째 리스트를 키로, 두번째 리스트를 값으로 합침"
   ]
  },
  {
   "cell_type": "code",
   "execution_count": 157,
   "metadata": {
    "ExecuteTime": {
     "end_time": "2021-09-17T02:59:34.571019Z",
     "start_time": "2021-09-17T02:59:34.557038Z"
    }
   },
   "outputs": [
    {
     "data": {
      "text/plain": [
       "{'문자열': '딕셔너리의 값',\n",
       " '리스트': [1, 2, 3, 4],\n",
       " '튜플': (5, 6, 7, 8),\n",
       " '딕셔너리': {'key': 'value'},\n",
       " '블린': True}"
      ]
     },
     "execution_count": 157,
     "metadata": {},
     "output_type": "execute_result"
    }
   ],
   "source": [
    "d2 = dict(zip(['문자열', '리스트', '튜플', '딕셔너리', '블린'], ['딕셔너리의 값', [1,2,3,4], (5,6,7,8), {'key' : 'value'}, True]))\n",
    "d2"
   ]
  },
  {
   "cell_type": "markdown",
   "metadata": {},
   "source": [
    "## <b style=\"color: red;\">6. 딕셔너리 값 출력하기, 값 할당하기</b>"
   ]
  },
  {
   "cell_type": "markdown",
   "metadata": {},
   "source": [
    "### 딕셔너리의 값을 출력하기 위해서는 키 값을 호출한다.\n",
    "### 키값의 문자열이라면 반드시 따옴표를 붙여야 한다."
   ]
  },
  {
   "cell_type": "markdown",
   "metadata": {},
   "source": [
    "### 값 호출하기: 변수명[키이름] "
   ]
  },
  {
   "cell_type": "markdown",
   "metadata": {},
   "source": [
    "### 키 없이 딕셔너리 변수명만 쓰면 딕셔너리 전체가 출력된다.\n",
    "### <b style=\"color: red;\">나중에 배울 판다스 사용법도 딕셔너리와 동일하니 반드시 숙지할 것</b>"
   ]
  },
  {
   "cell_type": "code",
   "execution_count": 158,
   "metadata": {
    "ExecuteTime": {
     "end_time": "2021-09-17T02:59:34.586977Z",
     "start_time": "2021-09-17T02:59:34.572017Z"
    }
   },
   "outputs": [
    {
     "data": {
      "text/plain": [
       "{'문자열': '딕셔너리의 값',\n",
       " '리스트': [1, 2, 3, 4],\n",
       " '튜플': (5, 6, 7, 8),\n",
       " '딕셔너리': {'key': 'value'},\n",
       " '블린': True}"
      ]
     },
     "execution_count": 158,
     "metadata": {},
     "output_type": "execute_result"
    }
   ],
   "source": [
    "d2"
   ]
  },
  {
   "cell_type": "code",
   "execution_count": 159,
   "metadata": {
    "ExecuteTime": {
     "end_time": "2021-09-17T02:59:34.602928Z",
     "start_time": "2021-09-17T02:59:34.587943Z"
    }
   },
   "outputs": [
    {
     "data": {
      "text/plain": [
       "'딕셔너리의 값'"
      ]
     },
     "execution_count": 159,
     "metadata": {},
     "output_type": "execute_result"
    }
   ],
   "source": [
    "d2['문자열']"
   ]
  },
  {
   "cell_type": "code",
   "execution_count": 160,
   "metadata": {
    "ExecuteTime": {
     "end_time": "2021-09-17T02:59:34.617862Z",
     "start_time": "2021-09-17T02:59:34.604898Z"
    }
   },
   "outputs": [
    {
     "data": {
      "text/plain": [
       "[1, 2, 3, 4]"
      ]
     },
     "execution_count": 160,
     "metadata": {},
     "output_type": "execute_result"
    }
   ],
   "source": [
    "d2['리스트']"
   ]
  },
  {
   "cell_type": "markdown",
   "metadata": {},
   "source": [
    "### <b style=\"color: red;\">딕셔너리 안의 리스트 값 불러오기: 변수명[키이름][인덱스번호]</b>"
   ]
  },
  {
   "cell_type": "code",
   "execution_count": 161,
   "metadata": {
    "ExecuteTime": {
     "end_time": "2021-09-17T02:59:34.633855Z",
     "start_time": "2021-09-17T02:59:34.619859Z"
    }
   },
   "outputs": [
    {
     "data": {
      "text/plain": [
       "3"
      ]
     },
     "execution_count": 161,
     "metadata": {},
     "output_type": "execute_result"
    }
   ],
   "source": [
    "d2['리스트'][2]"
   ]
  },
  {
   "cell_type": "code",
   "execution_count": 162,
   "metadata": {
    "ExecuteTime": {
     "end_time": "2021-09-17T02:59:34.649779Z",
     "start_time": "2021-09-17T02:59:34.635816Z"
    },
    "scrolled": true
   },
   "outputs": [
    {
     "data": {
      "text/plain": [
       "[1, 2]"
      ]
     },
     "execution_count": 162,
     "metadata": {},
     "output_type": "execute_result"
    }
   ],
   "source": [
    "d2['리스트'][:2]"
   ]
  },
  {
   "cell_type": "markdown",
   "metadata": {},
   "source": [
    "### <b style=\"color: red;\">딕셔너리 안의 딕셔너리 값 불러오기: 변수명[키이름][키이름]</b>"
   ]
  },
  {
   "cell_type": "code",
   "execution_count": 163,
   "metadata": {
    "ExecuteTime": {
     "end_time": "2021-09-17T02:59:34.665734Z",
     "start_time": "2021-09-17T02:59:34.652770Z"
    }
   },
   "outputs": [
    {
     "data": {
      "text/plain": [
       "{'key': 'value'}"
      ]
     },
     "execution_count": 163,
     "metadata": {},
     "output_type": "execute_result"
    }
   ],
   "source": [
    "d2['딕셔너리']"
   ]
  },
  {
   "cell_type": "code",
   "execution_count": 164,
   "metadata": {
    "ExecuteTime": {
     "end_time": "2021-09-17T02:59:34.681691Z",
     "start_time": "2021-09-17T02:59:34.668726Z"
    }
   },
   "outputs": [
    {
     "data": {
      "text/plain": [
       "'value'"
      ]
     },
     "execution_count": 164,
     "metadata": {},
     "output_type": "execute_result"
    }
   ],
   "source": [
    "d2['딕셔너리']['key']"
   ]
  },
  {
   "cell_type": "markdown",
   "metadata": {},
   "source": [
    "### <b style=\"color: red;\">딕셔너리 키에 값 할당하기: 변수명[키값]=값</b>"
   ]
  },
  {
   "cell_type": "code",
   "execution_count": 165,
   "metadata": {
    "ExecuteTime": {
     "end_time": "2021-09-17T02:59:34.696654Z",
     "start_time": "2021-09-17T02:59:34.683689Z"
    }
   },
   "outputs": [
    {
     "data": {
      "text/plain": [
       "'딕셔너리의 값'"
      ]
     },
     "execution_count": 165,
     "metadata": {},
     "output_type": "execute_result"
    }
   ],
   "source": [
    "d2['문자열']"
   ]
  },
  {
   "cell_type": "code",
   "execution_count": 166,
   "metadata": {
    "ExecuteTime": {
     "end_time": "2021-09-17T02:59:34.711613Z",
     "start_time": "2021-09-17T02:59:34.699645Z"
    }
   },
   "outputs": [],
   "source": [
    "d2['문자열']='새로 할당한 값'"
   ]
  },
  {
   "cell_type": "code",
   "execution_count": 167,
   "metadata": {
    "ExecuteTime": {
     "end_time": "2021-09-17T02:59:34.727569Z",
     "start_time": "2021-09-17T02:59:34.717596Z"
    },
    "scrolled": true
   },
   "outputs": [
    {
     "data": {
      "text/plain": [
       "'새로 할당한 값'"
      ]
     },
     "execution_count": 167,
     "metadata": {},
     "output_type": "execute_result"
    }
   ],
   "source": [
    "d2['문자열']"
   ]
  },
  {
   "cell_type": "markdown",
   "metadata": {},
   "source": [
    "### <b style=\"color: red;\">딕셔너리 키와 값 삭제하기: del 변수명[키값]</b>"
   ]
  },
  {
   "cell_type": "code",
   "execution_count": 168,
   "metadata": {
    "ExecuteTime": {
     "end_time": "2021-09-17T02:59:34.743525Z",
     "start_time": "2021-09-17T02:59:34.730561Z"
    },
    "scrolled": true
   },
   "outputs": [
    {
     "data": {
      "text/plain": [
       "{'문자열': '새로 할당한 값',\n",
       " '리스트': [1, 2, 3, 4],\n",
       " '튜플': (5, 6, 7, 8),\n",
       " '딕셔너리': {'key': 'value'},\n",
       " '블린': True}"
      ]
     },
     "execution_count": 168,
     "metadata": {},
     "output_type": "execute_result"
    }
   ],
   "source": [
    "d2"
   ]
  },
  {
   "cell_type": "code",
   "execution_count": 169,
   "metadata": {
    "ExecuteTime": {
     "end_time": "2021-09-17T02:59:34.758489Z",
     "start_time": "2021-09-17T02:59:34.745522Z"
    }
   },
   "outputs": [],
   "source": [
    "d2['믄자열'] = '오타난 키 값'"
   ]
  },
  {
   "cell_type": "markdown",
   "metadata": {},
   "source": [
    "#### 오타로 키 값을 잘못 입력해 의도치 않은 키와 값이 딕셔너리에 추가 됨"
   ]
  },
  {
   "cell_type": "code",
   "execution_count": 170,
   "metadata": {
    "ExecuteTime": {
     "end_time": "2021-09-17T02:59:34.774444Z",
     "start_time": "2021-09-17T02:59:34.760481Z"
    }
   },
   "outputs": [
    {
     "data": {
      "text/plain": [
       "{'문자열': '새로 할당한 값',\n",
       " '리스트': [1, 2, 3, 4],\n",
       " '튜플': (5, 6, 7, 8),\n",
       " '딕셔너리': {'key': 'value'},\n",
       " '블린': True,\n",
       " '믄자열': '오타난 키 값'}"
      ]
     },
     "execution_count": 170,
     "metadata": {},
     "output_type": "execute_result"
    }
   ],
   "source": [
    "d2"
   ]
  },
  {
   "cell_type": "code",
   "execution_count": 171,
   "metadata": {
    "ExecuteTime": {
     "end_time": "2021-09-17T02:59:34.789404Z",
     "start_time": "2021-09-17T02:59:34.776440Z"
    }
   },
   "outputs": [],
   "source": [
    "del d2['믄자열']"
   ]
  },
  {
   "cell_type": "code",
   "execution_count": 172,
   "metadata": {
    "ExecuteTime": {
     "end_time": "2021-09-17T02:59:34.805361Z",
     "start_time": "2021-09-17T02:59:34.791404Z"
    }
   },
   "outputs": [
    {
     "data": {
      "text/plain": [
       "{'문자열': '새로 할당한 값',\n",
       " '리스트': [1, 2, 3, 4],\n",
       " '튜플': (5, 6, 7, 8),\n",
       " '딕셔너리': {'key': 'value'},\n",
       " '블린': True}"
      ]
     },
     "execution_count": 172,
     "metadata": {},
     "output_type": "execute_result"
    }
   ],
   "source": [
    "d2"
   ]
  },
  {
   "cell_type": "markdown",
   "metadata": {},
   "source": [
    "### <b style=\"color: red;\">딕셔너리 안의 리스트에 있는 값 삭제하기: del 변수명[키값][인덱스번호]</b>"
   ]
  },
  {
   "cell_type": "code",
   "execution_count": 173,
   "metadata": {
    "ExecuteTime": {
     "end_time": "2021-09-17T02:59:34.821317Z",
     "start_time": "2021-09-17T02:59:34.807358Z"
    }
   },
   "outputs": [
    {
     "data": {
      "text/plain": [
       "[1, 2, 3, 4]"
      ]
     },
     "execution_count": 173,
     "metadata": {},
     "output_type": "execute_result"
    }
   ],
   "source": [
    "d2['리스트']"
   ]
  },
  {
   "cell_type": "code",
   "execution_count": 174,
   "metadata": {
    "ExecuteTime": {
     "end_time": "2021-09-17T02:59:34.837275Z",
     "start_time": "2021-09-17T02:59:34.823313Z"
    }
   },
   "outputs": [],
   "source": [
    "del d2['리스트'][2]"
   ]
  },
  {
   "cell_type": "code",
   "execution_count": 175,
   "metadata": {
    "ExecuteTime": {
     "end_time": "2021-09-17T02:59:34.853234Z",
     "start_time": "2021-09-17T02:59:34.839270Z"
    }
   },
   "outputs": [
    {
     "data": {
      "text/plain": [
       "[1, 2, 4]"
      ]
     },
     "execution_count": 175,
     "metadata": {},
     "output_type": "execute_result"
    }
   ],
   "source": [
    "d2['리스트']"
   ]
  },
  {
   "cell_type": "code",
   "execution_count": 176,
   "metadata": {
    "ExecuteTime": {
     "end_time": "2021-09-17T02:59:34.869191Z",
     "start_time": "2021-09-17T02:59:34.855229Z"
    }
   },
   "outputs": [
    {
     "data": {
      "text/plain": [
       "4"
      ]
     },
     "execution_count": 176,
     "metadata": {},
     "output_type": "execute_result"
    }
   ],
   "source": [
    "d2['리스트'].pop()"
   ]
  },
  {
   "cell_type": "markdown",
   "metadata": {},
   "source": [
    "## 7.딕셔너리에 키가 있는지 확인하기: in \\/ not in연산자 사용"
   ]
  },
  {
   "cell_type": "code",
   "execution_count": 177,
   "metadata": {
    "ExecuteTime": {
     "end_time": "2021-09-17T02:59:34.885147Z",
     "start_time": "2021-09-17T02:59:34.871185Z"
    }
   },
   "outputs": [
    {
     "data": {
      "text/plain": [
       "True"
      ]
     },
     "execution_count": 177,
     "metadata": {},
     "output_type": "execute_result"
    }
   ],
   "source": [
    "'블린' in d2"
   ]
  },
  {
   "cell_type": "code",
   "execution_count": 178,
   "metadata": {
    "ExecuteTime": {
     "end_time": "2021-09-17T02:59:34.901104Z",
     "start_time": "2021-09-17T02:59:34.887142Z"
    }
   },
   "outputs": [
    {
     "data": {
      "text/plain": [
       "True"
      ]
     },
     "execution_count": 178,
     "metadata": {},
     "output_type": "execute_result"
    }
   ],
   "source": [
    "'파이썬' not in d2"
   ]
  },
  {
   "cell_type": "markdown",
   "metadata": {},
   "source": [
    "## 8. 딕셔너리의 키 개수 구하기: len(딕셔너리 변수명)"
   ]
  },
  {
   "cell_type": "code",
   "execution_count": 179,
   "metadata": {
    "ExecuteTime": {
     "end_time": "2021-09-17T02:59:34.917063Z",
     "start_time": "2021-09-17T02:59:34.902101Z"
    }
   },
   "outputs": [
    {
     "data": {
      "text/plain": [
       "{'문자열': '새로 할당한 값',\n",
       " '리스트': [1, 2],\n",
       " '튜플': (5, 6, 7, 8),\n",
       " '딕셔너리': {'key': 'value'},\n",
       " '블린': True}"
      ]
     },
     "execution_count": 179,
     "metadata": {},
     "output_type": "execute_result"
    }
   ],
   "source": [
    "d2"
   ]
  },
  {
   "cell_type": "code",
   "execution_count": 180,
   "metadata": {
    "ExecuteTime": {
     "end_time": "2021-09-17T02:59:34.933020Z",
     "start_time": "2021-09-17T02:59:34.919057Z"
    },
    "scrolled": false
   },
   "outputs": [
    {
     "data": {
      "text/plain": [
       "5"
      ]
     },
     "execution_count": 180,
     "metadata": {},
     "output_type": "execute_result"
    }
   ],
   "source": [
    "len(d2)"
   ]
  },
  {
   "cell_type": "markdown",
   "metadata": {},
   "source": [
    "## 9. 딕셔너리 함수 사용하기 "
   ]
  },
  {
   "cell_type": "markdown",
   "metadata": {},
   "source": [
    "### 1) setdefault(키, 값)\n",
    "### : 딕셔너리에 키와 값을 추가 단, 키만 지정하면 값은 'None'으로 들어감"
   ]
  },
  {
   "cell_type": "code",
   "execution_count": 181,
   "metadata": {
    "ExecuteTime": {
     "end_time": "2021-09-17T02:59:34.947980Z",
     "start_time": "2021-09-17T02:59:34.936017Z"
    }
   },
   "outputs": [
    {
     "data": {
      "text/plain": [
       "{'a': 10, 'b': 20, 'c': 30}"
      ]
     },
     "execution_count": 181,
     "metadata": {},
     "output_type": "execute_result"
    }
   ],
   "source": [
    "d3 = {'a': 10, 'b' : 20 , 'c' : 30}\n",
    "d3"
   ]
  },
  {
   "cell_type": "code",
   "execution_count": 182,
   "metadata": {
    "ExecuteTime": {
     "end_time": "2021-09-17T02:59:34.962943Z",
     "start_time": "2021-09-17T02:59:34.949974Z"
    }
   },
   "outputs": [],
   "source": [
    "d3.setdefault('d')"
   ]
  },
  {
   "cell_type": "code",
   "execution_count": 183,
   "metadata": {
    "ExecuteTime": {
     "end_time": "2021-09-17T02:59:34.978899Z",
     "start_time": "2021-09-17T02:59:34.963937Z"
    }
   },
   "outputs": [
    {
     "data": {
      "text/plain": [
       "{'a': 10, 'b': 20, 'c': 30, 'd': None}"
      ]
     },
     "execution_count": 183,
     "metadata": {},
     "output_type": "execute_result"
    }
   ],
   "source": [
    "d3"
   ]
  },
  {
   "cell_type": "code",
   "execution_count": 184,
   "metadata": {
    "ExecuteTime": {
     "end_time": "2021-09-17T02:59:34.994855Z",
     "start_time": "2021-09-17T02:59:34.979894Z"
    }
   },
   "outputs": [
    {
     "name": "stdout",
     "output_type": "stream",
     "text": [
      "<class 'NoneType'>\n"
     ]
    }
   ],
   "source": [
    "print(type(d3['d']))"
   ]
  },
  {
   "cell_type": "code",
   "execution_count": 185,
   "metadata": {
    "ExecuteTime": {
     "end_time": "2021-09-17T02:59:35.010812Z",
     "start_time": "2021-09-17T02:59:34.995851Z"
    }
   },
   "outputs": [
    {
     "data": {
      "text/plain": [
       "50"
      ]
     },
     "execution_count": 185,
     "metadata": {},
     "output_type": "execute_result"
    }
   ],
   "source": [
    "d3.setdefault('e', 50)"
   ]
  },
  {
   "cell_type": "code",
   "execution_count": 186,
   "metadata": {
    "ExecuteTime": {
     "end_time": "2021-09-17T02:59:35.026786Z",
     "start_time": "2021-09-17T02:59:35.012809Z"
    }
   },
   "outputs": [
    {
     "data": {
      "text/plain": [
       "{'a': 10, 'b': 20, 'c': 30, 'd': None, 'e': 50}"
      ]
     },
     "execution_count": 186,
     "metadata": {},
     "output_type": "execute_result"
    }
   ],
   "source": [
    "d3"
   ]
  },
  {
   "cell_type": "markdown",
   "metadata": {},
   "source": [
    "### setdefault로는 기존에 키가 있는 경우 값이 바뀌지 않음"
   ]
  },
  {
   "cell_type": "code",
   "execution_count": 187,
   "metadata": {
    "ExecuteTime": {
     "end_time": "2021-09-17T02:59:35.042755Z",
     "start_time": "2021-09-17T02:59:35.028781Z"
    }
   },
   "outputs": [
    {
     "data": {
      "text/plain": [
       "{'a': 10, 'b': 20, 'c': 30, 'd': None, 'e': 50}"
      ]
     },
     "execution_count": 187,
     "metadata": {},
     "output_type": "execute_result"
    }
   ],
   "source": [
    "d3.setdefault('e', 60)\n",
    "d3"
   ]
  },
  {
   "cell_type": "code",
   "execution_count": 188,
   "metadata": {
    "ExecuteTime": {
     "end_time": "2021-09-17T02:59:35.058683Z",
     "start_time": "2021-09-17T02:59:35.045718Z"
    }
   },
   "outputs": [
    {
     "data": {
      "text/plain": [
       "{'a': 10, 'b': 20, 'c': 30, 'd': None, 'e': 50}"
      ]
     },
     "execution_count": 188,
     "metadata": {},
     "output_type": "execute_result"
    }
   ],
   "source": [
    "d3"
   ]
  },
  {
   "cell_type": "code",
   "execution_count": 189,
   "metadata": {
    "ExecuteTime": {
     "end_time": "2021-09-17T02:59:35.074674Z",
     "start_time": "2021-09-17T02:59:35.060678Z"
    }
   },
   "outputs": [
    {
     "data": {
      "text/plain": [
       "{'a': 10, 'b': 20, 'c': 30, 'd': None, 'e': 50}"
      ]
     },
     "execution_count": 189,
     "metadata": {},
     "output_type": "execute_result"
    }
   ],
   "source": [
    "d3.setdefault('d', 40)\n",
    "d3"
   ]
  },
  {
   "cell_type": "markdown",
   "metadata": {},
   "source": [
    "### 2) update(키=값)\n",
    "### : 딕셔너리 안에 있는 키 값을 변경"
   ]
  },
  {
   "cell_type": "code",
   "execution_count": 190,
   "metadata": {
    "ExecuteTime": {
     "end_time": "2021-09-17T02:59:35.090599Z",
     "start_time": "2021-09-17T02:59:35.076636Z"
    }
   },
   "outputs": [
    {
     "data": {
      "text/plain": [
       "{'a': 10, 'b': 20, 'c': 30, 'd': None, 'e': 50}"
      ]
     },
     "execution_count": 190,
     "metadata": {},
     "output_type": "execute_result"
    }
   ],
   "source": [
    "d3"
   ]
  },
  {
   "cell_type": "code",
   "execution_count": 191,
   "metadata": {
    "ExecuteTime": {
     "end_time": "2021-09-17T02:59:35.106589Z",
     "start_time": "2021-09-17T02:59:35.092593Z"
    }
   },
   "outputs": [],
   "source": [
    "d3.update(d=40)"
   ]
  },
  {
   "cell_type": "code",
   "execution_count": 192,
   "metadata": {
    "ExecuteTime": {
     "end_time": "2021-09-17T02:59:35.122536Z",
     "start_time": "2021-09-17T02:59:35.107552Z"
    }
   },
   "outputs": [
    {
     "data": {
      "text/plain": [
       "{'a': 10, 'b': 20, 'c': 30, 'd': 40, 'e': 50}"
      ]
     },
     "execution_count": 192,
     "metadata": {},
     "output_type": "execute_result"
    }
   ],
   "source": [
    "d3"
   ]
  },
  {
   "cell_type": "markdown",
   "metadata": {},
   "source": [
    "### 키가  없는 경우 딕셔너리에 키와 값을 추가 키에 따옴표가 없는 것에 주의"
   ]
  },
  {
   "cell_type": "code",
   "execution_count": 193,
   "metadata": {
    "ExecuteTime": {
     "end_time": "2021-09-17T02:59:35.138469Z",
     "start_time": "2021-09-17T02:59:35.123511Z"
    }
   },
   "outputs": [
    {
     "data": {
      "text/plain": [
       "{'a': 10, 'b': 20, 'c': 30, 'd': 40, 'e': 50, 'f': 60}"
      ]
     },
     "execution_count": 193,
     "metadata": {},
     "output_type": "execute_result"
    }
   ],
   "source": [
    "d3.update(f=60)\n",
    "d3"
   ]
  },
  {
   "cell_type": "markdown",
   "metadata": {},
   "source": [
    "### 키가 문자열이 아니고 숫자형일 경우에는 update({키:값})형태로 사용해야 함"
   ]
  },
  {
   "cell_type": "code",
   "execution_count": 194,
   "metadata": {
    "ExecuteTime": {
     "end_time": "2021-09-17T02:59:35.154452Z",
     "start_time": "2021-09-17T02:59:35.139468Z"
    }
   },
   "outputs": [
    {
     "data": {
      "text/plain": [
       "{'a': 10, 'b': 20, 'c': 30, 'd': 40, 'e': 50, 'f': 60}"
      ]
     },
     "execution_count": 194,
     "metadata": {},
     "output_type": "execute_result"
    }
   ],
   "source": [
    "d3"
   ]
  },
  {
   "cell_type": "code",
   "execution_count": 195,
   "metadata": {
    "ExecuteTime": {
     "end_time": "2021-09-17T02:59:35.170384Z",
     "start_time": "2021-09-17T02:59:35.156421Z"
    }
   },
   "outputs": [],
   "source": [
    "d3.update({1:'one'})"
   ]
  },
  {
   "cell_type": "code",
   "execution_count": 196,
   "metadata": {
    "ExecuteTime": {
     "end_time": "2021-09-17T02:59:35.186370Z",
     "start_time": "2021-09-17T02:59:35.172379Z"
    }
   },
   "outputs": [
    {
     "data": {
      "text/plain": [
       "{'a': 10, 'b': 20, 'c': 30, 'd': 40, 'e': 50, 'f': 60, 1: 'one'}"
      ]
     },
     "execution_count": 196,
     "metadata": {},
     "output_type": "execute_result"
    }
   ],
   "source": [
    "d3"
   ]
  },
  {
   "cell_type": "markdown",
   "metadata": {},
   "source": [
    "### <b style=\"color:red;\">update(리스트), update(튜플) 로 딕셔너리 키와 값 수정하기 </b>"
   ]
  },
  {
   "cell_type": "markdown",
   "metadata": {},
   "source": [
    "### update([[키1, 값1], [키2, 값2], [키3, 값3]]) 다중 리스트임에 주의!!\n",
    "### update(((키1, 값1), (키2, 값2), (키3, 값3))) 다중 튜플임에 주의!!"
   ]
  },
  {
   "cell_type": "code",
   "execution_count": 197,
   "metadata": {
    "ExecuteTime": {
     "end_time": "2021-09-17T02:59:35.202331Z",
     "start_time": "2021-09-17T02:59:35.188336Z"
    }
   },
   "outputs": [
    {
     "data": {
      "text/plain": [
       "{'a': 10, 'b': 20, 'c': 30, 'd': 40, 'e': 50, 'f': 60, 1: 'one'}"
      ]
     },
     "execution_count": 197,
     "metadata": {},
     "output_type": "execute_result"
    }
   ],
   "source": [
    "d3"
   ]
  },
  {
   "cell_type": "code",
   "execution_count": 198,
   "metadata": {
    "ExecuteTime": {
     "end_time": "2021-09-17T02:59:35.217260Z",
     "start_time": "2021-09-17T02:59:35.204294Z"
    }
   },
   "outputs": [
    {
     "data": {
      "text/plain": [
       "{'a': '십', 'b': '이십', 'c': '삼십', 'd': '사십', 'e': 50, 'f': 60, 1: 'one'}"
      ]
     },
     "execution_count": 198,
     "metadata": {},
     "output_type": "execute_result"
    }
   ],
   "source": [
    "d3.update([['a', '십'],['b','이십'],['c', '삼십'],['d','사십']])\n",
    "d3"
   ]
  },
  {
   "cell_type": "code",
   "execution_count": 199,
   "metadata": {
    "ExecuteTime": {
     "end_time": "2021-09-17T02:59:35.233217Z",
     "start_time": "2021-09-17T02:59:35.220284Z"
    }
   },
   "outputs": [
    {
     "name": "stdout",
     "output_type": "stream",
     "text": [
      "{'a': 'Ten', 'b': 'Twenty', 'c': 'Thirty', 'd': 'Forty', 'e': 50, 'f': 60, 1: 'one'}\n"
     ]
    }
   ],
   "source": [
    "d3.update((('a', 'Ten'),('b','Twenty'),('c', 'Thirty'),('d','Forty')))\n",
    "print(d3)"
   ]
  },
  {
   "cell_type": "code",
   "execution_count": null,
   "metadata": {},
   "outputs": [],
   "source": []
  },
  {
   "cell_type": "markdown",
   "metadata": {},
   "source": [
    "### 3) 딕셔너리에서 키-값 쌍 삭제하기 "
   ]
  },
  {
   "cell_type": "code",
   "execution_count": 200,
   "metadata": {
    "ExecuteTime": {
     "end_time": "2021-09-17T02:59:35.249200Z",
     "start_time": "2021-09-17T02:59:35.235218Z"
    }
   },
   "outputs": [
    {
     "data": {
      "text/plain": [
       "{'a': 'Ten', 'b': 'Twenty', 'c': 'Thirty', 'd': 'Forty', 'e': 50, 'f': 60}"
      ]
     },
     "execution_count": 200,
     "metadata": {},
     "output_type": "execute_result"
    }
   ],
   "source": [
    "d3.pop(1)\n",
    "d3"
   ]
  },
  {
   "cell_type": "code",
   "execution_count": 201,
   "metadata": {
    "ExecuteTime": {
     "end_time": "2021-09-17T02:59:35.265131Z",
     "start_time": "2021-09-17T02:59:35.252166Z"
    }
   },
   "outputs": [
    {
     "data": {
      "text/plain": [
       "60"
      ]
     },
     "execution_count": 201,
     "metadata": {},
     "output_type": "execute_result"
    }
   ],
   "source": [
    "d3.pop('f')"
   ]
  },
  {
   "cell_type": "code",
   "execution_count": 202,
   "metadata": {
    "ExecuteTime": {
     "end_time": "2021-09-17T02:59:35.281115Z",
     "start_time": "2021-09-17T02:59:35.267125Z"
    }
   },
   "outputs": [
    {
     "data": {
      "text/plain": [
       "{'a': 'Ten', 'b': 'Twenty', 'c': 'Thirty', 'd': 'Forty', 'e': 50}"
      ]
     },
     "execution_count": 202,
     "metadata": {},
     "output_type": "execute_result"
    }
   ],
   "source": [
    "d3"
   ]
  },
  {
   "cell_type": "code",
   "execution_count": 203,
   "metadata": {
    "ExecuteTime": {
     "end_time": "2021-09-17T02:59:35.296049Z",
     "start_time": "2021-09-17T02:59:35.283085Z"
    },
    "scrolled": false
   },
   "outputs": [
    {
     "ename": "KeyError",
     "evalue": "'f'",
     "output_type": "error",
     "traceback": [
      "\u001b[1;31m---------------------------------------------------------------------------\u001b[0m",
      "\u001b[1;31mKeyError\u001b[0m                                  Traceback (most recent call last)",
      "\u001b[1;32m<ipython-input-203-6febc984d866>\u001b[0m in \u001b[0;36m<module>\u001b[1;34m\u001b[0m\n\u001b[1;32m----> 1\u001b[1;33m \u001b[0md3\u001b[0m\u001b[1;33m.\u001b[0m\u001b[0mpop\u001b[0m\u001b[1;33m(\u001b[0m\u001b[1;34m'f'\u001b[0m\u001b[1;33m)\u001b[0m\u001b[1;33m\u001b[0m\u001b[1;33m\u001b[0m\u001b[0m\n\u001b[0m",
      "\u001b[1;31mKeyError\u001b[0m: 'f'"
     ]
    }
   ],
   "source": [
    "d3.pop('f')"
   ]
  },
  {
   "cell_type": "markdown",
   "metadata": {},
   "source": [
    "### .pop(키, 기본값):  키가 딕셔너리 안에 없어서 삭제시 오류가 나는 것을 방지 하기 위해서 사용"
   ]
  },
  {
   "cell_type": "code",
   "execution_count": 204,
   "metadata": {
    "ExecuteTime": {
     "end_time": "2021-09-17T02:59:39.130901Z",
     "start_time": "2021-09-17T02:59:39.122920Z"
    }
   },
   "outputs": [
    {
     "data": {
      "text/plain": [
       "0"
      ]
     },
     "execution_count": 204,
     "metadata": {},
     "output_type": "execute_result"
    }
   ],
   "source": [
    "d3.pop('z',0)"
   ]
  },
  {
   "cell_type": "markdown",
   "metadata": {},
   "source": [
    "### 4)  딕셔너리의 모든 키:값 삭제하기: .clear()"
   ]
  },
  {
   "cell_type": "code",
   "execution_count": 205,
   "metadata": {
    "ExecuteTime": {
     "end_time": "2021-09-17T02:59:43.753639Z",
     "start_time": "2021-09-17T02:59:43.746657Z"
    }
   },
   "outputs": [
    {
     "data": {
      "text/plain": [
       "{'a': 'Ten', 'b': 'Twenty', 'c': 'Thirty', 'd': 'Forty', 'e': 50}"
      ]
     },
     "execution_count": 205,
     "metadata": {},
     "output_type": "execute_result"
    }
   ],
   "source": [
    "d3"
   ]
  },
  {
   "cell_type": "code",
   "execution_count": 207,
   "metadata": {
    "ExecuteTime": {
     "end_time": "2021-09-17T02:59:59.003643Z",
     "start_time": "2021-09-17T02:59:58.987685Z"
    }
   },
   "outputs": [],
   "source": [
    "d4 = d3.copy()"
   ]
  },
  {
   "cell_type": "code",
   "execution_count": 209,
   "metadata": {
    "ExecuteTime": {
     "end_time": "2021-09-17T03:00:13.532681Z",
     "start_time": "2021-09-17T03:00:13.525691Z"
    }
   },
   "outputs": [
    {
     "data": {
      "text/plain": [
       "{}"
      ]
     },
     "execution_count": 209,
     "metadata": {},
     "output_type": "execute_result"
    }
   ],
   "source": [
    "d3.clear()\n",
    "d3"
   ]
  },
  {
   "cell_type": "markdown",
   "metadata": {},
   "source": [
    "### 5) 딕셔너리에서 값 가져오기 .get()"
   ]
  },
  {
   "cell_type": "code",
   "execution_count": 210,
   "metadata": {
    "ExecuteTime": {
     "end_time": "2021-09-17T03:00:16.713293Z",
     "start_time": "2021-09-17T03:00:16.707309Z"
    }
   },
   "outputs": [
    {
     "data": {
      "text/plain": [
       "{'a': 'Ten', 'b': 'Twenty', 'c': 'Thirty', 'd': 'Forty', 'e': 50}"
      ]
     },
     "execution_count": 210,
     "metadata": {},
     "output_type": "execute_result"
    }
   ],
   "source": [
    "d4"
   ]
  },
  {
   "cell_type": "code",
   "execution_count": 142,
   "metadata": {
    "ExecuteTime": {
     "end_time": "2021-09-17T02:59:13.444494Z",
     "start_time": "2021-09-17T02:59:13.430531Z"
    }
   },
   "outputs": [],
   "source": [
    "d3.get('c')"
   ]
  },
  {
   "cell_type": "markdown",
   "metadata": {},
   "source": [
    "### <b style=\"color:red;\">키 값이 없을 때 기본 값을 지정해 반환하는 방법: 오류 방지</b>"
   ]
  },
  {
   "cell_type": "code",
   "execution_count": 143,
   "metadata": {
    "ExecuteTime": {
     "end_time": "2021-09-17T02:59:13.459595Z",
     "start_time": "2021-09-17T02:59:13.446489Z"
    },
    "scrolled": true
   },
   "outputs": [],
   "source": [
    "d3.get('z',None)"
   ]
  },
  {
   "cell_type": "code",
   "execution_count": 144,
   "metadata": {
    "ExecuteTime": {
     "end_time": "2021-09-17T02:59:13.475410Z",
     "start_time": "2021-09-17T02:59:13.461449Z"
    },
    "scrolled": true
   },
   "outputs": [
    {
     "data": {
      "text/plain": [
       "{}"
      ]
     },
     "execution_count": 144,
     "metadata": {},
     "output_type": "execute_result"
    }
   ],
   "source": [
    "d3"
   ]
  },
  {
   "cell_type": "markdown",
   "metadata": {},
   "source": [
    "### 6) 딕셔너리에서 키와 값, 키, 값을 가져오는 함수"
   ]
  },
  {
   "cell_type": "code",
   "execution_count": 211,
   "metadata": {
    "ExecuteTime": {
     "end_time": "2021-09-17T03:06:58.415500Z",
     "start_time": "2021-09-17T03:06:58.404556Z"
    },
    "scrolled": true
   },
   "outputs": [
    {
     "data": {
      "text/plain": [
       "{'a': 'Ten', 'b': 'Twenty', 'c': 'Thirty', 'd': 'Forty', 'e': 50}"
      ]
     },
     "execution_count": 211,
     "metadata": {},
     "output_type": "execute_result"
    }
   ],
   "source": [
    "d4"
   ]
  },
  {
   "cell_type": "markdown",
   "metadata": {},
   "source": [
    "### <b style=\"color:red;\">items(): 키와 값을 쌍으로 모두 가져옴</b>"
   ]
  },
  {
   "cell_type": "code",
   "execution_count": 213,
   "metadata": {
    "ExecuteTime": {
     "end_time": "2021-09-17T03:07:13.376773Z",
     "start_time": "2021-09-17T03:07:13.370790Z"
    },
    "scrolled": false
   },
   "outputs": [
    {
     "data": {
      "text/plain": [
       "dict_items([('a', 'Ten'), ('b', 'Twenty'), ('c', 'Thirty'), ('d', 'Forty'), ('e', 50)])"
      ]
     },
     "execution_count": 213,
     "metadata": {},
     "output_type": "execute_result"
    }
   ],
   "source": [
    "d4.items()"
   ]
  },
  {
   "cell_type": "markdown",
   "metadata": {},
   "source": [
    "### <b style=\"color:red;\">keys(): 키를 모두 가져옴</b>"
   ]
  },
  {
   "cell_type": "code",
   "execution_count": 221,
   "metadata": {
    "ExecuteTime": {
     "end_time": "2021-09-17T03:13:15.373763Z",
     "start_time": "2021-09-17T03:13:15.363788Z"
    }
   },
   "outputs": [
    {
     "data": {
      "text/plain": [
       "dict_keys(['a', 'b', 'c', 'd', 'e'])"
      ]
     },
     "execution_count": 221,
     "metadata": {},
     "output_type": "execute_result"
    }
   ],
   "source": [
    "d4.keys()"
   ]
  },
  {
   "cell_type": "markdown",
   "metadata": {},
   "source": [
    "### <b style=\"color:red;\">values(): 값을 모두 가져옴</b>"
   ]
  },
  {
   "cell_type": "code",
   "execution_count": 227,
   "metadata": {
    "ExecuteTime": {
     "end_time": "2021-09-17T03:17:14.470995Z",
     "start_time": "2021-09-17T03:17:14.460024Z"
    }
   },
   "outputs": [
    {
     "data": {
      "text/plain": [
       "dict_values(['Ten', 'Twenty', 'Thirty', 'Forty', 50])"
      ]
     },
     "execution_count": 227,
     "metadata": {},
     "output_type": "execute_result"
    }
   ],
   "source": [
    "d4.values()"
   ]
  }
 ],
 "metadata": {
  "kernelspec": {
   "display_name": "Python 3 (ipykernel)",
   "language": "python",
   "name": "python3"
  },
  "language_info": {
   "codemirror_mode": {
    "name": "ipython",
    "version": 3
   },
   "file_extension": ".py",
   "mimetype": "text/x-python",
   "name": "python",
   "nbconvert_exporter": "python",
   "pygments_lexer": "ipython3",
   "version": "3.10.4"
  }
 },
 "nbformat": 4,
 "nbformat_minor": 4
}
