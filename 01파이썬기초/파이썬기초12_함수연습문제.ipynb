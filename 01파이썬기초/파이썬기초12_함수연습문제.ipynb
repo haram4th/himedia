{
  "nbformat": 4,
  "nbformat_minor": 0,
  "metadata": {
    "colab": {
      "provenance": []
    },
    "kernelspec": {
      "name": "python3",
      "display_name": "Python 3"
    },
    "language_info": {
      "name": "python"
    }
  },
  "cells": [
    {
      "cell_type": "markdown",
      "source": [
        "# 1. 두 개의 숫자를 입력받아 합/차/곱/나눗셈을 출력하는 calculation 함수를 작성하라."
      ],
      "metadata": {
        "id": "ppN-Gs56nkcC"
      }
    },
    {
      "cell_type": "markdown",
      "source": [
        "\n",
        "\n",
        "```\n",
        "calculation(3, 4)\n",
        "```\n",
        "\n"
      ],
      "metadata": {
        "id": "QokrCbXMn4gc"
      }
    },
    {
      "cell_type": "markdown",
      "source": [
        "\n",
        "\n",
        "```\n",
        "3 + 4 = 7\n",
        "3 - 4 = -1\n",
        "3 * 4 = 12\n",
        "3 / 4 = 0.75\n",
        "```\n",
        "\n"
      ],
      "metadata": {
        "id": "ZXRrtm1rn6w7"
      }
    },
    {
      "cell_type": "code",
      "source": [],
      "metadata": {
        "id": "WbA2QsQepiQw"
      },
      "execution_count": null,
      "outputs": []
    },
    {
      "cell_type": "markdown",
      "source": [
        "# 2. 입력된 문자열을 역순으로 출력하는 print_reverse 함수를 정의하라."
      ],
      "metadata": {
        "id": "iDUgQgVcog56"
      }
    },
    {
      "cell_type": "markdown",
      "source": [
        "\n",
        "\n",
        "```\n",
        "print_reverse(\"Hello, World!\")\n",
        "```\n",
        "\n"
      ],
      "metadata": {
        "id": "dTxuwuCEomuW"
      }
    },
    {
      "cell_type": "markdown",
      "source": [
        "```\n",
        "!dlroW ,olleH\n",
        "```"
      ],
      "metadata": {
        "id": "uAhNvgfQpYuG"
      }
    },
    {
      "cell_type": "code",
      "source": [],
      "metadata": {
        "id": "zULn4y9dpkn9"
      },
      "execution_count": null,
      "outputs": []
    },
    {
      "cell_type": "markdown",
      "source": [
        "# 3. 하나의 리스트를 입력받아 짝수만 화면에 출력하는 print_even 함수를 정의하라."
      ],
      "metadata": {
        "id": "h3GaAX1WplQI"
      }
    },
    {
      "cell_type": "markdown",
      "source": [
        "\n",
        "\n",
        "```\n",
        "print_even ([1, 3, 2, 10, 12, 11, 15])\n",
        "```\n",
        "\n"
      ],
      "metadata": {
        "id": "R-lTq_Hvpviw"
      }
    },
    {
      "cell_type": "markdown",
      "source": [
        "\n",
        "\n",
        "```\n",
        "2\n",
        "10\n",
        "12\n",
        "```\n",
        "\n"
      ],
      "metadata": {
        "id": "a54qrIi0p1Qe"
      }
    },
    {
      "cell_type": "code",
      "source": [],
      "metadata": {
        "id": "3uL-WRiVpvAU"
      },
      "execution_count": null,
      "outputs": []
    },
    {
      "cell_type": "markdown",
      "source": [
        "# 4. 하나의 딕셔너리를 입력받아 딕셔너리의 key 값을 화면에 출력하는 print_keys 함수를 정의하라."
      ],
      "metadata": {
        "id": "ju7BlNETp_jy"
      }
    },
    {
      "cell_type": "markdown",
      "source": [
        "\n",
        "\n",
        "```\n",
        "print_keys ({\"이름\":\"김말똥\", \"나이\":30, \"성별\":0})\n",
        "```\n",
        "\n"
      ],
      "metadata": {
        "id": "PVkob9cAqC_Y"
      }
    },
    {
      "cell_type": "markdown",
      "source": [
        "\n",
        "\n",
        "```\n",
        "이름\n",
        "나이\n",
        "성별\n",
        "```\n",
        "\n"
      ],
      "metadata": {
        "id": "LbCbcQdSqJIm"
      }
    },
    {
      "cell_type": "code",
      "source": [],
      "metadata": {
        "id": "8Wn9Nxu6qB9u"
      },
      "execution_count": null,
      "outputs": []
    },
    {
      "cell_type": "markdown",
      "source": [
        "# 5. 문자열 하나를 입력받아 인터넷 주소를 반환하는 make_url 함수를 정의하라."
      ],
      "metadata": {
        "id": "bbbIucNnqfUW"
      }
    },
    {
      "cell_type": "markdown",
      "source": [
        "\n",
        "\n",
        "```\n",
        "make_url(\"naver\")\n",
        "```\n",
        "\n"
      ],
      "metadata": {
        "id": "TtQ7E-CVqhZ2"
      }
    },
    {
      "cell_type": "markdown",
      "source": [
        "\n",
        "\n",
        "```\n",
        "www.naver.com\n",
        "```\n",
        "\n"
      ],
      "metadata": {
        "id": "6GxmZZKjqk5Z"
      }
    },
    {
      "cell_type": "code",
      "source": [],
      "metadata": {
        "id": "bsAdEYBeqpBz"
      },
      "execution_count": null,
      "outputs": []
    },
    {
      "cell_type": "markdown",
      "source": [
        "# 6. 숫자로 구성된 하나의 리스트를 입력받아, 짝수들을 추출하여 리스트로 반환하는 pickup_even 함수를 구현하라."
      ],
      "metadata": {
        "id": "mcVKGc-cqqCs"
      }
    },
    {
      "cell_type": "markdown",
      "source": [
        "\n",
        "\n",
        "```\n",
        "pickup_even([3, 4, 5, 6, 7, 8])\n",
        "```\n",
        "\n"
      ],
      "metadata": {
        "id": "wMr9QjeBq0rB"
      }
    },
    {
      "cell_type": "markdown",
      "source": [
        "\n",
        "\n",
        "```\n",
        "[4, 6, 8]\n",
        "```\n",
        "\n"
      ],
      "metadata": {
        "id": "k79JZkbrq5OZ"
      }
    },
    {
      "cell_type": "code",
      "source": [],
      "metadata": {
        "id": "4_jp8Lf0q9hX"
      },
      "execution_count": null,
      "outputs": []
    },
    {
      "cell_type": "markdown",
      "source": [
        "# 7. 콤마가 포함된 문자열 숫자를 입력받아 정수로 변환하는 convert_int 함수를 정의하라."
      ],
      "metadata": {
        "id": "mFk45uEMq862"
      }
    },
    {
      "cell_type": "markdown",
      "source": [
        "\n",
        "\n",
        "```\n",
        "convert_int(\"1,234,567\")\n",
        "```\n",
        "\n"
      ],
      "metadata": {
        "id": "T36V4eJPrU_G"
      }
    },
    {
      "cell_type": "markdown",
      "source": [
        "\n",
        "\n",
        "```\n",
        "1234567\n",
        "```\n",
        "\n"
      ],
      "metadata": {
        "id": "tTpbyvr5rX_e"
      }
    },
    {
      "cell_type": "code",
      "source": [],
      "metadata": {
        "id": "bkUDdLQXrZ3m"
      },
      "execution_count": null,
      "outputs": []
    }
  ]
}