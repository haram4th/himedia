{
 "cells": [
  {
   "cell_type": "code",
   "execution_count": 1,
   "id": "9d58f3e6",
   "metadata": {},
   "outputs": [],
   "source": [
    "import selenium\n",
    "from selenium import webdriver\n",
    "from selenium.webdriver.chrome.service import Service as ChromeService\n",
    "from webdriver_manager.chrome import ChromeDriverManager\n",
    "from selenium.webdriver.common.keys import Keys\n",
    "from selenium.webdriver.common.by import By\n",
    "from bs4 import BeautifulSoup as bs\n",
    "import time\n",
    "import yes24_dbio as ydb\n",
    "import pandas as pd"
   ]
  },
  {
   "cell_type": "code",
   "execution_count": 2,
   "id": "ee602499",
   "metadata": {},
   "outputs": [],
   "source": [
    "# 웹 드라이버를 버전에 맞게 자동으로 다운 받고 옵션을 추가해 줌\n",
    "driver = webdriver.Chrome(service=ChromeService(ChromeDriverManager().install()))\n",
    "driver.set_window_size(1920, 1080) # 웹 브라우저 해상도 조절\n",
    "driver.get(\"https://www.yes24.com/Product/Category/MonthWeekBestSeller\") # 크롤링 할 웹사이트 주소\n",
    "driver.find_element(By.CSS_SELECTOR, \"option[value='120']\").click()"
   ]
  },
  {
   "cell_type": "code",
   "execution_count": 3,
   "id": "4836f0d6",
   "metadata": {},
   "outputs": [
    {
     "ename": "NameError",
     "evalue": "name 'dirver' is not defined",
     "output_type": "error",
     "traceback": [
      "\u001b[1;31m---------------------------------------------------------------------------\u001b[0m",
      "\u001b[1;31mNameError\u001b[0m                                 Traceback (most recent call last)",
      "Cell \u001b[1;32mIn[3], line 9\u001b[0m\n\u001b[0;32m      7\u001b[0m     all_books\u001b[38;5;241m.\u001b[39mappend(book_list)\n\u001b[0;32m      8\u001b[0m     driver\u001b[38;5;241m.\u001b[39mfind_element(By\u001b[38;5;241m.\u001b[39mCSS_SELECTOR, \u001b[38;5;124mf\u001b[39m\u001b[38;5;124m\"\u001b[39m\u001b[38;5;124ma[title=\u001b[39m\u001b[38;5;124m'\u001b[39m\u001b[38;5;132;01m{\u001b[39;00mpage\u001b[38;5;241m+\u001b[39m\u001b[38;5;241m1\u001b[39m\u001b[38;5;132;01m}\u001b[39;00m\u001b[38;5;124m'\u001b[39m\u001b[38;5;124m]\u001b[39m\u001b[38;5;124m\"\u001b[39m)\u001b[38;5;241m.\u001b[39mclick()\n\u001b[1;32m----> 9\u001b[0m \u001b[43mdirver\u001b[49m\u001b[38;5;241m.\u001b[39mclose()\n",
      "\u001b[1;31mNameError\u001b[0m: name 'dirver' is not defined"
     ]
    }
   ],
   "source": [
    "all_books = []\n",
    "for page in range(1, 4):\n",
    "    time.sleep(8)\n",
    "    page_html = driver.page_source\n",
    "    soup = bs(page_html, \"lxml\")\n",
    "    book_list = soup.select('#yesBestList > li')\n",
    "    all_books.append(book_list)\n",
    "    driver.find_element(By.CSS_SELECTOR, f\"a[title='{page+1}']\").click()\n",
    "driver.close()"
   ]
  },
  {
   "cell_type": "code",
   "execution_count": 6,
   "id": "347a21d1",
   "metadata": {},
   "outputs": [
    {
     "data": {
      "text/plain": [
       "120"
      ]
     },
     "execution_count": 6,
     "metadata": {},
     "output_type": "execute_result"
    }
   ],
   "source": [
    "len(all_books[0])"
   ]
  },
  {
   "cell_type": "code",
   "execution_count": 7,
   "id": "e24ad35a",
   "metadata": {},
   "outputs": [],
   "source": [
    "yy = 2023\n",
    "mon = 8"
   ]
  },
  {
   "cell_type": "code",
   "execution_count": 10,
   "id": "ad050cf3",
   "metadata": {},
   "outputs": [
    {
     "name": "stdout",
     "output_type": "stream",
     "text": [
      "359/360 세부정보 데이터 추출 중\r"
     ]
    },
    {
     "data": {
      "text/html": [
       "<div>\n",
       "<style scoped>\n",
       "    .dataframe tbody tr th:only-of-type {\n",
       "        vertical-align: middle;\n",
       "    }\n",
       "\n",
       "    .dataframe tbody tr th {\n",
       "        vertical-align: top;\n",
       "    }\n",
       "\n",
       "    .dataframe thead th {\n",
       "        text-align: right;\n",
       "    }\n",
       "</style>\n",
       "<table border=\"1\" class=\"dataframe\">\n",
       "  <thead>\n",
       "    <tr style=\"text-align: right;\">\n",
       "      <th></th>\n",
       "      <th>yy</th>\n",
       "      <th>mon</th>\n",
       "      <th>title_h</th>\n",
       "      <th>title_f</th>\n",
       "      <th>title_m</th>\n",
       "      <th>title_e</th>\n",
       "      <th>detail_link</th>\n",
       "      <th>author</th>\n",
       "      <th>publisher</th>\n",
       "      <th>pub_date</th>\n",
       "      <th>...</th>\n",
       "      <th>review_link</th>\n",
       "      <th>rating</th>\n",
       "      <th>tags</th>\n",
       "      <th>book_id</th>\n",
       "      <th>page</th>\n",
       "      <th>weight</th>\n",
       "      <th>size</th>\n",
       "      <th>category</th>\n",
       "      <th>book_intro</th>\n",
       "      <th>pub_book_intro</th>\n",
       "    </tr>\n",
       "  </thead>\n",
       "  <tbody>\n",
       "    <tr>\n",
       "      <th>0</th>\n",
       "      <td>2023</td>\n",
       "      <td>8</td>\n",
       "      <td>[도서]</td>\n",
       "      <td></td>\n",
       "      <td>세이노의 가르침</td>\n",
       "      <td></td>\n",
       "      <td>https://www.yes24.com/Product/Goods/117014613</td>\n",
       "      <td>[세이노(SayNo)]</td>\n",
       "      <td>데이원</td>\n",
       "      <td>2023년 03월</td>\n",
       "      <td>...</td>\n",
       "      <td>https://www.yes24.com/Product/Goods/117014613?...</td>\n",
       "      <td>9.1</td>\n",
       "      <td>[#성공신화, #성공하고싶다면, #삶이고민될때, #인생지침서, #크레마클럽에있어요]</td>\n",
       "      <td>117014613</td>\n",
       "      <td>736쪽</td>\n",
       "      <td>1,030g</td>\n",
       "      <td>153*224*40mm</td>\n",
       "      <td>[성공학/경력관리, 국내도서, 자기계발, 처세술/삶의 자세]</td>\n",
       "      <td>\\n\\r\\n재야의 명저 『세이노의 가르침』 2023년판 정식 출간!순자산 천억 원대...</td>\n",
       "      <td>\\n\\n\\r\\n재야의 명저 『세이노의 가르침』 2023년판 정식 출간!순자산 천억 ...</td>\n",
       "    </tr>\n",
       "    <tr>\n",
       "      <th>1</th>\n",
       "      <td>2023</td>\n",
       "      <td>8</td>\n",
       "      <td>[도서]</td>\n",
       "      <td></td>\n",
       "      <td>1%를 읽는 힘</td>\n",
       "      <td></td>\n",
       "      <td>https://www.yes24.com/Product/Goods/121812955</td>\n",
       "      <td>[메르]</td>\n",
       "      <td>토네이도</td>\n",
       "      <td>2023년 08월</td>\n",
       "      <td>...</td>\n",
       "      <td>https://www.yes24.com/Product/Goods/121812955?...</td>\n",
       "      <td>10.0</td>\n",
       "      <td>[#이달의굿즈, #이달의주목신간, #얼리리더, #투자가이드, #1분만투자하세요]</td>\n",
       "      <td>121812955</td>\n",
       "      <td>316쪽</td>\n",
       "      <td>512g</td>\n",
       "      <td>145*215*18mm</td>\n",
       "      <td>[성공학/경력관리, 경제 경영, 국내도서, CEO/비즈니스맨]</td>\n",
       "      <td>\\n\\r\\n출간 즉시 교보, 예스24, 알라딘 종합 1위네이버 블로그 경제·주식 분...</td>\n",
       "      <td>\\n\\n\\r\\n출간 즉시 교보, 예스24, 알라딘 종합 1위네이버 블로그 경제·주식...</td>\n",
       "    </tr>\n",
       "  </tbody>\n",
       "</table>\n",
       "<p>2 rows × 22 columns</p>\n",
       "</div>"
      ],
      "text/plain": [
       "     yy  mon title_h title_f   title_m title_e  \\\n",
       "0  2023    8    [도서]          세이노의 가르침           \n",
       "1  2023    8    [도서]          1%를 읽는 힘           \n",
       "\n",
       "                                     detail_link        author publisher  \\\n",
       "0  https://www.yes24.com/Product/Goods/117014613  [세이노(SayNo)]       데이원   \n",
       "1  https://www.yes24.com/Product/Goods/121812955          [메르]      토네이도   \n",
       "\n",
       "    pub_date  ...                                        review_link rating  \\\n",
       "0  2023년 03월  ...  https://www.yes24.com/Product/Goods/117014613?...    9.1   \n",
       "1  2023년 08월  ...  https://www.yes24.com/Product/Goods/121812955?...   10.0   \n",
       "\n",
       "                                             tags    book_id   page    weight  \\\n",
       "0  [#성공신화, #성공하고싶다면, #삶이고민될때, #인생지침서, #크레마클럽에있어요]  117014613  736쪽    1,030g    \n",
       "1    [#이달의굿즈, #이달의주목신간, #얼리리더, #투자가이드, #1분만투자하세요]  121812955  316쪽      512g    \n",
       "\n",
       "            size                            category  \\\n",
       "0   153*224*40mm   [성공학/경력관리, 국내도서, 자기계발, 처세술/삶의 자세]   \n",
       "1   145*215*18mm  [성공학/경력관리, 경제 경영, 국내도서, CEO/비즈니스맨]   \n",
       "\n",
       "                                          book_intro  \\\n",
       "0  \\n\\r\\n재야의 명저 『세이노의 가르침』 2023년판 정식 출간!순자산 천억 원대...   \n",
       "1  \\n\\r\\n출간 즉시 교보, 예스24, 알라딘 종합 1위네이버 블로그 경제·주식 분...   \n",
       "\n",
       "                                      pub_book_intro  \n",
       "0  \\n\\n\\r\\n재야의 명저 『세이노의 가르침』 2023년판 정식 출간!순자산 천억 ...  \n",
       "1  \\n\\n\\r\\n출간 즉시 교보, 예스24, 알라딘 종합 1위네이버 블로그 경제·주식...  \n",
       "\n",
       "[2 rows x 22 columns]"
      ]
     },
     "metadata": {},
     "output_type": "display_data"
    },
    {
     "name": "stdout",
     "output_type": "stream",
     "text": [
      "<class 'pandas.core.frame.DataFrame'>\n",
      "Int64Index: 360 entries, 0 to 359\n",
      "Data columns (total 22 columns):\n",
      " #   Column          Non-Null Count  Dtype \n",
      "---  ------          --------------  ----- \n",
      " 0   yy              360 non-null    int64 \n",
      " 1   mon             360 non-null    int64 \n",
      " 2   title_h         360 non-null    object\n",
      " 3   title_f         360 non-null    object\n",
      " 4   title_m         360 non-null    object\n",
      " 5   title_e         360 non-null    object\n",
      " 6   detail_link     360 non-null    object\n",
      " 7   author          360 non-null    object\n",
      " 8   publisher       360 non-null    object\n",
      " 9   pub_date        360 non-null    object\n",
      " 10  price           360 non-null    object\n",
      " 11  n_reviews       360 non-null    object\n",
      " 12  review_link     360 non-null    object\n",
      " 13  rating          360 non-null    object\n",
      " 14  tags            360 non-null    object\n",
      " 15  book_id         360 non-null    object\n",
      " 16  page            360 non-null    object\n",
      " 17  weight          360 non-null    object\n",
      " 18  size            360 non-null    object\n",
      " 19  category        360 non-null    object\n",
      " 20  book_intro      360 non-null    object\n",
      " 21  pub_book_intro  360 non-null    object\n",
      "dtypes: int64(2), object(20)\n",
      "memory usage: 64.7+ KB\n"
     ]
    }
   ],
   "source": [
    "# 8월 베스트셀러 1-3페이지 리스트\n",
    "result = pd.DataFrame()\n",
    "for book_list2 in all_books:\n",
    "    temp = ydb.extract_bookinfo(yy, mon, book_list2)\n",
    "    df = pd.DataFrame(temp, columns=['yy', 'mon', 'title_h', 'title_f', 'title_m', 'title_e', 'detail_link', \\\n",
    "                                     'author', 'publisher', 'pub_date', 'price', 'n_reviews',\n",
    "                                     'review_link', 'rating', 'tags'])\n",
    "    result = pd.concat([result, df])\n",
    "\n",
    "# 8월 베스트셀서 1-3페이지 목록의 세부정보 링크로 세부정보 수집\n",
    "detail_page_data = ydb.detail_page_info(result['detail_link'])\n",
    "result['book_id'] = result['detail_link'].apply(lambda x: x.split(\"/\")[-1])\n",
    "final_result_df = pd.merge(result, detail_page_data, how='inner', on=\"book_id\")\n",
    "display(final_result_df.head(2))\n",
    "final_result_df.info() "
   ]
  },
  {
   "cell_type": "code",
   "execution_count": null,
   "id": "1f99c89f",
   "metadata": {},
   "outputs": [],
   "source": []
  },
  {
   "cell_type": "code",
   "execution_count": null,
   "id": "5b0e48dd",
   "metadata": {},
   "outputs": [],
   "source": []
  },
  {
   "cell_type": "code",
   "execution_count": null,
   "id": "7b7bbc5e",
   "metadata": {},
   "outputs": [],
   "source": []
  }
 ],
 "metadata": {
  "kernelspec": {
   "display_name": "testenv",
   "language": "python",
   "name": "testenv"
  },
  "language_info": {
   "codemirror_mode": {
    "name": "ipython",
    "version": 3
   },
   "file_extension": ".py",
   "mimetype": "text/x-python",
   "name": "python",
   "nbconvert_exporter": "python",
   "pygments_lexer": "ipython3",
   "version": "3.8.17"
  }
 },
 "nbformat": 4,
 "nbformat_minor": 5
}
