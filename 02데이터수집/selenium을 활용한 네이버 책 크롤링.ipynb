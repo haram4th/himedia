{
 "cells": [
  {
   "cell_type": "markdown",
   "id": "2770108f",
   "metadata": {},
   "source": [
    "# 1. Selenium이란?\n",
    "* 웹브라우저를 자동으로 제어하는 라이브러리\n",
    "* 본래 다양한 웹브라우저를 사용한 웹사이트 자동 테스트 도구\n",
    "* 현재는 웹브라우저를 자동 제어하여 동적 웹사이트에서 정보를 가져오는 용도로 많이 활용"
   ]
  },
  {
   "cell_type": "markdown",
   "id": "4e0c0419",
   "metadata": {},
   "source": [
    "# 2. 정적 웹 사이트 VS 동적 웹 사이트\n",
    "* 정적 웹 사이트(Static website): HTML 페이지 안에 웹 브라우저에 표시되는 모든 정보가 포함된 사이트\n",
    "  * requests 라이브러리를 활용해서 정보 추출 가능\n",
    "* 동적 웹 사이트(Dynamic website): Java Script를 사용하여 상황에 따라 필요한 정보를 불러와서 표시하는 웹사이트\n",
    "  * 상황에 맞추어 자바스크립트를 활용해 서버에 정보를 다시 요청하는 형식이라 requests로는 정보 추출이 어려움\n",
    "  * selenium으로 웹브라우저를 조작해 원하는 정보가 다 표시된 후 정보 추출 필요"
   ]
  },
  {
   "cell_type": "markdown",
   "id": "44ceba31",
   "metadata": {},
   "source": [
    "# 3. Selenium 웹 사이트\n",
    "* https://www.selenium.dev/documentation/webdriver/"
   ]
  },
  {
   "cell_type": "markdown",
   "id": "45a1a90e",
   "metadata": {},
   "source": [
    "# 4. Selenium 설치\n",
    "* pip install selenium    # 셀레니움 설치\n",
    "* pip install webdriver-manager   # web 드라이버 자동 다운로드"
   ]
  },
  {
   "cell_type": "code",
   "execution_count": 1,
   "id": "97082cd8",
   "metadata": {},
   "outputs": [
    {
     "name": "stdout",
     "output_type": "stream",
     "text": [
      "4.12.0\n"
     ]
    }
   ],
   "source": [
    "import selenium\n",
    "print(selenium.__version__)"
   ]
  },
  {
   "cell_type": "code",
   "execution_count": 2,
   "id": "84b3039c",
   "metadata": {},
   "outputs": [],
   "source": [
    "from selenium import webdriver\n",
    "from selenium.webdriver.chrome.service import Service as ChromeService\n",
    "from webdriver_manager.chrome import ChromeDriverManager\n",
    "from selenium.webdriver.common.keys import Keys\n",
    "from selenium.webdriver.common.by import By\n",
    "from bs4 import BeautifulSoup as bs\n",
    "import time"
   ]
  },
  {
   "cell_type": "code",
   "execution_count": 4,
   "id": "e28cf9a4",
   "metadata": {},
   "outputs": [],
   "source": [
    "# 웹 드라이버를 버전에 맞게 자동으로 다운 받고 옵션을 추가해 줌\n",
    "driver = webdriver.Chrome(service=ChromeService(ChromeDriverManager().install()))\n",
    "driver.set_window_size(1920, 1080) # 웹 브라우저 해상도 조절\n",
    "driver.get(\"https://search.shopping.naver.com/book/home\") # 크롤링 할 웹사이트 주소"
   ]
  },
  {
   "cell_type": "code",
   "execution_count": null,
   "id": "e914de6c",
   "metadata": {},
   "outputs": [],
   "source": [
    "div._lnbSearch_lnb_search_29ynI > div > div > form > input"
   ]
  },
  {
   "cell_type": "code",
   "execution_count": 7,
   "id": "f669e2af",
   "metadata": {
    "scrolled": true
   },
   "outputs": [],
   "source": [
    "search_box = driver.find_element(By.CSS_SELECTOR, \"div._lnbSearch_lnb_search_29ynI > div > div > form > input\")\n",
    "search_box.send_keys(\"파이썬\" + Keys.ENTER)"
   ]
  },
  {
   "cell_type": "code",
   "execution_count": 24,
   "id": "0793a69d",
   "metadata": {},
   "outputs": [
    {
     "ename": "NoSuchElementException",
     "evalue": "Message: no such element: Unable to locate element: {\"method\":\"css selector\",\"selector\":\"div.Paginator_list_paging__OTDcR > button.Paginator_btn_next__0pdVd\"}\n  (Session info: chrome=117.0.5938.92); For documentation on this error, please visit: https://www.selenium.dev/documentation/webdriver/troubleshooting/errors#no-such-element-exception\nStacktrace:\n\tGetHandleVerifier [0x002CCEB3+45171]\n\t(No symbol) [0x00259101]\n\t(No symbol) [0x0014BE1D]\n\t(No symbol) [0x0017ED40]\n\t(No symbol) [0x0017F20B]\n\t(No symbol) [0x001AF692]\n\t(No symbol) [0x0019B094]\n\t(No symbol) [0x001ADCFA]\n\t(No symbol) [0x0019AE46]\n\t(No symbol) [0x0017675E]\n\t(No symbol) [0x001778FD]\n\tGetHandleVerifier [0x005854B9+2897529]\n\tGetHandleVerifier [0x005CDC6B+3194411]\n\tGetHandleVerifier [0x005C7A41+3169281]\n\tGetHandleVerifier [0x00356130+606960]\n\t(No symbol) [0x00262E7C]\n\t(No symbol) [0x0025F008]\n\t(No symbol) [0x0025F12F]\n\t(No symbol) [0x00251827]\n\tBaseThreadInitThunk [0x75F4FCC9+25]\n\tRtlGetAppContainerNamedObjectPath [0x77AF7B1E+286]\n\tRtlGetAppContainerNamedObjectPath [0x77AF7AEE+238]\n\t(No symbol) [0x00000000]\n",
     "output_type": "error",
     "traceback": [
      "\u001b[1;31m---------------------------------------------------------------------------\u001b[0m",
      "\u001b[1;31mNoSuchElementException\u001b[0m                    Traceback (most recent call last)",
      "Cell \u001b[1;32mIn[24], line 13\u001b[0m\n\u001b[0;32m     11\u001b[0m soup \u001b[38;5;241m=\u001b[39m bs(page_html, \u001b[38;5;124m\"\u001b[39m\u001b[38;5;124mlxml\u001b[39m\u001b[38;5;124m\"\u001b[39m)\n\u001b[0;32m     12\u001b[0m all_booklist\u001b[38;5;241m.\u001b[39mappend(soup)\n\u001b[1;32m---> 13\u001b[0m \u001b[43mdriver\u001b[49m\u001b[38;5;241;43m.\u001b[39;49m\u001b[43mfind_element\u001b[49m\u001b[43m(\u001b[49m\u001b[43mBy\u001b[49m\u001b[38;5;241;43m.\u001b[39;49m\u001b[43mCSS_SELECTOR\u001b[49m\u001b[43m,\u001b[49m\u001b[43m \u001b[49m\u001b[38;5;124;43m\"\u001b[39;49m\u001b[38;5;124;43mdiv.Paginator_list_paging__OTDcR > button.Paginator_btn_next__0pdVd\u001b[39;49m\u001b[38;5;124;43m\"\u001b[39;49m\u001b[43m)\u001b[49m\u001b[38;5;241m.\u001b[39mclick()\n",
      "File \u001b[1;32m~\\anaconda3\\envs\\testenv\\lib\\site-packages\\selenium\\webdriver\\remote\\webdriver.py:738\u001b[0m, in \u001b[0;36mWebDriver.find_element\u001b[1;34m(self, by, value)\u001b[0m\n\u001b[0;32m    735\u001b[0m     by \u001b[38;5;241m=\u001b[39m By\u001b[38;5;241m.\u001b[39mCSS_SELECTOR\n\u001b[0;32m    736\u001b[0m     value \u001b[38;5;241m=\u001b[39m \u001b[38;5;124mf\u001b[39m\u001b[38;5;124m'\u001b[39m\u001b[38;5;124m[name=\u001b[39m\u001b[38;5;124m\"\u001b[39m\u001b[38;5;132;01m{\u001b[39;00mvalue\u001b[38;5;132;01m}\u001b[39;00m\u001b[38;5;124m\"\u001b[39m\u001b[38;5;124m]\u001b[39m\u001b[38;5;124m'\u001b[39m\n\u001b[1;32m--> 738\u001b[0m \u001b[38;5;28;01mreturn\u001b[39;00m \u001b[38;5;28;43mself\u001b[39;49m\u001b[38;5;241;43m.\u001b[39;49m\u001b[43mexecute\u001b[49m\u001b[43m(\u001b[49m\u001b[43mCommand\u001b[49m\u001b[38;5;241;43m.\u001b[39;49m\u001b[43mFIND_ELEMENT\u001b[49m\u001b[43m,\u001b[49m\u001b[43m \u001b[49m\u001b[43m{\u001b[49m\u001b[38;5;124;43m\"\u001b[39;49m\u001b[38;5;124;43musing\u001b[39;49m\u001b[38;5;124;43m\"\u001b[39;49m\u001b[43m:\u001b[49m\u001b[43m \u001b[49m\u001b[43mby\u001b[49m\u001b[43m,\u001b[49m\u001b[43m \u001b[49m\u001b[38;5;124;43m\"\u001b[39;49m\u001b[38;5;124;43mvalue\u001b[39;49m\u001b[38;5;124;43m\"\u001b[39;49m\u001b[43m:\u001b[49m\u001b[43m \u001b[49m\u001b[43mvalue\u001b[49m\u001b[43m}\u001b[49m\u001b[43m)\u001b[49m[\u001b[38;5;124m\"\u001b[39m\u001b[38;5;124mvalue\u001b[39m\u001b[38;5;124m\"\u001b[39m]\n",
      "File \u001b[1;32m~\\anaconda3\\envs\\testenv\\lib\\site-packages\\selenium\\webdriver\\remote\\webdriver.py:344\u001b[0m, in \u001b[0;36mWebDriver.execute\u001b[1;34m(self, driver_command, params)\u001b[0m\n\u001b[0;32m    342\u001b[0m response \u001b[38;5;241m=\u001b[39m \u001b[38;5;28mself\u001b[39m\u001b[38;5;241m.\u001b[39mcommand_executor\u001b[38;5;241m.\u001b[39mexecute(driver_command, params)\n\u001b[0;32m    343\u001b[0m \u001b[38;5;28;01mif\u001b[39;00m response:\n\u001b[1;32m--> 344\u001b[0m     \u001b[38;5;28;43mself\u001b[39;49m\u001b[38;5;241;43m.\u001b[39;49m\u001b[43merror_handler\u001b[49m\u001b[38;5;241;43m.\u001b[39;49m\u001b[43mcheck_response\u001b[49m\u001b[43m(\u001b[49m\u001b[43mresponse\u001b[49m\u001b[43m)\u001b[49m\n\u001b[0;32m    345\u001b[0m     response[\u001b[38;5;124m\"\u001b[39m\u001b[38;5;124mvalue\u001b[39m\u001b[38;5;124m\"\u001b[39m] \u001b[38;5;241m=\u001b[39m \u001b[38;5;28mself\u001b[39m\u001b[38;5;241m.\u001b[39m_unwrap_value(response\u001b[38;5;241m.\u001b[39mget(\u001b[38;5;124m\"\u001b[39m\u001b[38;5;124mvalue\u001b[39m\u001b[38;5;124m\"\u001b[39m, \u001b[38;5;28;01mNone\u001b[39;00m))\n\u001b[0;32m    346\u001b[0m     \u001b[38;5;28;01mreturn\u001b[39;00m response\n",
      "File \u001b[1;32m~\\anaconda3\\envs\\testenv\\lib\\site-packages\\selenium\\webdriver\\remote\\errorhandler.py:229\u001b[0m, in \u001b[0;36mErrorHandler.check_response\u001b[1;34m(self, response)\u001b[0m\n\u001b[0;32m    227\u001b[0m         alert_text \u001b[38;5;241m=\u001b[39m value[\u001b[38;5;124m\"\u001b[39m\u001b[38;5;124malert\u001b[39m\u001b[38;5;124m\"\u001b[39m]\u001b[38;5;241m.\u001b[39mget(\u001b[38;5;124m\"\u001b[39m\u001b[38;5;124mtext\u001b[39m\u001b[38;5;124m\"\u001b[39m)\n\u001b[0;32m    228\u001b[0m     \u001b[38;5;28;01mraise\u001b[39;00m exception_class(message, screen, stacktrace, alert_text)  \u001b[38;5;66;03m# type: ignore[call-arg]  # mypy is not smart enough here\u001b[39;00m\n\u001b[1;32m--> 229\u001b[0m \u001b[38;5;28;01mraise\u001b[39;00m exception_class(message, screen, stacktrace)\n",
      "\u001b[1;31mNoSuchElementException\u001b[0m: Message: no such element: Unable to locate element: {\"method\":\"css selector\",\"selector\":\"div.Paginator_list_paging__OTDcR > button.Paginator_btn_next__0pdVd\"}\n  (Session info: chrome=117.0.5938.92); For documentation on this error, please visit: https://www.selenium.dev/documentation/webdriver/troubleshooting/errors#no-such-element-exception\nStacktrace:\n\tGetHandleVerifier [0x002CCEB3+45171]\n\t(No symbol) [0x00259101]\n\t(No symbol) [0x0014BE1D]\n\t(No symbol) [0x0017ED40]\n\t(No symbol) [0x0017F20B]\n\t(No symbol) [0x001AF692]\n\t(No symbol) [0x0019B094]\n\t(No symbol) [0x001ADCFA]\n\t(No symbol) [0x0019AE46]\n\t(No symbol) [0x0017675E]\n\t(No symbol) [0x001778FD]\n\tGetHandleVerifier [0x005854B9+2897529]\n\tGetHandleVerifier [0x005CDC6B+3194411]\n\tGetHandleVerifier [0x005C7A41+3169281]\n\tGetHandleVerifier [0x00356130+606960]\n\t(No symbol) [0x00262E7C]\n\t(No symbol) [0x0025F008]\n\t(No symbol) [0x0025F12F]\n\t(No symbol) [0x00251827]\n\tBaseThreadInitThunk [0x75F4FCC9+25]\n\tRtlGetAppContainerNamedObjectPath [0x77AF7B1E+286]\n\tRtlGetAppContainerNamedObjectPath [0x77AF7AEE+238]\n\t(No symbol) [0x00000000]\n"
     ]
    }
   ],
   "source": [
    "all_booklist = []\n",
    "for page in range(1,20):\n",
    "    y = 0 # 마우스 스크롤 시작 지점\n",
    "    y_step = 1000 # 마우스 스크롤 길이\n",
    "    for i in range(1, 8):\n",
    "        y =  y + y_step\n",
    "        script = f\"window.scrollTo({0},{y})\"  # 자바 스크립트로 위치 지정\n",
    "        driver.execute_script(script)         # 스크롤 실행\n",
    "        time.sleep(2)\n",
    "    page_html = driver.page_source # 페이지 끝에서 40 개의 책이 로딩된 결과를 저장\n",
    "    soup = bs(page_html, \"lxml\")\n",
    "    all_booklist.append(soup)\n",
    "    driver.find_element(By.CSS_SELECTOR, \"div.Paginator_list_paging__OTDcR > button.Paginator_btn_next__0pdVd\").click() # 다음페이지 넘김 버튼 클릭\n",
    "    time.sleep(2)"
   ]
  },
  {
   "cell_type": "code",
   "execution_count": 18,
   "id": "aa6b298f",
   "metadata": {},
   "outputs": [
    {
     "data": {
      "text/plain": [
       "'모두의 파이썬 (20일 만에 배우는 프로그래밍 기초)'"
      ]
     },
     "execution_count": 18,
     "metadata": {},
     "output_type": "execute_result"
    }
   ],
   "source": [
    "soup.select_one(\".bookListItem_title__X7f9_\").get_text()"
   ]
  }
 ],
 "metadata": {
  "kernelspec": {
   "display_name": "testenv",
   "language": "python",
   "name": "testenv"
  },
  "language_info": {
   "codemirror_mode": {
    "name": "ipython",
    "version": 3
   },
   "file_extension": ".py",
   "mimetype": "text/x-python",
   "name": "python",
   "nbconvert_exporter": "python",
   "pygments_lexer": "ipython3",
   "version": "3.8.17"
  }
 },
 "nbformat": 4,
 "nbformat_minor": 5
}
