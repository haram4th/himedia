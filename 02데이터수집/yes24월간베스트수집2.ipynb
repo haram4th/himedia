{
 "cells": [
  {
   "cell_type": "code",
   "execution_count": 158,
   "id": "7de4d628",
   "metadata": {},
   "outputs": [],
   "source": [
    "import requests  # 서버에 http 프로토콜로 요청\n",
    "from bs4 import BeautifulSoup as bs  # html 파싱\n",
    "import time  # 5초간 휴식 할 때 사용\n",
    "from datetime import datetime  # 오늘 연월일 추출\n",
    "import pandas as pd  # 데이터 프레임 만듬\n",
    "from tqdm import tqdm\n",
    "import sqlite3\n",
    "from sqlalchemy import create_engine"
   ]
  },
  {
   "cell_type": "code",
   "execution_count": 2,
   "id": "01cb09ee",
   "metadata": {},
   "outputs": [
    {
     "name": "stdout",
     "output_type": "stream",
     "text": [
      "2023 9\n"
     ]
    }
   ],
   "source": [
    "today = datetime.today()\n",
    "yyyy = today.year\n",
    "mm = today.month\n",
    "print(yyyy, mm)"
   ]
  },
  {
   "cell_type": "code",
   "execution_count": 3,
   "id": "a0a8210e",
   "metadata": {},
   "outputs": [
    {
     "name": "stdout",
     "output_type": "stream",
     "text": [
      "[2023]\n",
      "[1, 2, 3, 4, 5, 6, 7, 8, 9, 10, 11, 12]\n",
      "[1, 2, 3, 4, 5, 6, 7, 8, 9]\n"
     ]
    }
   ],
   "source": [
    "year = list(range(2023, 2022, -1))\n",
    "month = list(range(1, 13))\n",
    "page = list(range(1, 10))\n",
    "print(year)\n",
    "print(month)\n",
    "print(page)\n"
   ]
  },
  {
   "cell_type": "code",
   "execution_count": 132,
   "id": "8a8a7df0",
   "metadata": {},
   "outputs": [],
   "source": [
    "# book_list에서 책 1권의 정보를 추출하는 함수\n",
    "def extract_bookinfo(yy, mon, book_list):\n",
    "    for book in book_list:\n",
    "        title_h = book.select_one(\".gd_res\").get_text()\n",
    "        title_f = book.select_one(\".gd_nameF\").get_text() if book.select_one(\".gd_nameF\") != None else \"\"\n",
    "        title_m = book.select_one(\".gd_name\").get_text() if book.select_one(\".gd_name\") != None else \"제목없음\"\n",
    "        title_e = book.select_one(\".gd_nameE\").get_text() if book.select_one(\".gd_nameE\") != None else \"\"\n",
    "        detail_link = \"https://www.yes24.com\" + book.select_one(\".gd_name\")[\"href\"] if book.select_one(\".gd_name\") != None else \"제목없음\"\n",
    "        author = [i.get_text() for i in book.select(\".authPub.info_auth > a\") if book.select(\".authPub.info_auth > a\") != None]\n",
    "        publisher = book.select_one(\".authPub.info_pub > a\").get_text() if book.select_one(\".authPub.info_pub > a\") != None else \"\"\n",
    "        pub_date = book.select_one(\".authPub.info_date\").get_text() if book.select_one(\".authPub.info_date\") != None else \"\"\n",
    "        price = book.select_one(\".yes_b\").get_text() if book.select_one(\".yes_b\") != None else 0\n",
    "        n_reviews = book.select_one(\".txC_blue\").get_text() if book.select_one(\".txC_blue\") != None else 0\n",
    "        review_link = book.select_one(\".rating_rvCount > a\")['href'] if book.select_one(\".rating_rvCount > a\") != None else \"\"\n",
    "        rating = book.select_one(\"span.rating_grade > .yes_b\").get_text() if book.select_one(\"span.rating_grade > .yes_b\") != None else 0\n",
    "        tags = [i.get_text() for i in book.select(\".info_row.info_tag > .tag > a\") if book.select(\".info_row.info_tag > .tag > a\") != None]\n",
    "        return [yy, mon, title_h, title_f, title_m, title_e, detail_link, author, publisher, pub_date, price, n_reviews,\n",
    "             review_link, rating, tags]\n",
    "     "
   ]
  },
  {
   "cell_type": "code",
   "execution_count": 161,
   "id": "31f10e23",
   "metadata": {
    "scrolled": false
   },
   "outputs": [],
   "source": [
    "def detail_page_info(urls):\n",
    "    detail_result = pd.DataFrame()\n",
    "    for index, url2 in enumerate(urls[:10]):\n",
    "        print(f\"{index}/{len(urls)} 데이터 추출 중\")\n",
    "        r2 = requests.get(url2)\n",
    "        soup2 = bs(r2.text, 'lxml')\n",
    "        book_id = url2.split(\"/\")[-1]\n",
    "        if soup2.select_one(\"div.infoSetCont_wrap tr:nth-child(2) > td\") != None:\n",
    "            if \"쪽수\" in soup2.select_one(\"div.infoSetCont_wrap tr:nth-child(2) > th\").text:\n",
    "                if len(soup2.select_one(\"div.infoSetCont_wrap tr:nth-child(2) > td\").text.split(\"|\")) == 3:\n",
    "                    page, weight, size = soup2.select_one(\"div.infoSetCont_wrap tr:nth-child(2) > td\").text.split(\"|\")\n",
    "                elif len(soup2.select_one(\"div.infoSetCont_wrap tr:nth-child(2) > td\").text.split(\"|\")) == 2 and \\\n",
    "                       soup2.select_one(\"div.infoSetCont_wrap tr:nth-child(2) > td\").text.split(\"|\")[1][-2:] == \"mm\":\n",
    "                    page, size = soup2.select_one(\"div.infoSetCont_wrap tr:nth-child(2) > td\").text.split(\"|\")\n",
    "                    weight = 0\n",
    "            elif \"쪽수\" in soup2.select_one(\"div.infoSetCont_wrap tr:nth-child(3) > th\").text:\n",
    "                if len(soup2.select_one(\"div.infoSetCont_wrap tr:nth-child(3) > td\").text.split(\"|\")) == 3:\n",
    "                    page, weight, size = soup2.select_one(\"div.infoSetCont_wrap tr:nth-child(3) > td\").text.split(\"|\")\n",
    "                elif len(soup2.select_one(\"div.infoSetCont_wrap tr:nth-child(3) > td\").text.split(\"|\")) == 2 and \\\n",
    "                   soup2.select_one(\"div.infoSetCont_wrap tr:nth-child(3) > td\").text.split(\"|\")[1][-2:] == \"mm\":\n",
    "                    page, size = soup2.select_one(\"div.infoSetCont_wrap tr:nth-child(3) > td\").text.split(\"|\")\n",
    "                    weight = 0\n",
    "            elif \"쪽수\" in soup2.select_one(\"div.infoSetCont_wrap tr:nth-child(4) > th\").text:\n",
    "                if len(soup2.select_one(\"div.infoSetCont_wrap tr:nth-child(4) > td\").text.split(\"|\")) == 3:\n",
    "                    page, weight, size = soup2.select_one(\"div.infoSetCont_wrap tr:nth-child(4) > td\").text.split(\"|\")\n",
    "                elif len(soup2.select_one(\"div.infoSetCont_wrap tr:nth-child(4) > td\").text.split(\"|\")) == 2 and \\\n",
    "                       soup2.select_one(\"div.infoSetCont_wrap tr:nth-child(4) > td\").text.split(\"|\")[1][-2:] == \"mm\":\n",
    "                        page, size = soup2.select_one(\"div.infoSetCont_wrap tr:nth-child(4) > td\").text.split(\"|\")\n",
    "                        weight = 0\n",
    "        else:\n",
    "            page = 0\n",
    "            weight = 0\n",
    "            size = \"\"\n",
    "        category = list({i. text for i in soup2.select(\"div.infoSetCont_wrap > dl:nth-child(1) > dd > ul a\") if soup2.select(\"div.infoSetCont_wrap > dl:nth-child(1) > dd > ul a\") != None})\n",
    "        book_intro = soup2.select_one(\".infoWrap_txtInner\").get_text() if soup2.select_one(\".infoWrap_txtInner\") != None else \"\"\n",
    "        pub_book_intro = soup2.select_one(\".infoWrap_txt\").get_text() if soup2.select_one(\".infoWrap_txt\") != None else \"\"\n",
    "\n",
    "        result_detail = [book_id, page, weight, size, category, book_intro, pub_book_intro]\n",
    "        colname = ['book_id', 'page', 'weight', 'size', 'category', 'book_intro', 'pub_book_intro']\n",
    "        temp = pd.DataFrame([result_detail], columns = colname)\n",
    "        detail_result = pd.concat([detail_result, temp])\n",
    "        detail_result.to_csv(\"./data/yes24_2023_01best_detail.csv\", index=False)\n",
    "    return detail_result"
   ]
  },
  {
   "cell_type": "code",
   "execution_count": 163,
   "id": "6b764e36",
   "metadata": {},
   "outputs": [],
   "source": [
    "def to_db(df):\n",
    "    for col in df.columns:\n",
    "        df[col] = df[col].apply(str)    \n",
    "    engine = create_engine('sqlite:///yes24_final.db', echo= False)\n",
    "    conn = engine.raw_connection()\n",
    "    df.to_sql('yes24_final_fn', con=conn, if_exists='append')\n",
    "    print(\"데이터베이스 저장 완료\")"
   ]
  },
  {
   "cell_type": "code",
   "execution_count": 164,
   "id": "ac29fc93",
   "metadata": {
    "scrolled": true
   },
   "outputs": [
    {
     "name": "stdout",
     "output_type": "stream",
     "text": [
      "0/240 데이터 추출 중중\n",
      "1/240 데이터 추출 중\n",
      "2/240 데이터 추출 중\n",
      "3/240 데이터 추출 중\n",
      "4/240 데이터 추출 중\n",
      "5/240 데이터 추출 중\n",
      "6/240 데이터 추출 중\n",
      "7/240 데이터 추출 중\n",
      "8/240 데이터 추출 중\n",
      "9/240 데이터 추출 중\n",
      "데이터베이스 저장 완료\n"
     ]
    },
    {
     "name": "stderr",
     "output_type": "stream",
     "text": [
      "C:\\Users\\hi\\AppData\\Local\\Temp\\ipykernel_13356\\1682931616.py:6: UserWarning: pandas only supports SQLAlchemy connectable (engine/connection) or database string URI or sqlite3 DBAPI2 connection. Other DBAPI2 objects are not tested. Please consider using SQLAlchemy.\n",
      "  df.to_sql('yes24_final_fn', con=conn, if_exists='append')\n"
     ]
    }
   ],
   "source": [
    "result = []\n",
    "for yy in year:\n",
    "    for mon in month if yy != yyyy else range(1, mm)[:1]:\n",
    "        for p in page[:2]:\n",
    "            print(f\"{yy}년{mon}월{p}페이지 수집중\", end=\"\\r\")\n",
    "            url = \"https://www.yes24.com/Product/Category/MonthWeekBestSeller\"\n",
    "            payload = dict(categoryNumber='001', pageNumber=p, pageSize=120, type='month', saleYear=yy, saleMonth=mon)\n",
    "            \n",
    "            try:\n",
    "                r = requests.get(url, params=payload) # yes24 서버에 url로 자료 요청\n",
    "            except Exception as e:\n",
    "                print(e)\n",
    "            \n",
    "            soup = bs(r.text, 'lxml')   # yes24 서버에서 받은 응답 값 텍스트를 beautifulsoup을 통해 html로 파싱\n",
    "            book_list = soup.select(\"#yesBestList > li\")\n",
    "            result.extend(extract_bookinfo(yy, mon, book_list))  # extract_bookinfo 함수로 추출한 데이터를 result에 추가\n",
    "            time.sleep(5)\n",
    "df2 = pd.DataFrame(result, columns=['yy', 'mon', 'title_h', 'title_f', 'title_m', 'title_e', 'detail_link', \\\n",
    "                                    'author', 'publisher', 'pub_date', 'price', 'n_reviews', \\\n",
    "                                     'review_link', 'rating', 'tags'])\n",
    "df2.to_csv(\"./data/new_yes24bestseller2023_01_1000.csv\", index=False)\n",
    "data2 = pd.read_csv(\"./data/new_yes24bestseller2023_01_1000.csv\")\n",
    "urls = data2['detail_link']\n",
    "detail_page_data = detail_page_info(urls)  # detail_page_info 함수로 상세페이지 데이터 추출\n",
    "df2['book_id'] = df2['detail_link'].apply(lambda x: x.split(\"/\")[-1]) \n",
    "final_result_df = pd.merge(df2, detail_page_data, how='inner', on=\"book_id\") # 베스트 셀러 목록과 detail info 합침\n",
    "final_result_df.head(2)\n",
    "to_db(final_result_df) # 최종 데이터를 sqlite3 데이터 베이스에 저장"
   ]
  },
  {
   "cell_type": "code",
   "execution_count": 157,
   "id": "820e092c",
   "metadata": {},
   "outputs": [
    {
     "data": {
      "text/html": [
       "<div>\n",
       "<style scoped>\n",
       "    .dataframe tbody tr th:only-of-type {\n",
       "        vertical-align: middle;\n",
       "    }\n",
       "\n",
       "    .dataframe tbody tr th {\n",
       "        vertical-align: top;\n",
       "    }\n",
       "\n",
       "    .dataframe thead th {\n",
       "        text-align: right;\n",
       "    }\n",
       "</style>\n",
       "<table border=\"1\" class=\"dataframe\">\n",
       "  <thead>\n",
       "    <tr style=\"text-align: right;\">\n",
       "      <th></th>\n",
       "      <th>yy</th>\n",
       "      <th>mon</th>\n",
       "      <th>title_h</th>\n",
       "      <th>title_f</th>\n",
       "      <th>title_m</th>\n",
       "      <th>title_e</th>\n",
       "      <th>detail_link</th>\n",
       "      <th>author</th>\n",
       "      <th>publisher</th>\n",
       "      <th>pub_date</th>\n",
       "      <th>...</th>\n",
       "      <th>review_link</th>\n",
       "      <th>rating</th>\n",
       "      <th>tags</th>\n",
       "      <th>book_id</th>\n",
       "      <th>page</th>\n",
       "      <th>weight</th>\n",
       "      <th>size</th>\n",
       "      <th>category</th>\n",
       "      <th>book_intro</th>\n",
       "      <th>pub_book_intro</th>\n",
       "    </tr>\n",
       "  </thead>\n",
       "  <tbody>\n",
       "    <tr>\n",
       "      <th>0</th>\n",
       "      <td>2023</td>\n",
       "      <td>1</td>\n",
       "      <td>[도서]</td>\n",
       "      <td></td>\n",
       "      <td>긴긴밤</td>\n",
       "      <td></td>\n",
       "      <td>https://www.yes24.com/Product/Goods/97255028</td>\n",
       "      <td>[루리]</td>\n",
       "      <td>문학동네</td>\n",
       "      <td>2021년 02월</td>\n",
       "      <td>...</td>\n",
       "      <td>https://www.yes24.com/Product/Goods/97255028?R...</td>\n",
       "      <td>9.8</td>\n",
       "      <td>[#대장금_출판사대표추천도서, #독서지도안, #북클러버의선택, #2022아침독서추천...</td>\n",
       "      <td>97255028</td>\n",
       "      <td>144쪽</td>\n",
       "      <td>340g</td>\n",
       "      <td>153*220*11mm</td>\n",
       "      <td>[5-6학년 창작동화, 어린이 문학, 창작동화, 5-6학년 그림/동화책, 5-6학년...</td>\n",
       "      <td>\\n\\r\\n제21회 문학동네어린이문학상 대상 수상작 『긴긴밤』\\r\\n세상에 마지막 ...</td>\n",
       "      <td>\\n\\n\\r\\n제21회 문학동네어린이문학상 대상 수상작 『긴긴밤』\\r\\n세상에 마지...</td>\n",
       "    </tr>\n",
       "    <tr>\n",
       "      <th>1</th>\n",
       "      <td>2023</td>\n",
       "      <td>1</td>\n",
       "      <td>[도서]</td>\n",
       "      <td></td>\n",
       "      <td>하루 한 장 고전 수업</td>\n",
       "      <td>365일 인생의 내공을 기르는</td>\n",
       "      <td>https://www.yes24.com/Product/Goods/115382717</td>\n",
       "      <td>[조윤제]</td>\n",
       "      <td>비즈니스북스</td>\n",
       "      <td>2022년 11월</td>\n",
       "      <td>...</td>\n",
       "      <td>https://www.yes24.com/Product/Goods/115382717?...</td>\n",
       "      <td>9.6</td>\n",
       "      <td>[]</td>\n",
       "      <td>115382717</td>\n",
       "      <td>408쪽</td>\n",
       "      <td>708g</td>\n",
       "      <td>152*225*24mm</td>\n",
       "      <td>[처세술/삶의 자세, 교양으로 읽는 인문, 인문/교양, 자기계발, 국내도서, 인문]</td>\n",
       "      <td>\\n\\r\\n365가지 고전의 내공을 내 것으로 만들어라!\\r\\n대한민국이 사랑하는 ...</td>\n",
       "      <td>\\n\\n\\r\\n365가지 고전의 내공을 내 것으로 만들어라!\\r\\n대한민국이 사랑하...</td>\n",
       "    </tr>\n",
       "  </tbody>\n",
       "</table>\n",
       "<p>2 rows × 22 columns</p>\n",
       "</div>"
      ],
      "text/plain": [
       "     yy  mon title_h title_f       title_m           title_e  \\\n",
       "0  2023    1    [도서]                   긴긴밤                     \n",
       "1  2023    1    [도서]          하루 한 장 고전 수업  365일 인생의 내공을 기르는   \n",
       "\n",
       "                                     detail_link author publisher   pub_date  \\\n",
       "0   https://www.yes24.com/Product/Goods/97255028   [루리]      문학동네  2021년 02월   \n",
       "1  https://www.yes24.com/Product/Goods/115382717  [조윤제]    비즈니스북스  2022년 11월   \n",
       "\n",
       "   ...                                        review_link rating  \\\n",
       "0  ...  https://www.yes24.com/Product/Goods/97255028?R...    9.8   \n",
       "1  ...  https://www.yes24.com/Product/Goods/115382717?...    9.6   \n",
       "\n",
       "                                                tags    book_id   page  \\\n",
       "0  [#대장금_출판사대표추천도서, #독서지도안, #북클러버의선택, #2022아침독서추천...   97255028  144쪽    \n",
       "1                                                 []  115382717  408쪽    \n",
       "\n",
       "   weight           size                                           category  \\\n",
       "0   340g    153*220*11mm  [5-6학년 창작동화, 어린이 문학, 창작동화, 5-6학년 그림/동화책, 5-6학년...   \n",
       "1   708g    152*225*24mm     [처세술/삶의 자세, 교양으로 읽는 인문, 인문/교양, 자기계발, 국내도서, 인문]   \n",
       "\n",
       "                                          book_intro  \\\n",
       "0  \\n\\r\\n제21회 문학동네어린이문학상 대상 수상작 『긴긴밤』\\r\\n세상에 마지막 ...   \n",
       "1  \\n\\r\\n365가지 고전의 내공을 내 것으로 만들어라!\\r\\n대한민국이 사랑하는 ...   \n",
       "\n",
       "                                      pub_book_intro  \n",
       "0  \\n\\n\\r\\n제21회 문학동네어린이문학상 대상 수상작 『긴긴밤』\\r\\n세상에 마지...  \n",
       "1  \\n\\n\\r\\n365가지 고전의 내공을 내 것으로 만들어라!\\r\\n대한민국이 사랑하...  \n",
       "\n",
       "[2 rows x 22 columns]"
      ]
     },
     "execution_count": 157,
     "metadata": {},
     "output_type": "execute_result"
    }
   ],
   "source": []
  },
  {
   "cell_type": "code",
   "execution_count": null,
   "id": "1a27445b",
   "metadata": {},
   "outputs": [],
   "source": []
  },
  {
   "cell_type": "code",
   "execution_count": null,
   "id": "f96e9317",
   "metadata": {},
   "outputs": [],
   "source": []
  },
  {
   "cell_type": "code",
   "execution_count": 134,
   "id": "8bdabe4b",
   "metadata": {
    "scrolled": true
   },
   "outputs": [
    {
     "data": {
      "text/plain": [
       "2"
      ]
     },
     "execution_count": 134,
     "metadata": {},
     "output_type": "execute_result"
    }
   ],
   "source": [
    "len(result)"
   ]
  },
  {
   "cell_type": "code",
   "execution_count": 13,
   "id": "25236b98",
   "metadata": {},
   "outputs": [],
   "source": [
    "colnames = ['yy', 'mon', 'title_h', 'title_f', 'title_m', 'title_e', 'detail_link', 'author', 'publisher',\n",
    "            'pub_date', 'price', 'n_reviews', 'review_link', 'rating', 'tags']"
   ]
  },
  {
   "cell_type": "code",
   "execution_count": 14,
   "id": "9015b02d",
   "metadata": {},
   "outputs": [],
   "source": [
    "df = pd.DataFrame(result, columns= colnames)"
   ]
  },
  {
   "cell_type": "code",
   "execution_count": 15,
   "id": "bc5a1bb1",
   "metadata": {},
   "outputs": [],
   "source": [
    "df.to_csv(\"./data/new_yes24bestseller2023_01_1000.csv\", index=False)"
   ]
  },
  {
   "cell_type": "code",
   "execution_count": 16,
   "id": "00da43d4",
   "metadata": {},
   "outputs": [],
   "source": [
    "data = pd.read_csv(\"./data/new_yes24bestseller2023_01_1000.csv\")"
   ]
  },
  {
   "cell_type": "code",
   "execution_count": 20,
   "id": "76afd7d0",
   "metadata": {},
   "outputs": [],
   "source": [
    "urls = data['detail_link']"
   ]
  },
  {
   "cell_type": "code",
   "execution_count": null,
   "id": "3ca3152d",
   "metadata": {},
   "outputs": [],
   "source": [
    "# 데이터 베이스에 저장하기\n",
    "# 파일로 바로 저장하기"
   ]
  },
  {
   "cell_type": "markdown",
   "id": "5e260afe",
   "metadata": {},
   "source": [
    "상세 페이지 수집"
   ]
  },
  {
   "cell_type": "code",
   "execution_count": 107,
   "id": "108000a8",
   "metadata": {},
   "outputs": [
    {
     "data": {
      "text/plain": [
       "Index(['book_id', 'page', 'weight', 'size', 'category', 'book_intro',\n",
       "       'pub_book_intro'],\n",
       "      dtype='object')"
      ]
     },
     "execution_count": 107,
     "metadata": {},
     "output_type": "execute_result"
    }
   ],
   "source": [
    "detail_result.columns"
   ]
  },
  {
   "cell_type": "code",
   "execution_count": 121,
   "id": "0116900d",
   "metadata": {},
   "outputs": [
    {
     "name": "stdout",
     "output_type": "stream",
     "text": [
      "<class 'pandas.core.frame.DataFrame'>\n",
      "Int64Index: 1000 entries, 0 to 0\n",
      "Data columns (total 7 columns):\n",
      " #   Column          Non-Null Count  Dtype \n",
      "---  ------          --------------  ----- \n",
      " 0   book_id         1000 non-null   object\n",
      " 1   page            1000 non-null   object\n",
      " 2   weight          1000 non-null   object\n",
      " 3   size            1000 non-null   object\n",
      " 4   category        1000 non-null   object\n",
      " 5   book_intro      1000 non-null   object\n",
      " 6   pub_book_intro  1000 non-null   object\n",
      "dtypes: object(7)\n",
      "memory usage: 62.5+ KB\n"
     ]
    }
   ],
   "source": [
    "detail_result.info()"
   ]
  },
  {
   "cell_type": "markdown",
   "id": "9f677e38",
   "metadata": {},
   "source": [
    "# 데이터 베이스에 자료 저장하기\n",
    "* pandas 데이터 프레임을 DB에 바로 저장하기"
   ]
  },
  {
   "cell_type": "code",
   "execution_count": 105,
   "id": "ac2f226d",
   "metadata": {},
   "outputs": [],
   "source": [
    "import sqlite3"
   ]
  },
  {
   "cell_type": "code",
   "execution_count": 106,
   "id": "c0a6c5e5",
   "metadata": {},
   "outputs": [],
   "source": [
    "con = sqlite3.connect(\"sqlite3_yes24_best2023_01.db\")\n",
    "cursor = con.cursor()"
   ]
  },
  {
   "cell_type": "code",
   "execution_count": 112,
   "id": "abfe2b72",
   "metadata": {},
   "outputs": [],
   "source": [
    "cursor.execute(f'CREATE TABLE IF NOT EXISTS yes24_best_202301({list(detail_result.columns)})')\n",
    "con.commit()"
   ]
  },
  {
   "cell_type": "code",
   "execution_count": 116,
   "id": "7019ec50",
   "metadata": {},
   "outputs": [],
   "source": [
    "detail_result['page'] = detail_result['page'].apply(str)"
   ]
  },
  {
   "cell_type": "code",
   "execution_count": 117,
   "id": "3e23fb7d",
   "metadata": {},
   "outputs": [],
   "source": [
    "detail_result['weight'] = detail_result['weight'].apply(str)"
   ]
  },
  {
   "cell_type": "code",
   "execution_count": 122,
   "id": "37dc0251",
   "metadata": {},
   "outputs": [],
   "source": [
    "detail_result['category'] = detail_result['category'].apply(str)"
   ]
  },
  {
   "cell_type": "code",
   "execution_count": 123,
   "id": "45c8d466",
   "metadata": {},
   "outputs": [
    {
     "data": {
      "text/plain": [
       "1000"
      ]
     },
     "execution_count": 123,
     "metadata": {},
     "output_type": "execute_result"
    }
   ],
   "source": [
    "detail_result.to_sql('yes24_best_202301', con, if_exists='append', index=False)"
   ]
  },
  {
   "cell_type": "code",
   "execution_count": 126,
   "id": "3355433e",
   "metadata": {},
   "outputs": [
    {
     "name": "stdout",
     "output_type": "stream",
     "text": [
      "('115142458', '280쪽 ', ' 408g ', ' 145*210*18mm', \"['노년 / 죽음', '국내도서', '주제로 읽는 인문학 ', '인문']\", '\\n\\r\\n“하나의 문이 닫히면 또 하나의 문이 열린다. \\r\\n그러니 더 이상 고민하지 말고 그냥 재미있게 살아라!”\\r\\n\\r\\n30년 동안 정신분석 전문의로 일해 온 김혜남이 벌써 마흔이 된 당신에게 해 주고 싶은 말들을 담은 책이다. 그녀는 지금껏 살면서 한 가지 후회하는 게 있다면 스스로를 너무 닦달하며 인생을 숙제처럼 산 것이라고 말한다. 의사로, 엄마로, 아내로, 며느리로, 딸로 살면서 늘 의무와 책임감에 치여 어떻게든 그 모든 역할을 잘해 내려 애썼고 그러다 보니 정작 누려야 할 삶의 즐거움들을 놓쳐 버렸다는 것이다. 그러다 22년 전 마흔세 살에 파킨슨병 진단을 받으며 비로소 알게 되었다. 자신이 없으면 집안도 병원도 제대로 안 굴러갈 것 같았는데 세상은 너무나 멀쩡히 잘 굴러갔다. 그제야 그녀는 자신의 곁을 지켜 주는 사람들을 다시 보게 되었고, 놓쳐서는 안 될 인생의 소중한 것들이 무엇인지를 돌아보게 되었다. 그래서 벌써 마흔이 되어 버린, 후회 없는 인생을 살고 싶은 사람들에게 말해 주고 싶은 것도 딱 한가지다. “하나의 문이 닫히면 또 하나의 문이 열린다. 그러니 더 이상 고민하지 말고 그냥 재미있게 살아라!” \\r\\n\\r\\n이 책은 2015년 ‘오늘 내가 사는 게 재미있는 이유’라는 제목으로 출간, 독자들의 사랑을 받으며 10만 부 돌파 베스트셀러가 된 것을 기념해 펴낸 스페셜 에디션으로 저자가 30년간 정신분석 전문의로 일하며 깨달은 인생의 비밀과 22년간 파킨슨병을 앓으면서도 유쾌하게 살 수 있는 이유를 전한다. 또한 ‘완벽한 때는 결코 오지 않는 법이다’, ‘때론 버티는 것이 답이다’, ‘제발 모든 것을 상처라고 말하지 말 것’, ‘가까운 사람일수록 해서는 안 될 것들이 있다’ 등 환자들에게 미처 하지 못했던 그러나 꼭 해 주고 싶은 이야기들을 담고 있다. \\r\\n\\r\\n                                                \\n', '\\n\\n\\r\\n“하나의 문이 닫히면 또 하나의 문이 열린다. \\r\\n그러니 더 이상 고민하지 말고 그냥 재미있게 살아라!”\\r\\n\\r\\n30년 동안 정신분석 전문의로 일해 온 김혜남이 벌써 마흔이 된 당신에게 해 주고 싶은 말들을 담은 책이다. 그녀는 지금껏 살면서 한 가지 후회하는 게 있다면 스스로를 너무 닦달하며 인생을 숙제처럼 산 것이라고 말한다. 의사로, 엄마로, 아내로, 며느리로, 딸로 살면서 늘 의무와 책임감에 치여 어떻게든 그 모든 역할을 잘해 내려 애썼고 그러다 보니 정작 누려야 할 삶의 즐거움들을 놓쳐 버렸다는 것이다. 그러다 22년 전 마흔세 살에 파킨슨병 진단을 받으며 비로소 알게 되었다. 자신이 없으면 집안도 병원도 제대로 안 굴러갈 것 같았는데 세상은 너무나 멀쩡히 잘 굴러갔다. 그제야 그녀는 자신의 곁을 지켜 주는 사람들을 다시 보게 되었고, 놓쳐서는 안 될 인생의 소중한 것들이 무엇인지를 돌아보게 되었다. 그래서 벌써 마흔이 되어 버린, 후회 없는 인생을 살고 싶은 사람들에게 말해 주고 싶은 것도 딱 한가지다. “하나의 문이 닫히면 또 하나의 문이 열린다. 그러니 더 이상 고민하지 말고 그냥 재미있게 살아라!” \\r\\n\\r\\n이 책은 2015년 ‘오늘 내가 사는 게 재미있는 이유’라는 제목으로 출간, 독자들의 사랑을 받으며 10만 부 돌파 베스트셀러가 된 것을 기념해 펴낸 스페셜 에디션으로 저자가 30년간 정신분석 전문의로 일하며 깨달은 인생의 비밀과 22년간 파킨슨병을 앓으면서도 유쾌하게 살 수 있는 이유를 전한다. 또한 ‘완벽한 때는 결코 오지 않는 법이다’, ‘때론 버티는 것이 답이다’, ‘제발 모든 것을 상처라고 말하지 말 것’, ‘가까운 사람일수록 해서는 안 될 것들이 있다’ 등 환자들에게 미처 하지 못했던 그러나 꼭 해 주고 싶은 이야기들을 담고 있다. \\r\\n\\r\\n                                                \\n\\n')\n",
      "('116579452', '280쪽 ', ' 470g ', ' 145*210*17mm', \"['자녀교육일반', '가정 살림', '자녀교육', '국내도서', '학습법일반']\", '\\n\\r\\n17만 유튜브 [분당강쌤]이 공개한 대입까지 직행하는 공부의 기본기\\r\\n“초등 6년간 쌓아 올린 공부가 자녀의 명문대 입학을 좌우합니다”\\r\\n\\r\\n대입을 준비하며 명심할 것은 오랜 세월이 지나도 입시에서 변치 않을 불변의 법칙이 존재한다는 겁니다. 대학은 ‘공부 잘하는 학생’을 원한다는 것이죠. 단순해 보여도 이것만큼 뼈 때리는 진실은 없습니다. 물론 논술, 면접 등 공부 외의 것들을 잘해서 대학에 갈 수 있는 전형도 있지만, 대학에서 가장 많은 학생을 선발하는 전형은 단 하나, 주요과목(국영수사과) 성적을 잘 받는 것입니다. 공부를 잘하는데 원하는 대학에 가지 못한 경우는 거의 없습니다. 저자는 20년간 경쟁이 치열하기로 소문난 대치동·분당에서 국어 일타강사로 몸담으며 누구보다 이 진리를 깊게 깨쳤습니다. 어릴 적 영어유치원으로 시작해 선행까지 완벽하게 마치고 중학교에 가서 상위권을 맴돌던 학생들이 고등학교에만 올라가면 무너지는 것을 보며 대체 왜 이럴까를 늘 고민했습니다. 그리고 그 방법을 책에 담았습니다.\\r\\n\\r\\n이 책은 고등 입시전문가가 쓴 최초의 초등학부모계발서입니다. 자녀의 초등 입학을 앞둔 학부모부터 현 초등 자녀를 둔 학부모 모두가 꼭 봐야할 기본 중의 기본, ‘대입 공부의 본질’을 말하고 설명합니다. 또 초등 자녀 학습을 지도하게 될 학부모의 마인드 개선부터 본질에 충실한 국영수사과 주요과목 필승 공부 전략까지 다 담고 있습니다. 본질은 아는 것보다 실천하는 것이 중요합니다. 아이가 공부로 고통 받지 않고 대입까지 순탄대로를 달릴 수 있도록, 그 길에 동행하는 학부모의 노력이 헛수고가 되지 않을 수 있도록, 지금부터 분당강쌤의 20년 입시 노하우를 모두 공개합니다.\\r\\n\\r\\n                                                \\n', '\\n\\n\\r\\n17만 유튜브 [분당강쌤]이 공개한 대입까지 직행하는 공부의 기본기\\r\\n“초등 6년간 쌓아 올린 공부가 자녀의 명문대 입학을 좌우합니다”\\r\\n\\r\\n대입을 준비하며 명심할 것은 오랜 세월이 지나도 입시에서 변치 않을 불변의 법칙이 존재한다는 겁니다. 대학은 ‘공부 잘하는 학생’을 원한다는 것이죠. 단순해 보여도 이것만큼 뼈 때리는 진실은 없습니다. 물론 논술, 면접 등 공부 외의 것들을 잘해서 대학에 갈 수 있는 전형도 있지만, 대학에서 가장 많은 학생을 선발하는 전형은 단 하나, 주요과목(국영수사과) 성적을 잘 받는 것입니다. 공부를 잘하는데 원하는 대학에 가지 못한 경우는 거의 없습니다. 저자는 20년간 경쟁이 치열하기로 소문난 대치동·분당에서 국어 일타강사로 몸담으며 누구보다 이 진리를 깊게 깨쳤습니다. 어릴 적 영어유치원으로 시작해 선행까지 완벽하게 마치고 중학교에 가서 상위권을 맴돌던 학생들이 고등학교에만 올라가면 무너지는 것을 보며 대체 왜 이럴까를 늘 고민했습니다. 그리고 그 방법을 책에 담았습니다.\\r\\n\\r\\n이 책은 고등 입시전문가가 쓴 최초의 초등학부모계발서입니다. 자녀의 초등 입학을 앞둔 학부모부터 현 초등 자녀를 둔 학부모 모두가 꼭 봐야할 기본 중의 기본, ‘대입 공부의 본질’을 말하고 설명합니다. 또 초등 자녀 학습을 지도하게 될 학부모의 마인드 개선부터 본질에 충실한 국영수사과 주요과목 필승 공부 전략까지 다 담고 있습니다. 본질은 아는 것보다 실천하는 것이 중요합니다. 아이가 공부로 고통 받지 않고 대입까지 순탄대로를 달릴 수 있도록, 그 길에 동행하는 학부모의 노력이 헛수고가 되지 않을 수 있도록, 지금부터 분당강쌤의 20년 입시 노하우를 모두 공개합니다.\\r\\n\\r\\n                                                \\n\\n')\n",
      "('116046489', '376쪽 ', ' 558g ', ' 136*200*30mm', \"['에세이', '명사/연예인 에세이 ', '국내도서', '한국 에세이']\", '\\n\\r\\n우리들의 배우 김혜자의 연기, 인생“그럼에도 불구하고, 생에 감사해”한국을 대표하는 연기자, 우리가 사랑하는 배우 김혜자. 그녀는 지난 60년간 수많은 배역으로 살며 삶의 모순과 고통, 환희와 기쁨을 전했다. 배역을 맡으면 온전히 ‘그 사람’이 되어야만 했고, 그렇게 되기 위해 수십, 수백 번 몸부림치며 연기했다. 죽기 살기로 하면 그 뒤는 신이 책임져 주시리라는 믿음으로, 연기 잘한다는 평가를 최고의 선물이라 여기며 몰입했다. 언제나 편안한 이미지로 다가오는 배우이지만 그녀의 삶 이면에는 그토록 치열한 시간과 감사의 기도가 함께했다.매번 작품을 할 때마다 그것이 자신의 ‘마지막 작품’이라고 여기는 배우, 작품을 선택할 때 비록 현실이 고통스럽고 절망적이더라도 그 사이에 바늘귀만 한 희망의 빛이 보이는가를 기준으로 삼는 배우, 자신은 죽음을 생각하지만 절망한 사람들에게 희망을 주는 작품만을 선택하는 배우, 김혜자. 이 책은 그녀의 연기 인생에 대한 자전적 기록이며, 몰입과 열정, 감사와 기쁨, 그리고 ‘국민 배우’, ‘국민 엄마’라는 명성 이면의 불가해한 허무와 슬픔에 대한 생의 무대 위 고백이다. 그녀에 대해 잘 알든 모르든, 글을 다 읽고 마지막 책장을 덮으면 ‘김혜자는 역시 김혜자’라는 생각이 들면서 마음이 뭉클해진다.                                \\n', '\\n\\n\\r\\n우리들의 배우 김혜자의 연기, 인생“그럼에도 불구하고, 생에 감사해”한국을 대표하는 연기자, 우리가 사랑하는 배우 김혜자. 그녀는 지난 60년간 수많은 배역으로 살며 삶의 모순과 고통, 환희와 기쁨을 전했다. 배역을 맡으면 온전히 ‘그 사람’이 되어야만 했고, 그렇게 되기 위해 수십, 수백 번 몸부림치며 연기했다. 죽기 살기로 하면 그 뒤는 신이 책임져 주시리라는 믿음으로, 연기 잘한다는 평가를 최고의 선물이라 여기며 몰입했다. 언제나 편안한 이미지로 다가오는 배우이지만 그녀의 삶 이면에는 그토록 치열한 시간과 감사의 기도가 함께했다.매번 작품을 할 때마다 그것이 자신의 ‘마지막 작품’이라고 여기는 배우, 작품을 선택할 때 비록 현실이 고통스럽고 절망적이더라도 그 사이에 바늘귀만 한 희망의 빛이 보이는가를 기준으로 삼는 배우, 자신은 죽음을 생각하지만 절망한 사람들에게 희망을 주는 작품만을 선택하는 배우, 김혜자. 이 책은 그녀의 연기 인생에 대한 자전적 기록이며, 몰입과 열정, 감사와 기쁨, 그리고 ‘국민 배우’, ‘국민 엄마’라는 명성 이면의 불가해한 허무와 슬픔에 대한 생의 무대 위 고백이다. 그녀에 대해 잘 알든 모르든, 글을 다 읽고 마지막 책장을 덮으면 ‘김혜자는 역시 김혜자’라는 생각이 들면서 마음이 뭉클해진다.                                \\n\\n')\n",
      "('99308021', '268쪽 ', ' 332g ', ' 135*200*20mm', \"['국내도서', '한국 장편소설', '소설/시/희곡', '한국소설']\", '\\n\\r\\n최고의 재미와 감동을 선사하는 K힐링소설의 원조\\r\\n \\r\\n***주요 서점 종합 베스트셀러 1위\\r\\n***국립중앙도서관 2022 올해의 책\\r\\n***전국 37개 도시 올해의 책\\r\\n***해외 18개국 판권 수출\\r\\n***연극 [불편한 편의점] 절찬 상연 중\\r\\n\\r\\n불편한데 자꾸 가고 싶은 편의점이 있다! \\r\\n힘들게 살아낸 오늘을 위로하는 편의점의 밤\\r\\n정체불명의 알바로부터 시작된 웃음과 감동의 나비효과\\r\\n『망원동 브라더스』 김호연의 ‘동네 이야기’ 시즌 2\\r\\n\\r\\n2013년 세계문학상 우수상 수상작 『망원동 브라더스』로 데뷔한 후 일상적 현실을 위트 있게 그린 경쾌한 작품과 인간의 내밀한 욕망을 기발한 상상력으로 풀어낸 스릴러 장르를 오가며 독자적인 작품 세계를 쌓아올린 작가 김호연. 그의 다섯 번째 장편소설 『불편한 편의점』이 출간되었다. 『불편한 편의점』은 청파동 골목 모퉁이에 자리 잡은 작은 편의점을 무대로 힘겨운 시대를 살아가는 우리 이웃들의 삶의 속내와 희로애락을 따뜻하고 유머러스하게 담아낸 작품이다. 『망원동 브라더스』에서 망원동이라는 공간의 체험적 지리지를 잘 활용해 유쾌한 재미와 공감을 이끌어냈듯 이번에는 서울의 오래된 동네 청파동에 대한 공감각을 생생하게 포착해 또 하나의 흥미진진한 ‘동네 이야기’를 탄생시켰다. \\r\\n\\r\\n서울역에서 노숙인 생활을 하던 독고라는 남자가 어느 날 70대 여성의 지갑을 주워준 인연으로 그녀가 운영하는 편의점에서 야간 알바를 하면서 이야기가 시작된다. 덩치가 곰 같은 이 사내는 알코올성 치매로 과거를 기억하지 못하는 데다 말도 어눌하고 행동도 굼떠 과연 손님을 제대로 상대할 수 있을까 의구심을 갖게 하는데 웬걸, 의외로 그는 일을 꽤 잘해낼 뿐 아니라 주변 사람들을 묘하게 사로잡으면서 편의점의 밤을 지키는 든든한 일꾼이 되어간다. \\r\\n\\r\\n현실감 넘치는 캐릭터와 그들 간의 상호작용을 점입가경으로 형상화하는 데 일가견이 있는 작가의 작품답게 이 소설에서도 독특한 개성과 사연을 지닌 인물들이 차례로 등장해 서로 티격태격하며 별난 관계를 형성해간다. 고등학교에서 역사를 가르치다 정년퇴임하여 매사에 교사 본능이 발동하는 편의점 사장 염 여사를 필두로 20대 취준생 알바 시현, 50대 생계형 알바 오 여사, 매일 밤 야외 테이블에서 참참참(참깨라면, 참치김밥, 참이슬) 세트로 혼술을 하며 하루의 스트레스를 푸는 회사원 경만, 마지막이라는 각오로 청파동에 글을 쓰러 들어온 30대 희곡작가 인경, 호시탐탐 편의점을 팔아치울 기회를 엿보는 염 여사의 아들 민식, 민식의 의뢰를 받아 독고의 뒤를 캐는 사설탐정 곽이 그들이다. 제각기 녹록지 않은 인생의 무게와 현실적 문제를 안고 있는 이들은 각자의 시선으로 독고를 관찰하는데, 그 과정에서 발생하는 오해와 대립, 충돌과 반전, 이해와 공감은 자주 폭소를 자아내고 어느 순간 울컥 눈시울이 붉어지게 한다. 그렇게 골목길의 작은 편의점은 불편하기 짝이 없는 곳이었다가 고단한 삶을 위로하고 웃음을 나누는 특별한 공간이 된다. \\r\\n\\r\\n                                                \\n', '\\n\\n\\r\\n최고의 재미와 감동을 선사하는 K힐링소설의 원조\\r\\n \\r\\n***주요 서점 종합 베스트셀러 1위\\r\\n***국립중앙도서관 2022 올해의 책\\r\\n***전국 37개 도시 올해의 책\\r\\n***해외 18개국 판권 수출\\r\\n***연극 [불편한 편의점] 절찬 상연 중\\r\\n\\r\\n불편한데 자꾸 가고 싶은 편의점이 있다! \\r\\n힘들게 살아낸 오늘을 위로하는 편의점의 밤\\r\\n정체불명의 알바로부터 시작된 웃음과 감동의 나비효과\\r\\n『망원동 브라더스』 김호연의 ‘동네 이야기’ 시즌 2\\r\\n\\r\\n2013년 세계문학상 우수상 수상작 『망원동 브라더스』로 데뷔한 후 일상적 현실을 위트 있게 그린 경쾌한 작품과 인간의 내밀한 욕망을 기발한 상상력으로 풀어낸 스릴러 장르를 오가며 독자적인 작품 세계를 쌓아올린 작가 김호연. 그의 다섯 번째 장편소설 『불편한 편의점』이 출간되었다. 『불편한 편의점』은 청파동 골목 모퉁이에 자리 잡은 작은 편의점을 무대로 힘겨운 시대를 살아가는 우리 이웃들의 삶의 속내와 희로애락을 따뜻하고 유머러스하게 담아낸 작품이다. 『망원동 브라더스』에서 망원동이라는 공간의 체험적 지리지를 잘 활용해 유쾌한 재미와 공감을 이끌어냈듯 이번에는 서울의 오래된 동네 청파동에 대한 공감각을 생생하게 포착해 또 하나의 흥미진진한 ‘동네 이야기’를 탄생시켰다. \\r\\n\\r\\n서울역에서 노숙인 생활을 하던 독고라는 남자가 어느 날 70대 여성의 지갑을 주워준 인연으로 그녀가 운영하는 편의점에서 야간 알바를 하면서 이야기가 시작된다. 덩치가 곰 같은 이 사내는 알코올성 치매로 과거를 기억하지 못하는 데다 말도 어눌하고 행동도 굼떠 과연 손님을 제대로 상대할 수 있을까 의구심을 갖게 하는데 웬걸, 의외로 그는 일을 꽤 잘해낼 뿐 아니라 주변 사람들을 묘하게 사로잡으면서 편의점의 밤을 지키는 든든한 일꾼이 되어간다. \\r\\n\\r\\n현실감 넘치는 캐릭터와 그들 간의 상호작용을 점입가경으로 형상화하는 데 일가견이 있는 작가의 작품답게 이 소설에서도 독특한 개성과 사연을 지닌 인물들이 차례로 등장해 서로 티격태격하며 별난 관계를 형성해간다. 고등학교에서 역사를 가르치다 정년퇴임하여 매사에 교사 본능이 발동하는 편의점 사장 염 여사를 필두로 20대 취준생 알바 시현, 50대 생계형 알바 오 여사, 매일 밤 야외 테이블에서 참참참(참깨라면, 참치김밥, 참이슬) 세트로 혼술을 하며 하루의 스트레스를 푸는 회사원 경만, 마지막이라는 각오로 청파동에 글을 쓰러 들어온 30대 희곡작가 인경, 호시탐탐 편의점을 팔아치울 기회를 엿보는 염 여사의 아들 민식, 민식의 의뢰를 받아 독고의 뒤를 캐는 사설탐정 곽이 그들이다. 제각기 녹록지 않은 인생의 무게와 현실적 문제를 안고 있는 이들은 각자의 시선으로 독고를 관찰하는데, 그 과정에서 발생하는 오해와 대립, 충돌과 반전, 이해와 공감은 자주 폭소를 자아내고 어느 순간 울컥 눈시울이 붉어지게 한다. 그렇게 골목길의 작은 편의점은 불편하기 짝이 없는 곳이었다가 고단한 삶을 위로하고 웃음을 나누는 특별한 공간이 된다. \\r\\n\\r\\n                                                \\n\\n')\n",
      "('111088149', '320쪽 ', ' 406g ', ' 135*200*30mm', \"['국내도서', '한국 장편소설', '소설/시/희곡', '한국소설']\", '\\n\\r\\n재방문을 환영합니다 여기는 청파동 ALWAYS편의점입니다출간 후 1년이 넘도록 독자의 사랑을 받으며 베스트셀러 상위권을 지키고 있는 소설, 김호연 작가의 『불편한 편의점』이 그 두 번째 이야기로 다시 찾아왔다. 청파동 골목의 작은 편의점을 무대로 힘겨운 시대를 살아가는 우리 이웃들의 삶을 따뜻하고 유쾌하게 그린 『불편한 편의점』은 2022년 상반기 교보문고, 영풍문고, 예스24에서 집계한 종합 베스트셀러 1위와 70만 부 판매라는 대기록을 세웠다. 2021년 예스24 ‘올해의 책’에 선정되었고, 2022년에는 전국 25개 지자체에서 시민들이 참여해 뽑은 ‘올해의 책’으로 잇따라 선정되는 등 소설에 대한 관심과 열기는 지금 이 순간에도 계속되고 있다.서울역 노숙인이 편의점의 야간 알바로 일하면서 시작되는 1편의 이야기는 예측불허의 웃음과 따스한 온기로 잔잔한 감동을 선사했다. 『불편한 편의점 2』는 전편의 위트와 속 깊은 시선을 이어가며 더욱 진득한 이야기로 독자를 끌어당긴다. 소설은 1편의 시간으로부터 1년 반이 흐른 여름날의 편의점을 스케치하며 시작된다. 그동안 세상도 달라지고 청파동의 ALWAYS편의점도 이모저모 바뀌었다. 숨이 턱턱 막히는 더위에도 마스크를 써야 하는 도입부의 묘사는 소설 속 현실에도 코로나가 있음을 짐작게 한다. 아들과의 불화로 답답해하던 선숙은 점장이 되었고, 편의점을 팔자고 조르던 염 여사의 말썽꾼 아들 민식은 사장이 되어 있다. 말이 사장이지, 민식은 경영에는 관심이 없고 수익 운운하며 주휴수당 같은 비용 줄이기에만 열을 올리니, 여러모로 ‘진짜로 불편해진’ 편의점이 아닐 수 없는데……. 그러던 중 독고의 후임으로 밤 시간을 책임지던 곽 씨가 그만두고 새 야간 알바를 구하면서 편의점은 다시 한 번 변화를 맞이한다.  새로 온 알바는 커다란 덩치와 부담스러운 행동이 누군가를 연상시키는 40대 사내. 그는 인간 알바몬이라도 되는 양 화려한 알바 경력을 자랑하지만 정작 편의점 일은 어수룩하기만 하다. 게다가 수다쟁이에 오지랖은 못 말릴 지경이어서 점장 선숙에게 핀잔을 뜯기 일쑤다. 그러거나 말거나 그는 황근배라는 이름 대신 홍금보라는 별명이 적힌 명찰을 가슴에 달고 마냥 느긋하게 손님들을 맞으며 편의점의 밤을 지켜 나간다.                                 \\n', '\\n\\n\\r\\n재방문을 환영합니다 여기는 청파동 ALWAYS편의점입니다출간 후 1년이 넘도록 독자의 사랑을 받으며 베스트셀러 상위권을 지키고 있는 소설, 김호연 작가의 『불편한 편의점』이 그 두 번째 이야기로 다시 찾아왔다. 청파동 골목의 작은 편의점을 무대로 힘겨운 시대를 살아가는 우리 이웃들의 삶을 따뜻하고 유쾌하게 그린 『불편한 편의점』은 2022년 상반기 교보문고, 영풍문고, 예스24에서 집계한 종합 베스트셀러 1위와 70만 부 판매라는 대기록을 세웠다. 2021년 예스24 ‘올해의 책’에 선정되었고, 2022년에는 전국 25개 지자체에서 시민들이 참여해 뽑은 ‘올해의 책’으로 잇따라 선정되는 등 소설에 대한 관심과 열기는 지금 이 순간에도 계속되고 있다.서울역 노숙인이 편의점의 야간 알바로 일하면서 시작되는 1편의 이야기는 예측불허의 웃음과 따스한 온기로 잔잔한 감동을 선사했다. 『불편한 편의점 2』는 전편의 위트와 속 깊은 시선을 이어가며 더욱 진득한 이야기로 독자를 끌어당긴다. 소설은 1편의 시간으로부터 1년 반이 흐른 여름날의 편의점을 스케치하며 시작된다. 그동안 세상도 달라지고 청파동의 ALWAYS편의점도 이모저모 바뀌었다. 숨이 턱턱 막히는 더위에도 마스크를 써야 하는 도입부의 묘사는 소설 속 현실에도 코로나가 있음을 짐작게 한다. 아들과의 불화로 답답해하던 선숙은 점장이 되었고, 편의점을 팔자고 조르던 염 여사의 말썽꾼 아들 민식은 사장이 되어 있다. 말이 사장이지, 민식은 경영에는 관심이 없고 수익 운운하며 주휴수당 같은 비용 줄이기에만 열을 올리니, 여러모로 ‘진짜로 불편해진’ 편의점이 아닐 수 없는데……. 그러던 중 독고의 후임으로 밤 시간을 책임지던 곽 씨가 그만두고 새 야간 알바를 구하면서 편의점은 다시 한 번 변화를 맞이한다.  새로 온 알바는 커다란 덩치와 부담스러운 행동이 누군가를 연상시키는 40대 사내. 그는 인간 알바몬이라도 되는 양 화려한 알바 경력을 자랑하지만 정작 편의점 일은 어수룩하기만 하다. 게다가 수다쟁이에 오지랖은 못 말릴 지경이어서 점장 선숙에게 핀잔을 뜯기 일쑤다. 그러거나 말거나 그는 황근배라는 이름 대신 홍금보라는 별명이 적힌 명찰을 가슴에 달고 마냥 느긋하게 손님들을 맞으며 편의점의 밤을 지켜 나간다.                                 \\n\\n')\n",
      "('112253263', '268쪽 ', ' 288g ', ' 122*188*16mm', \"['국내도서', '한국 장편소설', '소설/시/희곡', '한국소설']\", '\\n\\r\\n새삼스럽게 경탄스럽다!압도적인 몰입감, 가슴 먹먹한 감동정지아의 손끝에서 펼쳐지는 시대의 온기미스터리 같은 한 남자가 헤쳐온 역사의 격랑그 안에서 발견하는 끝끝내 강인한 우리의 인생김유정문학상 심훈문학대상 이효석문학상 등을 수상하며 문학성을 두루 입증받은 ‘리얼리스트’ 정지아가 무려 32년 만에 장편소설을 발표했다. 써내는 작품마다 삶의 현존을 정확하게 묘사하며 독자와 평단의 찬사를 받아온 작가는 이번에 역사의 상흔과 가족의 사랑을 엮어낸 대작을 선보임으로써 선 굵은 서사에 목마른 독자들에게 한모금 청량음료 같은 해갈을 선사한다. 탁월한 언어적 세공으로 “한국소설의 새로운 화법을 제시”(문학평론가 정홍수)하기를 거듭해온 정지아는 한 시대를 풍미한 『빨치산의 딸』(1990) 이래로 다시 초심으로 돌아가 아버지 이야기를 다룬다. 소설은 ‘전직 빨치산’ 아버지의 죽음 이후 3일간의 시간만을 현재적 배경으로 다루지만, 장례식장에서 얽히고설킨 이야기를 따라가다보면 해방 이후 70년 현대사의 질곡이 생생하게 드러난다. 이러한 웅장한 스케일과 함께 손을 놓을 수 없는 몰입감을 동시에 안겨주는 것은 정지아만이 가능한 서사적 역량이다. 그러나 이 소설의 진정한 묘미는 어쩌면 ‘가벼움’에 있다. “아버지가 죽었다. (…) 이런 젠장”으로 시작하는 첫 챕터에서 독자들은 감을 잡겠지만 이 책은 진중한 주제의식에도 불구하고 ‘각 잡고’ 진지한 소설이 아니다. 남도의 구수한 입말로 풀어낸 일화들은 저마다 서글프지만 피식피식 웃기고, “울분이 솟다 말고 ‘긍게 사람이제’ 한마디로 가슴이 따뜻”(추천사, 김미월)해진다.                                 \\n', '\\n\\n\\r\\n새삼스럽게 경탄스럽다!압도적인 몰입감, 가슴 먹먹한 감동정지아의 손끝에서 펼쳐지는 시대의 온기미스터리 같은 한 남자가 헤쳐온 역사의 격랑그 안에서 발견하는 끝끝내 강인한 우리의 인생김유정문학상 심훈문학대상 이효석문학상 등을 수상하며 문학성을 두루 입증받은 ‘리얼리스트’ 정지아가 무려 32년 만에 장편소설을 발표했다. 써내는 작품마다 삶의 현존을 정확하게 묘사하며 독자와 평단의 찬사를 받아온 작가는 이번에 역사의 상흔과 가족의 사랑을 엮어낸 대작을 선보임으로써 선 굵은 서사에 목마른 독자들에게 한모금 청량음료 같은 해갈을 선사한다. 탁월한 언어적 세공으로 “한국소설의 새로운 화법을 제시”(문학평론가 정홍수)하기를 거듭해온 정지아는 한 시대를 풍미한 『빨치산의 딸』(1990) 이래로 다시 초심으로 돌아가 아버지 이야기를 다룬다. 소설은 ‘전직 빨치산’ 아버지의 죽음 이후 3일간의 시간만을 현재적 배경으로 다루지만, 장례식장에서 얽히고설킨 이야기를 따라가다보면 해방 이후 70년 현대사의 질곡이 생생하게 드러난다. 이러한 웅장한 스케일과 함께 손을 놓을 수 없는 몰입감을 동시에 안겨주는 것은 정지아만이 가능한 서사적 역량이다. 그러나 이 소설의 진정한 묘미는 어쩌면 ‘가벼움’에 있다. “아버지가 죽었다. (…) 이런 젠장”으로 시작하는 첫 챕터에서 독자들은 감을 잡겠지만 이 책은 진중한 주제의식에도 불구하고 ‘각 잡고’ 진지한 소설이 아니다. 남도의 구수한 입말로 풀어낸 일화들은 저마다 서글프지만 피식피식 웃기고, “울분이 솟다 말고 ‘긍게 사람이제’ 한마디로 가슴이 따뜻”(추천사, 김미월)해진다.                                 \\n\\n')\n",
      "('9349031', '280쪽 ', ' 462g ', ' 148*210*20mm', \"['성공학/경력관리', '자기계발', '국내도서', '처세술/삶의 자세']\", '\\n\\r\\n아마존 종합 베스트셀러 1위!\\r\\n아마존 자기계발 분야 260주 연속 스테디셀러!\\r\\n「월스트리트 저널」 종합 베스트셀러 1위!\\r\\n 「뉴욕 타임스」「USA 투데이」「워싱턴 포스트」 베스트셀러!\\r\\n전 세계 독자들이 주목한 최고의 책!\\r\\n20만 부 판매 기념 리커버 특별한정판!\\r\\n\\r\\n인생의 반전을 불러오는 단순함의 힘\\r\\n당신의 삶을 소모시키는 멀티태스킹의 허상에서 벗어나라!\\r\\n\\r\\n주위를 돌아보면 ‘무슨 일을 해도 어쩌면 저렇게 잘 풀릴까’라는 생각이 들게 하는 사람이 한 명씩은 꼭 있기 마련이다. 반대로 정말 열심히 살지만 제대로 풀리는 게 없다고 여기는 사람들도 있다. 이들은 타고난 팔자라거나 운이 좋았다는 식으로 다른 사람의 성공을 단정 짓고 자신들의 ‘운 없음’에 좌절하곤 한다. 하지만 그건 사실이 아니다. \\r\\n\\r\\n위대한 성과를 내는 남다른 인생과 평범한 인생을 결정짓는 차이는 바로 ‘꼭 해야 할 일’에만 파고들었느냐, ‘필요 없는 일’에 에너지를 낭비했느냐에 있다.\\r\\n성공은 도미노처럼 작동한다. 성공한 사람들은 늘 성공에 ‘꼭 필요한 일들’의 ‘순서’를 계획해놓고 ‘가장 알맞은 타이밍’에 첫 번째 일을 ‘제대로’ 해낸다. 한 번 넘어지기 시작하면 멈추지 않는 도미노처럼 그들은 처음의 성공을 다음 행동과 연결 지음으로써 더 크고 더 위대한 성공을 이끌어낸다. \\r\\n\\r\\n그들은 첫 번째 도미노만 정확히 찾아 쓰러뜨린다면 줄지어 늘어선 수많은 도미노는 자연히 쓰러지게 된다는 성공의 도미노 효과를 누구보다 잘 알고 있다. 모든 일을 시작하게 하는 단 하나의 도미노, 우리가 ‘원씽(The One Thing)’이라 부르는 이것을 찾아낼 수만 있다면 누구나 술술 잘 풀리는 인생을 경험할 수 있다. \\r\\n\\r\\n\\r\\n                                                \\n', '\\n\\n\\r\\n아마존 종합 베스트셀러 1위!\\r\\n아마존 자기계발 분야 260주 연속 스테디셀러!\\r\\n「월스트리트 저널」 종합 베스트셀러 1위!\\r\\n 「뉴욕 타임스」「USA 투데이」「워싱턴 포스트」 베스트셀러!\\r\\n전 세계 독자들이 주목한 최고의 책!\\r\\n20만 부 판매 기념 리커버 특별한정판!\\r\\n\\r\\n인생의 반전을 불러오는 단순함의 힘\\r\\n당신의 삶을 소모시키는 멀티태스킹의 허상에서 벗어나라!\\r\\n\\r\\n주위를 돌아보면 ‘무슨 일을 해도 어쩌면 저렇게 잘 풀릴까’라는 생각이 들게 하는 사람이 한 명씩은 꼭 있기 마련이다. 반대로 정말 열심히 살지만 제대로 풀리는 게 없다고 여기는 사람들도 있다. 이들은 타고난 팔자라거나 운이 좋았다는 식으로 다른 사람의 성공을 단정 짓고 자신들의 ‘운 없음’에 좌절하곤 한다. 하지만 그건 사실이 아니다. \\r\\n\\r\\n위대한 성과를 내는 남다른 인생과 평범한 인생을 결정짓는 차이는 바로 ‘꼭 해야 할 일’에만 파고들었느냐, ‘필요 없는 일’에 에너지를 낭비했느냐에 있다.\\r\\n성공은 도미노처럼 작동한다. 성공한 사람들은 늘 성공에 ‘꼭 필요한 일들’의 ‘순서’를 계획해놓고 ‘가장 알맞은 타이밍’에 첫 번째 일을 ‘제대로’ 해낸다. 한 번 넘어지기 시작하면 멈추지 않는 도미노처럼 그들은 처음의 성공을 다음 행동과 연결 지음으로써 더 크고 더 위대한 성공을 이끌어낸다. \\r\\n\\r\\n그들은 첫 번째 도미노만 정확히 찾아 쓰러뜨린다면 줄지어 늘어선 수많은 도미노는 자연히 쓰러지게 된다는 성공의 도미노 효과를 누구보다 잘 알고 있다. 모든 일을 시작하게 하는 단 하나의 도미노, 우리가 ‘원씽(The One Thing)’이라 부르는 이것을 찾아낼 수만 있다면 누구나 술술 잘 풀리는 인생을 경험할 수 있다. \\r\\n\\r\\n\\r\\n                                                \\n\\n')\n",
      "('116206629', '320쪽 ', ' 1,046g ', ' 300*225*30mm', \"['한국사능력검정시험', '국내도서', '심화(1,2,3급)', '수험서 자격증']\", \"\\n\\r\\n『2023 큰별쌤 최태성의 별별한국사 한국사능력검정시험 심화 상』오랜 연구와 검증으로 한국사에 기초가 전혀 없는 사람도 단기간에 한능검에 합격할 수 있는 최적의 구성을 완성하였다. 판서의 장인 큰별쌤 최태성이 핵심만을 모아 만든 아트 판서를 수록하고, 시험에 자주 등장하는 사료, 사진, 지도 등을 모아 해설하여 합격을 위한 필수 개념을 익히기 쉽게 하였다. 또한, 한능검 기출문제를 모두 분석한 후, 기출 선택지를 이용한 별 채우기 문제를 수록하여 자연스럽게 기출 선택지가 기억될 수 있도록 하였고, 반복적으로 출제되는 주제의 최신 기출문제를 꼼꼼하고 친절한 해설과 함께 담아 실전에 대비할 수 있도록 하였다. 여기에 한국사 연표와 지역의 역사를 담은 지도를 통해 한국사 흐름잡기가 더욱 쉬울 것이다.제시된 이미지는 책의 뒷표지이다. 많은 사람들이 쓰는 책의 앞표지에 선한 메시지가 담기면 좋겠다는 큰별쌤의 뜻에 따라 『2023 큰별쌤 최태성의 별별한국사 한국사능력검정시험 심화(1,2,3급) 상』의 앞표지는 한국해비타트의 '주거환경개선 사업'에 대한 이야기로 구성되었다.                                \\n\", \"\\n\\n\\r\\n『2023 큰별쌤 최태성의 별별한국사 한국사능력검정시험 심화 상』오랜 연구와 검증으로 한국사에 기초가 전혀 없는 사람도 단기간에 한능검에 합격할 수 있는 최적의 구성을 완성하였다. 판서의 장인 큰별쌤 최태성이 핵심만을 모아 만든 아트 판서를 수록하고, 시험에 자주 등장하는 사료, 사진, 지도 등을 모아 해설하여 합격을 위한 필수 개념을 익히기 쉽게 하였다. 또한, 한능검 기출문제를 모두 분석한 후, 기출 선택지를 이용한 별 채우기 문제를 수록하여 자연스럽게 기출 선택지가 기억될 수 있도록 하였고, 반복적으로 출제되는 주제의 최신 기출문제를 꼼꼼하고 친절한 해설과 함께 담아 실전에 대비할 수 있도록 하였다. 여기에 한국사 연표와 지역의 역사를 담은 지도를 통해 한국사 흐름잡기가 더욱 쉬울 것이다.제시된 이미지는 책의 뒷표지이다. 많은 사람들이 쓰는 책의 앞표지에 선한 메시지가 담기면 좋겠다는 큰별쌤의 뜻에 따라 『2023 큰별쌤 최태성의 별별한국사 한국사능력검정시험 심화(1,2,3급) 상』의 앞표지는 한국해비타트의 '주거환경개선 사업'에 대한 이야기로 구성되었다.                                \\n\\n\")\n",
      "('113416767', '424쪽 ', ' 630g ', ' 152*225*20mm', \"['각국 경제/경제사/전망', '경제전망', '경제 경영', '마케팅/세일즈', '경제', '트렌드/미래예측', '국내도서']\", '\\n\\r\\nRABBIT JUMP \\r\\n더 높은 도약을 준비하는 검은 토끼의 해    \\r\\n \\r\\n세계화의 종말, 갈등과 분열, 그리고 전쟁. 수십 년간 이어져 온 평화와 공존의 시대는 막을 내리고 엄청난 위기감 속에서 사람들은 다가올 미래를 두려워한다. 자산시장 및 증시의 버블붕괴는 마치 2008년 글로벌 경제위기의 데자뷔를 보는 듯하다. 제2의 외환위기 경고도 들려온다. 매우 부정적인 전망이 압도하는 2023년을 목전에 두고 있는 지금, 소비 트렌드 전망에서 가장 중요한 것은 무엇이 반복되고 무엇이 달라질 것인가를 구별하는 작업일 것이다. 즉, ‘불황기의 소비 패턴’을 과거와 비교해보는 것이고, 또 하나는 ‘소비의 전형성’이 사라지는 시대의 흐름을 분석하는 것이다. 이른바 ‘평균 실종’이 가장 첫 번째 키워드인 이유다. 변화의 속도가 더욱 빨라지는 2023 대한민국. 소비자들은 어떤 선택을 할 것인가?\\r\\n\\r\\n                                                 \\n', '\\n\\n\\r\\nRABBIT JUMP \\r\\n더 높은 도약을 준비하는 검은 토끼의 해    \\r\\n \\r\\n세계화의 종말, 갈등과 분열, 그리고 전쟁. 수십 년간 이어져 온 평화와 공존의 시대는 막을 내리고 엄청난 위기감 속에서 사람들은 다가올 미래를 두려워한다. 자산시장 및 증시의 버블붕괴는 마치 2008년 글로벌 경제위기의 데자뷔를 보는 듯하다. 제2의 외환위기 경고도 들려온다. 매우 부정적인 전망이 압도하는 2023년을 목전에 두고 있는 지금, 소비 트렌드 전망에서 가장 중요한 것은 무엇이 반복되고 무엇이 달라질 것인가를 구별하는 작업일 것이다. 즉, ‘불황기의 소비 패턴’을 과거와 비교해보는 것이고, 또 하나는 ‘소비의 전형성’이 사라지는 시대의 흐름을 분석하는 것이다. 이른바 ‘평균 실종’이 가장 첫 번째 키워드인 이유다. 변화의 속도가 더욱 빨라지는 2023 대한민국. 소비자들은 어떤 선택을 할 것인가?\\r\\n\\r\\n                                                 \\n\\n')\n",
      "('116789002', '436쪽 ', ' 614g ', ' 145*215*30mm', \"['사회 정치', '국내도서', '언론학/미디어론', '신문/방송']\", '\\n\\r\\n1,825일, 1,195개의 국가 행사대한민국의 품격을 높인 의전 비하인드 스토리 문재인 정부 의전비서관이었던 탁현민 전 비서관의 회고록이다. 국가 기념식과 해외 순방, 남북 행사 등 1,825일 동안 대중에게 감동을 준 행사 1,195개를 기획한 저자는, 각종 흥미로운 뒷이야기와 대통령에 관한 에피소드들을 이 책을 통해 풀어낸다. 대통령을 가까운 거리에서 보좌했던 비서관이 정부의 여러 행사를 되돌아보는 책이니만큼 대통령직에 대한 의미는 물론, 프로젝트를 기획하고 추진하는 기획자의 각종 노하우도 살펴볼 수 있다.                                \\n', '\\n\\n\\r\\n1,825일, 1,195개의 국가 행사대한민국의 품격을 높인 의전 비하인드 스토리 문재인 정부 의전비서관이었던 탁현민 전 비서관의 회고록이다. 국가 기념식과 해외 순방, 남북 행사 등 1,825일 동안 대중에게 감동을 준 행사 1,195개를 기획한 저자는, 각종 흥미로운 뒷이야기와 대통령에 관한 에피소드들을 이 책을 통해 풀어낸다. 대통령을 가까운 거리에서 보좌했던 비서관이 정부의 여러 행사를 되돌아보는 책이니만큼 대통령직에 대한 의미는 물론, 프로젝트를 기획하고 추진하는 기획자의 각종 노하우도 살펴볼 수 있다.                                \\n\\n')\n"
     ]
    }
   ],
   "source": [
    "cursor.execute(\n",
    "    '''\n",
    "    SELECT * FROM yes24_best_202301 limit 10;\n",
    "    ''')\n",
    "for row in cursor.fetchall():\n",
    "    print(row)"
   ]
  },
  {
   "cell_type": "markdown",
   "id": "ebe688a2",
   "metadata": {},
   "source": [
    "# sqlalchemy를 이용하는 방법"
   ]
  },
  {
   "cell_type": "code",
   "execution_count": 127,
   "id": "901c76cc",
   "metadata": {},
   "outputs": [
    {
     "name": "stderr",
     "output_type": "stream",
     "text": [
      "C:\\Users\\hi\\AppData\\Local\\Temp\\ipykernel_13356\\3373494623.py:4: UserWarning: pandas only supports SQLAlchemy connectable (engine/connection) or database string URI or sqlite3 DBAPI2 connection. Other DBAPI2 objects are not tested. Please consider using SQLAlchemy.\n",
      "  detail_result.to_sql('yes24_best_202301_sqlalchemy', con=conn, if_exists='append')\n"
     ]
    },
    {
     "data": {
      "text/plain": [
       "1000"
      ]
     },
     "execution_count": 127,
     "metadata": {},
     "output_type": "execute_result"
    }
   ],
   "source": []
  },
  {
   "cell_type": "code",
   "execution_count": 130,
   "id": "4609510e",
   "metadata": {},
   "outputs": [
    {
     "name": "stderr",
     "output_type": "stream",
     "text": [
      "C:\\Users\\hi\\AppData\\Local\\Temp\\ipykernel_13356\\3687058998.py:4: UserWarning: pandas only supports SQLAlchemy connectable (engine/connection) or database string URI or sqlite3 DBAPI2 connection. Other DBAPI2 objects are not tested. Please consider using SQLAlchemy.\n",
      "  test = pd.read_sql('select * from yes24_best_202301_sqlalchemy limit 3', conn)\n"
     ]
    }
   ],
   "source": [
    "from sqlalchemy import create_engine\n",
    "engine = create_engine('sqlite:///sqlite3_yes24_best2023_01_sqlalchemy.db', echo= False)\n",
    "conn = engine.raw_connection()\n",
    "test = pd.read_sql('select * from yes24_best_202301_sqlalchemy limit 3', conn)\n",
    "test\n",
    "conn.close()"
   ]
  },
  {
   "cell_type": "code",
   "execution_count": 131,
   "id": "3b02921f",
   "metadata": {},
   "outputs": [
    {
     "data": {
      "text/html": [
       "<div>\n",
       "<style scoped>\n",
       "    .dataframe tbody tr th:only-of-type {\n",
       "        vertical-align: middle;\n",
       "    }\n",
       "\n",
       "    .dataframe tbody tr th {\n",
       "        vertical-align: top;\n",
       "    }\n",
       "\n",
       "    .dataframe thead th {\n",
       "        text-align: right;\n",
       "    }\n",
       "</style>\n",
       "<table border=\"1\" class=\"dataframe\">\n",
       "  <thead>\n",
       "    <tr style=\"text-align: right;\">\n",
       "      <th></th>\n",
       "      <th>index</th>\n",
       "      <th>book_id</th>\n",
       "      <th>page</th>\n",
       "      <th>weight</th>\n",
       "      <th>size</th>\n",
       "      <th>category</th>\n",
       "      <th>book_intro</th>\n",
       "      <th>pub_book_intro</th>\n",
       "    </tr>\n",
       "  </thead>\n",
       "  <tbody>\n",
       "    <tr>\n",
       "      <th>0</th>\n",
       "      <td>0</td>\n",
       "      <td>115142458</td>\n",
       "      <td>280쪽</td>\n",
       "      <td>408g</td>\n",
       "      <td>145*210*18mm</td>\n",
       "      <td>['노년 / 죽음', '국내도서', '주제로 읽는 인문학 ', '인문']</td>\n",
       "      <td>\\n\\r\\n“하나의 문이 닫히면 또 하나의 문이 열린다. \\r\\n그러니 더 이상 고...</td>\n",
       "      <td>\\n\\n\\r\\n“하나의 문이 닫히면 또 하나의 문이 열린다. \\r\\n그러니 더 이상...</td>\n",
       "    </tr>\n",
       "    <tr>\n",
       "      <th>1</th>\n",
       "      <td>0</td>\n",
       "      <td>116579452</td>\n",
       "      <td>280쪽</td>\n",
       "      <td>470g</td>\n",
       "      <td>145*210*17mm</td>\n",
       "      <td>['자녀교육일반', '가정 살림', '자녀교육', '국내도서', '학습법일반']</td>\n",
       "      <td>\\n\\r\\n17만 유튜브 [분당강쌤]이 공개한 대입까지 직행하는 공부의 기본기\\r\\...</td>\n",
       "      <td>\\n\\n\\r\\n17만 유튜브 [분당강쌤]이 공개한 대입까지 직행하는 공부의 기본기\\...</td>\n",
       "    </tr>\n",
       "    <tr>\n",
       "      <th>2</th>\n",
       "      <td>0</td>\n",
       "      <td>116046489</td>\n",
       "      <td>376쪽</td>\n",
       "      <td>558g</td>\n",
       "      <td>136*200*30mm</td>\n",
       "      <td>['에세이', '명사/연예인 에세이 ', '국내도서', '한국 에세이']</td>\n",
       "      <td>\\n\\r\\n우리들의 배우 김혜자의 연기, 인생“그럼에도 불구하고, 생에 감사해”한국...</td>\n",
       "      <td>\\n\\n\\r\\n우리들의 배우 김혜자의 연기, 인생“그럼에도 불구하고, 생에 감사해”...</td>\n",
       "    </tr>\n",
       "  </tbody>\n",
       "</table>\n",
       "</div>"
      ],
      "text/plain": [
       "   index    book_id   page  weight           size  \\\n",
       "0      0  115142458  280쪽    408g    145*210*18mm   \n",
       "1      0  116579452  280쪽    470g    145*210*17mm   \n",
       "2      0  116046489  376쪽    558g    136*200*30mm   \n",
       "\n",
       "                                       category  \\\n",
       "0      ['노년 / 죽음', '국내도서', '주제로 읽는 인문학 ', '인문']   \n",
       "1  ['자녀교육일반', '가정 살림', '자녀교육', '국내도서', '학습법일반']   \n",
       "2      ['에세이', '명사/연예인 에세이 ', '국내도서', '한국 에세이']   \n",
       "\n",
       "                                          book_intro  \\\n",
       "0  \\n\\r\\n“하나의 문이 닫히면 또 하나의 문이 열린다. \\r\\n그러니 더 이상 고...   \n",
       "1  \\n\\r\\n17만 유튜브 [분당강쌤]이 공개한 대입까지 직행하는 공부의 기본기\\r\\...   \n",
       "2  \\n\\r\\n우리들의 배우 김혜자의 연기, 인생“그럼에도 불구하고, 생에 감사해”한국...   \n",
       "\n",
       "                                      pub_book_intro  \n",
       "0  \\n\\n\\r\\n“하나의 문이 닫히면 또 하나의 문이 열린다. \\r\\n그러니 더 이상...  \n",
       "1  \\n\\n\\r\\n17만 유튜브 [분당강쌤]이 공개한 대입까지 직행하는 공부의 기본기\\...  \n",
       "2  \\n\\n\\r\\n우리들의 배우 김혜자의 연기, 인생“그럼에도 불구하고, 생에 감사해”...  "
      ]
     },
     "execution_count": 131,
     "metadata": {},
     "output_type": "execute_result"
    }
   ],
   "source": [
    "test"
   ]
  },
  {
   "cell_type": "code",
   "execution_count": null,
   "id": "c74127f1",
   "metadata": {},
   "outputs": [],
   "source": [
    "def ramentop20todb(df, today):\n",
    "    engine = create_engine(\"mysql+mysqldb://<id>:\"+\"<password>\"+\"@59.7.246.88:3306/ramen\", encoding='utf-8')\n",
    "    conn = engine.connect()\n",
    "    try:\n",
    "        df.to_sql(name='Top20s{}'.format(today), con=engine, if_exists='append', index=False)\n",
    "    except Exception as e:\n",
    "        print(e)\n",
    "    conn.close()\n",
    "    return print(\"DB saving has been completed\")"
   ]
  },
  {
   "cell_type": "code",
   "execution_count": null,
   "id": "8f6ab986",
   "metadata": {},
   "outputs": [],
   "source": []
  },
  {
   "cell_type": "code",
   "execution_count": null,
   "id": "12e15b13",
   "metadata": {},
   "outputs": [],
   "source": []
  },
  {
   "cell_type": "code",
   "execution_count": null,
   "id": "82697138",
   "metadata": {},
   "outputs": [],
   "source": []
  },
  {
   "cell_type": "code",
   "execution_count": null,
   "id": "7374c247",
   "metadata": {},
   "outputs": [],
   "source": []
  },
  {
   "cell_type": "code",
   "execution_count": null,
   "id": "abde796f",
   "metadata": {},
   "outputs": [],
   "source": [
    "detail_info = pd.DataFrame()\n",
    "for url2 in tqdm(urls):\n",
    "    r = requests.get(url2, stream=True)\n",
    "    soup = bs(r.text, 'lxml')\n",
    "    book_id_num = url2.split(\"/\")[-1]\n",
    "    book_pws = soup.select_one(\"tbody > tr:nth-child(2) > td.txt.lastCol\").get_text().split(\"|\") if soup.select_one(\"tbody > tr:nth-child(2) > td.txt.lastCol\") != None  else \"\"\n",
    "    if len(book_pws) < 3:\n",
    "        page = 0\n",
    "        weight = 0\n",
    "        size = 0\n",
    "    else:\n",
    "        page, weight, size = book_pws\n",
    "    category = list({i.get_text() for i in soup.select(\"div.infoSetCont_wrap > dl:nth-child(1) > dd > ul a\") if soup.select(\"div.infoSetCont_wrap > dl:nth-child(1) > dd > ul a\") != None})\n",
    "    abstract = soup.select_one(\".infoWrap_txtInner\").get_text() if soup.select_one(\".infoWrap_txtInner\") != None else \"\"\n",
    "    pub_review = soup.select_one(\"#infoset_pubReivew div.infoWrap_txt\").get_text() if soup.select_one(\"#infoset_pubReivew div.infoWrap_txt\") != None else \"\"\n",
    "    result = pd.DataFrame([[book_id_num, page, weight, size, category, abstract, pub_review]], columns=['book_id_num','page', 'weight', 'size', 'category', 'abstract', 'pub_review'])\n",
    "    detail_info = pd.concat([detail_info, result])\n",
    "    time.sleep(5)"
   ]
  },
  {
   "cell_type": "code",
   "execution_count": null,
   "id": "d638e051",
   "metadata": {},
   "outputs": [],
   "source": []
  },
  {
   "cell_type": "code",
   "execution_count": null,
   "id": "12e23a42",
   "metadata": {},
   "outputs": [],
   "source": []
  },
  {
   "cell_type": "code",
   "execution_count": null,
   "id": "6a41ab38",
   "metadata": {},
   "outputs": [],
   "source": []
  },
  {
   "cell_type": "code",
   "execution_count": null,
   "id": "472fe3ff",
   "metadata": {},
   "outputs": [],
   "source": []
  },
  {
   "cell_type": "code",
   "execution_count": null,
   "id": "29e1fb6c",
   "metadata": {},
   "outputs": [],
   "source": [
    "detail_info"
   ]
  },
  {
   "cell_type": "code",
   "execution_count": null,
   "id": "92ba6b50",
   "metadata": {},
   "outputs": [],
   "source": [
    "pd.concat()"
   ]
  },
  {
   "cell_type": "code",
   "execution_count": null,
   "id": "74ff2e09",
   "metadata": {},
   "outputs": [],
   "source": []
  },
  {
   "cell_type": "code",
   "execution_count": null,
   "id": "23dd7414",
   "metadata": {},
   "outputs": [],
   "source": []
  },
  {
   "cell_type": "code",
   "execution_count": null,
   "id": "04797d47",
   "metadata": {},
   "outputs": [],
   "source": []
  },
  {
   "cell_type": "code",
   "execution_count": null,
   "id": "a6d73160",
   "metadata": {},
   "outputs": [],
   "source": []
  },
  {
   "cell_type": "code",
   "execution_count": null,
   "id": "fe121732",
   "metadata": {},
   "outputs": [],
   "source": []
  },
  {
   "cell_type": "code",
   "execution_count": null,
   "id": "86374d77",
   "metadata": {},
   "outputs": [],
   "source": []
  },
  {
   "cell_type": "code",
   "execution_count": null,
   "id": "5fb20c4e",
   "metadata": {},
   "outputs": [],
   "source": []
  }
 ],
 "metadata": {
  "kernelspec": {
   "display_name": "testenv",
   "language": "python",
   "name": "testenv"
  },
  "language_info": {
   "codemirror_mode": {
    "name": "ipython",
    "version": 3
   },
   "file_extension": ".py",
   "mimetype": "text/x-python",
   "name": "python",
   "nbconvert_exporter": "python",
   "pygments_lexer": "ipython3",
   "version": "3.8.17"
  }
 },
 "nbformat": 4,
 "nbformat_minor": 5
}
