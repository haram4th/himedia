{
 "cells": [
  {
   "cell_type": "code",
   "execution_count": 1,
   "id": "e75919d5",
   "metadata": {},
   "outputs": [],
   "source": [
    "import pandas as pd\n",
    "import matplotlib.pyplot as plt\n",
    "import koreanize_matplotlib\n",
    "import numpy as np"
   ]
  },
  {
   "cell_type": "code",
   "execution_count": 2,
   "id": "60cef805",
   "metadata": {},
   "outputs": [],
   "source": [
    "data = pd.read_csv(\"./data/망고플레이트전국댓글.csv\")"
   ]
  },
  {
   "cell_type": "code",
   "execution_count": 3,
   "id": "afeff176",
   "metadata": {},
   "outputs": [
    {
     "name": "stdout",
     "output_type": "stream",
     "text": [
      "<class 'pandas.core.frame.DataFrame'>\n",
      "RangeIndex: 658251 entries, 0 to 658250\n",
      "Data columns (total 5 columns):\n",
      " #   Column  Non-Null Count   Dtype \n",
      "---  ------  --------------   ----- \n",
      " 0   리뷰내용    657292 non-null  object\n",
      " 1   작성자명    657680 non-null  object\n",
      " 2   후기점수    658251 non-null  object\n",
      " 3   url     658251 non-null  object\n",
      " 4   ID      658251 non-null  object\n",
      "dtypes: object(5)\n",
      "memory usage: 25.1+ MB\n"
     ]
    }
   ],
   "source": [
    "data.info()"
   ]
  },
  {
   "cell_type": "code",
   "execution_count": 4,
   "id": "bd16b2c8",
   "metadata": {},
   "outputs": [
    {
     "data": {
      "text/html": [
       "<div>\n",
       "<style scoped>\n",
       "    .dataframe tbody tr th:only-of-type {\n",
       "        vertical-align: middle;\n",
       "    }\n",
       "\n",
       "    .dataframe tbody tr th {\n",
       "        vertical-align: top;\n",
       "    }\n",
       "\n",
       "    .dataframe thead th {\n",
       "        text-align: right;\n",
       "    }\n",
       "</style>\n",
       "<table border=\"1\" class=\"dataframe\">\n",
       "  <thead>\n",
       "    <tr style=\"text-align: right;\">\n",
       "      <th></th>\n",
       "      <th>리뷰내용</th>\n",
       "      <th>작성자명</th>\n",
       "      <th>후기점수</th>\n",
       "      <th>url</th>\n",
       "      <th>ID</th>\n",
       "    </tr>\n",
       "  </thead>\n",
       "  <tbody>\n",
       "    <tr>\n",
       "      <th>0</th>\n",
       "      <td>맛있네요</td>\n",
       "      <td>-</td>\n",
       "      <td>맛있다</td>\n",
       "      <td>https://www.mangoplate.com/restaurants/iMRRP69...</td>\n",
       "      <td>iMRRP69qtkeO</td>\n",
       "    </tr>\n",
       "    <tr>\n",
       "      <th>1</th>\n",
       "      <td>가로수길</td>\n",
       "      <td>전예원</td>\n",
       "      <td>맛있다</td>\n",
       "      <td>https://www.mangoplate.com/restaurants/iMRRP69...</td>\n",
       "      <td>iMRRP69qtkeO</td>\n",
       "    </tr>\n",
       "    <tr>\n",
       "      <th>2</th>\n",
       "      <td>맛있어요</td>\n",
       "      <td>전예원</td>\n",
       "      <td>맛있다</td>\n",
       "      <td>https://www.mangoplate.com/restaurants/iMRRP69...</td>\n",
       "      <td>iMRRP69qtkeO</td>\n",
       "    </tr>\n",
       "    <tr>\n",
       "      <th>3</th>\n",
       "      <td>언제와도 맛있는 미라이!!!고등어산도는 무조건 시켜야하구요.. (식빵 뭔지 궁금) ...</td>\n",
       "      <td>스틱스강에맹세하는맛집</td>\n",
       "      <td>맛있다</td>\n",
       "      <td>https://www.mangoplate.com/restaurants/iMRRP69...</td>\n",
       "      <td>iMRRP69qtkeO</td>\n",
       "    </tr>\n",
       "    <tr>\n",
       "      <th>4</th>\n",
       "      <td>아와이 야끼소바,사바산도,우니 아마에비 호다테먹었어요.나마비루도 함께^^나마비루 부...</td>\n",
       "      <td>ㅇㅇ</td>\n",
       "      <td>맛있다</td>\n",
       "      <td>https://www.mangoplate.com/restaurants/iMRRP69...</td>\n",
       "      <td>iMRRP69qtkeO</td>\n",
       "    </tr>\n",
       "  </tbody>\n",
       "</table>\n",
       "</div>"
      ],
      "text/plain": [
       "                                                리뷰내용         작성자명 후기점수  \\\n",
       "0                                               맛있네요            -  맛있다   \n",
       "1                                               가로수길          전예원  맛있다   \n",
       "2                                               맛있어요          전예원  맛있다   \n",
       "3  언제와도 맛있는 미라이!!!고등어산도는 무조건 시켜야하구요.. (식빵 뭔지 궁금) ...  스틱스강에맹세하는맛집  맛있다   \n",
       "4  아와이 야끼소바,사바산도,우니 아마에비 호다테먹었어요.나마비루도 함께^^나마비루 부...           ㅇㅇ  맛있다   \n",
       "\n",
       "                                                 url            ID  \n",
       "0  https://www.mangoplate.com/restaurants/iMRRP69...  iMRRP69qtkeO  \n",
       "1  https://www.mangoplate.com/restaurants/iMRRP69...  iMRRP69qtkeO  \n",
       "2  https://www.mangoplate.com/restaurants/iMRRP69...  iMRRP69qtkeO  \n",
       "3  https://www.mangoplate.com/restaurants/iMRRP69...  iMRRP69qtkeO  \n",
       "4  https://www.mangoplate.com/restaurants/iMRRP69...  iMRRP69qtkeO  "
      ]
     },
     "execution_count": 4,
     "metadata": {},
     "output_type": "execute_result"
    }
   ],
   "source": [
    "data.head()"
   ]
  },
  {
   "cell_type": "code",
   "execution_count": 5,
   "id": "30649173",
   "metadata": {},
   "outputs": [
    {
     "data": {
      "text/plain": [
       "5744"
      ]
     },
     "execution_count": 5,
     "metadata": {},
     "output_type": "execute_result"
    }
   ],
   "source": [
    "data['ID'].nunique()"
   ]
  },
  {
   "cell_type": "code",
   "execution_count": 6,
   "id": "837a0df6",
   "metadata": {},
   "outputs": [],
   "source": [
    "data = data.drop_duplicates(['리뷰내용','작성자명'])"
   ]
  },
  {
   "cell_type": "code",
   "execution_count": 7,
   "id": "a2e4580b",
   "metadata": {},
   "outputs": [],
   "source": [
    "review_counts = data.groupby('ID')[['리뷰내용']].count()"
   ]
  },
  {
   "cell_type": "code",
   "execution_count": 8,
   "id": "ee0c5a77",
   "metadata": {},
   "outputs": [
    {
     "data": {
      "text/html": [
       "<div>\n",
       "<style scoped>\n",
       "    .dataframe tbody tr th:only-of-type {\n",
       "        vertical-align: middle;\n",
       "    }\n",
       "\n",
       "    .dataframe tbody tr th {\n",
       "        vertical-align: top;\n",
       "    }\n",
       "\n",
       "    .dataframe thead th {\n",
       "        text-align: right;\n",
       "    }\n",
       "</style>\n",
       "<table border=\"1\" class=\"dataframe\">\n",
       "  <thead>\n",
       "    <tr style=\"text-align: right;\">\n",
       "      <th></th>\n",
       "      <th>리뷰내용</th>\n",
       "    </tr>\n",
       "    <tr>\n",
       "      <th>ID</th>\n",
       "      <th></th>\n",
       "    </tr>\n",
       "  </thead>\n",
       "  <tbody>\n",
       "    <tr>\n",
       "      <th>s6C_cdBQX0rj</th>\n",
       "      <td>372</td>\n",
       "    </tr>\n",
       "    <tr>\n",
       "      <th>1pmv75vVQx</th>\n",
       "      <td>287</td>\n",
       "    </tr>\n",
       "    <tr>\n",
       "      <th>fPi6OZ3r-u</th>\n",
       "      <td>246</td>\n",
       "    </tr>\n",
       "    <tr>\n",
       "      <th>y-_XMRSTNrAi</th>\n",
       "      <td>241</td>\n",
       "    </tr>\n",
       "    <tr>\n",
       "      <th>gL8RksQTNk</th>\n",
       "      <td>239</td>\n",
       "    </tr>\n",
       "    <tr>\n",
       "      <th>...</th>\n",
       "      <td>...</td>\n",
       "    </tr>\n",
       "    <tr>\n",
       "      <th>nwykgqfbYx</th>\n",
       "      <td>1</td>\n",
       "    </tr>\n",
       "    <tr>\n",
       "      <th>AzIdNOqU_tl3</th>\n",
       "      <td>1</td>\n",
       "    </tr>\n",
       "    <tr>\n",
       "      <th>noi8A_NGrRBL</th>\n",
       "      <td>1</td>\n",
       "    </tr>\n",
       "    <tr>\n",
       "      <th>B8sD6M3ts3Aa</th>\n",
       "      <td>1</td>\n",
       "    </tr>\n",
       "    <tr>\n",
       "      <th>VeXkWWPE1HIJ</th>\n",
       "      <td>1</td>\n",
       "    </tr>\n",
       "  </tbody>\n",
       "</table>\n",
       "<p>5742 rows × 1 columns</p>\n",
       "</div>"
      ],
      "text/plain": [
       "              리뷰내용\n",
       "ID                \n",
       "s6C_cdBQX0rj   372\n",
       "1pmv75vVQx     287\n",
       "fPi6OZ3r-u     246\n",
       "y-_XMRSTNrAi   241\n",
       "gL8RksQTNk     239\n",
       "...            ...\n",
       "nwykgqfbYx       1\n",
       "AzIdNOqU_tl3     1\n",
       "noi8A_NGrRBL     1\n",
       "B8sD6M3ts3Aa     1\n",
       "VeXkWWPE1HIJ     1\n",
       "\n",
       "[5742 rows x 1 columns]"
      ]
     },
     "execution_count": 8,
     "metadata": {},
     "output_type": "execute_result"
    }
   ],
   "source": [
    "review_counts.sort_values(by='리뷰내용', ascending=False)"
   ]
  },
  {
   "cell_type": "code",
   "execution_count": 9,
   "id": "8d496241",
   "metadata": {},
   "outputs": [],
   "source": [
    "over20reviews = review_counts[review_counts['리뷰내용'] > 20]"
   ]
  },
  {
   "cell_type": "code",
   "execution_count": 10,
   "id": "d947f8cd",
   "metadata": {},
   "outputs": [
    {
     "data": {
      "text/html": [
       "<div>\n",
       "<style scoped>\n",
       "    .dataframe tbody tr th:only-of-type {\n",
       "        vertical-align: middle;\n",
       "    }\n",
       "\n",
       "    .dataframe tbody tr th {\n",
       "        vertical-align: top;\n",
       "    }\n",
       "\n",
       "    .dataframe thead th {\n",
       "        text-align: right;\n",
       "    }\n",
       "</style>\n",
       "<table border=\"1\" class=\"dataframe\">\n",
       "  <thead>\n",
       "    <tr style=\"text-align: right;\">\n",
       "      <th></th>\n",
       "      <th>리뷰내용</th>\n",
       "    </tr>\n",
       "    <tr>\n",
       "      <th>ID</th>\n",
       "      <th></th>\n",
       "    </tr>\n",
       "  </thead>\n",
       "  <tbody>\n",
       "    <tr>\n",
       "      <th>-1rMxmPWvg</th>\n",
       "      <td>32</td>\n",
       "    </tr>\n",
       "    <tr>\n",
       "      <th>-1yzcgbtF5</th>\n",
       "      <td>96</td>\n",
       "    </tr>\n",
       "    <tr>\n",
       "      <th>-9jLnAAJZc</th>\n",
       "      <td>25</td>\n",
       "    </tr>\n",
       "    <tr>\n",
       "      <th>-D6qxV9cg9mT</th>\n",
       "      <td>23</td>\n",
       "    </tr>\n",
       "    <tr>\n",
       "      <th>-EDDtVfafvaS</th>\n",
       "      <td>29</td>\n",
       "    </tr>\n",
       "    <tr>\n",
       "      <th>...</th>\n",
       "      <td>...</td>\n",
       "    </tr>\n",
       "    <tr>\n",
       "      <th>zYzhPaX003</th>\n",
       "      <td>69</td>\n",
       "    </tr>\n",
       "    <tr>\n",
       "      <th>z_sD7nAsh7V0</th>\n",
       "      <td>51</td>\n",
       "    </tr>\n",
       "    <tr>\n",
       "      <th>zq9bIKh6PMLV</th>\n",
       "      <td>37</td>\n",
       "    </tr>\n",
       "    <tr>\n",
       "      <th>ztTTr81jaBm7</th>\n",
       "      <td>98</td>\n",
       "    </tr>\n",
       "    <tr>\n",
       "      <th>zv1rcsrmRU4S</th>\n",
       "      <td>35</td>\n",
       "    </tr>\n",
       "  </tbody>\n",
       "</table>\n",
       "<p>1117 rows × 1 columns</p>\n",
       "</div>"
      ],
      "text/plain": [
       "              리뷰내용\n",
       "ID                \n",
       "-1rMxmPWvg      32\n",
       "-1yzcgbtF5      96\n",
       "-9jLnAAJZc      25\n",
       "-D6qxV9cg9mT    23\n",
       "-EDDtVfafvaS    29\n",
       "...            ...\n",
       "zYzhPaX003      69\n",
       "z_sD7nAsh7V0    51\n",
       "zq9bIKh6PMLV    37\n",
       "ztTTr81jaBm7    98\n",
       "zv1rcsrmRU4S    35\n",
       "\n",
       "[1117 rows x 1 columns]"
      ]
     },
     "execution_count": 10,
     "metadata": {},
     "output_type": "execute_result"
    }
   ],
   "source": [
    "over20reviews"
   ]
  },
  {
   "cell_type": "code",
   "execution_count": 11,
   "id": "b81fb7a0",
   "metadata": {},
   "outputs": [],
   "source": [
    "over20reviews_shops = over20reviews.index"
   ]
  },
  {
   "cell_type": "code",
   "execution_count": 12,
   "id": "e4391d9e",
   "metadata": {},
   "outputs": [
    {
     "data": {
      "text/plain": [
       "Index(['-1rMxmPWvg', '-1yzcgbtF5', '-9jLnAAJZc', '-D6qxV9cg9mT',\n",
       "       '-EDDtVfafvaS', '-G-YWwpe9D', '-LWflJV1maU2', '-SMNjUsH3i',\n",
       "       '-SvQDki5HNzQ', '-UUbd93wKH0H',\n",
       "       ...\n",
       "       'zNVXE1__XF', 'zOOlz9vfJfFF', 'zSujg5KWKY1W', 'zSxicuDvNH',\n",
       "       'zWVgSFqWIQrj', 'zYzhPaX003', 'z_sD7nAsh7V0', 'zq9bIKh6PMLV',\n",
       "       'ztTTr81jaBm7', 'zv1rcsrmRU4S'],\n",
       "      dtype='object', name='ID', length=1117)"
      ]
     },
     "execution_count": 12,
     "metadata": {},
     "output_type": "execute_result"
    }
   ],
   "source": [
    "over20reviews_shops"
   ]
  },
  {
   "cell_type": "code",
   "execution_count": 13,
   "id": "6c3f8a9b",
   "metadata": {},
   "outputs": [
    {
     "data": {
      "text/plain": [
       "True"
      ]
     },
     "execution_count": 13,
     "metadata": {},
     "output_type": "execute_result"
    }
   ],
   "source": [
    "\"s6C_cdBQX0rj\" in over20reviews_shops"
   ]
  },
  {
   "cell_type": "code",
   "execution_count": 14,
   "id": "39bddd14",
   "metadata": {},
   "outputs": [],
   "source": [
    "over20df = data[data['ID'].apply(lambda x: x in over20reviews_shops)]"
   ]
  },
  {
   "cell_type": "code",
   "execution_count": 15,
   "id": "8f47b971",
   "metadata": {
    "scrolled": false
   },
   "outputs": [
    {
     "name": "stderr",
     "output_type": "stream",
     "text": [
      "C:\\Users\\HSM\\AppData\\Local\\Temp\\ipykernel_5900\\3256979473.py:1: SettingWithCopyWarning: \n",
      "A value is trying to be set on a copy of a slice from a DataFrame.\n",
      "Try using .loc[row_indexer,col_indexer] = value instead\n",
      "\n",
      "See the caveats in the documentation: https://pandas.pydata.org/pandas-docs/stable/user_guide/indexing.html#returning-a-view-versus-a-copy\n",
      "  over20df['리뷰내용'] = over20df['리뷰내용'].astype('str')\n"
     ]
    }
   ],
   "source": [
    "over20df['리뷰내용'] = over20df['리뷰내용'].astype('str')"
   ]
  },
  {
   "cell_type": "code",
   "execution_count": 16,
   "id": "8da6aefb",
   "metadata": {
    "scrolled": true
   },
   "outputs": [],
   "source": [
    "over20df = over20df[over20df['리뷰내용'].apply(len) >= 4]"
   ]
  },
  {
   "cell_type": "code",
   "execution_count": 17,
   "id": "35db2ed9",
   "metadata": {
    "scrolled": true
   },
   "outputs": [
    {
     "data": {
      "text/plain": [
       "1117"
      ]
     },
     "execution_count": 17,
     "metadata": {},
     "output_type": "execute_result"
    }
   ],
   "source": [
    "over20df['ID'].nunique()"
   ]
  },
  {
   "cell_type": "code",
   "execution_count": 18,
   "id": "1ca23c25",
   "metadata": {
    "scrolled": false
   },
   "outputs": [],
   "source": [
    "over20df['ID'] = over20df['ID'].str.replace(\"-\",\"_\")"
   ]
  },
  {
   "cell_type": "code",
   "execution_count": 19,
   "id": "8bf4948c",
   "metadata": {},
   "outputs": [],
   "source": [
    "def dfbyid(over20df):\n",
    "    dfs = []\n",
    "    for index, id in enumerate(over20df['ID']):\n",
    "        globals()[f\"d_{id}\"] = over20df[over20df['ID'] == id]   # 변수를 자동으로 생성해서 id별 dataframe만듬\n",
    "        dfs.append(\"d_\"+id) # ID가 숫자로 시작하면 변수 생성이 안되므로 앞에 d_를 붙임\n",
    "    dfs = set(dfs) # ID 중복 제거\n",
    "    print(f\"{index+1}/{len(over20df['ID']} 처리중\", end=\"\\r\") # 현재 진행사항 표시\n",
    "    return list(dfs)\n",
    "    "
   ]
  },
  {
   "cell_type": "code",
   "execution_count": 20,
   "id": "a226df33",
   "metadata": {},
   "outputs": [],
   "source": [
    "dfs = dfbyid(over20df)"
   ]
  },
  {
   "cell_type": "code",
   "execution_count": 21,
   "id": "89318b0f",
   "metadata": {},
   "outputs": [
    {
     "data": {
      "text/plain": [
       "1117"
      ]
     },
     "execution_count": 21,
     "metadata": {},
     "output_type": "execute_result"
    }
   ],
   "source": [
    "len(dfs)"
   ]
  },
  {
   "cell_type": "code",
   "execution_count": 22,
   "id": "8ebaf527",
   "metadata": {},
   "outputs": [],
   "source": [
    "# pip install emoji"
   ]
  },
  {
   "cell_type": "code",
   "execution_count": 23,
   "id": "05cc8aa8",
   "metadata": {},
   "outputs": [],
   "source": [
    "def wcByShop(dfs):\n",
    "    import string\n",
    "    from emoji import core\n",
    "    from wordcloud import WordCloud\n",
    "\n",
    "    font_path = r\"C:\\Windows\\Fonts\\gulim.ttc\"\n",
    "    for idx, val in enumerate(dfs):\n",
    "        globals()[f'{val}_text'] = []\n",
    "        globals()[val]['리뷰내용'].apply(lambda x: globals()[f'{val}_text'].append(x))\n",
    "        globals()[f'{val}_text'] = \" \".join(globals()[f'{val}_text'])\n",
    "        globals()[f'{val}_text'] = globals()[f'{val}_text'].translate(str.maketrans(\".\", \" \", string.punctuation)).replace(\"…\", \" \")\n",
    "        globals()[f'{val}_text'] = core.replace_emoji(globals()[f'{val}_text'], replace=\" \").replace(\"  \", \" \")\n",
    "        globals()[f'{val}_text'] = globals()[f'{val}_text'].translate(str.maketrans(\"\", \"\", \"ㅋㅎㅇ\"))\n",
    "        \n",
    "        # wordcloud 만들기\n",
    "        wc = WordCloud(\n",
    "        max_words = 200,\n",
    "        font_path= font_path,\n",
    "        background_color = 'white',\n",
    "        stopwords = []).generate(globals()[f'{val}_text'])\n",
    "        plt.figure(figsize=(10,10))\n",
    "        plt.imshow(wc)\n",
    "        plt.axis('off')\n",
    "        plt.savefig(f\"./data/wc/{val}.png\")\n",
    "        plt.close()\n",
    "        print(f\"현재 {idx+1}/{len(dfs)} 처리중\", end=\"\\r\" )\n"
   ]
  },
  {
   "cell_type": "code",
   "execution_count": 24,
   "id": "39ceee78",
   "metadata": {},
   "outputs": [
    {
     "name": "stdout",
     "output_type": "stream",
     "text": [
      "현재 1116/1117 처리중\r"
     ]
    }
   ],
   "source": [
    "# id 별로 저장된 데이터 프레임을 wcByShop함수를 이용해서 텍스트 하나의 변수에 합치기, 텍스트 클리닝, 워드클라우드 만들어 저장하기 수행\n",
    "wcByShop(dfs)"
   ]
  }
 ],
 "metadata": {
  "kernelspec": {
   "display_name": "mdai",
   "language": "python",
   "name": "mdai"
  },
  "language_info": {
   "codemirror_mode": {
    "name": "ipython",
    "version": 3
   },
   "file_extension": ".py",
   "mimetype": "text/x-python",
   "name": "python",
   "nbconvert_exporter": "python",
   "pygments_lexer": "ipython3",
   "version": "3.11.5"
  }
 },
 "nbformat": 4,
 "nbformat_minor": 5
}
