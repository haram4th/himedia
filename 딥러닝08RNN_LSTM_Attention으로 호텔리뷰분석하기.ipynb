{
 "cells": [
  {
   "cell_type": "code",
   "execution_count": 50,
   "id": "70b4740c",
   "metadata": {},
   "outputs": [],
   "source": [
    "from tensorflow.keras.preprocessing.text import Tokenizer, text_to_word_sequence\n",
    "from tensorflow.keras.preprocessing.sequence import pad_sequences\n",
    "from tensorflow.keras.models import Sequential\n",
    "from tensorflow.keras.layers import Dense, Flatten, Embedding\n",
    "from tensorflow.keras.callbacks import ModelCheckpoint, EarlyStopping\n",
    "from tensorflow.keras.utils import to_categorical\n",
    "from numpy import array"
   ]
  },
  {
   "cell_type": "code",
   "execution_count": 13,
   "id": "c7b74b16",
   "metadata": {},
   "outputs": [],
   "source": [
    "import pandas as pd\n",
    "import numpy as np\n",
    "import matplotlib.pyplot as plt\n",
    "import seaborn as sns\n",
    "import koreanize_matplotlib\n",
    "import os"
   ]
  },
  {
   "cell_type": "code",
   "execution_count": 14,
   "id": "a6e59d41",
   "metadata": {},
   "outputs": [
    {
     "data": {
      "text/html": [
       "<div>\n",
       "<style scoped>\n",
       "    .dataframe tbody tr th:only-of-type {\n",
       "        vertical-align: middle;\n",
       "    }\n",
       "\n",
       "    .dataframe tbody tr th {\n",
       "        vertical-align: top;\n",
       "    }\n",
       "\n",
       "    .dataframe thead th {\n",
       "        text-align: right;\n",
       "    }\n",
       "</style>\n",
       "<table border=\"1\" class=\"dataframe\">\n",
       "  <thead>\n",
       "    <tr style=\"text-align: right;\">\n",
       "      <th></th>\n",
       "      <th>Unnamed: 0.1</th>\n",
       "      <th>Unnamed: 0</th>\n",
       "      <th>hotelId</th>\n",
       "      <th>hotelName</th>\n",
       "      <th>tripType</th>\n",
       "      <th>tripTypeText</th>\n",
       "      <th>reviewDate</th>\n",
       "      <th>rating</th>\n",
       "      <th>description</th>\n",
       "      <th>isKorNot</th>\n",
       "    </tr>\n",
       "  </thead>\n",
       "  <tbody>\n",
       "    <tr>\n",
       "      <th>0</th>\n",
       "      <td>0</td>\n",
       "      <td>356</td>\n",
       "      <td>105343</td>\n",
       "      <td>서울 웨스틴조선호텔 (The Westin Chosun Seoul)</td>\n",
       "      <td>family</td>\n",
       "      <td>1박 가족 여행</td>\n",
       "      <td>2019년 1월 26일</td>\n",
       "      <td>10.0</td>\n",
       "      <td>직원들 서비스나 마인드 완벽합니다 다만 노후된 시설과 좁은 라운지가 호텔 이름에 비...</td>\n",
       "      <td>True</td>\n",
       "    </tr>\n",
       "    <tr>\n",
       "      <th>1</th>\n",
       "      <td>1</td>\n",
       "      <td>357</td>\n",
       "      <td>105343</td>\n",
       "      <td>서울 웨스틴조선호텔 (The Westin Chosun Seoul)</td>\n",
       "      <td>family</td>\n",
       "      <td>1박 가족 여행</td>\n",
       "      <td>2019년 2월 4일</td>\n",
       "      <td>10.0</td>\n",
       "      <td>웨스틴조선은 모든면에서 최고의 숙소라고 생각합니다 분위기 편의성 직원친절도까지 모두...</td>\n",
       "      <td>True</td>\n",
       "    </tr>\n",
       "  </tbody>\n",
       "</table>\n",
       "</div>"
      ],
      "text/plain": [
       "   Unnamed: 0.1  Unnamed: 0  hotelId                             hotelName  \\\n",
       "0             0         356   105343  서울 웨스틴조선호텔 (The Westin Chosun Seoul)   \n",
       "1             1         357   105343  서울 웨스틴조선호텔 (The Westin Chosun Seoul)   \n",
       "\n",
       "  tripType tripTypeText    reviewDate  rating  \\\n",
       "0   family     1박 가족 여행  2019년 1월 26일    10.0   \n",
       "1   family     1박 가족 여행   2019년 2월 4일    10.0   \n",
       "\n",
       "                                         description  isKorNot  \n",
       "0  직원들 서비스나 마인드 완벽합니다 다만 노후된 시설과 좁은 라운지가 호텔 이름에 비...      True  \n",
       "1  웨스틴조선은 모든면에서 최고의 숙소라고 생각합니다 분위기 편의성 직원친절도까지 모두...      True  "
      ]
     },
     "execution_count": 14,
     "metadata": {},
     "output_type": "execute_result"
    }
   ],
   "source": [
    "data = pd.read_csv(\"https://raw.githubusercontent.com/haram4th/ablearn/main/hotel_review_75000.csv\")\n",
    "data.head(2)"
   ]
  },
  {
   "cell_type": "code",
   "execution_count": 15,
   "id": "66175e01",
   "metadata": {},
   "outputs": [
    {
     "data": {
      "text/plain": [
       "Index(['Unnamed: 0.1', 'Unnamed: 0', 'hotelId', 'hotelName', 'tripType',\n",
       "       'tripTypeText', 'reviewDate', 'rating', 'description', 'isKorNot'],\n",
       "      dtype='object')"
      ]
     },
     "execution_count": 15,
     "metadata": {},
     "output_type": "execute_result"
    }
   ],
   "source": [
    "data.columns"
   ]
  },
  {
   "cell_type": "code",
   "execution_count": 16,
   "id": "a847fbb6",
   "metadata": {},
   "outputs": [],
   "source": [
    "data = data[['rating', 'description']]"
   ]
  },
  {
   "cell_type": "code",
   "execution_count": 17,
   "id": "f65b25b9",
   "metadata": {},
   "outputs": [
    {
     "name": "stdout",
     "output_type": "stream",
     "text": [
      "<class 'pandas.core.frame.DataFrame'>\n",
      "RangeIndex: 75000 entries, 0 to 74999\n",
      "Data columns (total 2 columns):\n",
      " #   Column       Non-Null Count  Dtype  \n",
      "---  ------       --------------  -----  \n",
      " 0   rating       75000 non-null  float64\n",
      " 1   description  75000 non-null  object \n",
      "dtypes: float64(1), object(1)\n",
      "memory usage: 1.1+ MB\n"
     ]
    }
   ],
   "source": [
    "data.info()"
   ]
  },
  {
   "cell_type": "markdown",
   "id": "04c0b966",
   "metadata": {},
   "source": [
    "* rating 8 이상이면 긍정 1, 미만은 부정 0 으로 해서 target 컬럼 생성\n",
    "* description컬럼 토크나이징, 시퀀스로 변환, 임베딩\n",
    "* train, valid, test로 데이터 분할\n",
    "* 딥러닝 네트워크 생성 후 분석\n",
    "* early_stopping, modelcheckpoint \n",
    "* 그래프로 loss 출력"
   ]
  },
  {
   "cell_type": "code",
   "execution_count": 18,
   "id": "f065fbbc",
   "metadata": {},
   "outputs": [
    {
     "data": {
      "text/html": [
       "<div>\n",
       "<style scoped>\n",
       "    .dataframe tbody tr th:only-of-type {\n",
       "        vertical-align: middle;\n",
       "    }\n",
       "\n",
       "    .dataframe tbody tr th {\n",
       "        vertical-align: top;\n",
       "    }\n",
       "\n",
       "    .dataframe thead th {\n",
       "        text-align: right;\n",
       "    }\n",
       "</style>\n",
       "<table border=\"1\" class=\"dataframe\">\n",
       "  <thead>\n",
       "    <tr style=\"text-align: right;\">\n",
       "      <th></th>\n",
       "      <th>rating</th>\n",
       "      <th>description</th>\n",
       "    </tr>\n",
       "  </thead>\n",
       "  <tbody>\n",
       "    <tr>\n",
       "      <th>0</th>\n",
       "      <td>10.0</td>\n",
       "      <td>직원들 서비스나 마인드 완벽합니다 다만 노후된 시설과 좁은 라운지가 호텔 이름에 비...</td>\n",
       "    </tr>\n",
       "    <tr>\n",
       "      <th>1</th>\n",
       "      <td>10.0</td>\n",
       "      <td>웨스틴조선은 모든면에서 최고의 숙소라고 생각합니다 분위기 편의성 직원친절도까지 모두...</td>\n",
       "    </tr>\n",
       "  </tbody>\n",
       "</table>\n",
       "</div>"
      ],
      "text/plain": [
       "   rating                                        description\n",
       "0    10.0  직원들 서비스나 마인드 완벽합니다 다만 노후된 시설과 좁은 라운지가 호텔 이름에 비...\n",
       "1    10.0  웨스틴조선은 모든면에서 최고의 숙소라고 생각합니다 분위기 편의성 직원친절도까지 모두..."
      ]
     },
     "execution_count": 18,
     "metadata": {},
     "output_type": "execute_result"
    }
   ],
   "source": [
    "data.head(2)"
   ]
  },
  {
   "cell_type": "code",
   "execution_count": 19,
   "id": "0bcdda99",
   "metadata": {},
   "outputs": [],
   "source": [
    "data['target'] = data['rating'].apply(lambda x: 1 if x >=8 else 0)"
   ]
  },
  {
   "cell_type": "code",
   "execution_count": 20,
   "id": "78e4d9f0",
   "metadata": {},
   "outputs": [
    {
     "data": {
      "text/html": [
       "<div>\n",
       "<style scoped>\n",
       "    .dataframe tbody tr th:only-of-type {\n",
       "        vertical-align: middle;\n",
       "    }\n",
       "\n",
       "    .dataframe tbody tr th {\n",
       "        vertical-align: top;\n",
       "    }\n",
       "\n",
       "    .dataframe thead th {\n",
       "        text-align: right;\n",
       "    }\n",
       "</style>\n",
       "<table border=\"1\" class=\"dataframe\">\n",
       "  <thead>\n",
       "    <tr style=\"text-align: right;\">\n",
       "      <th></th>\n",
       "      <th>rating</th>\n",
       "      <th>description</th>\n",
       "      <th>target</th>\n",
       "    </tr>\n",
       "  </thead>\n",
       "  <tbody>\n",
       "    <tr>\n",
       "      <th>0</th>\n",
       "      <td>10.0</td>\n",
       "      <td>직원들 서비스나 마인드 완벽합니다 다만 노후된 시설과 좁은 라운지가 호텔 이름에 비...</td>\n",
       "      <td>1</td>\n",
       "    </tr>\n",
       "    <tr>\n",
       "      <th>1</th>\n",
       "      <td>10.0</td>\n",
       "      <td>웨스틴조선은 모든면에서 최고의 숙소라고 생각합니다 분위기 편의성 직원친절도까지 모두...</td>\n",
       "      <td>1</td>\n",
       "    </tr>\n",
       "    <tr>\n",
       "      <th>2</th>\n",
       "      <td>10.0</td>\n",
       "      <td>서울시내에서 호캉스를 누릴 수 있는 곳아침 뷔페가 맛있는 곳룸서비스가 좋았음요구사항...</td>\n",
       "      <td>1</td>\n",
       "    </tr>\n",
       "    <tr>\n",
       "      <th>3</th>\n",
       "      <td>10.0</td>\n",
       "      <td>가격에 맞게 만족했습니다</td>\n",
       "      <td>1</td>\n",
       "    </tr>\n",
       "    <tr>\n",
       "      <th>4</th>\n",
       "      <td>10.0</td>\n",
       "      <td>처음 세명으로 셋팅 되어있지 않은점 빼고는 직원들의 친절도 및 서비스는 모두 맘에 ...</td>\n",
       "      <td>1</td>\n",
       "    </tr>\n",
       "  </tbody>\n",
       "</table>\n",
       "</div>"
      ],
      "text/plain": [
       "   rating                                        description  target\n",
       "0    10.0  직원들 서비스나 마인드 완벽합니다 다만 노후된 시설과 좁은 라운지가 호텔 이름에 비...       1\n",
       "1    10.0  웨스틴조선은 모든면에서 최고의 숙소라고 생각합니다 분위기 편의성 직원친절도까지 모두...       1\n",
       "2    10.0  서울시내에서 호캉스를 누릴 수 있는 곳아침 뷔페가 맛있는 곳룸서비스가 좋았음요구사항...       1\n",
       "3    10.0                                      가격에 맞게 만족했습니다       1\n",
       "4    10.0  처음 세명으로 셋팅 되어있지 않은점 빼고는 직원들의 친절도 및 서비스는 모두 맘에 ...       1"
      ]
     },
     "execution_count": 20,
     "metadata": {},
     "output_type": "execute_result"
    }
   ],
   "source": [
    "data.head()"
   ]
  },
  {
   "cell_type": "code",
   "execution_count": 21,
   "id": "8b63ab4a",
   "metadata": {
    "scrolled": true
   },
   "outputs": [
    {
     "data": {
      "text/plain": [
       "pandas.core.series.Series"
      ]
     },
     "execution_count": 21,
     "metadata": {},
     "output_type": "execute_result"
    }
   ],
   "source": [
    "type(data['description']) # 리스트, np.array"
   ]
  },
  {
   "cell_type": "code",
   "execution_count": 24,
   "id": "57f7c909",
   "metadata": {},
   "outputs": [],
   "source": [
    "text = data['description'][0]"
   ]
  },
  {
   "cell_type": "code",
   "execution_count": 25,
   "id": "0675a9ee",
   "metadata": {},
   "outputs": [
    {
     "name": "stdout",
     "output_type": "stream",
     "text": [
      "원문:  직원들 서비스나 마인드 완벽합니다 다만 노후된 시설과 좁은 라운지가 호텔 이름에 비해 약간 부족합니다\n",
      "토큰화:  ['직원들', '서비스나', '마인드', '완벽합니다', '다만', '노후된', '시설과', '좁은', '라운지가', '호텔', '이름에', '비해', '약간', '부족합니다']\n"
     ]
    }
   ],
   "source": [
    "result = text_to_word_sequence(data['description'][0])\n",
    "print(\"원문: \", text)\n",
    "print(\"토큰화: \", result) #토큰, 코퍼스(corpus)"
   ]
  },
  {
   "cell_type": "code",
   "execution_count": 26,
   "id": "91049914",
   "metadata": {},
   "outputs": [],
   "source": [
    "# 단어 빈도수 세기\n",
    "docs = data['description']"
   ]
  },
  {
   "cell_type": "markdown",
   "id": "8774dea8",
   "metadata": {},
   "source": [
    "# 토크나이저 사용법"
   ]
  },
  {
   "cell_type": "code",
   "execution_count": 27,
   "id": "ee81e135",
   "metadata": {},
   "outputs": [],
   "source": [
    "# 문장 토큰화 하기\n",
    "token = Tokenizer(lower=False)\n",
    "token.fit_on_texts(docs)"
   ]
  },
  {
   "cell_type": "code",
   "execution_count": 28,
   "id": "59932b39",
   "metadata": {},
   "outputs": [
    {
     "name": "stderr",
     "output_type": "stream",
     "text": [
      "IOPub data rate exceeded.\n",
      "The notebook server will temporarily stop sending output\n",
      "to the client in order to avoid crashing it.\n",
      "To change this limit, set the config variable\n",
      "`--NotebookApp.iopub_data_rate_limit`.\n",
      "\n",
      "Current values:\n",
      "NotebookApp.iopub_data_rate_limit=1000000.0 (bytes/sec)\n",
      "NotebookApp.rate_limit_window=3.0 (secs)\n",
      "\n"
     ]
    }
   ],
   "source": [
    "print('단어 카운트: ', token.word_counts)"
   ]
  },
  {
   "cell_type": "code",
   "execution_count": 29,
   "id": "7cc4e726",
   "metadata": {},
   "outputs": [
    {
     "name": "stdout",
     "output_type": "stream",
     "text": [
      "문장 카운트: 75000\n"
     ]
    }
   ],
   "source": [
    "print('문장 카운트:', token.document_count)"
   ]
  },
  {
   "cell_type": "code",
   "execution_count": 30,
   "id": "f500c076",
   "metadata": {},
   "outputs": [
    {
     "name": "stderr",
     "output_type": "stream",
     "text": [
      "IOPub data rate exceeded.\n",
      "The notebook server will temporarily stop sending output\n",
      "to the client in order to avoid crashing it.\n",
      "To change this limit, set the config variable\n",
      "`--NotebookApp.iopub_data_rate_limit`.\n",
      "\n",
      "Current values:\n",
      "NotebookApp.iopub_data_rate_limit=1000000.0 (bytes/sec)\n",
      "NotebookApp.rate_limit_window=3.0 (secs)\n",
      "\n"
     ]
    }
   ],
   "source": [
    "print('각 단어가 몇 개의 문장에 포함되어 있는가? ', token.word_docs)"
   ]
  },
  {
   "cell_type": "code",
   "execution_count": 31,
   "id": "c0cb006e",
   "metadata": {},
   "outputs": [
    {
     "name": "stderr",
     "output_type": "stream",
     "text": [
      "IOPub data rate exceeded.\n",
      "The notebook server will temporarily stop sending output\n",
      "to the client in order to avoid crashing it.\n",
      "To change this limit, set the config variable\n",
      "`--NotebookApp.iopub_data_rate_limit`.\n",
      "\n",
      "Current values:\n",
      "NotebookApp.iopub_data_rate_limit=1000000.0 (bytes/sec)\n",
      "NotebookApp.rate_limit_window=3.0 (secs)\n",
      "\n"
     ]
    }
   ],
   "source": [
    "print('각 단어에 매겨진 인덱스:', token.word_index)"
   ]
  },
  {
   "cell_type": "code",
   "execution_count": 32,
   "id": "9d80feb7",
   "metadata": {},
   "outputs": [
    {
     "data": {
      "text/plain": [
       "261893"
      ]
     },
     "execution_count": 32,
     "metadata": {},
     "output_type": "execute_result"
    }
   ],
   "source": [
    "len(token.word_index)"
   ]
  },
  {
   "cell_type": "markdown",
   "id": "ee892da7",
   "metadata": {},
   "source": [
    "# 단어의 원-핫 인코딩"
   ]
  },
  {
   "cell_type": "code",
   "execution_count": 33,
   "id": "ed794e08",
   "metadata": {},
   "outputs": [
    {
     "name": "stdout",
     "output_type": "stream",
     "text": [
      "{'직원들': 1, '서비스나': 2, '마인드': 3, '완벽합니다': 4, '다만': 5, '노후된': 6, '시설과': 7, '좁은': 8, '라운지가': 9, '호텔': 10, '이름에': 11, '비해': 12, '약간': 13, '부족합니다': 14}\n"
     ]
    }
   ],
   "source": [
    "text = data['description'][0]\n",
    "token = Tokenizer(lower=False)\n",
    "token.fit_on_texts([text])\n",
    "print(token.word_index)"
   ]
  },
  {
   "cell_type": "code",
   "execution_count": 34,
   "id": "371a2999",
   "metadata": {},
   "outputs": [],
   "source": [
    "# 단어를 벡터로 변환\n",
    "x = token.texts_to_sequences([text])"
   ]
  },
  {
   "cell_type": "code",
   "execution_count": 35,
   "id": "cabf7e6e",
   "metadata": {},
   "outputs": [
    {
     "data": {
      "text/plain": [
       "14"
      ]
     },
     "execution_count": 35,
     "metadata": {},
     "output_type": "execute_result"
    }
   ],
   "source": [
    "len(token.word_index)"
   ]
  },
  {
   "cell_type": "code",
   "execution_count": 36,
   "id": "206b0ff8",
   "metadata": {},
   "outputs": [],
   "source": [
    "# 인덱스에 1을 추가해서 원-핫 인코딩 배열 만들기\n",
    "word_size = len(token.word_index) + 1"
   ]
  },
  {
   "cell_type": "code",
   "execution_count": 37,
   "id": "cf2517a1",
   "metadata": {},
   "outputs": [
    {
     "name": "stdout",
     "output_type": "stream",
     "text": [
      "[[[0. 1. 0. 0. 0. 0. 0. 0. 0. 0. 0. 0. 0. 0. 0.]\n",
      "  [0. 0. 1. 0. 0. 0. 0. 0. 0. 0. 0. 0. 0. 0. 0.]\n",
      "  [0. 0. 0. 1. 0. 0. 0. 0. 0. 0. 0. 0. 0. 0. 0.]\n",
      "  [0. 0. 0. 0. 1. 0. 0. 0. 0. 0. 0. 0. 0. 0. 0.]\n",
      "  [0. 0. 0. 0. 0. 1. 0. 0. 0. 0. 0. 0. 0. 0. 0.]\n",
      "  [0. 0. 0. 0. 0. 0. 1. 0. 0. 0. 0. 0. 0. 0. 0.]\n",
      "  [0. 0. 0. 0. 0. 0. 0. 1. 0. 0. 0. 0. 0. 0. 0.]\n",
      "  [0. 0. 0. 0. 0. 0. 0. 0. 1. 0. 0. 0. 0. 0. 0.]\n",
      "  [0. 0. 0. 0. 0. 0. 0. 0. 0. 1. 0. 0. 0. 0. 0.]\n",
      "  [0. 0. 0. 0. 0. 0. 0. 0. 0. 0. 1. 0. 0. 0. 0.]\n",
      "  [0. 0. 0. 0. 0. 0. 0. 0. 0. 0. 0. 1. 0. 0. 0.]\n",
      "  [0. 0. 0. 0. 0. 0. 0. 0. 0. 0. 0. 0. 1. 0. 0.]\n",
      "  [0. 0. 0. 0. 0. 0. 0. 0. 0. 0. 0. 0. 0. 1. 0.]\n",
      "  [0. 0. 0. 0. 0. 0. 0. 0. 0. 0. 0. 0. 0. 0. 1.]]]\n"
     ]
    }
   ],
   "source": [
    "x = to_categorical(x, num_classes=word_size)\n",
    "print(x)"
   ]
  },
  {
   "cell_type": "code",
   "execution_count": 38,
   "id": "cb262741",
   "metadata": {},
   "outputs": [
    {
     "data": {
      "text/plain": [
       "(1, 14, 15)"
      ]
     },
     "execution_count": 38,
     "metadata": {},
     "output_type": "execute_result"
    }
   ],
   "source": [
    "x.shape"
   ]
  },
  {
   "cell_type": "markdown",
   "id": "c2417360",
   "metadata": {},
   "source": [
    "# 텍스트를 읽고 긍정, 부정 예측하기"
   ]
  },
  {
   "cell_type": "code",
   "execution_count": 39,
   "id": "def71167",
   "metadata": {},
   "outputs": [],
   "source": [
    "docs = data['description']\n",
    "\n",
    "# 긍정 리뷰는 1, 부정리뷰는 0으로 클래스 지정\n",
    "classes = data['target']"
   ]
  },
  {
   "cell_type": "code",
   "execution_count": 40,
   "id": "d73b514e",
   "metadata": {},
   "outputs": [
    {
     "data": {
      "text/plain": [
       "261893"
      ]
     },
     "execution_count": 40,
     "metadata": {},
     "output_type": "execute_result"
    }
   ],
   "source": [
    "# 토큰화\n",
    "token = Tokenizer(lower=False)\n",
    "token.fit_on_texts(docs)\n",
    "len(token.word_index)"
   ]
  },
  {
   "cell_type": "code",
   "execution_count": 41,
   "id": "3cbcfa2f",
   "metadata": {},
   "outputs": [
    {
     "name": "stderr",
     "output_type": "stream",
     "text": [
      "IOPub data rate exceeded.\n",
      "The notebook server will temporarily stop sending output\n",
      "to the client in order to avoid crashing it.\n",
      "To change this limit, set the config variable\n",
      "`--NotebookApp.iopub_data_rate_limit`.\n",
      "\n",
      "Current values:\n",
      "NotebookApp.iopub_data_rate_limit=1000000.0 (bytes/sec)\n",
      "NotebookApp.rate_limit_window=3.0 (secs)\n",
      "\n"
     ]
    }
   ],
   "source": [
    "# 원핫인코딩\n",
    "x = token.texts_to_sequences(docs)\n",
    "print(x)"
   ]
  },
  {
   "cell_type": "code",
   "execution_count": 42,
   "id": "15cb5360",
   "metadata": {},
   "outputs": [
    {
     "data": {
      "text/plain": [
       "0        [268, 1162, 5870, 5689, 26, 1875, 661, 581, 48...\n",
       "1        [67077, 1725, 308, 4636, 488, 566, 6066, 67078...\n",
       "2        [21641, 1628, 8335, 7, 17, 42175, 3242, 849, 6...\n",
       "3                                         [117, 2276, 178]\n",
       "4        [214, 42176, 12702, 2929, 21643, 224, 326, 110...\n",
       "                               ...                        \n",
       "74995    [2226, 47880, 261879, 6346, 507, 261880, 26188...\n",
       "74996    [216, 16, 261888, 136, 21461, 93, 4619, 9183, ...\n",
       "74997    [27422, 20, 321, 261889, 4, 1159, 14804, 34736...\n",
       "74998    [407, 67, 1, 47, 896, 973, 1440, 196, 38, 2287...\n",
       "74999    [203, 1800, 57849, 12186, 165, 261892, 4611, 4...\n",
       "Length: 75000, dtype: object"
      ]
     },
     "execution_count": 42,
     "metadata": {},
     "output_type": "execute_result"
    }
   ],
   "source": [
    "x2 = pd.Series(x)\n",
    "x2"
   ]
  },
  {
   "cell_type": "code",
   "execution_count": 43,
   "id": "a1880083",
   "metadata": {},
   "outputs": [
    {
     "data": {
      "text/plain": [
       "377"
      ]
     },
     "execution_count": 43,
     "metadata": {},
     "output_type": "execute_result"
    }
   ],
   "source": [
    "x2_len = x2.apply(len)\n",
    "x2_len.max()"
   ]
  },
  {
   "cell_type": "code",
   "execution_count": 44,
   "id": "d330cec9",
   "metadata": {},
   "outputs": [
    {
     "name": "stdout",
     "output_type": "stream",
     "text": [
      "패딩 결과 [[     0      0      0 ...    101     83   2604]\n",
      " [     0      0      0 ...  67078     31   3858]\n",
      " [     0      0      0 ...  67082    665   4111]\n",
      " ...\n",
      " [     0      0      0 ...    195  42071  39796]\n",
      " [     0      0      0 ... 261891    502    437]\n",
      " [     0      0      0 ...   3199   8900     64]]\n"
     ]
    }
   ],
   "source": [
    "# 패딩 추가 pad_sequences(데이터, 가장 긴 문장의 길이)\n",
    "padded_x = pad_sequences(x, 377)\n",
    "print(\"패딩 결과\", padded_x )"
   ]
  },
  {
   "cell_type": "code",
   "execution_count": 45,
   "id": "5d082a49",
   "metadata": {},
   "outputs": [],
   "source": [
    "#임베딩에 입력된 단어의 수 지정\n",
    "word_size = len(token.word_index) + 1"
   ]
  },
  {
   "cell_type": "code",
   "execution_count": 46,
   "id": "d40d331a",
   "metadata": {},
   "outputs": [],
   "source": [
    "from sklearn.model_selection import train_test_split\n",
    "X_train, X_test, y_train, y_test = train_test_split(padded_x, classes, test_size=0.4, random_state=7)\n",
    "X_valid, X_test, y_valid, y_test = train_test_split(X_test, y_test, test_size=0.5, random_state=7)"
   ]
  },
  {
   "cell_type": "code",
   "execution_count": 47,
   "id": "1b6f7633",
   "metadata": {},
   "outputs": [
    {
     "data": {
      "text/plain": [
       "261894"
      ]
     },
     "execution_count": 47,
     "metadata": {},
     "output_type": "execute_result"
    }
   ],
   "source": [
    "word_size"
   ]
  },
  {
   "cell_type": "code",
   "execution_count": 48,
   "id": "ec48d82f",
   "metadata": {},
   "outputs": [
    {
     "name": "stdout",
     "output_type": "stream",
     "text": [
      "Model: \"sequential\"\n",
      "_________________________________________________________________\n",
      " Layer (type)                Output Shape              Param #   \n",
      "=================================================================\n",
      " embedding (Embedding)       (None, 377, 32)           8380608   \n",
      "                                                                 \n",
      " flatten (Flatten)           (None, 12064)             0         \n",
      "                                                                 \n",
      " dense (Dense)               (None, 1)                 12065     \n",
      "                                                                 \n",
      "=================================================================\n",
      "Total params: 8,392,673\n",
      "Trainable params: 8,392,673\n",
      "Non-trainable params: 0\n",
      "_________________________________________________________________\n"
     ]
    }
   ],
   "source": [
    "# 단어 임베딩을 포함해서 딥러닝 모델 생성\n",
    "model = Sequential()\n",
    "model.add(Embedding(word_size, 32, input_length=377)) \n",
    "model.add(Flatten())\n",
    "model.add(Dense(1, activation='sigmoid'))\n",
    "model.summary()"
   ]
  },
  {
   "cell_type": "code",
   "execution_count": 51,
   "id": "3050c15f",
   "metadata": {},
   "outputs": [],
   "source": [
    "modelpath = \"./model/{epoch:02d}-{val_accuracy:.4f}.hdf5\"\n",
    "checkpointer = ModelCheckpoint(filepath=modelpath, monitor='val_loss', verbose=1, save_best_only=True)\n",
    "early_stopping_callback = EarlyStopping(monitor='val_loss', patience=2)"
   ]
  },
  {
   "cell_type": "code",
   "execution_count": 52,
   "id": "c1a479d6",
   "metadata": {
    "scrolled": true
   },
   "outputs": [
    {
     "name": "stdout",
     "output_type": "stream",
     "text": [
      "Epoch 1/5\n",
      "1407/1407 [==============================] - 118s 83ms/step - loss: 0.3638 - accuracy: 0.8393 - val_loss: 0.3114 - val_accuracy: 0.8701\n",
      "Epoch 2/5\n",
      "1407/1407 [==============================] - 117s 83ms/step - loss: 0.1808 - accuracy: 0.9335 - val_loss: 0.3373 - val_accuracy: 0.8654\n",
      "Epoch 3/5\n",
      "1407/1407 [==============================] - 114s 81ms/step - loss: 0.0807 - accuracy: 0.9753 - val_loss: 0.3969 - val_accuracy: 0.8555\n",
      "Epoch 4/5\n",
      "1407/1407 [==============================] - 114s 81ms/step - loss: 0.0410 - accuracy: 0.9882 - val_loss: 0.4567 - val_accuracy: 0.8507\n",
      "Epoch 5/5\n",
      "1407/1407 [==============================] - 115s 82ms/step - loss: 0.0249 - accuracy: 0.9933 - val_loss: 0.5385 - val_accuracy: 0.8450\n",
      "469/469 [==============================] - 2s 4ms/step - loss: 0.5456 - accuracy: 0.8420\n",
      "Accuracy:  0.8420000076293945\n"
     ]
    }
   ],
   "source": [
    "model.compile(loss= 'binary_crossentropy', optimizer='adam', metrics=['accuracy'])\n",
    "history = model.fit(X_train, y_train, epochs=5, validation_data=(X_valid, y_valid))\n",
    "print('Accuracy: ', model.evaluate(X_test, y_test)[1])"
   ]
  },
  {
   "cell_type": "code",
   "execution_count": 53,
   "id": "147dcdbe",
   "metadata": {},
   "outputs": [
    {
     "data": {
      "image/png": "[encoded data removed]",
      "text/plain": [
       "<Figure size 640x480 with 1 Axes>"
      ]
     },
     "metadata": {},
     "output_type": "display_data"
    }
   ],
   "source": [
    "y_val_loss = history.history['val_loss']\n",
    "y_loss = history.history['loss']\n",
    "x_len = np.arange(len(y_loss))\n",
    "plt.plot(x_len, y_val_loss, marker='.', c=\"red\", label='Testset_loss')\n",
    "plt.plot(x_len, y_loss, marker='.', c=\"blue\", label='trainset_loss')\n",
    "plt.legend(loc='upper right')\n",
    "plt.grid()\n",
    "plt.xlabel('epoch')\n",
    "plt.ylabel('loss')\n",
    "plt.show()"
   ]
  },
  {
   "cell_type": "markdown",
   "id": "be0cd646",
   "metadata": {},
   "source": [
    "# RNN, LSTM"
   ]
  },
  {
   "cell_type": "code",
   "execution_count": null,
   "id": "bdc8a42a",
   "metadata": {},
   "outputs": [],
   "source": []
  },
  {
   "cell_type": "code",
   "execution_count": null,
   "id": "82d368ee",
   "metadata": {},
   "outputs": [],
   "source": []
  },
  {
   "cell_type": "code",
   "execution_count": null,
   "id": "01fa13d5",
   "metadata": {},
   "outputs": [],
   "source": []
  }
 ],
 "metadata": {
  "kernelspec": {
   "display_name": "Python 3 (ipykernel)",
   "language": "python",
   "name": "python3"
  },
  "language_info": {
   "codemirror_mode": {
    "name": "ipython",
    "version": 3
   },
   "file_extension": ".py",
   "mimetype": "text/x-python",
   "name": "python",
   "nbconvert_exporter": "python",
   "pygments_lexer": "ipython3",
   "version": "3.9.18"
  }
 },
 "nbformat": 4,
 "nbformat_minor": 5
}
