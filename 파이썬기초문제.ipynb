{
  "nbformat": 4,
  "nbformat_minor": 0,
  "metadata": {
    "colab": {
      "provenance": []
    },
    "kernelspec": {
      "name": "python3",
      "display_name": "Python 3"
    },
    "language_info": {
      "name": "python"
    }
  },
  "cells": [
    {
      "cell_type": "markdown",
      "source": [
        "# 코드를 구성하는 기본 도구 - 출력, 변수, 연산자"
      ],
      "metadata": {
        "id": "3y6_HUbGqu62"
      }
    },
    {
      "cell_type": "markdown",
      "source": [
        "## 1. 아래와 같이 출력이 되도록 print 문을 이용해 출력하세요.\n",
        "```\n",
        "makit \"code\" lab\n",
        "she's gone\n",
        "```"
      ],
      "metadata": {
        "id": "4QoIAIMQmz80"
      }
    },
    {
      "cell_type": "code",
      "execution_count": null,
      "metadata": {
        "id": "foyvBq8hmucR",
        "colab": {
          "base_uri": "https://localhost:8080/"
        },
        "outputId": "0a39ee07-a78c-4237-dafb-00289c1f9a5c"
      },
      "outputs": [
        {
          "output_type": "stream",
          "name": "stdout",
          "text": [
            "makeit \"code\" lab\n",
            "she's gone\n"
          ]
        }
      ],
      "source": [
        "print('makeit \"code\" lab')\n",
        "print(\"she's gone\")"
      ]
    },
    {
      "cell_type": "markdown",
      "source": [
        "## 2. 10과 20을 각각 변수 a와 b에 저장하고 다음과 같이 출력하도록 코드를 작성하세요."
      ],
      "metadata": {
        "id": "5ql-iCACnAsQ"
      }
    },
    {
      "cell_type": "markdown",
      "source": [
        "```\n",
        "a의 값은 10\n",
        "b의 값은 20\n",
        "a와 b의 합은 30\n",
        "```"
      ],
      "metadata": {
        "id": "sEhrh85unOwg"
      }
    },
    {
      "cell_type": "code",
      "source": [
        "a = 10\n",
        "b = 20\n",
        "print(\"a의 값은\", a)\n",
        "print(\"b의 값은\", b)\n",
        "print(\"a와 b의 합은\", a+b)"
      ],
      "metadata": {
        "id": "zjjiG3PWnLFu",
        "colab": {
          "base_uri": "https://localhost:8080/"
        },
        "outputId": "7431309d-5065-47f3-a5be-2418b01cb2fb"
      },
      "execution_count": null,
      "outputs": [
        {
          "output_type": "stream",
          "name": "stdout",
          "text": [
            "a의 값은 10\n",
            "b의 값은 20\n",
            "a와 b의 합은 30\n"
          ]
        }
      ]
    },
    {
      "cell_type": "markdown",
      "source": [
        "## 3 다음과 같이 변수 a와 b에 숫자 10과 문자열 'makit'을 각각 저장하고,<br/> 각 변수에 곱하기 3을 한 결과가 무엇인지 적어 보세요."
      ],
      "metadata": {
        "id": "rbxna3bknfW7"
      }
    },
    {
      "cell_type": "markdown",
      "source": [
        "```\n",
        "a = 10\n",
        "b = 'makit'\n",
        "print(a * 3)\n",
        "print(b * 3)\n",
        "```"
      ],
      "metadata": {
        "id": "uKsrYAJgnnTk"
      }
    },
    {
      "cell_type": "code",
      "source": [
        "a = 10\n",
        "b = 'makit'\n",
        "print(a * 3) # 30\n",
        "print(b * 3) # makitmakitmakit"
      ],
      "metadata": {
        "id": "vr4bJjZGnx6l",
        "colab": {
          "base_uri": "https://localhost:8080/"
        },
        "outputId": "8e5acb82-9dfd-4ed4-f721-52141c887885"
      },
      "execution_count": null,
      "outputs": [
        {
          "output_type": "stream",
          "name": "stdout",
          "text": [
            "30\n",
            "makitmakitmakit\n"
          ]
        }
      ]
    },
    {
      "cell_type": "markdown",
      "source": [
        "## 4. 다음 코드를 수행했을 때 결과가 어떻게 나올지 적어 보세요.\n",
        "```\n",
        "m = 1\n",
        "print(m)\n",
        "m = m + 1\n",
        "print(m)\n",
        "m += 1\n",
        "print(m)\n",
        "m = m - 1\n",
        "print(m)\n",
        "m -= 1\n",
        "print(m)\n",
        "```"
      ],
      "metadata": {
        "id": "ATzRgJORqFBl"
      }
    },
    {
      "cell_type": "code",
      "source": [
        "m = 1\n",
        "print(m) # 1\n",
        "\n",
        "m = m + 1\n",
        "print(m) # 2\n",
        "\n",
        "m += 1\n",
        "print(m) # 3\n",
        "\n",
        "m = m - 1\n",
        "print(m) # 2\n",
        "\n",
        "m -= 1\n",
        "print(m)  # 1"
      ],
      "metadata": {
        "colab": {
          "base_uri": "https://localhost:8080/"
        },
        "id": "1kaeuOQ1CjgL",
        "outputId": "ebe21df5-b959-4ca3-f26c-df3db8443f5e"
      },
      "execution_count": null,
      "outputs": [
        {
          "output_type": "stream",
          "name": "stdout",
          "text": [
            "1\n",
            "2\n",
            "3\n",
            "2\n",
            "1\n"
          ]
        }
      ]
    },
    {
      "cell_type": "markdown",
      "source": [
        "## 5. 30을 8로 나눈 몫과 나머지를 각각 변수 a와 b에 저장하고 다음과 같이 출력하는 코드를 작성하세요.\n",
        "\n",
        "실행결과\n",
        "```\n",
        "30을 8로 나눈 몫은 3\n",
        "30을 8로 나눈 나머지는 6\n",
        "30을 8로 나눈 결과는 3.75\n",
        "```"
      ],
      "metadata": {
        "id": "QOlOa15SqPLi"
      }
    },
    {
      "cell_type": "code",
      "source": [
        "a = 30 // 8\n",
        "b = 30 % 8\n",
        "\n",
        "print(\"30을 8로 나눈 몫은\", a)\n",
        "print(\"30을 8로 나눈 나머지는\", b)\n",
        "print(\"30을 8로 나눈 결과는\", 30/8)"
      ],
      "metadata": {
        "colab": {
          "base_uri": "https://localhost:8080/"
        },
        "id": "CzjkpuiGDSmO",
        "outputId": "32bf47a5-6628-4f2d-ac75-1d553cb0efaa"
      },
      "execution_count": null,
      "outputs": [
        {
          "output_type": "stream",
          "name": "stdout",
          "text": [
            "30을 8로 나눈 몫은 3\n",
            "30을 8로 나눈 나머지는 6\n",
            "30을 8로 나눈 결과는 3.75\n"
          ]
        }
      ]
    },
    {
      "cell_type": "markdown",
      "source": [
        "# 컴퓨터와 묻고 답하기 그리고 문자열 다루기"
      ],
      "metadata": {
        "id": "xl8rhP88q7Sk"
      }
    },
    {
      "cell_type": "markdown",
      "source": [
        "## 6. 다음 코드 실행 결과를 적어 보세요.\n",
        "```\n",
        "print(12 + 34) # 숫자끼리 더하기\n",
        "print('12' + '34') # 문자열 붙이기, 연결하기\n",
        "print(2 ** 3) # 2의 3제곱\n",
        "```"
      ],
      "metadata": {
        "id": "DppOchyvq89q"
      }
    },
    {
      "cell_type": "code",
      "source": [
        "print(12 + 34) # 숫자끼리 더하기 46\n",
        "print('12' + '34') # 문자열 붙이기, 연결하기 1234\n",
        "print(2 ** 3) # 2의 3제곱 8"
      ],
      "metadata": {
        "id": "GSIJUv3GqNHg",
        "colab": {
          "base_uri": "https://localhost:8080/"
        },
        "outputId": "e9d81783-6ea2-4f95-94ec-e3ba41a6c3d9"
      },
      "execution_count": null,
      "outputs": [
        {
          "output_type": "stream",
          "name": "stdout",
          "text": [
            "46\n",
            "1234\n",
            "8\n"
          ]
        }
      ]
    },
    {
      "cell_type": "markdown",
      "source": [
        "## 7. 다음과 같이 코드 실행 결과가 나오도록 코드의 빈칸을 완성한 코드를 작성하세요.\n",
        "```\n",
        "a = '시은 우진'\n",
        "```\n",
        "실행결과<br>\n",
        "\n",
        "```\n",
        "시은 우진 화이팅!!\n",
        "________빈 줄_______\n",
        "시은 우진 화이팅!!\n",
        "```"
      ],
      "metadata": {
        "id": "YyuktcpPrLBm"
      }
    },
    {
      "cell_type": "code",
      "source": [
        "a = '시은 우진'\n",
        "a += \" 화이팅!!\"\n",
        "print(a)\n",
        "print()\n",
        "print(a)"
      ],
      "metadata": {
        "id": "oJRBTFSErh0b",
        "colab": {
          "base_uri": "https://localhost:8080/"
        },
        "outputId": "f449ea66-2678-47ac-a34e-fcdb9bcdbbf8"
      },
      "execution_count": null,
      "outputs": [
        {
          "output_type": "stream",
          "name": "stdout",
          "text": [
            "시은 우진 화이팅!!\n",
            "\n",
            "시은 우진 화이팅!!\n"
          ]
        }
      ]
    },
    {
      "cell_type": "markdown",
      "source": [
        "## 8. 이름과 나이를 키보드로 입력받은 값을 각각 변수 name과 age에 저장하고 다음과 같이 출력하는 코드를 작성하세요.\n",
        "\n",
        "```\n",
        "이름이 무엇인가요? 메이킷\n",
        "몇 살인가요? 17\n",
        "메이킷 님은 내년에는 18 살이 됩니다.\n",
        "```\n",
        "\n"
      ],
      "metadata": {
        "id": "f9F1xXAYsL2a"
      }
    },
    {
      "cell_type": "code",
      "source": [
        "name = input()\n",
        "age = int(input())\n",
        "\n",
        "print(\"이름이 무엇인가요?\", name)\n",
        "print(\"몇 살인가요?\", age)\n",
        "print(name, \"님은 내년에는\", age+1, \"살이 됩니다.\")"
      ],
      "metadata": {
        "id": "zhD-rM8YvJoh",
        "colab": {
          "base_uri": "https://localhost:8080/"
        },
        "outputId": "ea889206-5bb1-4f8c-b618-4bf0c3de434f"
      },
      "execution_count": null,
      "outputs": [
        {
          "output_type": "stream",
          "name": "stdout",
          "text": [
            "메이킷\n",
            "17\n",
            "이름이 무엇인가요? 메이킷\n",
            "몇 살인가요? 17\n",
            "메이킷 님은 내년에는 18 살이 됩니다.\n"
          ]
        }
      ]
    },
    {
      "cell_type": "markdown",
      "source": [
        "## 9. 정수와 실수를 각각 변수 a, b에 입력받아 두 숫자의 합과 평균을 구하는 코드를 작성하세요.\n",
        "실행결과\n",
        "```\n",
        "3\n",
        "2.5\n",
        "a와 b의 합은 5.5\n",
        "a와 b의 평균값은 2.75\n",
        "```"
      ],
      "metadata": {
        "id": "YzRmL0o5u_Fo"
      }
    },
    {
      "cell_type": "code",
      "source": [
        "a = 3\n",
        "b = 2.5\n",
        "print(\"a와 b의 합은\", a+b)\n",
        "print(\"a와 b의 평균값은\", (a+b)/2)"
      ],
      "metadata": {
        "colab": {
          "base_uri": "https://localhost:8080/"
        },
        "id": "2BsOqWlOE3l5",
        "outputId": "95f08c08-9874-4226-bd13-9e54e4a86e90"
      },
      "execution_count": null,
      "outputs": [
        {
          "output_type": "stream",
          "name": "stdout",
          "text": [
            "a와 b의 합은 5.5\n",
            "a와 b의 평균값은 2.75\n"
          ]
        }
      ]
    },
    {
      "cell_type": "markdown",
      "source": [
        "## 10. makit 문자열 변수를 활용해 아래와 같은 실행 결과가 나오도록 코드의 빈칸을 완성하세요.\n",
        "\n",
        "실행결과\n",
        "```\n",
        "result1 = S\n",
        "result2 = W\n",
        "result3 = !\n",
        "```"
      ],
      "metadata": {
        "id": "6xjLuumQvIAl"
      }
    },
    {
      "cell_type": "code",
      "source": [
        "makeit = 'Sieun Woojin!'\n",
        "\n",
        "print(\"result1 =\", makeit[0])\n",
        "print(\"result2 =\", makeit[6])\n",
        "print(\"result3 =\", makeit[-1])\n"
      ],
      "metadata": {
        "id": "OIPrdIzxvzkx",
        "colab": {
          "base_uri": "https://localhost:8080/"
        },
        "outputId": "3371014a-decd-4e44-f5b3-1a8c0a3da403"
      },
      "execution_count": null,
      "outputs": [
        {
          "output_type": "stream",
          "name": "stdout",
          "text": [
            "result1 = S\n",
            "result2 = W\n",
            "result3 = !\n"
          ]
        }
      ]
    },
    {
      "cell_type": "markdown",
      "source": [
        "## 11. makit 문자열 변수를 활용해 아래와 같은 실행 결과가 나오도록 코드의 빈칸을 완성해 보세요.\n",
        "실행결과\n",
        "```\n",
        "eun Woo\n",
        "Sieun\n",
        "Woojin!\n",
        "```\n"
      ],
      "metadata": {
        "id": "n-V2dHTXwqNS"
      }
    },
    {
      "cell_type": "code",
      "source": [
        "makit = 'Sieun Woojin!'\n",
        "\n",
        "print(makeit[2:-2])\n",
        "print(makeit[:5])\n",
        "print(makeit[6:])\n"
      ],
      "metadata": {
        "id": "J3mIM7rcxfw-",
        "colab": {
          "base_uri": "https://localhost:8080/"
        },
        "outputId": "121499c1-9f5c-4871-ad03-ffb688652102"
      },
      "execution_count": null,
      "outputs": [
        {
          "output_type": "stream",
          "name": "stdout",
          "text": [
            "eun Wooji\n",
            "Sieun\n",
            "Woojin!\n"
          ]
        }
      ]
    },
    {
      "cell_type": "markdown",
      "source": [
        "## 12. makit 문자열 변수에는 ‘동서남북동서남북동서남북’이 저장되어 있습니다. makit 문자열 변수에서 ‘동’만 출력하는 코드를 작성하세요.\n",
        "실행결과\n",
        "```\n",
        "동동동\n",
        "```"
      ],
      "metadata": {
        "id": "8Mx09bjMxl0z"
      }
    },
    {
      "cell_type": "code",
      "source": [
        "makit = '동서남북동서남북동서남북'\n",
        "\n",
        "makit[::4]"
      ],
      "metadata": {
        "id": "EgyZ3lhrzBMe",
        "colab": {
          "base_uri": "https://localhost:8080/",
          "height": 36
        },
        "outputId": "bbaf5eb4-68e7-4660-da9c-4cdfb27c816d"
      },
      "execution_count": null,
      "outputs": [
        {
          "output_type": "execute_result",
          "data": {
            "text/plain": [
              "'동동동'"
            ],
            "application/vnd.google.colaboratory.intrinsic+json": {
              "type": "string"
            }
          },
          "metadata": {},
          "execution_count": 13
        }
      ]
    },
    {
      "cell_type": "markdown",
      "source": [
        "## 13. makit 문자열에 ‘동서남북’이라고 저장되어 있습니다. makit 문자열 변수를 뒤집어서 ‘북남서동’으로 출력하는 결과가 나오도록 코드의 빈칸을 완성하세요.\n",
        "실행결과\n",
        "```\n",
        "북남서동\n",
        "```"
      ],
      "metadata": {
        "id": "V1dFglIHzZ4-"
      }
    },
    {
      "cell_type": "code",
      "source": [
        "makit = '동서남북'\n",
        "makit[::-1]"
      ],
      "metadata": {
        "id": "QzZq6nJSzj2O",
        "colab": {
          "base_uri": "https://localhost:8080/",
          "height": 36
        },
        "outputId": "238de7a8-38bf-486e-8c6c-56ed3ac7b8d3"
      },
      "execution_count": null,
      "outputs": [
        {
          "output_type": "execute_result",
          "data": {
            "text/plain": [
              "'북남서동'"
            ],
            "application/vnd.google.colaboratory.intrinsic+json": {
              "type": "string"
            }
          },
          "metadata": {},
          "execution_count": 14
        }
      ]
    },
    {
      "cell_type": "markdown",
      "source": [
        "## 14. makit 문자열에 핸드폰 번호가 다음과 같이 저장되어 있습니다. ‘.‘을 ‘-’으로 변경해 다음과 같이 실행 결과가 나오도록 코드의 빈칸을 완성한 코드를 작성하세요.\n",
        "실행결과\n",
        "```\n",
        "010-1234-5678\n",
        "```"
      ],
      "metadata": {
        "id": "auFM6GvEzmwI"
      }
    },
    {
      "cell_type": "code",
      "source": [
        "phone = '010.1234.5678'\n",
        "phone.replace(\".\", \"-\")"
      ],
      "metadata": {
        "id": "-hn6fDr5z5Tv",
        "colab": {
          "base_uri": "https://localhost:8080/",
          "height": 36
        },
        "outputId": "94399d5c-3de0-471f-b115-380ff08040aa"
      },
      "execution_count": null,
      "outputs": [
        {
          "output_type": "execute_result",
          "data": {
            "text/plain": [
              "'010-1234-5678'"
            ],
            "application/vnd.google.colaboratory.intrinsic+json": {
              "type": "string"
            }
          },
          "metadata": {},
          "execution_count": 15
        }
      ]
    },
    {
      "cell_type": "markdown",
      "source": [
        "## 15. 아래와 같은 코드를 수행한 결과를 적어 보세요.\n",
        "```\n",
        "a = 10\n",
        "b = 20\n",
        "print(a < b)\n",
        "print(a > b)\n",
        "print(7 > 8)\n",
        "print(7 < 8)\n",
        "print(1 <= 1)\n",
        "print(1 >= 2)\n",
        "print(1 == 1)\n",
        "print(1 == 2)\n",
        "print(1 != 1)\n",
        "print(1 != 2)\n",
        "```"
      ],
      "metadata": {
        "id": "tqW_0_Fb0C13"
      }
    },
    {
      "cell_type": "code",
      "source": [
        "a = 10\n",
        "b = 20\n",
        "print(a < b) # True\n",
        "print(a > b) # False\n",
        "print(7 > 8) # Flase\n",
        "print(7 < 8) # True\n",
        "print(1 <= 1) # True\n",
        "print(1 >= 2) # False\n",
        "print(1 == 1) # True\n",
        "print(1 == 2) # False\n",
        "print(1 != 1) # False\n",
        "print(1 != 2) # True"
      ],
      "metadata": {
        "colab": {
          "base_uri": "https://localhost:8080/"
        },
        "id": "biJcpPm5HjQv",
        "outputId": "7df5c941-7976-4d77-893d-8c5705f726d2"
      },
      "execution_count": null,
      "outputs": [
        {
          "output_type": "stream",
          "name": "stdout",
          "text": [
            "True\n",
            "False\n",
            "False\n",
            "True\n",
            "True\n",
            "False\n",
            "True\n",
            "False\n",
            "False\n",
            "True\n"
          ]
        }
      ]
    },
    {
      "cell_type": "markdown",
      "source": [
        "## 16. 다음 코드를 수행한 결과를 적어 보세요.\n",
        "```\n",
        "a = 20\n",
        "b = 30\n",
        "print(a > 40 and b > 40)\n",
        "print(a > 20 and b > 20)\n",
        "print(a < 30 and b > 30)\n",
        "print(a > 10 and b > 10)\n",
        "print(20 > 40 or 30 > 40)\n",
        "print(20 > 20 or 30 > 20)\n",
        "print(20 < 30 or 30 > 30)\n",
        "print(20 > 10 or 20 > 10)\n",
        "print(a != b)\n",
        "print(not(a != b))\n",
        "```"
      ],
      "metadata": {
        "id": "Kkyuk30Z1h-g"
      }
    },
    {
      "cell_type": "code",
      "source": [
        "a = 20\n",
        "b = 30\n",
        "print(a > 40 and b > 40)  # False and False : False\n",
        "print(a > 20 and b > 20)  # Flase and True : False\n",
        "print(a < 30 and b > 30)  # True and False : False\n",
        "print(a > 10 and b > 10)  # True and True : True\n",
        "print(20 > 40 or 30 > 40) # False or False : False\n",
        "print(20 > 20 or 30 > 20) # False or True : True\n",
        "print(20 < 30 or 30 > 30) # True or False : True\n",
        "print(20 > 10 or 20 > 10) # True or True : True\n",
        "print(a != b)             # True\n",
        "print(not(a != b))        # False"
      ],
      "metadata": {
        "colab": {
          "base_uri": "https://localhost:8080/"
        },
        "id": "v3kJLilwH5yW",
        "outputId": "ed8b1c9b-0a78-48a5-8843-2a1116c22081"
      },
      "execution_count": null,
      "outputs": [
        {
          "output_type": "stream",
          "name": "stdout",
          "text": [
            "False\n",
            "False\n",
            "False\n",
            "True\n",
            "False\n",
            "True\n",
            "True\n",
            "True\n",
            "True\n",
            "False\n"
          ]
        }
      ]
    },
    {
      "cell_type": "markdown",
      "source": [
        "## 17. 초를 입력하면 ‘몇 분 몇 초’로 환산해주는 코드를 다음과 같이 출력하도록 작성하세요.\n",
        "실행결과\n",
        "```\n",
        "초를 입력하세요:1234\n",
        "1234 초(sec)는 20 분(min) 34 초(sec)입니다\n",
        "```"
      ],
      "metadata": {
        "id": "MAm9Y-xr1u26"
      }
    },
    {
      "cell_type": "code",
      "source": [
        "sec = int(input(\"초를 입력하세요: \"))\n",
        "min = sec // 60\n",
        "sec2 = sec % 60\n",
        "print(sec, \"초(sec)는\", min,\"분(min)\", sec2, \"초(sec2)입니다.\"   )"
      ],
      "metadata": {
        "id": "DEw-9r100w6t",
        "colab": {
          "base_uri": "https://localhost:8080/"
        },
        "outputId": "749682cd-348d-4c08-9856-22f4d1b23625"
      },
      "execution_count": null,
      "outputs": [
        {
          "output_type": "stream",
          "name": "stdout",
          "text": [
            "초를 입력하세요: 1234\n",
            "1234 초(sec)는 20 분(min) 34 초(sec2)입니다.\n"
          ]
        }
      ]
    },
    {
      "cell_type": "markdown",
      "source": [
        "## 18. 다음과 같이 시간을 분 단위로 입력하면 며칠, 몇 시간, 몇 분으로 환산해서 출력하는 코드를 작성하세요.\n",
        "실행결과\n",
        "```\n",
        "분을 입력하세요:7512\n",
        "7512 분은 5 일 5 시간 12 분입니다\n",
        "```"
      ],
      "metadata": {
        "id": "mOHOs2pv2Fz8"
      }
    },
    {
      "cell_type": "code",
      "source": [
        "time = int(input(\"분을 입력하세요: \"))\n",
        "day = time // (60 * 24)\n",
        "hour = (time % (60 * 24)) // 60\n",
        "min = (time % (60 * 24)) % 60\n",
        "print(time, \"분은\", day, \"일\", hour, \"시간\", min,\"분입니다.\")"
      ],
      "metadata": {
        "colab": {
          "base_uri": "https://localhost:8080/"
        },
        "id": "FblZK5RjKfl9",
        "outputId": "70159104-2b2a-412c-cd7c-b40c979030ae"
      },
      "execution_count": null,
      "outputs": [
        {
          "output_type": "stream",
          "name": "stdout",
          "text": [
            "분을 입력하세요: 7512\n",
            "7512 분은 5 일 5 시간 12 분입니다.\n"
          ]
        }
      ]
    },
    {
      "cell_type": "markdown",
      "source": [
        "# 리스트(list) 다루기"
      ],
      "metadata": {
        "id": "3TlG6Pu42OXh"
      }
    },
    {
      "cell_type": "markdown",
      "source": [
        "## 19. 다음과 같이 코드 실행 결과가 나오도록 코드의 빈칸을 완성하세요.\n",
        "실행결과\n",
        "```\n",
        "['메이킷', '우진', '시은']\n",
        "메이킷\n",
        "우진\n",
        "시은\n",
        "```"
      ],
      "metadata": {
        "id": "5gk-6Rlr3E7n"
      }
    },
    {
      "cell_type": "code",
      "source": [
        "L = ['메이킷', '우진', '시은']\n",
        "print(L)\n",
        "print(L[0])\n",
        "print(L[1])\n",
        "print(L[2])"
      ],
      "metadata": {
        "id": "3qMmKS733Zng",
        "colab": {
          "base_uri": "https://localhost:8080/"
        },
        "outputId": "fbd571ce-8996-45da-e4d0-2aa56d6dce13"
      },
      "execution_count": null,
      "outputs": [
        {
          "output_type": "stream",
          "name": "stdout",
          "text": [
            "['메이킷', '우진', '시은']\n",
            "메이킷\n",
            "우진\n",
            "시은\n"
          ]
        }
      ]
    },
    {
      "cell_type": "markdown",
      "source": [
        "## 20.다음과 같이 코드 실행 결과가 나오도록 코드의 빈칸을 완성하세요.\n",
        "실행결과\n",
        "```\n",
        "['메이킷', '우진']\n",
        "['우진', '제임스', '시은']\n",
        "['제임스', '시은']\n",
        "['메이킷', '우진', '제임스', '시은']\n",
        "```"
      ],
      "metadata": {
        "id": "LPHSjmwY3aLp"
      }
    },
    {
      "cell_type": "code",
      "source": [
        "a = ['메이킷','우진','제임스','시은']\n",
        "\n",
        "print(a[:2])\n",
        "print(a[1:])\n",
        "print(a[2:])\n",
        "print(a[:])\n",
        "\n"
      ],
      "metadata": {
        "id": "zn0dEbi13mpD",
        "colab": {
          "base_uri": "https://localhost:8080/"
        },
        "outputId": "87693e74-6d85-4c49-954e-d55d190db2ff"
      },
      "execution_count": null,
      "outputs": [
        {
          "output_type": "stream",
          "name": "stdout",
          "text": [
            "['메이킷', '우진']\n",
            "['우진', '제임스', '시은']\n",
            "['제임스', '시은']\n",
            "['메이킷', '우진', '제임스', '시은']\n"
          ]
        }
      ]
    },
    {
      "cell_type": "markdown",
      "source": [
        "## 21. 리스트 추가, 삭제하기\n",
        "다음과 같이 코드 실행 결과가 나오도록 코드의 빈칸을 완성하여 전체 코드를 입력하세요.<br>\n",
        "실행결과\n",
        "```\n",
        "['우진', '시은', '메이킷']\n",
        "['우진', '시은']\n",
        "```"
      ],
      "metadata": {
        "id": "WjyW_lJ43qXh"
      }
    },
    {
      "cell_type": "code",
      "source": [
        "a = ['우진','시은']\n",
        "a.append('메이킷') # 리스트에 마지막 자료 추가하기\n",
        "print(a)\n",
        "del a[-1] # 리스트의 마지막 자료 삭제하기\n",
        "print(a)\n",
        "\n"
      ],
      "metadata": {
        "id": "4uTX16LE43rp",
        "colab": {
          "base_uri": "https://localhost:8080/"
        },
        "outputId": "cdf579ee-f3d0-4306-c240-5ece68f7a0a6"
      },
      "execution_count": null,
      "outputs": [
        {
          "output_type": "stream",
          "name": "stdout",
          "text": [
            "['우진', '시은', '메이킷']\n",
            "['우진', '시은']\n"
          ]
        }
      ]
    },
    {
      "cell_type": "markdown",
      "source": [
        "## 22. 리스트 원하는 위치에 삽입하기\n",
        "다음과 같이 코드 실행 결과가 나오도록 코드의 빈칸을 완성하세요.<br>\n",
        "실행결과\n",
        "```\n",
        "['우진', '하워드', '시은', '메이킷']\n",
        "```"
      ],
      "metadata": {
        "id": "EXCiHbcm4rTI"
      }
    },
    {
      "cell_type": "code",
      "source": [
        "a = ['우진','시은','메이킷']\n",
        "\n",
        "a.insert(1, \"하워드\")\n",
        "print(a)"
      ],
      "metadata": {
        "id": "DRqh-Awr5e9U",
        "colab": {
          "base_uri": "https://localhost:8080/"
        },
        "outputId": "bf12dcd5-b2bb-4f4e-a6e1-71c7923a469f"
      },
      "execution_count": null,
      "outputs": [
        {
          "output_type": "stream",
          "name": "stdout",
          "text": [
            "['우진', '하워드', '시은', '메이킷']\n"
          ]
        }
      ]
    },
    {
      "cell_type": "markdown",
      "source": [
        "## 23. 리스트 합치기\n",
        "다음과 같이 코드 실행 결과가 나오도록 코드의 빈칸을 완성하세요.<br>\n",
        "실행결과\n",
        "```\n",
        "['우진', '시은', '메이킷', '소피아', '하워드']\n",
        "['메이킷', '소피아', '하워드']\n",
        "```"
      ],
      "metadata": {
        "id": "N_oeSVwj5Qx1"
      }
    },
    {
      "cell_type": "code",
      "source": [
        "a = ['우진', '시은']\n",
        "b = ['메이킷', '소피아', '하워드']\n",
        "\n",
        "print(a + b)\n",
        "print(b)\n",
        "\n"
      ],
      "metadata": {
        "id": "8PQ6xWMJ6A1-",
        "colab": {
          "base_uri": "https://localhost:8080/"
        },
        "outputId": "b0404fc9-2a89-4418-84a4-171d66105dd8"
      },
      "execution_count": null,
      "outputs": [
        {
          "output_type": "stream",
          "name": "stdout",
          "text": [
            "['우진', '시은', '메이킷', '소피아', '하워드']\n",
            "['메이킷', '소피아', '하워드']\n"
          ]
        }
      ]
    },
    {
      "cell_type": "markdown",
      "source": [
        "## 24. 공백 리스트와 합치기\n",
        "다음과 같이 코드 실행 결과가 나오도록 코드의 빈칸을 완성한 전체 코드를 작성하세요.<br>\n",
        "실행결과\n",
        "```\n",
        "['우진', '시은']\n",
        "['우진', '시은', '메이킷', '소피아', '하워드']\n",
        "```\n"
      ],
      "metadata": {
        "id": "RQ5mgcLQ6CRW"
      }
    },
    {
      "cell_type": "code",
      "source": [
        "a = ['우진','시은']\n",
        "b = ['메이킷','소피아','하워드']\n",
        "c = []\n",
        "\n",
        "c.extend(a)\n",
        "print(c)\n",
        "c.extend(b)\n",
        "print(c)\n"
      ],
      "metadata": {
        "id": "Rp--sSR46nhg",
        "colab": {
          "base_uri": "https://localhost:8080/"
        },
        "outputId": "18d5b4b1-4e53-4722-c1ca-2fadb6122a0c"
      },
      "execution_count": null,
      "outputs": [
        {
          "output_type": "stream",
          "name": "stdout",
          "text": [
            "['우진', '시은']\n",
            "['우진', '시은', '메이킷', '소피아', '하워드']\n"
          ]
        }
      ]
    },
    {
      "cell_type": "markdown",
      "source": [
        "## 25. 리스트의 개수인 길이 구하기\n",
        "다음과 같이 코드 실행 결과가 나오도록 코드의 빈칸을 완성하세요.<br>\n",
        "실행결과\n",
        "```\n",
        "리스트 a의 개수 즉 길이는 6\n",
        "리스트 a의 숫자들의 평균은 5.5\n",
        "```\n"
      ],
      "metadata": {
        "id": "fv7pf4wi9CNx"
      }
    },
    {
      "cell_type": "code",
      "source": [
        "a = [3, 7, 4, 5, 6, 8]\n",
        "\n",
        "print(\"리스트 a의 개수 즉 길이는\", len(a))\n",
        "print(\"리스트 a의 숫자들의 평균은\", sum(a)/len(a))\n"
      ],
      "metadata": {
        "id": "ddjY_M506um4",
        "colab": {
          "base_uri": "https://localhost:8080/"
        },
        "outputId": "c74a2dec-e68f-404c-bd43-3fb5165331f1"
      },
      "execution_count": null,
      "outputs": [
        {
          "output_type": "stream",
          "name": "stdout",
          "text": [
            "리스트 a의 개수 즉 길이는 6\n",
            "리스트 a의 숫자들의 평균은 5.5\n"
          ]
        }
      ]
    },
    {
      "cell_type": "markdown",
      "source": [
        "## 26. 리스트 잘라내기(슬라이싱)\n",
        "다음과 같이 코드 실행 결과가 나오도록 코드의 빈칸을 완성한 전체 코드를 작성하세요.<br>\n",
        "실행결과\n",
        "```\n",
        "b : [1, 2, 3, 4, 5]\n",
        "c : ['a', 'b', 'c', 'd', 'e']\n",
        "d : [5, 'a']\n",
        "e : [1, 3, 5, 'b', 'd']\n",
        "f : [2, 4, 'a', 'c', 'e']\n",
        "```"
      ],
      "metadata": {
        "id": "SLQrHJC59TnO"
      }
    },
    {
      "cell_type": "code",
      "source": [
        "a = [1,2, 3, 4, 5, 'a', 'b', 'c', 'd', 'e']\n",
        "\n",
        "print(\"b :\", a[:5])\n",
        "print(\"c :\", a[5:])\n",
        "print(\"d :\", a[4:6])\n",
        "print(\"e :\", a[::2])\n",
        "print(\"f :\", a[1::2])\n"
      ],
      "metadata": {
        "id": "B-XoDqOH9hIW",
        "colab": {
          "base_uri": "https://localhost:8080/"
        },
        "outputId": "9fad46a0-98f7-45b0-808c-f30c651dbf33"
      },
      "execution_count": null,
      "outputs": [
        {
          "output_type": "stream",
          "name": "stdout",
          "text": [
            "b : [1, 2, 3, 4, 5]\n",
            "c : ['a', 'b', 'c', 'd', 'e']\n",
            "d : [5, 'a']\n",
            "e : [1, 3, 5, 'b', 'd']\n",
            "f : [2, 4, 'a', 'c', 'e']\n"
          ]
        }
      ]
    },
    {
      "cell_type": "markdown",
      "source": [
        "## 27. 리스트 거꾸로 잘라내기\n",
        "a = [‘형우’, ’윤진 ', '시은', '우진']과 같은 리스트가 있을 때 리스트 슬라이싱으로 리스트 순서가 거꾸로 바뀐 리스트를 생성해서 출력하세요. 아래 코드의 빈칸을 완성하세요.<br>\n",
        "실행결과\n",
        "```\n",
        "['우진', '시은', '윤진', '형우']\n",
        "```"
      ],
      "metadata": {
        "id": "dMJuqt6U9mh7"
      }
    },
    {
      "cell_type": "code",
      "source": [
        "a = ['형우', '윤진', '시은', '우진']\n",
        "\n",
        "print(a[::-1])"
      ],
      "metadata": {
        "id": "zfR5Q9WU95Pg",
        "colab": {
          "base_uri": "https://localhost:8080/"
        },
        "outputId": "cdf5fbf1-059d-4ede-c51b-4c49523193e3"
      },
      "execution_count": null,
      "outputs": [
        {
          "output_type": "stream",
          "name": "stdout",
          "text": [
            "['우진', '시은', '윤진', '형우']\n"
          ]
        }
      ]
    },
    {
      "cell_type": "markdown",
      "source": [
        "## 28. 리스트 안에 리스트\n",
        "다음과 같이 코드 실행 결과가 나오도록 코드의 빈칸을 완성하세요.<br>\n",
        "```\n",
        "메이킷 학생의 시험 점수는 95\n",
        "우진 학생의 시험 점수는 100\n",
        "시은 학생의 시험 점수는 98\n",
        "```"
      ],
      "metadata": {
        "id": "79_A-L0y99qj"
      }
    },
    {
      "cell_type": "code",
      "source": [
        "a = [['메이킷', 95], ['우진', 100], ['시은', 98]]\n",
        "\n",
        "print(a[0][0], \"학생의 시험 점수는\", a[0][1])\n",
        "print(a[1][0], \"학생의 시험 점수는\", a[1][1])\n",
        "print(a[2][0], \"학생의 시험 점수는\", a[2][1])\n"
      ],
      "metadata": {
        "id": "ylsRYcq6-Ir-",
        "colab": {
          "base_uri": "https://localhost:8080/"
        },
        "outputId": "d34101a2-82bd-4ce2-f183-0ef15e29bbd1"
      },
      "execution_count": null,
      "outputs": [
        {
          "output_type": "stream",
          "name": "stdout",
          "text": [
            "메이킷 학생의 시험 점수는 95\n",
            "우진 학생의 시험 점수는 100\n",
            "시은 학생의 시험 점수는 98\n"
          ]
        }
      ]
    },
    {
      "cell_type": "markdown",
      "source": [
        "## 29. 리스트 안에 있는 문자로 하나의 문자열 만들기(join)\n",
        "a = [‘시은’, ’우진’, ’지연’, ’지훈’]과 같이 우리 반 학생들 이름이 저장된 리스트가 있습니다. 이 리스트의 문자열들을 연결(join)해 하나의 문자열을 만들려고 합니다. 다음과 같이 코드 실행 결과가 나오도록 코드의 빈칸을 완성하세요.<br>\n",
        "실행결과\n",
        "```\n",
        "시은 우진 지훈 지연\n",
        "```"
      ],
      "metadata": {
        "id": "G9CIDekV-S0d"
      }
    },
    {
      "cell_type": "code",
      "source": [
        "a = ['시은', '우진', '지훈', '지연']\n",
        "\n",
        "' '.join(a)"
      ],
      "metadata": {
        "id": "bo3mlVEu-cOI",
        "colab": {
          "base_uri": "https://localhost:8080/",
          "height": 36
        },
        "outputId": "c1303d36-ca91-4957-e0ac-722c1858a5ab"
      },
      "execution_count": null,
      "outputs": [
        {
          "output_type": "execute_result",
          "data": {
            "text/plain": [
              "'시은 우진 지훈 지연'"
            ],
            "application/vnd.google.colaboratory.intrinsic+json": {
              "type": "string"
            }
          },
          "metadata": {},
          "execution_count": 30
        }
      ]
    },
    {
      "cell_type": "markdown",
      "source": [
        "## 30. 문자열 분리해 리스트 만들기(split)\n",
        "a = '시은 우진 지훈 지연'과 같이 우리 반 학생들 이름이 저장된 문자열이 있습니다. 공백이 나올 때마다 문자열을 분리해(split) 하나의 리스트를 만들려고 합니다. 다음과 같이 코드 실행 결과가 나오도록 코드의 빈칸을 완성하세요.<br>\n",
        "실행결과\n",
        "```\n",
        "['시은', '우진', '지훈', '지연']\n",
        "```"
      ],
      "metadata": {
        "id": "-DaXcPMx-mo7"
      }
    },
    {
      "cell_type": "code",
      "source": [
        "a = '시은 우진 지훈 지연'\n",
        "\n",
        "a.split()"
      ],
      "metadata": {
        "id": "60RSwPl4-zWl",
        "colab": {
          "base_uri": "https://localhost:8080/"
        },
        "outputId": "471bbb15-2c00-493d-b5af-62fed71aa7ae"
      },
      "execution_count": null,
      "outputs": [
        {
          "output_type": "execute_result",
          "data": {
            "text/plain": [
              "['시은', '우진', '지훈', '지연']"
            ]
          },
          "metadata": {},
          "execution_count": 31
        }
      ]
    },
    {
      "cell_type": "markdown",
      "source": [
        "## 31. 여러 개의 값 입력받기(input + split)\n",
        "세 개의 숫자를 입력받아 가장 작은 숫자를 출력하는 코드를 작성하세요.<br>\n",
        "입력\n",
        "```\n",
        "10 2 123\n",
        "```\n",
        "출력\n",
        "```\n",
        "2\n",
        "```"
      ],
      "metadata": {
        "id": "hDJGBKLF-6AN"
      }
    },
    {
      "cell_type": "code",
      "source": [
        "x1, y1, z1 = map(int, input().split())\n",
        "print(min(x1, y1, z1))"
      ],
      "metadata": {
        "colab": {
          "base_uri": "https://localhost:8080/",
          "height": 223
        },
        "id": "GtkXzx07XXu4",
        "outputId": "4a2c16bc-7915-4063-ed7d-18fbac396fb3"
      },
      "execution_count": null,
      "outputs": [
        {
          "name": "stdout",
          "output_type": "stream",
          "text": [
            "10 2 123\n"
          ]
        },
        {
          "output_type": "error",
          "ename": "TypeError",
          "evalue": "ignored",
          "traceback": [
            "\u001b[0;31m---------------------------------------------------------------------------\u001b[0m",
            "\u001b[0;31mTypeError\u001b[0m                                 Traceback (most recent call last)",
            "\u001b[0;32m<ipython-input-32-5c94f775ff80>\u001b[0m in \u001b[0;36m<cell line: 2>\u001b[0;34m()\u001b[0m\n\u001b[1;32m      1\u001b[0m \u001b[0mx1\u001b[0m\u001b[0;34m,\u001b[0m \u001b[0my1\u001b[0m\u001b[0;34m,\u001b[0m \u001b[0mz1\u001b[0m \u001b[0;34m=\u001b[0m \u001b[0mmap\u001b[0m\u001b[0;34m(\u001b[0m\u001b[0mint\u001b[0m\u001b[0;34m,\u001b[0m \u001b[0minput\u001b[0m\u001b[0;34m(\u001b[0m\u001b[0;34m)\u001b[0m\u001b[0;34m.\u001b[0m\u001b[0msplit\u001b[0m\u001b[0;34m(\u001b[0m\u001b[0;34m)\u001b[0m\u001b[0;34m)\u001b[0m\u001b[0;34m\u001b[0m\u001b[0;34m\u001b[0m\u001b[0m\n\u001b[0;32m----> 2\u001b[0;31m \u001b[0mprint\u001b[0m\u001b[0;34m(\u001b[0m\u001b[0mmin\u001b[0m\u001b[0;34m(\u001b[0m\u001b[0mx1\u001b[0m\u001b[0;34m,\u001b[0m \u001b[0my1\u001b[0m\u001b[0;34m,\u001b[0m \u001b[0mz1\u001b[0m\u001b[0;34m)\u001b[0m\u001b[0;34m)\u001b[0m\u001b[0;34m\u001b[0m\u001b[0;34m\u001b[0m\u001b[0m\n\u001b[0m",
            "\u001b[0;31mTypeError\u001b[0m: 'int' object is not callable"
          ]
        }
      ]
    },
    {
      "cell_type": "markdown",
      "source": [
        "# 가제트 만능 팔 - 딕셔너리"
      ],
      "metadata": {
        "id": "78BBP79k0Dfb"
      }
    },
    {
      "cell_type": "markdown",
      "source": [
        "## 49.우리 반 학생들의 이름과 나이 저장하기\n",
        "우리 반 학생들의 이름과 나이가 적힌 명단이 있습니다. 이 명단을 파이썬 자료형 딕셔너리(dictionary)를 활용해 저장하려고 합니다. 우리 반 학생들 명단은 아래와 같을 때 저장하는 코드를 작성하고 다음과 같이 출력하세요.<br>\n",
        "![img80](data:image/png;base64,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)\n",
        "\n",
        "실행결과\n",
        "```\n",
        "{'메이킷': 17, '우진': 9, '시은': 11, '제임스': 10}\n",
        "```"
      ],
      "metadata": {
        "id": "ExaNHMkP0Hua"
      }
    },
    {
      "cell_type": "code",
      "source": [
        "class_mate = {'메이킷': 17, '우진': 9, '시은': 11, '제임스': 10}\n",
        "print(class_mate)"
      ],
      "metadata": {
        "id": "9hJDY9fRV4ef",
        "colab": {
          "base_uri": "https://localhost:8080/"
        },
        "outputId": "a43ca047-f1fb-469f-b97b-20c17e0e8667"
      },
      "execution_count": null,
      "outputs": [
        {
          "output_type": "stream",
          "name": "stdout",
          "text": [
            "{'메이킷': 17, '우진': 9, '시은': 11, '제임스': 10}\n"
          ]
        }
      ]
    },
    {
      "cell_type": "markdown",
      "source": [
        "## 50. 자기 소개하기\n",
        "아래와 같은 내용을 저장하는 딕셔너리 자료형을 s로 만들고 s를 활용해 다음과 같이 출력하는 코드를 작성하세요.\n",
        "\n",
        "---\n",
        "사는 곳 : 서울<br>\n",
        "성별 : 여자<br>\n",
        "이름 : 시은<br>\n",
        "나이 : 11<br>\n",
        "혈액형 : b\n",
        "\n",
        "---\n",
        "\n",
        "실행결과\n",
        "```\n",
        "내가 살고 있는 곳은 서울 입니다.\n",
        "나의 성별은 여자 이고 이름은 시은 입니다.\n",
        "나이는 11 살 이고 혈액형은 b 형입니다.\n",
        "```"
      ],
      "metadata": {
        "id": "ivJFn6Vp1EHC"
      }
    },
    {
      "cell_type": "code",
      "source": [
        "s = dict(사는곳 = '서울', 성별 = '여자', 이름 = '시은', 나이 = 11, 혈액형 = 'b')\n",
        "print(f\"내가 살고 있는 곳은 {s['사는곳']} 입니다.\")\n",
        "print(f\"나의 성별은 {s['성별']} 이고 이름은 {s['이름']} 입니다.\")\n",
        "print(f\"나이는 {s['나이']} 살 이고 혈액형은 {s['혈액형']} 형입니다.\")"
      ],
      "metadata": {
        "id": "3lMPlbaV2XVf",
        "colab": {
          "base_uri": "https://localhost:8080/"
        },
        "outputId": "c9f32027-0f2c-4c5b-afba-17d03290086f"
      },
      "execution_count": null,
      "outputs": [
        {
          "output_type": "stream",
          "name": "stdout",
          "text": [
            "내가 살고 있는 곳은 서울 입니다.\n",
            "나의 성별은 여자 이고 이름은 시은 입니다.\n",
            "나이는 11 살 이고 혈액형은 b 형입니다.\n"
          ]
        }
      ]
    },
    {
      "cell_type": "markdown",
      "source": [
        "## 51.딕셔너리에 추가하기\n",
        "아래와 같은 내용을 저장하는 딕셔너리 자료형 s를 만들고, 나이와 혈액형을 입력받아 딕셔너리 s에 입력받은 자료를 추가해 다음과 같이 출력하는 코드를 작성하세요.\n",
        "\n",
        "---\n",
        "사는 곳: 인천 송도\n",
        "성별: 남자\n",
        "이름: 우진\n",
        "\n",
        "---\n",
        "\n",
        "실행결과\n",
        "```\n",
        "# 입력\n",
        "나이는 몇 살인가요?9\n",
        "혈액형은 무엇인가요?b\n",
        "\n",
        "# 출력\n",
        "나의 성별은 남자 이고 이름은 우진 입니다.\n",
        "나이는 9 살 이고 혈액형은 b 형입니다.\n",
        "```"
      ],
      "metadata": {
        "id": "RWh0bR5W2X9i"
      }
    },
    {
      "cell_type": "code",
      "source": [
        "s = dict([('사는 곳', '인천 송도'), ('성별', '남자'), ('이름', '우진')])\n",
        "\n",
        "print(\"나의 성별은 {0} 이고 이름은 {1} 입니다.\".format(s['성별'], s['이름']))"
      ],
      "metadata": {
        "id": "CitjNul02nYT",
        "colab": {
          "base_uri": "https://localhost:8080/"
        },
        "outputId": "b1a2f6ad-967e-45b8-8c41-bee7a4f4ebbc"
      },
      "execution_count": null,
      "outputs": [
        {
          "output_type": "stream",
          "name": "stdout",
          "text": [
            "나의 성별은 남자 이고 이름은 우진 입니다.\n"
          ]
        }
      ]
    },
    {
      "cell_type": "markdown",
      "source": [
        "## 52. 딕셔너리에서 삭제하기\n",
        "다음 코드를 수행했을 때 같은 출력 결과가 나오도록 빈 칸에 들어가야 할 코드를 완성해서 입력하세요.\n",
        "\n",
        "```\n",
        "{'성별': '남자', '이름': '우진'}\n",
        "```"
      ],
      "metadata": {
        "id": "rM4MbvFO2mzM"
      }
    },
    {
      "cell_type": "code",
      "source": [
        "s = {'사는 곳':'인천 송도', '성별':'남자','이름':'우진'}\n",
        "\n",
        "s.pop('사는 곳')\n",
        "print(s)"
      ],
      "metadata": {
        "id": "GE5xnlXC2y06",
        "colab": {
          "base_uri": "https://localhost:8080/"
        },
        "outputId": "40d374a1-7458-4646-f694-1c0eac84ca67"
      },
      "execution_count": null,
      "outputs": [
        {
          "output_type": "stream",
          "name": "stdout",
          "text": [
            "{'성별': '남자', '이름': '우진'}\n"
          ]
        }
      ]
    },
    {
      "cell_type": "markdown",
      "source": [
        "## 53.딕셔너리에서 뽑아내기 keys(), values(), items()\n",
        "아래와 같은 코드를 수행했을 때 같은 출력 결과가 나오도록 빈 칸에 들어가야 할 코드를 완성하세요.\n",
        "\n",
        "```\n",
        "['사는 곳', '성별', '이름']\n",
        "['인천 송도', '남자', '우진']\n",
        "[('사는 곳', '인천 송도'), ('성별', '남자'), ('이름', '우진')]\n",
        "```\n"
      ],
      "metadata": {
        "id": "C7nrH8Li213y"
      }
    },
    {
      "cell_type": "code",
      "source": [
        "s = {'사는 곳':'인천 송도', '성별':'남자','이름':'우진'}\n",
        "print(list(s.keys()))\n",
        "print(list(s.values()))\n",
        "print(list(s.items()))\n"
      ],
      "metadata": {
        "id": "_tR-N-kd3CeS",
        "colab": {
          "base_uri": "https://localhost:8080/"
        },
        "outputId": "1f3e3c07-e2d9-4265-e98e-f8922e375816"
      },
      "execution_count": null,
      "outputs": [
        {
          "output_type": "stream",
          "name": "stdout",
          "text": [
            "['사는 곳', '성별', '이름']\n",
            "['인천 송도', '남자', '우진']\n",
            "[('사는 곳', '인천 송도'), ('성별', '남자'), ('이름', '우진')]\n"
          ]
        }
      ]
    },
    {
      "cell_type": "markdown",
      "source": [
        "## 54. 딕셔너리와 if 조건문의 만남\n",
        "store 딕셔너리에 다음과 같이 물건이름과 가격이 저장되어 있습니다.\n",
        "```\n",
        "#코드\n",
        "store = {'새우칩':1500, '옥수수칩':1800,'콜라':700,'양파칩':1300}\n",
        "```\n",
        "아래 실행 결과와 같이 물건의 이름을 입력하면 가격을 알려주는 코드를 작성하세요. 단, 딕셔너리에 없는 물건을 입력하면 실행을 중단합니다.\n",
        "\n",
        "실행결과\n",
        "```\n",
        "물품을 입력하면 가격을 알려드립니다\n",
        "물품 이름은?새우칩\n",
        "새우칩의 가격은 1500 입니다\n",
        "물품 이름은?양파칩\n",
        "양파칩의 가격은 1300 입니다\n",
        "물품 이름은?콜라\n",
        "콜라의 가격은 700 입니다\n",
        "물품 이름은?사이다\n",
        "사이다는 등록되어 있지 않습니다\n",
        "```"
      ],
      "metadata": {
        "id": "tGCl3I9U3GA6"
      }
    },
    {
      "cell_type": "code",
      "source": [],
      "metadata": {
        "id": "rP6vcpTo5Qfq"
      },
      "execution_count": null,
      "outputs": []
    },
    {
      "cell_type": "markdown",
      "source": [
        "## 55. 딕셔너리의 값으로 리스트 사용하기\n",
        "우리 가게 물품 리스트는 아래와 같습니다.\n",
        "\n",
        "![image55.png](data:image/png;base64,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)\n",
        "\n",
        "이 자료를 store 딕셔너리에 추가하고 아래와 같은 결과가 나오도록 코드를 작성하세요.\n",
        "\n",
        "실행결과\n",
        "```\n",
        "1 번 물품은 새우칩 이고 가격은 1500 이고 수량은 3 개입니다\n",
        "2 번 물품은 옥수수칩 이고 가격은 1800 이고 수량은 2 개입니다\n",
        "3 번 물품은 콜라 이고 가격은 700 이고 수량은 4 개입니다\n",
        "4 번 물품은 양파칩 이고 가격은 1300 이고 수량은 1 개입니다\n",
        "우리 가게는 4 개의 물건 종류가 있습니다\n",
        "우리 가게 모든 물건 수량은 10 개 있습니다\n",
        "우리 가게 모든 물건들의 가격 총합은 12200 입니다\n",
        "우리 가게 모든 물건들의 평균 가격은 1220.0 원입니다\n",
        "```\n",
        "\n"
      ],
      "metadata": {
        "id": "wbbY1yzI45XD"
      }
    },
    {
      "cell_type": "code",
      "source": [
        "store = dict(새우칩 = (1500, 3), 옥수수칩 = (1800, 2), 콜라 = (700, 4), 양파칩 = (1300, 1))\n",
        "print(f\"1 번 물품은 {list(store.keys())[0]} 이고 가격은 {list(store.values())[0][0]} 이고 수량은 {list(store.values())[0][1]} 개입니다\")\n",
        "print(f\"2 번 물품은 {list(store.keys())[1]} 이고 가격은 {list(store.values())[1][0]} 이고 수량은 {list(store.values())[1][1]} 개입니다\")\n",
        "print(f\"3 번 물품은 {list(store.keys())[2]} 이고 가격은 {list(store.values())[2][0]} 이고 수량은 {list(store.values())[2][1]} 개입니다\")\n",
        "print(f\"4 번 물품은 {list(store.keys())[3]} 이고 가격은 {list(store.values())[3][0]} 이고 수량은 {list(store.values())[3][1]} 개입니다\")\n",
        "print(f\"우리 가게에는 {len(store)} 개의 물건 종류가 있습니다.\")\n",
        "print(f'우리 가게 모든 물건 수량은 {list(store.values())[0][1] + list(store.values())[1][1] + list(store.values())[2][1] + list(store.values())[3][1]} 개의 물건 종류가 있습니다.')\n",
        "print('우리 가게 모든 물건들의 가격 총합은 {} 입니다.'.format(\n",
        "    (list(store.values())[0][0] * list(store.values())[0][1]) + \\\n",
        "    (list(store.values())[1][0] * list(store.values())[1][1]) + \\\n",
        "    (list(store.values())[2][0] * list(store.values())[2][1]) + \\\n",
        "    (list(store.values())[3][0] * list(store.values())[3][1])))\n",
        "\n"
      ],
      "metadata": {
        "id": "PIs9NKXf5kTL",
        "colab": {
          "base_uri": "https://localhost:8080/"
        },
        "outputId": "2a670f73-ccde-442c-948a-c89e99597900"
      },
      "execution_count": null,
      "outputs": [
        {
          "output_type": "stream",
          "name": "stdout",
          "text": [
            "1 번 물품은 새우칩 이고 가격은 1500 이고 수량은 3 개입니다\n",
            "2 번 물품은 옥수수칩 이고 가격은 1800 이고 수량은 2 개입니다\n",
            "3 번 물품은 콜라 이고 가격은 700 이고 수량은 4 개입니다\n",
            "4 번 물품은 양파칩 이고 가격은 1300 이고 수량은 1 개입니다\n",
            "우리 가게에는 4 개의 물건 종류가 있습니다.\n",
            "우리 가게 모든 물건 수량은 10 개의 물건 종류가 있습니다.\n",
            "우리 가게 모든 물건들의 가격 총합은 12200 입니다.\n"
          ]
        }
      ]
    },
    {
      "cell_type": "code",
      "source": [
        "store2 = dict(새우칩 = (1500, 3), 옥수수칩 = (1800, 2), 콜라 = (700, 4), 양파칩 = (1300, 1))\n",
        "prod = list(store2.keys())\n",
        "price_num = list(store2.values())\n",
        "print(price_num)\n",
        "\n",
        "print(f\"1 번 물품은 {prod[0]} 이고 가격은 {price_num[0][0]} 이고 수량은 {price_num[0][1]} 개입니다\")\n",
        "print(f\"2 번 물품은 {prod[1]} 이고 가격은 {price_num[1][0]} 이고 수량은 {price_num[1][1]} 개입니다\")\n",
        "print(f\"3 번 물품은 {prod[2]} 이고 가격은 {price_num[2][0]} 이고 수량은 {price_num[2][1]} 개입니다\")\n",
        "print(f\"4 번 물품은 {prod[3]} 이고 가격은 {price_num[3][0]} 이고 수량은 {price_num[3][1]} 개입니다\")\n",
        "print(f\"우리 가게에는 {len(store2)} 개의 물건 종류가 있습니다.\")\n",
        "print(f'우리 가게 모든 물건 수량은 {price_num[0][1] + price_num[1][1] + price_num[2][1] + price_num[3][1]} 개의 물건 종류가 있습니다.')\n",
        "print('우리 가게 모든 물건들의 가격 총합은 {} 입니다.'.format(\n",
        "    (price_num[0][0] * price_num[0][1]) + \\\n",
        "    (price_num[1][0] * price_num[1][1]) + \\\n",
        "    (price_num[2][0] * price_num[2][1]) + \\\n",
        "    (price_num[3][0] * price_num[3][1])))\n"
      ],
      "metadata": {
        "colab": {
          "base_uri": "https://localhost:8080/"
        },
        "id": "jC1HS_4N8yEn",
        "outputId": "dbc033fa-6fcf-4577-b20f-ddab170c51e6"
      },
      "execution_count": null,
      "outputs": [
        {
          "output_type": "stream",
          "name": "stdout",
          "text": [
            "[(1500, 3), (1800, 2), (700, 4), (1300, 1)]\n",
            "1 번 물품은 새우칩 이고 가격은 1500 이고 수량은 3 개입니다\n",
            "2 번 물품은 옥수수칩 이고 가격은 1800 이고 수량은 2 개입니다\n",
            "3 번 물품은 콜라 이고 가격은 700 이고 수량은 4 개입니다\n",
            "4 번 물품은 양파칩 이고 가격은 1300 이고 수량은 1 개입니다\n",
            "우리 가게에는 4 개의 물건 종류가 있습니다.\n",
            "우리 가게 모든 물건 수량은 10 개의 물건 종류가 있습니다.\n",
            "우리 가게 모든 물건들의 가격 총합은 12200 입니다.\n"
          ]
        }
      ]
    },
    {
      "cell_type": "code",
      "source": [
        "store3 = dict(물품이름 = ['새우칩','옥수수칩','콜라','양파칩'], 가격 = [1500,1800,700,1300], \\\n",
        "              개수 = [3,2,4,1])\n",
        "print(store3['물품이름'][0])\n",
        "print(sum(store3['개수']))\n",
        "print(f\"1 번 물품은 {store3['물품이름'][0]} 이고 가격은 {store3['가격'][0]} 이고 수량은 {store3['개수'][0]} 개입니다.\")\n",
        "print(f\"2 번 물품은 {store3['물품이름'][1]} 이고 가격은 {store3['가격'][1]} 이고 수량은 {store3['개수'][1]} 개입니다\")\n",
        "print(f\"3 번 물품은 {store3['물품이름'][2]} 이고 가격은 {store3['가격'][2]} 이고 수량은 {store3['개수'][2]} 개입니다\")\n",
        "print(f\"4 번 물품은 {store3['물품이름'][3]} 이고 가격은 {store3['가격'][3]} 이고 수량은 {store3['개수'][3]} 개입니다\")\n",
        "print(f\"우리 가게에는 {len(store3['물품이름'])} 개의 물건 종류가 있습니다.\")\n",
        "print(f'우리 가게 모든 물건 수량은 {sum(store3[\"개수\"])} 개의 물건 종류가 있습니다.')\n",
        "print('우리 가게 모든 물건들의 가격 총합은 {} 입니다.'.format(\n",
        "    (store3['가격'][0] * store3['개수'][0]) + \\\n",
        "    (store3['가격'][1] * store3['개수'][1]) + \\\n",
        "    (store3['가격'][2] * store3['개수'][2]) + \\\n",
        "    (store3['가격'][3] * store3['개수'][3])))"
      ],
      "metadata": {
        "colab": {
          "base_uri": "https://localhost:8080/"
        },
        "id": "CFM46ANtD8yo",
        "outputId": "c25f950e-3b41-475d-a7db-0e3686661609"
      },
      "execution_count": null,
      "outputs": [
        {
          "output_type": "stream",
          "name": "stdout",
          "text": [
            "새우칩\n",
            "10\n",
            "1 번 물품은 새우칩 이고 가격은 1500 이고 수량은 3 개입니다.\n",
            "2 번 물품은 옥수수칩 이고 가격은 1800 이고 수량은 2 개입니다\n",
            "3 번 물품은 콜라 이고 가격은 700 이고 수량은 4 개입니다\n",
            "4 번 물품은 양파칩 이고 가격은 1300 이고 수량은 1 개입니다\n",
            "우리 가게에는 4 개의 물건 종류가 있습니다.\n",
            "우리 가게 모든 물건 수량은 10 개의 물건 종류가 있습니다.\n",
            "우리 가게 모든 물건들의 가격 총합은 12200 입니다.\n"
          ]
        }
      ]
    },
    {
      "cell_type": "markdown",
      "source": [
        "## 56.딕셔너리의 값으로 딕셔너리 사용하기\n",
        "우리 반 학생들의 명단과 학생들이 각각 수업을 듣고 있는 과목과 시험 점수가 다음과 같이 표로 정리되어 있습니다.\n",
        "\n",
        "![image56.png](data:image/png;base64,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)\n",
        "\n",
        "딕셔너리를 사용해 위 자료를 저장하고 아래와 같은 결과가 나오도록 코드를 작성하세요.\n",
        "\n",
        "```\n",
        "우진이의 코딩 점수는? 95\n",
        "시은이의 과학 점수는? 100\n",
        "메이킷의 영어 점수는? 85\n",
        "```\n"
      ],
      "metadata": {
        "id": "9_LyqDPS5tzD"
      }
    },
    {
      "cell_type": "code",
      "source": [
        "testresult = {'우진' : {'코딩' : 95, '수학' : 99}, '시은' : {'과학' : 100, '코딩' : 99},'메이킷' : {'영어' : 85, '코딩' : 100}}\n",
        "\n",
        "print(\"우진이의 코딩 점수는?\", testresult['우진']['코딩'])\n",
        "print(\"시은이의 과학 점수는?\", testresult['시은']['과학'])\n",
        "print(\"메이킷의 영어 점수는?\", testresult['메이킷']['영어'])"
      ],
      "metadata": {
        "id": "gxEOrUF15_SD",
        "colab": {
          "base_uri": "https://localhost:8080/"
        },
        "outputId": "2f49a12b-fb6b-4664-c55a-78bba4e528c3"
      },
      "execution_count": null,
      "outputs": [
        {
          "output_type": "stream",
          "name": "stdout",
          "text": [
            "우진이의 코딩 점수는? 95\n",
            "시은이의 과학 점수는? 100\n",
            "메이킷의 영어 점수는? 85\n"
          ]
        }
      ]
    },
    {
      "cell_type": "markdown",
      "source": [
        "# 여자는 1번 방으로, 남자는 2번 방으로 – 조건문"
      ],
      "metadata": {
        "id": "5-UHl-tn_fTr"
      }
    },
    {
      "cell_type": "markdown",
      "source": [
        "## 32. 두 수 비교하기\n",
        "다음과 같이 정수 두 개를 x, y로 입력받아 x가 y보다 크면 'makit'을, 작거나 같으면 'woojin'을 출력하는 코드를 작성하세요.<br>\n",
        "실행결과\n",
        "```\n",
        "첫 번째 정수를 입력하세요:7\n",
        "두 번째 정수를 입력하세요:10\n",
        "woojin\n",
        "```"
      ],
      "metadata": {
        "id": "Fq8X4Vrl_hvL"
      }
    },
    {
      "cell_type": "code",
      "source": [
        "x = int(input(\"첫 번째 정수를 입력하세요\"))\n",
        "y = int(input(\"두 번째 정수를 입력하세요\"))\n",
        "\n",
        "if x > y:\n",
        "  print('makit')\n",
        "else:\n",
        "  print('woojin')\n"
      ],
      "metadata": {
        "id": "VIKBYJ4G_P5-",
        "colab": {
          "base_uri": "https://localhost:8080/"
        },
        "outputId": "845ce9d5-e4b9-4c97-8ec3-e99ad27a8d22"
      },
      "execution_count": null,
      "outputs": [
        {
          "output_type": "stream",
          "name": "stdout",
          "text": [
            "첫 번째 정수를 입력하세요7\n",
            "두 번째 정수를 입력하세요10\n",
            "woojin\n"
          ]
        }
      ]
    },
    {
      "cell_type": "markdown",
      "source": [
        "## 33. 세 개의 수 비교하기\n",
        "다음과 같이 정수 세 개를 a, b, c로 입력받아 홀수만 출력하는 코드를 작성하세요.<br>\n",
        "실행결과\n",
        "```\n",
        "# 입력\n",
        "첫 번째 정수를 입력하세요:3\n",
        "두 번째 정수를 입력하세요:8\n",
        "세 번째 정수를 입력하세요:17\n",
        "\n",
        "# 홀수인 입력만 출력\n",
        "3\n",
        "17\n",
        "```"
      ],
      "metadata": {
        "id": "llGANDKUCYYD"
      }
    },
    {
      "cell_type": "code",
      "source": [
        "a = int(input(\"첫 번째 정수를 입력하세요\"))\n",
        "b = int(input(\"두 번째 정수를 입력하세요\"))\n",
        "c = int(input(\"세 번째 정수를 입력하세요\"))\n",
        "\n",
        "# 홀수인 입력만 출력\n",
        "if a % 2 == 1:\n",
        "  print(a)\n",
        "if b % 2 == 1:\n",
        "  print(b)\n",
        "if c % 2 == 1:\n",
        "  print(c)"
      ],
      "metadata": {
        "colab": {
          "base_uri": "https://localhost:8080/"
        },
        "id": "aFz6BrhKczNT",
        "outputId": "a6cbee4a-23fc-47fa-bf5f-d755b903c5ad"
      },
      "execution_count": null,
      "outputs": [
        {
          "output_type": "stream",
          "name": "stdout",
          "text": [
            "첫 번째 정수를 입력하세요3\n",
            "두 번째 정수를 입력하세요5\n",
            "세 번째 정수를 입력하세요4\n",
            "3\n",
            "5\n"
          ]
        }
      ]
    },
    {
      "cell_type": "markdown",
      "source": [
        "## 34. 홀수 찾기\n",
        "다음과 같이 정수 세 개를 a, b, c로 입력받아 홀수, 짝수를 구분해 출력하는 코드를 작성하세요.<br>\n",
        "실행결과\n",
        "```\n",
        "# 입력\n",
        "첫 번째 정수를 입력하세요:3\n",
        "두 번째 정수를 입력하세요:8\n",
        "세 번째 정수를 입력하세요:17\n",
        "\n",
        "# 출력\n",
        "3 홀수\n",
        "8 짝수\n",
        "17 홀수\n",
        "```"
      ],
      "metadata": {
        "id": "_rUy9Io0C108"
      }
    },
    {
      "cell_type": "code",
      "source": [
        "a = int(input(\"첫 번째 정수를 입력하세요\"))\n",
        "b = int(input(\"두 번째 정수를 입력하세요\"))\n",
        "c = int(input(\"세 번째 정수를 입력하세요\"))\n",
        "\n",
        "# 홀수/짝 구분 출력\n",
        "if a % 2 == 1:\n",
        "  print(a, \"홀수\")\n",
        "else:\n",
        "  print(a, \"짝수\")\n",
        "if b % 2 == 1:\n",
        "  print(b, \"홀수\")\n",
        "else:\n",
        "  print(b, \"짝수\")\n",
        "if c % 2 == 1:\n",
        "  print(c, \"홀수\")\n",
        "else:\n",
        "  print(c, \"짝수\")"
      ],
      "metadata": {
        "id": "R39bKtRbCtiF",
        "colab": {
          "base_uri": "https://localhost:8080/"
        },
        "outputId": "3cc3e107-c6a5-41a0-f397-94f5c49c065d"
      },
      "execution_count": null,
      "outputs": [
        {
          "output_type": "stream",
          "name": "stdout",
          "text": [
            "첫 번째 정수를 입력하세요3\n",
            "두 번째 정수를 입력하세요6\n",
            "세 번째 정수를 입력하세요9\n",
            "3 홀수\n",
            "6 짝수\n",
            "9 홀수\n"
          ]
        }
      ]
    },
    {
      "cell_type": "markdown",
      "source": [
        "## 35. 양수, 음수, 홀수, 짝수 구분하기\n",
        "다음과 같이 0 이외의 정수 한 개를 입력받아, 음수 또는 양수, 짝수 또는 홀수로 구분해 출력하는 코드를 작성하세요. and와 or 연산자를 사용할 수 있으면 사용하세요.<br>\n",
        "실행결과\n",
        "```\n",
        "-14\n",
        "음수이고 짝수\n",
        "```"
      ],
      "metadata": {
        "id": "GFlTp8MKDBve"
      }
    },
    {
      "cell_type": "code",
      "source": [
        "a = int(input())\n",
        "\n",
        "if a > 0 and a % 2 == 1:\n",
        "  print(\"양수이고 홀수\")\n",
        "elif a > 0 and a % 2 == 0:\n",
        "  print(\"양수이고 짝수\")\n",
        "elif a < 0 and a % 2 == 1:\n",
        "  print(\"음수이고 홀수\")\n",
        "elif a < 0 and a % 2 == 0:\n",
        "  print(\"음수이고 짝수\")"
      ],
      "metadata": {
        "colab": {
          "base_uri": "https://localhost:8080/"
        },
        "id": "a_F3PpOTeh9L",
        "outputId": "b06ae547-793d-4fa4-ec93-7d7e36e3238f"
      },
      "execution_count": null,
      "outputs": [
        {
          "output_type": "stream",
          "name": "stdout",
          "text": [
            "6\n",
            "양수이고 짝수\n"
          ]
        }
      ]
    },
    {
      "cell_type": "markdown",
      "source": [
        "## 36. 성적 결과 계산하기\n",
        "다음 실행 결과와 같이 코딩 과목의 시험 점수를 0점 이상~100점 이하의 값으로 입력받아 학점을 출력하는 코드를 작성하세요. 코딩 점수에 따른 학점은 아래와 같습니다.<br>\n",
        "\n",
        "---\n",
        "90점 이상 : A학점<br>\n",
        "80점 이상 ~ 90점 미만 : B학점<br>\n",
        "70점 이상 ~ 80점 미만 : C학점<br>\n",
        "60점 이상 ~ 70점 미만 : D학점<br>\n",
        "60점 미만 : F학점\n",
        "\n",
        "---\n",
        "\n",
        "실행결과\n",
        "```\n",
        "코딩 점수를 입력하세요:89\n",
        "B학점\n",
        "```"
      ],
      "metadata": {
        "id": "eLRiRd5ODYIV"
      }
    },
    {
      "cell_type": "code",
      "source": [
        "score = int(input())\n",
        "if 0 <= score <= 100:\n",
        "  if score >= 90:\n",
        "    print(\"A학점\")\n",
        "  elif 80 <= score < 90:\n",
        "    print(\"B학점\")\n",
        "  elif 70 <= score < 80:\n",
        "    print(\"C학점\")\n",
        "  elif 60 <= score < 70:\n",
        "    print(\"D학점\")\n",
        "  else:\n",
        "    print(\"F학점\")\n",
        "else:\n",
        "  print(\"점수 입력을 다시 해주세요.\")\n",
        "\n"
      ],
      "metadata": {
        "colab": {
          "base_uri": "https://localhost:8080/"
        },
        "id": "db2iQ-LrfVXT",
        "outputId": "118da007-b007-4b28-89da-89d337e9548f"
      },
      "execution_count": null,
      "outputs": [
        {
          "output_type": "stream",
          "name": "stdout",
          "text": [
            "50\n",
            "F학점\n"
          ]
        }
      ]
    },
    {
      "cell_type": "markdown",
      "source": [
        "## 37. 입력에 따라 친구 이름 출력하기\n",
        "m, j, w, s 입력에 따라 각각 makit, james, woojin, sieun을 출력하고 m, j, w, s 이외의 문자가 입력되면 howard를 출력하는 코드를 작성하세요.<br>\n",
        "실행결과\n",
        "```\n",
        "s\n",
        "sieun\n",
        "```"
      ],
      "metadata": {
        "id": "RyAKyuwuEPVO"
      }
    },
    {
      "cell_type": "code",
      "source": [
        "char = input(\"이름 m, j, w, s 중 하나를 입력해 주세요: \")\n",
        "\n",
        "if char == 'm':\n",
        "  print(\"makit\")\n",
        "elif char == 'j':\n",
        "  print(\"james\")\n",
        "elif char == 'w':\n",
        "  print(\"woojin\")\n",
        "elif char == 's':\n",
        "  print(\"sieun\")\n",
        "else:\n",
        "  print(\"howard\")"
      ],
      "metadata": {
        "id": "YMmjQfyhDPuZ",
        "colab": {
          "base_uri": "https://localhost:8080/"
        },
        "outputId": "3a470d43-0302-4f0c-9ed9-26354ff0000d"
      },
      "execution_count": null,
      "outputs": [
        {
          "output_type": "stream",
          "name": "stdout",
          "text": [
            "이름 m, j, w, s 중 하나를 입력해 주세요: s\n",
            "sieun\n"
          ]
        }
      ]
    },
    {
      "cell_type": "markdown",
      "source": [
        "## 38.봄, 여름, 가을, 겨울\n",
        "1~12까지 숫자를 입력하면 해당하는 달의 계절을 다음과 같이 출력하는 코드를 작성하세요. 각 월에 따른 계절은 아래 기준으로 코드를 작성하세요.<br>\n",
        "\n",
        "---\n",
        "\n",
        "12월 ~ 2월 : 겨울<br>\n",
        "3월 ~ 5월 : 봄<br>\n",
        "6월 ~ 8월 : 여름<br>\n",
        "9월 ~ 11월 : 가을<br>\n",
        "\n",
        "---\n",
        "\n",
        "실행결과\n",
        "```\n",
        "몇 월 달인가요? 8\n",
        "여름\n",
        "```"
      ],
      "metadata": {
        "id": "y2EG23_FEXO8"
      }
    },
    {
      "cell_type": "code",
      "source": [
        "month = int(input(\"1-12 사이의 숫자를 입력해 주세요.\"))\n",
        "\n",
        "if 1 <= month <= 12:\n",
        "  if 3 <= month <= 5:\n",
        "    print(\"봄\")\n",
        "  elif 6 <= month <= 8:\n",
        "    print(\"여름\")\n",
        "  elif 9 <= month <= 11:\n",
        "    print(\"가을\")\n",
        "  else:\n",
        "    print(\"겨울\")\n",
        "else:\n",
        "  print(\"1-12 사이의 숫자를 입력해주세요.\")"
      ],
      "metadata": {
        "id": "TnxESMEbhmiD"
      },
      "execution_count": null,
      "outputs": []
    },
    {
      "cell_type": "markdown",
      "source": [
        "## 39. 12월은 31일까지 있어요\n",
        "다음과 같이 1~12까지 달을 입력받아서, 입력받은 달은 몇 일까지 있는지 출력하는 코드를 작성하세요.  참고로 각 달의 일수는 아래와 같으며, 윤년은 고려하지 않습니다.<br>\n",
        "\n",
        "---\n",
        "\n",
        "2월: 28일<br>\n",
        "4월, 6월, 9월, 11월: 30일<br>\n",
        "1월, 3월, 5월, 7월, 8월, 10월, 12월: 31일<br>\n",
        "\n",
        "---\n",
        "\n",
        "실행결과\n",
        "```\n",
        "몇 월인가요? 12\n",
        "12 월은 31일까지 있습니다\n",
        "\n",
        "몇 월인가요? 6\n",
        "6 월은 30일까지 있습니다\n",
        "```"
      ],
      "metadata": {
        "id": "1VpeT7UiE0iS"
      }
    },
    {
      "cell_type": "code",
      "source": [
        "month = int(input(\"몇 월 인가요? \"))\n",
        "d30 = [4, 6, 9, 11]\n",
        "d31 = [1, 3, 5, 7, 8, 10, 12]\n",
        "if 1<= month <= 12:\n",
        "  if month in d30:\n",
        "    print(f'{month}월은 30일까지 있습니다.')\n",
        "  elif month in d31:\n",
        "    print(f'{month}월은 31일까지 있습니다.')\n",
        "  else:\n",
        "    print(f'{month}월은 28일까지 있습니다.')\n",
        "else:\n",
        "  print(\"1-12 사이의 숫자를 입력해 주세요\")"
      ],
      "metadata": {
        "colab": {
          "base_uri": "https://localhost:8080/"
        },
        "id": "dI4ebVamsYkl",
        "outputId": "94bb410c-843c-4d0b-84f4-a9e9ad171333"
      },
      "execution_count": null,
      "outputs": [
        {
          "output_type": "stream",
          "name": "stdout",
          "text": [
            "몇 월 인가요? 3\n",
            "3월은 31일까지 있습니다.\n"
          ]
        }
      ]
    },
    {
      "cell_type": "markdown",
      "source": [
        "## 40. 까다로운 놀이기구 I\n",
        "놀이공원에 있는 어떤 놀이기구를 타려면 특별한 조건이 필요합니다. 이름이 m으로 시작하거나 또는 키가 150cm 이상이고 170cm 미만이면 탈 수 있습니다. 그 외의 경우는 놀이기구를 탈 수 없습니다. 다음 두 가지 실행 결과 예시를 보고 놀이기구를 탈 수 있는 조건을 판별해 알려주는 코드를 작성하세요.<br>\n",
        "\n",
        "실행결과\n",
        "```\n",
        "이름을 입력하세요:makit\n",
        "키를 입력하세요:145.5\n",
        "탈 수 있어요\n",
        "\n",
        "이름을 입력하세요:sophia\n",
        "키를 입력하세요:171.2\n",
        "탈 수 없어요\n",
        "```"
      ],
      "metadata": {
        "id": "EHSJU2XgFMuu"
      }
    },
    {
      "cell_type": "code",
      "source": [
        "name = input(\"이름을 입력하세요: \")\n",
        "height = float(input(\"키를 입력하세요: \"))\n",
        "\n",
        "if name[0] == 'm' and 150 <= height < 170:\n",
        "  print(\"탈 수 있어요\")\n",
        "else:\n",
        "  print(\"탈 수 없어요\")\n"
      ],
      "metadata": {
        "colab": {
          "base_uri": "https://localhost:8080/"
        },
        "id": "6yCUBfHGM2SC",
        "outputId": "6010aa48-ace7-4110-afc6-5b94a9b56d26"
      },
      "execution_count": null,
      "outputs": [
        {
          "output_type": "stream",
          "name": "stdout",
          "text": [
            "이름을 입력하세요: mark\n",
            "키를 입력하세요: 195\n",
            "탈 수 없어요\n"
          ]
        }
      ]
    },
    {
      "cell_type": "markdown",
      "source": [
        "## 41. 까다로운 놀이기구 II\n",
        "놀이공원에 있는 놀이기구를 타려면 특별한 조건이 있습니다 . 키가 150cm 이상이고 170cm 미만이면 이 놀이기구를 탈 수 있습니다. 또는 키가 175cm 이상이고 180cm 이하면 탈 수 있습니다. 놀이기구를 탈 수 있는 조건을 판별하는 코드를 작성하세요.<br>\n",
        "실행결과\n",
        "```\n",
        "키를 입력하세요:176\n",
        "탈 수 있어요\n",
        "```\n",
        "```\n",
        "키를 입력하세요:180\n",
        "탈 수 있어요\n",
        "```\n",
        "```\n",
        "키를 입력하세요:174\n",
        "탈 수 없어요\n",
        "```"
      ],
      "metadata": {
        "id": "jAZc7VP8Fg_L"
      }
    },
    {
      "cell_type": "code",
      "source": [
        "height = float(input(\"키를 입력하세요: \"))\n",
        "\n",
        "if 150 <= height < 170:\n",
        "  print(\"탈 수 있어요\")\n",
        "elif 175 <= height < 180:\n",
        "  print(\"탈 수 있어요\")\n",
        "else:\n",
        "  print(\"탈 수 없어요\")"
      ],
      "metadata": {
        "colab": {
          "base_uri": "https://localhost:8080/"
        },
        "id": "EcXVgcLsPKLh",
        "outputId": "e426d941-96f1-4fc2-b6a7-3203104e726e"
      },
      "execution_count": null,
      "outputs": [
        {
          "output_type": "stream",
          "name": "stdout",
          "text": [
            "키를 입력하세요: 176\n",
            "탈 수 있어요\n"
          ]
        }
      ]
    },
    {
      "cell_type": "markdown",
      "source": [
        "## 42. 까다로운 놀이기구 III\n",
        "놀이공원 놀이기구를 타기 위해서는 특별한 조건이 있습니다. 성별이 여자이고 키가 150cm 이상, 170cm 미만이면 탈 수 있습니다. 또는 키가 5의 배수이면 탈 수 있습니다. 다음 실행 결과 예시를 보고 놀이기구를 탈수 있는 판별 기준을 알려주는 코드를 작성하세요.<br>\n",
        "실행결과\n",
        "```\n",
        "키를 입력하세요:174\n",
        "성별을 입력하세요:여자\n",
        "탈 수 없어요\n",
        "\n",
        "키를 입력하세요:170\n",
        "성별을 입력하세요:여자\n",
        "탈 수 있어요\n",
        "\n",
        "키를 입력하세요:145\n",
        "성별을 입력하세요:여자\n",
        "탈 수 있어요\n",
        "\n",
        "키를 입력하세요:170\n",
        "성별을 입력하세요:남자\n",
        "탈 수 없어요\n",
        "```"
      ],
      "metadata": {
        "id": "T770zXPHF40x"
      }
    },
    {
      "cell_type": "code",
      "source": [
        "height = float(input(\"키를 입력하세요: \"))\n",
        "gender = input(\"성별을 입력하세요: \")\n",
        "\n",
        "if gender == '여자' and 150 <= height < 170:\n",
        "  print(\"탈 수 있어요\")\n",
        "elif gender == '여자' and height % 5 == 0:\n",
        "  print(\"탈 수 있어요\")\n",
        "else:\n",
        "  print(\"탈 수 없어요\")"
      ],
      "metadata": {
        "id": "5bQHY3DrEtz2",
        "colab": {
          "base_uri": "https://localhost:8080/"
        },
        "outputId": "9b0aeb2a-4e78-4db7-d6ea-820b1a3f7328"
      },
      "execution_count": null,
      "outputs": [
        {
          "output_type": "stream",
          "name": "stdout",
          "text": [
            "키를 입력하세요: 170\n",
            "성별을 입력하세요: 남자\n",
            "탈 수 없어요\n"
          ]
        }
      ]
    },
    {
      "cell_type": "markdown",
      "source": [
        "## 43. 터널 통과하기 I\n",
        "높이가 150cm인 자동차가 있습니다. 목적지까지 가려면 3개의 터널을 지나가야 합니다. 그런데 터널의 높이가 자동차 높이보다 낮거나 같다면 자동차는 지나갈 수 없습니다. 터널의 높이가 차례대로 3개 주어질 때 자동차 통과할 수 있는지 없는지를 판별하는 코드를 작성하세요.<br>\n",
        "실행결과\n",
        "```\n",
        "165 149 155\n",
        "터널 통과 불가능\n",
        "\n",
        "158 151 170\n",
        "터널 통과 가능\n",
        "```"
      ],
      "metadata": {
        "id": "ENYgvHeOGFSP"
      }
    },
    {
      "cell_type": "code",
      "source": [
        "t1, t2, t3 = map(int, input().split())\n",
        "\n",
        "if t1 > 150 and t2 > 150 and t3 > 150:\n",
        "  print(\"터널 통과 가능\")\n",
        "else:\n",
        "  print(\"터널 통과 불가능\")\n"
      ],
      "metadata": {
        "colab": {
          "base_uri": "https://localhost:8080/"
        },
        "id": "N2pxyuuzKESG",
        "outputId": "4308842a-98e9-4cf7-98e1-5cc7c74d56ae"
      },
      "execution_count": null,
      "outputs": [
        {
          "output_type": "stream",
          "name": "stdout",
          "text": [
            "165 149 155\n",
            "터널 통과 불가능\n"
          ]
        }
      ]
    },
    {
      "cell_type": "markdown",
      "source": [
        "## 44. 올해는 윤년일까? Yes or No\n",
        "2월이 29일까지 있는 연도를 윤년이라고 합니다. 윤년의 조건은 연도가 4의 배수이면서 100의 배수가 아니거나 400의 배수인 경우입니다. 연도를 입력하고 입력한 연도가 윤년인지 아닌지 판별하는 코드를 작성하세요.<br>\n",
        "실행결과\n",
        "```\n",
        "연도를 입력하세요:2345\n",
        "2345 년은 윤년이 아닙니다\n",
        "\n",
        "연도를 입력하세요:2020\n",
        "2020 년은 윤년입니다\n",
        "```"
      ],
      "metadata": {
        "id": "Yx5VH3jjT-Rc"
      }
    },
    {
      "cell_type": "code",
      "source": [
        "year = int(input())\n",
        "\n",
        "if year % 4 == 0 and year % 100 == 0 or year % 400 ==0 :\n",
        "  print(f\"{year}는 윤년입니다.\")\n",
        "else:\n",
        "  print(f\"{year}는 윤년이 아닙니다.\")\n",
        "\n"
      ],
      "metadata": {
        "id": "T1zlJbBGGQtY",
        "colab": {
          "base_uri": "https://localhost:8080/"
        },
        "outputId": "9e6bf0ca-1299-451e-842a-873c3b264245"
      },
      "execution_count": null,
      "outputs": [
        {
          "output_type": "stream",
          "name": "stdout",
          "text": [
            "2020\n",
            "2020는 윤년입니다.\n"
          ]
        }
      ]
    },
    {
      "cell_type": "markdown",
      "source": [
        "## 45. 주민등록번호 분석기\n",
        "주민등록번호는 생년월일과 성별 정보를 포함합니다. 801223-1234567는 80년 12월 23일 생일을 의미합니다. 이때 두 번째 숫자 리스트가1 또는 2로 시작하면 1900년대에 출생 사람을 의미하고, 1로 시작하면 남성, 2로 시작하면 여성을 의미합니다. 2000년대 출생한 남성은 3으로 시작하고 여성은 4로 시작합니다.\n",
        "\n",
        "주민등록번호가 입력되면 다음과 같이 주민등록에 포함된 정보를 출력하도록 코드를 작성하세요. 주민등록번호 입력 시 중간에 하이픈(-)을 포함해 입력합니다.<br>\n",
        "실행결과\n",
        "```\n",
        "주민등록번호 입력:801223-1234567\n",
        "남자 1980 년 출생\n",
        "\n",
        "주민등록번호 입력:110503-3456789\n",
        "남자 2011 년 출생\n",
        "```"
      ],
      "metadata": {
        "id": "IaBxSaRCUVcw"
      }
    },
    {
      "cell_type": "code",
      "source": [
        "id_num = input(\"주민등록번호 입력: \")\n",
        "if id_num[7] == '1' or id_num[7] == '2':\n",
        "  if id_num[7] == '1':\n",
        "    print(f\"남자 19{id_num[:2]}년 출생\")\n",
        "  else:\n",
        "    print(f\"여자 19{id_num[:2]}년 출생\")\n",
        "if id_num[7] == '3' or id_num[7] == '4':\n",
        "  if id_num[7] == '3':\n",
        "    print(f\"남자 20{id_num[:2]}년 출생\")\n",
        "  else:\n",
        "    print(f\"여자 20{id_num[:2]}년 출생\")\n",
        "\n"
      ],
      "metadata": {
        "colab": {
          "base_uri": "https://localhost:8080/"
        },
        "id": "Y0gGg_P-As3T",
        "outputId": "d4af1a5c-84be-4253-ae18-57b68f517257"
      },
      "execution_count": null,
      "outputs": [
        {
          "output_type": "stream",
          "name": "stdout",
          "text": [
            "주민등록번호 입력: 801223-1234567\n",
            "남자 1980년 출생\n"
          ]
        }
      ]
    },
    {
      "cell_type": "markdown",
      "source": [
        "## 46.‘도, 개, 걸, 윷, 모’ 윷놀이\n",
        "윷놀이는 4개의 윷을 던져서 뒤집어진 상태에 따라 도, 개, 걸, 윷, 모 5가지 경우로 나누어 말을 이동하는 우리나라 전통 놀이입니다.<br>\n",
        "\n",
        "---\n",
        "\n",
        "도: 윷(막대) 1개가 뒤집어진 상태\n",
        "개: 윷(막대) 2개가 뒤집어진 상태\n",
        "걸: 윷(막대) 3개가 뒤집어진 상태\n",
        "윷: 윷(막대) 4개가 뒤집어진 상태\n",
        "모: 윷(막대) 하나도 뒤집어지지 않은 상태\n",
        "\n",
        "---\n",
        "\n",
        "다음과 같이 윷의 결과가 입력되었을 때 윷의 상태를 출력하는 코드를 작성하세요. 0은 윷이 뒤집어 지지 않은 상태이고 1은 윷이 뒤집어진 상태입니다. 윷의 상태를 1과 0으로 입력할 때 공백을 기준으로 입력합니다. 예를 들어 '1 1 1 0'과 같이 입력하면 1이 3개이므로 '걸'을 의미합니다.<br>\n",
        "\n",
        "결과\n",
        "```\n",
        "1 1 1 0\n",
        "걸\n",
        "```"
      ],
      "metadata": {
        "id": "l0OXlcWHUxHd"
      }
    },
    {
      "cell_type": "code",
      "source": [
        "yout = list(map(int, input().split()))\n",
        "\n",
        "if sum(yout) == 0:\n",
        "  print(\"모\")\n",
        "elif sum(yout) == 1:\n",
        "  print(\"도\")\n",
        "elif sum(yout) == 2:\n",
        "  print(\"개\")\n",
        "elif sum(yout) == 3:\n",
        "  print(\"걸\")\n",
        "elif sum(yout) == 4:\n",
        "  print(\"윳\")"
      ],
      "metadata": {
        "id": "AdNS2I-xVGTw",
        "colab": {
          "base_uri": "https://localhost:8080/"
        },
        "outputId": "df3e240f-698f-47fa-fa25-04261dc8c4ac"
      },
      "execution_count": null,
      "outputs": [
        {
          "output_type": "stream",
          "name": "stdout",
          "text": [
            "1 1 1 1\n",
            "윳\n"
          ]
        }
      ]
    },
    {
      "cell_type": "markdown",
      "source": [
        "## 47. 표준 몸무게 알아보기\n",
        "BMI(Body Mass Index)는 체질량 지수로 비만도를 측정하는 수치입니다. BMI를 구하기 위해서는 키, 실제 몸무게 그리고 표준 몸무게를 알아야 합니다. 표준 몸무게와 BMI를 구하는 공식과 BMI 지수에 따른 비만도 측정 결과는 아래와 같습니다.<br>\n",
        "\n",
        "---\n",
        "\n",
        "BMI 지수= 몸무게(kg) / (키(m) * 키(m))<br>\n",
        "\n",
        "저체중: 18.5 미만<br>\n",
        "정상: 18.5\\~22.9<br>\n",
        "과체중: 23\\~24.9<br>\n",
        "경도 비만: 25\\~29.9<br>\n",
        "고도 비만: 30 이상\n",
        "\n",
        "---\n",
        "\n",
        "예를 들어 키가 185cm이고 몸무게가 80kg이라면 BMI 지수는 24.7이 됩니다. 다음과 같이 키, 몸무게를 차례대로 입력했을 때 BMI 지수에 따른 비만도 판정 결과를 알려주는 코드를 작성하세요.\n",
        "실행결과\n",
        "```\n",
        "185 80\n",
        "BMI 지수는 23.37472607742878 이고 과체중입니다\n",
        "\n",
        "170 64\n",
        "BMI 지수는 22.145328719723185 이고 정상 체중입니다\n",
        "```"
      ],
      "metadata": {
        "id": "Uq7DZQdZVG21"
      }
    },
    {
      "cell_type": "code",
      "source": [
        "height = int(input(\"키를 입력하세요. \")) / 100\n",
        "weight = int(input(\"몸무게를 입력하세요\"))\n",
        "\n",
        "bmi = weight / (height * height)\n",
        "if bmi < 18.5:\n",
        "  print(f\"BMI 지수는 {bmi}이고 저체중 입니다.\")\n",
        "elif 18.5 <=  bmi <= 22.9:\n",
        "  print(f\"BMI 지수는 {bmi}이고 정상체중 입니다.\")\n",
        "elif 23 <=  bmi <= 24.9:\n",
        "  print(f\"BMI 지수는 {bmi}이고 과체중 입니다.\")\n",
        "elif 25 <=  bmi <= 29.9:\n",
        "  print(f\"BMI 지수는 {bmi}이고 경도비만 입니다.\")\n",
        "elif bmi >= 30:\n",
        "  print(f\"BMI 지수는 {bmi}이고 고도비만 입니다.\")"
      ],
      "metadata": {
        "colab": {
          "base_uri": "https://localhost:8080/"
        },
        "id": "WuV5VS6yalTF",
        "outputId": "d6fac2e0-e1cd-4c43-9f20-0a013bce2aab"
      },
      "execution_count": null,
      "outputs": [
        {
          "output_type": "stream",
          "name": "stdout",
          "text": [
            "키를 입력하세요. 168\n",
            "몸무게를 입력하세요64\n",
            "BMI 지수는 22.67573696145125이고 정상체중 입니다.\n"
          ]
        }
      ]
    },
    {
      "cell_type": "markdown",
      "source": [
        "## 48. 삼각형 만들기\n",
        "삼각형은 세 개의 직선으로 만들어집니다. 하지만 삼각형이 만들어지려면 아래와 같은 조건을 만족해야 합니다. 세 개의 직선 길이가 입력으로 주어진다면 삼각형을 만들 수 있는지 아닌지를 판단하는 코드를 작성하세요.<br>\n",
        "![이미지](data:image/png;base64,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)\n",
        "실행결과\n",
        "```\n",
        "3 2 4\n",
        "삼각형 가능\n",
        "\n",
        "5 9 3\n",
        "삼각형 불가\n",
        "```"
      ],
      "metadata": {
        "id": "a3BSR0KNWKWA"
      }
    },
    {
      "cell_type": "code",
      "source": [
        "a, b, c = map(int, input().split())\n",
        "triangle = sorted([a,b,c])\n",
        "if triangle[0] + triangle[1] > triangle[2]:\n",
        "  print(\"삼각형 가능\")\n",
        "else:\n",
        "  print(\"삼각형 불가\")"
      ],
      "metadata": {
        "colab": {
          "base_uri": "https://localhost:8080/"
        },
        "id": "jPfbjS8nfn85",
        "outputId": "9b4b77b7-2456-436f-b7d5-15c1619a9f6d"
      },
      "execution_count": null,
      "outputs": [
        {
          "output_type": "stream",
          "name": "stdout",
          "text": [
            "5 9 3\n",
            "삼각형 불가\n"
          ]
        }
      ]
    },
    {
      "cell_type": "markdown",
      "source": [
        "# 빛의 속도로 일을 처리하기 - 반복문\n"
      ],
      "metadata": {
        "id": "BmSpeF9DKnX6"
      }
    },
    {
      "cell_type": "markdown",
      "source": [
        "## 49 로켓 발사 I\n",
        "다음과 같이 1부터 10까지 출력하고 \"발사!\"라고 출력하는 코드를 for 반복문을 사용해 작성하세요.\n",
        "\n",
        "실행결과\n",
        "```\n",
        "1\n",
        "2\n",
        "3\n",
        "4\n",
        "5\n",
        "6\n",
        "7\n",
        "8\n",
        "9\n",
        "10\n",
        "발사!\n",
        "```"
      ],
      "metadata": {
        "id": "xX4o7ppmKrSC"
      }
    },
    {
      "cell_type": "code",
      "source": [
        "for i in range(1, 12):\n",
        "  if i < 11:\n",
        "    print(i)\n",
        "  else:\n",
        "    print(\"발사!\")"
      ],
      "metadata": {
        "id": "aeLVYq7OK29f",
        "colab": {
          "base_uri": "https://localhost:8080/"
        },
        "outputId": "da9d0cf0-10bf-4ee8-97c1-f9a790f98959"
      },
      "execution_count": null,
      "outputs": [
        {
          "output_type": "stream",
          "name": "stdout",
          "text": [
            "1\n",
            "2\n",
            "3\n",
            "4\n",
            "5\n",
            "6\n",
            "7\n",
            "8\n",
            "9\n",
            "10\n",
            "발사!\n"
          ]
        }
      ]
    },
    {
      "cell_type": "markdown",
      "source": [
        "## 50 로켓 발사 II\n",
        "다음과 같이 1부터 10까지 출력하고 \"발사!\"라고 출력하는 코드를 while 반복문을 사용해 작성하세요.\n",
        "\n",
        "실행결과\n",
        "```\n",
        "1\n",
        "2\n",
        "3\n",
        "4\n",
        "5\n",
        "6\n",
        "7\n",
        "8\n",
        "9\n",
        "10\n",
        "발사!\n",
        "```"
      ],
      "metadata": {
        "id": "Y1fkGZcrK3br"
      }
    },
    {
      "cell_type": "code",
      "source": [
        "i = 0\n",
        "while i < 12:\n",
        "  if i < 11:\n",
        "    print(i)\n",
        "    i += 1\n",
        "  else:\n",
        "    print(\"발사!\")\n",
        "    break"
      ],
      "metadata": {
        "id": "Bx6U4GAmLGot",
        "colab": {
          "base_uri": "https://localhost:8080/"
        },
        "outputId": "384543db-9891-4cde-b8d6-f82f3faf0489"
      },
      "execution_count": null,
      "outputs": [
        {
          "output_type": "stream",
          "name": "stdout",
          "text": [
            "0\n",
            "1\n",
            "2\n",
            "3\n",
            "4\n",
            "5\n",
            "6\n",
            "7\n",
            "8\n",
            "9\n",
            "10\n",
            "발사\n"
          ]
        }
      ]
    },
    {
      "cell_type": "markdown",
      "source": [
        "## 51 로켓 발사 10초 전\n",
        "다음과 같이 숫자를 입력받아 1까지 카운트다운하고 마지막에 “발사!”라고 출력하는 코드를 for 반복문을 사용해 작성하세요.\n",
        "\n",
        "\n",
        "```\n",
        "카운트다운 몇 초 전인가요?10\n",
        "10\n",
        "9\n",
        "8\n",
        "7\n",
        "6\n",
        "5\n",
        "4\n",
        "3\n",
        "2\n",
        "1\n",
        "발사!\n",
        "```"
      ],
      "metadata": {
        "id": "oSY2FiOTLJ67"
      }
    },
    {
      "cell_type": "code",
      "source": [
        "count = int(input(\"카운트다운 몇 초 전인가요? \"))\n",
        "\n",
        "for i in range(count+1,0,-1):\n",
        "  if i > 1:\n",
        "    print(i-1)\n",
        "  else:\n",
        "    print(\"발사!\")\n",
        "\n"
      ],
      "metadata": {
        "id": "GZN193KULSAL",
        "colab": {
          "base_uri": "https://localhost:8080/"
        },
        "outputId": "d1bd2c4a-7d8c-419d-e489-65715e42463e"
      },
      "execution_count": null,
      "outputs": [
        {
          "output_type": "stream",
          "name": "stdout",
          "text": [
            "카운트다운 몇 초 전인가요? 10\n",
            "10\n",
            "9\n",
            "8\n",
            "7\n",
            "6\n",
            "5\n",
            "4\n",
            "3\n",
            "2\n",
            "1\n",
            "발사\n"
          ]
        }
      ]
    },
    {
      "cell_type": "markdown",
      "source": [
        "## 52 1부터 100까지 모두 합한 수 I\n",
        "다음과 같이 1보다 같거나 큰 숫자를 입력받은 뒤 1부터 입력받은 숫자까지의 합을 구하는 코드를 for 반복문을 사용해 작성하세요.\n",
        "\n",
        "실행결과\n",
        "```\n",
        "10\n",
        "1부터 10 까지 모두 더한 합은 55\n",
        "```"
      ],
      "metadata": {
        "id": "jxJtbcTVLSUq"
      }
    },
    {
      "cell_type": "code",
      "source": [
        "num = int(input())\n",
        "result = 0\n",
        "for i in range(1, num+1):\n",
        "  result += i\n",
        "print(f\"1부터 {num} 까지 모두 더한 합은: \", result)"
      ],
      "metadata": {
        "id": "4qH2zryNLcEr",
        "colab": {
          "base_uri": "https://localhost:8080/"
        },
        "outputId": "0ac9e0f6-c110-45e2-cddf-b6847f9393a7"
      },
      "execution_count": null,
      "outputs": [
        {
          "output_type": "stream",
          "name": "stdout",
          "text": [
            "100\n",
            "1부터 100 까지 모두 더한 합은:  5050\n"
          ]
        }
      ]
    },
    {
      "cell_type": "markdown",
      "source": [
        "## 53: 1부터 100까지 모두 합한 수 II\n",
        "다음과 같이 1보다 같거나 큰 수를 입력받고 1부터 입력받은 수까지의 합을 구하는 코드를 while 반복문을 사용해 코드를 작성하세요\n",
        "\n",
        "실행결과\n",
        "```\n",
        "# 입력\n",
        "10\n",
        "# 출력\n",
        "1부터 10 까지 모두 더한 합은 55\n",
        "```"
      ],
      "metadata": {
        "id": "NhRmenQ5LcbL"
      }
    },
    {
      "cell_type": "code",
      "source": [
        "num = int(input())\n",
        "\n",
        "i = 1\n",
        "result = 0\n",
        "while i < num+1:\n",
        "  result += i\n",
        "  i += 1\n",
        "print(f\"1부터 {num}까지 모두 더한 합은: \", result)\n"
      ],
      "metadata": {
        "id": "LCF60zQkLnwD",
        "colab": {
          "base_uri": "https://localhost:8080/"
        },
        "outputId": "d337a5bf-4875-4d67-b31b-2b63a66ba5e3"
      },
      "execution_count": null,
      "outputs": [
        {
          "output_type": "stream",
          "name": "stdout",
          "text": [
            "100\n",
            "1부터 100까지 모두 더한 합은:  5050\n"
          ]
        }
      ]
    },
    {
      "cell_type": "markdown",
      "source": [
        "## 54 음수가 나올 때까지 반복하기\n",
        "다음과 같이 입력된 숫자가 0보다 같거나 큰 숫자이면 입력된 숫자를 출력하도록 반복하고, 음수가 입력되면 프로그램을 종료하는 코드를 while 반복문을 사용해 작성하세요.\n",
        "\n",
        "실행결과\n",
        "```\n",
        "숫자를 입력하세요 10\n",
        "입력된 숫자는 10\n",
        "숫자를 입력하세요 7\n",
        "입력된 숫자는 7\n",
        "숫자를 입력하세요 100\n",
        "입력된 숫자는 100\n",
        "숫자를 입력하세요 -1\n",
        "종료합니다\n",
        "```"
      ],
      "metadata": {
        "id": "09xjWpVqLoJz"
      }
    },
    {
      "cell_type": "code",
      "source": [
        "while True:\n",
        "  num = int(input(\"숫자를 입력하세요: \"))\n",
        "  if num >=0:\n",
        "    print(\"입력된 숫자는 \", num)\n",
        "  else:\n",
        "    print(\"종료합니다.\")\n",
        "    break\n"
      ],
      "metadata": {
        "id": "dfGYhaX6Lz6F",
        "colab": {
          "base_uri": "https://localhost:8080/"
        },
        "outputId": "263814d4-cc87-4168-9449-12dc4cdbea46"
      },
      "execution_count": null,
      "outputs": [
        {
          "output_type": "stream",
          "name": "stdout",
          "text": [
            "숫자를 입력하세요: 10\n",
            "입력된 숫자는  10\n",
            "숫자를 입력하세요: -1\n",
            "종료합니다.\n"
          ]
        }
      ]
    },
    {
      "cell_type": "markdown",
      "source": [
        "## 55 옆으로 출력하기\n",
        "\n",
        "다음과 같이 1부터 10까지 공백을 포함해서 한 줄로 출력하는 코드를 작성하세요.\n",
        "\n",
        "실행결과\n",
        "```\n",
        "1 2 3 4 5 6 7 8 9 10\n",
        "```"
      ],
      "metadata": {
        "id": "bL_fec51L0P9"
      }
    },
    {
      "cell_type": "code",
      "source": [
        "for i in range(1, 11):\n",
        "  print(i, end=\" \")"
      ],
      "metadata": {
        "id": "bV6fgwIwL9J6",
        "colab": {
          "base_uri": "https://localhost:8080/"
        },
        "outputId": "96bf1b86-aeeb-4d85-d753-5011ad5e2139"
      },
      "execution_count": null,
      "outputs": [
        {
          "output_type": "stream",
          "name": "stdout",
          "text": [
            "1 2 3 4 5 6 7 8 9 10 "
          ]
        }
      ]
    },
    {
      "cell_type": "markdown",
      "source": [
        "## 56 “1+2+3+4+5= 15”\n",
        "\n",
        "다음과 같이 양의 정수 두 개를 입력받아 첫 번째 입력받은 숫자부터 두 번째 입력받은 숫자까지의 합을 구하는 코드를 작성하세요. 단, 두 번째 숫자는 첫 번째 숫자보다 큰 숫자를 입력해야 합니다.\n",
        "\n",
        "실행결과\n",
        "```\n",
        "첫 번째 숫자를 입력하세요1\n",
        "두 번째 숫자를 입력하세요10\n",
        "1+2+3+4+5+6+7+8+9+10= 55\n",
        "```"
      ],
      "metadata": {
        "id": "bhDKfETKL9mr"
      }
    },
    {
      "cell_type": "code",
      "source": [
        "while True:\n",
        "  num1 = int(input(\"첫 번째 숫자를 입력하세요 \"))\n",
        "  num2 = int(input(\"두 번째 숫자를 입력하세요 \"))\n",
        "\n",
        "  if num1 < num2:\n",
        "    hap = 0\n",
        "    for index, i in enumerate(range(num1, num2+1)):\n",
        "      hap += i\n",
        "      if index == 0:\n",
        "        print(i,  end=\"\")\n",
        "      else:\n",
        "        print(f\"+{i}\", end=\"\")\n",
        "    print(\" = \", hap)\n",
        "    break\n",
        "  else:\n",
        "    print(\"첫 번째 숫자는 두 번째 숫자보다 작아야 합니다. 다시 입력해주세요.\")\n"
      ],
      "metadata": {
        "id": "mjzOKZYzMO6z",
        "colab": {
          "base_uri": "https://localhost:8080/"
        },
        "outputId": "452ccf36-e56e-4898-cc1b-0afd94e4a07a"
      },
      "execution_count": null,
      "outputs": [
        {
          "output_type": "stream",
          "name": "stdout",
          "text": [
            "첫 번째 숫자를 입력하세요 1\n",
            "두 번째 숫자를 입력하세요 10\n",
            "1+2+3+4+5+6+7+8+9+10 =  55\n"
          ]
        }
      ]
    },
    {
      "cell_type": "markdown",
      "source": [
        "## 57 짝수들만 합하기\n",
        "\n",
        "다음과 같이 양의 정수 두 개를 입력받아 첫 번째 입력받은 숫자부터 두 번째 입력받은 숫자까지 짝수 들만의 합을 구하는 코드를 작성하세요. 단, 두 번째 숫자는 첫 번째 숫자보다 큰 숫자를 입력해야 합니다.\n",
        "\n",
        "실행결과\n",
        "```\n",
        "첫 번째 숫자를 입력하세요1\n",
        "두 번째 숫자를 입력하세요10\n",
        "1부터 10까지 짝수들만의 합은 30\n",
        "```\n"
      ],
      "metadata": {
        "id": "tW7B_gRvMP3s"
      }
    },
    {
      "cell_type": "code",
      "source": [
        "while True:\n",
        "  num1 = int(input(\"첫 번째 숫자를 입력하세요 \"))\n",
        "  num2 = int(input(\"두 번째 숫자를 입력하세요 \"))\n",
        "\n",
        "  if num1 < num2:\n",
        "    hap = 0\n",
        "    for i in range(num1, num2+1):\n",
        "      if i % 2 == 0:\n",
        "        hap += i\n",
        "    print(f\"{num1}부터 {num2}까지 짝수들만의 합은 \", hap)\n",
        "    break\n",
        "  else:\n",
        "    print(\"첫 번째 숫자는 두 번째 숫자보다 작아야 합니다. 다시 입력해주세요.\")\n",
        "    print()"
      ],
      "metadata": {
        "id": "iI_CO2PiMahM",
        "colab": {
          "base_uri": "https://localhost:8080/"
        },
        "outputId": "8d2fe197-cde4-488a-beeb-e52b893d7f1d"
      },
      "execution_count": null,
      "outputs": [
        {
          "output_type": "stream",
          "name": "stdout",
          "text": [
            "첫 번째 숫자를 입력하세요 5\n",
            "두 번째 숫자를 입력하세요 3\n",
            "첫 번째 숫자는 두 번째 숫자보다 작아야 합니다. 다시 입력해주세요.\n",
            "\n",
            "첫 번째 숫자를 입력하세요 1\n",
            "두 번째 숫자를 입력하세요 7\n",
            "1부터 7까지 짝수들만의 합은  12\n"
          ]
        }
      ]
    },
    {
      "cell_type": "markdown",
      "source": [
        "## 58 독특한 삼각뿔 주사위, 이중 반복문\n",
        "\n",
        "1부터 4까지 숫자가 적힌 정삼각뿔 모양 주사위와 4부터 7까지 숫자가 적힌 삼각뿔 모양 주사위가 있습니다. 삼각뿔 주사위를 던져서 나온 숫자는 밑면에 적힌 숫자로 정합니다. 두 주사위를 순서대로 던졌을 때 나올 수 있는 숫자와 두 주사위의 합, 그리고 두 주사위를 던져서 나올 수 있는 가능한 눈의 경우의 수를 다음과 같이 출력하는 코드를 작성하세요.\n",
        "\n",
        "![image57.png](data:image/png;base64,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)"
      ],
      "metadata": {
        "id": "GP1F2rvTMa6j"
      }
    },
    {
      "cell_type": "code",
      "source": [],
      "metadata": {
        "id": "Gh8BT4dYMqZL"
      },
      "execution_count": null,
      "outputs": []
    },
    {
      "cell_type": "markdown",
      "source": [
        "## 59: RGB로 색깔 표현하기\n",
        "\n",
        "컴퓨터에서는 색깔을 표현하기 위해서 RGB를 사용합니다. R은 RED 빨간색, G 는 GREEN 초록색, B는 BLUE 파란색입니다. RGB는 빨간색, 초록색, 파란색 각각 256개의 색으로 분류할 수 있습니다. 예를 들어, 빨간색은 아주 옅은 빨간색부터 아주 짙은 빨간색까지 256개로 나뉩니다. 이와 같을 때 컴퓨터에서 사용 가능한 색깔은 모두 몇 가지인지를 구하는 코드를 작성하세요.\n",
        "\n",
        "실행 결과\n",
        "```\n",
        "가능한 색깔 개수는 16777216\n",
        "```"
      ],
      "metadata": {
        "id": "SJ13cRwyMrIr"
      }
    },
    {
      "cell_type": "markdown",
      "source": [
        "## 60: 사각형 별 찍기\n",
        "다음과 같이 *를 출력하는 코드를 for 반복문을 사용해 작성하세요\n",
        "\n",
        "실행결과\n",
        "```\n",
        "****\n",
        "****\n",
        "****\n",
        "****\n",
        "```"
      ],
      "metadata": {
        "id": "dM2Hs176M2RL"
      }
    },
    {
      "cell_type": "code",
      "source": [],
      "metadata": {
        "id": "ZQrh2xE5M-Pz"
      },
      "execution_count": null,
      "outputs": []
    },
    {
      "cell_type": "markdown",
      "source": [
        "## 61: 삼각형 별 찍기 I\n",
        "다음과 같이 *를 출력하는 코드를 for 반복문을 사용해 작성하세요. 이중 for 반복문을 사용해서 코드를 작성하세요.\n",
        "\n",
        "실행결과\n",
        "```\n",
        "*\n",
        "**\n",
        "***\n",
        "****\n",
        "*****\n",
        "```"
      ],
      "metadata": {
        "id": "iIpVGO8aM-qy"
      }
    },
    {
      "cell_type": "code",
      "source": [],
      "metadata": {
        "id": "kBEhcH8DNH0z"
      },
      "execution_count": null,
      "outputs": []
    },
    {
      "cell_type": "markdown",
      "source": [
        "## 62 대각선 별 찍기\n",
        "\n",
        "다음과 같이 *를 출력하는 코드를 for 반복문을 사용해 작성하세요.\n",
        "\n",
        "실행결과\n",
        "```\n",
        "*\n",
        " *\n",
        "  *\n",
        "   *\n",
        "    *\n",
        "```"
      ],
      "metadata": {
        "id": "sYAu63WdNKpr"
      }
    },
    {
      "cell_type": "code",
      "source": [],
      "metadata": {
        "id": "pAOoEsXkNUOs"
      },
      "execution_count": null,
      "outputs": []
    },
    {
      "cell_type": "markdown",
      "source": [
        "## 63 삼각형 별 찍기 II\n",
        "다음과 같이 *를 출력하는 코드를 이중 for 반복문을 사용해 작성하세요.\n",
        "\n",
        "실행결과\n",
        "```\n",
        "*****\n",
        "****\n",
        "***\n",
        "**\n",
        "*\n",
        "```"
      ],
      "metadata": {
        "id": "R76eE8DiNUqK"
      }
    },
    {
      "cell_type": "code",
      "source": [],
      "metadata": {
        "id": "NuX_ZbhRNfj8"
      },
      "execution_count": null,
      "outputs": []
    },
    {
      "cell_type": "markdown",
      "source": [
        "## 64 삼각형 별 찍기 III\n",
        "다음과 같이 *를 출력하는 코드를 for 반복문을 사용해 작성하세요\n",
        "\n",
        "실행결과\n",
        "```\n",
        "  *\n",
        " ***\n",
        "*****\n",
        "```"
      ],
      "metadata": {
        "id": "4as4uCH8Nf8z"
      }
    },
    {
      "cell_type": "code",
      "source": [],
      "metadata": {
        "id": "0eqW7SXSNpZL"
      },
      "execution_count": null,
      "outputs": []
    },
    {
      "cell_type": "markdown",
      "source": [
        "## 65 X 모양 별 찍기\n",
        "다음과 같이 *를 출력하는 코드를 for 반복문을 사용해 작성하세요.\n",
        "\n",
        "실행결과\n",
        "```\n",
        "*         *\n",
        " *       *\n",
        "  *     *\n",
        "   *  *\n",
        "    **\n",
        "    **\n",
        "   *  *\n",
        "  *     *\n",
        " *       *\n",
        "*         *\n",
        "```"
      ],
      "metadata": {
        "id": "xbfgKYNENrVV"
      }
    },
    {
      "cell_type": "code",
      "source": [],
      "metadata": {
        "id": "IjZQkWjLN3HM"
      },
      "execution_count": null,
      "outputs": []
    },
    {
      "cell_type": "markdown",
      "source": [
        "## 66: for 반복문과 문자열의 만남\n",
        "다음과 같이 문자열을 입력받아서 문자열에 포함된 문자 중에서 'a' 문자는 제외하고 출력하는 코드를 작성하세요.\n",
        "\n",
        "실행결과\n",
        "```\n",
        "하나의 문자열을 입력하세요:apple makit woojin james sieun\n",
        "pple mkit woojin jmes sieu\n",
        "```"
      ],
      "metadata": {
        "id": "IbK3w6QfN3rD"
      }
    },
    {
      "cell_type": "code",
      "source": [
        "sentense = input(\"하나의 문자열을 입력하세요: \")\n",
        "\n",
        "result = \"\"\n",
        "for char in sentense:\n",
        "  if char == 'a':\n",
        "    continue\n",
        "  else:\n",
        "    result += char\n",
        "\n",
        "print(result)\n"
      ],
      "metadata": {
        "id": "bhOUJtkZOByF",
        "colab": {
          "base_uri": "https://localhost:8080/"
        },
        "outputId": "fbe7417a-d66b-4f91-efb3-ac9feedd76b6"
      },
      "execution_count": null,
      "outputs": [
        {
          "output_type": "stream",
          "name": "stdout",
          "text": [
            "하나의 문자열을 입력하세요: apple makit woojin james sieun\n",
            "pple mkit woojin jmes sieun\n"
          ]
        }
      ]
    },
    {
      "cell_type": "markdown",
      "source": [
        "## 67 for 반복문과 리스트의 만남\n",
        "내 친구 이름 명단이 있는 리스트를 활용해 다음과 같이 1번부터 번호를 생성해 친구를 소개하는 문구를 출력하는 코드를 작성하세요.\n",
        "\n",
        "실행결과\n",
        "```\n",
        "1 번 친구 우진 을 소개합니다.\n",
        "2 번 친구 시은 을 소개합니다.\n",
        "3 번 친구 메이킷 을 소개합니다.\n",
        "4 번 친구 지연 을 소개합니다.\n",
        "5 번 친구 지훈 을 소개합니다.\n",
        "```"
      ],
      "metadata": {
        "id": "g4kS1vlbOCOt"
      }
    },
    {
      "cell_type": "code",
      "source": [
        "names = ['우진','시은','메이킷','지연','지훈']\n",
        "\n",
        "for num, name in enumerate(names):\n",
        "  num += 1\n",
        "  print(f\"{num}번 친구 {name}을 소개합니다.\")"
      ],
      "metadata": {
        "id": "xNakxK3COLQ8",
        "colab": {
          "base_uri": "https://localhost:8080/"
        },
        "outputId": "c3d91503-106f-4cc4-8a7e-c9edcf0dfa11"
      },
      "execution_count": null,
      "outputs": [
        {
          "output_type": "stream",
          "name": "stdout",
          "text": [
            "1번 친구 우진을 소개합니다.\n",
            "2번 친구 시은을 소개합니다.\n",
            "3번 친구 메이킷을 소개합니다.\n",
            "4번 친구 지연을 소개합니다.\n",
            "5번 친구 지훈을 소개합니다.\n"
          ]
        }
      ]
    },
    {
      "cell_type": "markdown",
      "source": [
        "## 68 다음 반복문으로 바로가기(continue)\n",
        "다음과 같이 1부터 30까지 출력하되 5의 배수는 출력하지 않도록 코드를 작성하세요.\n",
        "\n",
        "실험결과\n",
        "```\n",
        "1 2 3 4 6 7 8 9 11 12 13 14 16 17 18 19 21 22 23 24 26 27 28 29\n",
        "```"
      ],
      "metadata": {
        "id": "Y0zpMFxoOL1b"
      }
    },
    {
      "cell_type": "code",
      "source": [
        "for i in range(1, 31):\n",
        "  if i % 5 == 0:\n",
        "    continue\n",
        "  else:\n",
        "    print(i, end=\" \")"
      ],
      "metadata": {
        "id": "Lti0C8TQOU7U",
        "colab": {
          "base_uri": "https://localhost:8080/"
        },
        "outputId": "35b61d78-fb7a-4187-9261-7feb222f17fa"
      },
      "execution_count": null,
      "outputs": [
        {
          "output_type": "stream",
          "name": "stdout",
          "text": [
            "1 2 3 4 6 7 8 9 11 12 13 14 16 17 18 19 21 22 23 24 26 27 28 29 "
          ]
        }
      ]
    },
    {
      "cell_type": "markdown",
      "source": [
        "## 069 반복문 깨고 바로 나가기(break)\n",
        "다음과 같이 규칙에 따라 숫자가 나열된 것을 수열이라고 합니다. 3부터 시작해서 5씩 더해지는 수열이 있다면 수열의 100번째 숫자는 무엇인지 구하는 코드를 for 반복문을 사용해서 작성하세요.\n",
        "```\n",
        "3 8 13 18 23 ...\n",
        "```\n",
        "23은 수열의 5번째 숫자입니다."
      ],
      "metadata": {
        "id": "pdEAQad7OVW6"
      }
    },
    {
      "cell_type": "code",
      "source": [
        "i = 1\n",
        "num = 3\n",
        "while True:\n",
        "  print(f\"{i}_\", num, end=\" \")\n",
        "  num += 5\n",
        "  if i == 100:\n",
        "    break\n",
        "  i += 1"
      ],
      "metadata": {
        "id": "BXMGxKNLOc5N",
        "colab": {
          "base_uri": "https://localhost:8080/"
        },
        "outputId": "eab4773a-7a01-4ffc-9592-1604a49403a9"
      },
      "execution_count": null,
      "outputs": [
        {
          "output_type": "stream",
          "name": "stdout",
          "text": [
            "1_ 3 2_ 8 3_ 13 4_ 18 5_ 23 6_ 28 7_ 33 8_ 38 9_ 43 10_ 48 11_ 53 12_ 58 13_ 63 14_ 68 15_ 73 16_ 78 17_ 83 18_ 88 19_ 93 20_ 98 21_ 103 22_ 108 23_ 113 24_ 118 25_ 123 26_ 128 27_ 133 28_ 138 29_ 143 30_ 148 31_ 153 32_ 158 33_ 163 34_ 168 35_ 173 36_ 178 37_ 183 38_ 188 39_ 193 40_ 198 41_ 203 42_ 208 43_ 213 44_ 218 45_ 223 46_ 228 47_ 233 48_ 238 49_ 243 50_ 248 51_ 253 52_ 258 53_ 263 54_ 268 55_ 273 56_ 278 57_ 283 58_ 288 59_ 293 60_ 298 61_ 303 62_ 308 63_ 313 64_ 318 65_ 323 66_ 328 67_ 333 68_ 338 69_ 343 70_ 348 71_ 353 72_ 358 73_ 363 74_ 368 75_ 373 76_ 378 77_ 383 78_ 388 79_ 393 80_ 398 81_ 403 82_ 408 83_ 413 84_ 418 85_ 423 86_ 428 87_ 433 88_ 438 89_ 443 90_ 448 91_ 453 92_ 458 93_ 463 94_ 468 95_ 473 96_ 478 97_ 483 98_ 488 99_ 493 100_ 498 "
          ]
        }
      ]
    },
    {
      "cell_type": "markdown",
      "source": [
        "# 문제 해결 역량 키우기"
      ],
      "metadata": {
        "id": "Dl0qB9ozOkba"
      }
    },
    {
      "cell_type": "markdown",
      "source": [
        "## 70 가장 작은 숫자 찾기\n",
        "세 개의 숫자를 입력받아서 가장 작은 숫자를 출력하는 코드를 작성하세요.\n",
        "\n",
        "입력결과\n",
        "```\n",
        "# 입력\n",
        "7 3 9\n",
        "# 출력\n",
        "3\n",
        "```"
      ],
      "metadata": {
        "id": "Ak3F8WETOl3y"
      }
    },
    {
      "cell_type": "code",
      "source": [
        "num = list(map(int, input().split()))\n",
        "\n",
        "temp = num[0]\n",
        "for i in num:\n",
        "  if temp >= i:\n",
        "    temp = i\n",
        "print(temp)\n"
      ],
      "metadata": {
        "colab": {
          "base_uri": "https://localhost:8080/"
        },
        "id": "fV3koLACufJC",
        "outputId": "1ed69819-7e12-43ea-c469-e1eb2c7ef2d5"
      },
      "execution_count": null,
      "outputs": [
        {
          "output_type": "stream",
          "name": "stdout",
          "text": [
            "13 4567 11 0 5\n",
            "0\n"
          ]
        }
      ]
    },
    {
      "cell_type": "code",
      "source": [
        "num = list(map(int, input().split()))\n",
        "print(min(num))\n"
      ],
      "metadata": {
        "id": "jOgghTX6Ou6r",
        "colab": {
          "base_uri": "https://localhost:8080/"
        },
        "outputId": "55f39b87-9f2b-4744-bd87-448a931e2612"
      },
      "execution_count": null,
      "outputs": [
        {
          "output_type": "stream",
          "name": "stdout",
          "text": [
            "7 3 9\n",
            "3\n"
          ]
        }
      ]
    },
    {
      "cell_type": "markdown",
      "source": [
        "## 71 터널 통과하기 II\n",
        "터널을 통과하는 문제를 풀어 봅시다. 아래 예와 같이 첫 번째 줄에는 자동차의 높이를 입력하고 두 번째 줄에는 터널 3개의 높이를 입력합니다.\n",
        "\n",
        "실행결과\n",
        "```\n",
        "150\n",
        "165 149 155\n",
        "```\n",
        "이는 자동차의 높이는 150cm이고, 자동차가 지나가야 할 터널의 높이는 각각 165cm, 149cm, 155cm라는 뜻입니다.\n",
        "터널 3개의 높이가 하나라도 자동차 높이보다 같거나 낮으면 자동차는 지나갈 수 없습니다. 터널의 높이가 차례대로 3개 주어질 때 자동차가 지나갈 수 있는지 판단해 ‘터널 통과 가능’ 또는 ‘터널 통과 불가능’이라고 출력하고 통과 불가능한 터널의 높이를 모두 출력하는 코드를 작성하세요.\n",
        "\n",
        "실행결과1\n",
        "```\n",
        "# 입력\n",
        "150\n",
        "165 149 155\n",
        "\n",
        "# 출력\n",
        "터널 통과 불가능\n",
        "149\n",
        "```\n",
        "\n",
        "실행결과2\n",
        "```\n",
        "# 입력\n",
        "155\n",
        "170 160 150\n",
        "\n",
        "# 출력\n",
        "터널 통과 불가능\n",
        "150\n",
        "```\n",
        "\n",
        "실행결과3\n",
        "```\n",
        "# 입력\n",
        "160\n",
        "170 140 130\n",
        "\n",
        "# 출력\n",
        "터널 통과 불가능\n",
        "140\n",
        "130\n",
        "```"
      ],
      "metadata": {
        "id": "EpB0FLDhOvWx"
      }
    },
    {
      "cell_type": "code",
      "source": [
        "car_height = int(input(\"자동차의 높이: \"))\n",
        "t_height = list(map(int, input(\"자동차의 높이: \").split()))\n",
        "\n",
        "for t in t_height:\n",
        "  if car_height < t:\n",
        "    continue\n",
        "  else:\n",
        "    print(\"터널 통과 불가능 \", t)"
      ],
      "metadata": {
        "id": "lEep-UF4PMM0",
        "colab": {
          "base_uri": "https://localhost:8080/"
        },
        "outputId": "e0b16793-2ce9-445f-e864-77f2073cfed4"
      },
      "execution_count": null,
      "outputs": [
        {
          "output_type": "stream",
          "name": "stdout",
          "text": [
            "자동차의 높이: 155\n",
            "자동차의 높이: 170 160 150\n",
            "터널 통과 불가능  150\n"
          ]
        }
      ]
    },
    {
      "cell_type": "markdown",
      "source": [
        "## 72 행운의 숫자 7 모두 찾기\n",
        "1부터 1000까지의 숫자 중에서 행운의 숫자 7은 몇 번 사용되었는지 알려주는 코드를 작성하려고 합니다. 예를 들어 1부터 20까지의 숫자 중에서 7은 7과 17에서 두 번 사용했습니다. 또한, 77은 7을 두 번 사용한 것이고 777은 세 번 사용한 것입니다."
      ],
      "metadata": {
        "id": "uI7qBIdhPMkD"
      }
    },
    {
      "cell_type": "code",
      "source": [
        "num1 = int(input(\"첫 번째 숫자를 입력하세요 \"))\n",
        "num2 = int(input(\"두 번째 숫자를 입력하세요 \"))\n",
        "print()\n",
        "\n",
        "count = 0\n",
        "for i in range(num1, num2):\n",
        "  i = str(i)\n",
        "  for j in i:\n",
        "    if j == \"7\":\n",
        "      count += 1\n",
        "print(f\"{num1} 에서 {num2} 까지 7이 {count} 번 사용 되었습니다.\")"
      ],
      "metadata": {
        "id": "SkOS2pXxPQqz",
        "colab": {
          "base_uri": "https://localhost:8080/"
        },
        "outputId": "bef859af-8719-4156-d8b7-a5075a61b08c"
      },
      "execution_count": null,
      "outputs": [
        {
          "output_type": "stream",
          "name": "stdout",
          "text": [
            "첫 번째 숫자를 입력하세요 1\n",
            "두 번째 숫자를 입력하세요 1000\n",
            "\n",
            "1 에서 1000 까지 7이 300 번 사용 되었습니다.\n"
          ]
        }
      ]
    },
    {
      "cell_type": "markdown",
      "source": [
        "## 73 약수 구하기\n",
        "다음과 같이 자연수 n을 입력받아 n의 양의 약수를 오름차순과 내림차순으로 각각 출력하는 코드를 작성하세요.\n",
        "\n",
        "실행결과\n",
        "```\n",
        "# 입력\n",
        "12\n",
        "\n",
        "# 출력\n",
        "1 2 3 4 6 12\n",
        "12 6 4 3 2 1\n",
        "```"
      ],
      "metadata": {
        "id": "gyzcsERvPRRE"
      }
    },
    {
      "cell_type": "code",
      "source": [
        "num = int(input())\n",
        "rev = []\n",
        "for i in range(1, num+1):\n",
        "  if num % i == 0:\n",
        "    print(i, end=\" \")\n",
        "print()\n",
        "for i in range(num, 0,-1):\n",
        "  if num % i == 0:\n",
        "    print(i, end=\" \")"
      ],
      "metadata": {
        "id": "WTGIeNHNPagD",
        "colab": {
          "base_uri": "https://localhost:8080/"
        },
        "outputId": "1c91d19a-eeaf-4582-e549-e6bc538b256b"
      },
      "execution_count": null,
      "outputs": [
        {
          "output_type": "stream",
          "name": "stdout",
          "text": [
            "12\n",
            "1 2 3 4 6 12 \n",
            "12 6 4 3 2 1 "
          ]
        }
      ]
    },
    {
      "cell_type": "markdown",
      "source": [
        "## 74 리스트 최대, 최소, 평균 구하기 I\n",
        "다음과 같이 정수 n개를 입력받아 입력받은 수들 중에서 최댓값, 최솟값, 평균을 출력하는 코드를 작성하세요.\n",
        "\n",
        "실행결과\n",
        "```\n",
        "# 입력\n",
        "# 첫째 줄에 입력되는 정수의 개수 n이 주어집니다.\n",
        "# 둘째 줄에 n개의 정수가 공백으로 구분되어 입력됩니다.\n",
        "5\n",
        "3 2 -20 100 35\n",
        "\n",
        "# 출력\n",
        "리스트 최댓값 100\n",
        "리스트 최솟값 -20\n",
        "리스트 평균값 24.0\n",
        "```"
      ],
      "metadata": {
        "id": "W-qpAF4YPbKL"
      }
    },
    {
      "cell_type": "code",
      "source": [
        "len_num = int(input(\"입력할 숫자 갯수: \"))\n",
        "print()\n",
        "\n",
        "while True:\n",
        "  nums = list(map(int, input(f\"{len_num}개의 숫자를 입력해 주세요\").split()))\n",
        "  if len(nums) == len_num:\n",
        "    print(\"리스트 최대값 \", max(nums))\n",
        "    print(\"리스트 최솟값 \", min(nums))\n",
        "    print(\"리스트 평균값 \", sum(nums)/len(nums))\n",
        "    break\n",
        "  else:\n",
        "    print(\"입력된 숫자의 갯수가 일치하지 않습니다. 다시 입력해 주세요.\")\n",
        "    print()\n",
        "\n",
        "\n",
        "\n"
      ],
      "metadata": {
        "id": "i64g4XhwPlkc",
        "colab": {
          "base_uri": "https://localhost:8080/"
        },
        "outputId": "20a26346-af91-4f0b-e462-b6356d9deb31"
      },
      "execution_count": null,
      "outputs": [
        {
          "output_type": "stream",
          "name": "stdout",
          "text": [
            "입력할 숫자 갯수: 6\n",
            "\n",
            "6개의 숫자를 입력해 주세요1 5\n",
            "입력된 숫자의 갯수가 일치하지 않습니다. 다시 입력해 주세요.\n",
            "\n",
            "6개의 숫자를 입력해 주세요5\n",
            "입력된 숫자의 갯수가 일치하지 않습니다. 다시 입력해 주세요.\n",
            "\n",
            "6개의 숫자를 입력해 주세요1 5 8 6 9 7\n",
            "리스트 최대값  9\n",
            "리스트 최솟값  1\n",
            "리스트 평균값  6.0\n"
          ]
        }
      ]
    },
    {
      "cell_type": "markdown",
      "source": [
        "## 75 리스트 최대, 최소, 평균 구하기 II\n",
        "\n",
        "다음과 같이 정수 n개를 입력받아 최댓값, 최솟값, 평균을 구하고 출력하는 코드를 작성하세요. 단, 내장 함수를 사용하지 말고 작성해 보세요. 첫째 줄에 입력되는 정수의 개수 n이 주어지고 둘째 줄에 n개의 정수가 공백으로 구분되어 입력됩니다.\n",
        "\n",
        "실행결과\n",
        "```\n",
        "# 입력\n",
        "5\n",
        "3 2 -20 100 35\n",
        "\n",
        "# 출력\n",
        "리스트 최댓값 100\n",
        "리스트 최솟값 -20\n",
        "리스트 평균값 24.0\n",
        "```"
      ],
      "metadata": {
        "id": "dlAr95n_PmGr"
      }
    },
    {
      "cell_type": "code",
      "source": [
        "len_num = int(input(\"입력할 숫자 갯수: \"))\n",
        "print()\n",
        "\n",
        "while True:\n",
        "  nums = list(map(int, input(f\"{len_num}개의 숫자를 입력해 주세요\").split()))\n",
        "  if len(nums) == len_num:\n",
        "    # 최대값\n",
        "    temp = nums[0]\n",
        "    for i in nums:\n",
        "      if temp <= i:\n",
        "        temp = i\n",
        "    print(\"리스트 최대값 \", temp)\n",
        "    temp = nums[0]\n",
        "    for i in nums:\n",
        "      if temp >= i:\n",
        "        temp = i\n",
        "    print(\"리스트 최솟값 \", temp)\n",
        "    hap = 0\n",
        "    for i in nums:\n",
        "      hap += i\n",
        "      avg = hap/len(nums)\n",
        "    print(\"리스트 평균값 \", avg)\n",
        "    break\n",
        "  else:\n",
        "    print(\"입력된 숫자의 갯수가 일치하지 않습니다. 다시 입력해 주세요.\")\n",
        "    print()"
      ],
      "metadata": {
        "id": "WWGSLu3BPyUc",
        "colab": {
          "base_uri": "https://localhost:8080/"
        },
        "outputId": "48ef1b37-e26a-4083-a617-d96178122716"
      },
      "execution_count": null,
      "outputs": [
        {
          "output_type": "stream",
          "name": "stdout",
          "text": [
            "입력할 숫자 갯수: 5\n",
            "\n",
            "5개의 숫자를 입력해 주세요3 2 -20 100 35\n",
            "리스트 최대값  100\n",
            "리스트 최솟값  -20\n",
            "리스트 평균값  24.0\n"
          ]
        }
      ]
    },
    {
      "cell_type": "markdown",
      "source": [
        "## 76: 각 자릿수의 합 구하기 I\n",
        "다음과 같이 자연수가 입력되면 자연수의 각 자릿수의 합을 구하는 코드를 작성하세요. 예를 들어 1234가 입력되었다면 각 자릿수의 합은 1+2+3+4 = 10 입니다.\n",
        "\n",
        "실행결과\n",
        "```\n",
        "# 입력\n",
        "1234\n",
        "\n",
        "# 출력\n",
        "10\n",
        "```"
      ],
      "metadata": {
        "id": "2kDkSCifPyuj"
      }
    },
    {
      "cell_type": "code",
      "source": [
        "num = input()\n",
        "hap = 0\n",
        "for i in num:\n",
        "  hap += int(i)\n",
        "print(hap)"
      ],
      "metadata": {
        "id": "te48KtvJP7Tk",
        "colab": {
          "base_uri": "https://localhost:8080/"
        },
        "outputId": "ea199f9e-ed92-4392-ca00-745109ecaae2"
      },
      "execution_count": null,
      "outputs": [
        {
          "output_type": "stream",
          "name": "stdout",
          "text": [
            "1234\n",
            "10\n"
          ]
        }
      ]
    },
    {
      "cell_type": "markdown",
      "source": [
        "## 77 각 자릿수의 합 구하기 II\n",
        "자연수가 입력되면 자연수의 각 자릿수의 합을 구하는 코드를 작성하세요. 예를 들어 1234가 입력되었다면 각 자릿수의 합은 1+2+3+4를 하여 10입니다. 나머지 연산자 %와 몫 연산자 //를 사용해 <문제 76>과는 다른 방법으로 문제를 해결하세요."
      ],
      "metadata": {
        "id": "qbquh6MyP7zd"
      }
    },
    {
      "cell_type": "code",
      "source": [],
      "metadata": {
        "id": "qvyqK27LQBV0"
      },
      "execution_count": null,
      "outputs": []
    },
    {
      "cell_type": "markdown",
      "source": [
        "## 78: 카이사르 암호\n",
        "카이사르의 암호는 알파벳 순서대로 세 글자를 뒤로 밀어서 암호문을 만들고, 세 글자를 앞으로 당겨서 암호를 푸는 방식입니다. 예를 들어 'ABCXYZ'를 카이사르 암호 방식을 사용해 암호화하면 'DEFABC'가 됩니다. 다음과 같이 문자열을 입력받아 카이사르 암호 방식을 사용해 암호문을 생성하고 출력하는 코드를 작성하세요.\n",
        "\n",
        "실행결과\n",
        "```\n",
        "# 입력\n",
        "MAKIT\n",
        "\n",
        "# 출력\n",
        "PDNLW\n",
        "```\n"
      ],
      "metadata": {
        "id": "WQI3Ijr4QByE"
      }
    },
    {
      "cell_type": "code",
      "source": [
        "passwd1 = input()\n",
        "new_pw = \"\"\n",
        "for c in passwd1:\n",
        "  c2n = ord(c)\n",
        "  caesar = c2n+3\n",
        "  new_pw += chr(caesar)\n",
        "print(new_pw)\n"
      ],
      "metadata": {
        "id": "Y3cwbteUQLpU",
        "colab": {
          "base_uri": "https://localhost:8080/"
        },
        "outputId": "e33f439d-03e4-4046-e6ce-5ccf008b8a9f"
      },
      "execution_count": null,
      "outputs": [
        {
          "output_type": "stream",
          "name": "stdout",
          "text": [
            "MAKIT\n",
            "PDNLW\n"
          ]
        }
      ]
    },
    {
      "cell_type": "markdown",
      "source": [
        "## 79: 소문자는 대문자로, 대문자는 소문자로 변환하기\n",
        "다음과 같이 영어 문장을 입력받아 대문자는 소문자로 변환하고, 소문자는 대문자로 변환하는 코드를 작성하세요.\n",
        "\n",
        "실행결과\n",
        "```\n",
        "# 입력\n",
        "Makit Code Lab !!\n",
        "\n",
        "# 출력\n",
        "mAKIT cODE lAB !!\n",
        "```"
      ],
      "metadata": {
        "id": "aFFgwKq-QMGM"
      }
    },
    {
      "cell_type": "code",
      "source": [
        "# 영문 대문자는 65 ~ 90, 영문 소문자는 97 ~ 122\n",
        "# 영문 소문자에서 32를 빼면 영문 대문자가 된다.\n",
        "sen = input()\n",
        "sen2 = \"\"\n",
        "for c in sen:\n",
        "  ascii = ord(c)\n",
        "  if 65 <= ascii <= 90:\n",
        "    up = ascii + 32\n",
        "    sen2 += chr(up)\n",
        "  elif 97 <= ascii <= 122:\n",
        "    low = ascii -32\n",
        "    sen2 += chr(low)\n",
        "  else:\n",
        "    sen2 += c\n",
        "\n",
        "print(sen2)"
      ],
      "metadata": {
        "id": "JoVzIMatQTBE",
        "colab": {
          "base_uri": "https://localhost:8080/"
        },
        "outputId": "ad35895d-bbb8-4cd7-9c70-cf493e230956"
      },
      "execution_count": null,
      "outputs": [
        {
          "output_type": "stream",
          "name": "stdout",
          "text": [
            "Makit Code Lab !!\n",
            "mAKIT cODE lAB !!\n"
          ]
        }
      ]
    }
  ]
}