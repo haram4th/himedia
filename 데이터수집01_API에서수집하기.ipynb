{
 "cells": [
  {
   "cell_type": "code",
   "execution_count": 80,
   "id": "92a9cc2c",
   "metadata": {},
   "outputs": [],
   "source": [
    "import os\n",
    "import sys\n",
    "import urllib.request\n",
    "import json"
   ]
  },
  {
   "cell_type": "code",
   "execution_count": 111,
   "id": "ff4c2279",
   "metadata": {
    "scrolled": false
   },
   "outputs": [
    {
     "name": "stdout",
     "output_type": "stream",
     "text": [
      "https://openapi.naver.com/v1/search/book.json?query=%ED%8C%8C%EC%9D%B4%EC%8D%AC&display=100&start=1&sort=sim\n",
      "https://openapi.naver.com/v1/search/book.json?query=%ED%8C%8C%EC%9D%B4%EC%8D%AC&display=100&start=101&sort=sim\n",
      "https://openapi.naver.com/v1/search/book.json?query=%ED%8C%8C%EC%9D%B4%EC%8D%AC&display=100&start=201&sort=sim\n",
      "https://openapi.naver.com/v1/search/book.json?query=%ED%8C%8C%EC%9D%B4%EC%8D%AC&display=100&start=301&sort=sim\n",
      "https://openapi.naver.com/v1/search/book.json?query=%ED%8C%8C%EC%9D%B4%EC%8D%AC&display=100&start=401&sort=sim\n",
      "https://openapi.naver.com/v1/search/book.json?query=%ED%8C%8C%EC%9D%B4%EC%8D%AC&display=100&start=501&sort=sim\n",
      "https://openapi.naver.com/v1/search/book.json?query=%ED%8C%8C%EC%9D%B4%EC%8D%AC&display=100&start=601&sort=sim\n",
      "https://openapi.naver.com/v1/search/book.json?query=%ED%8C%8C%EC%9D%B4%EC%8D%AC&display=100&start=701&sort=sim\n",
      "https://openapi.naver.com/v1/search/book.json?query=%ED%8C%8C%EC%9D%B4%EC%8D%AC&display=100&start=801&sort=sim\n",
      "https://openapi.naver.com/v1/search/book.json?query=%ED%8C%8C%EC%9D%B4%EC%8D%AC&display=100&start=901&sort=sim\n"
     ]
    }
   ],
   "source": [
    "page = 1\n",
    "start_num = 1\n",
    "n_item = 100\n",
    "books_list = []\n",
    "while True:\n",
    "    client_id = \"1GkPFB7XDhB3BffQ8td0\"  # api id\n",
    "    client_secret = \"pmoPS8ZFCx\"        # api password\n",
    "    encText = urllib.parse.quote(\"파이썬\")   # 검색어\n",
    "    url = \"https://openapi.naver.com/v1/search/book.json?query=\" + encText # url 주소\n",
    "    url += f\"&display={n_item}&start={start_num}&sort=sim\" # 1페이지에 출력할 결과 수(n_item), 결과 시작 번호(page)\n",
    "    print(url)\n",
    "    # url = \"https://openapi.naver.com/v1/search/blog.xml?query=\" + encText # XML 결과\n",
    "    request = urllib.request.Request(url)\n",
    "    request.add_header(\"X-Naver-Client-Id\",client_id)\n",
    "    request.add_header(\"X-Naver-Client-Secret\",client_secret)\n",
    "    response = urllib.request.urlopen(request)  # url, id, pw 를 종합해서 서버에 결과 요청\n",
    "    rescode = response.getcode() # 서버 응답 코드 받기\n",
    "    if(rescode==200):\n",
    "        response_body = response.read()\n",
    "    #     print(response_body.decode('utf-8'))\n",
    "    else:\n",
    "        print(\"Error Code:\" + rescode)\n",
    "    data = response_body.decode('utf-8')\n",
    "    data = json.loads(data)\n",
    "    total_page = data['total'] // n_item + 1  # 923 // 100 = 9, 23    , total_page: 10\n",
    "    books_list.append(data)\n",
    "\n",
    "    if page == total_page:\n",
    "        break\n",
    "\n",
    "    page += 1\n",
    "    start_num += 100\n"
   ]
  },
  {
   "cell_type": "code",
   "execution_count": 119,
   "id": "501b321f",
   "metadata": {},
   "outputs": [
    {
     "data": {
      "text/plain": [
       "dict_keys(['lastBuildDate', 'total', 'start', 'display', 'items'])"
      ]
     },
     "execution_count": 119,
     "metadata": {},
     "output_type": "execute_result"
    }
   ],
   "source": [
    "books_list[0].keys()"
   ]
  },
  {
   "cell_type": "code",
   "execution_count": 127,
   "id": "edd03575",
   "metadata": {},
   "outputs": [],
   "source": [
    "books = []\n",
    "for i in books_list: # 100개씩 수집된 자료를 i에 저장\n",
    "    for j in i['items']:   # items에 있는 100개의 자료를 j에 한개 씩 꺼내 담음\n",
    "        books.append(j.values())  # .values()로 j에 있는 책 정보 값을 모두 꺼내서 books에 append\n"
   ]
  },
  {
   "cell_type": "code",
   "execution_count": 128,
   "id": "60553f96",
   "metadata": {},
   "outputs": [
    {
     "data": {
      "text/plain": [
       "923"
      ]
     },
     "execution_count": 128,
     "metadata": {},
     "output_type": "execute_result"
    }
   ],
   "source": [
    "len(books)"
   ]
  },
  {
   "cell_type": "code",
   "execution_count": 129,
   "id": "63177d87",
   "metadata": {},
   "outputs": [],
   "source": [
    "col_names = list(data['items'][0].keys())"
   ]
  },
  {
   "cell_type": "code",
   "execution_count": 130,
   "id": "79698c3e",
   "metadata": {},
   "outputs": [
    {
     "data": {
      "text/plain": [
       "dict_keys(['title', 'link', 'image', 'author', 'discount', 'publisher', 'pubdate', 'isbn', 'description'])"
      ]
     },
     "execution_count": 130,
     "metadata": {},
     "output_type": "execute_result"
    }
   ],
   "source": [
    "data['items'][0].keys()"
   ]
  },
  {
   "cell_type": "code",
   "execution_count": 131,
   "id": "3edc9780",
   "metadata": {},
   "outputs": [],
   "source": [
    "import pandas as pd"
   ]
  },
  {
   "cell_type": "code",
   "execution_count": 132,
   "id": "f341ba26",
   "metadata": {
    "scrolled": false
   },
   "outputs": [
    {
     "data": {
      "text/html": [
       "<div>\n",
       "<style scoped>\n",
       "    .dataframe tbody tr th:only-of-type {\n",
       "        vertical-align: middle;\n",
       "    }\n",
       "\n",
       "    .dataframe tbody tr th {\n",
       "        vertical-align: top;\n",
       "    }\n",
       "\n",
       "    .dataframe thead th {\n",
       "        text-align: right;\n",
       "    }\n",
       "</style>\n",
       "<table border=\"1\" class=\"dataframe\">\n",
       "  <thead>\n",
       "    <tr style=\"text-align: right;\">\n",
       "      <th></th>\n",
       "      <th>title</th>\n",
       "      <th>link</th>\n",
       "      <th>image</th>\n",
       "      <th>author</th>\n",
       "      <th>discount</th>\n",
       "      <th>publisher</th>\n",
       "      <th>pubdate</th>\n",
       "      <th>isbn</th>\n",
       "      <th>description</th>\n",
       "    </tr>\n",
       "  </thead>\n",
       "  <tbody>\n",
       "    <tr>\n",
       "      <th>0</th>\n",
       "      <td>파이썬과 데이터 과학 (파이썬으로 시작하는 데이터 과학과 기계학습)</td>\n",
       "      <td>https://search.shopping.naver.com/book/catalog...</td>\n",
       "      <td>https://shopping-phinf.pstatic.net/main_324915...</td>\n",
       "      <td>천인국^박동규</td>\n",
       "      <td>24700</td>\n",
       "      <td>생능출판</td>\n",
       "      <td>20201228</td>\n",
       "      <td>9788970504773</td>\n",
       "      <td>최근 가장 빠르게 인기를 얻고 있는 프로그래밍 언어는 바로 파이썬이다. 그 속도는 ...</td>\n",
       "    </tr>\n",
       "    <tr>\n",
       "      <th>1</th>\n",
       "      <td>두근두근 파이썬 (만들면서 배우는)</td>\n",
       "      <td>https://search.shopping.naver.com/book/catalog...</td>\n",
       "      <td>https://shopping-phinf.pstatic.net/main_368131...</td>\n",
       "      <td>천인국</td>\n",
       "      <td>23750</td>\n",
       "      <td>생능출판</td>\n",
       "      <td>20230105</td>\n",
       "      <td>9788970506562</td>\n",
       "      <td>파이썬은 지금도 프로그래밍 언어 분야에 1위를 지키고 있는 매우 인기있는 언어이다....</td>\n",
       "    </tr>\n",
       "    <tr>\n",
       "      <th>2</th>\n",
       "      <td>코딩 뇌를 깨우는 파이썬 (문제 해결 능력을 키우는 컴퓨팅 사고부터 알고리즘, 데이...</td>\n",
       "      <td>https://search.shopping.naver.com/book/catalog...</td>\n",
       "      <td>https://shopping-phinf.pstatic.net/main_421730...</td>\n",
       "      <td>존 V. 구태그</td>\n",
       "      <td>31500</td>\n",
       "      <td>한빛미디어</td>\n",
       "      <td>20230830</td>\n",
       "      <td>9791169211376</td>\n",
       "      <td>잠자는 코딩 뇌를 깨워라\\n파이썬 기초부터 머신러닝까지 한 권에!\\n\\n프로그래밍 ...</td>\n",
       "    </tr>\n",
       "    <tr>\n",
       "      <th>3</th>\n",
       "      <td>Do it! 점프 투 파이썬 (중학생도 첫날부터 실습하는 초고속 입문서, 전면 개정...</td>\n",
       "      <td>https://search.shopping.naver.com/book/catalog...</td>\n",
       "      <td>https://shopping-phinf.pstatic.net/main_403540...</td>\n",
       "      <td>박응용</td>\n",
       "      <td>19800</td>\n",
       "      <td>이지스퍼블리싱</td>\n",
       "      <td>20230615</td>\n",
       "      <td>9791163034735</td>\n",
       "      <td>프로그래밍 분야 8년 연속 베스트셀러! 《Do it! 점프 투 파이썬》 전면 개정 ...</td>\n",
       "    </tr>\n",
       "    <tr>\n",
       "      <th>4</th>\n",
       "      <td>나는 파이썬으로 머신러닝한다 2 (인공지능 자신감 UP 인공지능 약간 매운맛)</td>\n",
       "      <td>https://search.shopping.naver.com/book/catalog...</td>\n",
       "      <td>https://shopping-phinf.pstatic.net/main_424846...</td>\n",
       "      <td>장병철^이지항^박지훈^최정원</td>\n",
       "      <td>20700</td>\n",
       "      <td>씨마스</td>\n",
       "      <td>20230901</td>\n",
       "      <td>9791156725046</td>\n",
       "      <td>〈나는 파이썬으로 머신러닝한다 2 약간 매운맛〉\\n\\n파이썬 문법과 머신러닝 기초 ...</td>\n",
       "    </tr>\n",
       "    <tr>\n",
       "      <th>...</th>\n",
       "      <td>...</td>\n",
       "      <td>...</td>\n",
       "      <td>...</td>\n",
       "      <td>...</td>\n",
       "      <td>...</td>\n",
       "      <td>...</td>\n",
       "      <td>...</td>\n",
       "      <td>...</td>\n",
       "      <td>...</td>\n",
       "    </tr>\n",
       "    <tr>\n",
       "      <th>918</th>\n",
       "      <td>OpenCV 4를 활용한 머신러닝 입문 2/e (OpenCV 4, 파이썬, scik...</td>\n",
       "      <td>https://search.shopping.naver.com/book/catalog...</td>\n",
       "      <td>https://shopping-phinf.pstatic.net/main_324833...</td>\n",
       "      <td>아디타 샤르마^비슈베쉬 라비 슈리말리^마이클 베이어</td>\n",
       "      <td>36000</td>\n",
       "      <td>에이콘출판</td>\n",
       "      <td>20201030</td>\n",
       "      <td>9791161754628</td>\n",
       "      <td>머신러닝은 경험을 통해 자동으로 개선하는 컴퓨터 알고리즘 연구이며, 인공지능의 한 ...</td>\n",
       "    </tr>\n",
       "    <tr>\n",
       "      <th>919</th>\n",
       "      <td>실무가 훤히 보이는 머신러닝 &amp; 딥러닝 (파이썬 실전 코딩으로 배우는 한글 자연어 ...</td>\n",
       "      <td>https://search.shopping.naver.com/book/catalog...</td>\n",
       "      <td>https://shopping-phinf.pstatic.net/main_324833...</td>\n",
       "      <td>마창수^최재철</td>\n",
       "      <td>22470</td>\n",
       "      <td>책만</td>\n",
       "      <td>20190731</td>\n",
       "      <td>9791189909031</td>\n",
       "      <td>실전 인공지능 기술과 서비스를 설계해 실무에 적용하고, 머신러닝과 딥러닝 개발을 직...</td>\n",
       "    </tr>\n",
       "    <tr>\n",
       "      <th>920</th>\n",
       "      <td>초보 해커를 위한 해킹 입문 세트 - 전2권 (『(개정판) 해킹: 공격의 예술』+『...</td>\n",
       "      <td>https://search.shopping.naver.com/book/catalog...</td>\n",
       "      <td>https://shopping-phinf.pstatic.net/main_324814...</td>\n",
       "      <td>존 에릭슨</td>\n",
       "      <td>44100</td>\n",
       "      <td>에이콘출판</td>\n",
       "      <td>20110531</td>\n",
       "      <td>9788960772052</td>\n",
       "      <td>프로그래밍에서부터 공격 가능한 기계어 코드까지 해킹에 필요한 모든 것을 다룸으로써 ...</td>\n",
       "    </tr>\n",
       "    <tr>\n",
       "      <th>921</th>\n",
       "      <td>코어 파이썬 애플리케이션 프로그래밍 Core Python Applications P...</td>\n",
       "      <td>https://search.shopping.naver.com/book/catalog...</td>\n",
       "      <td>https://shopping-phinf.pstatic.net/main_324663...</td>\n",
       "      <td>웨슬리 천</td>\n",
       "      <td>45000</td>\n",
       "      <td>에이콘출판</td>\n",
       "      <td>20140129</td>\n",
       "      <td>9788960775213</td>\n",
       "      <td>초중급 독자가 실전에 활용할 수 있도록 정규식, 스레드 프로그래밍, GUI, 네트워...</td>\n",
       "    </tr>\n",
       "    <tr>\n",
       "      <th>922</th>\n",
       "      <td>손에 잡히는 실전 비즈니스 인텔리전스 (Power BI, 엑셀, D3.js, R, ...</td>\n",
       "      <td>https://search.shopping.naver.com/book/catalog...</td>\n",
       "      <td>https://shopping-phinf.pstatic.net/main_324926...</td>\n",
       "      <td>아메드 셰리프</td>\n",
       "      <td>27000</td>\n",
       "      <td>에이콘출판</td>\n",
       "      <td>20170428</td>\n",
       "      <td>9788960779426</td>\n",
       "      <td>Power BI, 엑셀, D3.js, R, 파이썬, Qlik, Tableau, Mi...</td>\n",
       "    </tr>\n",
       "  </tbody>\n",
       "</table>\n",
       "<p>923 rows × 9 columns</p>\n",
       "</div>"
      ],
      "text/plain": [
       "                                                 title  \\\n",
       "0                파이썬과 데이터 과학 (파이썬으로 시작하는 데이터 과학과 기계학습)   \n",
       "1                                  두근두근 파이썬 (만들면서 배우는)   \n",
       "2    코딩 뇌를 깨우는 파이썬 (문제 해결 능력을 키우는 컴퓨팅 사고부터 알고리즘, 데이...   \n",
       "3    Do it! 점프 투 파이썬 (중학생도 첫날부터 실습하는 초고속 입문서, 전면 개정...   \n",
       "4          나는 파이썬으로 머신러닝한다 2 (인공지능 자신감 UP 인공지능 약간 매운맛)   \n",
       "..                                                 ...   \n",
       "918  OpenCV 4를 활용한 머신러닝 입문 2/e (OpenCV 4, 파이썬, scik...   \n",
       "919  실무가 훤히 보이는 머신러닝 & 딥러닝 (파이썬 실전 코딩으로 배우는 한글 자연어 ...   \n",
       "920  초보 해커를 위한 해킹 입문 세트 - 전2권 (『(개정판) 해킹: 공격의 예술』+『...   \n",
       "921  코어 파이썬 애플리케이션 프로그래밍 Core Python Applications P...   \n",
       "922  손에 잡히는 실전 비즈니스 인텔리전스 (Power BI, 엑셀, D3.js, R, ...   \n",
       "\n",
       "                                                  link  \\\n",
       "0    https://search.shopping.naver.com/book/catalog...   \n",
       "1    https://search.shopping.naver.com/book/catalog...   \n",
       "2    https://search.shopping.naver.com/book/catalog...   \n",
       "3    https://search.shopping.naver.com/book/catalog...   \n",
       "4    https://search.shopping.naver.com/book/catalog...   \n",
       "..                                                 ...   \n",
       "918  https://search.shopping.naver.com/book/catalog...   \n",
       "919  https://search.shopping.naver.com/book/catalog...   \n",
       "920  https://search.shopping.naver.com/book/catalog...   \n",
       "921  https://search.shopping.naver.com/book/catalog...   \n",
       "922  https://search.shopping.naver.com/book/catalog...   \n",
       "\n",
       "                                                 image  \\\n",
       "0    https://shopping-phinf.pstatic.net/main_324915...   \n",
       "1    https://shopping-phinf.pstatic.net/main_368131...   \n",
       "2    https://shopping-phinf.pstatic.net/main_421730...   \n",
       "3    https://shopping-phinf.pstatic.net/main_403540...   \n",
       "4    https://shopping-phinf.pstatic.net/main_424846...   \n",
       "..                                                 ...   \n",
       "918  https://shopping-phinf.pstatic.net/main_324833...   \n",
       "919  https://shopping-phinf.pstatic.net/main_324833...   \n",
       "920  https://shopping-phinf.pstatic.net/main_324814...   \n",
       "921  https://shopping-phinf.pstatic.net/main_324663...   \n",
       "922  https://shopping-phinf.pstatic.net/main_324926...   \n",
       "\n",
       "                           author discount publisher   pubdate           isbn  \\\n",
       "0                         천인국^박동규    24700      생능출판  20201228  9788970504773   \n",
       "1                             천인국    23750      생능출판  20230105  9788970506562   \n",
       "2                        존 V. 구태그    31500     한빛미디어  20230830  9791169211376   \n",
       "3                             박응용    19800   이지스퍼블리싱  20230615  9791163034735   \n",
       "4                 장병철^이지항^박지훈^최정원    20700       씨마스  20230901  9791156725046   \n",
       "..                            ...      ...       ...       ...            ...   \n",
       "918  아디타 샤르마^비슈베쉬 라비 슈리말리^마이클 베이어    36000     에이콘출판  20201030  9791161754628   \n",
       "919                       마창수^최재철    22470        책만  20190731  9791189909031   \n",
       "920                         존 에릭슨    44100     에이콘출판  20110531  9788960772052   \n",
       "921                         웨슬리 천    45000     에이콘출판  20140129  9788960775213   \n",
       "922                       아메드 셰리프    27000     에이콘출판  20170428  9788960779426   \n",
       "\n",
       "                                           description  \n",
       "0    최근 가장 빠르게 인기를 얻고 있는 프로그래밍 언어는 바로 파이썬이다. 그 속도는 ...  \n",
       "1    파이썬은 지금도 프로그래밍 언어 분야에 1위를 지키고 있는 매우 인기있는 언어이다....  \n",
       "2    잠자는 코딩 뇌를 깨워라\\n파이썬 기초부터 머신러닝까지 한 권에!\\n\\n프로그래밍 ...  \n",
       "3    프로그래밍 분야 8년 연속 베스트셀러! 《Do it! 점프 투 파이썬》 전면 개정 ...  \n",
       "4    〈나는 파이썬으로 머신러닝한다 2 약간 매운맛〉\\n\\n파이썬 문법과 머신러닝 기초 ...  \n",
       "..                                                 ...  \n",
       "918  머신러닝은 경험을 통해 자동으로 개선하는 컴퓨터 알고리즘 연구이며, 인공지능의 한 ...  \n",
       "919  실전 인공지능 기술과 서비스를 설계해 실무에 적용하고, 머신러닝과 딥러닝 개발을 직...  \n",
       "920  프로그래밍에서부터 공격 가능한 기계어 코드까지 해킹에 필요한 모든 것을 다룸으로써 ...  \n",
       "921  초중급 독자가 실전에 활용할 수 있도록 정규식, 스레드 프로그래밍, GUI, 네트워...  \n",
       "922  Power BI, 엑셀, D3.js, R, 파이썬, Qlik, Tableau, Mi...  \n",
       "\n",
       "[923 rows x 9 columns]"
      ]
     },
     "execution_count": 132,
     "metadata": {},
     "output_type": "execute_result"
    }
   ],
   "source": [
    "df = pd.DataFrame(books, columns=data['items'][0].keys())\n",
    "df"
   ]
  },
  {
   "cell_type": "code",
   "execution_count": 135,
   "id": "ff2a9a76",
   "metadata": {},
   "outputs": [],
   "source": [
    "df.to_csv(\"./data/네이버API_책_데이터수집.csv\", index=False)"
   ]
  },
  {
   "cell_type": "code",
   "execution_count": null,
   "id": "a3d54495",
   "metadata": {},
   "outputs": [],
   "source": []
  },
  {
   "cell_type": "code",
   "execution_count": null,
   "id": "3d6df5de",
   "metadata": {},
   "outputs": [],
   "source": []
  }
 ],
 "metadata": {
  "kernelspec": {
   "display_name": "testenv",
   "language": "python",
   "name": "testenv"
  },
  "language_info": {
   "codemirror_mode": {
    "name": "ipython",
    "version": 3
   },
   "file_extension": ".py",
   "mimetype": "text/x-python",
   "name": "python",
   "nbconvert_exporter": "python",
   "pygments_lexer": "ipython3",
   "version": "3.8.17"
  }
 },
 "nbformat": 4,
 "nbformat_minor": 5
}
