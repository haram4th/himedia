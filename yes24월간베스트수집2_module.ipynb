{
 "cells": [
  {
   "cell_type": "code",
   "execution_count": 1,
   "id": "7de4d628",
   "metadata": {},
   "outputs": [],
   "source": [
    "import requests  # 서버에 http 프로토콜로 요청\n",
    "from bs4 import BeautifulSoup as bs  # html 파싱\n",
    "import time  # 5초간 휴식 할 때 사용\n",
    "from datetime import datetime  # 오늘 연월일 추출\n",
    "import pandas as pd  # 데이터 프레임 만듬\n",
    "from tqdm import tqdm\n",
    "import sqlite3\n",
    "from sqlalchemy import create_engine\n",
    "import yes24_dbio as ydb"
   ]
  },
  {
   "cell_type": "code",
   "execution_count": null,
   "id": "8f3b9c6d",
   "metadata": {},
   "outputs": [],
   "source": [
    "pwd"
   ]
  },
  {
   "cell_type": "code",
   "execution_count": 2,
   "id": "01cb09ee",
   "metadata": {},
   "outputs": [
    {
     "name": "stdout",
     "output_type": "stream",
     "text": [
      "2023 12\n"
     ]
    }
   ],
   "source": [
    "today = datetime.today()\n",
    "yyyy = today.year\n",
    "mm = today.month\n",
    "print(yyyy, mm)"
   ]
  },
  {
   "cell_type": "code",
   "execution_count": 3,
   "id": "a0a8210e",
   "metadata": {},
   "outputs": [
    {
     "name": "stdout",
     "output_type": "stream",
     "text": [
      "[2023, 2022, 2021, 2020, 2019, 2018, 2017, 2016, 2015, 2014, 2013, 2012, 2011, 2010, 2009, 2008]\n",
      "[1, 2, 3, 4, 5, 6, 7, 8, 9, 10, 11, 12]\n",
      "[1, 2, 3, 4, 5, 6, 7, 8, 9]\n"
     ]
    }
   ],
   "source": [
    "year = list(range(2023, 2007, -1))\n",
    "month = list(range(1, 13))\n",
    "page = list(range(1, 10))\n",
    "print(year)\n",
    "print(month)\n",
    "print(page)\n"
   ]
  },
  {
   "cell_type": "code",
   "execution_count": null,
   "id": "3ededfc5",
   "metadata": {},
   "outputs": [],
   "source": [
    "help(ydb.extract_bookinfo)"
   ]
  },
  {
   "cell_type": "code",
   "execution_count": null,
   "id": "ac29fc93",
   "metadata": {
    "scrolled": true
   },
   "outputs": [],
   "source": [
    "result = []\n",
    "for yy in year:\n",
    "    for mon in month if yy != yyyy else range(1, mm):\n",
    "        for p in page:\n",
    "            print(f\"{yy}년{mon}월{p}페이지 수집중\", end=\"\\r\")\n",
    "            url = \"https://www.yes24.com/Product/Category/MonthWeekBestSeller\"\n",
    "            payload = dict(categoryNumber='001', pageNumber=p, pageSize=120, type='month', saleYear=yy, saleMonth=mon)\n",
    "            \n",
    "            try:\n",
    "                r = requests.get(url, params=payload) # yes24 서버에 url로 자료 요청\n",
    "            except Exception as e:\n",
    "                print(e)\n",
    "            \n",
    "            soup = bs(r.text, 'lxml')   # yes24 서버에서 받은 응답 값 텍스트를 beautifulsoup을 통해 html로 파싱\n",
    "            book_list = soup.select(\"#yesBestList > li\")\n",
    "            result.append(ydb.extract_bookinfo(yy, mon, book_list))  # extract_bookinfo 함수로 추출한 데이터를 result에 추가\n",
    "            time.sleep(5)\n",
    "            print(end=\"\\r\")\n",
    "\n"
   ]
  },
  {
   "cell_type": "code",
   "execution_count": null,
   "id": "66cdfadd",
   "metadata": {},
   "outputs": [],
   "source": [
    "# 추출한 베스트셀러 데이터를 데이터프레임으로 변환해서 합침\n",
    "best_total = pd.DataFrame()\n",
    "for best_list in result:\n",
    "    temp = pd.DataFrame(best_list, columns=['yy', 'mon', 'title_h', 'title_f', 'title_m', 'title_e', 'detail_link', \\\n",
    "                                    'author', 'publisher', 'pub_date', 'price', 'n_reviews', \\\n",
    "                                     'review_link', 'rating', 'tags'])\n",
    "    best_total = pd.concat([best_total, temp])\n",
    "best_total.to_csv(f\"./data/yes24/new_yes24bestseller{year[-1]}{month[0]}_{year[0]}{month[-1]}_1000.csv\", index=False)"
   ]
  },
  {
   "cell_type": "code",
   "execution_count": null,
   "id": "be79f470",
   "metadata": {},
   "outputs": [
    {
     "name": "stderr",
     "output_type": "stream",
     "text": [
      "C:\\Users\\hi\\AppData\\Local\\Temp\\ipykernel_14824\\1822468546.py:2: DtypeWarning: Columns (11) have mixed types. Specify dtype option on import or set low_memory=False.\n",
      "  data2 = pd.read_csv(f\"./data/yes24/new_yes24bestseller{year[-1]}{month[0]}_{year[0]}{month[-1]}_1000_v2.csv\")\n"
     ]
    },
    {
     "name": "stdout",
     "output_type": "stream",
     "text": [
      "'NoneType' object is not subscriptable\n",
      "'NoneType' object is not subscriptable\n",
      "'NoneType' object is not subscriptable\n",
      "'NoneType' object is not subscriptable\n",
      "'NoneType' object is not subscriptable\n",
      "'NoneType' object is not subscriptable\n",
      "'NoneType' object is not subscriptable\n",
      "'NoneType' object is not subscriptable\n",
      "'NoneType' object is not subscriptable\n",
      "'NoneType' object is not subscriptable\n",
      "'NoneType' object is not subscriptable\n",
      "'NoneType' object is not subscriptable\n",
      "'NoneType' object is not subscriptable\n",
      "'NoneType' object is not subscriptable\n",
      "'NoneType' object is not subscriptable\n",
      "'NoneType' object is not subscriptable\n",
      "'NoneType' object is not subscriptable\n",
      "bcober_91923672.jpg 파일을 생성하였습니다.   \r"
     ]
    }
   ],
   "source": [
    "# 저장된 파일에서 데이터를 불러와 세부 데이터 추출\n",
    "data2 = pd.read_csv(f\"./data/yes24/new_yes24bestseller{year[-1]}{month[0]}_{year[0]}{month[-1]}_1000_v2.csv\")\n",
    "urls = data2['detail_link']\n",
    "urls = list(set(urls)) # 중복된 URL을 제거하고 수집\n",
    "detail_page_data = ydb.detail_page_info(urls)  # detail_page_info 함수로 상세페이지 데이터 추출\n",
    "best_total['book_id'] = best_total['detail_link'].apply(lambda x: x.split(\"/\")[-1]) \n",
    "final_result_df = pd.merge(best_total, detail_page_data, how='inner', on=\"book_id\") # 베스트 셀러 목록과 detail info 합침\n",
    "final_result_df.head(2)\n",
    "ydb.to_db(final_result_df) # 최종 데이터를 sqlite3 데이터 베이스에 저장"
   ]
  },
  {
   "cell_type": "code",
   "execution_count": null,
   "id": "c7b52640",
   "metadata": {},
   "outputs": [],
   "source": [
    "urls[51]"
   ]
  },
  {
   "cell_type": "code",
   "execution_count": null,
   "id": "97bae20b",
   "metadata": {},
   "outputs": [],
   "source": []
  },
  {
   "cell_type": "code",
   "execution_count": null,
   "id": "6259d1a9",
   "metadata": {},
   "outputs": [],
   "source": []
  },
  {
   "cell_type": "code",
   "execution_count": null,
   "id": "7fd38d82",
   "metadata": {},
   "outputs": [],
   "source": []
  },
  {
   "cell_type": "code",
   "execution_count": null,
   "id": "8bdabe4b",
   "metadata": {
    "scrolled": true
   },
   "outputs": [],
   "source": [
    "len(result)"
   ]
  },
  {
   "cell_type": "code",
   "execution_count": null,
   "id": "25236b98",
   "metadata": {},
   "outputs": [],
   "source": [
    "colnames = ['yy', 'mon', 'title_h', 'title_f', 'title_m', 'title_e', 'detail_link', 'author', 'publisher',\n",
    "            'pub_date', 'price', 'n_reviews', 'review_link', 'rating', 'tags']"
   ]
  },
  {
   "cell_type": "code",
   "execution_count": null,
   "id": "9015b02d",
   "metadata": {},
   "outputs": [],
   "source": [
    "df = pd.DataFrame(result, columns= colnames)"
   ]
  },
  {
   "cell_type": "code",
   "execution_count": null,
   "id": "bc5a1bb1",
   "metadata": {},
   "outputs": [],
   "source": [
    "df.to_csv(\"./data/new_yes24bestseller2023_01_1000.csv\", index=False)"
   ]
  },
  {
   "cell_type": "code",
   "execution_count": null,
   "id": "00da43d4",
   "metadata": {},
   "outputs": [],
   "source": [
    "data = pd.read_csv(\"./data/new_yes24bestseller2023_01_1000.csv\")"
   ]
  },
  {
   "cell_type": "code",
   "execution_count": null,
   "id": "76afd7d0",
   "metadata": {},
   "outputs": [],
   "source": [
    "urls = data['detail_link']"
   ]
  },
  {
   "cell_type": "code",
   "execution_count": null,
   "id": "3ca3152d",
   "metadata": {},
   "outputs": [],
   "source": [
    "# 데이터 베이스에 저장하기\n",
    "# 파일로 바로 저장하기"
   ]
  },
  {
   "cell_type": "markdown",
   "id": "5e260afe",
   "metadata": {},
   "source": [
    "상세 페이지 수집"
   ]
  },
  {
   "cell_type": "code",
   "execution_count": null,
   "id": "108000a8",
   "metadata": {},
   "outputs": [],
   "source": [
    "detail_result.columns"
   ]
  },
  {
   "cell_type": "code",
   "execution_count": null,
   "id": "0116900d",
   "metadata": {},
   "outputs": [],
   "source": [
    "detail_result.info()"
   ]
  },
  {
   "cell_type": "markdown",
   "id": "9f677e38",
   "metadata": {},
   "source": [
    "# 데이터 베이스에 자료 저장하기\n",
    "* pandas 데이터 프레임을 DB에 바로 저장하기"
   ]
  },
  {
   "cell_type": "code",
   "execution_count": null,
   "id": "ac2f226d",
   "metadata": {},
   "outputs": [],
   "source": [
    "import sqlite3"
   ]
  },
  {
   "cell_type": "code",
   "execution_count": null,
   "id": "c0a6c5e5",
   "metadata": {},
   "outputs": [],
   "source": [
    "con = sqlite3.connect(\"sqlite3_yes24_best2023_01.db\")\n",
    "cursor = con.cursor()"
   ]
  },
  {
   "cell_type": "code",
   "execution_count": null,
   "id": "abfe2b72",
   "metadata": {},
   "outputs": [],
   "source": [
    "cursor.execute(f'CREATE TABLE IF NOT EXISTS yes24_best_202301({list(detail_result.columns)})')\n",
    "con.commit()"
   ]
  },
  {
   "cell_type": "code",
   "execution_count": null,
   "id": "7019ec50",
   "metadata": {},
   "outputs": [],
   "source": [
    "detail_result['page'] = detail_result['page'].apply(str)"
   ]
  },
  {
   "cell_type": "code",
   "execution_count": null,
   "id": "3e23fb7d",
   "metadata": {},
   "outputs": [],
   "source": [
    "detail_result['weight'] = detail_result['weight'].apply(str)"
   ]
  },
  {
   "cell_type": "code",
   "execution_count": null,
   "id": "37dc0251",
   "metadata": {},
   "outputs": [],
   "source": [
    "detail_result['category'] = detail_result['category'].apply(str)"
   ]
  },
  {
   "cell_type": "code",
   "execution_count": null,
   "id": "45c8d466",
   "metadata": {},
   "outputs": [],
   "source": [
    "detail_result.to_sql('yes24_best_202301', con, if_exists='append', index=False)"
   ]
  },
  {
   "cell_type": "code",
   "execution_count": null,
   "id": "3355433e",
   "metadata": {},
   "outputs": [],
   "source": [
    "cursor.execute(\n",
    "    '''\n",
    "    SELECT * FROM yes24_best_202301 limit 10;\n",
    "    ''')\n",
    "for row in cursor.fetchall():\n",
    "    print(row)"
   ]
  },
  {
   "cell_type": "markdown",
   "id": "ebe688a2",
   "metadata": {},
   "source": [
    "# sqlalchemy를 이용하는 방법"
   ]
  },
  {
   "cell_type": "code",
   "execution_count": null,
   "id": "901c76cc",
   "metadata": {},
   "outputs": [],
   "source": []
  },
  {
   "cell_type": "code",
   "execution_count": null,
   "id": "4609510e",
   "metadata": {},
   "outputs": [],
   "source": [
    "from sqlalchemy import create_engine\n",
    "engine = create_engine('sqlite:///sqlite3_yes24_best2023_01_sqlalchemy.db', echo= False)\n",
    "conn = engine.raw_connection()\n",
    "test = pd.read_sql('select * from yes24_best_202301_sqlalchemy limit 3', conn)\n",
    "test\n",
    "conn.close()"
   ]
  },
  {
   "cell_type": "code",
   "execution_count": null,
   "id": "3b02921f",
   "metadata": {},
   "outputs": [],
   "source": [
    "test"
   ]
  },
  {
   "cell_type": "code",
   "execution_count": null,
   "id": "c74127f1",
   "metadata": {},
   "outputs": [],
   "source": [
    "def ramentop20todb(df, today):\n",
    "    engine = create_engine(\"mysql+mysqldb://<id>:\"+\"<password>\"+\"@59.7.246.88:3306/ramen\", encoding='utf-8')\n",
    "    conn = engine.connect()\n",
    "    try:\n",
    "        df.to_sql(name='Top20s{}'.format(today), con=engine, if_exists='append', index=False)\n",
    "    except Exception as e:\n",
    "        print(e)\n",
    "    conn.close()\n",
    "    return print(\"DB saving has been completed\")"
   ]
  },
  {
   "cell_type": "code",
   "execution_count": null,
   "id": "8f6ab986",
   "metadata": {},
   "outputs": [],
   "source": []
  },
  {
   "cell_type": "code",
   "execution_count": null,
   "id": "12e15b13",
   "metadata": {},
   "outputs": [],
   "source": []
  },
  {
   "cell_type": "code",
   "execution_count": null,
   "id": "82697138",
   "metadata": {},
   "outputs": [],
   "source": []
  },
  {
   "cell_type": "code",
   "execution_count": null,
   "id": "7374c247",
   "metadata": {},
   "outputs": [],
   "source": []
  },
  {
   "cell_type": "code",
   "execution_count": null,
   "id": "abde796f",
   "metadata": {},
   "outputs": [],
   "source": [
    "detail_info = pd.DataFrame()\n",
    "for url2 in tqdm(urls):\n",
    "    r = requests.get(url2, stream=True)\n",
    "    soup = bs(r.text, 'lxml')\n",
    "    book_id_num = url2.split(\"/\")[-1]\n",
    "    book_pws = soup.select_one(\"tbody > tr:nth-child(2) > td.txt.lastCol\").get_text().split(\"|\") if soup.select_one(\"tbody > tr:nth-child(2) > td.txt.lastCol\") != None  else \"\"\n",
    "    if len(book_pws) < 3:\n",
    "        page = 0\n",
    "        weight = 0\n",
    "        size = 0\n",
    "    else:\n",
    "        page, weight, size = book_pws\n",
    "    category = list({i.get_text() for i in soup.select(\"div.infoSetCont_wrap > dl:nth-child(1) > dd > ul a\") if soup.select(\"div.infoSetCont_wrap > dl:nth-child(1) > dd > ul a\") != None})\n",
    "    abstract = soup.select_one(\".infoWrap_txtInner\").get_text() if soup.select_one(\".infoWrap_txtInner\") != None else \"\"\n",
    "    pub_review = soup.select_one(\"#infoset_pubReivew div.infoWrap_txt\").get_text() if soup.select_one(\"#infoset_pubReivew div.infoWrap_txt\") != None else \"\"\n",
    "    result = pd.DataFrame([[book_id_num, page, weight, size, category, abstract, pub_review]], columns=['book_id_num','page', 'weight', 'size', 'category', 'abstract', 'pub_review'])\n",
    "    detail_info = pd.concat([detail_info, result])\n",
    "    time.sleep(5)"
   ]
  },
  {
   "cell_type": "code",
   "execution_count": null,
   "id": "d638e051",
   "metadata": {},
   "outputs": [],
   "source": []
  },
  {
   "cell_type": "code",
   "execution_count": null,
   "id": "12e23a42",
   "metadata": {},
   "outputs": [],
   "source": []
  },
  {
   "cell_type": "code",
   "execution_count": null,
   "id": "6a41ab38",
   "metadata": {},
   "outputs": [],
   "source": []
  },
  {
   "cell_type": "code",
   "execution_count": null,
   "id": "472fe3ff",
   "metadata": {},
   "outputs": [],
   "source": []
  },
  {
   "cell_type": "code",
   "execution_count": null,
   "id": "29e1fb6c",
   "metadata": {},
   "outputs": [],
   "source": [
    "detail_info"
   ]
  },
  {
   "cell_type": "code",
   "execution_count": null,
   "id": "92ba6b50",
   "metadata": {},
   "outputs": [],
   "source": [
    "pd.concat()"
   ]
  },
  {
   "cell_type": "code",
   "execution_count": null,
   "id": "74ff2e09",
   "metadata": {},
   "outputs": [],
   "source": []
  },
  {
   "cell_type": "code",
   "execution_count": null,
   "id": "23dd7414",
   "metadata": {},
   "outputs": [],
   "source": []
  },
  {
   "cell_type": "code",
   "execution_count": null,
   "id": "04797d47",
   "metadata": {},
   "outputs": [],
   "source": []
  },
  {
   "cell_type": "code",
   "execution_count": null,
   "id": "a6d73160",
   "metadata": {},
   "outputs": [],
   "source": []
  },
  {
   "cell_type": "code",
   "execution_count": null,
   "id": "fe121732",
   "metadata": {},
   "outputs": [],
   "source": []
  },
  {
   "cell_type": "code",
   "execution_count": null,
   "id": "86374d77",
   "metadata": {},
   "outputs": [],
   "source": []
  },
  {
   "cell_type": "code",
   "execution_count": null,
   "id": "5fb20c4e",
   "metadata": {},
   "outputs": [],
   "source": []
  }
 ],
 "metadata": {
  "kernelspec": {
   "display_name": "testenv",
   "language": "python",
   "name": "testenv"
  },
  "language_info": {
   "codemirror_mode": {
    "name": "ipython",
    "version": 3
   },
   "file_extension": ".py",
   "mimetype": "text/x-python",
   "name": "python",
   "nbconvert_exporter": "python",
   "pygments_lexer": "ipython3",
   "version": "3.8.17"
  }
 },
 "nbformat": 4,
 "nbformat_minor": 5
}
