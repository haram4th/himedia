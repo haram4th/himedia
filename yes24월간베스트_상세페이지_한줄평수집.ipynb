{
 "cells": [
  {
   "cell_type": "code",
   "execution_count": 1,
   "id": "2ec75ee4",
   "metadata": {},
   "outputs": [],
   "source": [
    "from selenium import webdriver\n",
    "from webdriver_manager.chrome import ChromeDriverManager\n",
    "from selenium.webdriver.chrome.service import Service as ChromeService\n",
    "from selenium.webdriver.common.keys import Keys\n",
    "from selenium.webdriver.common.by import By\n",
    "from bs4 import BeautifulSoup as bs\n",
    "from tqdm import tqdm\n",
    "import time\n",
    "import lxml\n",
    "import pandas as pd\n",
    "import requests\n",
    "import yes24_dbio as ydb"
   ]
  },
  {
   "cell_type": "code",
   "execution_count": 2,
   "id": "b78eed84",
   "metadata": {},
   "outputs": [],
   "source": [
    "# 웹드라이버를 버전에 맞게 자동으로 다운 받고 옵션을 추가해 줌\n",
    "driver = webdriver.Chrome(service=ChromeService(ChromeDriverManager().install()))\n",
    "# driver = webdriver.Chrome(ChromeDriverManager().install())\n",
    "driver.set_window_size(1920,1080)   # 웹브라우저 해상도 조절"
   ]
  },
  {
   "cell_type": "code",
   "execution_count": 3,
   "id": "8abcb075",
   "metadata": {},
   "outputs": [
    {
     "name": "stderr",
     "output_type": "stream",
     "text": [
      "C:\\Users\\hi\\AppData\\Local\\Temp\\ipykernel_16588\\1253186524.py:1: DtypeWarning: Columns (11) have mixed types. Specify dtype option on import or set low_memory=False.\n",
      "  data2 = pd.read_csv(f\"./data/yes24/new_yes24bestseller20081_202312_1000_v2.csv\")\n"
     ]
    },
    {
     "data": {
      "text/plain": [
       "42780"
      ]
     },
     "execution_count": 3,
     "metadata": {},
     "output_type": "execute_result"
    }
   ],
   "source": [
    "data2 = pd.read_csv(f\"./data/yes24/new_yes24bestseller20081_202312_1000_v2.csv\")\n",
    "urls = data2['detail_link']\n",
    "urls = list(set(urls))\n",
    "len(urls)"
   ]
  },
  {
   "cell_type": "code",
   "execution_count": 4,
   "id": "8bc85e4d",
   "metadata": {},
   "outputs": [],
   "source": [
    "# driver.get(urls[0])\n",
    "# driver.find_element(By.CSS_SELECTOR, \"#txtOneCommentCount\").text.strip(\"()건\")  # 한줄평 총 갯수"
   ]
  },
  {
   "cell_type": "code",
   "execution_count": 5,
   "id": "6a7e76bf",
   "metadata": {},
   "outputs": [],
   "source": [
    "# driver.find_element(By.CSS_SELECTOR, \"#yDetailTopWrap > div.topColRgt > div.gd_infoTop > span.gd_ratingArea > span.gd_reviewCount > a\").click()"
   ]
  },
  {
   "cell_type": "code",
   "execution_count": 23,
   "id": "095335ce",
   "metadata": {},
   "outputs": [
    {
     "data": {
      "text/plain": [
       "293"
      ]
     },
     "execution_count": 23,
     "metadata": {},
     "output_type": "execute_result"
    }
   ],
   "source": [
    "167+31+13+82"
   ]
  },
  {
   "cell_type": "code",
   "execution_count": null,
   "id": "1af68dca",
   "metadata": {
    "scrolled": true
   },
   "outputs": [
    {
     "name": "stdout",
     "output_type": "stream",
     "text": [
      "DB saving has been completed 페이지 수2\r"
     ]
    }
   ],
   "source": [
    "for idx, d_url in enumerate(urls[293:]):\n",
    "    book_id = d_url.split(\"/\")[-1] # 책 id\n",
    "    driver.get(d_url)\n",
    "    driver.find_element(By.CSS_SELECTOR, \"#txtOneCommentCount\").text.strip(\"()건\")  # 한줄평 총 갯수\n",
    "    #     driver.find_element(By.CSS_SELECTOR, \"#yDetailTopWrap > div.topColRgt > div.gd_infoTop > span.gd_ratingArea > span.gd_reviewCount > a\").click()\n",
    "    driver.find_element(By.CSS_SELECTOR, \"#yDetailTabNavWrap > div > div.gd_tabBar > ul > li:nth-child(3) > a\").click()\n",
    "    \n",
    "    # 마우스 스크롤 올리기\n",
    "    script = f\"window.scrollTo({9000},{8000})\"  # 자바 스크립트로 위치 지정\n",
    "    driver.execute_script(script)         # 스크롤 실행\n",
    "    time.sleep(2)\n",
    "        \n",
    "    try:\n",
    "        driver.find_element(By.CSS_SELECTOR, \"#commit_recent\").click()\n",
    "#         driver.find_element(By.CSS_SELECTOR, \".bgYUI.first.dim\").click()\n",
    "    except Exception as e :\n",
    "        pass\n",
    "    soup = bs(driver.page_source, 'lxml')\n",
    "    # 한줄평 갯수\n",
    "    n_one_line_review = int(soup.select_one(\"#txtOneCommentCount\").text.strip(\"()건\"))  # 한줄평 총 갯수\n",
    "\n",
    "    total_one_line_reviews = []\n",
    "\n",
    "    if n_one_line_review == 0:\n",
    "        pass\n",
    "    elif n_one_line_review > 0:\n",
    "        n_page_one_line_review = int(n_one_line_review) // 6 + 1  # 한줄평 총 페이지 수\n",
    "        print(f\"{idx}/{len(urls)}, 한줄평 총 갯수: {n_one_line_review}, 한줄평 총 페이지 수{n_page_one_line_review}\", end=\"\\r\")\n",
    "        if n_page_one_line_review == 1:\n",
    "            total_one_line_reviews += [item.text for item in soup.select(\"div.cmt_cont > span.txt\")]\n",
    "        elif n_page_one_line_review > 1:\n",
    "#             driver.find_element(By.CSS_SELECTOR, \"#infoset_reviewContentList > div.review_sort.sortTop > div.review_sortLft > div > a:nth-child(4)\").click() \n",
    "            soup2 = bs(driver.page_source, 'lxml')\n",
    "            total_one_line_reviews += [item.text for item in soup2.select(\"div.cmt_cont > span.txt\")]\n",
    "            page_num_link = soup2.select_one(\"#infoset_oneCommentList > div:nth-child(2) > div.rvCmt_sortLft > div > a:nth-child(4)\")['href'][:-1]\n",
    "            for p in range(2, n_page_one_line_review+1):\n",
    "                r = requests.get(f\"https://www.yes24.com/{page_num_link}{p}\")\n",
    "                print(f\"{idx}/{len(urls)}에서 {p}/{n_page_one_line_review+1}처리중\", end=\"\\r\")\n",
    "                time.sleep(5)\n",
    "                soup3 = bs(r.text, 'lxml')\n",
    "                total_one_line_reviews += [item.text for item in soup3.select(\"div.cmt_cont > span.txt\")]\n",
    "    line_review_result = pd.DataFrame({\"book_id\" : book_id, \"one_line_review\" : total_one_line_reviews})\n",
    "    line_review_result.to_csv(f\"./data/yes24/one_line_reviews/{book_id}_one_line_reviews.csv\", index=False)\n",
    "    ydb.to_mysql(line_review_result, \"yes24best\", \"yes24_one_line_reviews\")"
   ]
  },
  {
   "cell_type": "code",
   "execution_count": null,
   "id": "d4480440",
   "metadata": {},
   "outputs": [],
   "source": [
    "line_review_result.info()"
   ]
  },
  {
   "cell_type": "code",
   "execution_count": 22,
   "id": "6313c76b",
   "metadata": {},
   "outputs": [
    {
     "name": "stdout",
     "output_type": "stream",
     "text": [
      "82\n"
     ]
    }
   ],
   "source": [
    "print(idx)"
   ]
  },
  {
   "cell_type": "code",
   "execution_count": null,
   "id": "41584115",
   "metadata": {},
   "outputs": [],
   "source": []
  }
 ],
 "metadata": {
  "kernelspec": {
   "display_name": "nlp",
   "language": "python",
   "name": "nlp"
  },
  "language_info": {
   "codemirror_mode": {
    "name": "ipython",
    "version": 3
   },
   "file_extension": ".py",
   "mimetype": "text/x-python",
   "name": "python",
   "nbconvert_exporter": "python",
   "pygments_lexer": "ipython3",
   "version": "3.9.18"
  }
 },
 "nbformat": 4,
 "nbformat_minor": 5
}
