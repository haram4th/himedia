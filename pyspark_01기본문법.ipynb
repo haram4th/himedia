{
 "cells": [
  {
   "cell_type": "markdown",
   "id": "8e975f6f-b19f-4eed-8e62-aec17746da36",
   "metadata": {},
   "source": [
    "# pyspark 라이브러리 불러오기"
   ]
  },
  {
   "cell_type": "code",
   "execution_count": 342,
   "id": "cffc079b-409c-4ff4-889e-b398cc219b9c",
   "metadata": {},
   "outputs": [],
   "source": [
    "from pyspark.sql import SparkSession\n",
    "import pyspark.sql.functions as f"
   ]
  },
  {
   "cell_type": "code",
   "execution_count": 343,
   "id": "ded687ff-f37c-46f6-8d6d-b480c277c42b",
   "metadata": {},
   "outputs": [],
   "source": [
    "spark = SparkSession.builder.getOrCreate()"
   ]
  },
  {
   "cell_type": "code",
   "execution_count": 344,
   "id": "4cd6a3cd-b319-4831-a372-575384e9e094",
   "metadata": {},
   "outputs": [
    {
     "data": {
      "text/html": [
       "\n",
       "            <div>\n",
       "                <p><b>SparkSession - in-memory</b></p>\n",
       "                \n",
       "        <div>\n",
       "            <p><b>SparkContext</b></p>\n",
       "\n",
       "            <p><a href=\"http://spark-master:4041\">Spark UI</a></p>\n",
       "\n",
       "            <dl>\n",
       "              <dt>Version</dt>\n",
       "                <dd><code>v3.3.3</code></dd>\n",
       "              <dt>Master</dt>\n",
       "                <dd><code>local[*]</code></dd>\n",
       "              <dt>AppName</dt>\n",
       "                <dd><code>pyspark-shell</code></dd>\n",
       "            </dl>\n",
       "        </div>\n",
       "        \n",
       "            </div>\n",
       "        "
      ],
      "text/plain": [
       "<pyspark.sql.session.SparkSession at 0x7ff86030b050>"
      ]
     },
     "execution_count": 344,
     "metadata": {},
     "output_type": "execute_result"
    }
   ],
   "source": [
    "spark"
   ]
  },
  {
   "cell_type": "markdown",
   "id": "4da57194-511d-4854-866e-7c53ee964ee8",
   "metadata": {},
   "source": [
    "# 데이터 읽어오기 \n",
    "* spark.read.csv(\"파일경로\", 옵션)"
   ]
  },
  {
   "cell_type": "code",
   "execution_count": 150,
   "id": "6de8af71-c2f8-4318-bffc-e12b17b1e593",
   "metadata": {},
   "outputs": [
    {
     "data": {
      "text/plain": [
       "'/home/himedia'"
      ]
     },
     "execution_count": 150,
     "metadata": {},
     "output_type": "execute_result"
    }
   ],
   "source": [
    "pwd"
   ]
  },
  {
   "cell_type": "code",
   "execution_count": 345,
   "id": "4a4068f9-0984-4468-ba12-2b1025e4b16f",
   "metadata": {},
   "outputs": [],
   "source": [
    "df = spark.read.csv(\"./data/Taitanic_train.csv\", header=True)"
   ]
  },
  {
   "cell_type": "code",
   "execution_count": 353,
   "id": "1622104c-efbf-41ab-a296-1a66aa4899a6",
   "metadata": {},
   "outputs": [],
   "source": [
    "df4 = df"
   ]
  },
  {
   "cell_type": "code",
   "execution_count": 347,
   "id": "ea77c269-e2b7-4940-9152-05869cc0e718",
   "metadata": {},
   "outputs": [
    {
     "name": "stdout",
     "output_type": "stream",
     "text": [
      "+-----------+--------+------+--------------------+------+----+-----+-----+----------------+-------+-----+--------+\n",
      "|PassengerId|Survived|Pclass|                Name|   Sex| Age|SibSp|Parch|          Ticket|   Fare|Cabin|Embarked|\n",
      "+-----------+--------+------+--------------------+------+----+-----+-----+----------------+-------+-----+--------+\n",
      "|          1|       0|     3|Braund, Mr. Owen ...|  male|  22|    1|    0|       A/5 21171|   7.25| null|       S|\n",
      "|          2|       1|     1|Cumings, Mrs. Joh...|female|  38|    1|    0|        PC 17599|71.2833|  C85|       C|\n",
      "|          3|       1|     3|Heikkinen, Miss. ...|female|  26|    0|    0|STON/O2. 3101282|  7.925| null|       S|\n",
      "|          4|       1|     1|Futrelle, Mrs. Ja...|female|  35|    1|    0|          113803|   53.1| C123|       S|\n",
      "|          5|       0|     3|Allen, Mr. Willia...|  male|  35|    0|    0|          373450|   8.05| null|       S|\n",
      "|          6|       0|     3|    Moran, Mr. James|  male|null|    0|    0|          330877| 8.4583| null|       Q|\n",
      "|          7|       0|     1|McCarthy, Mr. Tim...|  male|  54|    0|    0|           17463|51.8625|  E46|       S|\n",
      "|          8|       0|     3|Palsson, Master. ...|  male|   2|    3|    1|          349909| 21.075| null|       S|\n",
      "|          9|       1|     3|Johnson, Mrs. Osc...|female|  27|    0|    2|          347742|11.1333| null|       S|\n",
      "|         10|       1|     2|Nasser, Mrs. Nich...|female|  14|    1|    0|          237736|30.0708| null|       C|\n",
      "|         11|       1|     3|Sandstrom, Miss. ...|female|   4|    1|    1|         PP 9549|   16.7|   G6|       S|\n",
      "|         12|       1|     1|Bonnell, Miss. El...|female|  58|    0|    0|          113783|  26.55| C103|       S|\n",
      "|         13|       0|     3|Saundercock, Mr. ...|  male|  20|    0|    0|       A/5. 2151|   8.05| null|       S|\n",
      "|         14|       0|     3|Andersson, Mr. An...|  male|  39|    1|    5|          347082| 31.275| null|       S|\n",
      "|         15|       0|     3|Vestrom, Miss. Hu...|female|  14|    0|    0|          350406| 7.8542| null|       S|\n",
      "|         16|       1|     2|Hewlett, Mrs. (Ma...|female|  55|    0|    0|          248706|     16| null|       S|\n",
      "|         17|       0|     3|Rice, Master. Eugene|  male|   2|    4|    1|          382652| 29.125| null|       Q|\n",
      "|         18|       1|     2|Williams, Mr. Cha...|  male|null|    0|    0|          244373|     13| null|       S|\n",
      "|         19|       0|     3|Vander Planke, Mr...|female|  31|    1|    0|          345763|     18| null|       S|\n",
      "|         20|       1|     3|Masselmani, Mrs. ...|female|null|    0|    0|            2649|  7.225| null|       C|\n",
      "+-----------+--------+------+--------------------+------+----+-----+-----+----------------+-------+-----+--------+\n",
      "only showing top 20 rows\n",
      "\n"
     ]
    }
   ],
   "source": [
    "# 데이터 프레임 내용출력 .show()\n",
    "df.show()"
   ]
  },
  {
   "cell_type": "markdown",
   "id": "c63ef582-5fb3-4b0b-888a-0d6aee3c05de",
   "metadata": {},
   "source": [
    "# 스키마 보기\n",
    "* .printSchema()"
   ]
  },
  {
   "cell_type": "code",
   "execution_count": 348,
   "id": "1e0ac7d8-6df1-414f-9276-d21fc3218e36",
   "metadata": {},
   "outputs": [
    {
     "name": "stdout",
     "output_type": "stream",
     "text": [
      "root\n",
      " |-- PassengerId: string (nullable = true)\n",
      " |-- Survived: string (nullable = true)\n",
      " |-- Pclass: string (nullable = true)\n",
      " |-- Name: string (nullable = true)\n",
      " |-- Sex: string (nullable = true)\n",
      " |-- Age: string (nullable = true)\n",
      " |-- SibSp: string (nullable = true)\n",
      " |-- Parch: string (nullable = true)\n",
      " |-- Ticket: string (nullable = true)\n",
      " |-- Fare: string (nullable = true)\n",
      " |-- Cabin: string (nullable = true)\n",
      " |-- Embarked: string (nullable = true)\n",
      "\n"
     ]
    }
   ],
   "source": [
    "df.printSchema()"
   ]
  },
  {
   "cell_type": "markdown",
   "id": "5156e6e9-5ad1-4928-8caa-a7b6bfa33cfe",
   "metadata": {},
   "source": [
    "# 데이터보기 \n",
    "* df.show()"
   ]
  },
  {
   "cell_type": "code",
   "execution_count": 349,
   "id": "3c9f46f6-e99f-4dfa-baef-e96c1683dac9",
   "metadata": {},
   "outputs": [
    {
     "name": "stdout",
     "output_type": "stream",
     "text": [
      "+-----------+--------+------+--------------------+------+---+-----+-----+----------------+-------+-----+--------+\n",
      "|PassengerId|Survived|Pclass|                Name|   Sex|Age|SibSp|Parch|          Ticket|   Fare|Cabin|Embarked|\n",
      "+-----------+--------+------+--------------------+------+---+-----+-----+----------------+-------+-----+--------+\n",
      "|          1|       0|     3|Braund, Mr. Owen ...|  male| 22|    1|    0|       A/5 21171|   7.25| null|       S|\n",
      "|          2|       1|     1|Cumings, Mrs. Joh...|female| 38|    1|    0|        PC 17599|71.2833|  C85|       C|\n",
      "|          3|       1|     3|Heikkinen, Miss. ...|female| 26|    0|    0|STON/O2. 3101282|  7.925| null|       S|\n",
      "+-----------+--------+------+--------------------+------+---+-----+-----+----------------+-------+-----+--------+\n",
      "only showing top 3 rows\n",
      "\n"
     ]
    }
   ],
   "source": [
    "# df.show() pandas의 head() 기본 20줄\n",
    "# 괄호 안에 숫자를 넣으면 그 숫자만큼 출력\n",
    "df.show(3)"
   ]
  },
  {
   "cell_type": "code",
   "execution_count": 354,
   "id": "984b1faa-052c-47b0-b0ad-09ac1599066a",
   "metadata": {},
   "outputs": [
    {
     "name": "stdout",
     "output_type": "stream",
     "text": [
      "+----+-----+----------+---------+-------+----------+-------+----------+-------------+---------+-------+-----------------+--------------+-------+--------+--------+------+----+--------+------+-------+---------+----------------+--------+------------+------------+--------+-------------+-----------------+\n",
      "|Year|Month|DayofMonth|DayOfWeek|DepTime|CRSDepTime|ArrTime|CRSArrTime|UniqueCarrier|FlightNum|TailNum|ActualElapsedTime|CRSElapsedTime|AirTime|ArrDelay|DepDelay|Origin|Dest|Distance|TaxiIn|TaxiOut|Cancelled|CancellationCode|Diverted|CarrierDelay|WeatherDelay|NASDelay|SecurityDelay|LateAircraftDelay|\n",
      "+----+-----+----------+---------+-------+----------+-------+----------+-------------+---------+-------+-----------------+--------------+-------+--------+--------+------+----+--------+------+-------+---------+----------------+--------+------------+------------+--------+-------------+-----------------+\n",
      "|2008|    1|         3|        4|   1343|      1325|   1451|      1435|           WN|      588| N240WN|               68|            70|     55|      16|      18|   HOU| LIT|     393|     4|      9|        0|            null|       0|          16|           0|       0|            0|                0|\n",
      "|2008|    1|         3|        4|   1125|      1120|   1247|      1245|           WN|     1343| N523SW|               82|            85|     71|       2|       5|   HOU| MAF|     441|     3|      8|        0|            null|       0|          NA|          NA|      NA|           NA|               NA|\n",
      "|2008|    1|         3|        4|   2009|      2015|   2136|      2140|           WN|     3841| N280WN|               87|            85|     71|      -4|      -6|   HOU| MAF|     441|     2|     14|        0|            null|       0|          NA|          NA|      NA|           NA|               NA|\n",
      "+----+-----+----------+---------+-------+----------+-------+----------+-------------+---------+-------+-----------------+--------------+-------+--------+--------+------+----+--------+------+-------+---------+----------------+--------+------------+------------+--------+-------------+-----------------+\n",
      "only showing top 3 rows\n",
      "\n"
     ]
    }
   ],
   "source": [
    "df2 = spark.read.csv(\"./data/airline_on_time/2008.csv\", header=True)\n",
    "df2.show(3)"
   ]
  },
  {
   "cell_type": "code",
   "execution_count": 355,
   "id": "8838ae3e-a824-4336-b389-7813e7bdcd0c",
   "metadata": {},
   "outputs": [
    {
     "name": "stdout",
     "output_type": "stream",
     "text": [
      "-RECORD 0-------------------\n",
      " Year              | 2008   \n",
      " Month             | 1      \n",
      " DayofMonth        | 3      \n",
      " DayOfWeek         | 4      \n",
      " DepTime           | 1343   \n",
      " CRSDepTime        | 1325   \n",
      " ArrTime           | 1451   \n",
      " CRSArrTime        | 1435   \n",
      " UniqueCarrier     | WN     \n",
      " FlightNum         | 588    \n",
      " TailNum           | N240WN \n",
      " ActualElapsedTime | 68     \n",
      " CRSElapsedTime    | 70     \n",
      " AirTime           | 55     \n",
      " ArrDelay          | 16     \n",
      " DepDelay          | 18     \n",
      " Origin            | HOU    \n",
      " Dest              | LIT    \n",
      " Distance          | 393    \n",
      " TaxiIn            | 4      \n",
      " TaxiOut           | 9      \n",
      " Cancelled         | 0      \n",
      " CancellationCode  | null   \n",
      " Diverted          | 0      \n",
      " CarrierDelay      | 16     \n",
      " WeatherDelay      | 0      \n",
      " NASDelay          | 0      \n",
      " SecurityDelay     | 0      \n",
      " LateAircraftDelay | 0      \n",
      "-RECORD 1-------------------\n",
      " Year              | 2008   \n",
      " Month             | 1      \n",
      " DayofMonth        | 3      \n",
      " DayOfWeek         | 4      \n",
      " DepTime           | 1125   \n",
      " CRSDepTime        | 1120   \n",
      " ArrTime           | 1247   \n",
      " CRSArrTime        | 1245   \n",
      " UniqueCarrier     | WN     \n",
      " FlightNum         | 1343   \n",
      " TailNum           | N523SW \n",
      " ActualElapsedTime | 82     \n",
      " CRSElapsedTime    | 85     \n",
      " AirTime           | 71     \n",
      " ArrDelay          | 2      \n",
      " DepDelay          | 5      \n",
      " Origin            | HOU    \n",
      " Dest              | MAF    \n",
      " Distance          | 441    \n",
      " TaxiIn            | 3      \n",
      " TaxiOut           | 8      \n",
      " Cancelled         | 0      \n",
      " CancellationCode  | null   \n",
      " Diverted          | 0      \n",
      " CarrierDelay      | NA     \n",
      " WeatherDelay      | NA     \n",
      " NASDelay          | NA     \n",
      " SecurityDelay     | NA     \n",
      " LateAircraftDelay | NA     \n",
      "-RECORD 2-------------------\n",
      " Year              | 2008   \n",
      " Month             | 1      \n",
      " DayofMonth        | 3      \n",
      " DayOfWeek         | 4      \n",
      " DepTime           | 2009   \n",
      " CRSDepTime        | 2015   \n",
      " ArrTime           | 2136   \n",
      " CRSArrTime        | 2140   \n",
      " UniqueCarrier     | WN     \n",
      " FlightNum         | 3841   \n",
      " TailNum           | N280WN \n",
      " ActualElapsedTime | 87     \n",
      " CRSElapsedTime    | 85     \n",
      " AirTime           | 71     \n",
      " ArrDelay          | -4     \n",
      " DepDelay          | -6     \n",
      " Origin            | HOU    \n",
      " Dest              | MAF    \n",
      " Distance          | 441    \n",
      " TaxiIn            | 2      \n",
      " TaxiOut           | 14     \n",
      " Cancelled         | 0      \n",
      " CancellationCode  | null   \n",
      " Diverted          | 0      \n",
      " CarrierDelay      | NA     \n",
      " WeatherDelay      | NA     \n",
      " NASDelay          | NA     \n",
      " SecurityDelay     | NA     \n",
      " LateAircraftDelay | NA     \n",
      "only showing top 3 rows\n",
      "\n"
     ]
    }
   ],
   "source": [
    "df2.show(3, vertical=True)"
   ]
  },
  {
   "cell_type": "code",
   "execution_count": 356,
   "id": "50cc4be8-b6e0-45f5-8f85-02bdf70157d6",
   "metadata": {},
   "outputs": [
    {
     "data": {
      "text/html": [
       "<div>\n",
       "<style scoped>\n",
       "    .dataframe tbody tr th:only-of-type {\n",
       "        vertical-align: middle;\n",
       "    }\n",
       "\n",
       "    .dataframe tbody tr th {\n",
       "        vertical-align: top;\n",
       "    }\n",
       "\n",
       "    .dataframe thead th {\n",
       "        text-align: right;\n",
       "    }\n",
       "</style>\n",
       "<table border=\"1\" class=\"dataframe\">\n",
       "  <thead>\n",
       "    <tr style=\"text-align: right;\">\n",
       "      <th></th>\n",
       "      <th>Year</th>\n",
       "      <th>Month</th>\n",
       "      <th>DayofMonth</th>\n",
       "      <th>DayOfWeek</th>\n",
       "      <th>DepTime</th>\n",
       "      <th>CRSDepTime</th>\n",
       "      <th>ArrTime</th>\n",
       "      <th>CRSArrTime</th>\n",
       "      <th>UniqueCarrier</th>\n",
       "      <th>FlightNum</th>\n",
       "      <th>...</th>\n",
       "      <th>TaxiIn</th>\n",
       "      <th>TaxiOut</th>\n",
       "      <th>Cancelled</th>\n",
       "      <th>CancellationCode</th>\n",
       "      <th>Diverted</th>\n",
       "      <th>CarrierDelay</th>\n",
       "      <th>WeatherDelay</th>\n",
       "      <th>NASDelay</th>\n",
       "      <th>SecurityDelay</th>\n",
       "      <th>LateAircraftDelay</th>\n",
       "    </tr>\n",
       "  </thead>\n",
       "  <tbody>\n",
       "    <tr>\n",
       "      <th>0</th>\n",
       "      <td>2008</td>\n",
       "      <td>1</td>\n",
       "      <td>3</td>\n",
       "      <td>4</td>\n",
       "      <td>1343.0</td>\n",
       "      <td>1325</td>\n",
       "      <td>1451.0</td>\n",
       "      <td>1435</td>\n",
       "      <td>WN</td>\n",
       "      <td>588</td>\n",
       "      <td>...</td>\n",
       "      <td>4.0</td>\n",
       "      <td>9.0</td>\n",
       "      <td>0</td>\n",
       "      <td>NaN</td>\n",
       "      <td>0</td>\n",
       "      <td>16.0</td>\n",
       "      <td>0.0</td>\n",
       "      <td>0.0</td>\n",
       "      <td>0.0</td>\n",
       "      <td>0.0</td>\n",
       "    </tr>\n",
       "    <tr>\n",
       "      <th>1</th>\n",
       "      <td>2008</td>\n",
       "      <td>1</td>\n",
       "      <td>3</td>\n",
       "      <td>4</td>\n",
       "      <td>1125.0</td>\n",
       "      <td>1120</td>\n",
       "      <td>1247.0</td>\n",
       "      <td>1245</td>\n",
       "      <td>WN</td>\n",
       "      <td>1343</td>\n",
       "      <td>...</td>\n",
       "      <td>3.0</td>\n",
       "      <td>8.0</td>\n",
       "      <td>0</td>\n",
       "      <td>NaN</td>\n",
       "      <td>0</td>\n",
       "      <td>NaN</td>\n",
       "      <td>NaN</td>\n",
       "      <td>NaN</td>\n",
       "      <td>NaN</td>\n",
       "      <td>NaN</td>\n",
       "    </tr>\n",
       "    <tr>\n",
       "      <th>2</th>\n",
       "      <td>2008</td>\n",
       "      <td>1</td>\n",
       "      <td>3</td>\n",
       "      <td>4</td>\n",
       "      <td>2009.0</td>\n",
       "      <td>2015</td>\n",
       "      <td>2136.0</td>\n",
       "      <td>2140</td>\n",
       "      <td>WN</td>\n",
       "      <td>3841</td>\n",
       "      <td>...</td>\n",
       "      <td>2.0</td>\n",
       "      <td>14.0</td>\n",
       "      <td>0</td>\n",
       "      <td>NaN</td>\n",
       "      <td>0</td>\n",
       "      <td>NaN</td>\n",
       "      <td>NaN</td>\n",
       "      <td>NaN</td>\n",
       "      <td>NaN</td>\n",
       "      <td>NaN</td>\n",
       "    </tr>\n",
       "  </tbody>\n",
       "</table>\n",
       "<p>3 rows × 29 columns</p>\n",
       "</div>"
      ],
      "text/plain": [
       "   Year  Month  DayofMonth  DayOfWeek  DepTime  CRSDepTime  ArrTime  \\\n",
       "0  2008      1           3          4   1343.0        1325   1451.0   \n",
       "1  2008      1           3          4   1125.0        1120   1247.0   \n",
       "2  2008      1           3          4   2009.0        2015   2136.0   \n",
       "\n",
       "   CRSArrTime UniqueCarrier  FlightNum  ... TaxiIn  TaxiOut  Cancelled  \\\n",
       "0        1435            WN        588  ...    4.0      9.0          0   \n",
       "1        1245            WN       1343  ...    3.0      8.0          0   \n",
       "2        2140            WN       3841  ...    2.0     14.0          0   \n",
       "\n",
       "   CancellationCode  Diverted  CarrierDelay WeatherDelay NASDelay  \\\n",
       "0               NaN         0          16.0          0.0      0.0   \n",
       "1               NaN         0           NaN          NaN      NaN   \n",
       "2               NaN         0           NaN          NaN      NaN   \n",
       "\n",
       "   SecurityDelay  LateAircraftDelay  \n",
       "0            0.0                0.0  \n",
       "1            NaN                NaN  \n",
       "2            NaN                NaN  \n",
       "\n",
       "[3 rows x 29 columns]"
      ]
     },
     "execution_count": 356,
     "metadata": {},
     "output_type": "execute_result"
    }
   ],
   "source": [
    "import pandas as pd\n",
    "df3 = pd.read_csv(\"./data/airline_on_time/2008.csv\")\n",
    "df3.head(3)"
   ]
  },
  {
   "cell_type": "markdown",
   "id": "4d6c8abc-7e6b-4ed6-9d0b-24a215edd113",
   "metadata": {},
   "source": [
    "# 컬럼 이름 출력\n",
    "* 데이터프레임.columns"
   ]
  },
  {
   "cell_type": "code",
   "execution_count": 357,
   "id": "71801b56-945d-4e15-94d1-0e433d324d6e",
   "metadata": {},
   "outputs": [
    {
     "data": {
      "text/plain": [
       "['PassengerId',\n",
       " 'Survived',\n",
       " 'Pclass',\n",
       " 'Name',\n",
       " 'Sex',\n",
       " 'Age',\n",
       " 'SibSp',\n",
       " 'Parch',\n",
       " 'Ticket',\n",
       " 'Fare',\n",
       " 'Cabin',\n",
       " 'Embarked']"
      ]
     },
     "execution_count": 357,
     "metadata": {},
     "output_type": "execute_result"
    }
   ],
   "source": [
    "df.columns"
   ]
  },
  {
   "cell_type": "code",
   "execution_count": 358,
   "id": "4466b329-d4e4-41dd-82c1-d8ca862f69eb",
   "metadata": {},
   "outputs": [
    {
     "data": {
      "text/plain": [
       "['Year',\n",
       " 'Month',\n",
       " 'DayofMonth',\n",
       " 'DayOfWeek',\n",
       " 'DepTime',\n",
       " 'CRSDepTime',\n",
       " 'ArrTime',\n",
       " 'CRSArrTime',\n",
       " 'UniqueCarrier',\n",
       " 'FlightNum',\n",
       " 'TailNum',\n",
       " 'ActualElapsedTime',\n",
       " 'CRSElapsedTime',\n",
       " 'AirTime',\n",
       " 'ArrDelay',\n",
       " 'DepDelay',\n",
       " 'Origin',\n",
       " 'Dest',\n",
       " 'Distance',\n",
       " 'TaxiIn',\n",
       " 'TaxiOut',\n",
       " 'Cancelled',\n",
       " 'CancellationCode',\n",
       " 'Diverted',\n",
       " 'CarrierDelay',\n",
       " 'WeatherDelay',\n",
       " 'NASDelay',\n",
       " 'SecurityDelay',\n",
       " 'LateAircraftDelay']"
      ]
     },
     "execution_count": 358,
     "metadata": {},
     "output_type": "execute_result"
    }
   ],
   "source": [
    "df2.columns"
   ]
  },
  {
   "cell_type": "markdown",
   "id": "05a48310-fa7b-42d5-9aaf-04fc90ba6e61",
   "metadata": {},
   "source": [
    "# 기초 통계량 보기\n",
    "* pandas의 describe()와 동일\n",
    "* .describe()"
   ]
  },
  {
   "cell_type": "code",
   "execution_count": 359,
   "id": "47fff0ff-4632-47c5-a488-8be57fad71f3",
   "metadata": {},
   "outputs": [
    {
     "name": "stdout",
     "output_type": "stream",
     "text": [
      "-RECORD 0---------------------------\n",
      " summary     | count                \n",
      " PassengerId | 891                  \n",
      " Survived    | 891                  \n",
      " Pclass      | 891                  \n",
      " Name        | 891                  \n",
      " Sex         | 891                  \n",
      " Age         | 714                  \n",
      " SibSp       | 891                  \n",
      " Parch       | 891                  \n",
      " Ticket      | 891                  \n",
      " Fare        | 891                  \n",
      " Cabin       | 204                  \n",
      " Embarked    | 889                  \n",
      "-RECORD 1---------------------------\n",
      " summary     | mean                 \n",
      " PassengerId | 446.0                \n",
      " Survived    | 0.3838383838383838   \n",
      " Pclass      | 2.308641975308642    \n",
      " Name        | null                 \n",
      " Sex         | null                 \n",
      " Age         | 29.69911764705882    \n",
      " SibSp       | 0.5230078563411896   \n",
      " Parch       | 0.38159371492704824  \n",
      " Ticket      | 260318.54916792738   \n",
      " Fare        | 32.2042079685746     \n",
      " Cabin       | null                 \n",
      " Embarked    | null                 \n",
      "-RECORD 2---------------------------\n",
      " summary     | stddev               \n",
      " PassengerId | 257.3538420152301    \n",
      " Survived    | 0.48659245426485753  \n",
      " Pclass      | 0.8360712409770491   \n",
      " Name        | null                 \n",
      " Sex         | null                 \n",
      " Age         | 14.526497332334035   \n",
      " SibSp       | 1.1027434322934315   \n",
      " Parch       | 0.8060572211299488   \n",
      " Ticket      | 471609.26868834975   \n",
      " Fare        | 49.69342859718089    \n",
      " Cabin       | null                 \n",
      " Embarked    | null                 \n",
      "-RECORD 3---------------------------\n",
      " summary     | min                  \n",
      " PassengerId | 1                    \n",
      " Survived    | 0                    \n",
      " Pclass      | 1                    \n",
      " Name        | \"Andersson, Mr. A... \n",
      " Sex         | female               \n",
      " Age         | 0.42                 \n",
      " SibSp       | 0                    \n",
      " Parch       | 0                    \n",
      " Ticket      | 110152               \n",
      " Fare        | 0                    \n",
      " Cabin       | A10                  \n",
      " Embarked    | C                    \n",
      "-RECORD 4---------------------------\n",
      " summary     | max                  \n",
      " PassengerId | 99                   \n",
      " Survived    | 1                    \n",
      " Pclass      | 3                    \n",
      " Name        | van Melkebeke, Mr... \n",
      " Sex         | male                 \n",
      " Age         | 9                    \n",
      " SibSp       | 8                    \n",
      " Parch       | 6                    \n",
      " Ticket      | WE/P 5735            \n",
      " Fare        | 93.5                 \n",
      " Cabin       | T                    \n",
      " Embarked    | S                    \n",
      "\n"
     ]
    }
   ],
   "source": [
    "df.describe().show(vertical=True)"
   ]
  },
  {
   "cell_type": "markdown",
   "id": "6bd6fec0-1483-4d2b-8711-9b93b1d7e916",
   "metadata": {},
   "source": [
    "# 데이터 프레임의 모든 정보 보기, 일부만 보기\n",
    "* .collect() 모든 데이터 출력\n",
    "* .head() 첫 줄만 출력(괄호 안에 출력할 행 개수 지정 가능)\n",
    "* .take(숫자)지정한 숫자만큼 출력(숫자 지정 필수)\n",
    "* .tail(숫자)지정한 숫자만큼 끝에서부터 출력(숫자 지정 필수)"
   ]
  },
  {
   "cell_type": "code",
   "execution_count": 360,
   "id": "d3fd0b04-c6df-4f9a-9fb0-939275532b3b",
   "metadata": {},
   "outputs": [
    {
     "data": {
      "text/plain": [
       "[Row(PassengerId='1', Survived='0', Pclass='3', Name='Braund, Mr. Owen Harris', Sex='male', Age='22', SibSp='1', Parch='0', Ticket='A/5 21171', Fare='7.25', Cabin=None, Embarked='S'),\n",
       " Row(PassengerId='2', Survived='1', Pclass='1', Name='Cumings, Mrs. John Bradley (Florence Briggs Thayer)', Sex='female', Age='38', SibSp='1', Parch='0', Ticket='PC 17599', Fare='71.2833', Cabin='C85', Embarked='C'),\n",
       " Row(PassengerId='3', Survived='1', Pclass='3', Name='Heikkinen, Miss. Laina', Sex='female', Age='26', SibSp='0', Parch='0', Ticket='STON/O2. 3101282', Fare='7.925', Cabin=None, Embarked='S'),\n",
       " Row(PassengerId='4', Survived='1', Pclass='1', Name='Futrelle, Mrs. Jacques Heath (Lily May Peel)', Sex='female', Age='35', SibSp='1', Parch='0', Ticket='113803', Fare='53.1', Cabin='C123', Embarked='S'),\n",
       " Row(PassengerId='5', Survived='0', Pclass='3', Name='Allen, Mr. William Henry', Sex='male', Age='35', SibSp='0', Parch='0', Ticket='373450', Fare='8.05', Cabin=None, Embarked='S'),\n",
       " Row(PassengerId='6', Survived='0', Pclass='3', Name='Moran, Mr. James', Sex='male', Age=None, SibSp='0', Parch='0', Ticket='330877', Fare='8.4583', Cabin=None, Embarked='Q'),\n",
       " Row(PassengerId='7', Survived='0', Pclass='1', Name='McCarthy, Mr. Timothy J', Sex='male', Age='54', SibSp='0', Parch='0', Ticket='17463', Fare='51.8625', Cabin='E46', Embarked='S'),\n",
       " Row(PassengerId='8', Survived='0', Pclass='3', Name='Palsson, Master. Gosta Leonard', Sex='male', Age='2', SibSp='3', Parch='1', Ticket='349909', Fare='21.075', Cabin=None, Embarked='S'),\n",
       " Row(PassengerId='9', Survived='1', Pclass='3', Name='Johnson, Mrs. Oscar W (Elisabeth Vilhelmina Berg)', Sex='female', Age='27', SibSp='0', Parch='2', Ticket='347742', Fare='11.1333', Cabin=None, Embarked='S'),\n",
       " Row(PassengerId='10', Survived='1', Pclass='2', Name='Nasser, Mrs. Nicholas (Adele Achem)', Sex='female', Age='14', SibSp='1', Parch='0', Ticket='237736', Fare='30.0708', Cabin=None, Embarked='C'),\n",
       " Row(PassengerId='11', Survived='1', Pclass='3', Name='Sandstrom, Miss. Marguerite Rut', Sex='female', Age='4', SibSp='1', Parch='1', Ticket='PP 9549', Fare='16.7', Cabin='G6', Embarked='S'),\n",
       " Row(PassengerId='12', Survived='1', Pclass='1', Name='Bonnell, Miss. Elizabeth', Sex='female', Age='58', SibSp='0', Parch='0', Ticket='113783', Fare='26.55', Cabin='C103', Embarked='S'),\n",
       " Row(PassengerId='13', Survived='0', Pclass='3', Name='Saundercock, Mr. William Henry', Sex='male', Age='20', SibSp='0', Parch='0', Ticket='A/5. 2151', Fare='8.05', Cabin=None, Embarked='S'),\n",
       " Row(PassengerId='14', Survived='0', Pclass='3', Name='Andersson, Mr. Anders Johan', Sex='male', Age='39', SibSp='1', Parch='5', Ticket='347082', Fare='31.275', Cabin=None, Embarked='S'),\n",
       " Row(PassengerId='15', Survived='0', Pclass='3', Name='Vestrom, Miss. Hulda Amanda Adolfina', Sex='female', Age='14', SibSp='0', Parch='0', Ticket='350406', Fare='7.8542', Cabin=None, Embarked='S'),\n",
       " Row(PassengerId='16', Survived='1', Pclass='2', Name='Hewlett, Mrs. (Mary D Kingcome) ', Sex='female', Age='55', SibSp='0', Parch='0', Ticket='248706', Fare='16', Cabin=None, Embarked='S'),\n",
       " Row(PassengerId='17', Survived='0', Pclass='3', Name='Rice, Master. Eugene', Sex='male', Age='2', SibSp='4', Parch='1', Ticket='382652', Fare='29.125', Cabin=None, Embarked='Q'),\n",
       " Row(PassengerId='18', Survived='1', Pclass='2', Name='Williams, Mr. Charles Eugene', Sex='male', Age=None, SibSp='0', Parch='0', Ticket='244373', Fare='13', Cabin=None, Embarked='S'),\n",
       " Row(PassengerId='19', Survived='0', Pclass='3', Name='Vander Planke, Mrs. Julius (Emelia Maria Vandemoortele)', Sex='female', Age='31', SibSp='1', Parch='0', Ticket='345763', Fare='18', Cabin=None, Embarked='S'),\n",
       " Row(PassengerId='20', Survived='1', Pclass='3', Name='Masselmani, Mrs. Fatima', Sex='female', Age=None, SibSp='0', Parch='0', Ticket='2649', Fare='7.225', Cabin=None, Embarked='C'),\n",
       " Row(PassengerId='21', Survived='0', Pclass='2', Name='Fynney, Mr. Joseph J', Sex='male', Age='35', SibSp='0', Parch='0', Ticket='239865', Fare='26', Cabin=None, Embarked='S'),\n",
       " Row(PassengerId='22', Survived='1', Pclass='2', Name='Beesley, Mr. Lawrence', Sex='male', Age='34', SibSp='0', Parch='0', Ticket='248698', Fare='13', Cabin='D56', Embarked='S'),\n",
       " Row(PassengerId='23', Survived='1', Pclass='3', Name='\"McGowan, Miss. Anna \"\"Annie\"\"\"', Sex='female', Age='15', SibSp='0', Parch='0', Ticket='330923', Fare='8.0292', Cabin=None, Embarked='Q'),\n",
       " Row(PassengerId='24', Survived='1', Pclass='1', Name='Sloper, Mr. William Thompson', Sex='male', Age='28', SibSp='0', Parch='0', Ticket='113788', Fare='35.5', Cabin='A6', Embarked='S'),\n",
       " Row(PassengerId='25', Survived='0', Pclass='3', Name='Palsson, Miss. Torborg Danira', Sex='female', Age='8', SibSp='3', Parch='1', Ticket='349909', Fare='21.075', Cabin=None, Embarked='S'),\n",
       " Row(PassengerId='26', Survived='1', Pclass='3', Name='Asplund, Mrs. Carl Oscar (Selma Augusta Emilia Johansson)', Sex='female', Age='38', SibSp='1', Parch='5', Ticket='347077', Fare='31.3875', Cabin=None, Embarked='S'),\n",
       " Row(PassengerId='27', Survived='0', Pclass='3', Name='Emir, Mr. Farred Chehab', Sex='male', Age=None, SibSp='0', Parch='0', Ticket='2631', Fare='7.225', Cabin=None, Embarked='C'),\n",
       " Row(PassengerId='28', Survived='0', Pclass='1', Name='Fortune, Mr. Charles Alexander', Sex='male', Age='19', SibSp='3', Parch='2', Ticket='19950', Fare='263', Cabin='C23 C25 C27', Embarked='S'),\n",
       " Row(PassengerId='29', Survived='1', Pclass='3', Name='\"O\\'Dwyer, Miss. Ellen \"\"Nellie\"\"\"', Sex='female', Age=None, SibSp='0', Parch='0', Ticket='330959', Fare='7.8792', Cabin=None, Embarked='Q'),\n",
       " Row(PassengerId='30', Survived='0', Pclass='3', Name='Todoroff, Mr. Lalio', Sex='male', Age=None, SibSp='0', Parch='0', Ticket='349216', Fare='7.8958', Cabin=None, Embarked='S'),\n",
       " Row(PassengerId='31', Survived='0', Pclass='1', Name='Uruchurtu, Don. Manuel E', Sex='male', Age='40', SibSp='0', Parch='0', Ticket='PC 17601', Fare='27.7208', Cabin=None, Embarked='C'),\n",
       " Row(PassengerId='32', Survived='1', Pclass='1', Name='Spencer, Mrs. William Augustus (Marie Eugenie)', Sex='female', Age=None, SibSp='1', Parch='0', Ticket='PC 17569', Fare='146.5208', Cabin='B78', Embarked='C'),\n",
       " Row(PassengerId='33', Survived='1', Pclass='3', Name='Glynn, Miss. Mary Agatha', Sex='female', Age=None, SibSp='0', Parch='0', Ticket='335677', Fare='7.75', Cabin=None, Embarked='Q'),\n",
       " Row(PassengerId='34', Survived='0', Pclass='2', Name='Wheadon, Mr. Edward H', Sex='male', Age='66', SibSp='0', Parch='0', Ticket='C.A. 24579', Fare='10.5', Cabin=None, Embarked='S'),\n",
       " Row(PassengerId='35', Survived='0', Pclass='1', Name='Meyer, Mr. Edgar Joseph', Sex='male', Age='28', SibSp='1', Parch='0', Ticket='PC 17604', Fare='82.1708', Cabin=None, Embarked='C'),\n",
       " Row(PassengerId='36', Survived='0', Pclass='1', Name='Holverson, Mr. Alexander Oskar', Sex='male', Age='42', SibSp='1', Parch='0', Ticket='113789', Fare='52', Cabin=None, Embarked='S'),\n",
       " Row(PassengerId='37', Survived='1', Pclass='3', Name='Mamee, Mr. Hanna', Sex='male', Age=None, SibSp='0', Parch='0', Ticket='2677', Fare='7.2292', Cabin=None, Embarked='C'),\n",
       " Row(PassengerId='38', Survived='0', Pclass='3', Name='Cann, Mr. Ernest Charles', Sex='male', Age='21', SibSp='0', Parch='0', Ticket='A./5. 2152', Fare='8.05', Cabin=None, Embarked='S'),\n",
       " Row(PassengerId='39', Survived='0', Pclass='3', Name='Vander Planke, Miss. Augusta Maria', Sex='female', Age='18', SibSp='2', Parch='0', Ticket='345764', Fare='18', Cabin=None, Embarked='S'),\n",
       " Row(PassengerId='40', Survived='1', Pclass='3', Name='Nicola-Yarred, Miss. Jamila', Sex='female', Age='14', SibSp='1', Parch='0', Ticket='2651', Fare='11.2417', Cabin=None, Embarked='C'),\n",
       " Row(PassengerId='41', Survived='0', Pclass='3', Name='Ahlin, Mrs. Johan (Johanna Persdotter Larsson)', Sex='female', Age='40', SibSp='1', Parch='0', Ticket='7546', Fare='9.475', Cabin=None, Embarked='S'),\n",
       " Row(PassengerId='42', Survived='0', Pclass='2', Name='Turpin, Mrs. William John Robert (Dorothy Ann Wonnacott)', Sex='female', Age='27', SibSp='1', Parch='0', Ticket='11668', Fare='21', Cabin=None, Embarked='S'),\n",
       " Row(PassengerId='43', Survived='0', Pclass='3', Name='Kraeff, Mr. Theodor', Sex='male', Age=None, SibSp='0', Parch='0', Ticket='349253', Fare='7.8958', Cabin=None, Embarked='C'),\n",
       " Row(PassengerId='44', Survived='1', Pclass='2', Name='Laroche, Miss. Simonne Marie Anne Andree', Sex='female', Age='3', SibSp='1', Parch='2', Ticket='SC/Paris 2123', Fare='41.5792', Cabin=None, Embarked='C'),\n",
       " Row(PassengerId='45', Survived='1', Pclass='3', Name='Devaney, Miss. Margaret Delia', Sex='female', Age='19', SibSp='0', Parch='0', Ticket='330958', Fare='7.8792', Cabin=None, Embarked='Q'),\n",
       " Row(PassengerId='46', Survived='0', Pclass='3', Name='Rogers, Mr. William John', Sex='male', Age=None, SibSp='0', Parch='0', Ticket='S.C./A.4. 23567', Fare='8.05', Cabin=None, Embarked='S'),\n",
       " Row(PassengerId='47', Survived='0', Pclass='3', Name='Lennon, Mr. Denis', Sex='male', Age=None, SibSp='1', Parch='0', Ticket='370371', Fare='15.5', Cabin=None, Embarked='Q'),\n",
       " Row(PassengerId='48', Survived='1', Pclass='3', Name=\"O'Driscoll, Miss. Bridget\", Sex='female', Age=None, SibSp='0', Parch='0', Ticket='14311', Fare='7.75', Cabin=None, Embarked='Q'),\n",
       " Row(PassengerId='49', Survived='0', Pclass='3', Name='Samaan, Mr. Youssef', Sex='male', Age=None, SibSp='2', Parch='0', Ticket='2662', Fare='21.6792', Cabin=None, Embarked='C'),\n",
       " Row(PassengerId='50', Survived='0', Pclass='3', Name='Arnold-Franchi, Mrs. Josef (Josefine Franchi)', Sex='female', Age='18', SibSp='1', Parch='0', Ticket='349237', Fare='17.8', Cabin=None, Embarked='S'),\n",
       " Row(PassengerId='51', Survived='0', Pclass='3', Name='Panula, Master. Juha Niilo', Sex='male', Age='7', SibSp='4', Parch='1', Ticket='3101295', Fare='39.6875', Cabin=None, Embarked='S'),\n",
       " Row(PassengerId='52', Survived='0', Pclass='3', Name='Nosworthy, Mr. Richard Cater', Sex='male', Age='21', SibSp='0', Parch='0', Ticket='A/4. 39886', Fare='7.8', Cabin=None, Embarked='S'),\n",
       " Row(PassengerId='53', Survived='1', Pclass='1', Name='Harper, Mrs. Henry Sleeper (Myna Haxtun)', Sex='female', Age='49', SibSp='1', Parch='0', Ticket='PC 17572', Fare='76.7292', Cabin='D33', Embarked='C'),\n",
       " Row(PassengerId='54', Survived='1', Pclass='2', Name='Faunthorpe, Mrs. Lizzie (Elizabeth Anne Wilkinson)', Sex='female', Age='29', SibSp='1', Parch='0', Ticket='2926', Fare='26', Cabin=None, Embarked='S'),\n",
       " Row(PassengerId='55', Survived='0', Pclass='1', Name='Ostby, Mr. Engelhart Cornelius', Sex='male', Age='65', SibSp='0', Parch='1', Ticket='113509', Fare='61.9792', Cabin='B30', Embarked='C'),\n",
       " Row(PassengerId='56', Survived='1', Pclass='1', Name='Woolner, Mr. Hugh', Sex='male', Age=None, SibSp='0', Parch='0', Ticket='19947', Fare='35.5', Cabin='C52', Embarked='S'),\n",
       " Row(PassengerId='57', Survived='1', Pclass='2', Name='Rugg, Miss. Emily', Sex='female', Age='21', SibSp='0', Parch='0', Ticket='C.A. 31026', Fare='10.5', Cabin=None, Embarked='S'),\n",
       " Row(PassengerId='58', Survived='0', Pclass='3', Name='Novel, Mr. Mansouer', Sex='male', Age='28.5', SibSp='0', Parch='0', Ticket='2697', Fare='7.2292', Cabin=None, Embarked='C'),\n",
       " Row(PassengerId='59', Survived='1', Pclass='2', Name='West, Miss. Constance Mirium', Sex='female', Age='5', SibSp='1', Parch='2', Ticket='C.A. 34651', Fare='27.75', Cabin=None, Embarked='S'),\n",
       " Row(PassengerId='60', Survived='0', Pclass='3', Name='Goodwin, Master. William Frederick', Sex='male', Age='11', SibSp='5', Parch='2', Ticket='CA 2144', Fare='46.9', Cabin=None, Embarked='S'),\n",
       " Row(PassengerId='61', Survived='0', Pclass='3', Name='Sirayanian, Mr. Orsen', Sex='male', Age='22', SibSp='0', Parch='0', Ticket='2669', Fare='7.2292', Cabin=None, Embarked='C'),\n",
       " Row(PassengerId='62', Survived='1', Pclass='1', Name='Icard, Miss. Amelie', Sex='female', Age='38', SibSp='0', Parch='0', Ticket='113572', Fare='80', Cabin='B28', Embarked=None),\n",
       " Row(PassengerId='63', Survived='0', Pclass='1', Name='Harris, Mr. Henry Birkhardt', Sex='male', Age='45', SibSp='1', Parch='0', Ticket='36973', Fare='83.475', Cabin='C83', Embarked='S'),\n",
       " Row(PassengerId='64', Survived='0', Pclass='3', Name='Skoog, Master. Harald', Sex='male', Age='4', SibSp='3', Parch='2', Ticket='347088', Fare='27.9', Cabin=None, Embarked='S'),\n",
       " Row(PassengerId='65', Survived='0', Pclass='1', Name='Stewart, Mr. Albert A', Sex='male', Age=None, SibSp='0', Parch='0', Ticket='PC 17605', Fare='27.7208', Cabin=None, Embarked='C'),\n",
       " Row(PassengerId='66', Survived='1', Pclass='3', Name='Moubarek, Master. Gerios', Sex='male', Age=None, SibSp='1', Parch='1', Ticket='2661', Fare='15.2458', Cabin=None, Embarked='C'),\n",
       " Row(PassengerId='67', Survived='1', Pclass='2', Name='Nye, Mrs. (Elizabeth Ramell)', Sex='female', Age='29', SibSp='0', Parch='0', Ticket='C.A. 29395', Fare='10.5', Cabin='F33', Embarked='S'),\n",
       " Row(PassengerId='68', Survived='0', Pclass='3', Name='Crease, Mr. Ernest James', Sex='male', Age='19', SibSp='0', Parch='0', Ticket='S.P. 3464', Fare='8.1583', Cabin=None, Embarked='S'),\n",
       " Row(PassengerId='69', Survived='1', Pclass='3', Name='Andersson, Miss. Erna Alexandra', Sex='female', Age='17', SibSp='4', Parch='2', Ticket='3101281', Fare='7.925', Cabin=None, Embarked='S'),\n",
       " Row(PassengerId='70', Survived='0', Pclass='3', Name='Kink, Mr. Vincenz', Sex='male', Age='26', SibSp='2', Parch='0', Ticket='315151', Fare='8.6625', Cabin=None, Embarked='S'),\n",
       " Row(PassengerId='71', Survived='0', Pclass='2', Name='Jenkin, Mr. Stephen Curnow', Sex='male', Age='32', SibSp='0', Parch='0', Ticket='C.A. 33111', Fare='10.5', Cabin=None, Embarked='S'),\n",
       " Row(PassengerId='72', Survived='0', Pclass='3', Name='Goodwin, Miss. Lillian Amy', Sex='female', Age='16', SibSp='5', Parch='2', Ticket='CA 2144', Fare='46.9', Cabin=None, Embarked='S'),\n",
       " Row(PassengerId='73', Survived='0', Pclass='2', Name='Hood, Mr. Ambrose Jr', Sex='male', Age='21', SibSp='0', Parch='0', Ticket='S.O.C. 14879', Fare='73.5', Cabin=None, Embarked='S'),\n",
       " Row(PassengerId='74', Survived='0', Pclass='3', Name='Chronopoulos, Mr. Apostolos', Sex='male', Age='26', SibSp='1', Parch='0', Ticket='2680', Fare='14.4542', Cabin=None, Embarked='C'),\n",
       " Row(PassengerId='75', Survived='1', Pclass='3', Name='Bing, Mr. Lee', Sex='male', Age='32', SibSp='0', Parch='0', Ticket='1601', Fare='56.4958', Cabin=None, Embarked='S'),\n",
       " Row(PassengerId='76', Survived='0', Pclass='3', Name='Moen, Mr. Sigurd Hansen', Sex='male', Age='25', SibSp='0', Parch='0', Ticket='348123', Fare='7.65', Cabin='F G73', Embarked='S'),\n",
       " Row(PassengerId='77', Survived='0', Pclass='3', Name='Staneff, Mr. Ivan', Sex='male', Age=None, SibSp='0', Parch='0', Ticket='349208', Fare='7.8958', Cabin=None, Embarked='S'),\n",
       " Row(PassengerId='78', Survived='0', Pclass='3', Name='Moutal, Mr. Rahamin Haim', Sex='male', Age=None, SibSp='0', Parch='0', Ticket='374746', Fare='8.05', Cabin=None, Embarked='S'),\n",
       " Row(PassengerId='79', Survived='1', Pclass='2', Name='Caldwell, Master. Alden Gates', Sex='male', Age='0.83', SibSp='0', Parch='2', Ticket='248738', Fare='29', Cabin=None, Embarked='S'),\n",
       " Row(PassengerId='80', Survived='1', Pclass='3', Name='Dowdell, Miss. Elizabeth', Sex='female', Age='30', SibSp='0', Parch='0', Ticket='364516', Fare='12.475', Cabin=None, Embarked='S'),\n",
       " Row(PassengerId='81', Survived='0', Pclass='3', Name='Waelens, Mr. Achille', Sex='male', Age='22', SibSp='0', Parch='0', Ticket='345767', Fare='9', Cabin=None, Embarked='S'),\n",
       " Row(PassengerId='82', Survived='1', Pclass='3', Name='Sheerlinck, Mr. Jan Baptist', Sex='male', Age='29', SibSp='0', Parch='0', Ticket='345779', Fare='9.5', Cabin=None, Embarked='S'),\n",
       " Row(PassengerId='83', Survived='1', Pclass='3', Name='McDermott, Miss. Brigdet Delia', Sex='female', Age=None, SibSp='0', Parch='0', Ticket='330932', Fare='7.7875', Cabin=None, Embarked='Q'),\n",
       " Row(PassengerId='84', Survived='0', Pclass='1', Name='Carrau, Mr. Francisco M', Sex='male', Age='28', SibSp='0', Parch='0', Ticket='113059', Fare='47.1', Cabin=None, Embarked='S'),\n",
       " Row(PassengerId='85', Survived='1', Pclass='2', Name='Ilett, Miss. Bertha', Sex='female', Age='17', SibSp='0', Parch='0', Ticket='SO/C 14885', Fare='10.5', Cabin=None, Embarked='S'),\n",
       " Row(PassengerId='86', Survived='1', Pclass='3', Name='Backstrom, Mrs. Karl Alfred (Maria Mathilda Gustafsson)', Sex='female', Age='33', SibSp='3', Parch='0', Ticket='3101278', Fare='15.85', Cabin=None, Embarked='S'),\n",
       " Row(PassengerId='87', Survived='0', Pclass='3', Name='Ford, Mr. William Neal', Sex='male', Age='16', SibSp='1', Parch='3', Ticket='W./C. 6608', Fare='34.375', Cabin=None, Embarked='S'),\n",
       " Row(PassengerId='88', Survived='0', Pclass='3', Name='Slocovski, Mr. Selman Francis', Sex='male', Age=None, SibSp='0', Parch='0', Ticket='SOTON/OQ 392086', Fare='8.05', Cabin=None, Embarked='S'),\n",
       " Row(PassengerId='89', Survived='1', Pclass='1', Name='Fortune, Miss. Mabel Helen', Sex='female', Age='23', SibSp='3', Parch='2', Ticket='19950', Fare='263', Cabin='C23 C25 C27', Embarked='S'),\n",
       " Row(PassengerId='90', Survived='0', Pclass='3', Name='Celotti, Mr. Francesco', Sex='male', Age='24', SibSp='0', Parch='0', Ticket='343275', Fare='8.05', Cabin=None, Embarked='S'),\n",
       " Row(PassengerId='91', Survived='0', Pclass='3', Name='Christmann, Mr. Emil', Sex='male', Age='29', SibSp='0', Parch='0', Ticket='343276', Fare='8.05', Cabin=None, Embarked='S'),\n",
       " Row(PassengerId='92', Survived='0', Pclass='3', Name='Andreasson, Mr. Paul Edvin', Sex='male', Age='20', SibSp='0', Parch='0', Ticket='347466', Fare='7.8542', Cabin=None, Embarked='S'),\n",
       " Row(PassengerId='93', Survived='0', Pclass='1', Name='Chaffee, Mr. Herbert Fuller', Sex='male', Age='46', SibSp='1', Parch='0', Ticket='W.E.P. 5734', Fare='61.175', Cabin='E31', Embarked='S'),\n",
       " Row(PassengerId='94', Survived='0', Pclass='3', Name='Dean, Mr. Bertram Frank', Sex='male', Age='26', SibSp='1', Parch='2', Ticket='C.A. 2315', Fare='20.575', Cabin=None, Embarked='S'),\n",
       " Row(PassengerId='95', Survived='0', Pclass='3', Name='Coxon, Mr. Daniel', Sex='male', Age='59', SibSp='0', Parch='0', Ticket='364500', Fare='7.25', Cabin=None, Embarked='S'),\n",
       " Row(PassengerId='96', Survived='0', Pclass='3', Name='Shorney, Mr. Charles Joseph', Sex='male', Age=None, SibSp='0', Parch='0', Ticket='374910', Fare='8.05', Cabin=None, Embarked='S'),\n",
       " Row(PassengerId='97', Survived='0', Pclass='1', Name='Goldschmidt, Mr. George B', Sex='male', Age='71', SibSp='0', Parch='0', Ticket='PC 17754', Fare='34.6542', Cabin='A5', Embarked='C'),\n",
       " Row(PassengerId='98', Survived='1', Pclass='1', Name='Greenfield, Mr. William Bertram', Sex='male', Age='23', SibSp='0', Parch='1', Ticket='PC 17759', Fare='63.3583', Cabin='D10 D12', Embarked='C'),\n",
       " Row(PassengerId='99', Survived='1', Pclass='2', Name='Doling, Mrs. John T (Ada Julia Bone)', Sex='female', Age='34', SibSp='0', Parch='1', Ticket='231919', Fare='23', Cabin=None, Embarked='S'),\n",
       " Row(PassengerId='100', Survived='0', Pclass='2', Name='Kantor, Mr. Sinai', Sex='male', Age='34', SibSp='1', Parch='0', Ticket='244367', Fare='26', Cabin=None, Embarked='S'),\n",
       " Row(PassengerId='101', Survived='0', Pclass='3', Name='Petranec, Miss. Matilda', Sex='female', Age='28', SibSp='0', Parch='0', Ticket='349245', Fare='7.8958', Cabin=None, Embarked='S'),\n",
       " Row(PassengerId='102', Survived='0', Pclass='3', Name='\"Petroff, Mr. Pastcho (\"\"Pentcho\"\")\"', Sex='male', Age=None, SibSp='0', Parch='0', Ticket='349215', Fare='7.8958', Cabin=None, Embarked='S'),\n",
       " Row(PassengerId='103', Survived='0', Pclass='1', Name='White, Mr. Richard Frasar', Sex='male', Age='21', SibSp='0', Parch='1', Ticket='35281', Fare='77.2875', Cabin='D26', Embarked='S'),\n",
       " Row(PassengerId='104', Survived='0', Pclass='3', Name='Johansson, Mr. Gustaf Joel', Sex='male', Age='33', SibSp='0', Parch='0', Ticket='7540', Fare='8.6542', Cabin=None, Embarked='S'),\n",
       " Row(PassengerId='105', Survived='0', Pclass='3', Name='Gustafsson, Mr. Anders Vilhelm', Sex='male', Age='37', SibSp='2', Parch='0', Ticket='3101276', Fare='7.925', Cabin=None, Embarked='S'),\n",
       " Row(PassengerId='106', Survived='0', Pclass='3', Name='Mionoff, Mr. Stoytcho', Sex='male', Age='28', SibSp='0', Parch='0', Ticket='349207', Fare='7.8958', Cabin=None, Embarked='S'),\n",
       " Row(PassengerId='107', Survived='1', Pclass='3', Name='Salkjelsvik, Miss. Anna Kristine', Sex='female', Age='21', SibSp='0', Parch='0', Ticket='343120', Fare='7.65', Cabin=None, Embarked='S'),\n",
       " Row(PassengerId='108', Survived='1', Pclass='3', Name='Moss, Mr. Albert Johan', Sex='male', Age=None, SibSp='0', Parch='0', Ticket='312991', Fare='7.775', Cabin=None, Embarked='S'),\n",
       " Row(PassengerId='109', Survived='0', Pclass='3', Name='Rekic, Mr. Tido', Sex='male', Age='38', SibSp='0', Parch='0', Ticket='349249', Fare='7.8958', Cabin=None, Embarked='S'),\n",
       " Row(PassengerId='110', Survived='1', Pclass='3', Name='Moran, Miss. Bertha', Sex='female', Age=None, SibSp='1', Parch='0', Ticket='371110', Fare='24.15', Cabin=None, Embarked='Q'),\n",
       " Row(PassengerId='111', Survived='0', Pclass='1', Name='Porter, Mr. Walter Chamberlain', Sex='male', Age='47', SibSp='0', Parch='0', Ticket='110465', Fare='52', Cabin='C110', Embarked='S'),\n",
       " Row(PassengerId='112', Survived='0', Pclass='3', Name='Zabour, Miss. Hileni', Sex='female', Age='14.5', SibSp='1', Parch='0', Ticket='2665', Fare='14.4542', Cabin=None, Embarked='C'),\n",
       " Row(PassengerId='113', Survived='0', Pclass='3', Name='Barton, Mr. David John', Sex='male', Age='22', SibSp='0', Parch='0', Ticket='324669', Fare='8.05', Cabin=None, Embarked='S'),\n",
       " Row(PassengerId='114', Survived='0', Pclass='3', Name='Jussila, Miss. Katriina', Sex='female', Age='20', SibSp='1', Parch='0', Ticket='4136', Fare='9.825', Cabin=None, Embarked='S'),\n",
       " Row(PassengerId='115', Survived='0', Pclass='3', Name='Attalah, Miss. Malake', Sex='female', Age='17', SibSp='0', Parch='0', Ticket='2627', Fare='14.4583', Cabin=None, Embarked='C'),\n",
       " Row(PassengerId='116', Survived='0', Pclass='3', Name='Pekoniemi, Mr. Edvard', Sex='male', Age='21', SibSp='0', Parch='0', Ticket='STON/O 2. 3101294', Fare='7.925', Cabin=None, Embarked='S'),\n",
       " Row(PassengerId='117', Survived='0', Pclass='3', Name='Connors, Mr. Patrick', Sex='male', Age='70.5', SibSp='0', Parch='0', Ticket='370369', Fare='7.75', Cabin=None, Embarked='Q'),\n",
       " Row(PassengerId='118', Survived='0', Pclass='2', Name='Turpin, Mr. William John Robert', Sex='male', Age='29', SibSp='1', Parch='0', Ticket='11668', Fare='21', Cabin=None, Embarked='S'),\n",
       " Row(PassengerId='119', Survived='0', Pclass='1', Name='Baxter, Mr. Quigg Edmond', Sex='male', Age='24', SibSp='0', Parch='1', Ticket='PC 17558', Fare='247.5208', Cabin='B58 B60', Embarked='C'),\n",
       " Row(PassengerId='120', Survived='0', Pclass='3', Name='Andersson, Miss. Ellis Anna Maria', Sex='female', Age='2', SibSp='4', Parch='2', Ticket='347082', Fare='31.275', Cabin=None, Embarked='S'),\n",
       " Row(PassengerId='121', Survived='0', Pclass='2', Name='Hickman, Mr. Stanley George', Sex='male', Age='21', SibSp='2', Parch='0', Ticket='S.O.C. 14879', Fare='73.5', Cabin=None, Embarked='S'),\n",
       " Row(PassengerId='122', Survived='0', Pclass='3', Name='Moore, Mr. Leonard Charles', Sex='male', Age=None, SibSp='0', Parch='0', Ticket='A4. 54510', Fare='8.05', Cabin=None, Embarked='S'),\n",
       " Row(PassengerId='123', Survived='0', Pclass='2', Name='Nasser, Mr. Nicholas', Sex='male', Age='32.5', SibSp='1', Parch='0', Ticket='237736', Fare='30.0708', Cabin=None, Embarked='C'),\n",
       " Row(PassengerId='124', Survived='1', Pclass='2', Name='Webber, Miss. Susan', Sex='female', Age='32.5', SibSp='0', Parch='0', Ticket='27267', Fare='13', Cabin='E101', Embarked='S'),\n",
       " Row(PassengerId='125', Survived='0', Pclass='1', Name='White, Mr. Percival Wayland', Sex='male', Age='54', SibSp='0', Parch='1', Ticket='35281', Fare='77.2875', Cabin='D26', Embarked='S'),\n",
       " Row(PassengerId='126', Survived='1', Pclass='3', Name='Nicola-Yarred, Master. Elias', Sex='male', Age='12', SibSp='1', Parch='0', Ticket='2651', Fare='11.2417', Cabin=None, Embarked='C'),\n",
       " Row(PassengerId='127', Survived='0', Pclass='3', Name='McMahon, Mr. Martin', Sex='male', Age=None, SibSp='0', Parch='0', Ticket='370372', Fare='7.75', Cabin=None, Embarked='Q'),\n",
       " Row(PassengerId='128', Survived='1', Pclass='3', Name='Madsen, Mr. Fridtjof Arne', Sex='male', Age='24', SibSp='0', Parch='0', Ticket='C 17369', Fare='7.1417', Cabin=None, Embarked='S'),\n",
       " Row(PassengerId='129', Survived='1', Pclass='3', Name='Peter, Miss. Anna', Sex='female', Age=None, SibSp='1', Parch='1', Ticket='2668', Fare='22.3583', Cabin='F E69', Embarked='C'),\n",
       " Row(PassengerId='130', Survived='0', Pclass='3', Name='Ekstrom, Mr. Johan', Sex='male', Age='45', SibSp='0', Parch='0', Ticket='347061', Fare='6.975', Cabin=None, Embarked='S'),\n",
       " Row(PassengerId='131', Survived='0', Pclass='3', Name='Drazenoic, Mr. Jozef', Sex='male', Age='33', SibSp='0', Parch='0', Ticket='349241', Fare='7.8958', Cabin=None, Embarked='C'),\n",
       " Row(PassengerId='132', Survived='0', Pclass='3', Name='Coelho, Mr. Domingos Fernandeo', Sex='male', Age='20', SibSp='0', Parch='0', Ticket='SOTON/O.Q. 3101307', Fare='7.05', Cabin=None, Embarked='S'),\n",
       " Row(PassengerId='133', Survived='0', Pclass='3', Name='Robins, Mrs. Alexander A (Grace Charity Laury)', Sex='female', Age='47', SibSp='1', Parch='0', Ticket='A/5. 3337', Fare='14.5', Cabin=None, Embarked='S'),\n",
       " Row(PassengerId='134', Survived='1', Pclass='2', Name='Weisz, Mrs. Leopold (Mathilde Francoise Pede)', Sex='female', Age='29', SibSp='1', Parch='0', Ticket='228414', Fare='26', Cabin=None, Embarked='S'),\n",
       " Row(PassengerId='135', Survived='0', Pclass='2', Name='Sobey, Mr. Samuel James Hayden', Sex='male', Age='25', SibSp='0', Parch='0', Ticket='C.A. 29178', Fare='13', Cabin=None, Embarked='S'),\n",
       " Row(PassengerId='136', Survived='0', Pclass='2', Name='Richard, Mr. Emile', Sex='male', Age='23', SibSp='0', Parch='0', Ticket='SC/PARIS 2133', Fare='15.0458', Cabin=None, Embarked='C'),\n",
       " Row(PassengerId='137', Survived='1', Pclass='1', Name='Newsom, Miss. Helen Monypeny', Sex='female', Age='19', SibSp='0', Parch='2', Ticket='11752', Fare='26.2833', Cabin='D47', Embarked='S'),\n",
       " Row(PassengerId='138', Survived='0', Pclass='1', Name='Futrelle, Mr. Jacques Heath', Sex='male', Age='37', SibSp='1', Parch='0', Ticket='113803', Fare='53.1', Cabin='C123', Embarked='S'),\n",
       " Row(PassengerId='139', Survived='0', Pclass='3', Name='Osen, Mr. Olaf Elon', Sex='male', Age='16', SibSp='0', Parch='0', Ticket='7534', Fare='9.2167', Cabin=None, Embarked='S'),\n",
       " Row(PassengerId='140', Survived='0', Pclass='1', Name='Giglio, Mr. Victor', Sex='male', Age='24', SibSp='0', Parch='0', Ticket='PC 17593', Fare='79.2', Cabin='B86', Embarked='C'),\n",
       " Row(PassengerId='141', Survived='0', Pclass='3', Name='Boulos, Mrs. Joseph (Sultana)', Sex='female', Age=None, SibSp='0', Parch='2', Ticket='2678', Fare='15.2458', Cabin=None, Embarked='C'),\n",
       " Row(PassengerId='142', Survived='1', Pclass='3', Name='Nysten, Miss. Anna Sofia', Sex='female', Age='22', SibSp='0', Parch='0', Ticket='347081', Fare='7.75', Cabin=None, Embarked='S'),\n",
       " Row(PassengerId='143', Survived='1', Pclass='3', Name='Hakkarainen, Mrs. Pekka Pietari (Elin Matilda Dolck)', Sex='female', Age='24', SibSp='1', Parch='0', Ticket='STON/O2. 3101279', Fare='15.85', Cabin=None, Embarked='S'),\n",
       " Row(PassengerId='144', Survived='0', Pclass='3', Name='Burke, Mr. Jeremiah', Sex='male', Age='19', SibSp='0', Parch='0', Ticket='365222', Fare='6.75', Cabin=None, Embarked='Q'),\n",
       " Row(PassengerId='145', Survived='0', Pclass='2', Name='Andrew, Mr. Edgardo Samuel', Sex='male', Age='18', SibSp='0', Parch='0', Ticket='231945', Fare='11.5', Cabin=None, Embarked='S'),\n",
       " Row(PassengerId='146', Survived='0', Pclass='2', Name='Nicholls, Mr. Joseph Charles', Sex='male', Age='19', SibSp='1', Parch='1', Ticket='C.A. 33112', Fare='36.75', Cabin=None, Embarked='S'),\n",
       " Row(PassengerId='147', Survived='1', Pclass='3', Name='\"Andersson, Mr. August Edvard (\"\"Wennerstrom\"\")\"', Sex='male', Age='27', SibSp='0', Parch='0', Ticket='350043', Fare='7.7958', Cabin=None, Embarked='S'),\n",
       " Row(PassengerId='148', Survived='0', Pclass='3', Name='\"Ford, Miss. Robina Maggie \"\"Ruby\"\"\"', Sex='female', Age='9', SibSp='2', Parch='2', Ticket='W./C. 6608', Fare='34.375', Cabin=None, Embarked='S'),\n",
       " Row(PassengerId='149', Survived='0', Pclass='2', Name='\"Navratil, Mr. Michel (\"\"Louis M Hoffman\"\")\"', Sex='male', Age='36.5', SibSp='0', Parch='2', Ticket='230080', Fare='26', Cabin='F2', Embarked='S'),\n",
       " Row(PassengerId='150', Survived='0', Pclass='2', Name='Byles, Rev. Thomas Roussel Davids', Sex='male', Age='42', SibSp='0', Parch='0', Ticket='244310', Fare='13', Cabin=None, Embarked='S'),\n",
       " Row(PassengerId='151', Survived='0', Pclass='2', Name='Bateman, Rev. Robert James', Sex='male', Age='51', SibSp='0', Parch='0', Ticket='S.O.P. 1166', Fare='12.525', Cabin=None, Embarked='S'),\n",
       " Row(PassengerId='152', Survived='1', Pclass='1', Name='Pears, Mrs. Thomas (Edith Wearne)', Sex='female', Age='22', SibSp='1', Parch='0', Ticket='113776', Fare='66.6', Cabin='C2', Embarked='S'),\n",
       " Row(PassengerId='153', Survived='0', Pclass='3', Name='Meo, Mr. Alfonzo', Sex='male', Age='55.5', SibSp='0', Parch='0', Ticket='A.5. 11206', Fare='8.05', Cabin=None, Embarked='S'),\n",
       " Row(PassengerId='154', Survived='0', Pclass='3', Name='van Billiard, Mr. Austin Blyler', Sex='male', Age='40.5', SibSp='0', Parch='2', Ticket='A/5. 851', Fare='14.5', Cabin=None, Embarked='S'),\n",
       " Row(PassengerId='155', Survived='0', Pclass='3', Name='Olsen, Mr. Ole Martin', Sex='male', Age=None, SibSp='0', Parch='0', Ticket='Fa 265302', Fare='7.3125', Cabin=None, Embarked='S'),\n",
       " Row(PassengerId='156', Survived='0', Pclass='1', Name='Williams, Mr. Charles Duane', Sex='male', Age='51', SibSp='0', Parch='1', Ticket='PC 17597', Fare='61.3792', Cabin=None, Embarked='C'),\n",
       " Row(PassengerId='157', Survived='1', Pclass='3', Name='\"Gilnagh, Miss. Katherine \"\"Katie\"\"\"', Sex='female', Age='16', SibSp='0', Parch='0', Ticket='35851', Fare='7.7333', Cabin=None, Embarked='Q'),\n",
       " Row(PassengerId='158', Survived='0', Pclass='3', Name='Corn, Mr. Harry', Sex='male', Age='30', SibSp='0', Parch='0', Ticket='SOTON/OQ 392090', Fare='8.05', Cabin=None, Embarked='S'),\n",
       " Row(PassengerId='159', Survived='0', Pclass='3', Name='Smiljanic, Mr. Mile', Sex='male', Age=None, SibSp='0', Parch='0', Ticket='315037', Fare='8.6625', Cabin=None, Embarked='S'),\n",
       " Row(PassengerId='160', Survived='0', Pclass='3', Name='Sage, Master. Thomas Henry', Sex='male', Age=None, SibSp='8', Parch='2', Ticket='CA. 2343', Fare='69.55', Cabin=None, Embarked='S'),\n",
       " Row(PassengerId='161', Survived='0', Pclass='3', Name='Cribb, Mr. John Hatfield', Sex='male', Age='44', SibSp='0', Parch='1', Ticket='371362', Fare='16.1', Cabin=None, Embarked='S'),\n",
       " Row(PassengerId='162', Survived='1', Pclass='2', Name='\"Watt, Mrs. James (Elizabeth \"\"Bessie\"\" Inglis Milne)\"', Sex='female', Age='40', SibSp='0', Parch='0', Ticket='C.A. 33595', Fare='15.75', Cabin=None, Embarked='S'),\n",
       " Row(PassengerId='163', Survived='0', Pclass='3', Name='Bengtsson, Mr. John Viktor', Sex='male', Age='26', SibSp='0', Parch='0', Ticket='347068', Fare='7.775', Cabin=None, Embarked='S'),\n",
       " Row(PassengerId='164', Survived='0', Pclass='3', Name='Calic, Mr. Jovo', Sex='male', Age='17', SibSp='0', Parch='0', Ticket='315093', Fare='8.6625', Cabin=None, Embarked='S'),\n",
       " Row(PassengerId='165', Survived='0', Pclass='3', Name='Panula, Master. Eino Viljami', Sex='male', Age='1', SibSp='4', Parch='1', Ticket='3101295', Fare='39.6875', Cabin=None, Embarked='S'),\n",
       " Row(PassengerId='166', Survived='1', Pclass='3', Name='\"Goldsmith, Master. Frank John William \"\"Frankie\"\"\"', Sex='male', Age='9', SibSp='0', Parch='2', Ticket='363291', Fare='20.525', Cabin=None, Embarked='S'),\n",
       " Row(PassengerId='167', Survived='1', Pclass='1', Name='Chibnall, Mrs. (Edith Martha Bowerman)', Sex='female', Age=None, SibSp='0', Parch='1', Ticket='113505', Fare='55', Cabin='E33', Embarked='S'),\n",
       " Row(PassengerId='168', Survived='0', Pclass='3', Name='Skoog, Mrs. William (Anna Bernhardina Karlsson)', Sex='female', Age='45', SibSp='1', Parch='4', Ticket='347088', Fare='27.9', Cabin=None, Embarked='S'),\n",
       " Row(PassengerId='169', Survived='0', Pclass='1', Name='Baumann, Mr. John D', Sex='male', Age=None, SibSp='0', Parch='0', Ticket='PC 17318', Fare='25.925', Cabin=None, Embarked='S'),\n",
       " Row(PassengerId='170', Survived='0', Pclass='3', Name='Ling, Mr. Lee', Sex='male', Age='28', SibSp='0', Parch='0', Ticket='1601', Fare='56.4958', Cabin=None, Embarked='S'),\n",
       " Row(PassengerId='171', Survived='0', Pclass='1', Name='Van der hoef, Mr. Wyckoff', Sex='male', Age='61', SibSp='0', Parch='0', Ticket='111240', Fare='33.5', Cabin='B19', Embarked='S'),\n",
       " Row(PassengerId='172', Survived='0', Pclass='3', Name='Rice, Master. Arthur', Sex='male', Age='4', SibSp='4', Parch='1', Ticket='382652', Fare='29.125', Cabin=None, Embarked='Q'),\n",
       " Row(PassengerId='173', Survived='1', Pclass='3', Name='Johnson, Miss. Eleanor Ileen', Sex='female', Age='1', SibSp='1', Parch='1', Ticket='347742', Fare='11.1333', Cabin=None, Embarked='S'),\n",
       " Row(PassengerId='174', Survived='0', Pclass='3', Name='Sivola, Mr. Antti Wilhelm', Sex='male', Age='21', SibSp='0', Parch='0', Ticket='STON/O 2. 3101280', Fare='7.925', Cabin=None, Embarked='S'),\n",
       " Row(PassengerId='175', Survived='0', Pclass='1', Name='Smith, Mr. James Clinch', Sex='male', Age='56', SibSp='0', Parch='0', Ticket='17764', Fare='30.6958', Cabin='A7', Embarked='C'),\n",
       " Row(PassengerId='176', Survived='0', Pclass='3', Name='Klasen, Mr. Klas Albin', Sex='male', Age='18', SibSp='1', Parch='1', Ticket='350404', Fare='7.8542', Cabin=None, Embarked='S'),\n",
       " Row(PassengerId='177', Survived='0', Pclass='3', Name='Lefebre, Master. Henry Forbes', Sex='male', Age=None, SibSp='3', Parch='1', Ticket='4133', Fare='25.4667', Cabin=None, Embarked='S'),\n",
       " Row(PassengerId='178', Survived='0', Pclass='1', Name='Isham, Miss. Ann Elizabeth', Sex='female', Age='50', SibSp='0', Parch='0', Ticket='PC 17595', Fare='28.7125', Cabin='C49', Embarked='C'),\n",
       " Row(PassengerId='179', Survived='0', Pclass='2', Name='Hale, Mr. Reginald', Sex='male', Age='30', SibSp='0', Parch='0', Ticket='250653', Fare='13', Cabin=None, Embarked='S'),\n",
       " Row(PassengerId='180', Survived='0', Pclass='3', Name='Leonard, Mr. Lionel', Sex='male', Age='36', SibSp='0', Parch='0', Ticket='LINE', Fare='0', Cabin=None, Embarked='S'),\n",
       " Row(PassengerId='181', Survived='0', Pclass='3', Name='Sage, Miss. Constance Gladys', Sex='female', Age=None, SibSp='8', Parch='2', Ticket='CA. 2343', Fare='69.55', Cabin=None, Embarked='S'),\n",
       " Row(PassengerId='182', Survived='0', Pclass='2', Name='Pernot, Mr. Rene', Sex='male', Age=None, SibSp='0', Parch='0', Ticket='SC/PARIS 2131', Fare='15.05', Cabin=None, Embarked='C'),\n",
       " Row(PassengerId='183', Survived='0', Pclass='3', Name='Asplund, Master. Clarence Gustaf Hugo', Sex='male', Age='9', SibSp='4', Parch='2', Ticket='347077', Fare='31.3875', Cabin=None, Embarked='S'),\n",
       " Row(PassengerId='184', Survived='1', Pclass='2', Name='Becker, Master. Richard F', Sex='male', Age='1', SibSp='2', Parch='1', Ticket='230136', Fare='39', Cabin='F4', Embarked='S'),\n",
       " Row(PassengerId='185', Survived='1', Pclass='3', Name='Kink-Heilmann, Miss. Luise Gretchen', Sex='female', Age='4', SibSp='0', Parch='2', Ticket='315153', Fare='22.025', Cabin=None, Embarked='S'),\n",
       " Row(PassengerId='186', Survived='0', Pclass='1', Name='Rood, Mr. Hugh Roscoe', Sex='male', Age=None, SibSp='0', Parch='0', Ticket='113767', Fare='50', Cabin='A32', Embarked='S'),\n",
       " Row(PassengerId='187', Survived='1', Pclass='3', Name='\"O\\'Brien, Mrs. Thomas (Johanna \"\"Hannah\"\" Godfrey)\"', Sex='female', Age=None, SibSp='1', Parch='0', Ticket='370365', Fare='15.5', Cabin=None, Embarked='Q'),\n",
       " Row(PassengerId='188', Survived='1', Pclass='1', Name='\"Romaine, Mr. Charles Hallace (\"\"Mr C Rolmane\"\")\"', Sex='male', Age='45', SibSp='0', Parch='0', Ticket='111428', Fare='26.55', Cabin=None, Embarked='S'),\n",
       " Row(PassengerId='189', Survived='0', Pclass='3', Name='Bourke, Mr. John', Sex='male', Age='40', SibSp='1', Parch='1', Ticket='364849', Fare='15.5', Cabin=None, Embarked='Q'),\n",
       " Row(PassengerId='190', Survived='0', Pclass='3', Name='Turcin, Mr. Stjepan', Sex='male', Age='36', SibSp='0', Parch='0', Ticket='349247', Fare='7.8958', Cabin=None, Embarked='S'),\n",
       " Row(PassengerId='191', Survived='1', Pclass='2', Name='Pinsky, Mrs. (Rosa)', Sex='female', Age='32', SibSp='0', Parch='0', Ticket='234604', Fare='13', Cabin=None, Embarked='S'),\n",
       " Row(PassengerId='192', Survived='0', Pclass='2', Name='Carbines, Mr. William', Sex='male', Age='19', SibSp='0', Parch='0', Ticket='28424', Fare='13', Cabin=None, Embarked='S'),\n",
       " Row(PassengerId='193', Survived='1', Pclass='3', Name='Andersen-Jensen, Miss. Carla Christine Nielsine', Sex='female', Age='19', SibSp='1', Parch='0', Ticket='350046', Fare='7.8542', Cabin=None, Embarked='S'),\n",
       " Row(PassengerId='194', Survived='1', Pclass='2', Name='Navratil, Master. Michel M', Sex='male', Age='3', SibSp='1', Parch='1', Ticket='230080', Fare='26', Cabin='F2', Embarked='S'),\n",
       " Row(PassengerId='195', Survived='1', Pclass='1', Name='Brown, Mrs. James Joseph (Margaret Tobin)', Sex='female', Age='44', SibSp='0', Parch='0', Ticket='PC 17610', Fare='27.7208', Cabin='B4', Embarked='C'),\n",
       " Row(PassengerId='196', Survived='1', Pclass='1', Name='Lurette, Miss. Elise', Sex='female', Age='58', SibSp='0', Parch='0', Ticket='PC 17569', Fare='146.5208', Cabin='B80', Embarked='C'),\n",
       " Row(PassengerId='197', Survived='0', Pclass='3', Name='Mernagh, Mr. Robert', Sex='male', Age=None, SibSp='0', Parch='0', Ticket='368703', Fare='7.75', Cabin=None, Embarked='Q'),\n",
       " Row(PassengerId='198', Survived='0', Pclass='3', Name='Olsen, Mr. Karl Siegwart Andreas', Sex='male', Age='42', SibSp='0', Parch='1', Ticket='4579', Fare='8.4042', Cabin=None, Embarked='S'),\n",
       " Row(PassengerId='199', Survived='1', Pclass='3', Name='\"Madigan, Miss. Margaret \"\"Maggie\"\"\"', Sex='female', Age=None, SibSp='0', Parch='0', Ticket='370370', Fare='7.75', Cabin=None, Embarked='Q'),\n",
       " Row(PassengerId='200', Survived='0', Pclass='2', Name='\"Yrois, Miss. Henriette (\"\"Mrs Harbeck\"\")\"', Sex='female', Age='24', SibSp='0', Parch='0', Ticket='248747', Fare='13', Cabin=None, Embarked='S'),\n",
       " Row(PassengerId='201', Survived='0', Pclass='3', Name='Vande Walle, Mr. Nestor Cyriel', Sex='male', Age='28', SibSp='0', Parch='0', Ticket='345770', Fare='9.5', Cabin=None, Embarked='S'),\n",
       " Row(PassengerId='202', Survived='0', Pclass='3', Name='Sage, Mr. Frederick', Sex='male', Age=None, SibSp='8', Parch='2', Ticket='CA. 2343', Fare='69.55', Cabin=None, Embarked='S'),\n",
       " Row(PassengerId='203', Survived='0', Pclass='3', Name='Johanson, Mr. Jakob Alfred', Sex='male', Age='34', SibSp='0', Parch='0', Ticket='3101264', Fare='6.4958', Cabin=None, Embarked='S'),\n",
       " Row(PassengerId='204', Survived='0', Pclass='3', Name='Youseff, Mr. Gerious', Sex='male', Age='45.5', SibSp='0', Parch='0', Ticket='2628', Fare='7.225', Cabin=None, Embarked='C'),\n",
       " Row(PassengerId='205', Survived='1', Pclass='3', Name='\"Cohen, Mr. Gurshon \"\"Gus\"\"\"', Sex='male', Age='18', SibSp='0', Parch='0', Ticket='A/5 3540', Fare='8.05', Cabin=None, Embarked='S'),\n",
       " Row(PassengerId='206', Survived='0', Pclass='3', Name='Strom, Miss. Telma Matilda', Sex='female', Age='2', SibSp='0', Parch='1', Ticket='347054', Fare='10.4625', Cabin='G6', Embarked='S'),\n",
       " Row(PassengerId='207', Survived='0', Pclass='3', Name='Backstrom, Mr. Karl Alfred', Sex='male', Age='32', SibSp='1', Parch='0', Ticket='3101278', Fare='15.85', Cabin=None, Embarked='S'),\n",
       " Row(PassengerId='208', Survived='1', Pclass='3', Name='Albimona, Mr. Nassef Cassem', Sex='male', Age='26', SibSp='0', Parch='0', Ticket='2699', Fare='18.7875', Cabin=None, Embarked='C'),\n",
       " Row(PassengerId='209', Survived='1', Pclass='3', Name='\"Carr, Miss. Helen \"\"Ellen\"\"\"', Sex='female', Age='16', SibSp='0', Parch='0', Ticket='367231', Fare='7.75', Cabin=None, Embarked='Q'),\n",
       " Row(PassengerId='210', Survived='1', Pclass='1', Name='Blank, Mr. Henry', Sex='male', Age='40', SibSp='0', Parch='0', Ticket='112277', Fare='31', Cabin='A31', Embarked='C'),\n",
       " Row(PassengerId='211', Survived='0', Pclass='3', Name='Ali, Mr. Ahmed', Sex='male', Age='24', SibSp='0', Parch='0', Ticket='SOTON/O.Q. 3101311', Fare='7.05', Cabin=None, Embarked='S'),\n",
       " Row(PassengerId='212', Survived='1', Pclass='2', Name='Cameron, Miss. Clear Annie', Sex='female', Age='35', SibSp='0', Parch='0', Ticket='F.C.C. 13528', Fare='21', Cabin=None, Embarked='S'),\n",
       " Row(PassengerId='213', Survived='0', Pclass='3', Name='Perkin, Mr. John Henry', Sex='male', Age='22', SibSp='0', Parch='0', Ticket='A/5 21174', Fare='7.25', Cabin=None, Embarked='S'),\n",
       " Row(PassengerId='214', Survived='0', Pclass='2', Name='Givard, Mr. Hans Kristensen', Sex='male', Age='30', SibSp='0', Parch='0', Ticket='250646', Fare='13', Cabin=None, Embarked='S'),\n",
       " Row(PassengerId='215', Survived='0', Pclass='3', Name='Kiernan, Mr. Philip', Sex='male', Age=None, SibSp='1', Parch='0', Ticket='367229', Fare='7.75', Cabin=None, Embarked='Q'),\n",
       " Row(PassengerId='216', Survived='1', Pclass='1', Name='Newell, Miss. Madeleine', Sex='female', Age='31', SibSp='1', Parch='0', Ticket='35273', Fare='113.275', Cabin='D36', Embarked='C'),\n",
       " Row(PassengerId='217', Survived='1', Pclass='3', Name='Honkanen, Miss. Eliina', Sex='female', Age='27', SibSp='0', Parch='0', Ticket='STON/O2. 3101283', Fare='7.925', Cabin=None, Embarked='S'),\n",
       " Row(PassengerId='218', Survived='0', Pclass='2', Name='Jacobsohn, Mr. Sidney Samuel', Sex='male', Age='42', SibSp='1', Parch='0', Ticket='243847', Fare='27', Cabin=None, Embarked='S'),\n",
       " Row(PassengerId='219', Survived='1', Pclass='1', Name='Bazzani, Miss. Albina', Sex='female', Age='32', SibSp='0', Parch='0', Ticket='11813', Fare='76.2917', Cabin='D15', Embarked='C'),\n",
       " Row(PassengerId='220', Survived='0', Pclass='2', Name='Harris, Mr. Walter', Sex='male', Age='30', SibSp='0', Parch='0', Ticket='W/C 14208', Fare='10.5', Cabin=None, Embarked='S'),\n",
       " Row(PassengerId='221', Survived='1', Pclass='3', Name='Sunderland, Mr. Victor Francis', Sex='male', Age='16', SibSp='0', Parch='0', Ticket='SOTON/OQ 392089', Fare='8.05', Cabin=None, Embarked='S'),\n",
       " Row(PassengerId='222', Survived='0', Pclass='2', Name='Bracken, Mr. James H', Sex='male', Age='27', SibSp='0', Parch='0', Ticket='220367', Fare='13', Cabin=None, Embarked='S'),\n",
       " Row(PassengerId='223', Survived='0', Pclass='3', Name='Green, Mr. George Henry', Sex='male', Age='51', SibSp='0', Parch='0', Ticket='21440', Fare='8.05', Cabin=None, Embarked='S'),\n",
       " Row(PassengerId='224', Survived='0', Pclass='3', Name='Nenkoff, Mr. Christo', Sex='male', Age=None, SibSp='0', Parch='0', Ticket='349234', Fare='7.8958', Cabin=None, Embarked='S'),\n",
       " Row(PassengerId='225', Survived='1', Pclass='1', Name='Hoyt, Mr. Frederick Maxfield', Sex='male', Age='38', SibSp='1', Parch='0', Ticket='19943', Fare='90', Cabin='C93', Embarked='S'),\n",
       " Row(PassengerId='226', Survived='0', Pclass='3', Name='Berglund, Mr. Karl Ivar Sven', Sex='male', Age='22', SibSp='0', Parch='0', Ticket='PP 4348', Fare='9.35', Cabin=None, Embarked='S'),\n",
       " Row(PassengerId='227', Survived='1', Pclass='2', Name='Mellors, Mr. William John', Sex='male', Age='19', SibSp='0', Parch='0', Ticket='SW/PP 751', Fare='10.5', Cabin=None, Embarked='S'),\n",
       " Row(PassengerId='228', Survived='0', Pclass='3', Name='\"Lovell, Mr. John Hall (\"\"Henry\"\")\"', Sex='male', Age='20.5', SibSp='0', Parch='0', Ticket='A/5 21173', Fare='7.25', Cabin=None, Embarked='S'),\n",
       " Row(PassengerId='229', Survived='0', Pclass='2', Name='Fahlstrom, Mr. Arne Jonas', Sex='male', Age='18', SibSp='0', Parch='0', Ticket='236171', Fare='13', Cabin=None, Embarked='S'),\n",
       " Row(PassengerId='230', Survived='0', Pclass='3', Name='Lefebre, Miss. Mathilde', Sex='female', Age=None, SibSp='3', Parch='1', Ticket='4133', Fare='25.4667', Cabin=None, Embarked='S'),\n",
       " Row(PassengerId='231', Survived='1', Pclass='1', Name='Harris, Mrs. Henry Birkhardt (Irene Wallach)', Sex='female', Age='35', SibSp='1', Parch='0', Ticket='36973', Fare='83.475', Cabin='C83', Embarked='S'),\n",
       " Row(PassengerId='232', Survived='0', Pclass='3', Name='Larsson, Mr. Bengt Edvin', Sex='male', Age='29', SibSp='0', Parch='0', Ticket='347067', Fare='7.775', Cabin=None, Embarked='S'),\n",
       " Row(PassengerId='233', Survived='0', Pclass='2', Name='Sjostedt, Mr. Ernst Adolf', Sex='male', Age='59', SibSp='0', Parch='0', Ticket='237442', Fare='13.5', Cabin=None, Embarked='S'),\n",
       " Row(PassengerId='234', Survived='1', Pclass='3', Name='Asplund, Miss. Lillian Gertrud', Sex='female', Age='5', SibSp='4', Parch='2', Ticket='347077', Fare='31.3875', Cabin=None, Embarked='S'),\n",
       " Row(PassengerId='235', Survived='0', Pclass='2', Name='Leyson, Mr. Robert William Norman', Sex='male', Age='24', SibSp='0', Parch='0', Ticket='C.A. 29566', Fare='10.5', Cabin=None, Embarked='S'),\n",
       " Row(PassengerId='236', Survived='0', Pclass='3', Name='Harknett, Miss. Alice Phoebe', Sex='female', Age=None, SibSp='0', Parch='0', Ticket='W./C. 6609', Fare='7.55', Cabin=None, Embarked='S'),\n",
       " Row(PassengerId='237', Survived='0', Pclass='2', Name='Hold, Mr. Stephen', Sex='male', Age='44', SibSp='1', Parch='0', Ticket='26707', Fare='26', Cabin=None, Embarked='S'),\n",
       " Row(PassengerId='238', Survived='1', Pclass='2', Name='\"Collyer, Miss. Marjorie \"\"Lottie\"\"\"', Sex='female', Age='8', SibSp='0', Parch='2', Ticket='C.A. 31921', Fare='26.25', Cabin=None, Embarked='S'),\n",
       " Row(PassengerId='239', Survived='0', Pclass='2', Name='Pengelly, Mr. Frederick William', Sex='male', Age='19', SibSp='0', Parch='0', Ticket='28665', Fare='10.5', Cabin=None, Embarked='S'),\n",
       " Row(PassengerId='240', Survived='0', Pclass='2', Name='Hunt, Mr. George Henry', Sex='male', Age='33', SibSp='0', Parch='0', Ticket='SCO/W 1585', Fare='12.275', Cabin=None, Embarked='S'),\n",
       " Row(PassengerId='241', Survived='0', Pclass='3', Name='Zabour, Miss. Thamine', Sex='female', Age=None, SibSp='1', Parch='0', Ticket='2665', Fare='14.4542', Cabin=None, Embarked='C'),\n",
       " Row(PassengerId='242', Survived='1', Pclass='3', Name='\"Murphy, Miss. Katherine \"\"Kate\"\"\"', Sex='female', Age=None, SibSp='1', Parch='0', Ticket='367230', Fare='15.5', Cabin=None, Embarked='Q'),\n",
       " Row(PassengerId='243', Survived='0', Pclass='2', Name='Coleridge, Mr. Reginald Charles', Sex='male', Age='29', SibSp='0', Parch='0', Ticket='W./C. 14263', Fare='10.5', Cabin=None, Embarked='S'),\n",
       " Row(PassengerId='244', Survived='0', Pclass='3', Name='Maenpaa, Mr. Matti Alexanteri', Sex='male', Age='22', SibSp='0', Parch='0', Ticket='STON/O 2. 3101275', Fare='7.125', Cabin=None, Embarked='S'),\n",
       " Row(PassengerId='245', Survived='0', Pclass='3', Name='Attalah, Mr. Sleiman', Sex='male', Age='30', SibSp='0', Parch='0', Ticket='2694', Fare='7.225', Cabin=None, Embarked='C'),\n",
       " Row(PassengerId='246', Survived='0', Pclass='1', Name='Minahan, Dr. William Edward', Sex='male', Age='44', SibSp='2', Parch='0', Ticket='19928', Fare='90', Cabin='C78', Embarked='Q'),\n",
       " Row(PassengerId='247', Survived='0', Pclass='3', Name='Lindahl, Miss. Agda Thorilda Viktoria', Sex='female', Age='25', SibSp='0', Parch='0', Ticket='347071', Fare='7.775', Cabin=None, Embarked='S'),\n",
       " Row(PassengerId='248', Survived='1', Pclass='2', Name='Hamalainen, Mrs. William (Anna)', Sex='female', Age='24', SibSp='0', Parch='2', Ticket='250649', Fare='14.5', Cabin=None, Embarked='S'),\n",
       " Row(PassengerId='249', Survived='1', Pclass='1', Name='Beckwith, Mr. Richard Leonard', Sex='male', Age='37', SibSp='1', Parch='1', Ticket='11751', Fare='52.5542', Cabin='D35', Embarked='S'),\n",
       " Row(PassengerId='250', Survived='0', Pclass='2', Name='Carter, Rev. Ernest Courtenay', Sex='male', Age='54', SibSp='1', Parch='0', Ticket='244252', Fare='26', Cabin=None, Embarked='S'),\n",
       " Row(PassengerId='251', Survived='0', Pclass='3', Name='Reed, Mr. James George', Sex='male', Age=None, SibSp='0', Parch='0', Ticket='362316', Fare='7.25', Cabin=None, Embarked='S'),\n",
       " Row(PassengerId='252', Survived='0', Pclass='3', Name='Strom, Mrs. Wilhelm (Elna Matilda Persson)', Sex='female', Age='29', SibSp='1', Parch='1', Ticket='347054', Fare='10.4625', Cabin='G6', Embarked='S'),\n",
       " Row(PassengerId='253', Survived='0', Pclass='1', Name='Stead, Mr. William Thomas', Sex='male', Age='62', SibSp='0', Parch='0', Ticket='113514', Fare='26.55', Cabin='C87', Embarked='S'),\n",
       " Row(PassengerId='254', Survived='0', Pclass='3', Name='Lobb, Mr. William Arthur', Sex='male', Age='30', SibSp='1', Parch='0', Ticket='A/5. 3336', Fare='16.1', Cabin=None, Embarked='S'),\n",
       " Row(PassengerId='255', Survived='0', Pclass='3', Name='Rosblom, Mrs. Viktor (Helena Wilhelmina)', Sex='female', Age='41', SibSp='0', Parch='2', Ticket='370129', Fare='20.2125', Cabin=None, Embarked='S'),\n",
       " Row(PassengerId='256', Survived='1', Pclass='3', Name='Touma, Mrs. Darwis (Hanne Youssef Razi)', Sex='female', Age='29', SibSp='0', Parch='2', Ticket='2650', Fare='15.2458', Cabin=None, Embarked='C'),\n",
       " Row(PassengerId='257', Survived='1', Pclass='1', Name='Thorne, Mrs. Gertrude Maybelle', Sex='female', Age=None, SibSp='0', Parch='0', Ticket='PC 17585', Fare='79.2', Cabin=None, Embarked='C'),\n",
       " Row(PassengerId='258', Survived='1', Pclass='1', Name='Cherry, Miss. Gladys', Sex='female', Age='30', SibSp='0', Parch='0', Ticket='110152', Fare='86.5', Cabin='B77', Embarked='S'),\n",
       " Row(PassengerId='259', Survived='1', Pclass='1', Name='Ward, Miss. Anna', Sex='female', Age='35', SibSp='0', Parch='0', Ticket='PC 17755', Fare='512.3292', Cabin=None, Embarked='C'),\n",
       " Row(PassengerId='260', Survived='1', Pclass='2', Name='Parrish, Mrs. (Lutie Davis)', Sex='female', Age='50', SibSp='0', Parch='1', Ticket='230433', Fare='26', Cabin=None, Embarked='S'),\n",
       " Row(PassengerId='261', Survived='0', Pclass='3', Name='Smith, Mr. Thomas', Sex='male', Age=None, SibSp='0', Parch='0', Ticket='384461', Fare='7.75', Cabin=None, Embarked='Q'),\n",
       " Row(PassengerId='262', Survived='1', Pclass='3', Name='Asplund, Master. Edvin Rojj Felix', Sex='male', Age='3', SibSp='4', Parch='2', Ticket='347077', Fare='31.3875', Cabin=None, Embarked='S'),\n",
       " Row(PassengerId='263', Survived='0', Pclass='1', Name='Taussig, Mr. Emil', Sex='male', Age='52', SibSp='1', Parch='1', Ticket='110413', Fare='79.65', Cabin='E67', Embarked='S'),\n",
       " Row(PassengerId='264', Survived='0', Pclass='1', Name='Harrison, Mr. William', Sex='male', Age='40', SibSp='0', Parch='0', Ticket='112059', Fare='0', Cabin='B94', Embarked='S'),\n",
       " Row(PassengerId='265', Survived='0', Pclass='3', Name='Henry, Miss. Delia', Sex='female', Age=None, SibSp='0', Parch='0', Ticket='382649', Fare='7.75', Cabin=None, Embarked='Q'),\n",
       " Row(PassengerId='266', Survived='0', Pclass='2', Name='Reeves, Mr. David', Sex='male', Age='36', SibSp='0', Parch='0', Ticket='C.A. 17248', Fare='10.5', Cabin=None, Embarked='S'),\n",
       " Row(PassengerId='267', Survived='0', Pclass='3', Name='Panula, Mr. Ernesti Arvid', Sex='male', Age='16', SibSp='4', Parch='1', Ticket='3101295', Fare='39.6875', Cabin=None, Embarked='S'),\n",
       " Row(PassengerId='268', Survived='1', Pclass='3', Name='Persson, Mr. Ernst Ulrik', Sex='male', Age='25', SibSp='1', Parch='0', Ticket='347083', Fare='7.775', Cabin=None, Embarked='S'),\n",
       " Row(PassengerId='269', Survived='1', Pclass='1', Name='Graham, Mrs. William Thompson (Edith Junkins)', Sex='female', Age='58', SibSp='0', Parch='1', Ticket='PC 17582', Fare='153.4625', Cabin='C125', Embarked='S'),\n",
       " Row(PassengerId='270', Survived='1', Pclass='1', Name='Bissette, Miss. Amelia', Sex='female', Age='35', SibSp='0', Parch='0', Ticket='PC 17760', Fare='135.6333', Cabin='C99', Embarked='S'),\n",
       " Row(PassengerId='271', Survived='0', Pclass='1', Name='Cairns, Mr. Alexander', Sex='male', Age=None, SibSp='0', Parch='0', Ticket='113798', Fare='31', Cabin=None, Embarked='S'),\n",
       " Row(PassengerId='272', Survived='1', Pclass='3', Name='Tornquist, Mr. William Henry', Sex='male', Age='25', SibSp='0', Parch='0', Ticket='LINE', Fare='0', Cabin=None, Embarked='S'),\n",
       " Row(PassengerId='273', Survived='1', Pclass='2', Name='Mellinger, Mrs. (Elizabeth Anne Maidment)', Sex='female', Age='41', SibSp='0', Parch='1', Ticket='250644', Fare='19.5', Cabin=None, Embarked='S'),\n",
       " Row(PassengerId='274', Survived='0', Pclass='1', Name='Natsch, Mr. Charles H', Sex='male', Age='37', SibSp='0', Parch='1', Ticket='PC 17596', Fare='29.7', Cabin='C118', Embarked='C'),\n",
       " Row(PassengerId='275', Survived='1', Pclass='3', Name='\"Healy, Miss. Hanora \"\"Nora\"\"\"', Sex='female', Age=None, SibSp='0', Parch='0', Ticket='370375', Fare='7.75', Cabin=None, Embarked='Q'),\n",
       " Row(PassengerId='276', Survived='1', Pclass='1', Name='Andrews, Miss. Kornelia Theodosia', Sex='female', Age='63', SibSp='1', Parch='0', Ticket='13502', Fare='77.9583', Cabin='D7', Embarked='S'),\n",
       " Row(PassengerId='277', Survived='0', Pclass='3', Name='Lindblom, Miss. Augusta Charlotta', Sex='female', Age='45', SibSp='0', Parch='0', Ticket='347073', Fare='7.75', Cabin=None, Embarked='S'),\n",
       " Row(PassengerId='278', Survived='0', Pclass='2', Name='\"Parkes, Mr. Francis \"\"Frank\"\"\"', Sex='male', Age=None, SibSp='0', Parch='0', Ticket='239853', Fare='0', Cabin=None, Embarked='S'),\n",
       " Row(PassengerId='279', Survived='0', Pclass='3', Name='Rice, Master. Eric', Sex='male', Age='7', SibSp='4', Parch='1', Ticket='382652', Fare='29.125', Cabin=None, Embarked='Q'),\n",
       " Row(PassengerId='280', Survived='1', Pclass='3', Name='Abbott, Mrs. Stanton (Rosa Hunt)', Sex='female', Age='35', SibSp='1', Parch='1', Ticket='C.A. 2673', Fare='20.25', Cabin=None, Embarked='S'),\n",
       " Row(PassengerId='281', Survived='0', Pclass='3', Name='Duane, Mr. Frank', Sex='male', Age='65', SibSp='0', Parch='0', Ticket='336439', Fare='7.75', Cabin=None, Embarked='Q'),\n",
       " Row(PassengerId='282', Survived='0', Pclass='3', Name='Olsson, Mr. Nils Johan Goransson', Sex='male', Age='28', SibSp='0', Parch='0', Ticket='347464', Fare='7.8542', Cabin=None, Embarked='S'),\n",
       " Row(PassengerId='283', Survived='0', Pclass='3', Name='de Pelsmaeker, Mr. Alfons', Sex='male', Age='16', SibSp='0', Parch='0', Ticket='345778', Fare='9.5', Cabin=None, Embarked='S'),\n",
       " Row(PassengerId='284', Survived='1', Pclass='3', Name='Dorking, Mr. Edward Arthur', Sex='male', Age='19', SibSp='0', Parch='0', Ticket='A/5. 10482', Fare='8.05', Cabin=None, Embarked='S'),\n",
       " Row(PassengerId='285', Survived='0', Pclass='1', Name='Smith, Mr. Richard William', Sex='male', Age=None, SibSp='0', Parch='0', Ticket='113056', Fare='26', Cabin='A19', Embarked='S'),\n",
       " Row(PassengerId='286', Survived='0', Pclass='3', Name='Stankovic, Mr. Ivan', Sex='male', Age='33', SibSp='0', Parch='0', Ticket='349239', Fare='8.6625', Cabin=None, Embarked='C'),\n",
       " Row(PassengerId='287', Survived='1', Pclass='3', Name='de Mulder, Mr. Theodore', Sex='male', Age='30', SibSp='0', Parch='0', Ticket='345774', Fare='9.5', Cabin=None, Embarked='S'),\n",
       " Row(PassengerId='288', Survived='0', Pclass='3', Name='Naidenoff, Mr. Penko', Sex='male', Age='22', SibSp='0', Parch='0', Ticket='349206', Fare='7.8958', Cabin=None, Embarked='S'),\n",
       " Row(PassengerId='289', Survived='1', Pclass='2', Name='Hosono, Mr. Masabumi', Sex='male', Age='42', SibSp='0', Parch='0', Ticket='237798', Fare='13', Cabin=None, Embarked='S'),\n",
       " Row(PassengerId='290', Survived='1', Pclass='3', Name='Connolly, Miss. Kate', Sex='female', Age='22', SibSp='0', Parch='0', Ticket='370373', Fare='7.75', Cabin=None, Embarked='Q'),\n",
       " Row(PassengerId='291', Survived='1', Pclass='1', Name='\"Barber, Miss. Ellen \"\"Nellie\"\"\"', Sex='female', Age='26', SibSp='0', Parch='0', Ticket='19877', Fare='78.85', Cabin=None, Embarked='S'),\n",
       " Row(PassengerId='292', Survived='1', Pclass='1', Name='Bishop, Mrs. Dickinson H (Helen Walton)', Sex='female', Age='19', SibSp='1', Parch='0', Ticket='11967', Fare='91.0792', Cabin='B49', Embarked='C'),\n",
       " Row(PassengerId='293', Survived='0', Pclass='2', Name='Levy, Mr. Rene Jacques', Sex='male', Age='36', SibSp='0', Parch='0', Ticket='SC/Paris 2163', Fare='12.875', Cabin='D', Embarked='C'),\n",
       " Row(PassengerId='294', Survived='0', Pclass='3', Name='Haas, Miss. Aloisia', Sex='female', Age='24', SibSp='0', Parch='0', Ticket='349236', Fare='8.85', Cabin=None, Embarked='S'),\n",
       " Row(PassengerId='295', Survived='0', Pclass='3', Name='Mineff, Mr. Ivan', Sex='male', Age='24', SibSp='0', Parch='0', Ticket='349233', Fare='7.8958', Cabin=None, Embarked='S'),\n",
       " Row(PassengerId='296', Survived='0', Pclass='1', Name='Lewy, Mr. Ervin G', Sex='male', Age=None, SibSp='0', Parch='0', Ticket='PC 17612', Fare='27.7208', Cabin=None, Embarked='C'),\n",
       " Row(PassengerId='297', Survived='0', Pclass='3', Name='Hanna, Mr. Mansour', Sex='male', Age='23.5', SibSp='0', Parch='0', Ticket='2693', Fare='7.2292', Cabin=None, Embarked='C'),\n",
       " Row(PassengerId='298', Survived='0', Pclass='1', Name='Allison, Miss. Helen Loraine', Sex='female', Age='2', SibSp='1', Parch='2', Ticket='113781', Fare='151.55', Cabin='C22 C26', Embarked='S'),\n",
       " Row(PassengerId='299', Survived='1', Pclass='1', Name='Saalfeld, Mr. Adolphe', Sex='male', Age=None, SibSp='0', Parch='0', Ticket='19988', Fare='30.5', Cabin='C106', Embarked='S'),\n",
       " Row(PassengerId='300', Survived='1', Pclass='1', Name='Baxter, Mrs. James (Helene DeLaudeniere Chaput)', Sex='female', Age='50', SibSp='0', Parch='1', Ticket='PC 17558', Fare='247.5208', Cabin='B58 B60', Embarked='C'),\n",
       " Row(PassengerId='301', Survived='1', Pclass='3', Name='\"Kelly, Miss. Anna Katherine \"\"Annie Kate\"\"\"', Sex='female', Age=None, SibSp='0', Parch='0', Ticket='9234', Fare='7.75', Cabin=None, Embarked='Q'),\n",
       " Row(PassengerId='302', Survived='1', Pclass='3', Name='McCoy, Mr. Bernard', Sex='male', Age=None, SibSp='2', Parch='0', Ticket='367226', Fare='23.25', Cabin=None, Embarked='Q'),\n",
       " Row(PassengerId='303', Survived='0', Pclass='3', Name='Johnson, Mr. William Cahoone Jr', Sex='male', Age='19', SibSp='0', Parch='0', Ticket='LINE', Fare='0', Cabin=None, Embarked='S'),\n",
       " Row(PassengerId='304', Survived='1', Pclass='2', Name='Keane, Miss. Nora A', Sex='female', Age=None, SibSp='0', Parch='0', Ticket='226593', Fare='12.35', Cabin='E101', Embarked='Q'),\n",
       " Row(PassengerId='305', Survived='0', Pclass='3', Name='\"Williams, Mr. Howard Hugh \"\"Harry\"\"\"', Sex='male', Age=None, SibSp='0', Parch='0', Ticket='A/5 2466', Fare='8.05', Cabin=None, Embarked='S'),\n",
       " Row(PassengerId='306', Survived='1', Pclass='1', Name='Allison, Master. Hudson Trevor', Sex='male', Age='0.92', SibSp='1', Parch='2', Ticket='113781', Fare='151.55', Cabin='C22 C26', Embarked='S'),\n",
       " Row(PassengerId='307', Survived='1', Pclass='1', Name='Fleming, Miss. Margaret', Sex='female', Age=None, SibSp='0', Parch='0', Ticket='17421', Fare='110.8833', Cabin=None, Embarked='C'),\n",
       " Row(PassengerId='308', Survived='1', Pclass='1', Name='Penasco y Castellana, Mrs. Victor de Satode (Maria Josefa Perez de Soto y Vallejo)', Sex='female', Age='17', SibSp='1', Parch='0', Ticket='PC 17758', Fare='108.9', Cabin='C65', Embarked='C'),\n",
       " Row(PassengerId='309', Survived='0', Pclass='2', Name='Abelson, Mr. Samuel', Sex='male', Age='30', SibSp='1', Parch='0', Ticket='P/PP 3381', Fare='24', Cabin=None, Embarked='C'),\n",
       " Row(PassengerId='310', Survived='1', Pclass='1', Name='Francatelli, Miss. Laura Mabel', Sex='female', Age='30', SibSp='0', Parch='0', Ticket='PC 17485', Fare='56.9292', Cabin='E36', Embarked='C'),\n",
       " Row(PassengerId='311', Survived='1', Pclass='1', Name='Hays, Miss. Margaret Bechstein', Sex='female', Age='24', SibSp='0', Parch='0', Ticket='11767', Fare='83.1583', Cabin='C54', Embarked='C'),\n",
       " Row(PassengerId='312', Survived='1', Pclass='1', Name='Ryerson, Miss. Emily Borie', Sex='female', Age='18', SibSp='2', Parch='2', Ticket='PC 17608', Fare='262.375', Cabin='B57 B59 B63 B66', Embarked='C'),\n",
       " Row(PassengerId='313', Survived='0', Pclass='2', Name='Lahtinen, Mrs. William (Anna Sylfven)', Sex='female', Age='26', SibSp='1', Parch='1', Ticket='250651', Fare='26', Cabin=None, Embarked='S'),\n",
       " Row(PassengerId='314', Survived='0', Pclass='3', Name='Hendekovic, Mr. Ignjac', Sex='male', Age='28', SibSp='0', Parch='0', Ticket='349243', Fare='7.8958', Cabin=None, Embarked='S'),\n",
       " Row(PassengerId='315', Survived='0', Pclass='2', Name='Hart, Mr. Benjamin', Sex='male', Age='43', SibSp='1', Parch='1', Ticket='F.C.C. 13529', Fare='26.25', Cabin=None, Embarked='S'),\n",
       " Row(PassengerId='316', Survived='1', Pclass='3', Name='Nilsson, Miss. Helmina Josefina', Sex='female', Age='26', SibSp='0', Parch='0', Ticket='347470', Fare='7.8542', Cabin=None, Embarked='S'),\n",
       " Row(PassengerId='317', Survived='1', Pclass='2', Name='Kantor, Mrs. Sinai (Miriam Sternin)', Sex='female', Age='24', SibSp='1', Parch='0', Ticket='244367', Fare='26', Cabin=None, Embarked='S'),\n",
       " Row(PassengerId='318', Survived='0', Pclass='2', Name='Moraweck, Dr. Ernest', Sex='male', Age='54', SibSp='0', Parch='0', Ticket='29011', Fare='14', Cabin=None, Embarked='S'),\n",
       " Row(PassengerId='319', Survived='1', Pclass='1', Name='Wick, Miss. Mary Natalie', Sex='female', Age='31', SibSp='0', Parch='2', Ticket='36928', Fare='164.8667', Cabin='C7', Embarked='S'),\n",
       " Row(PassengerId='320', Survived='1', Pclass='1', Name='Spedden, Mrs. Frederic Oakley (Margaretta Corning Stone)', Sex='female', Age='40', SibSp='1', Parch='1', Ticket='16966', Fare='134.5', Cabin='E34', Embarked='C'),\n",
       " Row(PassengerId='321', Survived='0', Pclass='3', Name='Dennis, Mr. Samuel', Sex='male', Age='22', SibSp='0', Parch='0', Ticket='A/5 21172', Fare='7.25', Cabin=None, Embarked='S'),\n",
       " Row(PassengerId='322', Survived='0', Pclass='3', Name='Danoff, Mr. Yoto', Sex='male', Age='27', SibSp='0', Parch='0', Ticket='349219', Fare='7.8958', Cabin=None, Embarked='S'),\n",
       " Row(PassengerId='323', Survived='1', Pclass='2', Name='Slayter, Miss. Hilda Mary', Sex='female', Age='30', SibSp='0', Parch='0', Ticket='234818', Fare='12.35', Cabin=None, Embarked='Q'),\n",
       " Row(PassengerId='324', Survived='1', Pclass='2', Name='Caldwell, Mrs. Albert Francis (Sylvia Mae Harbaugh)', Sex='female', Age='22', SibSp='1', Parch='1', Ticket='248738', Fare='29', Cabin=None, Embarked='S'),\n",
       " Row(PassengerId='325', Survived='0', Pclass='3', Name='Sage, Mr. George John Jr', Sex='male', Age=None, SibSp='8', Parch='2', Ticket='CA. 2343', Fare='69.55', Cabin=None, Embarked='S'),\n",
       " Row(PassengerId='326', Survived='1', Pclass='1', Name='Young, Miss. Marie Grice', Sex='female', Age='36', SibSp='0', Parch='0', Ticket='PC 17760', Fare='135.6333', Cabin='C32', Embarked='C'),\n",
       " Row(PassengerId='327', Survived='0', Pclass='3', Name='Nysveen, Mr. Johan Hansen', Sex='male', Age='61', SibSp='0', Parch='0', Ticket='345364', Fare='6.2375', Cabin=None, Embarked='S'),\n",
       " Row(PassengerId='328', Survived='1', Pclass='2', Name='Ball, Mrs. (Ada E Hall)', Sex='female', Age='36', SibSp='0', Parch='0', Ticket='28551', Fare='13', Cabin='D', Embarked='S'),\n",
       " Row(PassengerId='329', Survived='1', Pclass='3', Name='Goldsmith, Mrs. Frank John (Emily Alice Brown)', Sex='female', Age='31', SibSp='1', Parch='1', Ticket='363291', Fare='20.525', Cabin=None, Embarked='S'),\n",
       " Row(PassengerId='330', Survived='1', Pclass='1', Name='Hippach, Miss. Jean Gertrude', Sex='female', Age='16', SibSp='0', Parch='1', Ticket='111361', Fare='57.9792', Cabin='B18', Embarked='C'),\n",
       " Row(PassengerId='331', Survived='1', Pclass='3', Name='McCoy, Miss. Agnes', Sex='female', Age=None, SibSp='2', Parch='0', Ticket='367226', Fare='23.25', Cabin=None, Embarked='Q'),\n",
       " Row(PassengerId='332', Survived='0', Pclass='1', Name='Partner, Mr. Austen', Sex='male', Age='45.5', SibSp='0', Parch='0', Ticket='113043', Fare='28.5', Cabin='C124', Embarked='S'),\n",
       " Row(PassengerId='333', Survived='0', Pclass='1', Name='Graham, Mr. George Edward', Sex='male', Age='38', SibSp='0', Parch='1', Ticket='PC 17582', Fare='153.4625', Cabin='C91', Embarked='S'),\n",
       " Row(PassengerId='334', Survived='0', Pclass='3', Name='Vander Planke, Mr. Leo Edmondus', Sex='male', Age='16', SibSp='2', Parch='0', Ticket='345764', Fare='18', Cabin=None, Embarked='S'),\n",
       " Row(PassengerId='335', Survived='1', Pclass='1', Name='Frauenthal, Mrs. Henry William (Clara Heinsheimer)', Sex='female', Age=None, SibSp='1', Parch='0', Ticket='PC 17611', Fare='133.65', Cabin=None, Embarked='S'),\n",
       " Row(PassengerId='336', Survived='0', Pclass='3', Name='Denkoff, Mr. Mitto', Sex='male', Age=None, SibSp='0', Parch='0', Ticket='349225', Fare='7.8958', Cabin=None, Embarked='S'),\n",
       " Row(PassengerId='337', Survived='0', Pclass='1', Name='Pears, Mr. Thomas Clinton', Sex='male', Age='29', SibSp='1', Parch='0', Ticket='113776', Fare='66.6', Cabin='C2', Embarked='S'),\n",
       " Row(PassengerId='338', Survived='1', Pclass='1', Name='Burns, Miss. Elizabeth Margaret', Sex='female', Age='41', SibSp='0', Parch='0', Ticket='16966', Fare='134.5', Cabin='E40', Embarked='C'),\n",
       " Row(PassengerId='339', Survived='1', Pclass='3', Name='Dahl, Mr. Karl Edwart', Sex='male', Age='45', SibSp='0', Parch='0', Ticket='7598', Fare='8.05', Cabin=None, Embarked='S'),\n",
       " Row(PassengerId='340', Survived='0', Pclass='1', Name='Blackwell, Mr. Stephen Weart', Sex='male', Age='45', SibSp='0', Parch='0', Ticket='113784', Fare='35.5', Cabin='T', Embarked='S'),\n",
       " Row(PassengerId='341', Survived='1', Pclass='2', Name='Navratil, Master. Edmond Roger', Sex='male', Age='2', SibSp='1', Parch='1', Ticket='230080', Fare='26', Cabin='F2', Embarked='S'),\n",
       " Row(PassengerId='342', Survived='1', Pclass='1', Name='Fortune, Miss. Alice Elizabeth', Sex='female', Age='24', SibSp='3', Parch='2', Ticket='19950', Fare='263', Cabin='C23 C25 C27', Embarked='S'),\n",
       " Row(PassengerId='343', Survived='0', Pclass='2', Name='Collander, Mr. Erik Gustaf', Sex='male', Age='28', SibSp='0', Parch='0', Ticket='248740', Fare='13', Cabin=None, Embarked='S'),\n",
       " Row(PassengerId='344', Survived='0', Pclass='2', Name='Sedgwick, Mr. Charles Frederick Waddington', Sex='male', Age='25', SibSp='0', Parch='0', Ticket='244361', Fare='13', Cabin=None, Embarked='S'),\n",
       " Row(PassengerId='345', Survived='0', Pclass='2', Name='Fox, Mr. Stanley Hubert', Sex='male', Age='36', SibSp='0', Parch='0', Ticket='229236', Fare='13', Cabin=None, Embarked='S'),\n",
       " Row(PassengerId='346', Survived='1', Pclass='2', Name='\"Brown, Miss. Amelia \"\"Mildred\"\"\"', Sex='female', Age='24', SibSp='0', Parch='0', Ticket='248733', Fare='13', Cabin='F33', Embarked='S'),\n",
       " Row(PassengerId='347', Survived='1', Pclass='2', Name='Smith, Miss. Marion Elsie', Sex='female', Age='40', SibSp='0', Parch='0', Ticket='31418', Fare='13', Cabin=None, Embarked='S'),\n",
       " Row(PassengerId='348', Survived='1', Pclass='3', Name='Davison, Mrs. Thomas Henry (Mary E Finck)', Sex='female', Age=None, SibSp='1', Parch='0', Ticket='386525', Fare='16.1', Cabin=None, Embarked='S'),\n",
       " Row(PassengerId='349', Survived='1', Pclass='3', Name='\"Coutts, Master. William Loch \"\"William\"\"\"', Sex='male', Age='3', SibSp='1', Parch='1', Ticket='C.A. 37671', Fare='15.9', Cabin=None, Embarked='S'),\n",
       " Row(PassengerId='350', Survived='0', Pclass='3', Name='Dimic, Mr. Jovan', Sex='male', Age='42', SibSp='0', Parch='0', Ticket='315088', Fare='8.6625', Cabin=None, Embarked='S'),\n",
       " Row(PassengerId='351', Survived='0', Pclass='3', Name='Odahl, Mr. Nils Martin', Sex='male', Age='23', SibSp='0', Parch='0', Ticket='7267', Fare='9.225', Cabin=None, Embarked='S'),\n",
       " Row(PassengerId='352', Survived='0', Pclass='1', Name='Williams-Lambert, Mr. Fletcher Fellows', Sex='male', Age=None, SibSp='0', Parch='0', Ticket='113510', Fare='35', Cabin='C128', Embarked='S'),\n",
       " Row(PassengerId='353', Survived='0', Pclass='3', Name='Elias, Mr. Tannous', Sex='male', Age='15', SibSp='1', Parch='1', Ticket='2695', Fare='7.2292', Cabin=None, Embarked='C'),\n",
       " Row(PassengerId='354', Survived='0', Pclass='3', Name='Arnold-Franchi, Mr. Josef', Sex='male', Age='25', SibSp='1', Parch='0', Ticket='349237', Fare='17.8', Cabin=None, Embarked='S'),\n",
       " Row(PassengerId='355', Survived='0', Pclass='3', Name='Yousif, Mr. Wazli', Sex='male', Age=None, SibSp='0', Parch='0', Ticket='2647', Fare='7.225', Cabin=None, Embarked='C'),\n",
       " Row(PassengerId='356', Survived='0', Pclass='3', Name='Vanden Steen, Mr. Leo Peter', Sex='male', Age='28', SibSp='0', Parch='0', Ticket='345783', Fare='9.5', Cabin=None, Embarked='S'),\n",
       " Row(PassengerId='357', Survived='1', Pclass='1', Name='Bowerman, Miss. Elsie Edith', Sex='female', Age='22', SibSp='0', Parch='1', Ticket='113505', Fare='55', Cabin='E33', Embarked='S'),\n",
       " Row(PassengerId='358', Survived='0', Pclass='2', Name='Funk, Miss. Annie Clemmer', Sex='female', Age='38', SibSp='0', Parch='0', Ticket='237671', Fare='13', Cabin=None, Embarked='S'),\n",
       " Row(PassengerId='359', Survived='1', Pclass='3', Name='McGovern, Miss. Mary', Sex='female', Age=None, SibSp='0', Parch='0', Ticket='330931', Fare='7.8792', Cabin=None, Embarked='Q'),\n",
       " Row(PassengerId='360', Survived='1', Pclass='3', Name='\"Mockler, Miss. Helen Mary \"\"Ellie\"\"\"', Sex='female', Age=None, SibSp='0', Parch='0', Ticket='330980', Fare='7.8792', Cabin=None, Embarked='Q'),\n",
       " Row(PassengerId='361', Survived='0', Pclass='3', Name='Skoog, Mr. Wilhelm', Sex='male', Age='40', SibSp='1', Parch='4', Ticket='347088', Fare='27.9', Cabin=None, Embarked='S'),\n",
       " Row(PassengerId='362', Survived='0', Pclass='2', Name='del Carlo, Mr. Sebastiano', Sex='male', Age='29', SibSp='1', Parch='0', Ticket='SC/PARIS 2167', Fare='27.7208', Cabin=None, Embarked='C'),\n",
       " Row(PassengerId='363', Survived='0', Pclass='3', Name='Barbara, Mrs. (Catherine David)', Sex='female', Age='45', SibSp='0', Parch='1', Ticket='2691', Fare='14.4542', Cabin=None, Embarked='C'),\n",
       " Row(PassengerId='364', Survived='0', Pclass='3', Name='Asim, Mr. Adola', Sex='male', Age='35', SibSp='0', Parch='0', Ticket='SOTON/O.Q. 3101310', Fare='7.05', Cabin=None, Embarked='S'),\n",
       " Row(PassengerId='365', Survived='0', Pclass='3', Name=\"O'Brien, Mr. Thomas\", Sex='male', Age=None, SibSp='1', Parch='0', Ticket='370365', Fare='15.5', Cabin=None, Embarked='Q'),\n",
       " Row(PassengerId='366', Survived='0', Pclass='3', Name='Adahl, Mr. Mauritz Nils Martin', Sex='male', Age='30', SibSp='0', Parch='0', Ticket='C 7076', Fare='7.25', Cabin=None, Embarked='S'),\n",
       " Row(PassengerId='367', Survived='1', Pclass='1', Name='Warren, Mrs. Frank Manley (Anna Sophia Atkinson)', Sex='female', Age='60', SibSp='1', Parch='0', Ticket='110813', Fare='75.25', Cabin='D37', Embarked='C'),\n",
       " Row(PassengerId='368', Survived='1', Pclass='3', Name='Moussa, Mrs. (Mantoura Boulos)', Sex='female', Age=None, SibSp='0', Parch='0', Ticket='2626', Fare='7.2292', Cabin=None, Embarked='C'),\n",
       " Row(PassengerId='369', Survived='1', Pclass='3', Name='Jermyn, Miss. Annie', Sex='female', Age=None, SibSp='0', Parch='0', Ticket='14313', Fare='7.75', Cabin=None, Embarked='Q'),\n",
       " Row(PassengerId='370', Survived='1', Pclass='1', Name='Aubart, Mme. Leontine Pauline', Sex='female', Age='24', SibSp='0', Parch='0', Ticket='PC 17477', Fare='69.3', Cabin='B35', Embarked='C'),\n",
       " Row(PassengerId='371', Survived='1', Pclass='1', Name='Harder, Mr. George Achilles', Sex='male', Age='25', SibSp='1', Parch='0', Ticket='11765', Fare='55.4417', Cabin='E50', Embarked='C'),\n",
       " Row(PassengerId='372', Survived='0', Pclass='3', Name='Wiklund, Mr. Jakob Alfred', Sex='male', Age='18', SibSp='1', Parch='0', Ticket='3101267', Fare='6.4958', Cabin=None, Embarked='S'),\n",
       " Row(PassengerId='373', Survived='0', Pclass='3', Name='Beavan, Mr. William Thomas', Sex='male', Age='19', SibSp='0', Parch='0', Ticket='323951', Fare='8.05', Cabin=None, Embarked='S'),\n",
       " Row(PassengerId='374', Survived='0', Pclass='1', Name='Ringhini, Mr. Sante', Sex='male', Age='22', SibSp='0', Parch='0', Ticket='PC 17760', Fare='135.6333', Cabin=None, Embarked='C'),\n",
       " Row(PassengerId='375', Survived='0', Pclass='3', Name='Palsson, Miss. Stina Viola', Sex='female', Age='3', SibSp='3', Parch='1', Ticket='349909', Fare='21.075', Cabin=None, Embarked='S'),\n",
       " Row(PassengerId='376', Survived='1', Pclass='1', Name='Meyer, Mrs. Edgar Joseph (Leila Saks)', Sex='female', Age=None, SibSp='1', Parch='0', Ticket='PC 17604', Fare='82.1708', Cabin=None, Embarked='C'),\n",
       " Row(PassengerId='377', Survived='1', Pclass='3', Name='Landergren, Miss. Aurora Adelia', Sex='female', Age='22', SibSp='0', Parch='0', Ticket='C 7077', Fare='7.25', Cabin=None, Embarked='S'),\n",
       " Row(PassengerId='378', Survived='0', Pclass='1', Name='Widener, Mr. Harry Elkins', Sex='male', Age='27', SibSp='0', Parch='2', Ticket='113503', Fare='211.5', Cabin='C82', Embarked='C'),\n",
       " Row(PassengerId='379', Survived='0', Pclass='3', Name='Betros, Mr. Tannous', Sex='male', Age='20', SibSp='0', Parch='0', Ticket='2648', Fare='4.0125', Cabin=None, Embarked='C'),\n",
       " Row(PassengerId='380', Survived='0', Pclass='3', Name='Gustafsson, Mr. Karl Gideon', Sex='male', Age='19', SibSp='0', Parch='0', Ticket='347069', Fare='7.775', Cabin=None, Embarked='S'),\n",
       " Row(PassengerId='381', Survived='1', Pclass='1', Name='Bidois, Miss. Rosalie', Sex='female', Age='42', SibSp='0', Parch='0', Ticket='PC 17757', Fare='227.525', Cabin=None, Embarked='C'),\n",
       " Row(PassengerId='382', Survived='1', Pclass='3', Name='\"Nakid, Miss. Maria (\"\"Mary\"\")\"', Sex='female', Age='1', SibSp='0', Parch='2', Ticket='2653', Fare='15.7417', Cabin=None, Embarked='C'),\n",
       " Row(PassengerId='383', Survived='0', Pclass='3', Name='Tikkanen, Mr. Juho', Sex='male', Age='32', SibSp='0', Parch='0', Ticket='STON/O 2. 3101293', Fare='7.925', Cabin=None, Embarked='S'),\n",
       " Row(PassengerId='384', Survived='1', Pclass='1', Name='Holverson, Mrs. Alexander Oskar (Mary Aline Towner)', Sex='female', Age='35', SibSp='1', Parch='0', Ticket='113789', Fare='52', Cabin=None, Embarked='S'),\n",
       " Row(PassengerId='385', Survived='0', Pclass='3', Name='Plotcharsky, Mr. Vasil', Sex='male', Age=None, SibSp='0', Parch='0', Ticket='349227', Fare='7.8958', Cabin=None, Embarked='S'),\n",
       " Row(PassengerId='386', Survived='0', Pclass='2', Name='Davies, Mr. Charles Henry', Sex='male', Age='18', SibSp='0', Parch='0', Ticket='S.O.C. 14879', Fare='73.5', Cabin=None, Embarked='S'),\n",
       " Row(PassengerId='387', Survived='0', Pclass='3', Name='Goodwin, Master. Sidney Leonard', Sex='male', Age='1', SibSp='5', Parch='2', Ticket='CA 2144', Fare='46.9', Cabin=None, Embarked='S'),\n",
       " Row(PassengerId='388', Survived='1', Pclass='2', Name='Buss, Miss. Kate', Sex='female', Age='36', SibSp='0', Parch='0', Ticket='27849', Fare='13', Cabin=None, Embarked='S'),\n",
       " Row(PassengerId='389', Survived='0', Pclass='3', Name='Sadlier, Mr. Matthew', Sex='male', Age=None, SibSp='0', Parch='0', Ticket='367655', Fare='7.7292', Cabin=None, Embarked='Q'),\n",
       " Row(PassengerId='390', Survived='1', Pclass='2', Name='Lehmann, Miss. Bertha', Sex='female', Age='17', SibSp='0', Parch='0', Ticket='SC 1748', Fare='12', Cabin=None, Embarked='C'),\n",
       " Row(PassengerId='391', Survived='1', Pclass='1', Name='Carter, Mr. William Ernest', Sex='male', Age='36', SibSp='1', Parch='2', Ticket='113760', Fare='120', Cabin='B96 B98', Embarked='S'),\n",
       " Row(PassengerId='392', Survived='1', Pclass='3', Name='Jansson, Mr. Carl Olof', Sex='male', Age='21', SibSp='0', Parch='0', Ticket='350034', Fare='7.7958', Cabin=None, Embarked='S'),\n",
       " Row(PassengerId='393', Survived='0', Pclass='3', Name='Gustafsson, Mr. Johan Birger', Sex='male', Age='28', SibSp='2', Parch='0', Ticket='3101277', Fare='7.925', Cabin=None, Embarked='S'),\n",
       " Row(PassengerId='394', Survived='1', Pclass='1', Name='Newell, Miss. Marjorie', Sex='female', Age='23', SibSp='1', Parch='0', Ticket='35273', Fare='113.275', Cabin='D36', Embarked='C'),\n",
       " Row(PassengerId='395', Survived='1', Pclass='3', Name='Sandstrom, Mrs. Hjalmar (Agnes Charlotta Bengtsson)', Sex='female', Age='24', SibSp='0', Parch='2', Ticket='PP 9549', Fare='16.7', Cabin='G6', Embarked='S'),\n",
       " Row(PassengerId='396', Survived='0', Pclass='3', Name='Johansson, Mr. Erik', Sex='male', Age='22', SibSp='0', Parch='0', Ticket='350052', Fare='7.7958', Cabin=None, Embarked='S'),\n",
       " Row(PassengerId='397', Survived='0', Pclass='3', Name='Olsson, Miss. Elina', Sex='female', Age='31', SibSp='0', Parch='0', Ticket='350407', Fare='7.8542', Cabin=None, Embarked='S'),\n",
       " Row(PassengerId='398', Survived='0', Pclass='2', Name='McKane, Mr. Peter David', Sex='male', Age='46', SibSp='0', Parch='0', Ticket='28403', Fare='26', Cabin=None, Embarked='S'),\n",
       " Row(PassengerId='399', Survived='0', Pclass='2', Name='Pain, Dr. Alfred', Sex='male', Age='23', SibSp='0', Parch='0', Ticket='244278', Fare='10.5', Cabin=None, Embarked='S'),\n",
       " Row(PassengerId='400', Survived='1', Pclass='2', Name='Trout, Mrs. William H (Jessie L)', Sex='female', Age='28', SibSp='0', Parch='0', Ticket='240929', Fare='12.65', Cabin=None, Embarked='S'),\n",
       " Row(PassengerId='401', Survived='1', Pclass='3', Name='Niskanen, Mr. Juha', Sex='male', Age='39', SibSp='0', Parch='0', Ticket='STON/O 2. 3101289', Fare='7.925', Cabin=None, Embarked='S'),\n",
       " Row(PassengerId='402', Survived='0', Pclass='3', Name='Adams, Mr. John', Sex='male', Age='26', SibSp='0', Parch='0', Ticket='341826', Fare='8.05', Cabin=None, Embarked='S'),\n",
       " Row(PassengerId='403', Survived='0', Pclass='3', Name='Jussila, Miss. Mari Aina', Sex='female', Age='21', SibSp='1', Parch='0', Ticket='4137', Fare='9.825', Cabin=None, Embarked='S'),\n",
       " Row(PassengerId='404', Survived='0', Pclass='3', Name='Hakkarainen, Mr. Pekka Pietari', Sex='male', Age='28', SibSp='1', Parch='0', Ticket='STON/O2. 3101279', Fare='15.85', Cabin=None, Embarked='S'),\n",
       " Row(PassengerId='405', Survived='0', Pclass='3', Name='Oreskovic, Miss. Marija', Sex='female', Age='20', SibSp='0', Parch='0', Ticket='315096', Fare='8.6625', Cabin=None, Embarked='S'),\n",
       " Row(PassengerId='406', Survived='0', Pclass='2', Name='Gale, Mr. Shadrach', Sex='male', Age='34', SibSp='1', Parch='0', Ticket='28664', Fare='21', Cabin=None, Embarked='S'),\n",
       " Row(PassengerId='407', Survived='0', Pclass='3', Name='Widegren, Mr. Carl/Charles Peter', Sex='male', Age='51', SibSp='0', Parch='0', Ticket='347064', Fare='7.75', Cabin=None, Embarked='S'),\n",
       " Row(PassengerId='408', Survived='1', Pclass='2', Name='Richards, Master. William Rowe', Sex='male', Age='3', SibSp='1', Parch='1', Ticket='29106', Fare='18.75', Cabin=None, Embarked='S'),\n",
       " Row(PassengerId='409', Survived='0', Pclass='3', Name='Birkeland, Mr. Hans Martin Monsen', Sex='male', Age='21', SibSp='0', Parch='0', Ticket='312992', Fare='7.775', Cabin=None, Embarked='S'),\n",
       " Row(PassengerId='410', Survived='0', Pclass='3', Name='Lefebre, Miss. Ida', Sex='female', Age=None, SibSp='3', Parch='1', Ticket='4133', Fare='25.4667', Cabin=None, Embarked='S'),\n",
       " Row(PassengerId='411', Survived='0', Pclass='3', Name='Sdycoff, Mr. Todor', Sex='male', Age=None, SibSp='0', Parch='0', Ticket='349222', Fare='7.8958', Cabin=None, Embarked='S'),\n",
       " Row(PassengerId='412', Survived='0', Pclass='3', Name='Hart, Mr. Henry', Sex='male', Age=None, SibSp='0', Parch='0', Ticket='394140', Fare='6.8583', Cabin=None, Embarked='Q'),\n",
       " Row(PassengerId='413', Survived='1', Pclass='1', Name='Minahan, Miss. Daisy E', Sex='female', Age='33', SibSp='1', Parch='0', Ticket='19928', Fare='90', Cabin='C78', Embarked='Q'),\n",
       " Row(PassengerId='414', Survived='0', Pclass='2', Name='Cunningham, Mr. Alfred Fleming', Sex='male', Age=None, SibSp='0', Parch='0', Ticket='239853', Fare='0', Cabin=None, Embarked='S'),\n",
       " Row(PassengerId='415', Survived='1', Pclass='3', Name='Sundman, Mr. Johan Julian', Sex='male', Age='44', SibSp='0', Parch='0', Ticket='STON/O 2. 3101269', Fare='7.925', Cabin=None, Embarked='S'),\n",
       " Row(PassengerId='416', Survived='0', Pclass='3', Name='Meek, Mrs. Thomas (Annie Louise Rowley)', Sex='female', Age=None, SibSp='0', Parch='0', Ticket='343095', Fare='8.05', Cabin=None, Embarked='S'),\n",
       " Row(PassengerId='417', Survived='1', Pclass='2', Name='Drew, Mrs. James Vivian (Lulu Thorne Christian)', Sex='female', Age='34', SibSp='1', Parch='1', Ticket='28220', Fare='32.5', Cabin=None, Embarked='S'),\n",
       " Row(PassengerId='418', Survived='1', Pclass='2', Name='Silven, Miss. Lyyli Karoliina', Sex='female', Age='18', SibSp='0', Parch='2', Ticket='250652', Fare='13', Cabin=None, Embarked='S'),\n",
       " Row(PassengerId='419', Survived='0', Pclass='2', Name='Matthews, Mr. William John', Sex='male', Age='30', SibSp='0', Parch='0', Ticket='28228', Fare='13', Cabin=None, Embarked='S'),\n",
       " Row(PassengerId='420', Survived='0', Pclass='3', Name='Van Impe, Miss. Catharina', Sex='female', Age='10', SibSp='0', Parch='2', Ticket='345773', Fare='24.15', Cabin=None, Embarked='S'),\n",
       " Row(PassengerId='421', Survived='0', Pclass='3', Name='Gheorgheff, Mr. Stanio', Sex='male', Age=None, SibSp='0', Parch='0', Ticket='349254', Fare='7.8958', Cabin=None, Embarked='C'),\n",
       " Row(PassengerId='422', Survived='0', Pclass='3', Name='Charters, Mr. David', Sex='male', Age='21', SibSp='0', Parch='0', Ticket='A/5. 13032', Fare='7.7333', Cabin=None, Embarked='Q'),\n",
       " Row(PassengerId='423', Survived='0', Pclass='3', Name='Zimmerman, Mr. Leo', Sex='male', Age='29', SibSp='0', Parch='0', Ticket='315082', Fare='7.875', Cabin=None, Embarked='S'),\n",
       " Row(PassengerId='424', Survived='0', Pclass='3', Name='Danbom, Mrs. Ernst Gilbert (Anna Sigrid Maria Brogren)', Sex='female', Age='28', SibSp='1', Parch='1', Ticket='347080', Fare='14.4', Cabin=None, Embarked='S'),\n",
       " Row(PassengerId='425', Survived='0', Pclass='3', Name='Rosblom, Mr. Viktor Richard', Sex='male', Age='18', SibSp='1', Parch='1', Ticket='370129', Fare='20.2125', Cabin=None, Embarked='S'),\n",
       " Row(PassengerId='426', Survived='0', Pclass='3', Name='Wiseman, Mr. Phillippe', Sex='male', Age=None, SibSp='0', Parch='0', Ticket='A/4. 34244', Fare='7.25', Cabin=None, Embarked='S'),\n",
       " Row(PassengerId='427', Survived='1', Pclass='2', Name='Clarke, Mrs. Charles V (Ada Maria Winfield)', Sex='female', Age='28', SibSp='1', Parch='0', Ticket='2003', Fare='26', Cabin=None, Embarked='S'),\n",
       " Row(PassengerId='428', Survived='1', Pclass='2', Name='\"Phillips, Miss. Kate Florence (\"\"Mrs Kate Louise Phillips Marshall\"\")\"', Sex='female', Age='19', SibSp='0', Parch='0', Ticket='250655', Fare='26', Cabin=None, Embarked='S'),\n",
       " Row(PassengerId='429', Survived='0', Pclass='3', Name='Flynn, Mr. James', Sex='male', Age=None, SibSp='0', Parch='0', Ticket='364851', Fare='7.75', Cabin=None, Embarked='Q'),\n",
       " Row(PassengerId='430', Survived='1', Pclass='3', Name='Pickard, Mr. Berk (Berk Trembisky)', Sex='male', Age='32', SibSp='0', Parch='0', Ticket='SOTON/O.Q. 392078', Fare='8.05', Cabin='E10', Embarked='S'),\n",
       " Row(PassengerId='431', Survived='1', Pclass='1', Name='Bjornstrom-Steffansson, Mr. Mauritz Hakan', Sex='male', Age='28', SibSp='0', Parch='0', Ticket='110564', Fare='26.55', Cabin='C52', Embarked='S'),\n",
       " Row(PassengerId='432', Survived='1', Pclass='3', Name='Thorneycroft, Mrs. Percival (Florence Kate White)', Sex='female', Age=None, SibSp='1', Parch='0', Ticket='376564', Fare='16.1', Cabin=None, Embarked='S'),\n",
       " Row(PassengerId='433', Survived='1', Pclass='2', Name='Louch, Mrs. Charles Alexander (Alice Adelaide Slow)', Sex='female', Age='42', SibSp='1', Parch='0', Ticket='SC/AH 3085', Fare='26', Cabin=None, Embarked='S'),\n",
       " Row(PassengerId='434', Survived='0', Pclass='3', Name='Kallio, Mr. Nikolai Erland', Sex='male', Age='17', SibSp='0', Parch='0', Ticket='STON/O 2. 3101274', Fare='7.125', Cabin=None, Embarked='S'),\n",
       " Row(PassengerId='435', Survived='0', Pclass='1', Name='Silvey, Mr. William Baird', Sex='male', Age='50', SibSp='1', Parch='0', Ticket='13507', Fare='55.9', Cabin='E44', Embarked='S'),\n",
       " Row(PassengerId='436', Survived='1', Pclass='1', Name='Carter, Miss. Lucile Polk', Sex='female', Age='14', SibSp='1', Parch='2', Ticket='113760', Fare='120', Cabin='B96 B98', Embarked='S'),\n",
       " Row(PassengerId='437', Survived='0', Pclass='3', Name='\"Ford, Miss. Doolina Margaret \"\"Daisy\"\"\"', Sex='female', Age='21', SibSp='2', Parch='2', Ticket='W./C. 6608', Fare='34.375', Cabin=None, Embarked='S'),\n",
       " Row(PassengerId='438', Survived='1', Pclass='2', Name='Richards, Mrs. Sidney (Emily Hocking)', Sex='female', Age='24', SibSp='2', Parch='3', Ticket='29106', Fare='18.75', Cabin=None, Embarked='S'),\n",
       " Row(PassengerId='439', Survived='0', Pclass='1', Name='Fortune, Mr. Mark', Sex='male', Age='64', SibSp='1', Parch='4', Ticket='19950', Fare='263', Cabin='C23 C25 C27', Embarked='S'),\n",
       " Row(PassengerId='440', Survived='0', Pclass='2', Name='Kvillner, Mr. Johan Henrik Johannesson', Sex='male', Age='31', SibSp='0', Parch='0', Ticket='C.A. 18723', Fare='10.5', Cabin=None, Embarked='S'),\n",
       " Row(PassengerId='441', Survived='1', Pclass='2', Name='Hart, Mrs. Benjamin (Esther Ada Bloomfield)', Sex='female', Age='45', SibSp='1', Parch='1', Ticket='F.C.C. 13529', Fare='26.25', Cabin=None, Embarked='S'),\n",
       " Row(PassengerId='442', Survived='0', Pclass='3', Name='Hampe, Mr. Leon', Sex='male', Age='20', SibSp='0', Parch='0', Ticket='345769', Fare='9.5', Cabin=None, Embarked='S'),\n",
       " Row(PassengerId='443', Survived='0', Pclass='3', Name='Petterson, Mr. Johan Emil', Sex='male', Age='25', SibSp='1', Parch='0', Ticket='347076', Fare='7.775', Cabin=None, Embarked='S'),\n",
       " Row(PassengerId='444', Survived='1', Pclass='2', Name='Reynaldo, Ms. Encarnacion', Sex='female', Age='28', SibSp='0', Parch='0', Ticket='230434', Fare='13', Cabin=None, Embarked='S'),\n",
       " Row(PassengerId='445', Survived='1', Pclass='3', Name='Johannesen-Bratthammer, Mr. Bernt', Sex='male', Age=None, SibSp='0', Parch='0', Ticket='65306', Fare='8.1125', Cabin=None, Embarked='S'),\n",
       " Row(PassengerId='446', Survived='1', Pclass='1', Name='Dodge, Master. Washington', Sex='male', Age='4', SibSp='0', Parch='2', Ticket='33638', Fare='81.8583', Cabin='A34', Embarked='S'),\n",
       " Row(PassengerId='447', Survived='1', Pclass='2', Name='Mellinger, Miss. Madeleine Violet', Sex='female', Age='13', SibSp='0', Parch='1', Ticket='250644', Fare='19.5', Cabin=None, Embarked='S'),\n",
       " Row(PassengerId='448', Survived='1', Pclass='1', Name='Seward, Mr. Frederic Kimber', Sex='male', Age='34', SibSp='0', Parch='0', Ticket='113794', Fare='26.55', Cabin=None, Embarked='S'),\n",
       " Row(PassengerId='449', Survived='1', Pclass='3', Name='Baclini, Miss. Marie Catherine', Sex='female', Age='5', SibSp='2', Parch='1', Ticket='2666', Fare='19.2583', Cabin=None, Embarked='C'),\n",
       " Row(PassengerId='450', Survived='1', Pclass='1', Name='Peuchen, Major. Arthur Godfrey', Sex='male', Age='52', SibSp='0', Parch='0', Ticket='113786', Fare='30.5', Cabin='C104', Embarked='S'),\n",
       " Row(PassengerId='451', Survived='0', Pclass='2', Name='West, Mr. Edwy Arthur', Sex='male', Age='36', SibSp='1', Parch='2', Ticket='C.A. 34651', Fare='27.75', Cabin=None, Embarked='S'),\n",
       " Row(PassengerId='452', Survived='0', Pclass='3', Name='Hagland, Mr. Ingvald Olai Olsen', Sex='male', Age=None, SibSp='1', Parch='0', Ticket='65303', Fare='19.9667', Cabin=None, Embarked='S'),\n",
       " Row(PassengerId='453', Survived='0', Pclass='1', Name='Foreman, Mr. Benjamin Laventall', Sex='male', Age='30', SibSp='0', Parch='0', Ticket='113051', Fare='27.75', Cabin='C111', Embarked='C'),\n",
       " Row(PassengerId='454', Survived='1', Pclass='1', Name='Goldenberg, Mr. Samuel L', Sex='male', Age='49', SibSp='1', Parch='0', Ticket='17453', Fare='89.1042', Cabin='C92', Embarked='C'),\n",
       " Row(PassengerId='455', Survived='0', Pclass='3', Name='Peduzzi, Mr. Joseph', Sex='male', Age=None, SibSp='0', Parch='0', Ticket='A/5 2817', Fare='8.05', Cabin=None, Embarked='S'),\n",
       " Row(PassengerId='456', Survived='1', Pclass='3', Name='Jalsevac, Mr. Ivan', Sex='male', Age='29', SibSp='0', Parch='0', Ticket='349240', Fare='7.8958', Cabin=None, Embarked='C'),\n",
       " Row(PassengerId='457', Survived='0', Pclass='1', Name='Millet, Mr. Francis Davis', Sex='male', Age='65', SibSp='0', Parch='0', Ticket='13509', Fare='26.55', Cabin='E38', Embarked='S'),\n",
       " Row(PassengerId='458', Survived='1', Pclass='1', Name='Kenyon, Mrs. Frederick R (Marion)', Sex='female', Age=None, SibSp='1', Parch='0', Ticket='17464', Fare='51.8625', Cabin='D21', Embarked='S'),\n",
       " Row(PassengerId='459', Survived='1', Pclass='2', Name='Toomey, Miss. Ellen', Sex='female', Age='50', SibSp='0', Parch='0', Ticket='F.C.C. 13531', Fare='10.5', Cabin=None, Embarked='S'),\n",
       " Row(PassengerId='460', Survived='0', Pclass='3', Name=\"O'Connor, Mr. Maurice\", Sex='male', Age=None, SibSp='0', Parch='0', Ticket='371060', Fare='7.75', Cabin=None, Embarked='Q'),\n",
       " Row(PassengerId='461', Survived='1', Pclass='1', Name='Anderson, Mr. Harry', Sex='male', Age='48', SibSp='0', Parch='0', Ticket='19952', Fare='26.55', Cabin='E12', Embarked='S'),\n",
       " Row(PassengerId='462', Survived='0', Pclass='3', Name='Morley, Mr. William', Sex='male', Age='34', SibSp='0', Parch='0', Ticket='364506', Fare='8.05', Cabin=None, Embarked='S'),\n",
       " Row(PassengerId='463', Survived='0', Pclass='1', Name='Gee, Mr. Arthur H', Sex='male', Age='47', SibSp='0', Parch='0', Ticket='111320', Fare='38.5', Cabin='E63', Embarked='S'),\n",
       " Row(PassengerId='464', Survived='0', Pclass='2', Name='Milling, Mr. Jacob Christian', Sex='male', Age='48', SibSp='0', Parch='0', Ticket='234360', Fare='13', Cabin=None, Embarked='S'),\n",
       " Row(PassengerId='465', Survived='0', Pclass='3', Name='Maisner, Mr. Simon', Sex='male', Age=None, SibSp='0', Parch='0', Ticket='A/S 2816', Fare='8.05', Cabin=None, Embarked='S'),\n",
       " Row(PassengerId='466', Survived='0', Pclass='3', Name='Goncalves, Mr. Manuel Estanslas', Sex='male', Age='38', SibSp='0', Parch='0', Ticket='SOTON/O.Q. 3101306', Fare='7.05', Cabin=None, Embarked='S'),\n",
       " Row(PassengerId='467', Survived='0', Pclass='2', Name='Campbell, Mr. William', Sex='male', Age=None, SibSp='0', Parch='0', Ticket='239853', Fare='0', Cabin=None, Embarked='S'),\n",
       " Row(PassengerId='468', Survived='0', Pclass='1', Name='Smart, Mr. John Montgomery', Sex='male', Age='56', SibSp='0', Parch='0', Ticket='113792', Fare='26.55', Cabin=None, Embarked='S'),\n",
       " Row(PassengerId='469', Survived='0', Pclass='3', Name='Scanlan, Mr. James', Sex='male', Age=None, SibSp='0', Parch='0', Ticket='36209', Fare='7.725', Cabin=None, Embarked='Q'),\n",
       " Row(PassengerId='470', Survived='1', Pclass='3', Name='Baclini, Miss. Helene Barbara', Sex='female', Age='0.75', SibSp='2', Parch='1', Ticket='2666', Fare='19.2583', Cabin=None, Embarked='C'),\n",
       " Row(PassengerId='471', Survived='0', Pclass='3', Name='Keefe, Mr. Arthur', Sex='male', Age=None, SibSp='0', Parch='0', Ticket='323592', Fare='7.25', Cabin=None, Embarked='S'),\n",
       " Row(PassengerId='472', Survived='0', Pclass='3', Name='Cacic, Mr. Luka', Sex='male', Age='38', SibSp='0', Parch='0', Ticket='315089', Fare='8.6625', Cabin=None, Embarked='S'),\n",
       " Row(PassengerId='473', Survived='1', Pclass='2', Name='West, Mrs. Edwy Arthur (Ada Mary Worth)', Sex='female', Age='33', SibSp='1', Parch='2', Ticket='C.A. 34651', Fare='27.75', Cabin=None, Embarked='S'),\n",
       " Row(PassengerId='474', Survived='1', Pclass='2', Name='Jerwan, Mrs. Amin S (Marie Marthe Thuillard)', Sex='female', Age='23', SibSp='0', Parch='0', Ticket='SC/AH Basle 541', Fare='13.7917', Cabin='D', Embarked='C'),\n",
       " Row(PassengerId='475', Survived='0', Pclass='3', Name='Strandberg, Miss. Ida Sofia', Sex='female', Age='22', SibSp='0', Parch='0', Ticket='7553', Fare='9.8375', Cabin=None, Embarked='S'),\n",
       " Row(PassengerId='476', Survived='0', Pclass='1', Name='Clifford, Mr. George Quincy', Sex='male', Age=None, SibSp='0', Parch='0', Ticket='110465', Fare='52', Cabin='A14', Embarked='S'),\n",
       " Row(PassengerId='477', Survived='0', Pclass='2', Name='Renouf, Mr. Peter Henry', Sex='male', Age='34', SibSp='1', Parch='0', Ticket='31027', Fare='21', Cabin=None, Embarked='S'),\n",
       " Row(PassengerId='478', Survived='0', Pclass='3', Name='Braund, Mr. Lewis Richard', Sex='male', Age='29', SibSp='1', Parch='0', Ticket='3460', Fare='7.0458', Cabin=None, Embarked='S'),\n",
       " Row(PassengerId='479', Survived='0', Pclass='3', Name='Karlsson, Mr. Nils August', Sex='male', Age='22', SibSp='0', Parch='0', Ticket='350060', Fare='7.5208', Cabin=None, Embarked='S'),\n",
       " Row(PassengerId='480', Survived='1', Pclass='3', Name='Hirvonen, Miss. Hildur E', Sex='female', Age='2', SibSp='0', Parch='1', Ticket='3101298', Fare='12.2875', Cabin=None, Embarked='S'),\n",
       " Row(PassengerId='481', Survived='0', Pclass='3', Name='Goodwin, Master. Harold Victor', Sex='male', Age='9', SibSp='5', Parch='2', Ticket='CA 2144', Fare='46.9', Cabin=None, Embarked='S'),\n",
       " Row(PassengerId='482', Survived='0', Pclass='2', Name='\"Frost, Mr. Anthony Wood \"\"Archie\"\"\"', Sex='male', Age=None, SibSp='0', Parch='0', Ticket='239854', Fare='0', Cabin=None, Embarked='S'),\n",
       " Row(PassengerId='483', Survived='0', Pclass='3', Name='Rouse, Mr. Richard Henry', Sex='male', Age='50', SibSp='0', Parch='0', Ticket='A/5 3594', Fare='8.05', Cabin=None, Embarked='S'),\n",
       " Row(PassengerId='484', Survived='1', Pclass='3', Name='Turkula, Mrs. (Hedwig)', Sex='female', Age='63', SibSp='0', Parch='0', Ticket='4134', Fare='9.5875', Cabin=None, Embarked='S'),\n",
       " Row(PassengerId='485', Survived='1', Pclass='1', Name='Bishop, Mr. Dickinson H', Sex='male', Age='25', SibSp='1', Parch='0', Ticket='11967', Fare='91.0792', Cabin='B49', Embarked='C'),\n",
       " Row(PassengerId='486', Survived='0', Pclass='3', Name='Lefebre, Miss. Jeannie', Sex='female', Age=None, SibSp='3', Parch='1', Ticket='4133', Fare='25.4667', Cabin=None, Embarked='S'),\n",
       " Row(PassengerId='487', Survived='1', Pclass='1', Name='Hoyt, Mrs. Frederick Maxfield (Jane Anne Forby)', Sex='female', Age='35', SibSp='1', Parch='0', Ticket='19943', Fare='90', Cabin='C93', Embarked='S'),\n",
       " Row(PassengerId='488', Survived='0', Pclass='1', Name='Kent, Mr. Edward Austin', Sex='male', Age='58', SibSp='0', Parch='0', Ticket='11771', Fare='29.7', Cabin='B37', Embarked='C'),\n",
       " Row(PassengerId='489', Survived='0', Pclass='3', Name='Somerton, Mr. Francis William', Sex='male', Age='30', SibSp='0', Parch='0', Ticket='A.5. 18509', Fare='8.05', Cabin=None, Embarked='S'),\n",
       " Row(PassengerId='490', Survived='1', Pclass='3', Name='\"Coutts, Master. Eden Leslie \"\"Neville\"\"\"', Sex='male', Age='9', SibSp='1', Parch='1', Ticket='C.A. 37671', Fare='15.9', Cabin=None, Embarked='S'),\n",
       " Row(PassengerId='491', Survived='0', Pclass='3', Name='Hagland, Mr. Konrad Mathias Reiersen', Sex='male', Age=None, SibSp='1', Parch='0', Ticket='65304', Fare='19.9667', Cabin=None, Embarked='S'),\n",
       " Row(PassengerId='492', Survived='0', Pclass='3', Name='Windelov, Mr. Einar', Sex='male', Age='21', SibSp='0', Parch='0', Ticket='SOTON/OQ 3101317', Fare='7.25', Cabin=None, Embarked='S'),\n",
       " Row(PassengerId='493', Survived='0', Pclass='1', Name='Molson, Mr. Harry Markland', Sex='male', Age='55', SibSp='0', Parch='0', Ticket='113787', Fare='30.5', Cabin='C30', Embarked='S'),\n",
       " Row(PassengerId='494', Survived='0', Pclass='1', Name='Artagaveytia, Mr. Ramon', Sex='male', Age='71', SibSp='0', Parch='0', Ticket='PC 17609', Fare='49.5042', Cabin=None, Embarked='C'),\n",
       " Row(PassengerId='495', Survived='0', Pclass='3', Name='Stanley, Mr. Edward Roland', Sex='male', Age='21', SibSp='0', Parch='0', Ticket='A/4 45380', Fare='8.05', Cabin=None, Embarked='S'),\n",
       " Row(PassengerId='496', Survived='0', Pclass='3', Name='Yousseff, Mr. Gerious', Sex='male', Age=None, SibSp='0', Parch='0', Ticket='2627', Fare='14.4583', Cabin=None, Embarked='C'),\n",
       " Row(PassengerId='497', Survived='1', Pclass='1', Name='Eustis, Miss. Elizabeth Mussey', Sex='female', Age='54', SibSp='1', Parch='0', Ticket='36947', Fare='78.2667', Cabin='D20', Embarked='C'),\n",
       " Row(PassengerId='498', Survived='0', Pclass='3', Name='Shellard, Mr. Frederick William', Sex='male', Age=None, SibSp='0', Parch='0', Ticket='C.A. 6212', Fare='15.1', Cabin=None, Embarked='S'),\n",
       " Row(PassengerId='499', Survived='0', Pclass='1', Name='Allison, Mrs. Hudson J C (Bessie Waldo Daniels)', Sex='female', Age='25', SibSp='1', Parch='2', Ticket='113781', Fare='151.55', Cabin='C22 C26', Embarked='S'),\n",
       " Row(PassengerId='500', Survived='0', Pclass='3', Name='Svensson, Mr. Olof', Sex='male', Age='24', SibSp='0', Parch='0', Ticket='350035', Fare='7.7958', Cabin=None, Embarked='S'),\n",
       " Row(PassengerId='501', Survived='0', Pclass='3', Name='Calic, Mr. Petar', Sex='male', Age='17', SibSp='0', Parch='0', Ticket='315086', Fare='8.6625', Cabin=None, Embarked='S'),\n",
       " Row(PassengerId='502', Survived='0', Pclass='3', Name='Canavan, Miss. Mary', Sex='female', Age='21', SibSp='0', Parch='0', Ticket='364846', Fare='7.75', Cabin=None, Embarked='Q'),\n",
       " Row(PassengerId='503', Survived='0', Pclass='3', Name=\"O'Sullivan, Miss. Bridget Mary\", Sex='female', Age=None, SibSp='0', Parch='0', Ticket='330909', Fare='7.6292', Cabin=None, Embarked='Q'),\n",
       " Row(PassengerId='504', Survived='0', Pclass='3', Name='Laitinen, Miss. Kristina Sofia', Sex='female', Age='37', SibSp='0', Parch='0', Ticket='4135', Fare='9.5875', Cabin=None, Embarked='S'),\n",
       " Row(PassengerId='505', Survived='1', Pclass='1', Name='Maioni, Miss. Roberta', Sex='female', Age='16', SibSp='0', Parch='0', Ticket='110152', Fare='86.5', Cabin='B79', Embarked='S'),\n",
       " Row(PassengerId='506', Survived='0', Pclass='1', Name='Penasco y Castellana, Mr. Victor de Satode', Sex='male', Age='18', SibSp='1', Parch='0', Ticket='PC 17758', Fare='108.9', Cabin='C65', Embarked='C'),\n",
       " Row(PassengerId='507', Survived='1', Pclass='2', Name='Quick, Mrs. Frederick Charles (Jane Richards)', Sex='female', Age='33', SibSp='0', Parch='2', Ticket='26360', Fare='26', Cabin=None, Embarked='S'),\n",
       " Row(PassengerId='508', Survived='1', Pclass='1', Name='\"Bradley, Mr. George (\"\"George Arthur Brayton\"\")\"', Sex='male', Age=None, SibSp='0', Parch='0', Ticket='111427', Fare='26.55', Cabin=None, Embarked='S'),\n",
       " Row(PassengerId='509', Survived='0', Pclass='3', Name='Olsen, Mr. Henry Margido', Sex='male', Age='28', SibSp='0', Parch='0', Ticket='C 4001', Fare='22.525', Cabin=None, Embarked='S'),\n",
       " Row(PassengerId='510', Survived='1', Pclass='3', Name='Lang, Mr. Fang', Sex='male', Age='26', SibSp='0', Parch='0', Ticket='1601', Fare='56.4958', Cabin=None, Embarked='S'),\n",
       " Row(PassengerId='511', Survived='1', Pclass='3', Name='Daly, Mr. Eugene Patrick', Sex='male', Age='29', SibSp='0', Parch='0', Ticket='382651', Fare='7.75', Cabin=None, Embarked='Q'),\n",
       " Row(PassengerId='512', Survived='0', Pclass='3', Name='Webber, Mr. James', Sex='male', Age=None, SibSp='0', Parch='0', Ticket='SOTON/OQ 3101316', Fare='8.05', Cabin=None, Embarked='S'),\n",
       " Row(PassengerId='513', Survived='1', Pclass='1', Name='McGough, Mr. James Robert', Sex='male', Age='36', SibSp='0', Parch='0', Ticket='PC 17473', Fare='26.2875', Cabin='E25', Embarked='S'),\n",
       " Row(PassengerId='514', Survived='1', Pclass='1', Name='Rothschild, Mrs. Martin (Elizabeth L. Barrett)', Sex='female', Age='54', SibSp='1', Parch='0', Ticket='PC 17603', Fare='59.4', Cabin=None, Embarked='C'),\n",
       " Row(PassengerId='515', Survived='0', Pclass='3', Name='Coleff, Mr. Satio', Sex='male', Age='24', SibSp='0', Parch='0', Ticket='349209', Fare='7.4958', Cabin=None, Embarked='S'),\n",
       " Row(PassengerId='516', Survived='0', Pclass='1', Name='Walker, Mr. William Anderson', Sex='male', Age='47', SibSp='0', Parch='0', Ticket='36967', Fare='34.0208', Cabin='D46', Embarked='S'),\n",
       " Row(PassengerId='517', Survived='1', Pclass='2', Name='Lemore, Mrs. (Amelia Milley)', Sex='female', Age='34', SibSp='0', Parch='0', Ticket='C.A. 34260', Fare='10.5', Cabin='F33', Embarked='S'),\n",
       " Row(PassengerId='518', Survived='0', Pclass='3', Name='Ryan, Mr. Patrick', Sex='male', Age=None, SibSp='0', Parch='0', Ticket='371110', Fare='24.15', Cabin=None, Embarked='Q'),\n",
       " Row(PassengerId='519', Survived='1', Pclass='2', Name='\"Angle, Mrs. William A (Florence \"\"Mary\"\" Agnes Hughes)\"', Sex='female', Age='36', SibSp='1', Parch='0', Ticket='226875', Fare='26', Cabin=None, Embarked='S'),\n",
       " Row(PassengerId='520', Survived='0', Pclass='3', Name='Pavlovic, Mr. Stefo', Sex='male', Age='32', SibSp='0', Parch='0', Ticket='349242', Fare='7.8958', Cabin=None, Embarked='S'),\n",
       " Row(PassengerId='521', Survived='1', Pclass='1', Name='Perreault, Miss. Anne', Sex='female', Age='30', SibSp='0', Parch='0', Ticket='12749', Fare='93.5', Cabin='B73', Embarked='S'),\n",
       " Row(PassengerId='522', Survived='0', Pclass='3', Name='Vovk, Mr. Janko', Sex='male', Age='22', SibSp='0', Parch='0', Ticket='349252', Fare='7.8958', Cabin=None, Embarked='S'),\n",
       " Row(PassengerId='523', Survived='0', Pclass='3', Name='Lahoud, Mr. Sarkis', Sex='male', Age=None, SibSp='0', Parch='0', Ticket='2624', Fare='7.225', Cabin=None, Embarked='C'),\n",
       " Row(PassengerId='524', Survived='1', Pclass='1', Name='Hippach, Mrs. Louis Albert (Ida Sophia Fischer)', Sex='female', Age='44', SibSp='0', Parch='1', Ticket='111361', Fare='57.9792', Cabin='B18', Embarked='C'),\n",
       " Row(PassengerId='525', Survived='0', Pclass='3', Name='Kassem, Mr. Fared', Sex='male', Age=None, SibSp='0', Parch='0', Ticket='2700', Fare='7.2292', Cabin=None, Embarked='C'),\n",
       " Row(PassengerId='526', Survived='0', Pclass='3', Name='Farrell, Mr. James', Sex='male', Age='40.5', SibSp='0', Parch='0', Ticket='367232', Fare='7.75', Cabin=None, Embarked='Q'),\n",
       " Row(PassengerId='527', Survived='1', Pclass='2', Name='Ridsdale, Miss. Lucy', Sex='female', Age='50', SibSp='0', Parch='0', Ticket='W./C. 14258', Fare='10.5', Cabin=None, Embarked='S'),\n",
       " Row(PassengerId='528', Survived='0', Pclass='1', Name='Farthing, Mr. John', Sex='male', Age=None, SibSp='0', Parch='0', Ticket='PC 17483', Fare='221.7792', Cabin='C95', Embarked='S'),\n",
       " Row(PassengerId='529', Survived='0', Pclass='3', Name='Salonen, Mr. Johan Werner', Sex='male', Age='39', SibSp='0', Parch='0', Ticket='3101296', Fare='7.925', Cabin=None, Embarked='S'),\n",
       " Row(PassengerId='530', Survived='0', Pclass='2', Name='Hocking, Mr. Richard George', Sex='male', Age='23', SibSp='2', Parch='1', Ticket='29104', Fare='11.5', Cabin=None, Embarked='S'),\n",
       " Row(PassengerId='531', Survived='1', Pclass='2', Name='Quick, Miss. Phyllis May', Sex='female', Age='2', SibSp='1', Parch='1', Ticket='26360', Fare='26', Cabin=None, Embarked='S'),\n",
       " Row(PassengerId='532', Survived='0', Pclass='3', Name='Toufik, Mr. Nakli', Sex='male', Age=None, SibSp='0', Parch='0', Ticket='2641', Fare='7.2292', Cabin=None, Embarked='C'),\n",
       " Row(PassengerId='533', Survived='0', Pclass='3', Name='Elias, Mr. Joseph Jr', Sex='male', Age='17', SibSp='1', Parch='1', Ticket='2690', Fare='7.2292', Cabin=None, Embarked='C'),\n",
       " Row(PassengerId='534', Survived='1', Pclass='3', Name='Peter, Mrs. Catherine (Catherine Rizk)', Sex='female', Age=None, SibSp='0', Parch='2', Ticket='2668', Fare='22.3583', Cabin=None, Embarked='C'),\n",
       " Row(PassengerId='535', Survived='0', Pclass='3', Name='Cacic, Miss. Marija', Sex='female', Age='30', SibSp='0', Parch='0', Ticket='315084', Fare='8.6625', Cabin=None, Embarked='S'),\n",
       " Row(PassengerId='536', Survived='1', Pclass='2', Name='Hart, Miss. Eva Miriam', Sex='female', Age='7', SibSp='0', Parch='2', Ticket='F.C.C. 13529', Fare='26.25', Cabin=None, Embarked='S'),\n",
       " Row(PassengerId='537', Survived='0', Pclass='1', Name='Butt, Major. Archibald Willingham', Sex='male', Age='45', SibSp='0', Parch='0', Ticket='113050', Fare='26.55', Cabin='B38', Embarked='S'),\n",
       " Row(PassengerId='538', Survived='1', Pclass='1', Name='LeRoy, Miss. Bertha', Sex='female', Age='30', SibSp='0', Parch='0', Ticket='PC 17761', Fare='106.425', Cabin=None, Embarked='C'),\n",
       " Row(PassengerId='539', Survived='0', Pclass='3', Name='Risien, Mr. Samuel Beard', Sex='male', Age=None, SibSp='0', Parch='0', Ticket='364498', Fare='14.5', Cabin=None, Embarked='S'),\n",
       " Row(PassengerId='540', Survived='1', Pclass='1', Name='Frolicher, Miss. Hedwig Margaritha', Sex='female', Age='22', SibSp='0', Parch='2', Ticket='13568', Fare='49.5', Cabin='B39', Embarked='C'),\n",
       " Row(PassengerId='541', Survived='1', Pclass='1', Name='Crosby, Miss. Harriet R', Sex='female', Age='36', SibSp='0', Parch='2', Ticket='WE/P 5735', Fare='71', Cabin='B22', Embarked='S'),\n",
       " Row(PassengerId='542', Survived='0', Pclass='3', Name='Andersson, Miss. Ingeborg Constanzia', Sex='female', Age='9', SibSp='4', Parch='2', Ticket='347082', Fare='31.275', Cabin=None, Embarked='S'),\n",
       " Row(PassengerId='543', Survived='0', Pclass='3', Name='Andersson, Miss. Sigrid Elisabeth', Sex='female', Age='11', SibSp='4', Parch='2', Ticket='347082', Fare='31.275', Cabin=None, Embarked='S'),\n",
       " Row(PassengerId='544', Survived='1', Pclass='2', Name='Beane, Mr. Edward', Sex='male', Age='32', SibSp='1', Parch='0', Ticket='2908', Fare='26', Cabin=None, Embarked='S'),\n",
       " Row(PassengerId='545', Survived='0', Pclass='1', Name='Douglas, Mr. Walter Donald', Sex='male', Age='50', SibSp='1', Parch='0', Ticket='PC 17761', Fare='106.425', Cabin='C86', Embarked='C'),\n",
       " Row(PassengerId='546', Survived='0', Pclass='1', Name='Nicholson, Mr. Arthur Ernest', Sex='male', Age='64', SibSp='0', Parch='0', Ticket='693', Fare='26', Cabin=None, Embarked='S'),\n",
       " Row(PassengerId='547', Survived='1', Pclass='2', Name='Beane, Mrs. Edward (Ethel Clarke)', Sex='female', Age='19', SibSp='1', Parch='0', Ticket='2908', Fare='26', Cabin=None, Embarked='S'),\n",
       " Row(PassengerId='548', Survived='1', Pclass='2', Name='Padro y Manent, Mr. Julian', Sex='male', Age=None, SibSp='0', Parch='0', Ticket='SC/PARIS 2146', Fare='13.8625', Cabin=None, Embarked='C'),\n",
       " Row(PassengerId='549', Survived='0', Pclass='3', Name='Goldsmith, Mr. Frank John', Sex='male', Age='33', SibSp='1', Parch='1', Ticket='363291', Fare='20.525', Cabin=None, Embarked='S'),\n",
       " Row(PassengerId='550', Survived='1', Pclass='2', Name='Davies, Master. John Morgan Jr', Sex='male', Age='8', SibSp='1', Parch='1', Ticket='C.A. 33112', Fare='36.75', Cabin=None, Embarked='S'),\n",
       " Row(PassengerId='551', Survived='1', Pclass='1', Name='Thayer, Mr. John Borland Jr', Sex='male', Age='17', SibSp='0', Parch='2', Ticket='17421', Fare='110.8833', Cabin='C70', Embarked='C'),\n",
       " Row(PassengerId='552', Survived='0', Pclass='2', Name='Sharp, Mr. Percival James R', Sex='male', Age='27', SibSp='0', Parch='0', Ticket='244358', Fare='26', Cabin=None, Embarked='S'),\n",
       " Row(PassengerId='553', Survived='0', Pclass='3', Name=\"O'Brien, Mr. Timothy\", Sex='male', Age=None, SibSp='0', Parch='0', Ticket='330979', Fare='7.8292', Cabin=None, Embarked='Q'),\n",
       " Row(PassengerId='554', Survived='1', Pclass='3', Name='\"Leeni, Mr. Fahim (\"\"Philip Zenni\"\")\"', Sex='male', Age='22', SibSp='0', Parch='0', Ticket='2620', Fare='7.225', Cabin=None, Embarked='C'),\n",
       " Row(PassengerId='555', Survived='1', Pclass='3', Name='Ohman, Miss. Velin', Sex='female', Age='22', SibSp='0', Parch='0', Ticket='347085', Fare='7.775', Cabin=None, Embarked='S'),\n",
       " Row(PassengerId='556', Survived='0', Pclass='1', Name='Wright, Mr. George', Sex='male', Age='62', SibSp='0', Parch='0', Ticket='113807', Fare='26.55', Cabin=None, Embarked='S'),\n",
       " Row(PassengerId='557', Survived='1', Pclass='1', Name='\"Duff Gordon, Lady. (Lucille Christiana Sutherland) (\"\"Mrs Morgan\"\")\"', Sex='female', Age='48', SibSp='1', Parch='0', Ticket='11755', Fare='39.6', Cabin='A16', Embarked='C'),\n",
       " Row(PassengerId='558', Survived='0', Pclass='1', Name='Robbins, Mr. Victor', Sex='male', Age=None, SibSp='0', Parch='0', Ticket='PC 17757', Fare='227.525', Cabin=None, Embarked='C'),\n",
       " Row(PassengerId='559', Survived='1', Pclass='1', Name='Taussig, Mrs. Emil (Tillie Mandelbaum)', Sex='female', Age='39', SibSp='1', Parch='1', Ticket='110413', Fare='79.65', Cabin='E67', Embarked='S'),\n",
       " Row(PassengerId='560', Survived='1', Pclass='3', Name='de Messemaeker, Mrs. Guillaume Joseph (Emma)', Sex='female', Age='36', SibSp='1', Parch='0', Ticket='345572', Fare='17.4', Cabin=None, Embarked='S'),\n",
       " Row(PassengerId='561', Survived='0', Pclass='3', Name='Morrow, Mr. Thomas Rowan', Sex='male', Age=None, SibSp='0', Parch='0', Ticket='372622', Fare='7.75', Cabin=None, Embarked='Q'),\n",
       " Row(PassengerId='562', Survived='0', Pclass='3', Name='Sivic, Mr. Husein', Sex='male', Age='40', SibSp='0', Parch='0', Ticket='349251', Fare='7.8958', Cabin=None, Embarked='S'),\n",
       " Row(PassengerId='563', Survived='0', Pclass='2', Name='Norman, Mr. Robert Douglas', Sex='male', Age='28', SibSp='0', Parch='0', Ticket='218629', Fare='13.5', Cabin=None, Embarked='S'),\n",
       " Row(PassengerId='564', Survived='0', Pclass='3', Name='Simmons, Mr. John', Sex='male', Age=None, SibSp='0', Parch='0', Ticket='SOTON/OQ 392082', Fare='8.05', Cabin=None, Embarked='S'),\n",
       " Row(PassengerId='565', Survived='0', Pclass='3', Name='Meanwell, Miss. (Marion Ogden)', Sex='female', Age=None, SibSp='0', Parch='0', Ticket='SOTON/O.Q. 392087', Fare='8.05', Cabin=None, Embarked='S'),\n",
       " Row(PassengerId='566', Survived='0', Pclass='3', Name='Davies, Mr. Alfred J', Sex='male', Age='24', SibSp='2', Parch='0', Ticket='A/4 48871', Fare='24.15', Cabin=None, Embarked='S'),\n",
       " Row(PassengerId='567', Survived='0', Pclass='3', Name='Stoytcheff, Mr. Ilia', Sex='male', Age='19', SibSp='0', Parch='0', Ticket='349205', Fare='7.8958', Cabin=None, Embarked='S'),\n",
       " Row(PassengerId='568', Survived='0', Pclass='3', Name='Palsson, Mrs. Nils (Alma Cornelia Berglund)', Sex='female', Age='29', SibSp='0', Parch='4', Ticket='349909', Fare='21.075', Cabin=None, Embarked='S'),\n",
       " Row(PassengerId='569', Survived='0', Pclass='3', Name='Doharr, Mr. Tannous', Sex='male', Age=None, SibSp='0', Parch='0', Ticket='2686', Fare='7.2292', Cabin=None, Embarked='C'),\n",
       " Row(PassengerId='570', Survived='1', Pclass='3', Name='Jonsson, Mr. Carl', Sex='male', Age='32', SibSp='0', Parch='0', Ticket='350417', Fare='7.8542', Cabin=None, Embarked='S'),\n",
       " Row(PassengerId='571', Survived='1', Pclass='2', Name='Harris, Mr. George', Sex='male', Age='62', SibSp='0', Parch='0', Ticket='S.W./PP 752', Fare='10.5', Cabin=None, Embarked='S'),\n",
       " Row(PassengerId='572', Survived='1', Pclass='1', Name='Appleton, Mrs. Edward Dale (Charlotte Lamson)', Sex='female', Age='53', SibSp='2', Parch='0', Ticket='11769', Fare='51.4792', Cabin='C101', Embarked='S'),\n",
       " Row(PassengerId='573', Survived='1', Pclass='1', Name='\"Flynn, Mr. John Irwin (\"\"Irving\"\")\"', Sex='male', Age='36', SibSp='0', Parch='0', Ticket='PC 17474', Fare='26.3875', Cabin='E25', Embarked='S'),\n",
       " Row(PassengerId='574', Survived='1', Pclass='3', Name='Kelly, Miss. Mary', Sex='female', Age=None, SibSp='0', Parch='0', Ticket='14312', Fare='7.75', Cabin=None, Embarked='Q'),\n",
       " Row(PassengerId='575', Survived='0', Pclass='3', Name='Rush, Mr. Alfred George John', Sex='male', Age='16', SibSp='0', Parch='0', Ticket='A/4. 20589', Fare='8.05', Cabin=None, Embarked='S'),\n",
       " Row(PassengerId='576', Survived='0', Pclass='3', Name='Patchett, Mr. George', Sex='male', Age='19', SibSp='0', Parch='0', Ticket='358585', Fare='14.5', Cabin=None, Embarked='S'),\n",
       " Row(PassengerId='577', Survived='1', Pclass='2', Name='Garside, Miss. Ethel', Sex='female', Age='34', SibSp='0', Parch='0', Ticket='243880', Fare='13', Cabin=None, Embarked='S'),\n",
       " Row(PassengerId='578', Survived='1', Pclass='1', Name='Silvey, Mrs. William Baird (Alice Munger)', Sex='female', Age='39', SibSp='1', Parch='0', Ticket='13507', Fare='55.9', Cabin='E44', Embarked='S'),\n",
       " Row(PassengerId='579', Survived='0', Pclass='3', Name='Caram, Mrs. Joseph (Maria Elias)', Sex='female', Age=None, SibSp='1', Parch='0', Ticket='2689', Fare='14.4583', Cabin=None, Embarked='C'),\n",
       " Row(PassengerId='580', Survived='1', Pclass='3', Name='Jussila, Mr. Eiriik', Sex='male', Age='32', SibSp='0', Parch='0', Ticket='STON/O 2. 3101286', Fare='7.925', Cabin=None, Embarked='S'),\n",
       " Row(PassengerId='581', Survived='1', Pclass='2', Name='Christy, Miss. Julie Rachel', Sex='female', Age='25', SibSp='1', Parch='1', Ticket='237789', Fare='30', Cabin=None, Embarked='S'),\n",
       " Row(PassengerId='582', Survived='1', Pclass='1', Name='Thayer, Mrs. John Borland (Marian Longstreth Morris)', Sex='female', Age='39', SibSp='1', Parch='1', Ticket='17421', Fare='110.8833', Cabin='C68', Embarked='C'),\n",
       " Row(PassengerId='583', Survived='0', Pclass='2', Name='Downton, Mr. William James', Sex='male', Age='54', SibSp='0', Parch='0', Ticket='28403', Fare='26', Cabin=None, Embarked='S'),\n",
       " Row(PassengerId='584', Survived='0', Pclass='1', Name='Ross, Mr. John Hugo', Sex='male', Age='36', SibSp='0', Parch='0', Ticket='13049', Fare='40.125', Cabin='A10', Embarked='C'),\n",
       " Row(PassengerId='585', Survived='0', Pclass='3', Name='Paulner, Mr. Uscher', Sex='male', Age=None, SibSp='0', Parch='0', Ticket='3411', Fare='8.7125', Cabin=None, Embarked='C'),\n",
       " Row(PassengerId='586', Survived='1', Pclass='1', Name='Taussig, Miss. Ruth', Sex='female', Age='18', SibSp='0', Parch='2', Ticket='110413', Fare='79.65', Cabin='E68', Embarked='S'),\n",
       " Row(PassengerId='587', Survived='0', Pclass='2', Name='Jarvis, Mr. John Denzil', Sex='male', Age='47', SibSp='0', Parch='0', Ticket='237565', Fare='15', Cabin=None, Embarked='S'),\n",
       " Row(PassengerId='588', Survived='1', Pclass='1', Name='Frolicher-Stehli, Mr. Maxmillian', Sex='male', Age='60', SibSp='1', Parch='1', Ticket='13567', Fare='79.2', Cabin='B41', Embarked='C'),\n",
       " Row(PassengerId='589', Survived='0', Pclass='3', Name='Gilinski, Mr. Eliezer', Sex='male', Age='22', SibSp='0', Parch='0', Ticket='14973', Fare='8.05', Cabin=None, Embarked='S'),\n",
       " Row(PassengerId='590', Survived='0', Pclass='3', Name='Murdlin, Mr. Joseph', Sex='male', Age=None, SibSp='0', Parch='0', Ticket='A./5. 3235', Fare='8.05', Cabin=None, Embarked='S'),\n",
       " Row(PassengerId='591', Survived='0', Pclass='3', Name='Rintamaki, Mr. Matti', Sex='male', Age='35', SibSp='0', Parch='0', Ticket='STON/O 2. 3101273', Fare='7.125', Cabin=None, Embarked='S'),\n",
       " Row(PassengerId='592', Survived='1', Pclass='1', Name='Stephenson, Mrs. Walter Bertram (Martha Eustis)', Sex='female', Age='52', SibSp='1', Parch='0', Ticket='36947', Fare='78.2667', Cabin='D20', Embarked='C'),\n",
       " Row(PassengerId='593', Survived='0', Pclass='3', Name='Elsbury, Mr. William James', Sex='male', Age='47', SibSp='0', Parch='0', Ticket='A/5 3902', Fare='7.25', Cabin=None, Embarked='S'),\n",
       " Row(PassengerId='594', Survived='0', Pclass='3', Name='Bourke, Miss. Mary', Sex='female', Age=None, SibSp='0', Parch='2', Ticket='364848', Fare='7.75', Cabin=None, Embarked='Q'),\n",
       " Row(PassengerId='595', Survived='0', Pclass='2', Name='Chapman, Mr. John Henry', Sex='male', Age='37', SibSp='1', Parch='0', Ticket='SC/AH 29037', Fare='26', Cabin=None, Embarked='S'),\n",
       " Row(PassengerId='596', Survived='0', Pclass='3', Name='Van Impe, Mr. Jean Baptiste', Sex='male', Age='36', SibSp='1', Parch='1', Ticket='345773', Fare='24.15', Cabin=None, Embarked='S'),\n",
       " Row(PassengerId='597', Survived='1', Pclass='2', Name='Leitch, Miss. Jessie Wills', Sex='female', Age=None, SibSp='0', Parch='0', Ticket='248727', Fare='33', Cabin=None, Embarked='S'),\n",
       " Row(PassengerId='598', Survived='0', Pclass='3', Name='Johnson, Mr. Alfred', Sex='male', Age='49', SibSp='0', Parch='0', Ticket='LINE', Fare='0', Cabin=None, Embarked='S'),\n",
       " Row(PassengerId='599', Survived='0', Pclass='3', Name='Boulos, Mr. Hanna', Sex='male', Age=None, SibSp='0', Parch='0', Ticket='2664', Fare='7.225', Cabin=None, Embarked='C'),\n",
       " Row(PassengerId='600', Survived='1', Pclass='1', Name='\"Duff Gordon, Sir. Cosmo Edmund (\"\"Mr Morgan\"\")\"', Sex='male', Age='49', SibSp='1', Parch='0', Ticket='PC 17485', Fare='56.9292', Cabin='A20', Embarked='C'),\n",
       " Row(PassengerId='601', Survived='1', Pclass='2', Name='Jacobsohn, Mrs. Sidney Samuel (Amy Frances Christy)', Sex='female', Age='24', SibSp='2', Parch='1', Ticket='243847', Fare='27', Cabin=None, Embarked='S'),\n",
       " Row(PassengerId='602', Survived='0', Pclass='3', Name='Slabenoff, Mr. Petco', Sex='male', Age=None, SibSp='0', Parch='0', Ticket='349214', Fare='7.8958', Cabin=None, Embarked='S'),\n",
       " Row(PassengerId='603', Survived='0', Pclass='1', Name='Harrington, Mr. Charles H', Sex='male', Age=None, SibSp='0', Parch='0', Ticket='113796', Fare='42.4', Cabin=None, Embarked='S'),\n",
       " Row(PassengerId='604', Survived='0', Pclass='3', Name='Torber, Mr. Ernst William', Sex='male', Age='44', SibSp='0', Parch='0', Ticket='364511', Fare='8.05', Cabin=None, Embarked='S'),\n",
       " Row(PassengerId='605', Survived='1', Pclass='1', Name='\"Homer, Mr. Harry (\"\"Mr E Haven\"\")\"', Sex='male', Age='35', SibSp='0', Parch='0', Ticket='111426', Fare='26.55', Cabin=None, Embarked='C'),\n",
       " Row(PassengerId='606', Survived='0', Pclass='3', Name='Lindell, Mr. Edvard Bengtsson', Sex='male', Age='36', SibSp='1', Parch='0', Ticket='349910', Fare='15.55', Cabin=None, Embarked='S'),\n",
       " Row(PassengerId='607', Survived='0', Pclass='3', Name='Karaic, Mr. Milan', Sex='male', Age='30', SibSp='0', Parch='0', Ticket='349246', Fare='7.8958', Cabin=None, Embarked='S'),\n",
       " Row(PassengerId='608', Survived='1', Pclass='1', Name='Daniel, Mr. Robert Williams', Sex='male', Age='27', SibSp='0', Parch='0', Ticket='113804', Fare='30.5', Cabin=None, Embarked='S'),\n",
       " Row(PassengerId='609', Survived='1', Pclass='2', Name='Laroche, Mrs. Joseph (Juliette Marie Louise Lafargue)', Sex='female', Age='22', SibSp='1', Parch='2', Ticket='SC/Paris 2123', Fare='41.5792', Cabin=None, Embarked='C'),\n",
       " Row(PassengerId='610', Survived='1', Pclass='1', Name='Shutes, Miss. Elizabeth W', Sex='female', Age='40', SibSp='0', Parch='0', Ticket='PC 17582', Fare='153.4625', Cabin='C125', Embarked='S'),\n",
       " Row(PassengerId='611', Survived='0', Pclass='3', Name='Andersson, Mrs. Anders Johan (Alfrida Konstantia Brogren)', Sex='female', Age='39', SibSp='1', Parch='5', Ticket='347082', Fare='31.275', Cabin=None, Embarked='S'),\n",
       " Row(PassengerId='612', Survived='0', Pclass='3', Name='Jardin, Mr. Jose Neto', Sex='male', Age=None, SibSp='0', Parch='0', Ticket='SOTON/O.Q. 3101305', Fare='7.05', Cabin=None, Embarked='S'),\n",
       " Row(PassengerId='613', Survived='1', Pclass='3', Name='Murphy, Miss. Margaret Jane', Sex='female', Age=None, SibSp='1', Parch='0', Ticket='367230', Fare='15.5', Cabin=None, Embarked='Q'),\n",
       " Row(PassengerId='614', Survived='0', Pclass='3', Name='Horgan, Mr. John', Sex='male', Age=None, SibSp='0', Parch='0', Ticket='370377', Fare='7.75', Cabin=None, Embarked='Q'),\n",
       " Row(PassengerId='615', Survived='0', Pclass='3', Name='Brocklebank, Mr. William Alfred', Sex='male', Age='35', SibSp='0', Parch='0', Ticket='364512', Fare='8.05', Cabin=None, Embarked='S'),\n",
       " Row(PassengerId='616', Survived='1', Pclass='2', Name='Herman, Miss. Alice', Sex='female', Age='24', SibSp='1', Parch='2', Ticket='220845', Fare='65', Cabin=None, Embarked='S'),\n",
       " Row(PassengerId='617', Survived='0', Pclass='3', Name='Danbom, Mr. Ernst Gilbert', Sex='male', Age='34', SibSp='1', Parch='1', Ticket='347080', Fare='14.4', Cabin=None, Embarked='S'),\n",
       " Row(PassengerId='618', Survived='0', Pclass='3', Name='Lobb, Mrs. William Arthur (Cordelia K Stanlick)', Sex='female', Age='26', SibSp='1', Parch='0', Ticket='A/5. 3336', Fare='16.1', Cabin=None, Embarked='S'),\n",
       " Row(PassengerId='619', Survived='1', Pclass='2', Name='Becker, Miss. Marion Louise', Sex='female', Age='4', SibSp='2', Parch='1', Ticket='230136', Fare='39', Cabin='F4', Embarked='S'),\n",
       " Row(PassengerId='620', Survived='0', Pclass='2', Name='Gavey, Mr. Lawrence', Sex='male', Age='26', SibSp='0', Parch='0', Ticket='31028', Fare='10.5', Cabin=None, Embarked='S'),\n",
       " Row(PassengerId='621', Survived='0', Pclass='3', Name='Yasbeck, Mr. Antoni', Sex='male', Age='27', SibSp='1', Parch='0', Ticket='2659', Fare='14.4542', Cabin=None, Embarked='C'),\n",
       " Row(PassengerId='622', Survived='1', Pclass='1', Name='Kimball, Mr. Edwin Nelson Jr', Sex='male', Age='42', SibSp='1', Parch='0', Ticket='11753', Fare='52.5542', Cabin='D19', Embarked='S'),\n",
       " Row(PassengerId='623', Survived='1', Pclass='3', Name='Nakid, Mr. Sahid', Sex='male', Age='20', SibSp='1', Parch='1', Ticket='2653', Fare='15.7417', Cabin=None, Embarked='C'),\n",
       " Row(PassengerId='624', Survived='0', Pclass='3', Name='Hansen, Mr. Henry Damsgaard', Sex='male', Age='21', SibSp='0', Parch='0', Ticket='350029', Fare='7.8542', Cabin=None, Embarked='S'),\n",
       " Row(PassengerId='625', Survived='0', Pclass='3', Name='\"Bowen, Mr. David John \"\"Dai\"\"\"', Sex='male', Age='21', SibSp='0', Parch='0', Ticket='54636', Fare='16.1', Cabin=None, Embarked='S'),\n",
       " Row(PassengerId='626', Survived='0', Pclass='1', Name='Sutton, Mr. Frederick', Sex='male', Age='61', SibSp='0', Parch='0', Ticket='36963', Fare='32.3208', Cabin='D50', Embarked='S'),\n",
       " Row(PassengerId='627', Survived='0', Pclass='2', Name='Kirkland, Rev. Charles Leonard', Sex='male', Age='57', SibSp='0', Parch='0', Ticket='219533', Fare='12.35', Cabin=None, Embarked='Q'),\n",
       " Row(PassengerId='628', Survived='1', Pclass='1', Name='Longley, Miss. Gretchen Fiske', Sex='female', Age='21', SibSp='0', Parch='0', Ticket='13502', Fare='77.9583', Cabin='D9', Embarked='S'),\n",
       " Row(PassengerId='629', Survived='0', Pclass='3', Name='Bostandyeff, Mr. Guentcho', Sex='male', Age='26', SibSp='0', Parch='0', Ticket='349224', Fare='7.8958', Cabin=None, Embarked='S'),\n",
       " Row(PassengerId='630', Survived='0', Pclass='3', Name=\"O'Connell, Mr. Patrick D\", Sex='male', Age=None, SibSp='0', Parch='0', Ticket='334912', Fare='7.7333', Cabin=None, Embarked='Q'),\n",
       " Row(PassengerId='631', Survived='1', Pclass='1', Name='Barkworth, Mr. Algernon Henry Wilson', Sex='male', Age='80', SibSp='0', Parch='0', Ticket='27042', Fare='30', Cabin='A23', Embarked='S'),\n",
       " Row(PassengerId='632', Survived='0', Pclass='3', Name='Lundahl, Mr. Johan Svensson', Sex='male', Age='51', SibSp='0', Parch='0', Ticket='347743', Fare='7.0542', Cabin=None, Embarked='S'),\n",
       " Row(PassengerId='633', Survived='1', Pclass='1', Name='Stahelin-Maeglin, Dr. Max', Sex='male', Age='32', SibSp='0', Parch='0', Ticket='13214', Fare='30.5', Cabin='B50', Embarked='C'),\n",
       " Row(PassengerId='634', Survived='0', Pclass='1', Name='Parr, Mr. William Henry Marsh', Sex='male', Age=None, SibSp='0', Parch='0', Ticket='112052', Fare='0', Cabin=None, Embarked='S'),\n",
       " Row(PassengerId='635', Survived='0', Pclass='3', Name='Skoog, Miss. Mabel', Sex='female', Age='9', SibSp='3', Parch='2', Ticket='347088', Fare='27.9', Cabin=None, Embarked='S'),\n",
       " Row(PassengerId='636', Survived='1', Pclass='2', Name='Davis, Miss. Mary', Sex='female', Age='28', SibSp='0', Parch='0', Ticket='237668', Fare='13', Cabin=None, Embarked='S'),\n",
       " Row(PassengerId='637', Survived='0', Pclass='3', Name='Leinonen, Mr. Antti Gustaf', Sex='male', Age='32', SibSp='0', Parch='0', Ticket='STON/O 2. 3101292', Fare='7.925', Cabin=None, Embarked='S'),\n",
       " Row(PassengerId='638', Survived='0', Pclass='2', Name='Collyer, Mr. Harvey', Sex='male', Age='31', SibSp='1', Parch='1', Ticket='C.A. 31921', Fare='26.25', Cabin=None, Embarked='S'),\n",
       " Row(PassengerId='639', Survived='0', Pclass='3', Name='Panula, Mrs. Juha (Maria Emilia Ojala)', Sex='female', Age='41', SibSp='0', Parch='5', Ticket='3101295', Fare='39.6875', Cabin=None, Embarked='S'),\n",
       " Row(PassengerId='640', Survived='0', Pclass='3', Name='Thorneycroft, Mr. Percival', Sex='male', Age=None, SibSp='1', Parch='0', Ticket='376564', Fare='16.1', Cabin=None, Embarked='S'),\n",
       " Row(PassengerId='641', Survived='0', Pclass='3', Name='Jensen, Mr. Hans Peder', Sex='male', Age='20', SibSp='0', Parch='0', Ticket='350050', Fare='7.8542', Cabin=None, Embarked='S'),\n",
       " Row(PassengerId='642', Survived='1', Pclass='1', Name='Sagesser, Mlle. Emma', Sex='female', Age='24', SibSp='0', Parch='0', Ticket='PC 17477', Fare='69.3', Cabin='B35', Embarked='C'),\n",
       " Row(PassengerId='643', Survived='0', Pclass='3', Name='Skoog, Miss. Margit Elizabeth', Sex='female', Age='2', SibSp='3', Parch='2', Ticket='347088', Fare='27.9', Cabin=None, Embarked='S'),\n",
       " Row(PassengerId='644', Survived='1', Pclass='3', Name='Foo, Mr. Choong', Sex='male', Age=None, SibSp='0', Parch='0', Ticket='1601', Fare='56.4958', Cabin=None, Embarked='S'),\n",
       " Row(PassengerId='645', Survived='1', Pclass='3', Name='Baclini, Miss. Eugenie', Sex='female', Age='0.75', SibSp='2', Parch='1', Ticket='2666', Fare='19.2583', Cabin=None, Embarked='C'),\n",
       " Row(PassengerId='646', Survived='1', Pclass='1', Name='Harper, Mr. Henry Sleeper', Sex='male', Age='48', SibSp='1', Parch='0', Ticket='PC 17572', Fare='76.7292', Cabin='D33', Embarked='C'),\n",
       " Row(PassengerId='647', Survived='0', Pclass='3', Name='Cor, Mr. Liudevit', Sex='male', Age='19', SibSp='0', Parch='0', Ticket='349231', Fare='7.8958', Cabin=None, Embarked='S'),\n",
       " Row(PassengerId='648', Survived='1', Pclass='1', Name='Simonius-Blumer, Col. Oberst Alfons', Sex='male', Age='56', SibSp='0', Parch='0', Ticket='13213', Fare='35.5', Cabin='A26', Embarked='C'),\n",
       " Row(PassengerId='649', Survived='0', Pclass='3', Name='Willey, Mr. Edward', Sex='male', Age=None, SibSp='0', Parch='0', Ticket='S.O./P.P. 751', Fare='7.55', Cabin=None, Embarked='S'),\n",
       " Row(PassengerId='650', Survived='1', Pclass='3', Name='Stanley, Miss. Amy Zillah Elsie', Sex='female', Age='23', SibSp='0', Parch='0', Ticket='CA. 2314', Fare='7.55', Cabin=None, Embarked='S'),\n",
       " Row(PassengerId='651', Survived='0', Pclass='3', Name='Mitkoff, Mr. Mito', Sex='male', Age=None, SibSp='0', Parch='0', Ticket='349221', Fare='7.8958', Cabin=None, Embarked='S'),\n",
       " Row(PassengerId='652', Survived='1', Pclass='2', Name='Doling, Miss. Elsie', Sex='female', Age='18', SibSp='0', Parch='1', Ticket='231919', Fare='23', Cabin=None, Embarked='S'),\n",
       " Row(PassengerId='653', Survived='0', Pclass='3', Name='Kalvik, Mr. Johannes Halvorsen', Sex='male', Age='21', SibSp='0', Parch='0', Ticket='8475', Fare='8.4333', Cabin=None, Embarked='S'),\n",
       " Row(PassengerId='654', Survived='1', Pclass='3', Name='\"O\\'Leary, Miss. Hanora \"\"Norah\"\"\"', Sex='female', Age=None, SibSp='0', Parch='0', Ticket='330919', Fare='7.8292', Cabin=None, Embarked='Q'),\n",
       " Row(PassengerId='655', Survived='0', Pclass='3', Name='\"Hegarty, Miss. Hanora \"\"Nora\"\"\"', Sex='female', Age='18', SibSp='0', Parch='0', Ticket='365226', Fare='6.75', Cabin=None, Embarked='Q'),\n",
       " Row(PassengerId='656', Survived='0', Pclass='2', Name='Hickman, Mr. Leonard Mark', Sex='male', Age='24', SibSp='2', Parch='0', Ticket='S.O.C. 14879', Fare='73.5', Cabin=None, Embarked='S'),\n",
       " Row(PassengerId='657', Survived='0', Pclass='3', Name='Radeff, Mr. Alexander', Sex='male', Age=None, SibSp='0', Parch='0', Ticket='349223', Fare='7.8958', Cabin=None, Embarked='S'),\n",
       " Row(PassengerId='658', Survived='0', Pclass='3', Name='Bourke, Mrs. John (Catherine)', Sex='female', Age='32', SibSp='1', Parch='1', Ticket='364849', Fare='15.5', Cabin=None, Embarked='Q'),\n",
       " Row(PassengerId='659', Survived='0', Pclass='2', Name='Eitemiller, Mr. George Floyd', Sex='male', Age='23', SibSp='0', Parch='0', Ticket='29751', Fare='13', Cabin=None, Embarked='S'),\n",
       " Row(PassengerId='660', Survived='0', Pclass='1', Name='Newell, Mr. Arthur Webster', Sex='male', Age='58', SibSp='0', Parch='2', Ticket='35273', Fare='113.275', Cabin='D48', Embarked='C'),\n",
       " Row(PassengerId='661', Survived='1', Pclass='1', Name='Frauenthal, Dr. Henry William', Sex='male', Age='50', SibSp='2', Parch='0', Ticket='PC 17611', Fare='133.65', Cabin=None, Embarked='S'),\n",
       " Row(PassengerId='662', Survived='0', Pclass='3', Name='Badt, Mr. Mohamed', Sex='male', Age='40', SibSp='0', Parch='0', Ticket='2623', Fare='7.225', Cabin=None, Embarked='C'),\n",
       " Row(PassengerId='663', Survived='0', Pclass='1', Name='Colley, Mr. Edward Pomeroy', Sex='male', Age='47', SibSp='0', Parch='0', Ticket='5727', Fare='25.5875', Cabin='E58', Embarked='S'),\n",
       " Row(PassengerId='664', Survived='0', Pclass='3', Name='Coleff, Mr. Peju', Sex='male', Age='36', SibSp='0', Parch='0', Ticket='349210', Fare='7.4958', Cabin=None, Embarked='S'),\n",
       " Row(PassengerId='665', Survived='1', Pclass='3', Name='Lindqvist, Mr. Eino William', Sex='male', Age='20', SibSp='1', Parch='0', Ticket='STON/O 2. 3101285', Fare='7.925', Cabin=None, Embarked='S'),\n",
       " Row(PassengerId='666', Survived='0', Pclass='2', Name='Hickman, Mr. Lewis', Sex='male', Age='32', SibSp='2', Parch='0', Ticket='S.O.C. 14879', Fare='73.5', Cabin=None, Embarked='S'),\n",
       " Row(PassengerId='667', Survived='0', Pclass='2', Name='Butler, Mr. Reginald Fenton', Sex='male', Age='25', SibSp='0', Parch='0', Ticket='234686', Fare='13', Cabin=None, Embarked='S'),\n",
       " Row(PassengerId='668', Survived='0', Pclass='3', Name='Rommetvedt, Mr. Knud Paust', Sex='male', Age=None, SibSp='0', Parch='0', Ticket='312993', Fare='7.775', Cabin=None, Embarked='S'),\n",
       " Row(PassengerId='669', Survived='0', Pclass='3', Name='Cook, Mr. Jacob', Sex='male', Age='43', SibSp='0', Parch='0', Ticket='A/5 3536', Fare='8.05', Cabin=None, Embarked='S'),\n",
       " Row(PassengerId='670', Survived='1', Pclass='1', Name='Taylor, Mrs. Elmer Zebley (Juliet Cummins Wright)', Sex='female', Age=None, SibSp='1', Parch='0', Ticket='19996', Fare='52', Cabin='C126', Embarked='S'),\n",
       " Row(PassengerId='671', Survived='1', Pclass='2', Name='Brown, Mrs. Thomas William Solomon (Elizabeth Catherine Ford)', Sex='female', Age='40', SibSp='1', Parch='1', Ticket='29750', Fare='39', Cabin=None, Embarked='S'),\n",
       " Row(PassengerId='672', Survived='0', Pclass='1', Name='Davidson, Mr. Thornton', Sex='male', Age='31', SibSp='1', Parch='0', Ticket='F.C. 12750', Fare='52', Cabin='B71', Embarked='S'),\n",
       " Row(PassengerId='673', Survived='0', Pclass='2', Name='Mitchell, Mr. Henry Michael', Sex='male', Age='70', SibSp='0', Parch='0', Ticket='C.A. 24580', Fare='10.5', Cabin=None, Embarked='S'),\n",
       " Row(PassengerId='674', Survived='1', Pclass='2', Name='Wilhelms, Mr. Charles', Sex='male', Age='31', SibSp='0', Parch='0', Ticket='244270', Fare='13', Cabin=None, Embarked='S'),\n",
       " Row(PassengerId='675', Survived='0', Pclass='2', Name='Watson, Mr. Ennis Hastings', Sex='male', Age=None, SibSp='0', Parch='0', Ticket='239856', Fare='0', Cabin=None, Embarked='S'),\n",
       " Row(PassengerId='676', Survived='0', Pclass='3', Name='Edvardsson, Mr. Gustaf Hjalmar', Sex='male', Age='18', SibSp='0', Parch='0', Ticket='349912', Fare='7.775', Cabin=None, Embarked='S'),\n",
       " Row(PassengerId='677', Survived='0', Pclass='3', Name='Sawyer, Mr. Frederick Charles', Sex='male', Age='24.5', SibSp='0', Parch='0', Ticket='342826', Fare='8.05', Cabin=None, Embarked='S'),\n",
       " Row(PassengerId='678', Survived='1', Pclass='3', Name='Turja, Miss. Anna Sofia', Sex='female', Age='18', SibSp='0', Parch='0', Ticket='4138', Fare='9.8417', Cabin=None, Embarked='S'),\n",
       " Row(PassengerId='679', Survived='0', Pclass='3', Name='Goodwin, Mrs. Frederick (Augusta Tyler)', Sex='female', Age='43', SibSp='1', Parch='6', Ticket='CA 2144', Fare='46.9', Cabin=None, Embarked='S'),\n",
       " Row(PassengerId='680', Survived='1', Pclass='1', Name='Cardeza, Mr. Thomas Drake Martinez', Sex='male', Age='36', SibSp='0', Parch='1', Ticket='PC 17755', Fare='512.3292', Cabin='B51 B53 B55', Embarked='C'),\n",
       " Row(PassengerId='681', Survived='0', Pclass='3', Name='Peters, Miss. Katie', Sex='female', Age=None, SibSp='0', Parch='0', Ticket='330935', Fare='8.1375', Cabin=None, Embarked='Q'),\n",
       " Row(PassengerId='682', Survived='1', Pclass='1', Name='Hassab, Mr. Hammad', Sex='male', Age='27', SibSp='0', Parch='0', Ticket='PC 17572', Fare='76.7292', Cabin='D49', Embarked='C'),\n",
       " Row(PassengerId='683', Survived='0', Pclass='3', Name='Olsvigen, Mr. Thor Anderson', Sex='male', Age='20', SibSp='0', Parch='0', Ticket='6563', Fare='9.225', Cabin=None, Embarked='S'),\n",
       " Row(PassengerId='684', Survived='0', Pclass='3', Name='Goodwin, Mr. Charles Edward', Sex='male', Age='14', SibSp='5', Parch='2', Ticket='CA 2144', Fare='46.9', Cabin=None, Embarked='S'),\n",
       " Row(PassengerId='685', Survived='0', Pclass='2', Name='Brown, Mr. Thomas William Solomon', Sex='male', Age='60', SibSp='1', Parch='1', Ticket='29750', Fare='39', Cabin=None, Embarked='S'),\n",
       " Row(PassengerId='686', Survived='0', Pclass='2', Name='Laroche, Mr. Joseph Philippe Lemercier', Sex='male', Age='25', SibSp='1', Parch='2', Ticket='SC/Paris 2123', Fare='41.5792', Cabin=None, Embarked='C'),\n",
       " Row(PassengerId='687', Survived='0', Pclass='3', Name='Panula, Mr. Jaako Arnold', Sex='male', Age='14', SibSp='4', Parch='1', Ticket='3101295', Fare='39.6875', Cabin=None, Embarked='S'),\n",
       " Row(PassengerId='688', Survived='0', Pclass='3', Name='Dakic, Mr. Branko', Sex='male', Age='19', SibSp='0', Parch='0', Ticket='349228', Fare='10.1708', Cabin=None, Embarked='S'),\n",
       " Row(PassengerId='689', Survived='0', Pclass='3', Name='Fischer, Mr. Eberhard Thelander', Sex='male', Age='18', SibSp='0', Parch='0', Ticket='350036', Fare='7.7958', Cabin=None, Embarked='S'),\n",
       " Row(PassengerId='690', Survived='1', Pclass='1', Name='Madill, Miss. Georgette Alexandra', Sex='female', Age='15', SibSp='0', Parch='1', Ticket='24160', Fare='211.3375', Cabin='B5', Embarked='S'),\n",
       " Row(PassengerId='691', Survived='1', Pclass='1', Name='Dick, Mr. Albert Adrian', Sex='male', Age='31', SibSp='1', Parch='0', Ticket='17474', Fare='57', Cabin='B20', Embarked='S'),\n",
       " Row(PassengerId='692', Survived='1', Pclass='3', Name='Karun, Miss. Manca', Sex='female', Age='4', SibSp='0', Parch='1', Ticket='349256', Fare='13.4167', Cabin=None, Embarked='C'),\n",
       " Row(PassengerId='693', Survived='1', Pclass='3', Name='Lam, Mr. Ali', Sex='male', Age=None, SibSp='0', Parch='0', Ticket='1601', Fare='56.4958', Cabin=None, Embarked='S'),\n",
       " Row(PassengerId='694', Survived='0', Pclass='3', Name='Saad, Mr. Khalil', Sex='male', Age='25', SibSp='0', Parch='0', Ticket='2672', Fare='7.225', Cabin=None, Embarked='C'),\n",
       " Row(PassengerId='695', Survived='0', Pclass='1', Name='Weir, Col. John', Sex='male', Age='60', SibSp='0', Parch='0', Ticket='113800', Fare='26.55', Cabin=None, Embarked='S'),\n",
       " Row(PassengerId='696', Survived='0', Pclass='2', Name='Chapman, Mr. Charles Henry', Sex='male', Age='52', SibSp='0', Parch='0', Ticket='248731', Fare='13.5', Cabin=None, Embarked='S'),\n",
       " Row(PassengerId='697', Survived='0', Pclass='3', Name='Kelly, Mr. James', Sex='male', Age='44', SibSp='0', Parch='0', Ticket='363592', Fare='8.05', Cabin=None, Embarked='S'),\n",
       " Row(PassengerId='698', Survived='1', Pclass='3', Name='\"Mullens, Miss. Katherine \"\"Katie\"\"\"', Sex='female', Age=None, SibSp='0', Parch='0', Ticket='35852', Fare='7.7333', Cabin=None, Embarked='Q'),\n",
       " Row(PassengerId='699', Survived='0', Pclass='1', Name='Thayer, Mr. John Borland', Sex='male', Age='49', SibSp='1', Parch='1', Ticket='17421', Fare='110.8833', Cabin='C68', Embarked='C'),\n",
       " Row(PassengerId='700', Survived='0', Pclass='3', Name='Humblen, Mr. Adolf Mathias Nicolai Olsen', Sex='male', Age='42', SibSp='0', Parch='0', Ticket='348121', Fare='7.65', Cabin='F G63', Embarked='S'),\n",
       " Row(PassengerId='701', Survived='1', Pclass='1', Name='Astor, Mrs. John Jacob (Madeleine Talmadge Force)', Sex='female', Age='18', SibSp='1', Parch='0', Ticket='PC 17757', Fare='227.525', Cabin='C62 C64', Embarked='C'),\n",
       " Row(PassengerId='702', Survived='1', Pclass='1', Name='Silverthorne, Mr. Spencer Victor', Sex='male', Age='35', SibSp='0', Parch='0', Ticket='PC 17475', Fare='26.2875', Cabin='E24', Embarked='S'),\n",
       " Row(PassengerId='703', Survived='0', Pclass='3', Name='Barbara, Miss. Saiide', Sex='female', Age='18', SibSp='0', Parch='1', Ticket='2691', Fare='14.4542', Cabin=None, Embarked='C'),\n",
       " Row(PassengerId='704', Survived='0', Pclass='3', Name='Gallagher, Mr. Martin', Sex='male', Age='25', SibSp='0', Parch='0', Ticket='36864', Fare='7.7417', Cabin=None, Embarked='Q'),\n",
       " Row(PassengerId='705', Survived='0', Pclass='3', Name='Hansen, Mr. Henrik Juul', Sex='male', Age='26', SibSp='1', Parch='0', Ticket='350025', Fare='7.8542', Cabin=None, Embarked='S'),\n",
       " Row(PassengerId='706', Survived='0', Pclass='2', Name='\"Morley, Mr. Henry Samuel (\"\"Mr Henry Marshall\"\")\"', Sex='male', Age='39', SibSp='0', Parch='0', Ticket='250655', Fare='26', Cabin=None, Embarked='S'),\n",
       " Row(PassengerId='707', Survived='1', Pclass='2', Name='\"Kelly, Mrs. Florence \"\"Fannie\"\"\"', Sex='female', Age='45', SibSp='0', Parch='0', Ticket='223596', Fare='13.5', Cabin=None, Embarked='S'),\n",
       " Row(PassengerId='708', Survived='1', Pclass='1', Name='Calderhead, Mr. Edward Pennington', Sex='male', Age='42', SibSp='0', Parch='0', Ticket='PC 17476', Fare='26.2875', Cabin='E24', Embarked='S'),\n",
       " Row(PassengerId='709', Survived='1', Pclass='1', Name='Cleaver, Miss. Alice', Sex='female', Age='22', SibSp='0', Parch='0', Ticket='113781', Fare='151.55', Cabin=None, Embarked='S'),\n",
       " Row(PassengerId='710', Survived='1', Pclass='3', Name='\"Moubarek, Master. Halim Gonios (\"\"William George\"\")\"', Sex='male', Age=None, SibSp='1', Parch='1', Ticket='2661', Fare='15.2458', Cabin=None, Embarked='C'),\n",
       " Row(PassengerId='711', Survived='1', Pclass='1', Name='\"Mayne, Mlle. Berthe Antonine (\"\"Mrs de Villiers\"\")\"', Sex='female', Age='24', SibSp='0', Parch='0', Ticket='PC 17482', Fare='49.5042', Cabin='C90', Embarked='C'),\n",
       " Row(PassengerId='712', Survived='0', Pclass='1', Name='Klaber, Mr. Herman', Sex='male', Age=None, SibSp='0', Parch='0', Ticket='113028', Fare='26.55', Cabin='C124', Embarked='S'),\n",
       " Row(PassengerId='713', Survived='1', Pclass='1', Name='Taylor, Mr. Elmer Zebley', Sex='male', Age='48', SibSp='1', Parch='0', Ticket='19996', Fare='52', Cabin='C126', Embarked='S'),\n",
       " Row(PassengerId='714', Survived='0', Pclass='3', Name='Larsson, Mr. August Viktor', Sex='male', Age='29', SibSp='0', Parch='0', Ticket='7545', Fare='9.4833', Cabin=None, Embarked='S'),\n",
       " Row(PassengerId='715', Survived='0', Pclass='2', Name='Greenberg, Mr. Samuel', Sex='male', Age='52', SibSp='0', Parch='0', Ticket='250647', Fare='13', Cabin=None, Embarked='S'),\n",
       " Row(PassengerId='716', Survived='0', Pclass='3', Name='Soholt, Mr. Peter Andreas Lauritz Andersen', Sex='male', Age='19', SibSp='0', Parch='0', Ticket='348124', Fare='7.65', Cabin='F G73', Embarked='S'),\n",
       " Row(PassengerId='717', Survived='1', Pclass='1', Name='Endres, Miss. Caroline Louise', Sex='female', Age='38', SibSp='0', Parch='0', Ticket='PC 17757', Fare='227.525', Cabin='C45', Embarked='C'),\n",
       " Row(PassengerId='718', Survived='1', Pclass='2', Name='\"Troutt, Miss. Edwina Celia \"\"Winnie\"\"\"', Sex='female', Age='27', SibSp='0', Parch='0', Ticket='34218', Fare='10.5', Cabin='E101', Embarked='S'),\n",
       " Row(PassengerId='719', Survived='0', Pclass='3', Name='McEvoy, Mr. Michael', Sex='male', Age=None, SibSp='0', Parch='0', Ticket='36568', Fare='15.5', Cabin=None, Embarked='Q'),\n",
       " Row(PassengerId='720', Survived='0', Pclass='3', Name='Johnson, Mr. Malkolm Joackim', Sex='male', Age='33', SibSp='0', Parch='0', Ticket='347062', Fare='7.775', Cabin=None, Embarked='S'),\n",
       " Row(PassengerId='721', Survived='1', Pclass='2', Name='\"Harper, Miss. Annie Jessie \"\"Nina\"\"\"', Sex='female', Age='6', SibSp='0', Parch='1', Ticket='248727', Fare='33', Cabin=None, Embarked='S'),\n",
       " Row(PassengerId='722', Survived='0', Pclass='3', Name='Jensen, Mr. Svend Lauritz', Sex='male', Age='17', SibSp='1', Parch='0', Ticket='350048', Fare='7.0542', Cabin=None, Embarked='S'),\n",
       " Row(PassengerId='723', Survived='0', Pclass='2', Name='Gillespie, Mr. William Henry', Sex='male', Age='34', SibSp='0', Parch='0', Ticket='12233', Fare='13', Cabin=None, Embarked='S'),\n",
       " Row(PassengerId='724', Survived='0', Pclass='2', Name='Hodges, Mr. Henry Price', Sex='male', Age='50', SibSp='0', Parch='0', Ticket='250643', Fare='13', Cabin=None, Embarked='S'),\n",
       " Row(PassengerId='725', Survived='1', Pclass='1', Name='Chambers, Mr. Norman Campbell', Sex='male', Age='27', SibSp='1', Parch='0', Ticket='113806', Fare='53.1', Cabin='E8', Embarked='S'),\n",
       " Row(PassengerId='726', Survived='0', Pclass='3', Name='Oreskovic, Mr. Luka', Sex='male', Age='20', SibSp='0', Parch='0', Ticket='315094', Fare='8.6625', Cabin=None, Embarked='S'),\n",
       " Row(PassengerId='727', Survived='1', Pclass='2', Name='Renouf, Mrs. Peter Henry (Lillian Jefferys)', Sex='female', Age='30', SibSp='3', Parch='0', Ticket='31027', Fare='21', Cabin=None, Embarked='S'),\n",
       " Row(PassengerId='728', Survived='1', Pclass='3', Name='Mannion, Miss. Margareth', Sex='female', Age=None, SibSp='0', Parch='0', Ticket='36866', Fare='7.7375', Cabin=None, Embarked='Q'),\n",
       " Row(PassengerId='729', Survived='0', Pclass='2', Name='Bryhl, Mr. Kurt Arnold Gottfrid', Sex='male', Age='25', SibSp='1', Parch='0', Ticket='236853', Fare='26', Cabin=None, Embarked='S'),\n",
       " Row(PassengerId='730', Survived='0', Pclass='3', Name='Ilmakangas, Miss. Pieta Sofia', Sex='female', Age='25', SibSp='1', Parch='0', Ticket='STON/O2. 3101271', Fare='7.925', Cabin=None, Embarked='S'),\n",
       " Row(PassengerId='731', Survived='1', Pclass='1', Name='Allen, Miss. Elisabeth Walton', Sex='female', Age='29', SibSp='0', Parch='0', Ticket='24160', Fare='211.3375', Cabin='B5', Embarked='S'),\n",
       " Row(PassengerId='732', Survived='0', Pclass='3', Name='Hassan, Mr. Houssein G N', Sex='male', Age='11', SibSp='0', Parch='0', Ticket='2699', Fare='18.7875', Cabin=None, Embarked='C'),\n",
       " Row(PassengerId='733', Survived='0', Pclass='2', Name='Knight, Mr. Robert J', Sex='male', Age=None, SibSp='0', Parch='0', Ticket='239855', Fare='0', Cabin=None, Embarked='S'),\n",
       " Row(PassengerId='734', Survived='0', Pclass='2', Name='Berriman, Mr. William John', Sex='male', Age='23', SibSp='0', Parch='0', Ticket='28425', Fare='13', Cabin=None, Embarked='S'),\n",
       " Row(PassengerId='735', Survived='0', Pclass='2', Name='Troupiansky, Mr. Moses Aaron', Sex='male', Age='23', SibSp='0', Parch='0', Ticket='233639', Fare='13', Cabin=None, Embarked='S'),\n",
       " Row(PassengerId='736', Survived='0', Pclass='3', Name='Williams, Mr. Leslie', Sex='male', Age='28.5', SibSp='0', Parch='0', Ticket='54636', Fare='16.1', Cabin=None, Embarked='S'),\n",
       " Row(PassengerId='737', Survived='0', Pclass='3', Name='Ford, Mrs. Edward (Margaret Ann Watson)', Sex='female', Age='48', SibSp='1', Parch='3', Ticket='W./C. 6608', Fare='34.375', Cabin=None, Embarked='S'),\n",
       " Row(PassengerId='738', Survived='1', Pclass='1', Name='Lesurer, Mr. Gustave J', Sex='male', Age='35', SibSp='0', Parch='0', Ticket='PC 17755', Fare='512.3292', Cabin='B101', Embarked='C'),\n",
       " Row(PassengerId='739', Survived='0', Pclass='3', Name='Ivanoff, Mr. Kanio', Sex='male', Age=None, SibSp='0', Parch='0', Ticket='349201', Fare='7.8958', Cabin=None, Embarked='S'),\n",
       " Row(PassengerId='740', Survived='0', Pclass='3', Name='Nankoff, Mr. Minko', Sex='male', Age=None, SibSp='0', Parch='0', Ticket='349218', Fare='7.8958', Cabin=None, Embarked='S'),\n",
       " Row(PassengerId='741', Survived='1', Pclass='1', Name='Hawksford, Mr. Walter James', Sex='male', Age=None, SibSp='0', Parch='0', Ticket='16988', Fare='30', Cabin='D45', Embarked='S'),\n",
       " Row(PassengerId='742', Survived='0', Pclass='1', Name='Cavendish, Mr. Tyrell William', Sex='male', Age='36', SibSp='1', Parch='0', Ticket='19877', Fare='78.85', Cabin='C46', Embarked='S'),\n",
       " Row(PassengerId='743', Survived='1', Pclass='1', Name='\"Ryerson, Miss. Susan Parker \"\"Suzette\"\"\"', Sex='female', Age='21', SibSp='2', Parch='2', Ticket='PC 17608', Fare='262.375', Cabin='B57 B59 B63 B66', Embarked='C'),\n",
       " Row(PassengerId='744', Survived='0', Pclass='3', Name='McNamee, Mr. Neal', Sex='male', Age='24', SibSp='1', Parch='0', Ticket='376566', Fare='16.1', Cabin=None, Embarked='S'),\n",
       " Row(PassengerId='745', Survived='1', Pclass='3', Name='Stranden, Mr. Juho', Sex='male', Age='31', SibSp='0', Parch='0', Ticket='STON/O 2. 3101288', Fare='7.925', Cabin=None, Embarked='S'),\n",
       " Row(PassengerId='746', Survived='0', Pclass='1', Name='Crosby, Capt. Edward Gifford', Sex='male', Age='70', SibSp='1', Parch='1', Ticket='WE/P 5735', Fare='71', Cabin='B22', Embarked='S'),\n",
       " Row(PassengerId='747', Survived='0', Pclass='3', Name='Abbott, Mr. Rossmore Edward', Sex='male', Age='16', SibSp='1', Parch='1', Ticket='C.A. 2673', Fare='20.25', Cabin=None, Embarked='S'),\n",
       " Row(PassengerId='748', Survived='1', Pclass='2', Name='Sinkkonen, Miss. Anna', Sex='female', Age='30', SibSp='0', Parch='0', Ticket='250648', Fare='13', Cabin=None, Embarked='S'),\n",
       " Row(PassengerId='749', Survived='0', Pclass='1', Name='Marvin, Mr. Daniel Warner', Sex='male', Age='19', SibSp='1', Parch='0', Ticket='113773', Fare='53.1', Cabin='D30', Embarked='S'),\n",
       " Row(PassengerId='750', Survived='0', Pclass='3', Name='Connaghton, Mr. Michael', Sex='male', Age='31', SibSp='0', Parch='0', Ticket='335097', Fare='7.75', Cabin=None, Embarked='Q'),\n",
       " Row(PassengerId='751', Survived='1', Pclass='2', Name='Wells, Miss. Joan', Sex='female', Age='4', SibSp='1', Parch='1', Ticket='29103', Fare='23', Cabin=None, Embarked='S'),\n",
       " Row(PassengerId='752', Survived='1', Pclass='3', Name='Moor, Master. Meier', Sex='male', Age='6', SibSp='0', Parch='1', Ticket='392096', Fare='12.475', Cabin='E121', Embarked='S'),\n",
       " Row(PassengerId='753', Survived='0', Pclass='3', Name='Vande Velde, Mr. Johannes Joseph', Sex='male', Age='33', SibSp='0', Parch='0', Ticket='345780', Fare='9.5', Cabin=None, Embarked='S'),\n",
       " Row(PassengerId='754', Survived='0', Pclass='3', Name='Jonkoff, Mr. Lalio', Sex='male', Age='23', SibSp='0', Parch='0', Ticket='349204', Fare='7.8958', Cabin=None, Embarked='S'),\n",
       " Row(PassengerId='755', Survived='1', Pclass='2', Name='Herman, Mrs. Samuel (Jane Laver)', Sex='female', Age='48', SibSp='1', Parch='2', Ticket='220845', Fare='65', Cabin=None, Embarked='S'),\n",
       " Row(PassengerId='756', Survived='1', Pclass='2', Name='Hamalainen, Master. Viljo', Sex='male', Age='0.67', SibSp='1', Parch='1', Ticket='250649', Fare='14.5', Cabin=None, Embarked='S'),\n",
       " Row(PassengerId='757', Survived='0', Pclass='3', Name='Carlsson, Mr. August Sigfrid', Sex='male', Age='28', SibSp='0', Parch='0', Ticket='350042', Fare='7.7958', Cabin=None, Embarked='S'),\n",
       " Row(PassengerId='758', Survived='0', Pclass='2', Name='Bailey, Mr. Percy Andrew', Sex='male', Age='18', SibSp='0', Parch='0', Ticket='29108', Fare='11.5', Cabin=None, Embarked='S'),\n",
       " Row(PassengerId='759', Survived='0', Pclass='3', Name='Theobald, Mr. Thomas Leonard', Sex='male', Age='34', SibSp='0', Parch='0', Ticket='363294', Fare='8.05', Cabin=None, Embarked='S'),\n",
       " Row(PassengerId='760', Survived='1', Pclass='1', Name='Rothes, the Countess. of (Lucy Noel Martha Dyer-Edwards)', Sex='female', Age='33', SibSp='0', Parch='0', Ticket='110152', Fare='86.5', Cabin='B77', Embarked='S'),\n",
       " Row(PassengerId='761', Survived='0', Pclass='3', Name='Garfirth, Mr. John', Sex='male', Age=None, SibSp='0', Parch='0', Ticket='358585', Fare='14.5', Cabin=None, Embarked='S'),\n",
       " Row(PassengerId='762', Survived='0', Pclass='3', Name='Nirva, Mr. Iisakki Antino Aijo', Sex='male', Age='41', SibSp='0', Parch='0', Ticket='SOTON/O2 3101272', Fare='7.125', Cabin=None, Embarked='S'),\n",
       " Row(PassengerId='763', Survived='1', Pclass='3', Name='Barah, Mr. Hanna Assi', Sex='male', Age='20', SibSp='0', Parch='0', Ticket='2663', Fare='7.2292', Cabin=None, Embarked='C'),\n",
       " Row(PassengerId='764', Survived='1', Pclass='1', Name='Carter, Mrs. William Ernest (Lucile Polk)', Sex='female', Age='36', SibSp='1', Parch='2', Ticket='113760', Fare='120', Cabin='B96 B98', Embarked='S'),\n",
       " Row(PassengerId='765', Survived='0', Pclass='3', Name='Eklund, Mr. Hans Linus', Sex='male', Age='16', SibSp='0', Parch='0', Ticket='347074', Fare='7.775', Cabin=None, Embarked='S'),\n",
       " Row(PassengerId='766', Survived='1', Pclass='1', Name='Hogeboom, Mrs. John C (Anna Andrews)', Sex='female', Age='51', SibSp='1', Parch='0', Ticket='13502', Fare='77.9583', Cabin='D11', Embarked='S'),\n",
       " Row(PassengerId='767', Survived='0', Pclass='1', Name='Brewe, Dr. Arthur Jackson', Sex='male', Age=None, SibSp='0', Parch='0', Ticket='112379', Fare='39.6', Cabin=None, Embarked='C'),\n",
       " Row(PassengerId='768', Survived='0', Pclass='3', Name='Mangan, Miss. Mary', Sex='female', Age='30.5', SibSp='0', Parch='0', Ticket='364850', Fare='7.75', Cabin=None, Embarked='Q'),\n",
       " Row(PassengerId='769', Survived='0', Pclass='3', Name='Moran, Mr. Daniel J', Sex='male', Age=None, SibSp='1', Parch='0', Ticket='371110', Fare='24.15', Cabin=None, Embarked='Q'),\n",
       " Row(PassengerId='770', Survived='0', Pclass='3', Name='Gronnestad, Mr. Daniel Danielsen', Sex='male', Age='32', SibSp='0', Parch='0', Ticket='8471', Fare='8.3625', Cabin=None, Embarked='S'),\n",
       " Row(PassengerId='771', Survived='0', Pclass='3', Name='Lievens, Mr. Rene Aime', Sex='male', Age='24', SibSp='0', Parch='0', Ticket='345781', Fare='9.5', Cabin=None, Embarked='S'),\n",
       " Row(PassengerId='772', Survived='0', Pclass='3', Name='Jensen, Mr. Niels Peder', Sex='male', Age='48', SibSp='0', Parch='0', Ticket='350047', Fare='7.8542', Cabin=None, Embarked='S'),\n",
       " Row(PassengerId='773', Survived='0', Pclass='2', Name='Mack, Mrs. (Mary)', Sex='female', Age='57', SibSp='0', Parch='0', Ticket='S.O./P.P. 3', Fare='10.5', Cabin='E77', Embarked='S'),\n",
       " Row(PassengerId='774', Survived='0', Pclass='3', Name='Elias, Mr. Dibo', Sex='male', Age=None, SibSp='0', Parch='0', Ticket='2674', Fare='7.225', Cabin=None, Embarked='C'),\n",
       " Row(PassengerId='775', Survived='1', Pclass='2', Name='Hocking, Mrs. Elizabeth (Eliza Needs)', Sex='female', Age='54', SibSp='1', Parch='3', Ticket='29105', Fare='23', Cabin=None, Embarked='S'),\n",
       " Row(PassengerId='776', Survived='0', Pclass='3', Name='Myhrman, Mr. Pehr Fabian Oliver Malkolm', Sex='male', Age='18', SibSp='0', Parch='0', Ticket='347078', Fare='7.75', Cabin=None, Embarked='S'),\n",
       " Row(PassengerId='777', Survived='0', Pclass='3', Name='Tobin, Mr. Roger', Sex='male', Age=None, SibSp='0', Parch='0', Ticket='383121', Fare='7.75', Cabin='F38', Embarked='Q'),\n",
       " Row(PassengerId='778', Survived='1', Pclass='3', Name='Emanuel, Miss. Virginia Ethel', Sex='female', Age='5', SibSp='0', Parch='0', Ticket='364516', Fare='12.475', Cabin=None, Embarked='S'),\n",
       " Row(PassengerId='779', Survived='0', Pclass='3', Name='Kilgannon, Mr. Thomas J', Sex='male', Age=None, SibSp='0', Parch='0', Ticket='36865', Fare='7.7375', Cabin=None, Embarked='Q'),\n",
       " Row(PassengerId='780', Survived='1', Pclass='1', Name='Robert, Mrs. Edward Scott (Elisabeth Walton McMillan)', Sex='female', Age='43', SibSp='0', Parch='1', Ticket='24160', Fare='211.3375', Cabin='B3', Embarked='S'),\n",
       " Row(PassengerId='781', Survived='1', Pclass='3', Name='Ayoub, Miss. Banoura', Sex='female', Age='13', SibSp='0', Parch='0', Ticket='2687', Fare='7.2292', Cabin=None, Embarked='C'),\n",
       " Row(PassengerId='782', Survived='1', Pclass='1', Name='Dick, Mrs. Albert Adrian (Vera Gillespie)', Sex='female', Age='17', SibSp='1', Parch='0', Ticket='17474', Fare='57', Cabin='B20', Embarked='S'),\n",
       " Row(PassengerId='783', Survived='0', Pclass='1', Name='Long, Mr. Milton Clyde', Sex='male', Age='29', SibSp='0', Parch='0', Ticket='113501', Fare='30', Cabin='D6', Embarked='S'),\n",
       " Row(PassengerId='784', Survived='0', Pclass='3', Name='Johnston, Mr. Andrew G', Sex='male', Age=None, SibSp='1', Parch='2', Ticket='W./C. 6607', Fare='23.45', Cabin=None, Embarked='S'),\n",
       " Row(PassengerId='785', Survived='0', Pclass='3', Name='Ali, Mr. William', Sex='male', Age='25', SibSp='0', Parch='0', Ticket='SOTON/O.Q. 3101312', Fare='7.05', Cabin=None, Embarked='S'),\n",
       " Row(PassengerId='786', Survived='0', Pclass='3', Name='Harmer, Mr. Abraham (David Lishin)', Sex='male', Age='25', SibSp='0', Parch='0', Ticket='374887', Fare='7.25', Cabin=None, Embarked='S'),\n",
       " Row(PassengerId='787', Survived='1', Pclass='3', Name='Sjoblom, Miss. Anna Sofia', Sex='female', Age='18', SibSp='0', Parch='0', Ticket='3101265', Fare='7.4958', Cabin=None, Embarked='S'),\n",
       " Row(PassengerId='788', Survived='0', Pclass='3', Name='Rice, Master. George Hugh', Sex='male', Age='8', SibSp='4', Parch='1', Ticket='382652', Fare='29.125', Cabin=None, Embarked='Q'),\n",
       " Row(PassengerId='789', Survived='1', Pclass='3', Name='Dean, Master. Bertram Vere', Sex='male', Age='1', SibSp='1', Parch='2', Ticket='C.A. 2315', Fare='20.575', Cabin=None, Embarked='S'),\n",
       " Row(PassengerId='790', Survived='0', Pclass='1', Name='Guggenheim, Mr. Benjamin', Sex='male', Age='46', SibSp='0', Parch='0', Ticket='PC 17593', Fare='79.2', Cabin='B82 B84', Embarked='C'),\n",
       " Row(PassengerId='791', Survived='0', Pclass='3', Name='\"Keane, Mr. Andrew \"\"Andy\"\"\"', Sex='male', Age=None, SibSp='0', Parch='0', Ticket='12460', Fare='7.75', Cabin=None, Embarked='Q'),\n",
       " Row(PassengerId='792', Survived='0', Pclass='2', Name='Gaskell, Mr. Alfred', Sex='male', Age='16', SibSp='0', Parch='0', Ticket='239865', Fare='26', Cabin=None, Embarked='S'),\n",
       " Row(PassengerId='793', Survived='0', Pclass='3', Name='Sage, Miss. Stella Anna', Sex='female', Age=None, SibSp='8', Parch='2', Ticket='CA. 2343', Fare='69.55', Cabin=None, Embarked='S'),\n",
       " Row(PassengerId='794', Survived='0', Pclass='1', Name='Hoyt, Mr. William Fisher', Sex='male', Age=None, SibSp='0', Parch='0', Ticket='PC 17600', Fare='30.6958', Cabin=None, Embarked='C'),\n",
       " Row(PassengerId='795', Survived='0', Pclass='3', Name='Dantcheff, Mr. Ristiu', Sex='male', Age='25', SibSp='0', Parch='0', Ticket='349203', Fare='7.8958', Cabin=None, Embarked='S'),\n",
       " Row(PassengerId='796', Survived='0', Pclass='2', Name='Otter, Mr. Richard', Sex='male', Age='39', SibSp='0', Parch='0', Ticket='28213', Fare='13', Cabin=None, Embarked='S'),\n",
       " Row(PassengerId='797', Survived='1', Pclass='1', Name='Leader, Dr. Alice (Farnham)', Sex='female', Age='49', SibSp='0', Parch='0', Ticket='17465', Fare='25.9292', Cabin='D17', Embarked='S'),\n",
       " Row(PassengerId='798', Survived='1', Pclass='3', Name='Osman, Mrs. Mara', Sex='female', Age='31', SibSp='0', Parch='0', Ticket='349244', Fare='8.6833', Cabin=None, Embarked='S'),\n",
       " Row(PassengerId='799', Survived='0', Pclass='3', Name='Ibrahim Shawah, Mr. Yousseff', Sex='male', Age='30', SibSp='0', Parch='0', Ticket='2685', Fare='7.2292', Cabin=None, Embarked='C'),\n",
       " Row(PassengerId='800', Survived='0', Pclass='3', Name='Van Impe, Mrs. Jean Baptiste (Rosalie Paula Govaert)', Sex='female', Age='30', SibSp='1', Parch='1', Ticket='345773', Fare='24.15', Cabin=None, Embarked='S'),\n",
       " Row(PassengerId='801', Survived='0', Pclass='2', Name='Ponesell, Mr. Martin', Sex='male', Age='34', SibSp='0', Parch='0', Ticket='250647', Fare='13', Cabin=None, Embarked='S'),\n",
       " Row(PassengerId='802', Survived='1', Pclass='2', Name='Collyer, Mrs. Harvey (Charlotte Annie Tate)', Sex='female', Age='31', SibSp='1', Parch='1', Ticket='C.A. 31921', Fare='26.25', Cabin=None, Embarked='S'),\n",
       " Row(PassengerId='803', Survived='1', Pclass='1', Name='Carter, Master. William Thornton II', Sex='male', Age='11', SibSp='1', Parch='2', Ticket='113760', Fare='120', Cabin='B96 B98', Embarked='S'),\n",
       " Row(PassengerId='804', Survived='1', Pclass='3', Name='Thomas, Master. Assad Alexander', Sex='male', Age='0.42', SibSp='0', Parch='1', Ticket='2625', Fare='8.5167', Cabin=None, Embarked='C'),\n",
       " Row(PassengerId='805', Survived='1', Pclass='3', Name='Hedman, Mr. Oskar Arvid', Sex='male', Age='27', SibSp='0', Parch='0', Ticket='347089', Fare='6.975', Cabin=None, Embarked='S'),\n",
       " Row(PassengerId='806', Survived='0', Pclass='3', Name='Johansson, Mr. Karl Johan', Sex='male', Age='31', SibSp='0', Parch='0', Ticket='347063', Fare='7.775', Cabin=None, Embarked='S'),\n",
       " Row(PassengerId='807', Survived='0', Pclass='1', Name='Andrews, Mr. Thomas Jr', Sex='male', Age='39', SibSp='0', Parch='0', Ticket='112050', Fare='0', Cabin='A36', Embarked='S'),\n",
       " Row(PassengerId='808', Survived='0', Pclass='3', Name='Pettersson, Miss. Ellen Natalia', Sex='female', Age='18', SibSp='0', Parch='0', Ticket='347087', Fare='7.775', Cabin=None, Embarked='S'),\n",
       " Row(PassengerId='809', Survived='0', Pclass='2', Name='Meyer, Mr. August', Sex='male', Age='39', SibSp='0', Parch='0', Ticket='248723', Fare='13', Cabin=None, Embarked='S'),\n",
       " Row(PassengerId='810', Survived='1', Pclass='1', Name='Chambers, Mrs. Norman Campbell (Bertha Griggs)', Sex='female', Age='33', SibSp='1', Parch='0', Ticket='113806', Fare='53.1', Cabin='E8', Embarked='S'),\n",
       " Row(PassengerId='811', Survived='0', Pclass='3', Name='Alexander, Mr. William', Sex='male', Age='26', SibSp='0', Parch='0', Ticket='3474', Fare='7.8875', Cabin=None, Embarked='S'),\n",
       " Row(PassengerId='812', Survived='0', Pclass='3', Name='Lester, Mr. James', Sex='male', Age='39', SibSp='0', Parch='0', Ticket='A/4 48871', Fare='24.15', Cabin=None, Embarked='S'),\n",
       " Row(PassengerId='813', Survived='0', Pclass='2', Name='Slemen, Mr. Richard James', Sex='male', Age='35', SibSp='0', Parch='0', Ticket='28206', Fare='10.5', Cabin=None, Embarked='S'),\n",
       " Row(PassengerId='814', Survived='0', Pclass='3', Name='Andersson, Miss. Ebba Iris Alfrida', Sex='female', Age='6', SibSp='4', Parch='2', Ticket='347082', Fare='31.275', Cabin=None, Embarked='S'),\n",
       " Row(PassengerId='815', Survived='0', Pclass='3', Name='Tomlin, Mr. Ernest Portage', Sex='male', Age='30.5', SibSp='0', Parch='0', Ticket='364499', Fare='8.05', Cabin=None, Embarked='S'),\n",
       " Row(PassengerId='816', Survived='0', Pclass='1', Name='Fry, Mr. Richard', Sex='male', Age=None, SibSp='0', Parch='0', Ticket='112058', Fare='0', Cabin='B102', Embarked='S'),\n",
       " Row(PassengerId='817', Survived='0', Pclass='3', Name='Heininen, Miss. Wendla Maria', Sex='female', Age='23', SibSp='0', Parch='0', Ticket='STON/O2. 3101290', Fare='7.925', Cabin=None, Embarked='S'),\n",
       " Row(PassengerId='818', Survived='0', Pclass='2', Name='Mallet, Mr. Albert', Sex='male', Age='31', SibSp='1', Parch='1', Ticket='S.C./PARIS 2079', Fare='37.0042', Cabin=None, Embarked='C'),\n",
       " Row(PassengerId='819', Survived='0', Pclass='3', Name='Holm, Mr. John Fredrik Alexander', Sex='male', Age='43', SibSp='0', Parch='0', Ticket='C 7075', Fare='6.45', Cabin=None, Embarked='S'),\n",
       " Row(PassengerId='820', Survived='0', Pclass='3', Name='Skoog, Master. Karl Thorsten', Sex='male', Age='10', SibSp='3', Parch='2', Ticket='347088', Fare='27.9', Cabin=None, Embarked='S'),\n",
       " Row(PassengerId='821', Survived='1', Pclass='1', Name='Hays, Mrs. Charles Melville (Clara Jennings Gregg)', Sex='female', Age='52', SibSp='1', Parch='1', Ticket='12749', Fare='93.5', Cabin='B69', Embarked='S'),\n",
       " Row(PassengerId='822', Survived='1', Pclass='3', Name='Lulic, Mr. Nikola', Sex='male', Age='27', SibSp='0', Parch='0', Ticket='315098', Fare='8.6625', Cabin=None, Embarked='S'),\n",
       " Row(PassengerId='823', Survived='0', Pclass='1', Name='Reuchlin, Jonkheer. John George', Sex='male', Age='38', SibSp='0', Parch='0', Ticket='19972', Fare='0', Cabin=None, Embarked='S'),\n",
       " Row(PassengerId='824', Survived='1', Pclass='3', Name='Moor, Mrs. (Beila)', Sex='female', Age='27', SibSp='0', Parch='1', Ticket='392096', Fare='12.475', Cabin='E121', Embarked='S'),\n",
       " Row(PassengerId='825', Survived='0', Pclass='3', Name='Panula, Master. Urho Abraham', Sex='male', Age='2', SibSp='4', Parch='1', Ticket='3101295', Fare='39.6875', Cabin=None, Embarked='S'),\n",
       " Row(PassengerId='826', Survived='0', Pclass='3', Name='Flynn, Mr. John', Sex='male', Age=None, SibSp='0', Parch='0', Ticket='368323', Fare='6.95', Cabin=None, Embarked='Q'),\n",
       " Row(PassengerId='827', Survived='0', Pclass='3', Name='Lam, Mr. Len', Sex='male', Age=None, SibSp='0', Parch='0', Ticket='1601', Fare='56.4958', Cabin=None, Embarked='S'),\n",
       " Row(PassengerId='828', Survived='1', Pclass='2', Name='Mallet, Master. Andre', Sex='male', Age='1', SibSp='0', Parch='2', Ticket='S.C./PARIS 2079', Fare='37.0042', Cabin=None, Embarked='C'),\n",
       " Row(PassengerId='829', Survived='1', Pclass='3', Name='McCormack, Mr. Thomas Joseph', Sex='male', Age=None, SibSp='0', Parch='0', Ticket='367228', Fare='7.75', Cabin=None, Embarked='Q'),\n",
       " Row(PassengerId='830', Survived='1', Pclass='1', Name='Stone, Mrs. George Nelson (Martha Evelyn)', Sex='female', Age='62', SibSp='0', Parch='0', Ticket='113572', Fare='80', Cabin='B28', Embarked=None),\n",
       " Row(PassengerId='831', Survived='1', Pclass='3', Name='Yasbeck, Mrs. Antoni (Selini Alexander)', Sex='female', Age='15', SibSp='1', Parch='0', Ticket='2659', Fare='14.4542', Cabin=None, Embarked='C'),\n",
       " Row(PassengerId='832', Survived='1', Pclass='2', Name='Richards, Master. George Sibley', Sex='male', Age='0.83', SibSp='1', Parch='1', Ticket='29106', Fare='18.75', Cabin=None, Embarked='S'),\n",
       " Row(PassengerId='833', Survived='0', Pclass='3', Name='Saad, Mr. Amin', Sex='male', Age=None, SibSp='0', Parch='0', Ticket='2671', Fare='7.2292', Cabin=None, Embarked='C'),\n",
       " Row(PassengerId='834', Survived='0', Pclass='3', Name='Augustsson, Mr. Albert', Sex='male', Age='23', SibSp='0', Parch='0', Ticket='347468', Fare='7.8542', Cabin=None, Embarked='S'),\n",
       " Row(PassengerId='835', Survived='0', Pclass='3', Name='Allum, Mr. Owen George', Sex='male', Age='18', SibSp='0', Parch='0', Ticket='2223', Fare='8.3', Cabin=None, Embarked='S'),\n",
       " Row(PassengerId='836', Survived='1', Pclass='1', Name='Compton, Miss. Sara Rebecca', Sex='female', Age='39', SibSp='1', Parch='1', Ticket='PC 17756', Fare='83.1583', Cabin='E49', Embarked='C'),\n",
       " Row(PassengerId='837', Survived='0', Pclass='3', Name='Pasic, Mr. Jakob', Sex='male', Age='21', SibSp='0', Parch='0', Ticket='315097', Fare='8.6625', Cabin=None, Embarked='S'),\n",
       " Row(PassengerId='838', Survived='0', Pclass='3', Name='Sirota, Mr. Maurice', Sex='male', Age=None, SibSp='0', Parch='0', Ticket='392092', Fare='8.05', Cabin=None, Embarked='S'),\n",
       " Row(PassengerId='839', Survived='1', Pclass='3', Name='Chip, Mr. Chang', Sex='male', Age='32', SibSp='0', Parch='0', Ticket='1601', Fare='56.4958', Cabin=None, Embarked='S'),\n",
       " Row(PassengerId='840', Survived='1', Pclass='1', Name='Marechal, Mr. Pierre', Sex='male', Age=None, SibSp='0', Parch='0', Ticket='11774', Fare='29.7', Cabin='C47', Embarked='C'),\n",
       " Row(PassengerId='841', Survived='0', Pclass='3', Name='Alhomaki, Mr. Ilmari Rudolf', Sex='male', Age='20', SibSp='0', Parch='0', Ticket='SOTON/O2 3101287', Fare='7.925', Cabin=None, Embarked='S'),\n",
       " Row(PassengerId='842', Survived='0', Pclass='2', Name='Mudd, Mr. Thomas Charles', Sex='male', Age='16', SibSp='0', Parch='0', Ticket='S.O./P.P. 3', Fare='10.5', Cabin=None, Embarked='S'),\n",
       " Row(PassengerId='843', Survived='1', Pclass='1', Name='Serepeca, Miss. Augusta', Sex='female', Age='30', SibSp='0', Parch='0', Ticket='113798', Fare='31', Cabin=None, Embarked='C'),\n",
       " Row(PassengerId='844', Survived='0', Pclass='3', Name='Lemberopolous, Mr. Peter L', Sex='male', Age='34.5', SibSp='0', Parch='0', Ticket='2683', Fare='6.4375', Cabin=None, Embarked='C'),\n",
       " Row(PassengerId='845', Survived='0', Pclass='3', Name='Culumovic, Mr. Jeso', Sex='male', Age='17', SibSp='0', Parch='0', Ticket='315090', Fare='8.6625', Cabin=None, Embarked='S'),\n",
       " Row(PassengerId='846', Survived='0', Pclass='3', Name='Abbing, Mr. Anthony', Sex='male', Age='42', SibSp='0', Parch='0', Ticket='C.A. 5547', Fare='7.55', Cabin=None, Embarked='S'),\n",
       " Row(PassengerId='847', Survived='0', Pclass='3', Name='Sage, Mr. Douglas Bullen', Sex='male', Age=None, SibSp='8', Parch='2', Ticket='CA. 2343', Fare='69.55', Cabin=None, Embarked='S'),\n",
       " Row(PassengerId='848', Survived='0', Pclass='3', Name='Markoff, Mr. Marin', Sex='male', Age='35', SibSp='0', Parch='0', Ticket='349213', Fare='7.8958', Cabin=None, Embarked='C'),\n",
       " Row(PassengerId='849', Survived='0', Pclass='2', Name='Harper, Rev. John', Sex='male', Age='28', SibSp='0', Parch='1', Ticket='248727', Fare='33', Cabin=None, Embarked='S'),\n",
       " Row(PassengerId='850', Survived='1', Pclass='1', Name='Goldenberg, Mrs. Samuel L (Edwiga Grabowska)', Sex='female', Age=None, SibSp='1', Parch='0', Ticket='17453', Fare='89.1042', Cabin='C92', Embarked='C'),\n",
       " Row(PassengerId='851', Survived='0', Pclass='3', Name='Andersson, Master. Sigvard Harald Elias', Sex='male', Age='4', SibSp='4', Parch='2', Ticket='347082', Fare='31.275', Cabin=None, Embarked='S'),\n",
       " Row(PassengerId='852', Survived='0', Pclass='3', Name='Svensson, Mr. Johan', Sex='male', Age='74', SibSp='0', Parch='0', Ticket='347060', Fare='7.775', Cabin=None, Embarked='S'),\n",
       " Row(PassengerId='853', Survived='0', Pclass='3', Name='Boulos, Miss. Nourelain', Sex='female', Age='9', SibSp='1', Parch='1', Ticket='2678', Fare='15.2458', Cabin=None, Embarked='C'),\n",
       " Row(PassengerId='854', Survived='1', Pclass='1', Name='Lines, Miss. Mary Conover', Sex='female', Age='16', SibSp='0', Parch='1', Ticket='PC 17592', Fare='39.4', Cabin='D28', Embarked='S'),\n",
       " Row(PassengerId='855', Survived='0', Pclass='2', Name='Carter, Mrs. Ernest Courtenay (Lilian Hughes)', Sex='female', Age='44', SibSp='1', Parch='0', Ticket='244252', Fare='26', Cabin=None, Embarked='S'),\n",
       " Row(PassengerId='856', Survived='1', Pclass='3', Name='Aks, Mrs. Sam (Leah Rosen)', Sex='female', Age='18', SibSp='0', Parch='1', Ticket='392091', Fare='9.35', Cabin=None, Embarked='S'),\n",
       " Row(PassengerId='857', Survived='1', Pclass='1', Name='Wick, Mrs. George Dennick (Mary Hitchcock)', Sex='female', Age='45', SibSp='1', Parch='1', Ticket='36928', Fare='164.8667', Cabin=None, Embarked='S'),\n",
       " Row(PassengerId='858', Survived='1', Pclass='1', Name='Daly, Mr. Peter Denis ', Sex='male', Age='51', SibSp='0', Parch='0', Ticket='113055', Fare='26.55', Cabin='E17', Embarked='S'),\n",
       " Row(PassengerId='859', Survived='1', Pclass='3', Name='Baclini, Mrs. Solomon (Latifa Qurban)', Sex='female', Age='24', SibSp='0', Parch='3', Ticket='2666', Fare='19.2583', Cabin=None, Embarked='C'),\n",
       " Row(PassengerId='860', Survived='0', Pclass='3', Name='Razi, Mr. Raihed', Sex='male', Age=None, SibSp='0', Parch='0', Ticket='2629', Fare='7.2292', Cabin=None, Embarked='C'),\n",
       " Row(PassengerId='861', Survived='0', Pclass='3', Name='Hansen, Mr. Claus Peter', Sex='male', Age='41', SibSp='2', Parch='0', Ticket='350026', Fare='14.1083', Cabin=None, Embarked='S'),\n",
       " Row(PassengerId='862', Survived='0', Pclass='2', Name='Giles, Mr. Frederick Edward', Sex='male', Age='21', SibSp='1', Parch='0', Ticket='28134', Fare='11.5', Cabin=None, Embarked='S'),\n",
       " Row(PassengerId='863', Survived='1', Pclass='1', Name='Swift, Mrs. Frederick Joel (Margaret Welles Barron)', Sex='female', Age='48', SibSp='0', Parch='0', Ticket='17466', Fare='25.9292', Cabin='D17', Embarked='S'),\n",
       " Row(PassengerId='864', Survived='0', Pclass='3', Name='\"Sage, Miss. Dorothy Edith \"\"Dolly\"\"\"', Sex='female', Age=None, SibSp='8', Parch='2', Ticket='CA. 2343', Fare='69.55', Cabin=None, Embarked='S'),\n",
       " Row(PassengerId='865', Survived='0', Pclass='2', Name='Gill, Mr. John William', Sex='male', Age='24', SibSp='0', Parch='0', Ticket='233866', Fare='13', Cabin=None, Embarked='S'),\n",
       " Row(PassengerId='866', Survived='1', Pclass='2', Name='Bystrom, Mrs. (Karolina)', Sex='female', Age='42', SibSp='0', Parch='0', Ticket='236852', Fare='13', Cabin=None, Embarked='S'),\n",
       " Row(PassengerId='867', Survived='1', Pclass='2', Name='Duran y More, Miss. Asuncion', Sex='female', Age='27', SibSp='1', Parch='0', Ticket='SC/PARIS 2149', Fare='13.8583', Cabin=None, Embarked='C'),\n",
       " Row(PassengerId='868', Survived='0', Pclass='1', Name='Roebling, Mr. Washington Augustus II', Sex='male', Age='31', SibSp='0', Parch='0', Ticket='PC 17590', Fare='50.4958', Cabin='A24', Embarked='S'),\n",
       " Row(PassengerId='869', Survived='0', Pclass='3', Name='van Melkebeke, Mr. Philemon', Sex='male', Age=None, SibSp='0', Parch='0', Ticket='345777', Fare='9.5', Cabin=None, Embarked='S'),\n",
       " Row(PassengerId='870', Survived='1', Pclass='3', Name='Johnson, Master. Harold Theodor', Sex='male', Age='4', SibSp='1', Parch='1', Ticket='347742', Fare='11.1333', Cabin=None, Embarked='S'),\n",
       " Row(PassengerId='871', Survived='0', Pclass='3', Name='Balkic, Mr. Cerin', Sex='male', Age='26', SibSp='0', Parch='0', Ticket='349248', Fare='7.8958', Cabin=None, Embarked='S'),\n",
       " Row(PassengerId='872', Survived='1', Pclass='1', Name='Beckwith, Mrs. Richard Leonard (Sallie Monypeny)', Sex='female', Age='47', SibSp='1', Parch='1', Ticket='11751', Fare='52.5542', Cabin='D35', Embarked='S'),\n",
       " Row(PassengerId='873', Survived='0', Pclass='1', Name='Carlsson, Mr. Frans Olof', Sex='male', Age='33', SibSp='0', Parch='0', Ticket='695', Fare='5', Cabin='B51 B53 B55', Embarked='S'),\n",
       " Row(PassengerId='874', Survived='0', Pclass='3', Name='Vander Cruyssen, Mr. Victor', Sex='male', Age='47', SibSp='0', Parch='0', Ticket='345765', Fare='9', Cabin=None, Embarked='S'),\n",
       " Row(PassengerId='875', Survived='1', Pclass='2', Name='Abelson, Mrs. Samuel (Hannah Wizosky)', Sex='female', Age='28', SibSp='1', Parch='0', Ticket='P/PP 3381', Fare='24', Cabin=None, Embarked='C'),\n",
       " Row(PassengerId='876', Survived='1', Pclass='3', Name='\"Najib, Miss. Adele Kiamie \"\"Jane\"\"\"', Sex='female', Age='15', SibSp='0', Parch='0', Ticket='2667', Fare='7.225', Cabin=None, Embarked='C'),\n",
       " Row(PassengerId='877', Survived='0', Pclass='3', Name='Gustafsson, Mr. Alfred Ossian', Sex='male', Age='20', SibSp='0', Parch='0', Ticket='7534', Fare='9.8458', Cabin=None, Embarked='S'),\n",
       " Row(PassengerId='878', Survived='0', Pclass='3', Name='Petroff, Mr. Nedelio', Sex='male', Age='19', SibSp='0', Parch='0', Ticket='349212', Fare='7.8958', Cabin=None, Embarked='S'),\n",
       " Row(PassengerId='879', Survived='0', Pclass='3', Name='Laleff, Mr. Kristo', Sex='male', Age=None, SibSp='0', Parch='0', Ticket='349217', Fare='7.8958', Cabin=None, Embarked='S'),\n",
       " Row(PassengerId='880', Survived='1', Pclass='1', Name='Potter, Mrs. Thomas Jr (Lily Alexenia Wilson)', Sex='female', Age='56', SibSp='0', Parch='1', Ticket='11767', Fare='83.1583', Cabin='C50', Embarked='C'),\n",
       " Row(PassengerId='881', Survived='1', Pclass='2', Name='Shelley, Mrs. William (Imanita Parrish Hall)', Sex='female', Age='25', SibSp='0', Parch='1', Ticket='230433', Fare='26', Cabin=None, Embarked='S'),\n",
       " Row(PassengerId='882', Survived='0', Pclass='3', Name='Markun, Mr. Johann', Sex='male', Age='33', SibSp='0', Parch='0', Ticket='349257', Fare='7.8958', Cabin=None, Embarked='S'),\n",
       " Row(PassengerId='883', Survived='0', Pclass='3', Name='Dahlberg, Miss. Gerda Ulrika', Sex='female', Age='22', SibSp='0', Parch='0', Ticket='7552', Fare='10.5167', Cabin=None, Embarked='S'),\n",
       " Row(PassengerId='884', Survived='0', Pclass='2', Name='Banfield, Mr. Frederick James', Sex='male', Age='28', SibSp='0', Parch='0', Ticket='C.A./SOTON 34068', Fare='10.5', Cabin=None, Embarked='S'),\n",
       " Row(PassengerId='885', Survived='0', Pclass='3', Name='Sutehall, Mr. Henry Jr', Sex='male', Age='25', SibSp='0', Parch='0', Ticket='SOTON/OQ 392076', Fare='7.05', Cabin=None, Embarked='S'),\n",
       " Row(PassengerId='886', Survived='0', Pclass='3', Name='Rice, Mrs. William (Margaret Norton)', Sex='female', Age='39', SibSp='0', Parch='5', Ticket='382652', Fare='29.125', Cabin=None, Embarked='Q'),\n",
       " Row(PassengerId='887', Survived='0', Pclass='2', Name='Montvila, Rev. Juozas', Sex='male', Age='27', SibSp='0', Parch='0', Ticket='211536', Fare='13', Cabin=None, Embarked='S'),\n",
       " Row(PassengerId='888', Survived='1', Pclass='1', Name='Graham, Miss. Margaret Edith', Sex='female', Age='19', SibSp='0', Parch='0', Ticket='112053', Fare='30', Cabin='B42', Embarked='S'),\n",
       " Row(PassengerId='889', Survived='0', Pclass='3', Name='\"Johnston, Miss. Catherine Helen \"\"Carrie\"\"\"', Sex='female', Age=None, SibSp='1', Parch='2', Ticket='W./C. 6607', Fare='23.45', Cabin=None, Embarked='S'),\n",
       " Row(PassengerId='890', Survived='1', Pclass='1', Name='Behr, Mr. Karl Howell', Sex='male', Age='26', SibSp='0', Parch='0', Ticket='111369', Fare='30', Cabin='C148', Embarked='C'),\n",
       " Row(PassengerId='891', Survived='0', Pclass='3', Name='Dooley, Mr. Patrick', Sex='male', Age='32', SibSp='0', Parch='0', Ticket='370376', Fare='7.75', Cabin=None, Embarked='Q')]"
      ]
     },
     "execution_count": 360,
     "metadata": {},
     "output_type": "execute_result"
    }
   ],
   "source": [
    "df.collect()"
   ]
  },
  {
   "cell_type": "code",
   "execution_count": 361,
   "id": "f6770519-bf8f-430f-baec-3e998a7246d6",
   "metadata": {},
   "outputs": [
    {
     "data": {
      "text/plain": [
       "Row(PassengerId='1', Survived='0', Pclass='3', Name='Braund, Mr. Owen Harris', Sex='male', Age='22', SibSp='1', Parch='0', Ticket='A/5 21171', Fare='7.25', Cabin=None, Embarked='S')"
      ]
     },
     "execution_count": 361,
     "metadata": {},
     "output_type": "execute_result"
    }
   ],
   "source": [
    "df.head()"
   ]
  },
  {
   "cell_type": "code",
   "execution_count": 362,
   "id": "fe1b5273-d75f-46d5-af38-040d467ed4b4",
   "metadata": {},
   "outputs": [
    {
     "data": {
      "text/plain": [
       "[Row(PassengerId='1', Survived='0', Pclass='3', Name='Braund, Mr. Owen Harris', Sex='male', Age='22', SibSp='1', Parch='0', Ticket='A/5 21171', Fare='7.25', Cabin=None, Embarked='S'),\n",
       " Row(PassengerId='2', Survived='1', Pclass='1', Name='Cumings, Mrs. John Bradley (Florence Briggs Thayer)', Sex='female', Age='38', SibSp='1', Parch='0', Ticket='PC 17599', Fare='71.2833', Cabin='C85', Embarked='C'),\n",
       " Row(PassengerId='3', Survived='1', Pclass='3', Name='Heikkinen, Miss. Laina', Sex='female', Age='26', SibSp='0', Parch='0', Ticket='STON/O2. 3101282', Fare='7.925', Cabin=None, Embarked='S')]"
      ]
     },
     "execution_count": 362,
     "metadata": {},
     "output_type": "execute_result"
    }
   ],
   "source": [
    "df.take(3)"
   ]
  },
  {
   "cell_type": "code",
   "execution_count": 363,
   "id": "845c2290-02d1-4561-a302-44d365254d42",
   "metadata": {},
   "outputs": [
    {
     "data": {
      "text/plain": [
       "[Row(PassengerId='889', Survived='0', Pclass='3', Name='\"Johnston, Miss. Catherine Helen \"\"Carrie\"\"\"', Sex='female', Age=None, SibSp='1', Parch='2', Ticket='W./C. 6607', Fare='23.45', Cabin=None, Embarked='S'),\n",
       " Row(PassengerId='890', Survived='1', Pclass='1', Name='Behr, Mr. Karl Howell', Sex='male', Age='26', SibSp='0', Parch='0', Ticket='111369', Fare='30', Cabin='C148', Embarked='C'),\n",
       " Row(PassengerId='891', Survived='0', Pclass='3', Name='Dooley, Mr. Patrick', Sex='male', Age='32', SibSp='0', Parch='0', Ticket='370376', Fare='7.75', Cabin=None, Embarked='Q')]"
      ]
     },
     "execution_count": 363,
     "metadata": {},
     "output_type": "execute_result"
    }
   ],
   "source": [
    "df.tail(3)"
   ]
  },
  {
   "cell_type": "code",
   "execution_count": 364,
   "id": "a86f7644-f1af-47c4-9c52-1a55c6cd6b6f",
   "metadata": {},
   "outputs": [
    {
     "name": "stdout",
     "output_type": "stream",
     "text": [
      "+-----------+--------+------+--------------------+------+---+-----+-----+----------------+-------+-----+--------+\n",
      "|PassengerId|Survived|Pclass|                Name|   Sex|Age|SibSp|Parch|          Ticket|   Fare|Cabin|Embarked|\n",
      "+-----------+--------+------+--------------------+------+---+-----+-----+----------------+-------+-----+--------+\n",
      "|          1|       0|     3|Braund, Mr. Owen ...|  male| 22|    1|    0|       A/5 21171|   7.25| null|       S|\n",
      "|          2|       1|     1|Cumings, Mrs. Joh...|female| 38|    1|    0|        PC 17599|71.2833|  C85|       C|\n",
      "|          3|       1|     3|Heikkinen, Miss. ...|female| 26|    0|    0|STON/O2. 3101282|  7.925| null|       S|\n",
      "+-----------+--------+------+--------------------+------+---+-----+-----+----------------+-------+-----+--------+\n",
      "only showing top 3 rows\n",
      "\n"
     ]
    }
   ],
   "source": [
    "df.show(3)"
   ]
  },
  {
   "cell_type": "code",
   "execution_count": 365,
   "id": "4b5e9c7d-8dea-420d-a5fb-1e7e4d66978a",
   "metadata": {},
   "outputs": [
    {
     "data": {
      "text/plain": [
       "Row(Year='2008', Month='1', DayofMonth='3', DayOfWeek='4', DepTime='1343', CRSDepTime='1325', ArrTime='1451', CRSArrTime='1435', UniqueCarrier='WN', FlightNum='588', TailNum='N240WN', ActualElapsedTime='68', CRSElapsedTime='70', AirTime='55', ArrDelay='16', DepDelay='18', Origin='HOU', Dest='LIT', Distance='393', TaxiIn='4', TaxiOut='9', Cancelled='0', CancellationCode=None, Diverted='0', CarrierDelay='16', WeatherDelay='0', NASDelay='0', SecurityDelay='0', LateAircraftDelay='0')"
      ]
     },
     "execution_count": 365,
     "metadata": {},
     "output_type": "execute_result"
    }
   ],
   "source": [
    "df2.head()"
   ]
  },
  {
   "cell_type": "markdown",
   "id": "d2842d20-83aa-41d1-b15d-2a3bf74864dd",
   "metadata": {},
   "source": [
    "# 데이터 프레임에서 특정 컬럼 선택해 출력하기 \n",
    "* .select('컬럼명').show()"
   ]
  },
  {
   "cell_type": "code",
   "execution_count": 366,
   "id": "937e3cc5-814e-49ec-8c6d-2371910174bc",
   "metadata": {},
   "outputs": [
    {
     "name": "stdout",
     "output_type": "stream",
     "text": [
      "+----+\n",
      "| Age|\n",
      "+----+\n",
      "|  22|\n",
      "|  38|\n",
      "|  26|\n",
      "|  35|\n",
      "|  35|\n",
      "|null|\n",
      "|  54|\n",
      "|   2|\n",
      "|  27|\n",
      "|  14|\n",
      "|   4|\n",
      "|  58|\n",
      "|  20|\n",
      "|  39|\n",
      "|  14|\n",
      "|  55|\n",
      "|   2|\n",
      "|null|\n",
      "|  31|\n",
      "|null|\n",
      "+----+\n",
      "only showing top 20 rows\n",
      "\n"
     ]
    }
   ],
   "source": [
    "df.select('Age').show()"
   ]
  },
  {
   "cell_type": "code",
   "execution_count": 367,
   "id": "f2b98c22-1ed1-46dc-9a35-fce9680908c8",
   "metadata": {},
   "outputs": [
    {
     "name": "stdout",
     "output_type": "stream",
     "text": [
      "+----+\n",
      "| Age|\n",
      "+----+\n",
      "|  22|\n",
      "|  38|\n",
      "|  26|\n",
      "|  35|\n",
      "|  35|\n",
      "|null|\n",
      "|  54|\n",
      "|   2|\n",
      "|  27|\n",
      "|  14|\n",
      "|   4|\n",
      "|  58|\n",
      "|  20|\n",
      "|  39|\n",
      "|  14|\n",
      "|  55|\n",
      "|   2|\n",
      "|null|\n",
      "|  31|\n",
      "|null|\n",
      "+----+\n",
      "only showing top 20 rows\n",
      "\n"
     ]
    }
   ],
   "source": [
    "df.select(df['Age']).show()"
   ]
  },
  {
   "cell_type": "code",
   "execution_count": 368,
   "id": "c6852032-2c0b-469f-b897-682d039bd86c",
   "metadata": {},
   "outputs": [
    {
     "name": "stdout",
     "output_type": "stream",
     "text": [
      "+----+\n",
      "| Age|\n",
      "+----+\n",
      "|  22|\n",
      "|  38|\n",
      "|  26|\n",
      "|  35|\n",
      "|  35|\n",
      "|null|\n",
      "|  54|\n",
      "|   2|\n",
      "|  27|\n",
      "|  14|\n",
      "|   4|\n",
      "|  58|\n",
      "|  20|\n",
      "|  39|\n",
      "|  14|\n",
      "|  55|\n",
      "|   2|\n",
      "|null|\n",
      "|  31|\n",
      "|null|\n",
      "+----+\n",
      "only showing top 20 rows\n",
      "\n"
     ]
    }
   ],
   "source": [
    "df.select(df.Age).show()"
   ]
  },
  {
   "cell_type": "markdown",
   "id": "3c043ab2-b267-48c3-abc6-f83b664948ae",
   "metadata": {},
   "source": [
    "# 여러 컬럼을 선택할 때\n",
    "* .select(['컬럼명1', '컬럼명2'])"
   ]
  },
  {
   "cell_type": "code",
   "execution_count": 369,
   "id": "2a7c16f3-ce3a-4fa3-bc43-47c7773e0f9f",
   "metadata": {},
   "outputs": [
    {
     "name": "stdout",
     "output_type": "stream",
     "text": [
      "+----+------+\n",
      "| Age|   Sex|\n",
      "+----+------+\n",
      "|  22|  male|\n",
      "|  38|female|\n",
      "|  26|female|\n",
      "|  35|female|\n",
      "|  35|  male|\n",
      "|null|  male|\n",
      "|  54|  male|\n",
      "|   2|  male|\n",
      "|  27|female|\n",
      "|  14|female|\n",
      "|   4|female|\n",
      "|  58|female|\n",
      "|  20|  male|\n",
      "|  39|  male|\n",
      "|  14|female|\n",
      "|  55|female|\n",
      "|   2|  male|\n",
      "|null|  male|\n",
      "|  31|female|\n",
      "|null|female|\n",
      "+----+------+\n",
      "only showing top 20 rows\n",
      "\n"
     ]
    }
   ],
   "source": [
    "df.select(['Age','Sex']).show()"
   ]
  },
  {
   "cell_type": "code",
   "execution_count": null,
   "id": "2e3c2316-f9e4-42ac-a6c3-dd656c0e51db",
   "metadata": {},
   "outputs": [],
   "source": []
  },
  {
   "cell_type": "code",
   "execution_count": 370,
   "id": "4d18dda5-86df-40e6-9bed-45b85ecd72d9",
   "metadata": {},
   "outputs": [
    {
     "name": "stdout",
     "output_type": "stream",
     "text": [
      "+----+\n",
      "| Age|\n",
      "+----+\n",
      "|  22|\n",
      "|  38|\n",
      "|  26|\n",
      "|  35|\n",
      "|  35|\n",
      "|null|\n",
      "|  54|\n",
      "|   2|\n",
      "|  27|\n",
      "|  14|\n",
      "|   4|\n",
      "|  58|\n",
      "|  20|\n",
      "|  39|\n",
      "|  14|\n",
      "|  55|\n",
      "|   2|\n",
      "|null|\n",
      "|  31|\n",
      "|null|\n",
      "+----+\n",
      "only showing top 20 rows\n",
      "\n"
     ]
    }
   ],
   "source": [
    "df.select(f.col(\"Age\")).show()"
   ]
  },
  {
   "cell_type": "markdown",
   "id": "b9913a6a-b3b4-4987-90e6-9272f8965bdd",
   "metadata": {},
   "source": [
    "# 각 컬럼의 데이터 타입 출려하기 \n",
    "* .dtypes"
   ]
  },
  {
   "cell_type": "code",
   "execution_count": 371,
   "id": "c1438bf7-5a9e-4e3c-a9d0-8aa8ff631f5d",
   "metadata": {},
   "outputs": [
    {
     "data": {
      "text/plain": [
       "[('PassengerId', 'string'),\n",
       " ('Survived', 'string'),\n",
       " ('Pclass', 'string'),\n",
       " ('Name', 'string'),\n",
       " ('Sex', 'string'),\n",
       " ('Age', 'string'),\n",
       " ('SibSp', 'string'),\n",
       " ('Parch', 'string'),\n",
       " ('Ticket', 'string'),\n",
       " ('Fare', 'string'),\n",
       " ('Cabin', 'string'),\n",
       " ('Embarked', 'string')]"
      ]
     },
     "execution_count": 371,
     "metadata": {},
     "output_type": "execute_result"
    }
   ],
   "source": [
    "df.dtypes"
   ]
  },
  {
   "cell_type": "code",
   "execution_count": 372,
   "id": "7a2daa0a-4aca-4582-9a94-9bcbf30539df",
   "metadata": {},
   "outputs": [
    {
     "data": {
      "text/plain": [
       "[('Year', 'string'),\n",
       " ('Month', 'string'),\n",
       " ('DayofMonth', 'string'),\n",
       " ('DayOfWeek', 'string'),\n",
       " ('DepTime', 'string'),\n",
       " ('CRSDepTime', 'string'),\n",
       " ('ArrTime', 'string'),\n",
       " ('CRSArrTime', 'string'),\n",
       " ('UniqueCarrier', 'string'),\n",
       " ('FlightNum', 'string'),\n",
       " ('TailNum', 'string'),\n",
       " ('ActualElapsedTime', 'string'),\n",
       " ('CRSElapsedTime', 'string'),\n",
       " ('AirTime', 'string'),\n",
       " ('ArrDelay', 'string'),\n",
       " ('DepDelay', 'string'),\n",
       " ('Origin', 'string'),\n",
       " ('Dest', 'string'),\n",
       " ('Distance', 'string'),\n",
       " ('TaxiIn', 'string'),\n",
       " ('TaxiOut', 'string'),\n",
       " ('Cancelled', 'string'),\n",
       " ('CancellationCode', 'string'),\n",
       " ('Diverted', 'string'),\n",
       " ('CarrierDelay', 'string'),\n",
       " ('WeatherDelay', 'string'),\n",
       " ('NASDelay', 'string'),\n",
       " ('SecurityDelay', 'string'),\n",
       " ('LateAircraftDelay', 'string')]"
      ]
     },
     "execution_count": 372,
     "metadata": {},
     "output_type": "execute_result"
    }
   ],
   "source": [
    "df2.dtypes"
   ]
  },
  {
   "cell_type": "markdown",
   "id": "530dd996-ea02-4cb9-b9fb-a87af3ceedcd",
   "metadata": {},
   "source": [
    "# spark데이터 프레임을 pandas 데이터 프레임으로 표시하기"
   ]
  },
  {
   "cell_type": "code",
   "execution_count": 373,
   "id": "e5eb5745-2f62-4db5-994a-b90b189aa630",
   "metadata": {},
   "outputs": [],
   "source": [
    "import pyspark.pandas as ps"
   ]
  },
  {
   "cell_type": "code",
   "execution_count": 374,
   "id": "7888d9e3-62b0-451f-b9c3-536424964e6c",
   "metadata": {},
   "outputs": [
    {
     "data": {
      "text/html": [
       "<div>\n",
       "<style scoped>\n",
       "    .dataframe tbody tr th:only-of-type {\n",
       "        vertical-align: middle;\n",
       "    }\n",
       "\n",
       "    .dataframe tbody tr th {\n",
       "        vertical-align: top;\n",
       "    }\n",
       "\n",
       "    .dataframe thead th {\n",
       "        text-align: right;\n",
       "    }\n",
       "</style>\n",
       "<table border=\"1\" class=\"dataframe\">\n",
       "  <thead>\n",
       "    <tr style=\"text-align: right;\">\n",
       "      <th></th>\n",
       "      <th>summary</th>\n",
       "      <th>PassengerId</th>\n",
       "      <th>Survived</th>\n",
       "      <th>Pclass</th>\n",
       "      <th>Name</th>\n",
       "      <th>Sex</th>\n",
       "      <th>Age</th>\n",
       "      <th>SibSp</th>\n",
       "      <th>Parch</th>\n",
       "      <th>Ticket</th>\n",
       "      <th>Fare</th>\n",
       "      <th>Cabin</th>\n",
       "      <th>Embarked</th>\n",
       "    </tr>\n",
       "  </thead>\n",
       "  <tbody>\n",
       "    <tr>\n",
       "      <th>0</th>\n",
       "      <td>count</td>\n",
       "      <td>891</td>\n",
       "      <td>891</td>\n",
       "      <td>891</td>\n",
       "      <td>891</td>\n",
       "      <td>891</td>\n",
       "      <td>714</td>\n",
       "      <td>891</td>\n",
       "      <td>891</td>\n",
       "      <td>891</td>\n",
       "      <td>891</td>\n",
       "      <td>204</td>\n",
       "      <td>889</td>\n",
       "    </tr>\n",
       "    <tr>\n",
       "      <th>1</th>\n",
       "      <td>mean</td>\n",
       "      <td>446.0</td>\n",
       "      <td>0.3838383838383838</td>\n",
       "      <td>2.308641975308642</td>\n",
       "      <td>None</td>\n",
       "      <td>None</td>\n",
       "      <td>29.69911764705882</td>\n",
       "      <td>0.5230078563411896</td>\n",
       "      <td>0.38159371492704824</td>\n",
       "      <td>260318.54916792738</td>\n",
       "      <td>32.2042079685746</td>\n",
       "      <td>None</td>\n",
       "      <td>None</td>\n",
       "    </tr>\n",
       "    <tr>\n",
       "      <th>2</th>\n",
       "      <td>stddev</td>\n",
       "      <td>257.3538420152301</td>\n",
       "      <td>0.48659245426485753</td>\n",
       "      <td>0.8360712409770491</td>\n",
       "      <td>None</td>\n",
       "      <td>None</td>\n",
       "      <td>14.526497332334035</td>\n",
       "      <td>1.1027434322934315</td>\n",
       "      <td>0.8060572211299488</td>\n",
       "      <td>471609.26868834975</td>\n",
       "      <td>49.69342859718089</td>\n",
       "      <td>None</td>\n",
       "      <td>None</td>\n",
       "    </tr>\n",
       "    <tr>\n",
       "      <th>3</th>\n",
       "      <td>min</td>\n",
       "      <td>1</td>\n",
       "      <td>0</td>\n",
       "      <td>1</td>\n",
       "      <td>\"Andersson, Mr. August Edvard (\"\"Wennerstrom\"\")\"</td>\n",
       "      <td>female</td>\n",
       "      <td>0.42</td>\n",
       "      <td>0</td>\n",
       "      <td>0</td>\n",
       "      <td>110152</td>\n",
       "      <td>0</td>\n",
       "      <td>A10</td>\n",
       "      <td>C</td>\n",
       "    </tr>\n",
       "    <tr>\n",
       "      <th>4</th>\n",
       "      <td>max</td>\n",
       "      <td>99</td>\n",
       "      <td>1</td>\n",
       "      <td>3</td>\n",
       "      <td>van Melkebeke, Mr. Philemon</td>\n",
       "      <td>male</td>\n",
       "      <td>9</td>\n",
       "      <td>8</td>\n",
       "      <td>6</td>\n",
       "      <td>WE/P 5735</td>\n",
       "      <td>93.5</td>\n",
       "      <td>T</td>\n",
       "      <td>S</td>\n",
       "    </tr>\n",
       "  </tbody>\n",
       "</table>\n",
       "</div>"
      ],
      "text/plain": [
       "  summary        PassengerId             Survived              Pclass  \\\n",
       "0   count                891                  891                 891   \n",
       "1    mean              446.0   0.3838383838383838   2.308641975308642   \n",
       "2  stddev  257.3538420152301  0.48659245426485753  0.8360712409770491   \n",
       "3     min                  1                    0                   1   \n",
       "4     max                 99                    1                   3   \n",
       "\n",
       "                                               Name     Sex  \\\n",
       "0                                               891     891   \n",
       "1                                              None    None   \n",
       "2                                              None    None   \n",
       "3  \"Andersson, Mr. August Edvard (\"\"Wennerstrom\"\")\"  female   \n",
       "4                       van Melkebeke, Mr. Philemon    male   \n",
       "\n",
       "                  Age               SibSp                Parch  \\\n",
       "0                 714                 891                  891   \n",
       "1   29.69911764705882  0.5230078563411896  0.38159371492704824   \n",
       "2  14.526497332334035  1.1027434322934315   0.8060572211299488   \n",
       "3                0.42                   0                    0   \n",
       "4                   9                   8                    6   \n",
       "\n",
       "               Ticket               Fare Cabin Embarked  \n",
       "0                 891                891   204      889  \n",
       "1  260318.54916792738   32.2042079685746  None     None  \n",
       "2  471609.26868834975  49.69342859718089  None     None  \n",
       "3              110152                  0   A10        C  \n",
       "4           WE/P 5735               93.5     T        S  "
      ]
     },
     "execution_count": 374,
     "metadata": {},
     "output_type": "execute_result"
    }
   ],
   "source": [
    "df.describe().toPandas()"
   ]
  },
  {
   "cell_type": "markdown",
   "id": "22fd6c7d-2b83-45cd-aa72-fa19360f7313",
   "metadata": {},
   "source": [
    "# 데이터 프레임 출력 행 수 정하기 \n",
    "* limit(숫자)"
   ]
  },
  {
   "cell_type": "code",
   "execution_count": 375,
   "id": "d26fca39-4e9d-406c-bec5-042ac9325123",
   "metadata": {},
   "outputs": [
    {
     "data": {
      "text/html": [
       "<div>\n",
       "<style scoped>\n",
       "    .dataframe tbody tr th:only-of-type {\n",
       "        vertical-align: middle;\n",
       "    }\n",
       "\n",
       "    .dataframe tbody tr th {\n",
       "        vertical-align: top;\n",
       "    }\n",
       "\n",
       "    .dataframe thead th {\n",
       "        text-align: right;\n",
       "    }\n",
       "</style>\n",
       "<table border=\"1\" class=\"dataframe\">\n",
       "  <thead>\n",
       "    <tr style=\"text-align: right;\">\n",
       "      <th></th>\n",
       "      <th>PassengerId</th>\n",
       "      <th>Survived</th>\n",
       "      <th>Pclass</th>\n",
       "      <th>Name</th>\n",
       "      <th>Sex</th>\n",
       "      <th>Age</th>\n",
       "      <th>SibSp</th>\n",
       "      <th>Parch</th>\n",
       "      <th>Ticket</th>\n",
       "      <th>Fare</th>\n",
       "      <th>Cabin</th>\n",
       "      <th>Embarked</th>\n",
       "    </tr>\n",
       "  </thead>\n",
       "  <tbody>\n",
       "    <tr>\n",
       "      <th>0</th>\n",
       "      <td>1</td>\n",
       "      <td>0</td>\n",
       "      <td>3</td>\n",
       "      <td>Braund, Mr. Owen Harris</td>\n",
       "      <td>male</td>\n",
       "      <td>22</td>\n",
       "      <td>1</td>\n",
       "      <td>0</td>\n",
       "      <td>A/5 21171</td>\n",
       "      <td>7.25</td>\n",
       "      <td>None</td>\n",
       "      <td>S</td>\n",
       "    </tr>\n",
       "    <tr>\n",
       "      <th>1</th>\n",
       "      <td>2</td>\n",
       "      <td>1</td>\n",
       "      <td>1</td>\n",
       "      <td>Cumings, Mrs. John Bradley (Florence Briggs Th...</td>\n",
       "      <td>female</td>\n",
       "      <td>38</td>\n",
       "      <td>1</td>\n",
       "      <td>0</td>\n",
       "      <td>PC 17599</td>\n",
       "      <td>71.2833</td>\n",
       "      <td>C85</td>\n",
       "      <td>C</td>\n",
       "    </tr>\n",
       "    <tr>\n",
       "      <th>2</th>\n",
       "      <td>3</td>\n",
       "      <td>1</td>\n",
       "      <td>3</td>\n",
       "      <td>Heikkinen, Miss. Laina</td>\n",
       "      <td>female</td>\n",
       "      <td>26</td>\n",
       "      <td>0</td>\n",
       "      <td>0</td>\n",
       "      <td>STON/O2. 3101282</td>\n",
       "      <td>7.925</td>\n",
       "      <td>None</td>\n",
       "      <td>S</td>\n",
       "    </tr>\n",
       "  </tbody>\n",
       "</table>\n",
       "</div>"
      ],
      "text/plain": [
       "  PassengerId Survived Pclass  \\\n",
       "0           1        0      3   \n",
       "1           2        1      1   \n",
       "2           3        1      3   \n",
       "\n",
       "                                                Name     Sex Age SibSp Parch  \\\n",
       "0                            Braund, Mr. Owen Harris    male  22     1     0   \n",
       "1  Cumings, Mrs. John Bradley (Florence Briggs Th...  female  38     1     0   \n",
       "2                             Heikkinen, Miss. Laina  female  26     0     0   \n",
       "\n",
       "             Ticket     Fare Cabin Embarked  \n",
       "0         A/5 21171     7.25  None        S  \n",
       "1          PC 17599  71.2833   C85        C  \n",
       "2  STON/O2. 3101282    7.925  None        S  "
      ]
     },
     "execution_count": 375,
     "metadata": {},
     "output_type": "execute_result"
    }
   ],
   "source": [
    "df.limit(3).toPandas()"
   ]
  },
  {
   "cell_type": "code",
   "execution_count": 376,
   "id": "4b900082-941a-4d9f-ba3c-2811ff2ca335",
   "metadata": {},
   "outputs": [
    {
     "name": "stdout",
     "output_type": "stream",
     "text": [
      "+-----------+--------+------+--------------------+------+----+-----+-----+----------------+-------+-----+--------+\n",
      "|PassengerId|Survived|Pclass|                Name|   Sex| Age|SibSp|Parch|          Ticket|   Fare|Cabin|Embarked|\n",
      "+-----------+--------+------+--------------------+------+----+-----+-----+----------------+-------+-----+--------+\n",
      "|          1|       0|     3|Braund, Mr. Owen ...|  male|  22|    1|    0|       A/5 21171|   7.25| null|       S|\n",
      "|          2|       1|     1|Cumings, Mrs. Joh...|female|  38|    1|    0|        PC 17599|71.2833|  C85|       C|\n",
      "|          3|       1|     3|Heikkinen, Miss. ...|female|  26|    0|    0|STON/O2. 3101282|  7.925| null|       S|\n",
      "|          4|       1|     1|Futrelle, Mrs. Ja...|female|  35|    1|    0|          113803|   53.1| C123|       S|\n",
      "|          5|       0|     3|Allen, Mr. Willia...|  male|  35|    0|    0|          373450|   8.05| null|       S|\n",
      "|          6|       0|     3|    Moran, Mr. James|  male|null|    0|    0|          330877| 8.4583| null|       Q|\n",
      "|          7|       0|     1|McCarthy, Mr. Tim...|  male|  54|    0|    0|           17463|51.8625|  E46|       S|\n",
      "|          8|       0|     3|Palsson, Master. ...|  male|   2|    3|    1|          349909| 21.075| null|       S|\n",
      "|          9|       1|     3|Johnson, Mrs. Osc...|female|  27|    0|    2|          347742|11.1333| null|       S|\n",
      "|         10|       1|     2|Nasser, Mrs. Nich...|female|  14|    1|    0|          237736|30.0708| null|       C|\n",
      "+-----------+--------+------+--------------------+------+----+-----+-----+----------------+-------+-----+--------+\n",
      "\n"
     ]
    }
   ],
   "source": [
    "df.limit(10).show()"
   ]
  },
  {
   "cell_type": "markdown",
   "id": "e02c2a6c-6635-4bb0-8cd6-9b71d3309135",
   "metadata": {},
   "source": [
    "# 새로운 컬럼 추가하기\n",
    "* .withColumn('컬럼명', 데이터)"
   ]
  },
  {
   "cell_type": "code",
   "execution_count": 377,
   "id": "c588fab6-9d7e-48ae-8690-18dfce92e7aa",
   "metadata": {},
   "outputs": [],
   "source": [
    "# 타이타닉 데이터에서 SibSp, Parch 컬럼을 합쳐서 family 컬럼 만들기\n",
    "df = df.withColumn('family', df['Sibsp'] + df['Parch'])"
   ]
  },
  {
   "cell_type": "code",
   "execution_count": 378,
   "id": "0206d942-50cf-4cb5-9e30-9f2b400e6e6e",
   "metadata": {},
   "outputs": [
    {
     "name": "stdout",
     "output_type": "stream",
     "text": [
      "+-----------+--------+------+--------------------+------+---+-----+-----+----------------+-------+-----+--------+------+\n",
      "|PassengerId|Survived|Pclass|                Name|   Sex|Age|SibSp|Parch|          Ticket|   Fare|Cabin|Embarked|family|\n",
      "+-----------+--------+------+--------------------+------+---+-----+-----+----------------+-------+-----+--------+------+\n",
      "|          1|       0|     3|Braund, Mr. Owen ...|  male| 22|    1|    0|       A/5 21171|   7.25| null|       S|   1.0|\n",
      "|          2|       1|     1|Cumings, Mrs. Joh...|female| 38|    1|    0|        PC 17599|71.2833|  C85|       C|   1.0|\n",
      "|          3|       1|     3|Heikkinen, Miss. ...|female| 26|    0|    0|STON/O2. 3101282|  7.925| null|       S|   0.0|\n",
      "+-----------+--------+------+--------------------+------+---+-----+-----+----------------+-------+-----+--------+------+\n",
      "only showing top 3 rows\n",
      "\n"
     ]
    }
   ],
   "source": [
    "df.show(3)"
   ]
  },
  {
   "cell_type": "code",
   "execution_count": 379,
   "id": "ab53fa6f-ee5f-4637-b550-9435dfeba111",
   "metadata": {},
   "outputs": [
    {
     "name": "stdout",
     "output_type": "stream",
     "text": [
      "+----+-----+----------+---------+-------+----------+-------+----------+-------------+---------+-------+-----------------+--------------+-------+--------+--------+------+----+--------+------+-------+---------+----------------+--------+------------+------------+--------+-------------+-----------------+\n",
      "|Year|Month|DayofMonth|DayOfWeek|DepTime|CRSDepTime|ArrTime|CRSArrTime|UniqueCarrier|FlightNum|TailNum|ActualElapsedTime|CRSElapsedTime|AirTime|ArrDelay|DepDelay|Origin|Dest|Distance|TaxiIn|TaxiOut|Cancelled|CancellationCode|Diverted|CarrierDelay|WeatherDelay|NASDelay|SecurityDelay|LateAircraftDelay|\n",
      "+----+-----+----------+---------+-------+----------+-------+----------+-------------+---------+-------+-----------------+--------------+-------+--------+--------+------+----+--------+------+-------+---------+----------------+--------+------------+------------+--------+-------------+-----------------+\n",
      "|2008|    1|         3|        4|   1343|      1325|   1451|      1435|           WN|      588| N240WN|               68|            70|     55|      16|      18|   HOU| LIT|     393|     4|      9|        0|            null|       0|          16|           0|       0|            0|                0|\n",
      "|2008|    1|         3|        4|   1125|      1120|   1247|      1245|           WN|     1343| N523SW|               82|            85|     71|       2|       5|   HOU| MAF|     441|     3|      8|        0|            null|       0|          NA|          NA|      NA|           NA|               NA|\n",
      "|2008|    1|         3|        4|   2009|      2015|   2136|      2140|           WN|     3841| N280WN|               87|            85|     71|      -4|      -6|   HOU| MAF|     441|     2|     14|        0|            null|       0|          NA|          NA|      NA|           NA|               NA|\n",
      "|2008|    1|         3|        4|    903|       855|   1203|      1205|           WN|        3| N308SA|              120|           130|    108|      -2|       8|   HOU| MCO|     848|     5|      7|        0|            null|       0|          NA|          NA|      NA|           NA|               NA|\n",
      "|2008|    1|         3|        4|   1423|      1400|   1726|      1710|           WN|       25| N462WN|              123|           130|    107|      16|      23|   HOU| MCO|     848|     6|     10|        0|            null|       0|          16|           0|       0|            0|                0|\n",
      "|2008|    1|         3|        4|   2024|      2020|   2325|      2325|           WN|       51| N483WN|              121|           125|    101|       0|       4|   HOU| MCO|     848|    13|      7|        0|            null|       0|          NA|          NA|      NA|           NA|               NA|\n",
      "|2008|    1|         3|        4|   1753|      1745|   2053|      2050|           WN|      940| N493WN|              120|           125|    107|       3|       8|   HOU| MCO|     848|     6|      7|        0|            null|       0|          NA|          NA|      NA|           NA|               NA|\n",
      "|2008|    1|         3|        4|    622|       620|    935|       930|           WN|     2621| N266WN|              133|           130|    107|       5|       2|   HOU| MCO|     848|     7|     19|        0|            null|       0|          NA|          NA|      NA|           NA|               NA|\n",
      "|2008|    1|         3|        4|   1944|      1945|   2210|      2215|           WN|      389| N266WN|              146|           150|    124|      -5|      -1|   HOU| MDW|     937|     7|     15|        0|            null|       0|          NA|          NA|      NA|           NA|               NA|\n",
      "|2008|    1|         3|        4|   1453|      1425|   1716|      1650|           WN|      519| N514SW|              143|           145|    124|      26|      28|   HOU| MDW|     937|     6|     13|        0|            null|       0|          11|           0|       0|            0|               15|\n",
      "|2008|    1|         3|        4|   2030|      2015|   2251|      2245|           WN|      894| N716SW|              141|           150|    122|       6|      15|   HOU| MDW|     937|    11|      8|        0|            null|       0|          NA|          NA|      NA|           NA|               NA|\n",
      "|2008|    1|         3|        4|    708|       615|    936|       840|           WN|      969| N215WN|              148|           145|    128|      56|      53|   HOU| MDW|     937|    10|     10|        0|            null|       0|          53|           0|       3|            0|                0|\n",
      "|2008|    1|         3|        4|   1749|      1730|   2039|      2000|           WN|     2174| N623SW|              170|           150|    128|      39|      19|   HOU| MDW|     937|    34|      8|        0|            null|       0|          10|           0|      20|            0|                9|\n",
      "|2008|    1|         3|        4|   1217|      1215|   1431|      1440|           WN|     2445| N651SW|              134|           145|    124|      -9|       2|   HOU| MDW|     937|     4|      6|        0|            null|       0|          NA|          NA|      NA|           NA|               NA|\n",
      "|2008|    1|         3|        4|    954|       940|   1206|      1205|           WN|     2974| N447WN|              132|           145|    120|       1|      14|   HOU| MDW|     937|     5|      7|        0|            null|       0|          NA|          NA|      NA|           NA|               NA|\n",
      "|2008|    1|         3|        4|   1758|      1800|   1854|      1900|           WN|       41| N240WN|               56|            60|     45|      -6|      -2|   HOU| MSY|     303|     3|      8|        0|            null|       0|          NA|          NA|      NA|           NA|               NA|\n",
      "|2008|    1|         3|        4|   2210|      2120|   2305|      2215|           WN|       78| N268WN|               55|            55|     44|      50|      50|   HOU| MSY|     303|     3|      8|        0|            null|       0|           6|           0|       0|            0|               44|\n",
      "|2008|    1|         3|        4|    740|       740|    836|       840|           WN|      311| N504SW|               56|            60|     45|      -4|       0|   HOU| MSY|     303|     3|      8|        0|            null|       0|          NA|          NA|      NA|           NA|               NA|\n",
      "|2008|    1|         3|        4|   1011|      1005|   1116|      1105|           WN|      521| N332SW|               65|            60|     49|      11|       6|   HOU| MSY|     303|     4|     12|        0|            null|       0|          NA|          NA|      NA|           NA|               NA|\n",
      "|2008|    1|         3|        4|   1612|      1520|   1707|      1620|           WN|      714| N305SW|               55|            60|     44|      47|      52|   HOU| MSY|     303|     4|      7|        0|            null|       0|           0|           0|       0|            0|               47|\n",
      "+----+-----+----------+---------+-------+----------+-------+----------+-------------+---------+-------+-----------------+--------------+-------+--------+--------+------+----+--------+------+-------+---------+----------------+--------+------------+------------+--------+-------------+-----------------+\n",
      "only showing top 20 rows\n",
      "\n"
     ]
    }
   ],
   "source": [
    "# spark에서 .show()로 출력한 결과는 NoneType 이므로 변수에 할당하면 안됨.\n",
    "df2.show()"
   ]
  },
  {
   "cell_type": "code",
   "execution_count": 380,
   "id": "a6ebdb0b-5c0d-4fa8-98b3-3dada8cf8216",
   "metadata": {},
   "outputs": [
    {
     "data": {
      "text/plain": [
       "[('PassengerId', 'string'),\n",
       " ('Survived', 'string'),\n",
       " ('Pclass', 'string'),\n",
       " ('Name', 'string'),\n",
       " ('Sex', 'string'),\n",
       " ('Age', 'string'),\n",
       " ('SibSp', 'string'),\n",
       " ('Parch', 'string'),\n",
       " ('Ticket', 'string'),\n",
       " ('Fare', 'string'),\n",
       " ('Cabin', 'string'),\n",
       " ('Embarked', 'string'),\n",
       " ('family', 'double')]"
      ]
     },
     "execution_count": 380,
     "metadata": {},
     "output_type": "execute_result"
    }
   ],
   "source": [
    "# Sibsp와 Parch는 모두 sting타입이지만 자동으로 숫자로 변환되어 계산 됨\n",
    "# 저장된 데이터 타입은 double\n",
    "df.dtypes"
   ]
  },
  {
   "cell_type": "markdown",
   "id": "1887362b-9ed6-4e54-aa36-feeb4d0e7f80",
   "metadata": {},
   "source": [
    "# 컬럼 삭제하기 \n",
    "* .drop('컬럼명') "
   ]
  },
  {
   "cell_type": "code",
   "execution_count": 383,
   "id": "72be7542-a869-4c34-b1db-1eab9f01d867",
   "metadata": {},
   "outputs": [],
   "source": [
    "df = df.drop('PassengerId', 'Name', 'Sibsp', 'parch', 'Ticket')"
   ]
  },
  {
   "cell_type": "code",
   "execution_count": 384,
   "id": "36d34328-a5a2-4953-84fa-041a3607fcdd",
   "metadata": {},
   "outputs": [
    {
     "name": "stdout",
     "output_type": "stream",
     "text": [
      "+--------+------+------+----+-------+-----+--------+------+\n",
      "|Survived|Pclass|   Sex| Age|   Fare|Cabin|Embarked|family|\n",
      "+--------+------+------+----+-------+-----+--------+------+\n",
      "|       0|     3|  male|  22|   7.25| null|       S|   1.0|\n",
      "|       1|     1|female|  38|71.2833|  C85|       C|   1.0|\n",
      "|       1|     3|female|  26|  7.925| null|       S|   0.0|\n",
      "|       1|     1|female|  35|   53.1| C123|       S|   1.0|\n",
      "|       0|     3|  male|  35|   8.05| null|       S|   0.0|\n",
      "|       0|     3|  male|null| 8.4583| null|       Q|   0.0|\n",
      "|       0|     1|  male|  54|51.8625|  E46|       S|   0.0|\n",
      "|       0|     3|  male|   2| 21.075| null|       S|   4.0|\n",
      "|       1|     3|female|  27|11.1333| null|       S|   2.0|\n",
      "|       1|     2|female|  14|30.0708| null|       C|   1.0|\n",
      "|       1|     3|female|   4|   16.7|   G6|       S|   2.0|\n",
      "|       1|     1|female|  58|  26.55| C103|       S|   0.0|\n",
      "|       0|     3|  male|  20|   8.05| null|       S|   0.0|\n",
      "|       0|     3|  male|  39| 31.275| null|       S|   6.0|\n",
      "|       0|     3|female|  14| 7.8542| null|       S|   0.0|\n",
      "|       1|     2|female|  55|     16| null|       S|   0.0|\n",
      "|       0|     3|  male|   2| 29.125| null|       Q|   5.0|\n",
      "|       1|     2|  male|null|     13| null|       S|   0.0|\n",
      "|       0|     3|female|  31|     18| null|       S|   1.0|\n",
      "|       1|     3|female|null|  7.225| null|       C|   0.0|\n",
      "+--------+------+------+----+-------+-----+--------+------+\n",
      "only showing top 20 rows\n",
      "\n"
     ]
    }
   ],
   "source": [
    "df.show()"
   ]
  },
  {
   "cell_type": "markdown",
   "id": "b71eb821-b1b4-499a-9936-972a1e706fce",
   "metadata": {},
   "source": [
    "# 컬럼 이름 바꾸기\n",
    "* .withColumnRenamed('원래이름', '새이름')"
   ]
  },
  {
   "cell_type": "code",
   "execution_count": 385,
   "id": "828bf1b5-67ca-432a-a868-59f73f382445",
   "metadata": {},
   "outputs": [
    {
     "name": "stdout",
     "output_type": "stream",
     "text": [
      "+--------+------+------+----+-------+---------+--------+------+\n",
      "|Survived|Pclass|   Sex| Age|   Fare|new_cabin|Embarked|family|\n",
      "+--------+------+------+----+-------+---------+--------+------+\n",
      "|       0|     3|  male|  22|   7.25|     null|       S|   1.0|\n",
      "|       1|     1|female|  38|71.2833|      C85|       C|   1.0|\n",
      "|       1|     3|female|  26|  7.925|     null|       S|   0.0|\n",
      "|       1|     1|female|  35|   53.1|     C123|       S|   1.0|\n",
      "|       0|     3|  male|  35|   8.05|     null|       S|   0.0|\n",
      "|       0|     3|  male|null| 8.4583|     null|       Q|   0.0|\n",
      "|       0|     1|  male|  54|51.8625|      E46|       S|   0.0|\n",
      "|       0|     3|  male|   2| 21.075|     null|       S|   4.0|\n",
      "|       1|     3|female|  27|11.1333|     null|       S|   2.0|\n",
      "|       1|     2|female|  14|30.0708|     null|       C|   1.0|\n",
      "|       1|     3|female|   4|   16.7|       G6|       S|   2.0|\n",
      "|       1|     1|female|  58|  26.55|     C103|       S|   0.0|\n",
      "|       0|     3|  male|  20|   8.05|     null|       S|   0.0|\n",
      "|       0|     3|  male|  39| 31.275|     null|       S|   6.0|\n",
      "|       0|     3|female|  14| 7.8542|     null|       S|   0.0|\n",
      "|       1|     2|female|  55|     16|     null|       S|   0.0|\n",
      "|       0|     3|  male|   2| 29.125|     null|       Q|   5.0|\n",
      "|       1|     2|  male|null|     13|     null|       S|   0.0|\n",
      "|       0|     3|female|  31|     18|     null|       S|   1.0|\n",
      "|       1|     3|female|null|  7.225|     null|       C|   0.0|\n",
      "+--------+------+------+----+-------+---------+--------+------+\n",
      "only showing top 20 rows\n",
      "\n"
     ]
    }
   ],
   "source": [
    "df.withColumnRenamed('Cabin', 'new_cabin').show()"
   ]
  },
  {
   "cell_type": "markdown",
   "id": "c00f9e0b-2247-46cd-8de9-d3f19a098b75",
   "metadata": {},
   "source": [
    "# 컬럼 이름 여러개 바꾸기\n",
    "* .withColumnsRenamed({'원래이름1':'새이름1', '원래이름2':'새이름2'}) pysaprk 3.4 버전 이후\n",
    "* .withColumnRenamed('원래이름1', '새이름1').withColumnRenamed('원래이름2', '새이름2')"
   ]
  },
  {
   "cell_type": "code",
   "execution_count": 386,
   "id": "80778f04-5cee-449f-a556-4c5e34e778de",
   "metadata": {},
   "outputs": [
    {
     "name": "stdout",
     "output_type": "stream",
     "text": [
      "+--------+------+------+----+-------+----+--------+------+\n",
      "|Survived|Pclass|   Sex|나이|   Fare|객실|Embarked|family|\n",
      "+--------+------+------+----+-------+----+--------+------+\n",
      "|       0|     3|  male|  22|   7.25|null|       S|   1.0|\n",
      "|       1|     1|female|  38|71.2833| C85|       C|   1.0|\n",
      "|       1|     3|female|  26|  7.925|null|       S|   0.0|\n",
      "|       1|     1|female|  35|   53.1|C123|       S|   1.0|\n",
      "|       0|     3|  male|  35|   8.05|null|       S|   0.0|\n",
      "|       0|     3|  male|null| 8.4583|null|       Q|   0.0|\n",
      "|       0|     1|  male|  54|51.8625| E46|       S|   0.0|\n",
      "|       0|     3|  male|   2| 21.075|null|       S|   4.0|\n",
      "|       1|     3|female|  27|11.1333|null|       S|   2.0|\n",
      "|       1|     2|female|  14|30.0708|null|       C|   1.0|\n",
      "|       1|     3|female|   4|   16.7|  G6|       S|   2.0|\n",
      "|       1|     1|female|  58|  26.55|C103|       S|   0.0|\n",
      "|       0|     3|  male|  20|   8.05|null|       S|   0.0|\n",
      "|       0|     3|  male|  39| 31.275|null|       S|   6.0|\n",
      "|       0|     3|female|  14| 7.8542|null|       S|   0.0|\n",
      "|       1|     2|female|  55|     16|null|       S|   0.0|\n",
      "|       0|     3|  male|   2| 29.125|null|       Q|   5.0|\n",
      "|       1|     2|  male|null|     13|null|       S|   0.0|\n",
      "|       0|     3|female|  31|     18|null|       S|   1.0|\n",
      "|       1|     3|female|null|  7.225|null|       C|   0.0|\n",
      "+--------+------+------+----+-------+----+--------+------+\n",
      "only showing top 20 rows\n",
      "\n"
     ]
    }
   ],
   "source": [
    "df.withColumnRenamed('Cabin' , '객실').withColumnRenamed('Age' , '나이').show()"
   ]
  },
  {
   "cell_type": "markdown",
   "id": "843687ac-cf25-4ec6-ae2c-25907c9a5f73",
   "metadata": {},
   "source": [
    "# 결측값인 행 찾아서 갯수 세기"
   ]
  },
  {
   "cell_type": "code",
   "execution_count": 387,
   "id": "d6a36218-313e-4a1f-bdbe-f44baf892a3d",
   "metadata": {},
   "outputs": [
    {
     "data": {
      "text/plain": [
       "['Survived', 'Pclass', 'Sex', 'Age', 'Fare', 'Cabin', 'Embarked', 'family']"
      ]
     },
     "execution_count": 387,
     "metadata": {},
     "output_type": "execute_result"
    }
   ],
   "source": [
    "df.columns"
   ]
  },
  {
   "cell_type": "code",
   "execution_count": 388,
   "id": "997ae790-0849-4185-a8b3-0cb33598fb54",
   "metadata": {},
   "outputs": [
    {
     "name": "stdout",
     "output_type": "stream",
     "text": [
      "Survived\n",
      "Pclass\n",
      "Sex\n",
      "Age\n",
      "Fare\n",
      "Cabin\n",
      "Embarked\n",
      "family\n"
     ]
    }
   ],
   "source": [
    "for c in df.columns:\n",
    "    print(c)"
   ]
  },
  {
   "cell_type": "code",
   "execution_count": 389,
   "id": "4b75a0b2-6bff-40dc-914f-9a773b607e63",
   "metadata": {
    "scrolled": true
   },
   "outputs": [
    {
     "name": "stdout",
     "output_type": "stream",
     "text": [
      "+--------------------------+\n",
      "|CAST((Age IS NULL) AS INT)|\n",
      "+--------------------------+\n",
      "|                         0|\n",
      "|                         0|\n",
      "|                         0|\n",
      "|                         0|\n",
      "|                         0|\n",
      "|                         1|\n",
      "|                         0|\n",
      "|                         0|\n",
      "|                         0|\n",
      "|                         0|\n",
      "|                         0|\n",
      "|                         0|\n",
      "|                         0|\n",
      "|                         0|\n",
      "|                         0|\n",
      "|                         0|\n",
      "|                         0|\n",
      "|                         1|\n",
      "|                         0|\n",
      "|                         1|\n",
      "+--------------------------+\n",
      "only showing top 20 rows\n",
      "\n"
     ]
    }
   ],
   "source": [
    "df.select(f.col(\"Age\").isNull().cast(\"int\")).show()"
   ]
  },
  {
   "cell_type": "code",
   "execution_count": 390,
   "id": "39f62229-d888-402e-9372-7f9c74e249e7",
   "metadata": {
    "scrolled": true
   },
   "outputs": [
    {
     "name": "stdout",
     "output_type": "stream",
     "text": [
      "+--------+------+---+---+----+-----+--------+------+\n",
      "|Survived|Pclass|Sex|Age|Fare|Cabin|Embarked|family|\n",
      "+--------+------+---+---+----+-----+--------+------+\n",
      "|       0|     0|  0|177|   0|  687|       2|     0|\n",
      "+--------+------+---+---+----+-----+--------+------+\n",
      "\n"
     ]
    }
   ],
   "source": [
    "df.select(*(f.sum(f.col(c).isNull().cast(\"int\")).alias(c) for c in df.columns)).show()"
   ]
  },
  {
   "cell_type": "markdown",
   "id": "aaf862a0-1ad7-4ba8-9514-65e59db579c6",
   "metadata": {},
   "source": [
    "# 결측값 처리\n",
    "* .na.drop() 결측값이 있는 행 삭제"
   ]
  },
  {
   "cell_type": "code",
   "execution_count": 391,
   "id": "5c252db2-b7ad-4542-a798-cc749b480722",
   "metadata": {},
   "outputs": [
    {
     "name": "stdout",
     "output_type": "stream",
     "text": [
      "<class 'pandas.core.frame.DataFrame'>\n",
      "RangeIndex: 183 entries, 0 to 182\n",
      "Data columns (total 8 columns):\n",
      " #   Column    Non-Null Count  Dtype  \n",
      "---  ------    --------------  -----  \n",
      " 0   Survived  183 non-null    object \n",
      " 1   Pclass    183 non-null    object \n",
      " 2   Sex       183 non-null    object \n",
      " 3   Age       183 non-null    object \n",
      " 4   Fare      183 non-null    object \n",
      " 5   Cabin     183 non-null    object \n",
      " 6   Embarked  183 non-null    object \n",
      " 7   family    183 non-null    float64\n",
      "dtypes: float64(1), object(7)\n",
      "memory usage: 11.6+ KB\n"
     ]
    }
   ],
   "source": [
    "df.na.drop().toPandas().info()"
   ]
  },
  {
   "cell_type": "markdown",
   "id": "bd22f98d-9ee4-44e1-8e3d-9aa8de6e511f",
   "metadata": {},
   "source": [
    "* .na.dorp(subset='컬럼명') 특정 컬럼을 기준으로 결측이 있는 행 삭제"
   ]
  },
  {
   "cell_type": "code",
   "execution_count": 392,
   "id": "214aa06d-718c-4abc-aab6-680b8579db12",
   "metadata": {},
   "outputs": [
    {
     "name": "stdout",
     "output_type": "stream",
     "text": [
      "<class 'pandas.core.frame.DataFrame'>\n",
      "RangeIndex: 714 entries, 0 to 713\n",
      "Data columns (total 8 columns):\n",
      " #   Column    Non-Null Count  Dtype  \n",
      "---  ------    --------------  -----  \n",
      " 0   Survived  714 non-null    object \n",
      " 1   Pclass    714 non-null    object \n",
      " 2   Sex       714 non-null    object \n",
      " 3   Age       714 non-null    object \n",
      " 4   Fare      714 non-null    object \n",
      " 5   Cabin     185 non-null    object \n",
      " 6   Embarked  712 non-null    object \n",
      " 7   family    714 non-null    float64\n",
      "dtypes: float64(1), object(7)\n",
      "memory usage: 44.8+ KB\n"
     ]
    }
   ],
   "source": [
    "# Cabin이 결측인 행 모두 삭제\n",
    "df.na.drop(subset='Age').toPandas().info()"
   ]
  },
  {
   "cell_type": "markdown",
   "id": "7fe02d79-7929-41d9-9ba1-07a39506c68b",
   "metadata": {},
   "source": [
    "* .na.drop(subset=['컬럼명1', '컬럼명2']) 여러 컬럼을 기준으로 결측이 있는 행 삭제"
   ]
  },
  {
   "cell_type": "code",
   "execution_count": 393,
   "id": "83d504e1-0333-41bf-8cbc-05b4cd5ed1c6",
   "metadata": {},
   "outputs": [
    {
     "name": "stdout",
     "output_type": "stream",
     "text": [
      "<class 'pandas.core.frame.DataFrame'>\n",
      "RangeIndex: 712 entries, 0 to 711\n",
      "Data columns (total 8 columns):\n",
      " #   Column    Non-Null Count  Dtype  \n",
      "---  ------    --------------  -----  \n",
      " 0   Survived  712 non-null    object \n",
      " 1   Pclass    712 non-null    object \n",
      " 2   Sex       712 non-null    object \n",
      " 3   Age       712 non-null    object \n",
      " 4   Fare      712 non-null    object \n",
      " 5   Cabin     183 non-null    object \n",
      " 6   Embarked  712 non-null    object \n",
      " 7   family    712 non-null    float64\n",
      "dtypes: float64(1), object(7)\n",
      "memory usage: 44.6+ KB\n"
     ]
    }
   ],
   "source": [
    "df.na.drop(subset=['Age','Embarked']).toPandas().info()"
   ]
  },
  {
   "cell_type": "code",
   "execution_count": 394,
   "id": "4d63c372-d0a3-4c5d-9fd4-dc50faf91b83",
   "metadata": {},
   "outputs": [
    {
     "name": "stdout",
     "output_type": "stream",
     "text": [
      "<class 'pandas.core.frame.DataFrame'>\n",
      "RangeIndex: 712 entries, 0 to 711\n",
      "Data columns (total 7 columns):\n",
      " #   Column    Non-Null Count  Dtype  \n",
      "---  ------    --------------  -----  \n",
      " 0   Survived  712 non-null    object \n",
      " 1   Pclass    712 non-null    object \n",
      " 2   Sex       712 non-null    object \n",
      " 3   Age       712 non-null    object \n",
      " 4   Fare      712 non-null    object \n",
      " 5   Embarked  712 non-null    object \n",
      " 6   family    712 non-null    float64\n",
      "dtypes: float64(1), object(6)\n",
      "memory usage: 39.1+ KB\n"
     ]
    }
   ],
   "source": [
    "df.drop('Cabin').na.drop().toPandas().info()"
   ]
  },
  {
   "cell_type": "markdown",
   "id": "2e963365-106c-4c94-9515-b40609fce43c",
   "metadata": {},
   "source": [
    "# 결측값 대치 \n",
    "* .na.fill('대치값', subset='컬럼명')"
   ]
  },
  {
   "cell_type": "code",
   "execution_count": 395,
   "id": "cf2ce8c4-ea43-4031-8881-3d3524d9aed0",
   "metadata": {},
   "outputs": [
    {
     "name": "stdout",
     "output_type": "stream",
     "text": [
      "+-----------------+\n",
      "|         avg(Age)|\n",
      "+-----------------+\n",
      "|29.69911764705882|\n",
      "+-----------------+\n",
      "\n"
     ]
    }
   ],
   "source": [
    "# f.mean 평균\n",
    "df.select(f.mean('Age')).show()"
   ]
  },
  {
   "cell_type": "code",
   "execution_count": 396,
   "id": "098a7af4-5740-4645-baee-151befe5cf8d",
   "metadata": {},
   "outputs": [
    {
     "data": {
      "text/plain": [
       "DataFrame[Survived: string, Pclass: string, Sex: string, Age: string, Fare: string, Cabin: string, Embarked: string, family: double]"
      ]
     },
     "execution_count": 396,
     "metadata": {},
     "output_type": "execute_result"
    }
   ],
   "source": [
    "df.na.fill('29', 'Age')"
   ]
  },
  {
   "cell_type": "code",
   "execution_count": 283,
   "id": "078db9b0-5214-4c24-aba7-8e25c4566956",
   "metadata": {
    "scrolled": true
   },
   "outputs": [
    {
     "name": "stdout",
     "output_type": "stream",
     "text": [
      "<class 'pandas.core.frame.DataFrame'>\n",
      "RangeIndex: 891 entries, 0 to 890\n",
      "Data columns (total 11 columns):\n",
      " #   Column       Non-Null Count  Dtype  \n",
      "---  ------       --------------  -----  \n",
      " 0   PassengerId  891 non-null    object \n",
      " 1   Survived     891 non-null    object \n",
      " 2   Pclass       891 non-null    object \n",
      " 3   Name         891 non-null    object \n",
      " 4   Sex          891 non-null    object \n",
      " 5   Age          891 non-null    object \n",
      " 6   Ticket       891 non-null    object \n",
      " 7   Fare         891 non-null    object \n",
      " 8   Cabin        204 non-null    object \n",
      " 9   Embarked     889 non-null    object \n",
      " 10  family       891 non-null    float64\n",
      "dtypes: float64(1), object(10)\n",
      "memory usage: 76.7+ KB\n"
     ]
    }
   ],
   "source": [
    "df.toPandas().info()"
   ]
  },
  {
   "cell_type": "markdown",
   "id": "7e6767be-d39c-438d-9fad-38646c7759b4",
   "metadata": {},
   "source": [
    "# 컬럼 데이터 타입 바꾸기\n",
    "* .withColumn('컬럼명', '컬럼명'.cast('자료형'))"
   ]
  },
  {
   "cell_type": "code",
   "execution_count": 397,
   "id": "cf5a0714-5e76-4bb3-b532-48592bac7804",
   "metadata": {},
   "outputs": [
    {
     "name": "stdout",
     "output_type": "stream",
     "text": [
      "root\n",
      " |-- Survived: string (nullable = true)\n",
      " |-- Pclass: string (nullable = true)\n",
      " |-- Sex: string (nullable = true)\n",
      " |-- Age: string (nullable = true)\n",
      " |-- Fare: string (nullable = true)\n",
      " |-- Cabin: string (nullable = true)\n",
      " |-- Embarked: string (nullable = true)\n",
      " |-- family: double (nullable = true)\n",
      "\n"
     ]
    }
   ],
   "source": [
    "df.printSchema()"
   ]
  },
  {
   "cell_type": "code",
   "execution_count": 398,
   "id": "036fead4-e00d-40ab-b367-0f2befb15924",
   "metadata": {},
   "outputs": [],
   "source": [
    "# Age 컬럼의 데이터 타입을 int\n",
    "df = df.withColumn('Age', df['Age'].cast('Integer'))"
   ]
  },
  {
   "cell_type": "code",
   "execution_count": 399,
   "id": "4953de17-2698-4d5b-a297-ae099983bf23",
   "metadata": {},
   "outputs": [],
   "source": [
    "# Survived 를 int로\n",
    "df = df.withColumn('Survived', df['Survived'].cast('Integer'))"
   ]
  },
  {
   "cell_type": "code",
   "execution_count": 405,
   "id": "2648d21c-74e6-433c-b229-193a1f9f120b",
   "metadata": {},
   "outputs": [],
   "source": [
    "# Pclass 를 int로\n",
    "df = df.withColumn('Pclass', df['Pclass'].cast('Integer'))"
   ]
  },
  {
   "cell_type": "code",
   "execution_count": 401,
   "id": "f8e0071d-ba94-43de-a6dc-56135ecdb4ee",
   "metadata": {},
   "outputs": [],
   "source": [
    "# Fare 를 float으로 \n",
    "df = df.withColumn('Fare', df['Fare'].cast('float'))"
   ]
  },
  {
   "cell_type": "code",
   "execution_count": 403,
   "id": "cce8538e-3e3f-4670-ba6b-8e4ee3f6a086",
   "metadata": {},
   "outputs": [],
   "source": [
    "# Family 를 int로 \n",
    "df = df.withColumn('family', df['family'].cast('int'))"
   ]
  },
  {
   "cell_type": "code",
   "execution_count": 404,
   "id": "3b6e9350-ed1b-426e-8ecb-2b48b97ce523",
   "metadata": {},
   "outputs": [
    {
     "name": "stdout",
     "output_type": "stream",
     "text": [
      "root\n",
      " |-- Survived: integer (nullable = true)\n",
      " |-- Pclass: string (nullable = true)\n",
      " |-- Sex: string (nullable = true)\n",
      " |-- Age: integer (nullable = true)\n",
      " |-- Fare: float (nullable = true)\n",
      " |-- Cabin: string (nullable = true)\n",
      " |-- Embarked: string (nullable = true)\n",
      " |-- family: integer (nullable = true)\n",
      "\n"
     ]
    }
   ],
   "source": [
    "df.printSchema()"
   ]
  },
  {
   "cell_type": "markdown",
   "id": "0880e3c1-5c12-4ac5-93c5-67fe84714af8",
   "metadata": {},
   "source": [
    "# pyspark의 imputer를 사용한 결측값 처리"
   ]
  },
  {
   "cell_type": "code",
   "execution_count": 295,
   "id": "cd8fc47c-4253-4f5c-9bb7-424f2309f39d",
   "metadata": {},
   "outputs": [
    {
     "name": "stdout",
     "output_type": "stream",
     "text": [
      "root\n",
      " |-- PassengerId: string (nullable = true)\n",
      " |-- Survived: string (nullable = true)\n",
      " |-- Pclass: string (nullable = true)\n",
      " |-- Name: string (nullable = true)\n",
      " |-- Sex: string (nullable = true)\n",
      " |-- Age: string (nullable = true)\n",
      " |-- SibSp: string (nullable = true)\n",
      " |-- Parch: string (nullable = true)\n",
      " |-- Ticket: string (nullable = true)\n",
      " |-- Fare: string (nullable = true)\n",
      " |-- Cabin: string (nullable = true)\n",
      " |-- Embarked: string (nullable = true)\n",
      "\n"
     ]
    }
   ],
   "source": [
    "df.printSchema()"
   ]
  },
  {
   "cell_type": "code",
   "execution_count": 298,
   "id": "11ec6fe5-7084-40bd-898c-c555787cd9cf",
   "metadata": {},
   "outputs": [
    {
     "name": "stdout",
     "output_type": "stream",
     "text": [
      "+-------------------------------+\n",
      "|sum(CAST((Age IS NULL) AS INT))|\n",
      "+-------------------------------+\n",
      "|                            177|\n",
      "+-------------------------------+\n",
      "\n"
     ]
    }
   ],
   "source": [
    "df.select(f.sum(df['Age'].isNull().cast('int'))).show()"
   ]
  },
  {
   "cell_type": "code",
   "execution_count": 310,
   "id": "f684b88e-b964-4e52-890c-4e813c976c81",
   "metadata": {},
   "outputs": [],
   "source": [
    "df2 = df2.withColumn('Age', df['Age'].cast('Integer'))"
   ]
  },
  {
   "cell_type": "code",
   "execution_count": 311,
   "id": "aee3581b-f79b-46b2-ab8d-3fcf069ce5ec",
   "metadata": {},
   "outputs": [
    {
     "name": "stdout",
     "output_type": "stream",
     "text": [
      "root\n",
      " |-- PassengerId: string (nullable = true)\n",
      " |-- Survived: string (nullable = true)\n",
      " |-- Pclass: string (nullable = true)\n",
      " |-- Name: string (nullable = true)\n",
      " |-- Sex: string (nullable = true)\n",
      " |-- Age: integer (nullable = true)\n",
      " |-- SibSp: string (nullable = true)\n",
      " |-- Parch: string (nullable = true)\n",
      " |-- Ticket: string (nullable = true)\n",
      " |-- Fare: string (nullable = true)\n",
      " |-- Cabin: string (nullable = true)\n",
      " |-- Embarked: string (nullable = true)\n",
      "\n"
     ]
    }
   ],
   "source": [
    "df2.printSchema()"
   ]
  },
  {
   "cell_type": "code",
   "execution_count": 312,
   "id": "7deeae9a-999f-49e9-9ce4-58ecab0e88cb",
   "metadata": {},
   "outputs": [],
   "source": [
    "from pyspark.ml.feature import Imputer"
   ]
  },
  {
   "cell_type": "code",
   "execution_count": 315,
   "id": "407bd814-36ca-48fb-8313-2ae159ac34bd",
   "metadata": {},
   "outputs": [
    {
     "name": "stdout",
     "output_type": "stream",
     "text": [
      "+-----------+--------+------+--------------------+------+---+-----+-----+----------------+-------+-----+--------+\n",
      "|PassengerId|Survived|Pclass|                Name|   Sex|Age|SibSp|Parch|          Ticket|   Fare|Cabin|Embarked|\n",
      "+-----------+--------+------+--------------------+------+---+-----+-----+----------------+-------+-----+--------+\n",
      "|          1|       0|     3|Braund, Mr. Owen ...|  male| 22|    1|    0|       A/5 21171|   7.25| null|       S|\n",
      "|          2|       1|     1|Cumings, Mrs. Joh...|female| 38|    1|    0|        PC 17599|71.2833|  C85|       C|\n",
      "|          3|       1|     3|Heikkinen, Miss. ...|female| 26|    0|    0|STON/O2. 3101282|  7.925| null|       S|\n",
      "|          4|       1|     1|Futrelle, Mrs. Ja...|female| 35|    1|    0|          113803|   53.1| C123|       S|\n",
      "|          5|       0|     3|Allen, Mr. Willia...|  male| 35|    0|    0|          373450|   8.05| null|       S|\n",
      "|          6|       0|     3|    Moran, Mr. James|  male| 28|    0|    0|          330877| 8.4583| null|       Q|\n",
      "|          7|       0|     1|McCarthy, Mr. Tim...|  male| 54|    0|    0|           17463|51.8625|  E46|       S|\n",
      "|          8|       0|     3|Palsson, Master. ...|  male|  2|    3|    1|          349909| 21.075| null|       S|\n",
      "|          9|       1|     3|Johnson, Mrs. Osc...|female| 27|    0|    2|          347742|11.1333| null|       S|\n",
      "|         10|       1|     2|Nasser, Mrs. Nich...|female| 14|    1|    0|          237736|30.0708| null|       C|\n",
      "|         11|       1|     3|Sandstrom, Miss. ...|female|  4|    1|    1|         PP 9549|   16.7|   G6|       S|\n",
      "|         12|       1|     1|Bonnell, Miss. El...|female| 58|    0|    0|          113783|  26.55| C103|       S|\n",
      "|         13|       0|     3|Saundercock, Mr. ...|  male| 20|    0|    0|       A/5. 2151|   8.05| null|       S|\n",
      "|         14|       0|     3|Andersson, Mr. An...|  male| 39|    1|    5|          347082| 31.275| null|       S|\n",
      "|         15|       0|     3|Vestrom, Miss. Hu...|female| 14|    0|    0|          350406| 7.8542| null|       S|\n",
      "|         16|       1|     2|Hewlett, Mrs. (Ma...|female| 55|    0|    0|          248706|     16| null|       S|\n",
      "|         17|       0|     3|Rice, Master. Eugene|  male|  2|    4|    1|          382652| 29.125| null|       Q|\n",
      "|         18|       1|     2|Williams, Mr. Cha...|  male| 28|    0|    0|          244373|     13| null|       S|\n",
      "|         19|       0|     3|Vander Planke, Mr...|female| 31|    1|    0|          345763|     18| null|       S|\n",
      "|         20|       1|     3|Masselmani, Mrs. ...|female| 28|    0|    0|            2649|  7.225| null|       C|\n",
      "+-----------+--------+------+--------------------+------+---+-----+-----+----------------+-------+-----+--------+\n",
      "only showing top 20 rows\n",
      "\n"
     ]
    }
   ],
   "source": [
    "# setStrategy('mean', 'median', 'mode')\n",
    "imputer = Imputer(inputCols=['Age'], outputCols=['Age']).setStrategy('median')\n",
    "imputer.fit(df2).transform(df2).show()"
   ]
  },
  {
   "cell_type": "markdown",
   "id": "24cfa386-c078-43c4-977d-c2561d1feac7",
   "metadata": {},
   "source": [
    "# 원하는 조검의 행/컬럼 필터링 하기\n",
    "* .filter(조건)"
   ]
  },
  {
   "cell_type": "code",
   "execution_count": 316,
   "id": "1b0adcfe-2da1-4f6e-ad3b-0b881d0d439f",
   "metadata": {},
   "outputs": [
    {
     "name": "stdout",
     "output_type": "stream",
     "text": [
      "+-----------+--------+------+--------------------+------+---+-----+-----+----------+-------+-----+--------+\n",
      "|PassengerId|Survived|Pclass|                Name|   Sex|Age|SibSp|Parch|    Ticket|   Fare|Cabin|Embarked|\n",
      "+-----------+--------+------+--------------------+------+---+-----+-----+----------+-------+-----+--------+\n",
      "|          2|       1|     1|Cumings, Mrs. Joh...|female| 38|    1|    0|  PC 17599|71.2833|  C85|       C|\n",
      "|          4|       1|     1|Futrelle, Mrs. Ja...|female| 35|    1|    0|    113803|   53.1| C123|       S|\n",
      "|          5|       0|     3|Allen, Mr. Willia...|  male| 35|    0|    0|    373450|   8.05| null|       S|\n",
      "|          7|       0|     1|McCarthy, Mr. Tim...|  male| 54|    0|    0|     17463|51.8625|  E46|       S|\n",
      "|         12|       1|     1|Bonnell, Miss. El...|female| 58|    0|    0|    113783|  26.55| C103|       S|\n",
      "|         14|       0|     3|Andersson, Mr. An...|  male| 39|    1|    5|    347082| 31.275| null|       S|\n",
      "|         16|       1|     2|Hewlett, Mrs. (Ma...|female| 55|    0|    0|    248706|     16| null|       S|\n",
      "|         19|       0|     3|Vander Planke, Mr...|female| 31|    1|    0|    345763|     18| null|       S|\n",
      "|         21|       0|     2|Fynney, Mr. Joseph J|  male| 35|    0|    0|    239865|     26| null|       S|\n",
      "|         22|       1|     2|Beesley, Mr. Lawr...|  male| 34|    0|    0|    248698|     13|  D56|       S|\n",
      "|         26|       1|     3|Asplund, Mrs. Car...|female| 38|    1|    5|    347077|31.3875| null|       S|\n",
      "|         31|       0|     1|Uruchurtu, Don. M...|  male| 40|    0|    0|  PC 17601|27.7208| null|       C|\n",
      "|         34|       0|     2|Wheadon, Mr. Edwa...|  male| 66|    0|    0|C.A. 24579|   10.5| null|       S|\n",
      "|         36|       0|     1|Holverson, Mr. Al...|  male| 42|    1|    0|    113789|     52| null|       S|\n",
      "|         41|       0|     3|Ahlin, Mrs. Johan...|female| 40|    1|    0|      7546|  9.475| null|       S|\n",
      "|         53|       1|     1|Harper, Mrs. Henr...|female| 49|    1|    0|  PC 17572|76.7292|  D33|       C|\n",
      "|         55|       0|     1|Ostby, Mr. Engelh...|  male| 65|    0|    1|    113509|61.9792|  B30|       C|\n",
      "|         62|       1|     1| Icard, Miss. Amelie|female| 38|    0|    0|    113572|     80|  B28|    null|\n",
      "|         63|       0|     1|Harris, Mr. Henry...|  male| 45|    1|    0|     36973| 83.475|  C83|       S|\n",
      "|         71|       0|     2|Jenkin, Mr. Steph...|  male| 32|    0|    0|C.A. 33111|   10.5| null|       S|\n",
      "+-----------+--------+------+--------------------+------+---+-----+-----+----------+-------+-----+--------+\n",
      "only showing top 20 rows\n",
      "\n"
     ]
    }
   ],
   "source": [
    "df2.filter('Age > 29').show()"
   ]
  },
  {
   "cell_type": "markdown",
   "id": "e8b215e4-c245-4f5d-900a-ff90a5a95c03",
   "metadata": {},
   "source": [
    "# 2개 이상의 조건으로 검색할 때\n",
    "* pandas의 .loc와 비슷한 문법 .loc => .filter"
   ]
  },
  {
   "cell_type": "code",
   "execution_count": 321,
   "id": "4efa5968-6565-4abc-9e2f-fedf3b4e167c",
   "metadata": {},
   "outputs": [
    {
     "name": "stdout",
     "output_type": "stream",
     "text": [
      "+-----------+--------+------+--------------------+------+---+-----+-----+----------------+-------+-----+--------+\n",
      "|PassengerId|Survived|Pclass|                Name|   Sex|Age|SibSp|Parch|          Ticket|   Fare|Cabin|Embarked|\n",
      "+-----------+--------+------+--------------------+------+---+-----+-----+----------------+-------+-----+--------+\n",
      "|          1|       0|     3|Braund, Mr. Owen ...|  male| 22|    1|    0|       A/5 21171|   7.25| null|       S|\n",
      "|          2|       1|     1|Cumings, Mrs. Joh...|female| 38|    1|    0|        PC 17599|71.2833|  C85|       C|\n",
      "|          3|       1|     3|Heikkinen, Miss. ...|female| 26|    0|    0|STON/O2. 3101282|  7.925| null|       S|\n",
      "|          4|       1|     1|Futrelle, Mrs. Ja...|female| 35|    1|    0|          113803|   53.1| C123|       S|\n",
      "|          5|       0|     3|Allen, Mr. Willia...|  male| 35|    0|    0|          373450|   8.05| null|       S|\n",
      "|          9|       1|     3|Johnson, Mrs. Osc...|female| 27|    0|    2|          347742|11.1333| null|       S|\n",
      "|         14|       0|     3|Andersson, Mr. An...|  male| 39|    1|    5|          347082| 31.275| null|       S|\n",
      "|         19|       0|     3|Vander Planke, Mr...|female| 31|    1|    0|          345763|     18| null|       S|\n",
      "|         21|       0|     2|Fynney, Mr. Joseph J|  male| 35|    0|    0|          239865|     26| null|       S|\n",
      "|         22|       1|     2|Beesley, Mr. Lawr...|  male| 34|    0|    0|          248698|     13|  D56|       S|\n",
      "|         24|       1|     1|Sloper, Mr. Willi...|  male| 28|    0|    0|          113788|   35.5|   A6|       S|\n",
      "|         26|       1|     3|Asplund, Mrs. Car...|female| 38|    1|    5|          347077|31.3875| null|       S|\n",
      "|         31|       0|     1|Uruchurtu, Don. M...|  male| 40|    0|    0|        PC 17601|27.7208| null|       C|\n",
      "|         35|       0|     1|Meyer, Mr. Edgar ...|  male| 28|    1|    0|        PC 17604|82.1708| null|       C|\n",
      "|         36|       0|     1|Holverson, Mr. Al...|  male| 42|    1|    0|          113789|     52| null|       S|\n",
      "|         38|       0|     3|Cann, Mr. Ernest ...|  male| 21|    0|    0|      A./5. 2152|   8.05| null|       S|\n",
      "|         41|       0|     3|Ahlin, Mrs. Johan...|female| 40|    1|    0|            7546|  9.475| null|       S|\n",
      "|         42|       0|     2|Turpin, Mrs. Will...|female| 27|    1|    0|           11668|     21| null|       S|\n",
      "|         52|       0|     3|Nosworthy, Mr. Ri...|  male| 21|    0|    0|      A/4. 39886|    7.8| null|       S|\n",
      "|         53|       1|     1|Harper, Mrs. Henr...|female| 49|    1|    0|        PC 17572|76.7292|  D33|       C|\n",
      "+-----------+--------+------+--------------------+------+---+-----+-----+----------------+-------+-----+--------+\n",
      "only showing top 20 rows\n",
      "\n"
     ]
    }
   ],
   "source": [
    "# 나이가 20살 초과 50살 미만\n",
    "df2.filter((df2['Age'] > 20) & (df2['Age'] < 50)).show()"
   ]
  },
  {
   "cell_type": "code",
   "execution_count": 320,
   "id": "b515c61d-a4f1-4b40-b490-fb92da745d5d",
   "metadata": {},
   "outputs": [
    {
     "name": "stdout",
     "output_type": "stream",
     "text": [
      "+-----------+--------+------+--------------------+----+---+-----+-----+------------+-------+-----+--------+\n",
      "|PassengerId|Survived|Pclass|                Name| Sex|Age|SibSp|Parch|      Ticket|   Fare|Cabin|Embarked|\n",
      "+-----------+--------+------+--------------------+----+---+-----+-----+------------+-------+-----+--------+\n",
      "|          1|       0|     3|Braund, Mr. Owen ...|male| 22|    1|    0|   A/5 21171|   7.25| null|       S|\n",
      "|          5|       0|     3|Allen, Mr. Willia...|male| 35|    0|    0|      373450|   8.05| null|       S|\n",
      "|         14|       0|     3|Andersson, Mr. An...|male| 39|    1|    5|      347082| 31.275| null|       S|\n",
      "|         21|       0|     2|Fynney, Mr. Joseph J|male| 35|    0|    0|      239865|     26| null|       S|\n",
      "|         22|       1|     2|Beesley, Mr. Lawr...|male| 34|    0|    0|      248698|     13|  D56|       S|\n",
      "|         24|       1|     1|Sloper, Mr. Willi...|male| 28|    0|    0|      113788|   35.5|   A6|       S|\n",
      "|         31|       0|     1|Uruchurtu, Don. M...|male| 40|    0|    0|    PC 17601|27.7208| null|       C|\n",
      "|         35|       0|     1|Meyer, Mr. Edgar ...|male| 28|    1|    0|    PC 17604|82.1708| null|       C|\n",
      "|         36|       0|     1|Holverson, Mr. Al...|male| 42|    1|    0|      113789|     52| null|       S|\n",
      "|         38|       0|     3|Cann, Mr. Ernest ...|male| 21|    0|    0|  A./5. 2152|   8.05| null|       S|\n",
      "|         52|       0|     3|Nosworthy, Mr. Ri...|male| 21|    0|    0|  A/4. 39886|    7.8| null|       S|\n",
      "|         58|       0|     3| Novel, Mr. Mansouer|male| 28|    0|    0|        2697| 7.2292| null|       C|\n",
      "|         61|       0|     3|Sirayanian, Mr. O...|male| 22|    0|    0|        2669| 7.2292| null|       C|\n",
      "|         63|       0|     1|Harris, Mr. Henry...|male| 45|    1|    0|       36973| 83.475|  C83|       S|\n",
      "|         70|       0|     3|   Kink, Mr. Vincenz|male| 26|    2|    0|      315151| 8.6625| null|       S|\n",
      "|         71|       0|     2|Jenkin, Mr. Steph...|male| 32|    0|    0|  C.A. 33111|   10.5| null|       S|\n",
      "|         73|       0|     2|Hood, Mr. Ambrose Jr|male| 21|    0|    0|S.O.C. 14879|   73.5| null|       S|\n",
      "|         74|       0|     3|Chronopoulos, Mr....|male| 26|    1|    0|        2680|14.4542| null|       C|\n",
      "|         75|       1|     3|       Bing, Mr. Lee|male| 32|    0|    0|        1601|56.4958| null|       S|\n",
      "|         76|       0|     3|Moen, Mr. Sigurd ...|male| 25|    0|    0|      348123|   7.65|F G73|       S|\n",
      "+-----------+--------+------+--------------------+----+---+-----+-----+------------+-------+-----+--------+\n",
      "only showing top 20 rows\n",
      "\n"
     ]
    }
   ],
   "source": [
    "# 나이가 20살 초과 50살 미만 이면서 남자인 사람\n",
    "df2.filter((df2['Age'] > 20) & (df2['Age'] < 50) & (df2['Sex'] == 'male')).show()"
   ]
  },
  {
   "cell_type": "markdown",
   "id": "9d32bdc0-e491-4258-a55b-07fe56eefd10",
   "metadata": {},
   "source": [
    "# 원하는 조건으로 필터링 후 특정 컬럼만 보기"
   ]
  },
  {
   "cell_type": "code",
   "execution_count": 322,
   "id": "0420412c-e781-46de-87c9-5a50395b489c",
   "metadata": {},
   "outputs": [
    {
     "name": "stdout",
     "output_type": "stream",
     "text": [
      "+--------------------+---+----+\n",
      "|                Name|Age| Sex|\n",
      "+--------------------+---+----+\n",
      "|Braund, Mr. Owen ...| 22|male|\n",
      "|Allen, Mr. Willia...| 35|male|\n",
      "|Andersson, Mr. An...| 39|male|\n",
      "|Fynney, Mr. Joseph J| 35|male|\n",
      "|Beesley, Mr. Lawr...| 34|male|\n",
      "|Sloper, Mr. Willi...| 28|male|\n",
      "|Uruchurtu, Don. M...| 40|male|\n",
      "|Meyer, Mr. Edgar ...| 28|male|\n",
      "|Holverson, Mr. Al...| 42|male|\n",
      "|Cann, Mr. Ernest ...| 21|male|\n",
      "|Nosworthy, Mr. Ri...| 21|male|\n",
      "| Novel, Mr. Mansouer| 28|male|\n",
      "|Sirayanian, Mr. O...| 22|male|\n",
      "|Harris, Mr. Henry...| 45|male|\n",
      "|   Kink, Mr. Vincenz| 26|male|\n",
      "|Jenkin, Mr. Steph...| 32|male|\n",
      "|Hood, Mr. Ambrose Jr| 21|male|\n",
      "|Chronopoulos, Mr....| 26|male|\n",
      "|       Bing, Mr. Lee| 32|male|\n",
      "|Moen, Mr. Sigurd ...| 25|male|\n",
      "+--------------------+---+----+\n",
      "only showing top 20 rows\n",
      "\n"
     ]
    }
   ],
   "source": [
    "df2.filter((df2['Age'] > 20) & (df2['Age'] < 50) & (df2['Sex'] == 'male')).select(['Name','Age','Sex']).show()"
   ]
  },
  {
   "cell_type": "markdown",
   "id": "4a5c82cd-1816-437c-ab3a-a682601075b7",
   "metadata": {},
   "source": [
    "# 특정 조건이 아닌 행 보기 ~ 로 부정"
   ]
  },
  {
   "cell_type": "code",
   "execution_count": 325,
   "id": "712488bb-0242-4911-86ba-1f308e2486bd",
   "metadata": {},
   "outputs": [
    {
     "name": "stdout",
     "output_type": "stream",
     "text": [
      "+-----------+--------+------+--------------------+------+---+-----+-----+----------------+-------+-----+--------+\n",
      "|PassengerId|Survived|Pclass|                Name|   Sex|Age|SibSp|Parch|          Ticket|   Fare|Cabin|Embarked|\n",
      "+-----------+--------+------+--------------------+------+---+-----+-----+----------------+-------+-----+--------+\n",
      "|          3|       1|     3|Heikkinen, Miss. ...|female| 26|    0|    0|STON/O2. 3101282|  7.925| null|       S|\n",
      "|          9|       1|     3|Johnson, Mrs. Osc...|female| 27|    0|    2|          347742|11.1333| null|       S|\n",
      "|         10|       1|     2|Nasser, Mrs. Nich...|female| 14|    1|    0|          237736|30.0708| null|       C|\n",
      "|         11|       1|     3|Sandstrom, Miss. ...|female|  4|    1|    1|         PP 9549|   16.7|   G6|       S|\n",
      "|         15|       0|     3|Vestrom, Miss. Hu...|female| 14|    0|    0|          350406| 7.8542| null|       S|\n",
      "|         23|       1|     3|\"McGowan, Miss. A...|female| 15|    0|    0|          330923| 8.0292| null|       Q|\n",
      "|         25|       0|     3|Palsson, Miss. To...|female|  8|    3|    1|          349909| 21.075| null|       S|\n",
      "|         39|       0|     3|Vander Planke, Mi...|female| 18|    2|    0|          345764|     18| null|       S|\n",
      "|         40|       1|     3|Nicola-Yarred, Mi...|female| 14|    1|    0|            2651|11.2417| null|       C|\n",
      "|         42|       0|     2|Turpin, Mrs. Will...|female| 27|    1|    0|           11668|     21| null|       S|\n",
      "|         44|       1|     2|Laroche, Miss. Si...|female|  3|    1|    2|   SC/Paris 2123|41.5792| null|       C|\n",
      "|         45|       1|     3|Devaney, Miss. Ma...|female| 19|    0|    0|          330958| 7.8792| null|       Q|\n",
      "|         50|       0|     3|Arnold-Franchi, M...|female| 18|    1|    0|          349237|   17.8| null|       S|\n",
      "|         54|       1|     2|Faunthorpe, Mrs. ...|female| 29|    1|    0|            2926|     26| null|       S|\n",
      "|         57|       1|     2|   Rugg, Miss. Emily|female| 21|    0|    0|      C.A. 31026|   10.5| null|       S|\n",
      "|         59|       1|     2|West, Miss. Const...|female|  5|    1|    2|      C.A. 34651|  27.75| null|       S|\n",
      "|         67|       1|     2|Nye, Mrs. (Elizab...|female| 29|    0|    0|      C.A. 29395|   10.5|  F33|       S|\n",
      "|         69|       1|     3|Andersson, Miss. ...|female| 17|    4|    2|         3101281|  7.925| null|       S|\n",
      "|         72|       0|     3|Goodwin, Miss. Li...|female| 16|    5|    2|         CA 2144|   46.9| null|       S|\n",
      "|         80|       1|     3|Dowdell, Miss. El...|female| 30|    0|    0|          364516| 12.475| null|       S|\n",
      "+-----------+--------+------+--------------------+------+---+-----+-----+----------------+-------+-----+--------+\n",
      "only showing top 20 rows\n",
      "\n"
     ]
    }
   ],
   "source": [
    "df2.filter(~(df['Age'] > 30) & ~(df['Sex'] == 'male')).show()"
   ]
  },
  {
   "cell_type": "markdown",
   "id": "b6d44ffe-9185-46fb-8e63-f57bd65ea382",
   "metadata": {},
   "source": [
    "# groupby 연산하기\n",
    "* .groupby('컬럼명').연산함수(sum, mean, max, min)"
   ]
  },
  {
   "cell_type": "code",
   "execution_count": 330,
   "id": "42920d13-5ea2-48c6-b7f3-3b598987a2bd",
   "metadata": {},
   "outputs": [
    {
     "name": "stdout",
     "output_type": "stream",
     "text": [
      "+----+--------+\n",
      "| Age|min(Age)|\n",
      "+----+--------+\n",
      "|  31|      31|\n",
      "|  65|      65|\n",
      "|  53|      53|\n",
      "|  34|      34|\n",
      "|  28|      28|\n",
      "|  26|      26|\n",
      "|  27|      27|\n",
      "|  44|      44|\n",
      "|  12|      12|\n",
      "|  22|      22|\n",
      "|  47|      47|\n",
      "|null|    null|\n",
      "|   1|       1|\n",
      "|  52|      52|\n",
      "|  13|      13|\n",
      "|  16|      16|\n",
      "|   6|       6|\n",
      "|   3|       3|\n",
      "|  20|      20|\n",
      "|  40|      40|\n",
      "+----+--------+\n",
      "only showing top 20 rows\n",
      "\n"
     ]
    }
   ],
   "source": [
    "df2.groupby('Age').min().show()"
   ]
  },
  {
   "cell_type": "markdown",
   "id": "dc4cf1d3-7e18-4391-92a0-dacb32f03910",
   "metadata": {},
   "source": [
    "# groupby 후 컬럼별 다른 연산 적용하기\n",
    ".agg({'컬럼명' : '연산함수', '컬럼명2' : '연산함수2}).show()"
   ]
  },
  {
   "cell_type": "code",
   "execution_count": 339,
   "id": "662c5943-74c5-410d-abe6-2883b9ca19bc",
   "metadata": {},
   "outputs": [
    {
     "name": "stdout",
     "output_type": "stream",
     "text": [
      "+---------------+------------------+\n",
      "|count(Embarked)|          avg(Age)|\n",
      "+---------------+------------------+\n",
      "|            889|29.679271708683473|\n",
      "+---------------+------------------+\n",
      "\n"
     ]
    }
   ],
   "source": [
    "df2.agg({'Age' : 'mean', 'Embarked' : 'count'}).show()"
   ]
  },
  {
   "cell_type": "code",
   "execution_count": 335,
   "id": "199e645f-6cf5-49af-aca0-8b9eb2f1f1f1",
   "metadata": {},
   "outputs": [
    {
     "name": "stdout",
     "output_type": "stream",
     "text": [
      "+------------------+--------+--------+\n",
      "|          avg(Age)|max(Age)|min(Age)|\n",
      "+------------------+--------+--------+\n",
      "|29.679271708683473|      80|       0|\n",
      "+------------------+--------+--------+\n",
      "\n"
     ]
    }
   ],
   "source": [
    "df2.agg(f.mean(df2['Age']), f.max(df2['Age']), f.min(df2['Age'])).show()"
   ]
  },
  {
   "cell_type": "code",
   "execution_count": 341,
   "id": "3fdfd704-da43-4485-be8a-2407ed48ed07",
   "metadata": {},
   "outputs": [
    {
     "name": "stdout",
     "output_type": "stream",
     "text": [
      "+------+------+-------------+\n",
      "|   Sex|Pclass|sum(Survived)|\n",
      "+------+------+-------------+\n",
      "|female|     3|         72.0|\n",
      "|  male|     2|         17.0|\n",
      "|female|     1|         91.0|\n",
      "|  male|     1|         45.0|\n",
      "|  male|     3|         47.0|\n",
      "|female|     2|         70.0|\n",
      "+------+------+-------------+\n",
      "\n"
     ]
    }
   ],
   "source": [
    "# 성별별, Pclass별 생존자 수 구하기\n",
    "df2.groupby('Sex', 'Pclass').agg({'Survived' : 'sum'}).show()"
   ]
  },
  {
   "cell_type": "code",
   "execution_count": 406,
   "id": "0b34b2eb-3826-46e4-b7f3-de6d59ca97af",
   "metadata": {},
   "outputs": [
    {
     "name": "stderr",
     "output_type": "stream",
     "text": [
      "[Stage 286:>                                                        (0 + 1) / 1]\r"
     ]
    },
    {
     "name": "stdout",
     "output_type": "stream",
     "text": [
      "+--------+------+------+----+-------+-----+--------+------+\n",
      "|Survived|Pclass|   Sex| Age|   Fare|Cabin|Embarked|family|\n",
      "+--------+------+------+----+-------+-----+--------+------+\n",
      "|       0|     3|  male|  22|   7.25| null|       S|     1|\n",
      "|       1|     1|female|  38|71.2833|  C85|       C|     1|\n",
      "|       1|     3|female|  26|  7.925| null|       S|     0|\n",
      "|       1|     1|female|  35|   53.1| C123|       S|     1|\n",
      "|       0|     3|  male|  35|   8.05| null|       S|     0|\n",
      "|       0|     3|  male|null| 8.4583| null|       Q|     0|\n",
      "|       0|     1|  male|  54|51.8625|  E46|       S|     0|\n",
      "|       0|     3|  male|   2| 21.075| null|       S|     4|\n",
      "|       1|     3|female|  27|11.1333| null|       S|     2|\n",
      "|       1|     2|female|  14|30.0708| null|       C|     1|\n",
      "|       1|     3|female|   4|   16.7|   G6|       S|     2|\n",
      "|       1|     1|female|  58|  26.55| C103|       S|     0|\n",
      "|       0|     3|  male|  20|   8.05| null|       S|     0|\n",
      "|       0|     3|  male|  39| 31.275| null|       S|     6|\n",
      "|       0|     3|female|  14| 7.8542| null|       S|     0|\n",
      "|       1|     2|female|  55|   16.0| null|       S|     0|\n",
      "|       0|     3|  male|   2| 29.125| null|       Q|     5|\n",
      "|       1|     2|  male|null|   13.0| null|       S|     0|\n",
      "|       0|     3|female|  31|   18.0| null|       S|     1|\n",
      "|       1|     3|female|null|  7.225| null|       C|     0|\n",
      "+--------+------+------+----+-------+-----+--------+------+\n",
      "only showing top 20 rows\n",
      "\n"
     ]
    },
    {
     "name": "stderr",
     "output_type": "stream",
     "text": [
      "                                                                                \r"
     ]
    }
   ],
   "source": [
    "df.show()"
   ]
  },
  {
   "cell_type": "code",
   "execution_count": 408,
   "id": "8adaee68-5f0a-4b5e-8089-96e35d721042",
   "metadata": {},
   "outputs": [
    {
     "name": "stdout",
     "output_type": "stream",
     "text": [
      "+--------+------+------+----+--------+------+\n",
      "|Survived|Pclass|   Sex| Age|Embarked|family|\n",
      "+--------+------+------+----+--------+------+\n",
      "|       0|     3|  male|  22|       S|     1|\n",
      "|       1|     1|female|  38|       C|     1|\n",
      "|       1|     3|female|  26|       S|     0|\n",
      "|       1|     1|female|  35|       S|     1|\n",
      "|       0|     3|  male|  35|       S|     0|\n",
      "|       0|     3|  male|null|       Q|     0|\n",
      "|       0|     1|  male|  54|       S|     0|\n",
      "|       0|     3|  male|   2|       S|     4|\n",
      "|       1|     3|female|  27|       S|     2|\n",
      "|       1|     2|female|  14|       C|     1|\n",
      "|       1|     3|female|   4|       S|     2|\n",
      "|       1|     1|female|  58|       S|     0|\n",
      "|       0|     3|  male|  20|       S|     0|\n",
      "|       0|     3|  male|  39|       S|     6|\n",
      "|       0|     3|female|  14|       S|     0|\n",
      "|       1|     2|female|  55|       S|     0|\n",
      "|       0|     3|  male|   2|       Q|     5|\n",
      "|       1|     2|  male|null|       S|     0|\n",
      "|       0|     3|female|  31|       S|     1|\n",
      "|       1|     3|female|null|       C|     0|\n",
      "+--------+------+------+----+--------+------+\n",
      "only showing top 20 rows\n",
      "\n"
     ]
    }
   ],
   "source": [
    "df = df.drop('Fare', 'Cabin')\n",
    "df.show()"
   ]
  },
  {
   "cell_type": "code",
   "execution_count": 418,
   "id": "fc58381a-c73b-4681-96bf-73dd50f9a939",
   "metadata": {},
   "outputs": [],
   "source": [
    "df = df.na.fill(29, 'Age')"
   ]
  },
  {
   "cell_type": "code",
   "execution_count": 412,
   "id": "ff31635e-0277-4e5d-9062-21acd5bf1f36",
   "metadata": {},
   "outputs": [
    {
     "name": "stderr",
     "output_type": "stream",
     "text": [
      "                                                                                \r"
     ]
    },
    {
     "data": {
      "text/plain": [
       "Embarked\n",
       "S    644\n",
       "C    168\n",
       "Q     77\n",
       "Name: count, dtype: int64"
      ]
     },
     "execution_count": 412,
     "metadata": {},
     "output_type": "execute_result"
    }
   ],
   "source": [
    "df.toPandas()['Embarked'].value_counts()"
   ]
  },
  {
   "cell_type": "code",
   "execution_count": 414,
   "id": "f736b320-d797-4a29-afa3-889aff4f9cf6",
   "metadata": {},
   "outputs": [],
   "source": [
    "df = df.na.fill('S', 'Embarked')"
   ]
  },
  {
   "cell_type": "code",
   "execution_count": 419,
   "id": "2ebcbe4f-52ac-4b4e-8625-628135b21cf8",
   "metadata": {},
   "outputs": [
    {
     "name": "stdout",
     "output_type": "stream",
     "text": [
      "<class 'pandas.core.frame.DataFrame'>\n",
      "RangeIndex: 891 entries, 0 to 890\n",
      "Data columns (total 6 columns):\n",
      " #   Column    Non-Null Count  Dtype \n",
      "---  ------    --------------  ----- \n",
      " 0   Survived  891 non-null    int32 \n",
      " 1   Pclass    891 non-null    int32 \n",
      " 2   Sex       891 non-null    object\n",
      " 3   Age       891 non-null    int32 \n",
      " 4   Embarked  891 non-null    object\n",
      " 5   family    891 non-null    int32 \n",
      "dtypes: int32(4), object(2)\n",
      "memory usage: 28.0+ KB\n"
     ]
    }
   ],
   "source": [
    "df.toPandas().info()"
   ]
  },
  {
   "cell_type": "code",
   "execution_count": 420,
   "id": "9daf8919-3361-4334-8464-9a54944e5b9d",
   "metadata": {},
   "outputs": [
    {
     "name": "stdout",
     "output_type": "stream",
     "text": [
      "root\n",
      " |-- Survived: integer (nullable = true)\n",
      " |-- Pclass: integer (nullable = true)\n",
      " |-- Sex: string (nullable = true)\n",
      " |-- Age: integer (nullable = true)\n",
      " |-- Embarked: string (nullable = false)\n",
      " |-- family: integer (nullable = true)\n",
      "\n"
     ]
    }
   ],
   "source": [
    "df.printSchema()"
   ]
  },
  {
   "cell_type": "markdown",
   "id": "3998abf8-4708-48cb-aeb2-eccbc8706fd6",
   "metadata": {},
   "source": [
    "# 문자형 컬럼 레이블 인코딩 => 원핫인코딩 하기\n",
    "* spark에서는 원핫 인코딩을 문자에서 바로 할 수 없다.\n",
    "* StringIdexer -> OneHotEncoding 순서로 해야 함."
   ]
  },
  {
   "cell_type": "code",
   "execution_count": 428,
   "id": "05aa9687-9af6-402f-95a6-98a14922c60d",
   "metadata": {},
   "outputs": [],
   "source": [
    "# 레이블 인코딩 하기 scikit-learn의 label encoding과 같은 역할\n",
    "from pyspark.ml.feature import StringIndexer\n",
    "indexer = StringIndexer(inputCols=['Sex', 'Embarked'], outputCols=[\"SexIndex\", \"EmbarkedIndex\"])\n",
    "indexed = indexer.fit(df).transform(df)"
   ]
  },
  {
   "cell_type": "code",
   "execution_count": 429,
   "id": "289ead37-010a-4f1c-82dc-7e27c152da04",
   "metadata": {},
   "outputs": [
    {
     "name": "stdout",
     "output_type": "stream",
     "text": [
      "+--------+------+------+---+--------+------+--------+-------------+\n",
      "|Survived|Pclass|   Sex|Age|Embarked|family|SexIndex|EmbarkedIndex|\n",
      "+--------+------+------+---+--------+------+--------+-------------+\n",
      "|       0|     3|  male| 22|       S|     1|     0.0|          0.0|\n",
      "|       1|     1|female| 38|       C|     1|     1.0|          1.0|\n",
      "|       1|     3|female| 26|       S|     0|     1.0|          0.0|\n",
      "|       1|     1|female| 35|       S|     1|     1.0|          0.0|\n",
      "|       0|     3|  male| 35|       S|     0|     0.0|          0.0|\n",
      "|       0|     3|  male| 29|       Q|     0|     0.0|          2.0|\n",
      "|       0|     1|  male| 54|       S|     0|     0.0|          0.0|\n",
      "|       0|     3|  male|  2|       S|     4|     0.0|          0.0|\n",
      "|       1|     3|female| 27|       S|     2|     1.0|          0.0|\n",
      "|       1|     2|female| 14|       C|     1|     1.0|          1.0|\n",
      "|       1|     3|female|  4|       S|     2|     1.0|          0.0|\n",
      "|       1|     1|female| 58|       S|     0|     1.0|          0.0|\n",
      "|       0|     3|  male| 20|       S|     0|     0.0|          0.0|\n",
      "|       0|     3|  male| 39|       S|     6|     0.0|          0.0|\n",
      "|       0|     3|female| 14|       S|     0|     1.0|          0.0|\n",
      "|       1|     2|female| 55|       S|     0|     1.0|          0.0|\n",
      "|       0|     3|  male|  2|       Q|     5|     0.0|          2.0|\n",
      "|       1|     2|  male| 29|       S|     0|     0.0|          0.0|\n",
      "|       0|     3|female| 31|       S|     1|     1.0|          0.0|\n",
      "|       1|     3|female| 29|       C|     0|     1.0|          1.0|\n",
      "+--------+------+------+---+--------+------+--------+-------------+\n",
      "only showing top 20 rows\n",
      "\n"
     ]
    }
   ],
   "source": [
    "indexed.show()"
   ]
  },
  {
   "cell_type": "code",
   "execution_count": null,
   "id": "742e9061-a950-47a1-be3a-5d398dcb0d4d",
   "metadata": {},
   "outputs": [],
   "source": []
  },
  {
   "cell_type": "code",
   "execution_count": 430,
   "id": "11459be8-ce4f-4287-b75f-fda6927f0ea2",
   "metadata": {},
   "outputs": [],
   "source": [
    "# 원핫인코딩 하기\n",
    "from pyspark.ml.feature import OneHotEncoder\n",
    "encoder = OneHotEncoder(inputCols=[\"SexIndex\", \"EmbarkedIndex\"], outputCols=['Sex_vec', 'Embarked_vec'])\n",
    "one_hot = encoder.fit(indexed).transform(indexed)"
   ]
  },
  {
   "cell_type": "code",
   "execution_count": 431,
   "id": "c5e3c891-0320-46a1-bd29-5ab16f88c0d5",
   "metadata": {},
   "outputs": [
    {
     "name": "stderr",
     "output_type": "stream",
     "text": [
      "[Stage 306:>                                                        (0 + 1) / 1]\r"
     ]
    },
    {
     "name": "stdout",
     "output_type": "stream",
     "text": [
      "+--------+------+------+---+--------+------+--------+-------------+-------------+-------------+\n",
      "|Survived|Pclass|   Sex|Age|Embarked|family|SexIndex|EmbarkedIndex|      Sex_vec| Embarked_vec|\n",
      "+--------+------+------+---+--------+------+--------+-------------+-------------+-------------+\n",
      "|       0|     3|  male| 22|       S|     1|     0.0|          0.0|(1,[0],[1.0])|(2,[0],[1.0])|\n",
      "|       1|     1|female| 38|       C|     1|     1.0|          1.0|    (1,[],[])|(2,[1],[1.0])|\n",
      "|       1|     3|female| 26|       S|     0|     1.0|          0.0|    (1,[],[])|(2,[0],[1.0])|\n",
      "|       1|     1|female| 35|       S|     1|     1.0|          0.0|    (1,[],[])|(2,[0],[1.0])|\n",
      "|       0|     3|  male| 35|       S|     0|     0.0|          0.0|(1,[0],[1.0])|(2,[0],[1.0])|\n",
      "|       0|     3|  male| 29|       Q|     0|     0.0|          2.0|(1,[0],[1.0])|    (2,[],[])|\n",
      "|       0|     1|  male| 54|       S|     0|     0.0|          0.0|(1,[0],[1.0])|(2,[0],[1.0])|\n",
      "|       0|     3|  male|  2|       S|     4|     0.0|          0.0|(1,[0],[1.0])|(2,[0],[1.0])|\n",
      "|       1|     3|female| 27|       S|     2|     1.0|          0.0|    (1,[],[])|(2,[0],[1.0])|\n",
      "|       1|     2|female| 14|       C|     1|     1.0|          1.0|    (1,[],[])|(2,[1],[1.0])|\n",
      "|       1|     3|female|  4|       S|     2|     1.0|          0.0|    (1,[],[])|(2,[0],[1.0])|\n",
      "|       1|     1|female| 58|       S|     0|     1.0|          0.0|    (1,[],[])|(2,[0],[1.0])|\n",
      "|       0|     3|  male| 20|       S|     0|     0.0|          0.0|(1,[0],[1.0])|(2,[0],[1.0])|\n",
      "|       0|     3|  male| 39|       S|     6|     0.0|          0.0|(1,[0],[1.0])|(2,[0],[1.0])|\n",
      "|       0|     3|female| 14|       S|     0|     1.0|          0.0|    (1,[],[])|(2,[0],[1.0])|\n",
      "|       1|     2|female| 55|       S|     0|     1.0|          0.0|    (1,[],[])|(2,[0],[1.0])|\n",
      "|       0|     3|  male|  2|       Q|     5|     0.0|          2.0|(1,[0],[1.0])|    (2,[],[])|\n",
      "|       1|     2|  male| 29|       S|     0|     0.0|          0.0|(1,[0],[1.0])|(2,[0],[1.0])|\n",
      "|       0|     3|female| 31|       S|     1|     1.0|          0.0|    (1,[],[])|(2,[0],[1.0])|\n",
      "|       1|     3|female| 29|       C|     0|     1.0|          1.0|    (1,[],[])|(2,[1],[1.0])|\n",
      "+--------+------+------+---+--------+------+--------+-------------+-------------+-------------+\n",
      "only showing top 20 rows\n",
      "\n"
     ]
    },
    {
     "name": "stderr",
     "output_type": "stream",
     "text": [
      "                                                                                \r"
     ]
    }
   ],
   "source": [
    "one_hot.show()"
   ]
  },
  {
   "cell_type": "code",
   "execution_count": 434,
   "id": "60223f5d-5a9a-4d86-80be-dd4fa3c0c88d",
   "metadata": {},
   "outputs": [],
   "source": [
    "one_hot = one_hot.drop('Sex', 'Embarked', 'SexIndex', 'EmbarkedIndex')"
   ]
  },
  {
   "cell_type": "markdown",
   "id": "7c75c12c-78f1-4291-99e4-72963257ce53",
   "metadata": {},
   "source": [
    "# 종속 변수 인덱싱, 독립변수 인덱싱"
   ]
  },
  {
   "cell_type": "code",
   "execution_count": null,
   "id": "5baf566d-b30e-4fb2-9c2d-bbecac00dfec",
   "metadata": {},
   "outputs": [],
   "source": []
  },
  {
   "cell_type": "code",
   "execution_count": null,
   "id": "11fbbb85-162d-4de2-9bf1-7b03c611045a",
   "metadata": {},
   "outputs": [],
   "source": []
  },
  {
   "cell_type": "code",
   "execution_count": null,
   "id": "9c2723f9-8579-4dc9-a316-beb848279322",
   "metadata": {},
   "outputs": [],
   "source": []
  },
  {
   "cell_type": "code",
   "execution_count": null,
   "id": "d7f2160b-c0f1-4a86-a04d-c98ee455c750",
   "metadata": {},
   "outputs": [],
   "source": []
  },
  {
   "cell_type": "code",
   "execution_count": null,
   "id": "5b061252-456a-40ac-897b-e5d1750dd994",
   "metadata": {},
   "outputs": [],
   "source": []
  },
  {
   "cell_type": "code",
   "execution_count": null,
   "id": "01853e0e-448b-4a50-bf60-2566779afff7",
   "metadata": {},
   "outputs": [],
   "source": []
  }
 ],
 "metadata": {
  "kernelspec": {
   "display_name": "Python 3 (ipykernel)",
   "language": "python",
   "name": "python3"
  },
  "language_info": {
   "codemirror_mode": {
    "name": "ipython",
    "version": 3
   },
   "file_extension": ".py",
   "mimetype": "text/x-python",
   "name": "python",
   "nbconvert_exporter": "python",
   "pygments_lexer": "ipython3",
   "version": "3.11.5"
  }
 },
 "nbformat": 4,
 "nbformat_minor": 5
}
