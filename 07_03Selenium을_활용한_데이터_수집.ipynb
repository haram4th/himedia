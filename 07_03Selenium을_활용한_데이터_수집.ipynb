{
 "cells": [
  {
   "cell_type": "markdown",
   "id": "f3f8dd77",
   "metadata": {
    "id": "f3f8dd77"
   },
   "source": [
    "# 1. Selenium 이란?"
   ]
  },
  {
   "cell_type": "markdown",
   "id": "6fd46381",
   "metadata": {
    "id": "6fd46381"
   },
   "source": [
    "* 웹브라우저를 자동으로 제어하는 라이브러리\n",
    "* 본래 다양한 웹브라우저를 사용한 웹 사이트 자동 테스트 도구\n",
    "* 현재는 웹브라우저를 자동 제어하여 동적 웹사이트에서 정보를 가져오는 용도로도 많이 활용"
   ]
  },
  {
   "cell_type": "markdown",
   "id": "45f14807",
   "metadata": {
    "id": "45f14807"
   },
   "source": [
    "# 2. 정적 웹 사이트 vs 동적 웹 사이트\n",
    "* 정적 웹 사이트(Static website): HTML 페이지 안에 웹 브라우저에 표시되는 모든 정보가 포함된 사이트\n",
    " * requests 라이브러리를 활용해서 정보 추출 가능\n",
    "* 동적 웹 사이트(Dynamic website): Java Script를 사용하여 상황에 따라 필요한 정보를 불러와 표시하는 웹 사이트\n",
    " * 상황에 맞추어 자바스크립트를 활용해 서버에 정보를 다시 요청하는 형식이라 requests로는 정보 추출 불가능\n",
    " * selenium으로 웹브라우저를 조작해 원하는 정보가 다 표시 된 후 정보 추출 필요"
   ]
  },
  {
   "cell_type": "markdown",
   "id": "b6a288b8",
   "metadata": {
    "id": "b6a288b8"
   },
   "source": [
    "# 3. Selenium 웹사이트\n",
    "[Selenium website](https://www.selenium.dev/documentation/webdriver/)"
   ]
  },
  {
   "cell_type": "markdown",
   "id": "8e06f31f",
   "metadata": {
    "id": "8e06f31f"
   },
   "source": [
    "# 4. Selenium 설치"
   ]
  },
  {
   "cell_type": "code",
   "execution_count": 1,
   "id": "2e49dc99",
   "metadata": {
    "colab": {
     "base_uri": "https://localhost:8080/"
    },
    "id": "2e49dc99",
    "outputId": "3dc0c400-da34-4cb2-8f33-dd904e7bf1ea"
   },
   "outputs": [
    {
     "name": "stdout",
     "output_type": "stream",
     "text": [
      "Requirement already satisfied: selenium in c:\\users\\hi\\anaconda3\\lib\\site-packages (4.12.0)\n",
      "Requirement already satisfied: urllib3[socks]<3,>=1.26 in c:\\users\\hi\\anaconda3\\lib\\site-packages (from selenium) (1.26.16)\n",
      "Requirement already satisfied: trio~=0.17 in c:\\users\\hi\\anaconda3\\lib\\site-packages (from selenium) (0.22.2)\n",
      "Requirement already satisfied: trio-websocket~=0.9 in c:\\users\\hi\\anaconda3\\lib\\site-packages (from selenium) (0.10.4)\n",
      "Requirement already satisfied: certifi>=2021.10.8 in c:\\users\\hi\\anaconda3\\lib\\site-packages (from selenium) (2023.7.22)\n",
      "Requirement already satisfied: attrs>=20.1.0 in c:\\users\\hi\\anaconda3\\lib\\site-packages (from trio~=0.17->selenium) (22.1.0)\n",
      "Requirement already satisfied: sortedcontainers in c:\\users\\hi\\anaconda3\\lib\\site-packages (from trio~=0.17->selenium) (2.4.0)\n",
      "Requirement already satisfied: idna in c:\\users\\hi\\anaconda3\\lib\\site-packages (from trio~=0.17->selenium) (3.4)\n",
      "Requirement already satisfied: outcome in c:\\users\\hi\\anaconda3\\lib\\site-packages (from trio~=0.17->selenium) (1.2.0)\n",
      "Requirement already satisfied: sniffio in c:\\users\\hi\\anaconda3\\lib\\site-packages (from trio~=0.17->selenium) (1.2.0)\n",
      "Requirement already satisfied: cffi>=1.14 in c:\\users\\hi\\anaconda3\\lib\\site-packages (from trio~=0.17->selenium) (1.15.1)\n",
      "Requirement already satisfied: exceptiongroup in c:\\users\\hi\\anaconda3\\lib\\site-packages (from trio-websocket~=0.9->selenium) (1.1.3)\n",
      "Requirement already satisfied: wsproto>=0.14 in c:\\users\\hi\\anaconda3\\lib\\site-packages (from trio-websocket~=0.9->selenium) (1.2.0)\n",
      "Requirement already satisfied: PySocks!=1.5.7,<2.0,>=1.5.6 in c:\\users\\hi\\anaconda3\\lib\\site-packages (from urllib3[socks]<3,>=1.26->selenium) (1.7.1)\n",
      "Requirement already satisfied: pycparser in c:\\users\\hi\\anaconda3\\lib\\site-packages (from cffi>=1.14->trio~=0.17->selenium) (2.21)\n",
      "Requirement already satisfied: h11<1,>=0.9.0 in c:\\users\\hi\\anaconda3\\lib\\site-packages (from wsproto>=0.14->trio-websocket~=0.9->selenium) (0.14.0)\n",
      "Requirement already satisfied: webdriver-manager in c:\\users\\hi\\anaconda3\\lib\\site-packages (4.0.0)\n",
      "Requirement already satisfied: requests in c:\\users\\hi\\anaconda3\\lib\\site-packages (from webdriver-manager) (2.31.0)\n",
      "Requirement already satisfied: python-dotenv in c:\\users\\hi\\anaconda3\\lib\\site-packages (from webdriver-manager) (1.0.0)\n",
      "Requirement already satisfied: packaging in c:\\users\\hi\\anaconda3\\lib\\site-packages (from webdriver-manager) (23.0)\n",
      "Requirement already satisfied: charset-normalizer<4,>=2 in c:\\users\\hi\\anaconda3\\lib\\site-packages (from requests->webdriver-manager) (2.0.4)\n",
      "Requirement already satisfied: idna<4,>=2.5 in c:\\users\\hi\\anaconda3\\lib\\site-packages (from requests->webdriver-manager) (3.4)\n",
      "Requirement already satisfied: urllib3<3,>=1.21.1 in c:\\users\\hi\\anaconda3\\lib\\site-packages (from requests->webdriver-manager) (1.26.16)\n",
      "Requirement already satisfied: certifi>=2017.4.17 in c:\\users\\hi\\anaconda3\\lib\\site-packages (from requests->webdriver-manager) (2023.7.22)\n",
      "Requirement already satisfied: lxml in c:\\users\\hi\\anaconda3\\lib\\site-packages (4.9.2)\n"
     ]
    }
   ],
   "source": [
    "!pip install selenium\n",
    "!pip install webdriver-manager\n",
    "!pip install lxml"
   ]
  },
  {
   "cell_type": "markdown",
   "id": "b286013f",
   "metadata": {
    "id": "b286013f"
   },
   "source": [
    "# 5. WebDriver Manager 및 WebDriver 설치\n",
    "* [webdriver manager 설치](https://github.com/SergeyPirogov/webdriver_manager)"
   ]
  },
  {
   "cell_type": "code",
   "execution_count": 2,
   "id": "ny7xraqlPr8i",
   "metadata": {
    "colab": {
     "base_uri": "https://localhost:8080/"
    },
    "id": "ny7xraqlPr8i",
    "outputId": "0e6fde91-4090-4fe2-9043-ed7b3db2d96c"
   },
   "outputs": [
    {
     "name": "stdout",
     "output_type": "stream",
     "text": [
      "4.12.0\n"
     ]
    }
   ],
   "source": [
    "import selenium\n",
    "print(selenium.__version__)"
   ]
  },
  {
   "cell_type": "code",
   "execution_count": 3,
   "id": "M7aYMgqHTMzB",
   "metadata": {
    "colab": {
     "base_uri": "https://localhost:8080/",
     "height": 406
    },
    "id": "M7aYMgqHTMzB",
    "outputId": "25691ab3-caa8-4d42-bfa3-a95e98a74584",
    "scrolled": true
   },
   "outputs": [],
   "source": [
    "# selenium 4\n",
    "# from selenium import webdriver\n",
    "# from selenium.webdriver.chrome.service import Service as ChromiumService\n",
    "# from webdriver_manager.chrome import ChromeDriverManager\n",
    "# from webdriver_manager.core.utils import ChromeType\n",
    "\n",
    "# driver = webdriver.Chrome(service=ChromiumService(ChromeDriverManager(chrome_type=ChromeType.CHROMIUM).install()))"
   ]
  },
  {
   "cell_type": "code",
   "execution_count": 4,
   "id": "91d99b92",
   "metadata": {
    "id": "91d99b92"
   },
   "outputs": [],
   "source": [
    "from selenium import webdriver\n",
    "from webdriver_manager.chrome import ChromeDriverManager\n",
    "from selenium.webdriver.chrome.service import Service as ChromeService\n",
    "from selenium.webdriver.common.keys import Keys\n",
    "from selenium.webdriver.common.by import By\n",
    "from bs4 import BeautifulSoup as bs\n",
    "from tqdm import tqdm\n",
    "import time\n",
    "import lxml"
   ]
  },
  {
   "cell_type": "code",
   "execution_count": 5,
   "id": "f7964f4c",
   "metadata": {
    "colab": {
     "base_uri": "https://localhost:8080/",
     "height": 725
    },
    "id": "f7964f4c",
    "outputId": "cbaed0f0-43c9-491f-de77-9c641e90e27e"
   },
   "outputs": [],
   "source": [
    "# 크롬 옵션즈에 User-Agent, lang 같은 정보를 담아 셀레니움을 이용한 크롤링이 아닌 것 처럼 만들기\n",
    "# options = webdriver.ChromeOptions()\n",
    "# options.add_experimental_option(\"excludeSwitches\", [\"enable-logging\"])\n",
    "# options.add_argument('Mozilla/5.0 (Windows NT 10.0; Win64; x64) AppleWebKit/537.36 (KHTML, like Gecko) Chrome/107.0.0.0 Safari/537.36')\n",
    "# options.add_argument(\"lang=ko_KR\")\n",
    "\n",
    "# 웹드라이버를 버전에 맞게 자동으로 다운 받고 옵션을 추가해 줌\n",
    "driver = webdriver.Chrome(service=ChromeService(ChromeDriverManager().install()))\n",
    "# driver = webdriver.Chrome(ChromeDriverManager().install())\n",
    "driver.set_window_size(1920,1080)   # 웹브라우저 해상도 조절\n",
    "\n",
    "driver.get(\"https://search.shopping.naver.com/book/home\")  # 크롤링 할 웹사이트 주소"
   ]
  },
  {
   "cell_type": "code",
   "execution_count": 6,
   "id": "9f3590aa",
   "metadata": {
    "id": "9f3590aa"
   },
   "outputs": [],
   "source": [
    "# 네이버 쇼핑에서 오른쪽 끝의 도서검색창을 찾아 검색어 입력\n",
    "# search_box = driver.find_element(By.XPATH, '//*[@id=\"lnb\"]/div/div[2]/div/div/form/input')\n",
    "search_box = driver.find_element(By.CSS_SELECTOR, \"div._lnbSearch_inner_2EgO1 > form > input\")\n",
    "search_box.send_keys(\"파이썬\"+ Keys.ENTER)"
   ]
  },
  {
   "cell_type": "code",
   "execution_count": 7,
   "id": "51b815af",
   "metadata": {
    "id": "51b815af"
   },
   "outputs": [
    {
     "name": "stderr",
     "output_type": "stream",
     "text": [
      "100%|██████████████████████████████████████████████████████████████████████████████████| 19/19 [02:24<00:00,  7.63s/it]\n"
     ]
    }
   ],
   "source": [
    "# 검색되어 나온 결과는 스크롤을 아래로 내려야 한 페이지에 40개의 결과가 노출\n",
    "\n",
    "all_bookList = []\n",
    "for page in tqdm(range(1,20)):   # 반복문을 이용해 1000px씩 스크롤을 7번 내리도록 해서 전체 페이지 로딩\n",
    "    y = 0\n",
    "    y_step = 1000\n",
    "    for i in range(1,8):\n",
    "        y = y + y_step\n",
    "        script = \"window.scrollTo({0},{1})\".format(0,y)    # 자바스크립트로 위치 지정\n",
    "        driver.execute_script(script)                      # 스크롤 실행\n",
    "        time.sleep(1)\n",
    "    page_html = driver.page_source          # 페이지 끝에서 40개의 책이 로딩된 결과를 저장\n",
    "    soup = bs(page_html, \"html.parser\")     # beautifulsoup으로 html을 parsing\n",
    "    all_bookList.append(soup)               # parsing된 결과를 all_bookList에 저장\n",
    "    driver.find_element(By.CSS_SELECTOR, \"div.Paginator_list_paging__OTDcR > button.Paginator_btn_next__0pdVd\").click()  # 다음페이지 넘김 버튼 클릭\n"
   ]
  },
  {
   "cell_type": "code",
   "execution_count": 8,
   "id": "ccec0d9a",
   "metadata": {
    "id": "ccec0d9a"
   },
   "outputs": [],
   "source": [
    "driver.close()"
   ]
  },
  {
   "cell_type": "code",
   "execution_count": 9,
   "id": "8c5a8a59",
   "metadata": {
    "id": "8c5a8a59",
    "scrolled": false
   },
   "outputs": [
    {
     "data": {
      "text/plain": [
       "40"
      ]
     },
     "execution_count": 9,
     "metadata": {},
     "output_type": "execute_result"
    }
   ],
   "source": [
    "len(all_bookList[0].select_one(\"#book_list > ul.list_book\").select(\"li\"))"
   ]
  },
  {
   "cell_type": "code",
   "execution_count": 10,
   "id": "f51cfc68",
   "metadata": {
    "id": "f51cfc68"
   },
   "outputs": [],
   "source": [
    "import pandas as pd"
   ]
  },
  {
   "cell_type": "code",
   "execution_count": 11,
   "id": "67bd3fff",
   "metadata": {
    "id": "67bd3fff"
   },
   "outputs": [
    {
     "name": "stderr",
     "output_type": "stream",
     "text": [
      "100%|█████████████████████████████████████████████████████████████████████████████████| 40/40 [00:00<00:00, 526.91it/s]\n",
      "100%|█████████████████████████████████████████████████████████████████████████████████| 40/40 [00:00<00:00, 483.31it/s]\n",
      "100%|█████████████████████████████████████████████████████████████████████████████████| 40/40 [00:00<00:00, 503.61it/s]\n",
      "100%|█████████████████████████████████████████████████████████████████████████████████| 40/40 [00:00<00:00, 531.27it/s]\n",
      "100%|█████████████████████████████████████████████████████████████████████████████████| 40/40 [00:00<00:00, 521.08it/s]\n",
      "100%|█████████████████████████████████████████████████████████████████████████████████| 40/40 [00:00<00:00, 497.30it/s]\n",
      "100%|█████████████████████████████████████████████████████████████████████████████████| 40/40 [00:00<00:00, 500.38it/s]\n",
      "100%|█████████████████████████████████████████████████████████████████████████████████| 40/40 [00:00<00:00, 501.87it/s]\n",
      "100%|█████████████████████████████████████████████████████████████████████████████████| 40/40 [00:00<00:00, 468.21it/s]\n",
      "100%|█████████████████████████████████████████████████████████████████████████████████| 40/40 [00:00<00:00, 503.44it/s]\n",
      "100%|█████████████████████████████████████████████████████████████████████████████████| 40/40 [00:00<00:00, 514.68it/s]\n",
      "100%|█████████████████████████████████████████████████████████████████████████████████| 40/40 [00:00<00:00, 524.45it/s]\n",
      "100%|█████████████████████████████████████████████████████████████████████████████████| 40/40 [00:00<00:00, 498.87it/s]\n",
      "100%|█████████████████████████████████████████████████████████████████████████████████| 40/40 [00:00<00:00, 501.48it/s]\n",
      "100%|█████████████████████████████████████████████████████████████████████████████████| 40/40 [00:00<00:00, 511.86it/s]\n",
      "100%|█████████████████████████████████████████████████████████████████████████████████| 40/40 [00:00<00:00, 500.11it/s]\n",
      "100%|█████████████████████████████████████████████████████████████████████████████████| 40/40 [00:00<00:00, 505.35it/s]\n",
      "100%|█████████████████████████████████████████████████████████████████████████████████| 40/40 [00:00<00:00, 521.40it/s]\n",
      "100%|█████████████████████████████████████████████████████████████████████████████████| 40/40 [00:00<00:00, 506.68it/s]\n"
     ]
    }
   ],
   "source": [
    "result2 = pd.DataFrame()\n",
    "\n",
    "# for page in all_bookList:\n",
    "#     for book in book_list2:\n",
    "for page in all_bookList:\n",
    "    for book in tqdm(page.select_one(\"#book_list > ul.list_book\").select(\"li\")):\n",
    "        title = book.select_one(\"span.bookListItem_text__bglOw\").text\n",
    "        ranking = book.select_one(\"div.bookListItem_feature__txTlp\").text if book.select_one(\"div.bookListItem_feature__txTlp\") != None else \"None\"\n",
    "        author = book.select_one(\"span.bookListItem_define_data__kKD8t\").text if book.select_one(\"span.bookListItem_define_data__kKD8t\") != None else \"None\"\n",
    "        pubulisher = book.select_one(\"div.bookListItem_detail_publish__FgPYQ > span.bookListItem_define_data__kKD8t\").text if book.select_one(\"div.bookListItem_detail_publish__FgPYQ > span.bookListItem_define_data__kKD8t\") != None else \"None\"\n",
    "        starpoint = book.select_one(\"div.bookListItem_grade__tywh2\").text[2:5] if book.select_one(\"div.bookListItem_grade__tywh2\") != None else \"0\"\n",
    "        n_reviews = book.select_one(\"div.bookListItem_grade__tywh2\").text[6:].strip(\"() \") if book.select_one(\"div.bookListItem_grade__tywh2\") != None else \"0\"\n",
    "        price = book.select_one(\"em\").text if book.select_one(\"em\") != None else \"0\"\n",
    "        temp = dict(제목 = [title], 랭킹 = [ranking] , 저자 = [author], 출판사 = [pubulisher],\n",
    "                    평점 = [starpoint], 리뷰수 = [n_reviews], 가격 = [price])\n",
    "        temp_df = pd.DataFrame(temp)\n",
    "#         display(temp_df)\n",
    "        result2 = pd.concat([result2, temp_df])\n",
    "\n"
   ]
  },
  {
   "cell_type": "code",
   "execution_count": 12,
   "id": "ac75f94c",
   "metadata": {
    "id": "ac75f94c",
    "scrolled": true
   },
   "outputs": [],
   "source": [
    "result2.reset_index(drop=True, inplace=True)"
   ]
  },
  {
   "cell_type": "code",
   "execution_count": 13,
   "id": "9a9ef9b6",
   "metadata": {
    "id": "9a9ef9b6",
    "scrolled": true
   },
   "outputs": [
    {
     "data": {
      "text/html": [
       "<div>\n",
       "<style scoped>\n",
       "    .dataframe tbody tr th:only-of-type {\n",
       "        vertical-align: middle;\n",
       "    }\n",
       "\n",
       "    .dataframe tbody tr th {\n",
       "        vertical-align: top;\n",
       "    }\n",
       "\n",
       "    .dataframe thead th {\n",
       "        text-align: right;\n",
       "    }\n",
       "</style>\n",
       "<table border=\"1\" class=\"dataframe\">\n",
       "  <thead>\n",
       "    <tr style=\"text-align: right;\">\n",
       "      <th></th>\n",
       "      <th>제목</th>\n",
       "      <th>랭킹</th>\n",
       "      <th>저자</th>\n",
       "      <th>출판사</th>\n",
       "      <th>평점</th>\n",
       "      <th>리뷰수</th>\n",
       "      <th>가격</th>\n",
       "    </tr>\n",
       "  </thead>\n",
       "  <tbody>\n",
       "    <tr>\n",
       "      <th>0</th>\n",
       "      <td>두근두근 파이썬 (만들면서 배우는)</td>\n",
       "      <td>컴퓨터/IT 87위</td>\n",
       "      <td>천인국</td>\n",
       "      <td>생능출판</td>\n",
       "      <td>4.8</td>\n",
       "      <td>4</td>\n",
       "      <td>23,750</td>\n",
       "    </tr>\n",
       "    <tr>\n",
       "      <th>1</th>\n",
       "      <td>코딩 뇌를 깨우는 파이썬 (문제 해결 능력을 키우는 컴퓨팅 사고부터 알고리즘, 데이...</td>\n",
       "      <td>컴퓨터/IT 97위</td>\n",
       "      <td>존 V. 구태그</td>\n",
       "      <td>한빛미디어</td>\n",
       "      <td>0</td>\n",
       "      <td>0</td>\n",
       "      <td>31,500</td>\n",
       "    </tr>\n",
       "    <tr>\n",
       "      <th>2</th>\n",
       "      <td>Do it! 점프 투 파이썬 (중학생도 첫날부터 실습하는 초고속 입문서)</td>\n",
       "      <td>컴퓨터/IT 4위</td>\n",
       "      <td>박응용</td>\n",
       "      <td>이지스퍼블리싱</td>\n",
       "      <td>4.9</td>\n",
       "      <td>50</td>\n",
       "      <td>19,800</td>\n",
       "    </tr>\n",
       "    <tr>\n",
       "      <th>3</th>\n",
       "      <td>파이썬 클린 코드 (유지보수가 쉬운 파이썬 코드를 만드는 비결)</td>\n",
       "      <td>컴퓨터/IT 122위</td>\n",
       "      <td>마리아노 아나야</td>\n",
       "      <td>터닝포인트</td>\n",
       "      <td>2.0</td>\n",
       "      <td>1</td>\n",
       "      <td>26,100</td>\n",
       "    </tr>\n",
       "    <tr>\n",
       "      <th>4</th>\n",
       "      <td>나는 파이썬으로 머신러닝한다 2 (인공지능 자신감 UP 인공지능 약간 매운맛)</td>\n",
       "      <td>컴퓨터/IT 113위</td>\n",
       "      <td>장병철, 이지항 외 2명</td>\n",
       "      <td>씨마스</td>\n",
       "      <td>5.0</td>\n",
       "      <td>1</td>\n",
       "      <td>20,700</td>\n",
       "    </tr>\n",
       "    <tr>\n",
       "      <th>...</th>\n",
       "      <td>...</td>\n",
       "      <td>...</td>\n",
       "      <td>...</td>\n",
       "      <td>...</td>\n",
       "      <td>...</td>\n",
       "      <td>...</td>\n",
       "      <td>...</td>\n",
       "    </tr>\n",
       "    <tr>\n",
       "      <th>755</th>\n",
       "      <td>머신 러닝·딥 러닝에 필요한 기초 수학 with 파이썬</td>\n",
       "      <td>None</td>\n",
       "      <td>조준우</td>\n",
       "      <td>인사이트</td>\n",
       "      <td>4.0</td>\n",
       "      <td>2</td>\n",
       "      <td>24,300</td>\n",
       "    </tr>\n",
       "    <tr>\n",
       "      <th>756</th>\n",
       "      <td>파이썬과 인공지능 프로젝트 with ASUS Tinker Board (제품 개발 실...</td>\n",
       "      <td>None</td>\n",
       "      <td>서민우, 전한결</td>\n",
       "      <td>앤써북</td>\n",
       "      <td>0</td>\n",
       "      <td>0</td>\n",
       "      <td>25,200</td>\n",
       "    </tr>\n",
       "    <tr>\n",
       "      <th>757</th>\n",
       "      <td>파이썬과 코랩기반의 OpenCV로 배우는 영상처리</td>\n",
       "      <td>None</td>\n",
       "      <td>고병철</td>\n",
       "      <td>그린</td>\n",
       "      <td>0</td>\n",
       "      <td>0</td>\n",
       "      <td>18,000</td>\n",
       "    </tr>\n",
       "    <tr>\n",
       "      <th>758</th>\n",
       "      <td>파이썬과 리액트를 활용한 주식 자동 거래 시스템 구축 (데이터 수집부터 거래자동화,...</td>\n",
       "      <td>None</td>\n",
       "      <td>박재현</td>\n",
       "      <td>위키북스</td>\n",
       "      <td>5.0</td>\n",
       "      <td>2</td>\n",
       "      <td>24,200</td>\n",
       "    </tr>\n",
       "    <tr>\n",
       "      <th>759</th>\n",
       "      <td>코딩 초보자를 위한 데이터 중심의 파이썬 프로그래밍 (코딩 초보자를 위한 데이터 중심의)</td>\n",
       "      <td>None</td>\n",
       "      <td>길준민, 박지수</td>\n",
       "      <td>인피니티북스</td>\n",
       "      <td>0</td>\n",
       "      <td>0</td>\n",
       "      <td>19,800</td>\n",
       "    </tr>\n",
       "  </tbody>\n",
       "</table>\n",
       "<p>760 rows × 7 columns</p>\n",
       "</div>"
      ],
      "text/plain": [
       "                                                    제목           랭킹  \\\n",
       "0                                  두근두근 파이썬 (만들면서 배우는)   컴퓨터/IT 87위   \n",
       "1    코딩 뇌를 깨우는 파이썬 (문제 해결 능력을 키우는 컴퓨팅 사고부터 알고리즘, 데이...   컴퓨터/IT 97위   \n",
       "2             Do it! 점프 투 파이썬 (중학생도 첫날부터 실습하는 초고속 입문서)    컴퓨터/IT 4위   \n",
       "3                  파이썬 클린 코드 (유지보수가 쉬운 파이썬 코드를 만드는 비결)  컴퓨터/IT 122위   \n",
       "4          나는 파이썬으로 머신러닝한다 2 (인공지능 자신감 UP 인공지능 약간 매운맛)  컴퓨터/IT 113위   \n",
       "..                                                 ...          ...   \n",
       "755                     머신 러닝·딥 러닝에 필요한 기초 수학 with 파이썬         None   \n",
       "756  파이썬과 인공지능 프로젝트 with ASUS Tinker Board (제품 개발 실...         None   \n",
       "757                        파이썬과 코랩기반의 OpenCV로 배우는 영상처리         None   \n",
       "758  파이썬과 리액트를 활용한 주식 자동 거래 시스템 구축 (데이터 수집부터 거래자동화,...         None   \n",
       "759  코딩 초보자를 위한 데이터 중심의 파이썬 프로그래밍 (코딩 초보자를 위한 데이터 중심의)         None   \n",
       "\n",
       "                저자      출판사   평점 리뷰수      가격  \n",
       "0              천인국     생능출판  4.8   4  23,750  \n",
       "1         존 V. 구태그    한빛미디어    0   0  31,500  \n",
       "2              박응용  이지스퍼블리싱  4.9  50  19,800  \n",
       "3         마리아노 아나야    터닝포인트  2.0   1  26,100  \n",
       "4    장병철, 이지항 외 2명      씨마스  5.0   1  20,700  \n",
       "..             ...      ...  ...  ..     ...  \n",
       "755            조준우     인사이트  4.0   2  24,300  \n",
       "756       서민우, 전한결      앤써북    0   0  25,200  \n",
       "757            고병철       그린    0   0  18,000  \n",
       "758            박재현     위키북스  5.0   2  24,200  \n",
       "759       길준민, 박지수   인피니티북스    0   0  19,800  \n",
       "\n",
       "[760 rows x 7 columns]"
      ]
     },
     "execution_count": 13,
     "metadata": {},
     "output_type": "execute_result"
    }
   ],
   "source": [
    "result2"
   ]
  },
  {
   "cell_type": "code",
   "execution_count": 14,
   "id": "c518082f",
   "metadata": {
    "id": "c518082f"
   },
   "outputs": [],
   "source": [
    "finalData = result2[result2[\"저자\"] != 'None']"
   ]
  },
  {
   "cell_type": "code",
   "execution_count": 15,
   "id": "c2b52c8d",
   "metadata": {
    "id": "c2b52c8d"
   },
   "outputs": [
    {
     "data": {
      "text/html": [
       "<div>\n",
       "<style scoped>\n",
       "    .dataframe tbody tr th:only-of-type {\n",
       "        vertical-align: middle;\n",
       "    }\n",
       "\n",
       "    .dataframe tbody tr th {\n",
       "        vertical-align: top;\n",
       "    }\n",
       "\n",
       "    .dataframe thead th {\n",
       "        text-align: right;\n",
       "    }\n",
       "</style>\n",
       "<table border=\"1\" class=\"dataframe\">\n",
       "  <thead>\n",
       "    <tr style=\"text-align: right;\">\n",
       "      <th></th>\n",
       "      <th>제목</th>\n",
       "      <th>랭킹</th>\n",
       "      <th>저자</th>\n",
       "      <th>출판사</th>\n",
       "      <th>평점</th>\n",
       "      <th>리뷰수</th>\n",
       "      <th>가격</th>\n",
       "    </tr>\n",
       "  </thead>\n",
       "  <tbody>\n",
       "    <tr>\n",
       "      <th>0</th>\n",
       "      <td>두근두근 파이썬 (만들면서 배우는)</td>\n",
       "      <td>컴퓨터/IT 87위</td>\n",
       "      <td>천인국</td>\n",
       "      <td>생능출판</td>\n",
       "      <td>4.8</td>\n",
       "      <td>4</td>\n",
       "      <td>23,750</td>\n",
       "    </tr>\n",
       "    <tr>\n",
       "      <th>1</th>\n",
       "      <td>코딩 뇌를 깨우는 파이썬 (문제 해결 능력을 키우는 컴퓨팅 사고부터 알고리즘, 데이...</td>\n",
       "      <td>컴퓨터/IT 97위</td>\n",
       "      <td>존 V. 구태그</td>\n",
       "      <td>한빛미디어</td>\n",
       "      <td>0</td>\n",
       "      <td>0</td>\n",
       "      <td>31,500</td>\n",
       "    </tr>\n",
       "    <tr>\n",
       "      <th>2</th>\n",
       "      <td>Do it! 점프 투 파이썬 (중학생도 첫날부터 실습하는 초고속 입문서)</td>\n",
       "      <td>컴퓨터/IT 4위</td>\n",
       "      <td>박응용</td>\n",
       "      <td>이지스퍼블리싱</td>\n",
       "      <td>4.9</td>\n",
       "      <td>50</td>\n",
       "      <td>19,800</td>\n",
       "    </tr>\n",
       "    <tr>\n",
       "      <th>3</th>\n",
       "      <td>파이썬 클린 코드 (유지보수가 쉬운 파이썬 코드를 만드는 비결)</td>\n",
       "      <td>컴퓨터/IT 122위</td>\n",
       "      <td>마리아노 아나야</td>\n",
       "      <td>터닝포인트</td>\n",
       "      <td>2.0</td>\n",
       "      <td>1</td>\n",
       "      <td>26,100</td>\n",
       "    </tr>\n",
       "    <tr>\n",
       "      <th>4</th>\n",
       "      <td>나는 파이썬으로 머신러닝한다 2 (인공지능 자신감 UP 인공지능 약간 매운맛)</td>\n",
       "      <td>컴퓨터/IT 113위</td>\n",
       "      <td>장병철, 이지항 외 2명</td>\n",
       "      <td>씨마스</td>\n",
       "      <td>5.0</td>\n",
       "      <td>1</td>\n",
       "      <td>20,700</td>\n",
       "    </tr>\n",
       "    <tr>\n",
       "      <th>...</th>\n",
       "      <td>...</td>\n",
       "      <td>...</td>\n",
       "      <td>...</td>\n",
       "      <td>...</td>\n",
       "      <td>...</td>\n",
       "      <td>...</td>\n",
       "      <td>...</td>\n",
       "    </tr>\n",
       "    <tr>\n",
       "      <th>755</th>\n",
       "      <td>머신 러닝·딥 러닝에 필요한 기초 수학 with 파이썬</td>\n",
       "      <td>None</td>\n",
       "      <td>조준우</td>\n",
       "      <td>인사이트</td>\n",
       "      <td>4.0</td>\n",
       "      <td>2</td>\n",
       "      <td>24,300</td>\n",
       "    </tr>\n",
       "    <tr>\n",
       "      <th>756</th>\n",
       "      <td>파이썬과 인공지능 프로젝트 with ASUS Tinker Board (제품 개발 실...</td>\n",
       "      <td>None</td>\n",
       "      <td>서민우, 전한결</td>\n",
       "      <td>앤써북</td>\n",
       "      <td>0</td>\n",
       "      <td>0</td>\n",
       "      <td>25,200</td>\n",
       "    </tr>\n",
       "    <tr>\n",
       "      <th>757</th>\n",
       "      <td>파이썬과 코랩기반의 OpenCV로 배우는 영상처리</td>\n",
       "      <td>None</td>\n",
       "      <td>고병철</td>\n",
       "      <td>그린</td>\n",
       "      <td>0</td>\n",
       "      <td>0</td>\n",
       "      <td>18,000</td>\n",
       "    </tr>\n",
       "    <tr>\n",
       "      <th>758</th>\n",
       "      <td>파이썬과 리액트를 활용한 주식 자동 거래 시스템 구축 (데이터 수집부터 거래자동화,...</td>\n",
       "      <td>None</td>\n",
       "      <td>박재현</td>\n",
       "      <td>위키북스</td>\n",
       "      <td>5.0</td>\n",
       "      <td>2</td>\n",
       "      <td>24,200</td>\n",
       "    </tr>\n",
       "    <tr>\n",
       "      <th>759</th>\n",
       "      <td>코딩 초보자를 위한 데이터 중심의 파이썬 프로그래밍 (코딩 초보자를 위한 데이터 중심의)</td>\n",
       "      <td>None</td>\n",
       "      <td>길준민, 박지수</td>\n",
       "      <td>인피니티북스</td>\n",
       "      <td>0</td>\n",
       "      <td>0</td>\n",
       "      <td>19,800</td>\n",
       "    </tr>\n",
       "  </tbody>\n",
       "</table>\n",
       "<p>734 rows × 7 columns</p>\n",
       "</div>"
      ],
      "text/plain": [
       "                                                    제목           랭킹  \\\n",
       "0                                  두근두근 파이썬 (만들면서 배우는)   컴퓨터/IT 87위   \n",
       "1    코딩 뇌를 깨우는 파이썬 (문제 해결 능력을 키우는 컴퓨팅 사고부터 알고리즘, 데이...   컴퓨터/IT 97위   \n",
       "2             Do it! 점프 투 파이썬 (중학생도 첫날부터 실습하는 초고속 입문서)    컴퓨터/IT 4위   \n",
       "3                  파이썬 클린 코드 (유지보수가 쉬운 파이썬 코드를 만드는 비결)  컴퓨터/IT 122위   \n",
       "4          나는 파이썬으로 머신러닝한다 2 (인공지능 자신감 UP 인공지능 약간 매운맛)  컴퓨터/IT 113위   \n",
       "..                                                 ...          ...   \n",
       "755                     머신 러닝·딥 러닝에 필요한 기초 수학 with 파이썬         None   \n",
       "756  파이썬과 인공지능 프로젝트 with ASUS Tinker Board (제품 개발 실...         None   \n",
       "757                        파이썬과 코랩기반의 OpenCV로 배우는 영상처리         None   \n",
       "758  파이썬과 리액트를 활용한 주식 자동 거래 시스템 구축 (데이터 수집부터 거래자동화,...         None   \n",
       "759  코딩 초보자를 위한 데이터 중심의 파이썬 프로그래밍 (코딩 초보자를 위한 데이터 중심의)         None   \n",
       "\n",
       "                저자      출판사   평점 리뷰수      가격  \n",
       "0              천인국     생능출판  4.8   4  23,750  \n",
       "1         존 V. 구태그    한빛미디어    0   0  31,500  \n",
       "2              박응용  이지스퍼블리싱  4.9  50  19,800  \n",
       "3         마리아노 아나야    터닝포인트  2.0   1  26,100  \n",
       "4    장병철, 이지항 외 2명      씨마스  5.0   1  20,700  \n",
       "..             ...      ...  ...  ..     ...  \n",
       "755            조준우     인사이트  4.0   2  24,300  \n",
       "756       서민우, 전한결      앤써북    0   0  25,200  \n",
       "757            고병철       그린    0   0  18,000  \n",
       "758            박재현     위키북스  5.0   2  24,200  \n",
       "759       길준민, 박지수   인피니티북스    0   0  19,800  \n",
       "\n",
       "[734 rows x 7 columns]"
      ]
     },
     "execution_count": 15,
     "metadata": {},
     "output_type": "execute_result"
    }
   ],
   "source": [
    "finalData.drop_duplicates(subset=\"제목\", keep='first')"
   ]
  },
  {
   "cell_type": "code",
   "execution_count": 16,
   "id": "513a7241",
   "metadata": {},
   "outputs": [
    {
     "name": "stdout",
     "output_type": "stream",
     "text": [
      "Requirement already satisfied: sqlalchemy in c:\\users\\hi\\anaconda3\\lib\\site-packages (1.4.39)\n",
      "Requirement already satisfied: greenlet!=0.4.17 in c:\\users\\hi\\anaconda3\\lib\\site-packages (from sqlalchemy) (2.0.1)\n"
     ]
    }
   ],
   "source": [
    "!pip install sqlalchemy"
   ]
  },
  {
   "cell_type": "code",
   "execution_count": 17,
   "id": "e11c5ba9",
   "metadata": {
    "id": "e11c5ba9"
   },
   "outputs": [
    {
     "name": "stderr",
     "output_type": "stream",
     "text": [
      "C:\\Users\\hi\\AppData\\Local\\Temp\\ipykernel_9552\\988611106.py:4: UserWarning: pandas only supports SQLAlchemy connectable (engine/connection) or database string URI or sqlite3 DBAPI2 connection. Other DBAPI2 objects are not tested. Please consider using SQLAlchemy.\n",
      "  finalData.to_sql('naver_books', con=conn, if_exists='append')\n"
     ]
    },
    {
     "data": {
      "text/plain": [
       "760"
      ]
     },
     "execution_count": 17,
     "metadata": {},
     "output_type": "execute_result"
    }
   ],
   "source": [
    "from sqlalchemy import create_engine\n",
    "engine = create_engine('sqlite:///data/naver_books.db', echo=False)\n",
    "conn = engine.raw_connection()\n",
    "finalData.to_sql('naver_books', con=conn, if_exists='append')"
   ]
  },
  {
   "cell_type": "code",
   "execution_count": 18,
   "id": "7bdc1079",
   "metadata": {
    "id": "7bdc1079"
   },
   "outputs": [
    {
     "name": "stderr",
     "output_type": "stream",
     "text": [
      "C:\\Users\\hi\\AppData\\Local\\Temp\\ipykernel_9552\\2643296496.py:1: UserWarning: pandas only supports SQLAlchemy connectable (engine/connection) or database string URI or sqlite3 DBAPI2 connection. Other DBAPI2 objects are not tested. Please consider using SQLAlchemy.\n",
      "  test = pd.read_sql('select * from naver_books', conn)\n"
     ]
    },
    {
     "data": {
      "text/html": [
       "<div>\n",
       "<style scoped>\n",
       "    .dataframe tbody tr th:only-of-type {\n",
       "        vertical-align: middle;\n",
       "    }\n",
       "\n",
       "    .dataframe tbody tr th {\n",
       "        vertical-align: top;\n",
       "    }\n",
       "\n",
       "    .dataframe thead th {\n",
       "        text-align: right;\n",
       "    }\n",
       "</style>\n",
       "<table border=\"1\" class=\"dataframe\">\n",
       "  <thead>\n",
       "    <tr style=\"text-align: right;\">\n",
       "      <th></th>\n",
       "      <th>index</th>\n",
       "      <th>제목</th>\n",
       "      <th>랭킹</th>\n",
       "      <th>저자</th>\n",
       "      <th>출판사</th>\n",
       "      <th>평점</th>\n",
       "      <th>리뷰수</th>\n",
       "      <th>가격</th>\n",
       "    </tr>\n",
       "  </thead>\n",
       "  <tbody>\n",
       "    <tr>\n",
       "      <th>0</th>\n",
       "      <td>0</td>\n",
       "      <td>파이썬과 데이터 과학 (파이썬으로 시작하는 데이터 과학과 기계학습)</td>\n",
       "      <td>컴퓨터/IT 34위</td>\n",
       "      <td>천인국, 박동규</td>\n",
       "      <td>생능출판</td>\n",
       "      <td>5.0</td>\n",
       "      <td>10</td>\n",
       "      <td>24,700</td>\n",
       "    </tr>\n",
       "    <tr>\n",
       "      <th>1</th>\n",
       "      <td>1</td>\n",
       "      <td>두근두근 파이썬 (만들면서 배우는)</td>\n",
       "      <td>컴퓨터/IT 12위</td>\n",
       "      <td>천인국</td>\n",
       "      <td>생능출판</td>\n",
       "      <td>4.7</td>\n",
       "      <td>3</td>\n",
       "      <td>23,750</td>\n",
       "    </tr>\n",
       "    <tr>\n",
       "      <th>2</th>\n",
       "      <td>2</td>\n",
       "      <td>Do it! 점프 투 파이썬 (중학생도 첫날부터 실습하는 초고속 입문서)</td>\n",
       "      <td>컴퓨터/IT 5위</td>\n",
       "      <td>박응용</td>\n",
       "      <td>이지스퍼블리싱</td>\n",
       "      <td>4.8</td>\n",
       "      <td>49</td>\n",
       "      <td>19,010</td>\n",
       "    </tr>\n",
       "    <tr>\n",
       "      <th>3</th>\n",
       "      <td>3</td>\n",
       "      <td>파이썬으로 만드는 인공지능</td>\n",
       "      <td>컴퓨터/IT 108위</td>\n",
       "      <td>오일석, 이진선</td>\n",
       "      <td>한빛아카데미</td>\n",
       "      <td>3.0</td>\n",
       "      <td>1</td>\n",
       "      <td>29,450</td>\n",
       "    </tr>\n",
       "    <tr>\n",
       "      <th>4</th>\n",
       "      <td>4</td>\n",
       "      <td>파이썬 Express</td>\n",
       "      <td>컴퓨터/IT 122위</td>\n",
       "      <td>천인국</td>\n",
       "      <td>생능출판</td>\n",
       "      <td>4.9</td>\n",
       "      <td>12</td>\n",
       "      <td>28,500</td>\n",
       "    </tr>\n",
       "    <tr>\n",
       "      <th>...</th>\n",
       "      <td>...</td>\n",
       "      <td>...</td>\n",
       "      <td>...</td>\n",
       "      <td>...</td>\n",
       "      <td>...</td>\n",
       "      <td>...</td>\n",
       "      <td>...</td>\n",
       "      <td>...</td>\n",
       "    </tr>\n",
       "    <tr>\n",
       "      <th>2275</th>\n",
       "      <td>755</td>\n",
       "      <td>머신 러닝·딥 러닝에 필요한 기초 수학 with 파이썬</td>\n",
       "      <td>None</td>\n",
       "      <td>조준우</td>\n",
       "      <td>인사이트</td>\n",
       "      <td>4.0</td>\n",
       "      <td>2</td>\n",
       "      <td>24,300</td>\n",
       "    </tr>\n",
       "    <tr>\n",
       "      <th>2276</th>\n",
       "      <td>756</td>\n",
       "      <td>파이썬과 인공지능 프로젝트 with ASUS Tinker Board (제품 개발 실...</td>\n",
       "      <td>None</td>\n",
       "      <td>서민우, 전한결</td>\n",
       "      <td>앤써북</td>\n",
       "      <td>0</td>\n",
       "      <td>0</td>\n",
       "      <td>25,200</td>\n",
       "    </tr>\n",
       "    <tr>\n",
       "      <th>2277</th>\n",
       "      <td>757</td>\n",
       "      <td>파이썬과 코랩기반의 OpenCV로 배우는 영상처리</td>\n",
       "      <td>None</td>\n",
       "      <td>고병철</td>\n",
       "      <td>그린</td>\n",
       "      <td>0</td>\n",
       "      <td>0</td>\n",
       "      <td>18,000</td>\n",
       "    </tr>\n",
       "    <tr>\n",
       "      <th>2278</th>\n",
       "      <td>758</td>\n",
       "      <td>파이썬과 리액트를 활용한 주식 자동 거래 시스템 구축 (데이터 수집부터 거래자동화,...</td>\n",
       "      <td>None</td>\n",
       "      <td>박재현</td>\n",
       "      <td>위키북스</td>\n",
       "      <td>5.0</td>\n",
       "      <td>2</td>\n",
       "      <td>24,200</td>\n",
       "    </tr>\n",
       "    <tr>\n",
       "      <th>2279</th>\n",
       "      <td>759</td>\n",
       "      <td>코딩 초보자를 위한 데이터 중심의 파이썬 프로그래밍 (코딩 초보자를 위한 데이터 중심의)</td>\n",
       "      <td>None</td>\n",
       "      <td>길준민, 박지수</td>\n",
       "      <td>인피니티북스</td>\n",
       "      <td>0</td>\n",
       "      <td>0</td>\n",
       "      <td>19,800</td>\n",
       "    </tr>\n",
       "  </tbody>\n",
       "</table>\n",
       "<p>2280 rows × 8 columns</p>\n",
       "</div>"
      ],
      "text/plain": [
       "      index                                                 제목           랭킹  \\\n",
       "0         0              파이썬과 데이터 과학 (파이썬으로 시작하는 데이터 과학과 기계학습)   컴퓨터/IT 34위   \n",
       "1         1                                두근두근 파이썬 (만들면서 배우는)   컴퓨터/IT 12위   \n",
       "2         2           Do it! 점프 투 파이썬 (중학생도 첫날부터 실습하는 초고속 입문서)    컴퓨터/IT 5위   \n",
       "3         3                                     파이썬으로 만드는 인공지능  컴퓨터/IT 108위   \n",
       "4         4                                        파이썬 Express  컴퓨터/IT 122위   \n",
       "...     ...                                                ...          ...   \n",
       "2275    755                     머신 러닝·딥 러닝에 필요한 기초 수학 with 파이썬         None   \n",
       "2276    756  파이썬과 인공지능 프로젝트 with ASUS Tinker Board (제품 개발 실...         None   \n",
       "2277    757                        파이썬과 코랩기반의 OpenCV로 배우는 영상처리         None   \n",
       "2278    758  파이썬과 리액트를 활용한 주식 자동 거래 시스템 구축 (데이터 수집부터 거래자동화,...         None   \n",
       "2279    759  코딩 초보자를 위한 데이터 중심의 파이썬 프로그래밍 (코딩 초보자를 위한 데이터 중심의)         None   \n",
       "\n",
       "            저자      출판사   평점 리뷰수      가격  \n",
       "0     천인국, 박동규     생능출판  5.0  10  24,700  \n",
       "1          천인국     생능출판  4.7   3  23,750  \n",
       "2          박응용  이지스퍼블리싱  4.8  49  19,010  \n",
       "3     오일석, 이진선   한빛아카데미  3.0   1  29,450  \n",
       "4          천인국     생능출판  4.9  12  28,500  \n",
       "...        ...      ...  ...  ..     ...  \n",
       "2275       조준우     인사이트  4.0   2  24,300  \n",
       "2276  서민우, 전한결      앤써북    0   0  25,200  \n",
       "2277       고병철       그린    0   0  18,000  \n",
       "2278       박재현     위키북스  5.0   2  24,200  \n",
       "2279  길준민, 박지수   인피니티북스    0   0  19,800  \n",
       "\n",
       "[2280 rows x 8 columns]"
      ]
     },
     "execution_count": 18,
     "metadata": {},
     "output_type": "execute_result"
    }
   ],
   "source": [
    "test = pd.read_sql('select * from naver_books', conn)\n",
    "test"
   ]
  },
  {
   "cell_type": "code",
   "execution_count": null,
   "id": "0ced60b2",
   "metadata": {
    "id": "0ced60b2"
   },
   "outputs": [],
   "source": []
  },
  {
   "cell_type": "code",
   "execution_count": null,
   "id": "7d643bf3",
   "metadata": {
    "id": "7d643bf3"
   },
   "outputs": [],
   "source": []
  }
 ],
 "metadata": {
  "colab": {
   "provenance": []
  },
  "kernelspec": {
   "display_name": "Python 3 (ipykernel)",
   "language": "python",
   "name": "python3"
  },
  "language_info": {
   "codemirror_mode": {
    "name": "ipython",
    "version": 3
   },
   "file_extension": ".py",
   "mimetype": "text/x-python",
   "name": "python",
   "nbconvert_exporter": "python",
   "pygments_lexer": "ipython3",
   "version": "3.11.4"
  }
 },
 "nbformat": 4,
 "nbformat_minor": 5
}
