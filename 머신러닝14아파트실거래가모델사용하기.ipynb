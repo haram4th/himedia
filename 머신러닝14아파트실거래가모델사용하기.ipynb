{
 "cells": [
  {
   "cell_type": "code",
   "execution_count": 1,
   "id": "de41e44e",
   "metadata": {},
   "outputs": [],
   "source": [
    "import pandas as pd\n",
    "import numpy as np"
   ]
  },
  {
   "cell_type": "code",
   "execution_count": 2,
   "id": "acb88c79",
   "metadata": {},
   "outputs": [],
   "source": [
    "data = pd.read_csv(\"./data/부동산실거래가1998-2023.csv\")"
   ]
  },
  {
   "cell_type": "code",
   "execution_count": 3,
   "id": "8b293ec9",
   "metadata": {},
   "outputs": [
    {
     "data": {
      "text/html": [
       "<div>\n",
       "<style scoped>\n",
       "    .dataframe tbody tr th:only-of-type {\n",
       "        vertical-align: middle;\n",
       "    }\n",
       "\n",
       "    .dataframe tbody tr th {\n",
       "        vertical-align: top;\n",
       "    }\n",
       "\n",
       "    .dataframe thead th {\n",
       "        text-align: right;\n",
       "    }\n",
       "</style>\n",
       "<table border=\"1\" class=\"dataframe\">\n",
       "  <thead>\n",
       "    <tr style=\"text-align: right;\">\n",
       "      <th></th>\n",
       "      <th>시군구</th>\n",
       "      <th>단지명</th>\n",
       "      <th>전용면적(㎡)</th>\n",
       "      <th>계약년월</th>\n",
       "      <th>거래금액(만원)</th>\n",
       "      <th>층</th>\n",
       "      <th>건축년도</th>\n",
       "    </tr>\n",
       "  </thead>\n",
       "  <tbody>\n",
       "    <tr>\n",
       "      <th>0</th>\n",
       "      <td>강원특별자치도 양구군 양구읍 상리</td>\n",
       "      <td>경림</td>\n",
       "      <td>59.40</td>\n",
       "      <td>200509</td>\n",
       "      <td>5000</td>\n",
       "      <td>11</td>\n",
       "      <td>1998</td>\n",
       "    </tr>\n",
       "    <tr>\n",
       "      <th>1</th>\n",
       "      <td>경기도 의정부시 민락동</td>\n",
       "      <td>한라비발디</td>\n",
       "      <td>84.99</td>\n",
       "      <td>200510</td>\n",
       "      <td>12750</td>\n",
       "      <td>19</td>\n",
       "      <td>2003</td>\n",
       "    </tr>\n",
       "  </tbody>\n",
       "</table>\n",
       "</div>"
      ],
      "text/plain": [
       "                  시군구    단지명  전용면적(㎡)    계약년월  거래금액(만원)   층  건축년도\n",
       "0  강원특별자치도 양구군 양구읍 상리     경림    59.40  200509      5000  11  1998\n",
       "1        경기도 의정부시 민락동  한라비발디    84.99  200510     12750  19  2003"
      ]
     },
     "execution_count": 3,
     "metadata": {},
     "output_type": "execute_result"
    }
   ],
   "source": [
    "data.head(2)"
   ]
  },
  {
   "cell_type": "code",
   "execution_count": 4,
   "id": "32d9864c",
   "metadata": {},
   "outputs": [],
   "source": [
    "data = data.drop(['시군구', '단지명'], axis=1)"
   ]
  },
  {
   "cell_type": "code",
   "execution_count": 18,
   "id": "b95ce5ba",
   "metadata": {},
   "outputs": [
    {
     "data": {
      "text/html": [
       "<div>\n",
       "<style scoped>\n",
       "    .dataframe tbody tr th:only-of-type {\n",
       "        vertical-align: middle;\n",
       "    }\n",
       "\n",
       "    .dataframe tbody tr th {\n",
       "        vertical-align: top;\n",
       "    }\n",
       "\n",
       "    .dataframe thead th {\n",
       "        text-align: right;\n",
       "    }\n",
       "</style>\n",
       "<table border=\"1\" class=\"dataframe\">\n",
       "  <thead>\n",
       "    <tr style=\"text-align: right;\">\n",
       "      <th></th>\n",
       "      <th>전용면적(㎡)</th>\n",
       "      <th>계약년월</th>\n",
       "      <th>거래금액(만원)</th>\n",
       "      <th>층</th>\n",
       "      <th>건축년도</th>\n",
       "    </tr>\n",
       "  </thead>\n",
       "  <tbody>\n",
       "    <tr>\n",
       "      <th>9591223</th>\n",
       "      <td>84.96</td>\n",
       "      <td>202308</td>\n",
       "      <td>15700</td>\n",
       "      <td>2</td>\n",
       "      <td>1994</td>\n",
       "    </tr>\n",
       "    <tr>\n",
       "      <th>9591224</th>\n",
       "      <td>84.68</td>\n",
       "      <td>202308</td>\n",
       "      <td>20700</td>\n",
       "      <td>3</td>\n",
       "      <td>2002</td>\n",
       "    </tr>\n",
       "    <tr>\n",
       "      <th>9591225</th>\n",
       "      <td>84.95</td>\n",
       "      <td>202308</td>\n",
       "      <td>40200</td>\n",
       "      <td>11</td>\n",
       "      <td>2019</td>\n",
       "    </tr>\n",
       "    <tr>\n",
       "      <th>9591226</th>\n",
       "      <td>99.87</td>\n",
       "      <td>202308</td>\n",
       "      <td>50000</td>\n",
       "      <td>13</td>\n",
       "      <td>2019</td>\n",
       "    </tr>\n",
       "    <tr>\n",
       "      <th>9591227</th>\n",
       "      <td>99.80</td>\n",
       "      <td>202308</td>\n",
       "      <td>46000</td>\n",
       "      <td>3</td>\n",
       "      <td>2019</td>\n",
       "    </tr>\n",
       "  </tbody>\n",
       "</table>\n",
       "</div>"
      ],
      "text/plain": [
       "         전용면적(㎡)    계약년월  거래금액(만원)   층  건축년도\n",
       "9591223    84.96  202308     15700   2  1994\n",
       "9591224    84.68  202308     20700   3  2002\n",
       "9591225    84.95  202308     40200  11  2019\n",
       "9591226    99.87  202308     50000  13  2019\n",
       "9591227    99.80  202308     46000   3  2019"
      ]
     },
     "execution_count": 18,
     "metadata": {},
     "output_type": "execute_result"
    }
   ],
   "source": [
    "data.tail()"
   ]
  },
  {
   "cell_type": "code",
   "execution_count": 6,
   "id": "274b692b",
   "metadata": {},
   "outputs": [
    {
     "name": "stdout",
     "output_type": "stream",
     "text": [
      "<class 'pandas.core.frame.DataFrame'>\n",
      "RangeIndex: 9591228 entries, 0 to 9591227\n",
      "Data columns (total 5 columns):\n",
      " #   Column    Dtype  \n",
      "---  ------    -----  \n",
      " 0   전용면적(㎡)   float64\n",
      " 1   계약년월      int64  \n",
      " 2   거래금액(만원)  int64  \n",
      " 3   층         int64  \n",
      " 4   건축년도      int64  \n",
      "dtypes: float64(1), int64(4)\n",
      "memory usage: 365.9 MB\n"
     ]
    }
   ],
   "source": [
    "data.info()"
   ]
  },
  {
   "cell_type": "code",
   "execution_count": 7,
   "id": "0a0a70dd",
   "metadata": {},
   "outputs": [],
   "source": [
    "X = data.drop('거래금액(만원)', axis=1)\n",
    "y = data['거래금액(만원)']"
   ]
  },
  {
   "cell_type": "code",
   "execution_count": 8,
   "id": "b886e03f",
   "metadata": {},
   "outputs": [],
   "source": [
    "from sklearn.preprocessing import RobustScaler\n",
    "rs = RobustScaler()\n",
    "X_scale = rs.fit_transform(X)"
   ]
  },
  {
   "cell_type": "code",
   "execution_count": 9,
   "id": "61e05639",
   "metadata": {},
   "outputs": [],
   "source": [
    "X_scale = pd.DataFrame(X_scale, columns=X.columns)"
   ]
  },
  {
   "cell_type": "code",
   "execution_count": 10,
   "id": "ab22f23d",
   "metadata": {},
   "outputs": [
    {
     "data": {
      "text/html": [
       "<div>\n",
       "<style scoped>\n",
       "    .dataframe tbody tr th:only-of-type {\n",
       "        vertical-align: middle;\n",
       "    }\n",
       "\n",
       "    .dataframe tbody tr th {\n",
       "        vertical-align: top;\n",
       "    }\n",
       "\n",
       "    .dataframe thead th {\n",
       "        text-align: right;\n",
       "    }\n",
       "</style>\n",
       "<table border=\"1\" class=\"dataframe\">\n",
       "  <thead>\n",
       "    <tr style=\"text-align: right;\">\n",
       "      <th></th>\n",
       "      <th>전용면적(㎡)</th>\n",
       "      <th>계약년월</th>\n",
       "      <th>층</th>\n",
       "      <th>건축년도</th>\n",
       "    </tr>\n",
       "  </thead>\n",
       "  <tbody>\n",
       "    <tr>\n",
       "      <th>0</th>\n",
       "      <td>-0.575108</td>\n",
       "      <td>-1.101996</td>\n",
       "      <td>0.333333</td>\n",
       "      <td>-0.166667</td>\n",
       "    </tr>\n",
       "    <tr>\n",
       "      <th>1</th>\n",
       "      <td>0.431184</td>\n",
       "      <td>-1.100887</td>\n",
       "      <td>1.222222</td>\n",
       "      <td>0.250000</td>\n",
       "    </tr>\n",
       "    <tr>\n",
       "      <th>2</th>\n",
       "      <td>-0.556311</td>\n",
       "      <td>-1.100887</td>\n",
       "      <td>-0.555556</td>\n",
       "      <td>-0.250000</td>\n",
       "    </tr>\n",
       "    <tr>\n",
       "      <th>3</th>\n",
       "      <td>-0.951435</td>\n",
       "      <td>-1.100887</td>\n",
       "      <td>0.000000</td>\n",
       "      <td>-0.166667</td>\n",
       "    </tr>\n",
       "    <tr>\n",
       "      <th>4</th>\n",
       "      <td>2.190523</td>\n",
       "      <td>-1.099778</td>\n",
       "      <td>0.333333</td>\n",
       "      <td>-0.666667</td>\n",
       "    </tr>\n",
       "    <tr>\n",
       "      <th>...</th>\n",
       "      <td>...</td>\n",
       "      <td>...</td>\n",
       "      <td>...</td>\n",
       "      <td>...</td>\n",
       "    </tr>\n",
       "    <tr>\n",
       "      <th>9591223</th>\n",
       "      <td>0.430004</td>\n",
       "      <td>0.892461</td>\n",
       "      <td>-0.666667</td>\n",
       "      <td>-0.500000</td>\n",
       "    </tr>\n",
       "    <tr>\n",
       "      <th>9591224</th>\n",
       "      <td>0.418993</td>\n",
       "      <td>0.892461</td>\n",
       "      <td>-0.555556</td>\n",
       "      <td>0.166667</td>\n",
       "    </tr>\n",
       "    <tr>\n",
       "      <th>9591225</th>\n",
       "      <td>0.429611</td>\n",
       "      <td>0.892461</td>\n",
       "      <td>0.333333</td>\n",
       "      <td>1.583333</td>\n",
       "    </tr>\n",
       "    <tr>\n",
       "      <th>9591226</th>\n",
       "      <td>1.016319</td>\n",
       "      <td>0.892461</td>\n",
       "      <td>0.555556</td>\n",
       "      <td>1.583333</td>\n",
       "    </tr>\n",
       "    <tr>\n",
       "      <th>9591227</th>\n",
       "      <td>1.013567</td>\n",
       "      <td>0.892461</td>\n",
       "      <td>-0.555556</td>\n",
       "      <td>1.583333</td>\n",
       "    </tr>\n",
       "  </tbody>\n",
       "</table>\n",
       "<p>9591228 rows × 4 columns</p>\n",
       "</div>"
      ],
      "text/plain": [
       "          전용면적(㎡)      계약년월         층      건축년도\n",
       "0       -0.575108 -1.101996  0.333333 -0.166667\n",
       "1        0.431184 -1.100887  1.222222  0.250000\n",
       "2       -0.556311 -1.100887 -0.555556 -0.250000\n",
       "3       -0.951435 -1.100887  0.000000 -0.166667\n",
       "4        2.190523 -1.099778  0.333333 -0.666667\n",
       "...           ...       ...       ...       ...\n",
       "9591223  0.430004  0.892461 -0.666667 -0.500000\n",
       "9591224  0.418993  0.892461 -0.555556  0.166667\n",
       "9591225  0.429611  0.892461  0.333333  1.583333\n",
       "9591226  1.016319  0.892461  0.555556  1.583333\n",
       "9591227  1.013567  0.892461 -0.555556  1.583333\n",
       "\n",
       "[9591228 rows x 4 columns]"
      ]
     },
     "execution_count": 10,
     "metadata": {},
     "output_type": "execute_result"
    }
   ],
   "source": [
    "X_scale"
   ]
  },
  {
   "cell_type": "code",
   "execution_count": 11,
   "id": "95a1f634",
   "metadata": {},
   "outputs": [],
   "source": [
    "from sklearn.model_selection import train_test_split\n",
    "X_train, X_test, y_train, y_test = train_test_split(X_scale, y, test_size=0.4, random_state=10)\n",
    "X_valid, X_test, y_valid, y_test = train_test_split(X_test, y_test, test_size=0.5, random_state=10)"
   ]
  },
  {
   "cell_type": "code",
   "execution_count": 12,
   "id": "3fcbe76f",
   "metadata": {},
   "outputs": [
    {
     "data": {
      "text/plain": [
       "5754736"
      ]
     },
     "execution_count": 12,
     "metadata": {},
     "output_type": "execute_result"
    }
   ],
   "source": [
    "len(X_train)"
   ]
  },
  {
   "cell_type": "code",
   "execution_count": 13,
   "id": "8afe05ca",
   "metadata": {},
   "outputs": [
    {
     "data": {
      "text/plain": [
       "1918246"
      ]
     },
     "execution_count": 13,
     "metadata": {},
     "output_type": "execute_result"
    }
   ],
   "source": [
    "len(X_valid)"
   ]
  },
  {
   "cell_type": "code",
   "execution_count": 14,
   "id": "cc0ec699",
   "metadata": {},
   "outputs": [
    {
     "data": {
      "text/plain": [
       "1918246"
      ]
     },
     "execution_count": 14,
     "metadata": {},
     "output_type": "execute_result"
    }
   ],
   "source": [
    "len(X_test)"
   ]
  },
  {
   "cell_type": "code",
   "execution_count": 15,
   "id": "f80e8497",
   "metadata": {},
   "outputs": [
    {
     "name": "stdout",
     "output_type": "stream",
     "text": [
      "259026325.21882135\n",
      "0.6087670215349245\n"
     ]
    }
   ],
   "source": [
    "from sklearn.tree import DecisionTreeRegressor\n",
    "from sklearn.metrics import mean_squared_error, r2_score\n",
    "dtr = DecisionTreeRegressor()\n",
    "dtr.fit(X_train, y_train)\n",
    "pred = dtr.predict(X_valid)\n",
    "print(mean_squared_error(y_valid, pred))\n",
    "print(r2_score(y_valid, pred))"
   ]
  },
  {
   "cell_type": "code",
   "execution_count": 16,
   "id": "5a148148",
   "metadata": {},
   "outputs": [],
   "source": [
    "# 변수/모델에 저장되어 있는 데이터를 파일로 만들어 주는 라이브러리\n",
    "import joblib\n"
   ]
  },
  {
   "cell_type": "code",
   "execution_count": 17,
   "id": "479f1735",
   "metadata": {},
   "outputs": [
    {
     "data": {
      "text/plain": [
       "['./apart_model.model']"
      ]
     },
     "execution_count": 17,
     "metadata": {},
     "output_type": "execute_result"
    }
   ],
   "source": [
    "joblib.dump(dtr, './apart_model.model')"
   ]
  },
  {
   "cell_type": "code",
   "execution_count": null,
   "id": "114ccbf8",
   "metadata": {},
   "outputs": [],
   "source": []
  }
 ],
 "metadata": {
  "kernelspec": {
   "display_name": "testenv",
   "language": "python",
   "name": "testenv"
  },
  "language_info": {
   "codemirror_mode": {
    "name": "ipython",
    "version": 3
   },
   "file_extension": ".py",
   "mimetype": "text/x-python",
   "name": "python",
   "nbconvert_exporter": "python",
   "pygments_lexer": "ipython3",
   "version": "3.8.17"
  }
 },
 "nbformat": 4,
 "nbformat_minor": 5
}
