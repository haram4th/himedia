{
 "cells": [
  {
   "cell_type": "markdown",
   "id": "62825a16",
   "metadata": {},
   "source": [
    "# 쇼핑몰 프로모션 효율 예측 분석"
   ]
  },
  {
   "cell_type": "code",
   "execution_count": 32,
   "id": "ac52fcc3",
   "metadata": {},
   "outputs": [],
   "source": [
    "import pandas as pd\n",
    "import numpy as np\n",
    "import matplotlib.pyplot as plt\n",
    "import seaborn as sns\n",
    "import koreanize_matplotlib"
   ]
  },
  {
   "cell_type": "code",
   "execution_count": 33,
   "id": "e5f01d4b",
   "metadata": {},
   "outputs": [],
   "source": [
    "mem = pd.read_csv(\"https://raw.githubusercontent.com/haram4th/ablearn/main/member.csv\")\n",
    "tran = pd.read_csv(\"https://raw.githubusercontent.com/haram4th/ablearn/main/transaction.csv\")"
   ]
  },
  {
   "cell_type": "code",
   "execution_count": 34,
   "id": "67632718",
   "metadata": {},
   "outputs": [
    {
     "data": {
      "text/html": [
       "<div>\n",
       "<style scoped>\n",
       "    .dataframe tbody tr th:only-of-type {\n",
       "        vertical-align: middle;\n",
       "    }\n",
       "\n",
       "    .dataframe tbody tr th {\n",
       "        vertical-align: top;\n",
       "    }\n",
       "\n",
       "    .dataframe thead th {\n",
       "        text-align: right;\n",
       "    }\n",
       "</style>\n",
       "<table border=\"1\" class=\"dataframe\">\n",
       "  <thead>\n",
       "    <tr style=\"text-align: right;\">\n",
       "      <th></th>\n",
       "      <th>id</th>\n",
       "      <th>recency</th>\n",
       "      <th>zip_code</th>\n",
       "      <th>is_referral</th>\n",
       "      <th>channel</th>\n",
       "      <th>conversion</th>\n",
       "    </tr>\n",
       "  </thead>\n",
       "  <tbody>\n",
       "    <tr>\n",
       "      <th>0</th>\n",
       "      <td>906145</td>\n",
       "      <td>10</td>\n",
       "      <td>Surburban</td>\n",
       "      <td>0</td>\n",
       "      <td>Phone</td>\n",
       "      <td>0</td>\n",
       "    </tr>\n",
       "    <tr>\n",
       "      <th>1</th>\n",
       "      <td>184478</td>\n",
       "      <td>6</td>\n",
       "      <td>Rural</td>\n",
       "      <td>1</td>\n",
       "      <td>Web</td>\n",
       "      <td>0</td>\n",
       "    </tr>\n",
       "  </tbody>\n",
       "</table>\n",
       "</div>"
      ],
      "text/plain": [
       "       id  recency   zip_code  is_referral channel  conversion\n",
       "0  906145       10  Surburban            0   Phone           0\n",
       "1  184478        6      Rural            1     Web           0"
      ]
     },
     "execution_count": 34,
     "metadata": {},
     "output_type": "execute_result"
    }
   ],
   "source": [
    "mem.head(2)"
   ]
  },
  {
   "cell_type": "code",
   "execution_count": 35,
   "id": "08e1519b",
   "metadata": {},
   "outputs": [
    {
     "data": {
      "text/html": [
       "<div>\n",
       "<style scoped>\n",
       "    .dataframe tbody tr th:only-of-type {\n",
       "        vertical-align: middle;\n",
       "    }\n",
       "\n",
       "    .dataframe tbody tr th {\n",
       "        vertical-align: top;\n",
       "    }\n",
       "\n",
       "    .dataframe thead th {\n",
       "        text-align: right;\n",
       "    }\n",
       "</style>\n",
       "<table border=\"1\" class=\"dataframe\">\n",
       "  <thead>\n",
       "    <tr style=\"text-align: right;\">\n",
       "      <th></th>\n",
       "      <th>id</th>\n",
       "      <th>num_item</th>\n",
       "      <th>total_amount</th>\n",
       "    </tr>\n",
       "  </thead>\n",
       "  <tbody>\n",
       "    <tr>\n",
       "      <th>0</th>\n",
       "      <td>906145</td>\n",
       "      <td>5</td>\n",
       "      <td>34000</td>\n",
       "    </tr>\n",
       "    <tr>\n",
       "      <th>1</th>\n",
       "      <td>906145</td>\n",
       "      <td>1</td>\n",
       "      <td>27000</td>\n",
       "    </tr>\n",
       "  </tbody>\n",
       "</table>\n",
       "</div>"
      ],
      "text/plain": [
       "       id  num_item  total_amount\n",
       "0  906145         5         34000\n",
       "1  906145         1         27000"
      ]
     },
     "execution_count": 35,
     "metadata": {},
     "output_type": "execute_result"
    }
   ],
   "source": [
    "tran.head(2)"
   ]
  },
  {
   "cell_type": "markdown",
   "id": "84df816d",
   "metadata": {},
   "source": [
    "* 쇼핑몰 고객 데이터, 프로모션 쿠폰을 발행하고 사용 여부 데이터를 수집\n",
    "* mem: 고객id, 최근 방문일, 사는지역, 추천여부, 주요접속채널, 쿠폰 사용 여부\n",
    "* transaction: 고객id, 구매수량, 총 구매금액 정보가 있음\n",
    "* 전통적 마케팅 분석 방법인 RFM 기법을 사용해 고객 데이터에서 파생변수 생성 후 분석\n",
    "* Recency: 현재일 - 최근 구매일\n",
    "* Frequency: 구매 빈도\n",
    "* Monetary: 구매 금액\n"
   ]
  },
  {
   "cell_type": "code",
   "execution_count": 36,
   "id": "2adc2fe9",
   "metadata": {},
   "outputs": [
    {
     "name": "stdout",
     "output_type": "stream",
     "text": [
      "<class 'pandas.core.frame.DataFrame'>\n",
      "RangeIndex: 64000 entries, 0 to 63999\n",
      "Data columns (total 6 columns):\n",
      " #   Column       Non-Null Count  Dtype \n",
      "---  ------       --------------  ----- \n",
      " 0   id           64000 non-null  int64 \n",
      " 1   recency      64000 non-null  int64 \n",
      " 2   zip_code     64000 non-null  object\n",
      " 3   is_referral  64000 non-null  int64 \n",
      " 4   channel      64000 non-null  object\n",
      " 5   conversion   64000 non-null  int64 \n",
      "dtypes: int64(4), object(2)\n",
      "memory usage: 2.9+ MB\n"
     ]
    }
   ],
   "source": [
    "mem.info()"
   ]
  },
  {
   "cell_type": "code",
   "execution_count": 37,
   "id": "3ed67fce",
   "metadata": {},
   "outputs": [
    {
     "name": "stdout",
     "output_type": "stream",
     "text": [
      "<class 'pandas.core.frame.DataFrame'>\n",
      "RangeIndex: 196836 entries, 0 to 196835\n",
      "Data columns (total 3 columns):\n",
      " #   Column        Non-Null Count   Dtype\n",
      "---  ------        --------------   -----\n",
      " 0   id            196836 non-null  int64\n",
      " 1   num_item      196836 non-null  int64\n",
      " 2   total_amount  196836 non-null  int64\n",
      "dtypes: int64(3)\n",
      "memory usage: 4.5 MB\n"
     ]
    }
   ],
   "source": [
    "tran.info()"
   ]
  },
  {
   "cell_type": "code",
   "execution_count": 38,
   "id": "c3dea6de",
   "metadata": {},
   "outputs": [
    {
     "data": {
      "text/html": [
       "<div>\n",
       "<style scoped>\n",
       "    .dataframe tbody tr th:only-of-type {\n",
       "        vertical-align: middle;\n",
       "    }\n",
       "\n",
       "    .dataframe tbody tr th {\n",
       "        vertical-align: top;\n",
       "    }\n",
       "\n",
       "    .dataframe thead th {\n",
       "        text-align: right;\n",
       "    }\n",
       "</style>\n",
       "<table border=\"1\" class=\"dataframe\">\n",
       "  <thead>\n",
       "    <tr style=\"text-align: right;\">\n",
       "      <th></th>\n",
       "      <th>id</th>\n",
       "      <th>recency</th>\n",
       "      <th>is_referral</th>\n",
       "      <th>conversion</th>\n",
       "    </tr>\n",
       "  </thead>\n",
       "  <tbody>\n",
       "    <tr>\n",
       "      <th>count</th>\n",
       "      <td>64000.000000</td>\n",
       "      <td>64000.000000</td>\n",
       "      <td>64000.000000</td>\n",
       "      <td>64000.000000</td>\n",
       "    </tr>\n",
       "    <tr>\n",
       "      <th>mean</th>\n",
       "      <td>550694.137797</td>\n",
       "      <td>5.763734</td>\n",
       "      <td>0.502250</td>\n",
       "      <td>0.146781</td>\n",
       "    </tr>\n",
       "    <tr>\n",
       "      <th>std</th>\n",
       "      <td>259105.689773</td>\n",
       "      <td>3.507592</td>\n",
       "      <td>0.499999</td>\n",
       "      <td>0.353890</td>\n",
       "    </tr>\n",
       "    <tr>\n",
       "      <th>min</th>\n",
       "      <td>100001.000000</td>\n",
       "      <td>1.000000</td>\n",
       "      <td>0.000000</td>\n",
       "      <td>0.000000</td>\n",
       "    </tr>\n",
       "    <tr>\n",
       "      <th>25%</th>\n",
       "      <td>326772.000000</td>\n",
       "      <td>2.000000</td>\n",
       "      <td>0.000000</td>\n",
       "      <td>0.000000</td>\n",
       "    </tr>\n",
       "    <tr>\n",
       "      <th>50%</th>\n",
       "      <td>551300.000000</td>\n",
       "      <td>6.000000</td>\n",
       "      <td>1.000000</td>\n",
       "      <td>0.000000</td>\n",
       "    </tr>\n",
       "    <tr>\n",
       "      <th>75%</th>\n",
       "      <td>774914.500000</td>\n",
       "      <td>9.000000</td>\n",
       "      <td>1.000000</td>\n",
       "      <td>0.000000</td>\n",
       "    </tr>\n",
       "    <tr>\n",
       "      <th>max</th>\n",
       "      <td>999997.000000</td>\n",
       "      <td>12.000000</td>\n",
       "      <td>1.000000</td>\n",
       "      <td>1.000000</td>\n",
       "    </tr>\n",
       "  </tbody>\n",
       "</table>\n",
       "</div>"
      ],
      "text/plain": [
       "                  id       recency   is_referral    conversion\n",
       "count   64000.000000  64000.000000  64000.000000  64000.000000\n",
       "mean   550694.137797      5.763734      0.502250      0.146781\n",
       "std    259105.689773      3.507592      0.499999      0.353890\n",
       "min    100001.000000      1.000000      0.000000      0.000000\n",
       "25%    326772.000000      2.000000      0.000000      0.000000\n",
       "50%    551300.000000      6.000000      1.000000      0.000000\n",
       "75%    774914.500000      9.000000      1.000000      0.000000\n",
       "max    999997.000000     12.000000      1.000000      1.000000"
      ]
     },
     "execution_count": 38,
     "metadata": {},
     "output_type": "execute_result"
    }
   ],
   "source": [
    "mem.describe()"
   ]
  },
  {
   "cell_type": "code",
   "execution_count": 39,
   "id": "ce8a81b3",
   "metadata": {},
   "outputs": [
    {
     "data": {
      "text/plain": [
       "<Axes: >"
      ]
     },
     "execution_count": 39,
     "metadata": {},
     "output_type": "execute_result"
    },
    {
     "data": {
      "image/png": "[encoded data removed]",
      "text/plain": [
       "<Figure size 640x480 with 1 Axes>"
      ]
     },
     "metadata": {},
     "output_type": "display_data"
    }
   ],
   "source": [
    "mem['recency'].plot(kind='box')"
   ]
  },
  {
   "cell_type": "code",
   "execution_count": 40,
   "id": "da9c9907",
   "metadata": {},
   "outputs": [
    {
     "data": {
      "text/html": [
       "<div>\n",
       "<style scoped>\n",
       "    .dataframe tbody tr th:only-of-type {\n",
       "        vertical-align: middle;\n",
       "    }\n",
       "\n",
       "    .dataframe tbody tr th {\n",
       "        vertical-align: top;\n",
       "    }\n",
       "\n",
       "    .dataframe thead th {\n",
       "        text-align: right;\n",
       "    }\n",
       "</style>\n",
       "<table border=\"1\" class=\"dataframe\">\n",
       "  <thead>\n",
       "    <tr style=\"text-align: right;\">\n",
       "      <th></th>\n",
       "      <th>id</th>\n",
       "      <th>num_item</th>\n",
       "      <th>total_amount</th>\n",
       "    </tr>\n",
       "  </thead>\n",
       "  <tbody>\n",
       "    <tr>\n",
       "      <th>count</th>\n",
       "      <td>196836.000000</td>\n",
       "      <td>196836.000000</td>\n",
       "      <td>196836.000000</td>\n",
       "    </tr>\n",
       "    <tr>\n",
       "      <th>mean</th>\n",
       "      <td>550557.552932</td>\n",
       "      <td>3.078365</td>\n",
       "      <td>21837.102969</td>\n",
       "    </tr>\n",
       "    <tr>\n",
       "      <th>std</th>\n",
       "      <td>259254.795613</td>\n",
       "      <td>1.478408</td>\n",
       "      <td>8218.005565</td>\n",
       "    </tr>\n",
       "    <tr>\n",
       "      <th>min</th>\n",
       "      <td>100001.000000</td>\n",
       "      <td>1.000000</td>\n",
       "      <td>8000.000000</td>\n",
       "    </tr>\n",
       "    <tr>\n",
       "      <th>25%</th>\n",
       "      <td>326719.000000</td>\n",
       "      <td>2.000000</td>\n",
       "      <td>15000.000000</td>\n",
       "    </tr>\n",
       "    <tr>\n",
       "      <th>50%</th>\n",
       "      <td>550918.000000</td>\n",
       "      <td>3.000000</td>\n",
       "      <td>22000.000000</td>\n",
       "    </tr>\n",
       "    <tr>\n",
       "      <th>75%</th>\n",
       "      <td>774916.000000</td>\n",
       "      <td>4.000000</td>\n",
       "      <td>29000.000000</td>\n",
       "    </tr>\n",
       "    <tr>\n",
       "      <th>max</th>\n",
       "      <td>999997.000000</td>\n",
       "      <td>6.000000</td>\n",
       "      <td>38000.000000</td>\n",
       "    </tr>\n",
       "  </tbody>\n",
       "</table>\n",
       "</div>"
      ],
      "text/plain": [
       "                  id       num_item   total_amount\n",
       "count  196836.000000  196836.000000  196836.000000\n",
       "mean   550557.552932       3.078365   21837.102969\n",
       "std    259254.795613       1.478408    8218.005565\n",
       "min    100001.000000       1.000000    8000.000000\n",
       "25%    326719.000000       2.000000   15000.000000\n",
       "50%    550918.000000       3.000000   22000.000000\n",
       "75%    774916.000000       4.000000   29000.000000\n",
       "max    999997.000000       6.000000   38000.000000"
      ]
     },
     "execution_count": 40,
     "metadata": {},
     "output_type": "execute_result"
    }
   ],
   "source": [
    "tran.describe()"
   ]
  },
  {
   "cell_type": "code",
   "execution_count": 41,
   "id": "b0030c07",
   "metadata": {},
   "outputs": [
    {
     "data": {
      "text/plain": [
       "<Axes: >"
      ]
     },
     "execution_count": 41,
     "metadata": {},
     "output_type": "execute_result"
    },
    {
     "data": {
      "image/png": "[encoded data removed]",
      "text/plain": [
       "<Figure size 640x480 with 1 Axes>"
      ]
     },
     "metadata": {},
     "output_type": "display_data"
    }
   ],
   "source": [
    "tran['num_item'].plot(kind='box')"
   ]
  },
  {
   "cell_type": "code",
   "execution_count": 42,
   "id": "521963bd",
   "metadata": {},
   "outputs": [
    {
     "data": {
      "text/plain": [
       "<Axes: >"
      ]
     },
     "execution_count": 42,
     "metadata": {},
     "output_type": "execute_result"
    },
    {
     "data": {
      "image/png": "[encoded data removed]",
      "text/plain": [
       "<Figure size 640x480 with 1 Axes>"
      ]
     },
     "metadata": {},
     "output_type": "display_data"
    }
   ],
   "source": [
    "tran['total_amount'].plot(kind='box')"
   ]
  },
  {
   "cell_type": "code",
   "execution_count": 43,
   "id": "e5caea14",
   "metadata": {},
   "outputs": [
    {
     "data": {
      "text/html": [
       "<div>\n",
       "<style scoped>\n",
       "    .dataframe tbody tr th:only-of-type {\n",
       "        vertical-align: middle;\n",
       "    }\n",
       "\n",
       "    .dataframe tbody tr th {\n",
       "        vertical-align: top;\n",
       "    }\n",
       "\n",
       "    .dataframe thead th {\n",
       "        text-align: right;\n",
       "    }\n",
       "</style>\n",
       "<table border=\"1\" class=\"dataframe\">\n",
       "  <thead>\n",
       "    <tr style=\"text-align: right;\">\n",
       "      <th></th>\n",
       "      <th>id</th>\n",
       "      <th>num_item</th>\n",
       "      <th>total_amount</th>\n",
       "    </tr>\n",
       "  </thead>\n",
       "  <tbody>\n",
       "    <tr>\n",
       "      <th>0</th>\n",
       "      <td>906145</td>\n",
       "      <td>5</td>\n",
       "      <td>34000</td>\n",
       "    </tr>\n",
       "    <tr>\n",
       "      <th>1</th>\n",
       "      <td>906145</td>\n",
       "      <td>1</td>\n",
       "      <td>27000</td>\n",
       "    </tr>\n",
       "    <tr>\n",
       "      <th>2</th>\n",
       "      <td>906145</td>\n",
       "      <td>4</td>\n",
       "      <td>33000</td>\n",
       "    </tr>\n",
       "    <tr>\n",
       "      <th>3</th>\n",
       "      <td>184478</td>\n",
       "      <td>4</td>\n",
       "      <td>29000</td>\n",
       "    </tr>\n",
       "    <tr>\n",
       "      <th>4</th>\n",
       "      <td>394235</td>\n",
       "      <td>4</td>\n",
       "      <td>33000</td>\n",
       "    </tr>\n",
       "  </tbody>\n",
       "</table>\n",
       "</div>"
      ],
      "text/plain": [
       "       id  num_item  total_amount\n",
       "0  906145         5         34000\n",
       "1  906145         1         27000\n",
       "2  906145         4         33000\n",
       "3  184478         4         29000\n",
       "4  394235         4         33000"
      ]
     },
     "execution_count": 43,
     "metadata": {},
     "output_type": "execute_result"
    }
   ],
   "source": [
    "tran.head()"
   ]
  },
  {
   "cell_type": "code",
   "execution_count": 44,
   "id": "95489844",
   "metadata": {},
   "outputs": [],
   "source": [
    "tran_total = tran.groupby('id')[['num_item','total_amount']].sum()"
   ]
  },
  {
   "cell_type": "code",
   "execution_count": 45,
   "id": "86b7f1dd",
   "metadata": {},
   "outputs": [],
   "source": [
    "tran_total['mean_amount'] = tran_total['total_amount'] // tran_total['num_item']"
   ]
  },
  {
   "cell_type": "code",
   "execution_count": 46,
   "id": "b7c746ca",
   "metadata": {},
   "outputs": [
    {
     "data": {
      "text/html": [
       "<div>\n",
       "<style scoped>\n",
       "    .dataframe tbody tr th:only-of-type {\n",
       "        vertical-align: middle;\n",
       "    }\n",
       "\n",
       "    .dataframe tbody tr th {\n",
       "        vertical-align: top;\n",
       "    }\n",
       "\n",
       "    .dataframe thead th {\n",
       "        text-align: right;\n",
       "    }\n",
       "</style>\n",
       "<table border=\"1\" class=\"dataframe\">\n",
       "  <thead>\n",
       "    <tr style=\"text-align: right;\">\n",
       "      <th></th>\n",
       "      <th>num_item</th>\n",
       "      <th>total_amount</th>\n",
       "      <th>mean_amount</th>\n",
       "    </tr>\n",
       "    <tr>\n",
       "      <th>id</th>\n",
       "      <th></th>\n",
       "      <th></th>\n",
       "      <th></th>\n",
       "    </tr>\n",
       "  </thead>\n",
       "  <tbody>\n",
       "    <tr>\n",
       "      <th>100001</th>\n",
       "      <td>7</td>\n",
       "      <td>52000</td>\n",
       "      <td>7428</td>\n",
       "    </tr>\n",
       "    <tr>\n",
       "      <th>100008</th>\n",
       "      <td>5</td>\n",
       "      <td>26000</td>\n",
       "      <td>5200</td>\n",
       "    </tr>\n",
       "    <tr>\n",
       "      <th>100032</th>\n",
       "      <td>8</td>\n",
       "      <td>62000</td>\n",
       "      <td>7750</td>\n",
       "    </tr>\n",
       "    <tr>\n",
       "      <th>100036</th>\n",
       "      <td>15</td>\n",
       "      <td>129000</td>\n",
       "      <td>8600</td>\n",
       "    </tr>\n",
       "    <tr>\n",
       "      <th>100070</th>\n",
       "      <td>13</td>\n",
       "      <td>85000</td>\n",
       "      <td>6538</td>\n",
       "    </tr>\n",
       "    <tr>\n",
       "      <th>...</th>\n",
       "      <td>...</td>\n",
       "      <td>...</td>\n",
       "      <td>...</td>\n",
       "    </tr>\n",
       "    <tr>\n",
       "      <th>999932</th>\n",
       "      <td>5</td>\n",
       "      <td>32000</td>\n",
       "      <td>6400</td>\n",
       "    </tr>\n",
       "    <tr>\n",
       "      <th>999981</th>\n",
       "      <td>8</td>\n",
       "      <td>91000</td>\n",
       "      <td>11375</td>\n",
       "    </tr>\n",
       "    <tr>\n",
       "      <th>999990</th>\n",
       "      <td>9</td>\n",
       "      <td>84000</td>\n",
       "      <td>9333</td>\n",
       "    </tr>\n",
       "    <tr>\n",
       "      <th>999995</th>\n",
       "      <td>2</td>\n",
       "      <td>27000</td>\n",
       "      <td>13500</td>\n",
       "    </tr>\n",
       "    <tr>\n",
       "      <th>999997</th>\n",
       "      <td>2</td>\n",
       "      <td>13000</td>\n",
       "      <td>6500</td>\n",
       "    </tr>\n",
       "  </tbody>\n",
       "</table>\n",
       "<p>64000 rows × 3 columns</p>\n",
       "</div>"
      ],
      "text/plain": [
       "        num_item  total_amount  mean_amount\n",
       "id                                         \n",
       "100001         7         52000         7428\n",
       "100008         5         26000         5200\n",
       "100032         8         62000         7750\n",
       "100036        15        129000         8600\n",
       "100070        13         85000         6538\n",
       "...          ...           ...          ...\n",
       "999932         5         32000         6400\n",
       "999981         8         91000        11375\n",
       "999990         9         84000         9333\n",
       "999995         2         27000        13500\n",
       "999997         2         13000         6500\n",
       "\n",
       "[64000 rows x 3 columns]"
      ]
     },
     "execution_count": 46,
     "metadata": {},
     "output_type": "execute_result"
    }
   ],
   "source": [
    "tran_total"
   ]
  },
  {
   "cell_type": "code",
   "execution_count": 47,
   "id": "7e855222",
   "metadata": {},
   "outputs": [],
   "source": [
    "frequency = tran['id'].value_counts()"
   ]
  },
  {
   "cell_type": "code",
   "execution_count": 48,
   "id": "b09a1951",
   "metadata": {},
   "outputs": [
    {
     "name": "stdout",
     "output_type": "stream",
     "text": [
      "<class 'pandas.core.series.Series'>\n"
     ]
    }
   ],
   "source": [
    "print(type(frequency))"
   ]
  },
  {
   "cell_type": "code",
   "execution_count": 49,
   "id": "02371861",
   "metadata": {
    "scrolled": true
   },
   "outputs": [
    {
     "data": {
      "text/html": [
       "<div>\n",
       "<style scoped>\n",
       "    .dataframe tbody tr th:only-of-type {\n",
       "        vertical-align: middle;\n",
       "    }\n",
       "\n",
       "    .dataframe tbody tr th {\n",
       "        vertical-align: top;\n",
       "    }\n",
       "\n",
       "    .dataframe thead th {\n",
       "        text-align: right;\n",
       "    }\n",
       "</style>\n",
       "<table border=\"1\" class=\"dataframe\">\n",
       "  <thead>\n",
       "    <tr style=\"text-align: right;\">\n",
       "      <th></th>\n",
       "      <th>count</th>\n",
       "    </tr>\n",
       "    <tr>\n",
       "      <th>id</th>\n",
       "      <th></th>\n",
       "    </tr>\n",
       "  </thead>\n",
       "  <tbody>\n",
       "    <tr>\n",
       "      <th>691067</th>\n",
       "      <td>5</td>\n",
       "    </tr>\n",
       "    <tr>\n",
       "      <th>720147</th>\n",
       "      <td>5</td>\n",
       "    </tr>\n",
       "    <tr>\n",
       "      <th>422265</th>\n",
       "      <td>5</td>\n",
       "    </tr>\n",
       "    <tr>\n",
       "      <th>670720</th>\n",
       "      <td>5</td>\n",
       "    </tr>\n",
       "    <tr>\n",
       "      <th>154620</th>\n",
       "      <td>5</td>\n",
       "    </tr>\n",
       "    <tr>\n",
       "      <th>...</th>\n",
       "      <td>...</td>\n",
       "    </tr>\n",
       "    <tr>\n",
       "      <th>881780</th>\n",
       "      <td>1</td>\n",
       "    </tr>\n",
       "    <tr>\n",
       "      <th>154471</th>\n",
       "      <td>1</td>\n",
       "    </tr>\n",
       "    <tr>\n",
       "      <th>480462</th>\n",
       "      <td>1</td>\n",
       "    </tr>\n",
       "    <tr>\n",
       "      <th>126129</th>\n",
       "      <td>1</td>\n",
       "    </tr>\n",
       "    <tr>\n",
       "      <th>156423</th>\n",
       "      <td>1</td>\n",
       "    </tr>\n",
       "  </tbody>\n",
       "</table>\n",
       "<p>64000 rows × 1 columns</p>\n",
       "</div>"
      ],
      "text/plain": [
       "        count\n",
       "id           \n",
       "691067      5\n",
       "720147      5\n",
       "422265      5\n",
       "670720      5\n",
       "154620      5\n",
       "...       ...\n",
       "881780      1\n",
       "154471      1\n",
       "480462      1\n",
       "126129      1\n",
       "156423      1\n",
       "\n",
       "[64000 rows x 1 columns]"
      ]
     },
     "execution_count": 49,
     "metadata": {},
     "output_type": "execute_result"
    }
   ],
   "source": [
    "frequency = pd.DataFrame(frequency)\n",
    "frequency"
   ]
  },
  {
   "cell_type": "code",
   "execution_count": 50,
   "id": "58fe9996",
   "metadata": {},
   "outputs": [],
   "source": [
    "tran_total = tran_total.join(frequency, on='id')"
   ]
  },
  {
   "cell_type": "code",
   "execution_count": 51,
   "id": "d7b624dc",
   "metadata": {},
   "outputs": [],
   "source": [
    "tran_total = tran_total.rename(columns={'count':'frequency'})"
   ]
  },
  {
   "cell_type": "code",
   "execution_count": 52,
   "id": "52a4158a",
   "metadata": {},
   "outputs": [
    {
     "data": {
      "text/html": [
       "<div>\n",
       "<style scoped>\n",
       "    .dataframe tbody tr th:only-of-type {\n",
       "        vertical-align: middle;\n",
       "    }\n",
       "\n",
       "    .dataframe tbody tr th {\n",
       "        vertical-align: top;\n",
       "    }\n",
       "\n",
       "    .dataframe thead th {\n",
       "        text-align: right;\n",
       "    }\n",
       "</style>\n",
       "<table border=\"1\" class=\"dataframe\">\n",
       "  <thead>\n",
       "    <tr style=\"text-align: right;\">\n",
       "      <th></th>\n",
       "      <th>num_item</th>\n",
       "      <th>total_amount</th>\n",
       "      <th>mean_amount</th>\n",
       "      <th>frequency</th>\n",
       "    </tr>\n",
       "    <tr>\n",
       "      <th>id</th>\n",
       "      <th></th>\n",
       "      <th></th>\n",
       "      <th></th>\n",
       "      <th></th>\n",
       "    </tr>\n",
       "  </thead>\n",
       "  <tbody>\n",
       "    <tr>\n",
       "      <th>100001</th>\n",
       "      <td>7</td>\n",
       "      <td>52000</td>\n",
       "      <td>7428</td>\n",
       "      <td>2</td>\n",
       "    </tr>\n",
       "    <tr>\n",
       "      <th>100008</th>\n",
       "      <td>5</td>\n",
       "      <td>26000</td>\n",
       "      <td>5200</td>\n",
       "      <td>1</td>\n",
       "    </tr>\n",
       "    <tr>\n",
       "      <th>100032</th>\n",
       "      <td>8</td>\n",
       "      <td>62000</td>\n",
       "      <td>7750</td>\n",
       "      <td>3</td>\n",
       "    </tr>\n",
       "    <tr>\n",
       "      <th>100036</th>\n",
       "      <td>15</td>\n",
       "      <td>129000</td>\n",
       "      <td>8600</td>\n",
       "      <td>5</td>\n",
       "    </tr>\n",
       "    <tr>\n",
       "      <th>100070</th>\n",
       "      <td>13</td>\n",
       "      <td>85000</td>\n",
       "      <td>6538</td>\n",
       "      <td>4</td>\n",
       "    </tr>\n",
       "    <tr>\n",
       "      <th>...</th>\n",
       "      <td>...</td>\n",
       "      <td>...</td>\n",
       "      <td>...</td>\n",
       "      <td>...</td>\n",
       "    </tr>\n",
       "    <tr>\n",
       "      <th>999932</th>\n",
       "      <td>5</td>\n",
       "      <td>32000</td>\n",
       "      <td>6400</td>\n",
       "      <td>1</td>\n",
       "    </tr>\n",
       "    <tr>\n",
       "      <th>999981</th>\n",
       "      <td>8</td>\n",
       "      <td>91000</td>\n",
       "      <td>11375</td>\n",
       "      <td>4</td>\n",
       "    </tr>\n",
       "    <tr>\n",
       "      <th>999990</th>\n",
       "      <td>9</td>\n",
       "      <td>84000</td>\n",
       "      <td>9333</td>\n",
       "      <td>3</td>\n",
       "    </tr>\n",
       "    <tr>\n",
       "      <th>999995</th>\n",
       "      <td>2</td>\n",
       "      <td>27000</td>\n",
       "      <td>13500</td>\n",
       "      <td>1</td>\n",
       "    </tr>\n",
       "    <tr>\n",
       "      <th>999997</th>\n",
       "      <td>2</td>\n",
       "      <td>13000</td>\n",
       "      <td>6500</td>\n",
       "      <td>1</td>\n",
       "    </tr>\n",
       "  </tbody>\n",
       "</table>\n",
       "<p>64000 rows × 4 columns</p>\n",
       "</div>"
      ],
      "text/plain": [
       "        num_item  total_amount  mean_amount  frequency\n",
       "id                                                    \n",
       "100001         7         52000         7428          2\n",
       "100008         5         26000         5200          1\n",
       "100032         8         62000         7750          3\n",
       "100036        15        129000         8600          5\n",
       "100070        13         85000         6538          4\n",
       "...          ...           ...          ...        ...\n",
       "999932         5         32000         6400          1\n",
       "999981         8         91000        11375          4\n",
       "999990         9         84000         9333          3\n",
       "999995         2         27000        13500          1\n",
       "999997         2         13000         6500          1\n",
       "\n",
       "[64000 rows x 4 columns]"
      ]
     },
     "execution_count": 52,
     "metadata": {},
     "output_type": "execute_result"
    }
   ],
   "source": [
    "tran_total"
   ]
  },
  {
   "cell_type": "code",
   "execution_count": 53,
   "id": "616d0ed0",
   "metadata": {},
   "outputs": [],
   "source": [
    "data = pd.merge(mem, tran_total, how='inner', on='id')"
   ]
  },
  {
   "cell_type": "code",
   "execution_count": 54,
   "id": "02c753fd",
   "metadata": {},
   "outputs": [
    {
     "data": {
      "text/html": [
       "<div>\n",
       "<style scoped>\n",
       "    .dataframe tbody tr th:only-of-type {\n",
       "        vertical-align: middle;\n",
       "    }\n",
       "\n",
       "    .dataframe tbody tr th {\n",
       "        vertical-align: top;\n",
       "    }\n",
       "\n",
       "    .dataframe thead th {\n",
       "        text-align: right;\n",
       "    }\n",
       "</style>\n",
       "<table border=\"1\" class=\"dataframe\">\n",
       "  <thead>\n",
       "    <tr style=\"text-align: right;\">\n",
       "      <th></th>\n",
       "      <th>id</th>\n",
       "      <th>recency</th>\n",
       "      <th>zip_code</th>\n",
       "      <th>is_referral</th>\n",
       "      <th>channel</th>\n",
       "      <th>conversion</th>\n",
       "      <th>num_item</th>\n",
       "      <th>total_amount</th>\n",
       "      <th>mean_amount</th>\n",
       "      <th>frequency</th>\n",
       "    </tr>\n",
       "  </thead>\n",
       "  <tbody>\n",
       "    <tr>\n",
       "      <th>0</th>\n",
       "      <td>906145</td>\n",
       "      <td>10</td>\n",
       "      <td>Surburban</td>\n",
       "      <td>0</td>\n",
       "      <td>Phone</td>\n",
       "      <td>0</td>\n",
       "      <td>10</td>\n",
       "      <td>94000</td>\n",
       "      <td>9400</td>\n",
       "      <td>3</td>\n",
       "    </tr>\n",
       "    <tr>\n",
       "      <th>1</th>\n",
       "      <td>184478</td>\n",
       "      <td>6</td>\n",
       "      <td>Rural</td>\n",
       "      <td>1</td>\n",
       "      <td>Web</td>\n",
       "      <td>0</td>\n",
       "      <td>4</td>\n",
       "      <td>29000</td>\n",
       "      <td>7250</td>\n",
       "      <td>1</td>\n",
       "    </tr>\n",
       "    <tr>\n",
       "      <th>2</th>\n",
       "      <td>394235</td>\n",
       "      <td>7</td>\n",
       "      <td>Surburban</td>\n",
       "      <td>1</td>\n",
       "      <td>Web</td>\n",
       "      <td>0</td>\n",
       "      <td>8</td>\n",
       "      <td>41000</td>\n",
       "      <td>5125</td>\n",
       "      <td>2</td>\n",
       "    </tr>\n",
       "    <tr>\n",
       "      <th>3</th>\n",
       "      <td>130152</td>\n",
       "      <td>9</td>\n",
       "      <td>Rural</td>\n",
       "      <td>1</td>\n",
       "      <td>Web</td>\n",
       "      <td>0</td>\n",
       "      <td>7</td>\n",
       "      <td>83000</td>\n",
       "      <td>11857</td>\n",
       "      <td>4</td>\n",
       "    </tr>\n",
       "    <tr>\n",
       "      <th>4</th>\n",
       "      <td>940352</td>\n",
       "      <td>2</td>\n",
       "      <td>Urban</td>\n",
       "      <td>0</td>\n",
       "      <td>Web</td>\n",
       "      <td>0</td>\n",
       "      <td>3</td>\n",
       "      <td>31000</td>\n",
       "      <td>10333</td>\n",
       "      <td>1</td>\n",
       "    </tr>\n",
       "    <tr>\n",
       "      <th>...</th>\n",
       "      <td>...</td>\n",
       "      <td>...</td>\n",
       "      <td>...</td>\n",
       "      <td>...</td>\n",
       "      <td>...</td>\n",
       "      <td>...</td>\n",
       "      <td>...</td>\n",
       "      <td>...</td>\n",
       "      <td>...</td>\n",
       "      <td>...</td>\n",
       "    </tr>\n",
       "    <tr>\n",
       "      <th>63995</th>\n",
       "      <td>838295</td>\n",
       "      <td>10</td>\n",
       "      <td>Urban</td>\n",
       "      <td>0</td>\n",
       "      <td>Web</td>\n",
       "      <td>0</td>\n",
       "      <td>14</td>\n",
       "      <td>104000</td>\n",
       "      <td>7428</td>\n",
       "      <td>4</td>\n",
       "    </tr>\n",
       "    <tr>\n",
       "      <th>63996</th>\n",
       "      <td>547316</td>\n",
       "      <td>5</td>\n",
       "      <td>Urban</td>\n",
       "      <td>1</td>\n",
       "      <td>Phone</td>\n",
       "      <td>0</td>\n",
       "      <td>9</td>\n",
       "      <td>89000</td>\n",
       "      <td>9888</td>\n",
       "      <td>5</td>\n",
       "    </tr>\n",
       "    <tr>\n",
       "      <th>63997</th>\n",
       "      <td>131575</td>\n",
       "      <td>6</td>\n",
       "      <td>Urban</td>\n",
       "      <td>1</td>\n",
       "      <td>Phone</td>\n",
       "      <td>0</td>\n",
       "      <td>8</td>\n",
       "      <td>61000</td>\n",
       "      <td>7625</td>\n",
       "      <td>2</td>\n",
       "    </tr>\n",
       "    <tr>\n",
       "      <th>63998</th>\n",
       "      <td>603659</td>\n",
       "      <td>1</td>\n",
       "      <td>Surburban</td>\n",
       "      <td>1</td>\n",
       "      <td>Multichannel</td>\n",
       "      <td>0</td>\n",
       "      <td>16</td>\n",
       "      <td>108000</td>\n",
       "      <td>6750</td>\n",
       "      <td>5</td>\n",
       "    </tr>\n",
       "    <tr>\n",
       "      <th>63999</th>\n",
       "      <td>254229</td>\n",
       "      <td>1</td>\n",
       "      <td>Surburban</td>\n",
       "      <td>0</td>\n",
       "      <td>Web</td>\n",
       "      <td>0</td>\n",
       "      <td>17</td>\n",
       "      <td>122000</td>\n",
       "      <td>7176</td>\n",
       "      <td>5</td>\n",
       "    </tr>\n",
       "  </tbody>\n",
       "</table>\n",
       "<p>64000 rows × 10 columns</p>\n",
       "</div>"
      ],
      "text/plain": [
       "           id  recency   zip_code  is_referral       channel  conversion  \\\n",
       "0      906145       10  Surburban            0         Phone           0   \n",
       "1      184478        6      Rural            1           Web           0   \n",
       "2      394235        7  Surburban            1           Web           0   \n",
       "3      130152        9      Rural            1           Web           0   \n",
       "4      940352        2      Urban            0           Web           0   \n",
       "...       ...      ...        ...          ...           ...         ...   \n",
       "63995  838295       10      Urban            0           Web           0   \n",
       "63996  547316        5      Urban            1         Phone           0   \n",
       "63997  131575        6      Urban            1         Phone           0   \n",
       "63998  603659        1  Surburban            1  Multichannel           0   \n",
       "63999  254229        1  Surburban            0           Web           0   \n",
       "\n",
       "       num_item  total_amount  mean_amount  frequency  \n",
       "0            10         94000         9400          3  \n",
       "1             4         29000         7250          1  \n",
       "2             8         41000         5125          2  \n",
       "3             7         83000        11857          4  \n",
       "4             3         31000        10333          1  \n",
       "...         ...           ...          ...        ...  \n",
       "63995        14        104000         7428          4  \n",
       "63996         9         89000         9888          5  \n",
       "63997         8         61000         7625          2  \n",
       "63998        16        108000         6750          5  \n",
       "63999        17        122000         7176          5  \n",
       "\n",
       "[64000 rows x 10 columns]"
      ]
     },
     "execution_count": 54,
     "metadata": {},
     "output_type": "execute_result"
    }
   ],
   "source": [
    "data"
   ]
  },
  {
   "cell_type": "code",
   "execution_count": 55,
   "id": "c6b52933",
   "metadata": {},
   "outputs": [
    {
     "name": "stdout",
     "output_type": "stream",
     "text": [
      "Requirement already satisfied: ydata-profiling in c:\\users\\hi\\anaconda3\\lib\\site-packages (4.6.0)\n",
      "Requirement already satisfied: scipy<1.12,>=1.4.1 in c:\\users\\hi\\anaconda3\\lib\\site-packages (from ydata-profiling) (1.10.1)\n",
      "Requirement already satisfied: pandas!=1.4.0,<2.1,>1.1 in c:\\users\\hi\\anaconda3\\lib\\site-packages (from ydata-profiling) (1.5.3)\n",
      "Requirement already satisfied: matplotlib<=3.7.3,>=3.2 in c:\\users\\hi\\anaconda3\\lib\\site-packages (from ydata-profiling) (3.7.1)\n",
      "Requirement already satisfied: pydantic<2,>=1.8.1 in c:\\users\\hi\\anaconda3\\lib\\site-packages (from ydata-profiling) (1.10.13)\n",
      "Requirement already satisfied: PyYAML<6.1,>=5.0.0 in c:\\users\\hi\\anaconda3\\lib\\site-packages (from ydata-profiling) (6.0)\n",
      "Requirement already satisfied: jinja2<3.2,>=2.11.1 in c:\\users\\hi\\anaconda3\\lib\\site-packages (from ydata-profiling) (3.1.2)\n",
      "Requirement already satisfied: visions[type_image_path]==0.7.5 in c:\\users\\hi\\anaconda3\\lib\\site-packages (from ydata-profiling) (0.7.5)\n",
      "Requirement already satisfied: numpy<1.26,>=1.16.0 in c:\\users\\hi\\anaconda3\\lib\\site-packages (from ydata-profiling) (1.24.3)\n",
      "Requirement already satisfied: htmlmin==0.1.12 in c:\\users\\hi\\anaconda3\\lib\\site-packages (from ydata-profiling) (0.1.12)\n",
      "Requirement already satisfied: phik<0.13,>=0.11.1 in c:\\users\\hi\\anaconda3\\lib\\site-packages (from ydata-profiling) (0.12.3)\n",
      "Requirement already satisfied: requests<3,>=2.24.0 in c:\\users\\hi\\anaconda3\\lib\\site-packages (from ydata-profiling) (2.31.0)\n",
      "Requirement already satisfied: tqdm<5,>=4.48.2 in c:\\users\\hi\\anaconda3\\lib\\site-packages (from ydata-profiling) (4.65.0)\n",
      "Requirement already satisfied: seaborn<0.13,>=0.10.1 in c:\\users\\hi\\anaconda3\\lib\\site-packages (from ydata-profiling) (0.12.2)\n",
      "Requirement already satisfied: multimethod<2,>=1.4 in c:\\users\\hi\\anaconda3\\lib\\site-packages (from ydata-profiling) (1.10)\n",
      "Requirement already satisfied: statsmodels<1,>=0.13.2 in c:\\users\\hi\\anaconda3\\lib\\site-packages (from ydata-profiling) (0.14.0)\n",
      "Requirement already satisfied: typeguard<5,>=4.1.2 in c:\\users\\hi\\anaconda3\\lib\\site-packages (from ydata-profiling) (4.1.5)\n",
      "Requirement already satisfied: imagehash==4.3.1 in c:\\users\\hi\\anaconda3\\lib\\site-packages (from ydata-profiling) (4.3.1)\n",
      "Requirement already satisfied: wordcloud>=1.9.1 in c:\\users\\hi\\anaconda3\\lib\\site-packages (from ydata-profiling) (1.9.2)\n",
      "Requirement already satisfied: dacite>=1.8 in c:\\users\\hi\\anaconda3\\lib\\site-packages (from ydata-profiling) (1.8.1)\n",
      "Requirement already satisfied: numba<0.59.0,>=0.56.0 in c:\\users\\hi\\anaconda3\\lib\\site-packages (from ydata-profiling) (0.57.0)\n",
      "Requirement already satisfied: PyWavelets in c:\\users\\hi\\anaconda3\\lib\\site-packages (from imagehash==4.3.1->ydata-profiling) (1.4.1)\n",
      "Requirement already satisfied: pillow in c:\\users\\hi\\anaconda3\\lib\\site-packages (from imagehash==4.3.1->ydata-profiling) (9.4.0)\n",
      "Requirement already satisfied: attrs>=19.3.0 in c:\\users\\hi\\anaconda3\\lib\\site-packages (from visions[type_image_path]==0.7.5->ydata-profiling) (22.1.0)\n",
      "Requirement already satisfied: networkx>=2.4 in c:\\users\\hi\\anaconda3\\lib\\site-packages (from visions[type_image_path]==0.7.5->ydata-profiling) (3.1)\n",
      "Requirement already satisfied: tangled-up-in-unicode>=0.0.4 in c:\\users\\hi\\anaconda3\\lib\\site-packages (from visions[type_image_path]==0.7.5->ydata-profiling) (0.2.0)\n",
      "Requirement already satisfied: MarkupSafe>=2.0 in c:\\users\\hi\\anaconda3\\lib\\site-packages (from jinja2<3.2,>=2.11.1->ydata-profiling) (2.1.1)\n",
      "Requirement already satisfied: contourpy>=1.0.1 in c:\\users\\hi\\anaconda3\\lib\\site-packages (from matplotlib<=3.7.3,>=3.2->ydata-profiling) (1.0.5)\n",
      "Requirement already satisfied: cycler>=0.10 in c:\\users\\hi\\anaconda3\\lib\\site-packages (from matplotlib<=3.7.3,>=3.2->ydata-profiling) (0.11.0)\n",
      "Requirement already satisfied: fonttools>=4.22.0 in c:\\users\\hi\\anaconda3\\lib\\site-packages (from matplotlib<=3.7.3,>=3.2->ydata-profiling) (4.25.0)\n",
      "Requirement already satisfied: kiwisolver>=1.0.1 in c:\\users\\hi\\anaconda3\\lib\\site-packages (from matplotlib<=3.7.3,>=3.2->ydata-profiling) (1.4.4)\n",
      "Requirement already satisfied: packaging>=20.0 in c:\\users\\hi\\anaconda3\\lib\\site-packages (from matplotlib<=3.7.3,>=3.2->ydata-profiling) (23.0)\n",
      "Requirement already satisfied: pyparsing>=2.3.1 in c:\\users\\hi\\anaconda3\\lib\\site-packages (from matplotlib<=3.7.3,>=3.2->ydata-profiling) (3.0.9)\n",
      "Requirement already satisfied: python-dateutil>=2.7 in c:\\users\\hi\\anaconda3\\lib\\site-packages (from matplotlib<=3.7.3,>=3.2->ydata-profiling) (2.8.2)\n",
      "Requirement already satisfied: llvmlite<0.41,>=0.40.0dev0 in c:\\users\\hi\\anaconda3\\lib\\site-packages (from numba<0.59.0,>=0.56.0->ydata-profiling) (0.40.0)\n",
      "Requirement already satisfied: pytz>=2020.1 in c:\\users\\hi\\anaconda3\\lib\\site-packages (from pandas!=1.4.0,<2.1,>1.1->ydata-profiling) (2022.7)\n",
      "Requirement already satisfied: joblib>=0.14.1 in c:\\users\\hi\\anaconda3\\lib\\site-packages (from phik<0.13,>=0.11.1->ydata-profiling) (1.2.0)\n",
      "Requirement already satisfied: typing-extensions>=4.2.0 in c:\\users\\hi\\anaconda3\\lib\\site-packages (from pydantic<2,>=1.8.1->ydata-profiling) (4.7.1)\n",
      "Requirement already satisfied: charset-normalizer<4,>=2 in c:\\users\\hi\\anaconda3\\lib\\site-packages (from requests<3,>=2.24.0->ydata-profiling) (2.0.4)\n",
      "Requirement already satisfied: idna<4,>=2.5 in c:\\users\\hi\\anaconda3\\lib\\site-packages (from requests<3,>=2.24.0->ydata-profiling) (3.4)\n",
      "Requirement already satisfied: urllib3<3,>=1.21.1 in c:\\users\\hi\\anaconda3\\lib\\site-packages (from requests<3,>=2.24.0->ydata-profiling) (1.26.16)\n",
      "Requirement already satisfied: certifi>=2017.4.17 in c:\\users\\hi\\anaconda3\\lib\\site-packages (from requests<3,>=2.24.0->ydata-profiling) (2023.7.22)\n",
      "Requirement already satisfied: patsy>=0.5.2 in c:\\users\\hi\\anaconda3\\lib\\site-packages (from statsmodels<1,>=0.13.2->ydata-profiling) (0.5.3)\n",
      "Requirement already satisfied: colorama in c:\\users\\hi\\anaconda3\\lib\\site-packages (from tqdm<5,>=4.48.2->ydata-profiling) (0.4.6)\n",
      "Requirement already satisfied: six in c:\\users\\hi\\anaconda3\\lib\\site-packages (from patsy>=0.5.2->statsmodels<1,>=0.13.2->ydata-profiling) (1.16.0)\n"
     ]
    }
   ],
   "source": [
    "!pip install ydata-profiling"
   ]
  },
  {
   "cell_type": "code",
   "execution_count": 56,
   "id": "b9d6353e",
   "metadata": {},
   "outputs": [],
   "source": [
    "from ydata_profiling import ProfileReport"
   ]
  },
  {
   "cell_type": "code",
   "execution_count": 57,
   "id": "7ff582ca",
   "metadata": {},
   "outputs": [
    {
     "name": "stderr",
     "output_type": "stream",
     "text": [
      "Summarize dataset: 100%|████████████████████████████████████████████████████| 44/44 [00:06<00:00,  7.02it/s, Completed]\n",
      "Generate report structure: 100%|█████████████████████████████████████████████████████████| 1/1 [00:04<00:00,  4.53s/it]\n",
      "Render HTML: 100%|███████████████████████████████████████████████████████████████████████| 1/1 [00:01<00:00,  1.18s/it]\n",
      "Export report to file: 100%|████████████████████████████████████████████████████████████| 1/1 [00:00<00:00, 125.06it/s]\n"
     ]
    }
   ],
   "source": [
    "pf = ProfileReport(data)\n",
    "pf.to_file('test.html')"
   ]
  },
  {
   "cell_type": "code",
   "execution_count": 58,
   "id": "fa6bbfdb",
   "metadata": {
    "scrolled": false
   },
   "outputs": [
    {
     "data": {
      "text/plain": [
       "zip_code\n",
       "Surburban    28776\n",
       "Urban        25661\n",
       "Rural         9563\n",
       "Name: count, dtype: int64"
      ]
     },
     "execution_count": 58,
     "metadata": {},
     "output_type": "execute_result"
    }
   ],
   "source": [
    "data['zip_code'].value_counts()"
   ]
  },
  {
   "cell_type": "code",
   "execution_count": 59,
   "id": "be4cc9f9",
   "metadata": {},
   "outputs": [
    {
     "data": {
      "text/plain": [
       "zip_code   conversion\n",
       "Rural      0              7764\n",
       "           1              1799\n",
       "Surburban  0             24749\n",
       "           1              4027\n",
       "Urban      0             22093\n",
       "           1              3568\n",
       "Name: count, dtype: int64"
      ]
     },
     "execution_count": 59,
     "metadata": {},
     "output_type": "execute_result"
    }
   ],
   "source": [
    "data.groupby('zip_code')['conversion'].value_counts(sort=False)"
   ]
  },
  {
   "cell_type": "code",
   "execution_count": 60,
   "id": "e2bf529b",
   "metadata": {},
   "outputs": [],
   "source": [
    "def c_ratio(x):\n",
    "    for idx, item in zip(x.index, x):\n",
    "        if idx[1] == 0:\n",
    "            under_50 = item\n",
    "        else:\n",
    "            upper_50 = item\n",
    "            class_ratio = upper_50/(upper_50+under_50) * 100\n",
    "            print(idx, f'{class_ratio:.2f}%')"
   ]
  },
  {
   "cell_type": "code",
   "execution_count": 61,
   "id": "f586eb18",
   "metadata": {},
   "outputs": [
    {
     "name": "stdout",
     "output_type": "stream",
     "text": [
      "('Rural', 1) 18.81%\n",
      "('Surburban', 1) 13.99%\n",
      "('Urban', 1) 13.90%\n"
     ]
    }
   ],
   "source": [
    "c_ratio(data.groupby('zip_code')['conversion'].value_counts(sort=False))"
   ]
  },
  {
   "cell_type": "code",
   "execution_count": 62,
   "id": "b0dffc8a",
   "metadata": {},
   "outputs": [
    {
     "data": {
      "text/html": [
       "<div>\n",
       "<style scoped>\n",
       "    .dataframe tbody tr th:only-of-type {\n",
       "        vertical-align: middle;\n",
       "    }\n",
       "\n",
       "    .dataframe tbody tr th {\n",
       "        vertical-align: top;\n",
       "    }\n",
       "\n",
       "    .dataframe thead th {\n",
       "        text-align: right;\n",
       "    }\n",
       "</style>\n",
       "<table border=\"1\" class=\"dataframe\">\n",
       "  <thead>\n",
       "    <tr style=\"text-align: right;\">\n",
       "      <th></th>\n",
       "      <th>num_item</th>\n",
       "      <th>total_amount</th>\n",
       "      <th>mean_amount</th>\n",
       "      <th>frequency</th>\n",
       "    </tr>\n",
       "    <tr>\n",
       "      <th>zip_code</th>\n",
       "      <th></th>\n",
       "      <th></th>\n",
       "      <th></th>\n",
       "      <th></th>\n",
       "    </tr>\n",
       "  </thead>\n",
       "  <tbody>\n",
       "    <tr>\n",
       "      <th>Rural</th>\n",
       "      <td>9.677298</td>\n",
       "      <td>68149.325525</td>\n",
       "      <td>8036.516156</td>\n",
       "      <td>3.109380</td>\n",
       "    </tr>\n",
       "    <tr>\n",
       "      <th>Surburban</th>\n",
       "      <td>9.438873</td>\n",
       "      <td>67007.541006</td>\n",
       "      <td>8096.941514</td>\n",
       "      <td>3.068529</td>\n",
       "    </tr>\n",
       "    <tr>\n",
       "      <th>Urban</th>\n",
       "      <td>9.421924</td>\n",
       "      <td>66965.706714</td>\n",
       "      <td>8144.102841</td>\n",
       "      <td>3.070847</td>\n",
       "    </tr>\n",
       "  </tbody>\n",
       "</table>\n",
       "</div>"
      ],
      "text/plain": [
       "           num_item  total_amount  mean_amount  frequency\n",
       "zip_code                                                 \n",
       "Rural      9.677298  68149.325525  8036.516156   3.109380\n",
       "Surburban  9.438873  67007.541006  8096.941514   3.068529\n",
       "Urban      9.421924  66965.706714  8144.102841   3.070847"
      ]
     },
     "execution_count": 62,
     "metadata": {},
     "output_type": "execute_result"
    }
   ],
   "source": [
    "data.groupby('zip_code')[['num_item','total_amount','mean_amount','frequency']].mean()"
   ]
  },
  {
   "cell_type": "code",
   "execution_count": 63,
   "id": "6b19a843",
   "metadata": {},
   "outputs": [
    {
     "data": {
      "text/plain": [
       "channel\n",
       "Web             28217\n",
       "Phone           28021\n",
       "Multichannel     7762\n",
       "Name: count, dtype: int64"
      ]
     },
     "execution_count": 63,
     "metadata": {},
     "output_type": "execute_result"
    }
   ],
   "source": [
    "data['channel'].value_counts()"
   ]
  },
  {
   "cell_type": "code",
   "execution_count": 64,
   "id": "301e4b90",
   "metadata": {},
   "outputs": [
    {
     "data": {
      "text/html": [
       "<div>\n",
       "<style scoped>\n",
       "    .dataframe tbody tr th:only-of-type {\n",
       "        vertical-align: middle;\n",
       "    }\n",
       "\n",
       "    .dataframe tbody tr th {\n",
       "        vertical-align: top;\n",
       "    }\n",
       "\n",
       "    .dataframe thead th {\n",
       "        text-align: right;\n",
       "    }\n",
       "</style>\n",
       "<table border=\"1\" class=\"dataframe\">\n",
       "  <thead>\n",
       "    <tr style=\"text-align: right;\">\n",
       "      <th></th>\n",
       "      <th>num_item</th>\n",
       "      <th>total_amount</th>\n",
       "      <th>mean_amount</th>\n",
       "      <th>frequency</th>\n",
       "    </tr>\n",
       "    <tr>\n",
       "      <th>channel</th>\n",
       "      <th></th>\n",
       "      <th></th>\n",
       "      <th></th>\n",
       "      <th></th>\n",
       "    </tr>\n",
       "  </thead>\n",
       "  <tbody>\n",
       "    <tr>\n",
       "      <th>Multichannel</th>\n",
       "      <td>9.473718</td>\n",
       "      <td>67182.169544</td>\n",
       "      <td>8106.270549</td>\n",
       "      <td>3.063772</td>\n",
       "    </tr>\n",
       "    <tr>\n",
       "      <th>Phone</th>\n",
       "      <td>9.416937</td>\n",
       "      <td>66936.155027</td>\n",
       "      <td>8129.841619</td>\n",
       "      <td>3.073445</td>\n",
       "    </tr>\n",
       "    <tr>\n",
       "      <th>Web</th>\n",
       "      <td>9.516462</td>\n",
       "      <td>67379.310345</td>\n",
       "      <td>8084.114257</td>\n",
       "      <td>3.080909</td>\n",
       "    </tr>\n",
       "  </tbody>\n",
       "</table>\n",
       "</div>"
      ],
      "text/plain": [
       "              num_item  total_amount  mean_amount  frequency\n",
       "channel                                                     \n",
       "Multichannel  9.473718  67182.169544  8106.270549   3.063772\n",
       "Phone         9.416937  66936.155027  8129.841619   3.073445\n",
       "Web           9.516462  67379.310345  8084.114257   3.080909"
      ]
     },
     "execution_count": 64,
     "metadata": {},
     "output_type": "execute_result"
    }
   ],
   "source": [
    "data.groupby('channel')[['num_item','total_amount','mean_amount','frequency']].mean()"
   ]
  },
  {
   "cell_type": "code",
   "execution_count": 65,
   "id": "c5af8408",
   "metadata": {},
   "outputs": [
    {
     "data": {
      "text/plain": [
       "is_referral  conversion\n",
       "0            0             26343\n",
       "             1              5513\n",
       "1            0             28263\n",
       "             1              3881\n",
       "Name: count, dtype: int64"
      ]
     },
     "execution_count": 65,
     "metadata": {},
     "output_type": "execute_result"
    }
   ],
   "source": [
    "data.groupby('is_referral')['conversion'].value_counts(sort=False)"
   ]
  },
  {
   "cell_type": "code",
   "execution_count": 66,
   "id": "bc381a00",
   "metadata": {
    "scrolled": true
   },
   "outputs": [
    {
     "name": "stdout",
     "output_type": "stream",
     "text": [
      "(0, 1) 17.31%\n",
      "(1, 1) 12.07%\n"
     ]
    }
   ],
   "source": [
    "c_ratio(data.groupby('is_referral')['conversion'].value_counts(sort=False))"
   ]
  },
  {
   "cell_type": "code",
   "execution_count": 67,
   "id": "32918c5c",
   "metadata": {},
   "outputs": [],
   "source": [
    "data = pd.get_dummies(data, columns=[\"zip_code\", \"channel\"], drop_first=True)"
   ]
  },
  {
   "cell_type": "code",
   "execution_count": 68,
   "id": "d22778aa",
   "metadata": {},
   "outputs": [
    {
     "data": {
      "text/html": [
       "<div>\n",
       "<style scoped>\n",
       "    .dataframe tbody tr th:only-of-type {\n",
       "        vertical-align: middle;\n",
       "    }\n",
       "\n",
       "    .dataframe tbody tr th {\n",
       "        vertical-align: top;\n",
       "    }\n",
       "\n",
       "    .dataframe thead th {\n",
       "        text-align: right;\n",
       "    }\n",
       "</style>\n",
       "<table border=\"1\" class=\"dataframe\">\n",
       "  <thead>\n",
       "    <tr style=\"text-align: right;\">\n",
       "      <th></th>\n",
       "      <th>id</th>\n",
       "      <th>recency</th>\n",
       "      <th>is_referral</th>\n",
       "      <th>conversion</th>\n",
       "      <th>num_item</th>\n",
       "      <th>total_amount</th>\n",
       "      <th>mean_amount</th>\n",
       "      <th>frequency</th>\n",
       "      <th>zip_code_Surburban</th>\n",
       "      <th>zip_code_Urban</th>\n",
       "      <th>channel_Phone</th>\n",
       "      <th>channel_Web</th>\n",
       "    </tr>\n",
       "  </thead>\n",
       "  <tbody>\n",
       "    <tr>\n",
       "      <th>0</th>\n",
       "      <td>906145</td>\n",
       "      <td>10</td>\n",
       "      <td>0</td>\n",
       "      <td>0</td>\n",
       "      <td>10</td>\n",
       "      <td>94000</td>\n",
       "      <td>9400</td>\n",
       "      <td>3</td>\n",
       "      <td>True</td>\n",
       "      <td>False</td>\n",
       "      <td>True</td>\n",
       "      <td>False</td>\n",
       "    </tr>\n",
       "    <tr>\n",
       "      <th>1</th>\n",
       "      <td>184478</td>\n",
       "      <td>6</td>\n",
       "      <td>1</td>\n",
       "      <td>0</td>\n",
       "      <td>4</td>\n",
       "      <td>29000</td>\n",
       "      <td>7250</td>\n",
       "      <td>1</td>\n",
       "      <td>False</td>\n",
       "      <td>False</td>\n",
       "      <td>False</td>\n",
       "      <td>True</td>\n",
       "    </tr>\n",
       "    <tr>\n",
       "      <th>2</th>\n",
       "      <td>394235</td>\n",
       "      <td>7</td>\n",
       "      <td>1</td>\n",
       "      <td>0</td>\n",
       "      <td>8</td>\n",
       "      <td>41000</td>\n",
       "      <td>5125</td>\n",
       "      <td>2</td>\n",
       "      <td>True</td>\n",
       "      <td>False</td>\n",
       "      <td>False</td>\n",
       "      <td>True</td>\n",
       "    </tr>\n",
       "    <tr>\n",
       "      <th>3</th>\n",
       "      <td>130152</td>\n",
       "      <td>9</td>\n",
       "      <td>1</td>\n",
       "      <td>0</td>\n",
       "      <td>7</td>\n",
       "      <td>83000</td>\n",
       "      <td>11857</td>\n",
       "      <td>4</td>\n",
       "      <td>False</td>\n",
       "      <td>False</td>\n",
       "      <td>False</td>\n",
       "      <td>True</td>\n",
       "    </tr>\n",
       "    <tr>\n",
       "      <th>4</th>\n",
       "      <td>940352</td>\n",
       "      <td>2</td>\n",
       "      <td>0</td>\n",
       "      <td>0</td>\n",
       "      <td>3</td>\n",
       "      <td>31000</td>\n",
       "      <td>10333</td>\n",
       "      <td>1</td>\n",
       "      <td>False</td>\n",
       "      <td>True</td>\n",
       "      <td>False</td>\n",
       "      <td>True</td>\n",
       "    </tr>\n",
       "  </tbody>\n",
       "</table>\n",
       "</div>"
      ],
      "text/plain": [
       "       id  recency  is_referral  conversion  num_item  total_amount  \\\n",
       "0  906145       10            0           0        10         94000   \n",
       "1  184478        6            1           0         4         29000   \n",
       "2  394235        7            1           0         8         41000   \n",
       "3  130152        9            1           0         7         83000   \n",
       "4  940352        2            0           0         3         31000   \n",
       "\n",
       "   mean_amount  frequency  zip_code_Surburban  zip_code_Urban  channel_Phone  \\\n",
       "0         9400          3                True           False           True   \n",
       "1         7250          1               False           False          False   \n",
       "2         5125          2                True           False          False   \n",
       "3        11857          4               False           False          False   \n",
       "4        10333          1               False            True          False   \n",
       "\n",
       "   channel_Web  \n",
       "0        False  \n",
       "1         True  \n",
       "2         True  \n",
       "3         True  \n",
       "4         True  "
      ]
     },
     "execution_count": 68,
     "metadata": {},
     "output_type": "execute_result"
    }
   ],
   "source": [
    "data.head()"
   ]
  },
  {
   "cell_type": "code",
   "execution_count": 69,
   "id": "42d54cac",
   "metadata": {},
   "outputs": [],
   "source": [
    "X = data.drop(['id', 'conversion'], axis=1)\n",
    "y = data['conversion']"
   ]
  },
  {
   "cell_type": "code",
   "execution_count": 70,
   "id": "fe9b1e89",
   "metadata": {},
   "outputs": [],
   "source": [
    "from sklearn.preprocessing import MinMaxScaler, StandardScaler"
   ]
  },
  {
   "cell_type": "code",
   "execution_count": 71,
   "id": "d3c16a25",
   "metadata": {},
   "outputs": [],
   "source": [
    "scale = MinMaxScaler()\n",
    "X_mx_scaled = scale.fit_transform(X)\n",
    "scale2 = StandardScaler()\n",
    "X_std_scaled = scale2.fit_transform(X)"
   ]
  },
  {
   "cell_type": "code",
   "execution_count": 72,
   "id": "ef6de00c",
   "metadata": {},
   "outputs": [
    {
     "data": {
      "text/html": [
       "<div>\n",
       "<style scoped>\n",
       "    .dataframe tbody tr th:only-of-type {\n",
       "        vertical-align: middle;\n",
       "    }\n",
       "\n",
       "    .dataframe tbody tr th {\n",
       "        vertical-align: top;\n",
       "    }\n",
       "\n",
       "    .dataframe thead th {\n",
       "        text-align: right;\n",
       "    }\n",
       "</style>\n",
       "<table border=\"1\" class=\"dataframe\">\n",
       "  <thead>\n",
       "    <tr style=\"text-align: right;\">\n",
       "      <th></th>\n",
       "      <th>recency</th>\n",
       "      <th>is_referral</th>\n",
       "      <th>num_item</th>\n",
       "      <th>total_amount</th>\n",
       "      <th>mean_amount</th>\n",
       "      <th>frequency</th>\n",
       "      <th>zip_code_Surburban</th>\n",
       "      <th>zip_code_Urban</th>\n",
       "      <th>channel_Phone</th>\n",
       "      <th>channel_Web</th>\n",
       "    </tr>\n",
       "  </thead>\n",
       "  <tbody>\n",
       "    <tr>\n",
       "      <th>0</th>\n",
       "      <td>0.818182</td>\n",
       "      <td>0.0</td>\n",
       "      <td>0.333333</td>\n",
       "      <td>0.488636</td>\n",
       "      <td>0.233533</td>\n",
       "      <td>0.50</td>\n",
       "      <td>1.0</td>\n",
       "      <td>0.0</td>\n",
       "      <td>1.0</td>\n",
       "      <td>0.0</td>\n",
       "    </tr>\n",
       "    <tr>\n",
       "      <th>1</th>\n",
       "      <td>0.454545</td>\n",
       "      <td>1.0</td>\n",
       "      <td>0.111111</td>\n",
       "      <td>0.119318</td>\n",
       "      <td>0.169162</td>\n",
       "      <td>0.00</td>\n",
       "      <td>0.0</td>\n",
       "      <td>0.0</td>\n",
       "      <td>0.0</td>\n",
       "      <td>1.0</td>\n",
       "    </tr>\n",
       "    <tr>\n",
       "      <th>2</th>\n",
       "      <td>0.545455</td>\n",
       "      <td>1.0</td>\n",
       "      <td>0.259259</td>\n",
       "      <td>0.187500</td>\n",
       "      <td>0.105539</td>\n",
       "      <td>0.25</td>\n",
       "      <td>1.0</td>\n",
       "      <td>0.0</td>\n",
       "      <td>0.0</td>\n",
       "      <td>1.0</td>\n",
       "    </tr>\n",
       "    <tr>\n",
       "      <th>3</th>\n",
       "      <td>0.727273</td>\n",
       "      <td>1.0</td>\n",
       "      <td>0.222222</td>\n",
       "      <td>0.426136</td>\n",
       "      <td>0.307096</td>\n",
       "      <td>0.75</td>\n",
       "      <td>0.0</td>\n",
       "      <td>0.0</td>\n",
       "      <td>0.0</td>\n",
       "      <td>1.0</td>\n",
       "    </tr>\n",
       "    <tr>\n",
       "      <th>4</th>\n",
       "      <td>0.090909</td>\n",
       "      <td>0.0</td>\n",
       "      <td>0.074074</td>\n",
       "      <td>0.130682</td>\n",
       "      <td>0.261467</td>\n",
       "      <td>0.00</td>\n",
       "      <td>0.0</td>\n",
       "      <td>1.0</td>\n",
       "      <td>0.0</td>\n",
       "      <td>1.0</td>\n",
       "    </tr>\n",
       "  </tbody>\n",
       "</table>\n",
       "</div>"
      ],
      "text/plain": [
       "    recency  is_referral  num_item  total_amount  mean_amount  frequency  \\\n",
       "0  0.818182          0.0  0.333333      0.488636     0.233533       0.50   \n",
       "1  0.454545          1.0  0.111111      0.119318     0.169162       0.00   \n",
       "2  0.545455          1.0  0.259259      0.187500     0.105539       0.25   \n",
       "3  0.727273          1.0  0.222222      0.426136     0.307096       0.75   \n",
       "4  0.090909          0.0  0.074074      0.130682     0.261467       0.00   \n",
       "\n",
       "   zip_code_Surburban  zip_code_Urban  channel_Phone  channel_Web  \n",
       "0                 1.0             0.0            1.0          0.0  \n",
       "1                 0.0             0.0            0.0          1.0  \n",
       "2                 1.0             0.0            0.0          1.0  \n",
       "3                 0.0             0.0            0.0          1.0  \n",
       "4                 0.0             1.0            0.0          1.0  "
      ]
     },
     "execution_count": 72,
     "metadata": {},
     "output_type": "execute_result"
    }
   ],
   "source": [
    "X_mx_scaled = pd.DataFrame(X_mx_scaled, columns=X.columns)\n",
    "X_mx_scaled.head()"
   ]
  },
  {
   "cell_type": "code",
   "execution_count": 73,
   "id": "f1bbc05b",
   "metadata": {},
   "outputs": [
    {
     "data": {
      "text/html": [
       "<div>\n",
       "<style scoped>\n",
       "    .dataframe tbody tr th:only-of-type {\n",
       "        vertical-align: middle;\n",
       "    }\n",
       "\n",
       "    .dataframe tbody tr th {\n",
       "        vertical-align: top;\n",
       "    }\n",
       "\n",
       "    .dataframe thead th {\n",
       "        text-align: right;\n",
       "    }\n",
       "</style>\n",
       "<table border=\"1\" class=\"dataframe\">\n",
       "  <thead>\n",
       "    <tr style=\"text-align: right;\">\n",
       "      <th></th>\n",
       "      <th>recency</th>\n",
       "      <th>is_referral</th>\n",
       "      <th>num_item</th>\n",
       "      <th>total_amount</th>\n",
       "      <th>mean_amount</th>\n",
       "      <th>frequency</th>\n",
       "      <th>zip_code_Surburban</th>\n",
       "      <th>zip_code_Urban</th>\n",
       "      <th>channel_Phone</th>\n",
       "      <th>channel_Web</th>\n",
       "    </tr>\n",
       "  </thead>\n",
       "  <tbody>\n",
       "    <tr>\n",
       "      <th>0</th>\n",
       "      <td>1.207751</td>\n",
       "      <td>-1.00451</td>\n",
       "      <td>0.105664</td>\n",
       "      <td>0.797515</td>\n",
       "      <td>0.295355</td>\n",
       "      <td>-0.054589</td>\n",
       "      <td>1.106380</td>\n",
       "      <td>-0.818119</td>\n",
       "      <td>1.133138</td>\n",
       "      <td>-0.888008</td>\n",
       "    </tr>\n",
       "    <tr>\n",
       "      <th>1</th>\n",
       "      <td>0.067359</td>\n",
       "      <td>0.99551</td>\n",
       "      <td>-1.085368</td>\n",
       "      <td>-1.133973</td>\n",
       "      <td>-0.195694</td>\n",
       "      <td>-1.499455</td>\n",
       "      <td>-0.903849</td>\n",
       "      <td>-0.818119</td>\n",
       "      <td>-0.882505</td>\n",
       "      <td>1.126116</td>\n",
       "    </tr>\n",
       "    <tr>\n",
       "      <th>2</th>\n",
       "      <td>0.352457</td>\n",
       "      <td>0.99551</td>\n",
       "      <td>-0.291347</td>\n",
       "      <td>-0.777391</td>\n",
       "      <td>-0.681032</td>\n",
       "      <td>-0.777022</td>\n",
       "      <td>1.106380</td>\n",
       "      <td>-0.818119</td>\n",
       "      <td>-0.882505</td>\n",
       "      <td>1.126116</td>\n",
       "    </tr>\n",
       "    <tr>\n",
       "      <th>3</th>\n",
       "      <td>0.922653</td>\n",
       "      <td>0.99551</td>\n",
       "      <td>-0.489852</td>\n",
       "      <td>0.470648</td>\n",
       "      <td>0.856521</td>\n",
       "      <td>0.667844</td>\n",
       "      <td>-0.903849</td>\n",
       "      <td>-0.818119</td>\n",
       "      <td>-0.882505</td>\n",
       "      <td>1.126116</td>\n",
       "    </tr>\n",
       "    <tr>\n",
       "      <th>4</th>\n",
       "      <td>-1.073034</td>\n",
       "      <td>-1.00451</td>\n",
       "      <td>-1.283873</td>\n",
       "      <td>-1.074543</td>\n",
       "      <td>0.508447</td>\n",
       "      <td>-1.499455</td>\n",
       "      <td>-0.903849</td>\n",
       "      <td>1.222316</td>\n",
       "      <td>-0.882505</td>\n",
       "      <td>1.126116</td>\n",
       "    </tr>\n",
       "  </tbody>\n",
       "</table>\n",
       "</div>"
      ],
      "text/plain": [
       "    recency  is_referral  num_item  total_amount  mean_amount  frequency  \\\n",
       "0  1.207751     -1.00451  0.105664      0.797515     0.295355  -0.054589   \n",
       "1  0.067359      0.99551 -1.085368     -1.133973    -0.195694  -1.499455   \n",
       "2  0.352457      0.99551 -0.291347     -0.777391    -0.681032  -0.777022   \n",
       "3  0.922653      0.99551 -0.489852      0.470648     0.856521   0.667844   \n",
       "4 -1.073034     -1.00451 -1.283873     -1.074543     0.508447  -1.499455   \n",
       "\n",
       "   zip_code_Surburban  zip_code_Urban  channel_Phone  channel_Web  \n",
       "0            1.106380       -0.818119       1.133138    -0.888008  \n",
       "1           -0.903849       -0.818119      -0.882505     1.126116  \n",
       "2            1.106380       -0.818119      -0.882505     1.126116  \n",
       "3           -0.903849       -0.818119      -0.882505     1.126116  \n",
       "4           -0.903849        1.222316      -0.882505     1.126116  "
      ]
     },
     "execution_count": 73,
     "metadata": {},
     "output_type": "execute_result"
    }
   ],
   "source": [
    "X_std_scaled = pd.DataFrame(X_std_scaled, columns=X.columns)\n",
    "X_std_scaled.head()"
   ]
  },
  {
   "cell_type": "code",
   "execution_count": 74,
   "id": "c4d51998",
   "metadata": {},
   "outputs": [],
   "source": [
    "from sklearn.model_selection import train_test_split"
   ]
  },
  {
   "cell_type": "code",
   "execution_count": 104,
   "id": "9660f635",
   "metadata": {},
   "outputs": [],
   "source": [
    "# minmax 스케일링 한 데이터셋\n",
    "X_train, X_test, y_train, y_test = train_test_split(X_mx_scaled, y, test_size= 0.4, random_state = 10)\n",
    "X_valid, X_test, y_valid, y_test = train_test_split(X_test, y_test, test_size= 0.5, random_state = 10)"
   ]
  },
  {
   "cell_type": "code",
   "execution_count": 76,
   "id": "b740d36c",
   "metadata": {},
   "outputs": [],
   "source": [
    "# Standard 스케일링 한 데이터셋\n",
    "X_train2, X_test2, y_train2, y_test2 = train_test_split(X_std_scaled, y, test_size= 0.3, random_state = 10)\n",
    "X_valid2, X_test2, y_valid2, y_test2 = train_test_split(X_test2, y_test2, test_size= 0.5, random_state = 10)"
   ]
  },
  {
   "cell_type": "code",
   "execution_count": 77,
   "id": "ed892981",
   "metadata": {},
   "outputs": [
    {
     "data": {
      "text/plain": [
       "conversion\n",
       "0    54606\n",
       "1     9394\n",
       "Name: count, dtype: int64"
      ]
     },
     "execution_count": 77,
     "metadata": {},
     "output_type": "execute_result"
    }
   ],
   "source": [
    "y.value_counts()"
   ]
  },
  {
   "cell_type": "code",
   "execution_count": 78,
   "id": "ade8da52",
   "metadata": {},
   "outputs": [
    {
     "data": {
      "text/plain": [
       "14.678125"
      ]
     },
     "execution_count": 78,
     "metadata": {},
     "output_type": "execute_result"
    }
   ],
   "source": [
    "9394 / (9394+54606) * 100"
   ]
  },
  {
   "cell_type": "code",
   "execution_count": 79,
   "id": "9272b3fc",
   "metadata": {},
   "outputs": [],
   "source": [
    "from sklearn.ensemble import RandomForestClassifier\n",
    "from sklearn.metrics import accuracy_score, confusion_matrix, classification_report"
   ]
  },
  {
   "cell_type": "code",
   "execution_count": 80,
   "id": "dea1c899",
   "metadata": {},
   "outputs": [
    {
     "name": "stdout",
     "output_type": "stream",
     "text": [
      "0.8496875\n",
      "[[8157    0]\n",
      " [1443    0]]\n",
      "              precision    recall  f1-score   support\n",
      "\n",
      "           0       0.85      1.00      0.92      8157\n",
      "           1       0.00      0.00      0.00      1443\n",
      "\n",
      "    accuracy                           0.85      9600\n",
      "   macro avg       0.42      0.50      0.46      9600\n",
      "weighted avg       0.72      0.85      0.78      9600\n",
      "\n"
     ]
    },
    {
     "name": "stderr",
     "output_type": "stream",
     "text": [
      "C:\\Users\\hi\\anaconda3\\envs\\testenv\\lib\\site-packages\\sklearn\\metrics\\_classification.py:1469: UndefinedMetricWarning: Precision and F-score are ill-defined and being set to 0.0 in labels with no predicted samples. Use `zero_division` parameter to control this behavior.\n",
      "  _warn_prf(average, modifier, msg_start, len(result))\n",
      "C:\\Users\\hi\\anaconda3\\envs\\testenv\\lib\\site-packages\\sklearn\\metrics\\_classification.py:1469: UndefinedMetricWarning: Precision and F-score are ill-defined and being set to 0.0 in labels with no predicted samples. Use `zero_division` parameter to control this behavior.\n",
      "  _warn_prf(average, modifier, msg_start, len(result))\n",
      "C:\\Users\\hi\\anaconda3\\envs\\testenv\\lib\\site-packages\\sklearn\\metrics\\_classification.py:1469: UndefinedMetricWarning: Precision and F-score are ill-defined and being set to 0.0 in labels with no predicted samples. Use `zero_division` parameter to control this behavior.\n",
      "  _warn_prf(average, modifier, msg_start, len(result))\n"
     ]
    }
   ],
   "source": [
    "rfc_mx = RandomForestClassifier(n_estimators=1000, max_depth=3, n_jobs=-1, random_state=10)\n",
    "rfc_mx.fit(X_train, y_train)\n",
    "pred_mx = rfc_mx.predict(X_valid)\n",
    "print(accuracy_score(y_valid, pred_mx))\n",
    "print(confusion_matrix(y_valid, pred_mx))\n",
    "print(classification_report(y_valid, pred_mx))"
   ]
  },
  {
   "cell_type": "code",
   "execution_count": 81,
   "id": "d5f6e0e5",
   "metadata": {},
   "outputs": [
    {
     "name": "stdout",
     "output_type": "stream",
     "text": [
      "0.8496875\n",
      "[[8157    0]\n",
      " [1443    0]]\n",
      "              precision    recall  f1-score   support\n",
      "\n",
      "           0       0.85      1.00      0.92      8157\n",
      "           1       0.00      0.00      0.00      1443\n",
      "\n",
      "    accuracy                           0.85      9600\n",
      "   macro avg       0.42      0.50      0.46      9600\n",
      "weighted avg       0.72      0.85      0.78      9600\n",
      "\n"
     ]
    },
    {
     "name": "stderr",
     "output_type": "stream",
     "text": [
      "C:\\Users\\hi\\anaconda3\\envs\\testenv\\lib\\site-packages\\sklearn\\metrics\\_classification.py:1469: UndefinedMetricWarning: Precision and F-score are ill-defined and being set to 0.0 in labels with no predicted samples. Use `zero_division` parameter to control this behavior.\n",
      "  _warn_prf(average, modifier, msg_start, len(result))\n",
      "C:\\Users\\hi\\anaconda3\\envs\\testenv\\lib\\site-packages\\sklearn\\metrics\\_classification.py:1469: UndefinedMetricWarning: Precision and F-score are ill-defined and being set to 0.0 in labels with no predicted samples. Use `zero_division` parameter to control this behavior.\n",
      "  _warn_prf(average, modifier, msg_start, len(result))\n",
      "C:\\Users\\hi\\anaconda3\\envs\\testenv\\lib\\site-packages\\sklearn\\metrics\\_classification.py:1469: UndefinedMetricWarning: Precision and F-score are ill-defined and being set to 0.0 in labels with no predicted samples. Use `zero_division` parameter to control this behavior.\n",
      "  _warn_prf(average, modifier, msg_start, len(result))\n"
     ]
    }
   ],
   "source": [
    "rfc_std = RandomForestClassifier(n_estimators=1000, max_depth=3, n_jobs=-1, random_state=10)\n",
    "rfc_std.fit(X_train2, y_train2)\n",
    "pred_std = rfc_std.predict(X_valid2)\n",
    "print(accuracy_score(y_valid2, pred_std))\n",
    "print(confusion_matrix(y_valid2, pred_std))\n",
    "print(classification_report(y_valid2, pred_std))"
   ]
  },
  {
   "cell_type": "code",
   "execution_count": 82,
   "id": "ee5d332a",
   "metadata": {},
   "outputs": [
    {
     "name": "stdout",
     "output_type": "stream",
     "text": [
      "0.8638541666666667\n",
      "              precision    recall  f1-score   support\n",
      "\n",
      "           0       0.87      0.99      0.93      8157\n",
      "           1       0.73      0.15      0.25      1443\n",
      "\n",
      "    accuracy                           0.86      9600\n",
      "   macro avg       0.80      0.57      0.59      9600\n",
      "weighted avg       0.85      0.86      0.82      9600\n",
      "\n"
     ]
    }
   ],
   "source": [
    "from xgboost import XGBClassifier\n",
    "xgb_mx = XGBClassifier(n_estimators= 1000, n_jobs=-1, learning_rate=0.01, random_state=10)\n",
    "xgb_mx.fit(X_train, y_train)\n",
    "pred_xgb_mx = xgb_mx.predict(X_valid)\n",
    "print(accuracy_score(y_valid, pred_xgb_mx))\n",
    "print(classification_report(y_valid, pred_xgb_mx))"
   ]
  },
  {
   "cell_type": "code",
   "execution_count": 83,
   "id": "bd9e7c47",
   "metadata": {},
   "outputs": [
    {
     "name": "stdout",
     "output_type": "stream",
     "text": [
      "0.8638541666666667\n",
      "              precision    recall  f1-score   support\n",
      "\n",
      "           0       0.87      0.99      0.93      8157\n",
      "           1       0.73      0.15      0.25      1443\n",
      "\n",
      "    accuracy                           0.86      9600\n",
      "   macro avg       0.80      0.57      0.59      9600\n",
      "weighted avg       0.85      0.86      0.82      9600\n",
      "\n"
     ]
    }
   ],
   "source": [
    "from xgboost import XGBClassifier\n",
    "xgb_std = XGBClassifier(n_estimators= 1000, n_jobs=-1, learning_rate=0.01, random_state=10)\n",
    "xgb_std.fit(X_train2, y_train2)\n",
    "pred_xgb_std = xgb_std.predict(X_valid2)\n",
    "print(accuracy_score(y_valid2, pred_xgb_std))\n",
    "print(classification_report(y_valid2, pred_xgb_std))"
   ]
  },
  {
   "cell_type": "markdown",
   "id": "5fc8f548",
   "metadata": {},
   "source": [
    "# 하이퍼 파라미터 튜닝"
   ]
  },
  {
   "cell_type": "markdown",
   "id": "ac5e381a",
   "metadata": {},
   "source": [
    "## 그리드서치\n",
    "* manual Search에 비해, Grid Search는 체계적인 방식으로 하이퍼파라미터 최적화를 수행\n",
    "* Grid Search는 모든 parameter의 경우의 수에 대해 Cross-validation 결과가 가장 좋은 parameter를 고르는 방법\n",
    "* 전체 탐색 대상 구간, 간격은 분석가의 지정이 필요하나 균등하고 전역적인 탐색이 가능하다는 장점이 있음.\n",
    "* 단, 하이퍼파라미터의 갯수가 많아질수록 전체 탐색 시간이 기하급수적으로 증가"
   ]
  },
  {
   "cell_type": "code",
   "execution_count": 84,
   "id": "1ecdc1b1",
   "metadata": {},
   "outputs": [],
   "source": [
    "from sklearn.model_selection import GridSearchCV"
   ]
  },
  {
   "cell_type": "code",
   "execution_count": 85,
   "id": "c3cd47b1",
   "metadata": {},
   "outputs": [
    {
     "data": {
      "text/plain": [
       "{'max_depth': [3, 5, 10],\n",
       " 'n_estimators': [100, 500, 1000],\n",
       " 'learning_rate': [0.01, 0.05, 0.1]}"
      ]
     },
     "execution_count": 85,
     "metadata": {},
     "output_type": "execute_result"
    }
   ],
   "source": [
    "params = dict(max_depth=[3,5,10], n_estimators=[100, 500, 1000], learning_rate=[0.01, 0.05, 0.1])\n",
    "params"
   ]
  },
  {
   "cell_type": "code",
   "execution_count": 86,
   "id": "eceb10c2",
   "metadata": {},
   "outputs": [
    {
     "name": "stdout",
     "output_type": "stream",
     "text": [
      "Fitting 5 folds for each of 27 candidates, totalling 135 fits\n",
      "['mean_fit_time', 'mean_score_time', 'mean_test_score', 'param_learning_rate', 'param_max_depth', 'param_n_estimators', 'params', 'rank_test_score', 'split0_test_score', 'split1_test_score', 'split2_test_score', 'split3_test_score', 'split4_test_score', 'std_fit_time', 'std_score_time', 'std_test_score']\n",
      "최적 하이퍼 파라미터:  {'learning_rate': 0.05, 'max_depth': 3, 'n_estimators': 500}\n",
      "최고 예측 정확도: 0.8673\n"
     ]
    }
   ],
   "source": [
    "grid_cv = GridSearchCV(xgb_mx, param_grid=params, cv=5, n_jobs=-1, verbose=3)\n",
    "grid_cv.fit(X_train, y_train)\n",
    "pred = grid_cv.predict(X_valid)\n",
    "print(sorted(grid_cv.cv_results_.keys()))\n",
    "print('최적 하이퍼 파라미터: ', grid_cv.best_params_)\n",
    "print(f'최고 예측 정확도: {grid_cv.best_score_ :.4f}')"
   ]
  },
  {
   "cell_type": "code",
   "execution_count": 87,
   "id": "62f82e40",
   "metadata": {},
   "outputs": [
    {
     "name": "stdout",
     "output_type": "stream",
     "text": [
      "0.8654166666666666\n",
      "              precision    recall  f1-score   support\n",
      "\n",
      "           0       0.87      0.99      0.93      8157\n",
      "           1       0.77      0.15      0.25      1443\n",
      "\n",
      "    accuracy                           0.87      9600\n",
      "   macro avg       0.82      0.57      0.59      9600\n",
      "weighted avg       0.85      0.87      0.82      9600\n",
      "\n"
     ]
    }
   ],
   "source": [
    "from xgboost import XGBClassifier\n",
    "xgb_mx = XGBClassifier(max_depth = 3, n_estimators= 500, n_jobs=-1, learning_rate=0.05, random_state=10)\n",
    "xgb_mx.fit(X_train, y_train)\n",
    "pred_xgb_mx = xgb_mx.predict(X_valid)\n",
    "print(accuracy_score(y_valid, pred_xgb_mx))\n",
    "print(classification_report(y_valid, pred_xgb_mx))"
   ]
  },
  {
   "cell_type": "markdown",
   "id": "160bdc1c",
   "metadata": {},
   "source": [
    "## 랜덤서치\n",
    "* GridSearch가 전수조사라면 RandomSearch는 표본조사\n",
    "* 하이퍼파라미터 값을 랜덤 샘플링해 선정\n",
    "* RandomSearch는 GridSearch에 비해 불필요한 반복 수행 횟수를 대폭줄이면서, 동시에 정해진 간격 사이에 위치한 값들에 대해서도 확률적으로 탐색이 가능하므로 최적 하이퍼파라미터를 더 빨리 찾을 수 있다.\n"
   ]
  },
  {
   "cell_type": "code",
   "execution_count": 88,
   "id": "7f81ad7f",
   "metadata": {},
   "outputs": [],
   "source": [
    "from sklearn.model_selection import RandomizedSearchCV"
   ]
  },
  {
   "cell_type": "code",
   "execution_count": 89,
   "id": "78415315",
   "metadata": {},
   "outputs": [
    {
     "name": "stdout",
     "output_type": "stream",
     "text": [
      "Fitting 5 folds for each of 27 candidates, totalling 135 fits\n",
      "['mean_fit_time', 'mean_score_time', 'mean_test_score', 'param_learning_rate', 'param_max_depth', 'param_n_estimators', 'params', 'rank_test_score', 'split0_test_score', 'split1_test_score', 'split2_test_score', 'split3_test_score', 'split4_test_score', 'std_fit_time', 'std_score_time', 'std_test_score']\n",
      "최적 하이퍼 파라미터:  {'n_estimators': 500, 'max_depth': 3, 'learning_rate': 0.05}\n",
      "최고 예측 정확도: 0.8673\n"
     ]
    }
   ],
   "source": [
    "rand_cv = RandomizedSearchCV(xgb_mx, param_distributions=params, n_iter=27, cv=5, n_jobs=-1, verbose=3)\n",
    "rand_cv.fit(X_train, y_train)\n",
    "pred = rand_cv.predict(X_valid)\n",
    "print(sorted(rand_cv.cv_results_.keys()))\n",
    "print('최적 하이퍼 파라미터: ', rand_cv.best_params_)\n",
    "print(f'최고 예측 정확도: {rand_cv.best_score_ :.4f}')"
   ]
  },
  {
   "cell_type": "code",
   "execution_count": 90,
   "id": "e9d2d964",
   "metadata": {},
   "outputs": [
    {
     "name": "stdout",
     "output_type": "stream",
     "text": [
      "0.8654166666666666\n",
      "              precision    recall  f1-score   support\n",
      "\n",
      "           0       0.87      0.99      0.93      8157\n",
      "           1       0.77      0.15      0.25      1443\n",
      "\n",
      "    accuracy                           0.87      9600\n",
      "   macro avg       0.82      0.57      0.59      9600\n",
      "weighted avg       0.85      0.87      0.82      9600\n",
      "\n"
     ]
    }
   ],
   "source": [
    "from xgboost import XGBClassifier\n",
    "xgb_mx = XGBClassifier(max_depth = 3, n_estimators= 500, n_jobs=-1, learning_rate=0.05, random_state=10)\n",
    "xgb_mx.fit(X_train, y_train)\n",
    "pred_xgb_mx = xgb_mx.predict(X_valid)\n",
    "print(accuracy_score(y_valid, pred_xgb_mx))\n",
    "print(classification_report(y_valid, pred_xgb_mx))"
   ]
  },
  {
   "cell_type": "code",
   "execution_count": 91,
   "id": "01ff36ab",
   "metadata": {},
   "outputs": [
    {
     "name": "stdout",
     "output_type": "stream",
     "text": [
      "0.8664583333333333\n",
      "              precision    recall  f1-score   support\n",
      "\n",
      "           0       0.87      0.99      0.93      8191\n",
      "           1       0.74      0.14      0.23      1409\n",
      "\n",
      "    accuracy                           0.87      9600\n",
      "   macro avg       0.80      0.57      0.58      9600\n",
      "weighted avg       0.85      0.87      0.83      9600\n",
      "\n"
     ]
    }
   ],
   "source": [
    "pred_xgb_mx = xgb_mx.predict(X_test)\n",
    "print(accuracy_score(y_test, pred_xgb_mx))\n",
    "print(classification_report(y_test, pred_xgb_mx))"
   ]
  },
  {
   "cell_type": "markdown",
   "id": "3b7f1671",
   "metadata": {},
   "source": [
    "## 베이지안 옵티마이저\n",
    "* Bayesian Optimiztion은 베이즈 정리에 의해서 사후 확률을 통해 최적값을 예측해 최적 파라미터를 업데이트\n"
   ]
  },
  {
   "cell_type": "code",
   "execution_count": 92,
   "id": "621e7f0e",
   "metadata": {},
   "outputs": [],
   "source": [
    "X_train3 = X_train.to_numpy(dtype='int') \n",
    "y_train3 = y_train.to_numpy(dtype='int') "
   ]
  },
  {
   "cell_type": "code",
   "execution_count": 93,
   "id": "a7a180ad",
   "metadata": {},
   "outputs": [
    {
     "data": {
      "text/plain": [
       "dtype('int32')"
      ]
     },
     "execution_count": 93,
     "metadata": {},
     "output_type": "execute_result"
    }
   ],
   "source": [
    "X_train3.dtype"
   ]
  },
  {
   "cell_type": "code",
   "execution_count": 94,
   "id": "845a8de6",
   "metadata": {},
   "outputs": [],
   "source": [
    "# from skopt import BayesSearchCV"
   ]
  },
  {
   "cell_type": "code",
   "execution_count": 95,
   "id": "9c839dee",
   "metadata": {
    "scrolled": true
   },
   "outputs": [],
   "source": [
    "# bocv = BayesSearchCV(xgb_mx, search_spaces=params, cv=5, n_jobs=-1, verbose=3)\n",
    "# bocv.fit(X_train3, y_train3)\n",
    "# print(f\"val score: {bocv.best_score_:.4f}\")\n",
    "# print(f\"test score: {bocv.score(X_valid, y_valid)}\")\n",
    "# print(f\"최적 하이퍼파라미터: {bocv.best_params_}\")"
   ]
  },
  {
   "cell_type": "code",
   "execution_count": 96,
   "id": "5203fced",
   "metadata": {},
   "outputs": [
    {
     "data": {
      "text/plain": [
       "conversion\n",
       "0    54606\n",
       "1     9394\n",
       "Name: count, dtype: int64"
      ]
     },
     "execution_count": 96,
     "metadata": {},
     "output_type": "execute_result"
    }
   ],
   "source": [
    "y.value_counts()"
   ]
  },
  {
   "cell_type": "code",
   "execution_count": 97,
   "id": "c0270fda",
   "metadata": {},
   "outputs": [],
   "source": [
    "from imblearn.over_sampling import SMOTE\n",
    "sm = SMOTE(random_state=42)\n",
    "X_res, y_res = sm.fit_resample(X_train, y_train)"
   ]
  },
  {
   "cell_type": "code",
   "execution_count": 98,
   "id": "2a35fdbb",
   "metadata": {},
   "outputs": [
    {
     "data": {
      "text/plain": [
       "conversion\n",
       "0    38258\n",
       "1    38258\n",
       "Name: count, dtype: int64"
      ]
     },
     "execution_count": 98,
     "metadata": {},
     "output_type": "execute_result"
    }
   ],
   "source": [
    "y_res.value_counts()"
   ]
  },
  {
   "cell_type": "code",
   "execution_count": 99,
   "id": "9d5d8b14",
   "metadata": {},
   "outputs": [],
   "source": [
    "X_train_smt, X_test_smt, y_train_smt, y_test_smt = train_test_split(X_res, y_res, test_size=0.4, random_state=10)"
   ]
  },
  {
   "cell_type": "code",
   "execution_count": 100,
   "id": "b5d0b573",
   "metadata": {},
   "outputs": [
    {
     "name": "stdout",
     "output_type": "stream",
     "text": [
      "Fitting 5 folds for each of 27 candidates, totalling 135 fits\n",
      "['mean_fit_time', 'mean_score_time', 'mean_test_score', 'param_learning_rate', 'param_max_depth', 'param_n_estimators', 'params', 'rank_test_score', 'split0_test_score', 'split1_test_score', 'split2_test_score', 'split3_test_score', 'split4_test_score', 'std_fit_time', 'std_score_time', 'std_test_score']\n",
      "최적 하이퍼 파라미터:  {'n_estimators': 500, 'max_depth': 10, 'learning_rate': 0.1}\n",
      "최고 예측 정확도: 0.8794\n"
     ]
    }
   ],
   "source": [
    "rand_cv = RandomizedSearchCV(xgb_mx, param_distributions=params, n_iter=27, cv=5, n_jobs=-1, verbose=3)\n",
    "rand_cv.fit(X_train_smt, y_train_smt)\n",
    "pred = rand_cv.predict(X_test_smt)\n",
    "print(sorted(rand_cv.cv_results_.keys()))\n",
    "print('최적 하이퍼 파라미터: ', rand_cv.best_params_)\n",
    "print(f'최고 예측 정확도: {rand_cv.best_score_ :.4f}')"
   ]
  },
  {
   "cell_type": "code",
   "execution_count": 101,
   "id": "4f147f47",
   "metadata": {},
   "outputs": [
    {
     "name": "stdout",
     "output_type": "stream",
     "text": [
      "0.887411376482504\n",
      "              precision    recall  f1-score   support\n",
      "\n",
      "           0       0.86      0.93      0.89     15298\n",
      "           1       0.92      0.85      0.88     15309\n",
      "\n",
      "    accuracy                           0.89     30607\n",
      "   macro avg       0.89      0.89      0.89     30607\n",
      "weighted avg       0.89      0.89      0.89     30607\n",
      "\n"
     ]
    }
   ],
   "source": [
    "xgb_mx = XGBClassifier(max_depth = 10, n_estimators= 500, n_jobs=-1, learning_rate=0.1, random_state=10)\n",
    "xgb_mx.fit(X_train_smt, y_train_smt)\n",
    "pred_xgb_mx_smt = xgb_mx.predict(X_test_smt)\n",
    "print(accuracy_score(y_test_smt, pred_xgb_mx_smt))\n",
    "print(classification_report(y_test_smt, pred_xgb_mx_smt))"
   ]
  },
  {
   "cell_type": "code",
   "execution_count": 102,
   "id": "af86f786",
   "metadata": {},
   "outputs": [
    {
     "name": "stdout",
     "output_type": "stream",
     "text": [
      "0.8292708333333333\n",
      "              precision    recall  f1-score   support\n",
      "\n",
      "           0       0.88      0.93      0.90      8191\n",
      "           1       0.38      0.27      0.31      1409\n",
      "\n",
      "    accuracy                           0.83      9600\n",
      "   macro avg       0.63      0.60      0.61      9600\n",
      "weighted avg       0.81      0.83      0.82      9600\n",
      "\n"
     ]
    }
   ],
   "source": [
    "pred_xgb_mx_smt_test = xgb_mx.predict(X_test)\n",
    "print(accuracy_score(y_test, pred_xgb_mx_smt_test))\n",
    "print(classification_report(y_test, pred_xgb_mx_smt_test))"
   ]
  },
  {
   "cell_type": "code",
   "execution_count": 105,
   "id": "9e5679c6",
   "metadata": {},
   "outputs": [],
   "source": [
    "from imblearn.under_sampling import ClusterCentroids\n",
    "from sklearn.cluster import MiniBatchKMeans\n",
    "cc = ClusterCentroids(\n",
    "    estimator=MiniBatchKMeans(n_init=1, random_state=0), random_state=42\n",
    ")\n",
    "X_res2, y_res2 = cc.fit_resample(X_train, y_train)"
   ]
  },
  {
   "cell_type": "code",
   "execution_count": 106,
   "id": "8484211d",
   "metadata": {},
   "outputs": [
    {
     "data": {
      "text/plain": [
       "conversion\n",
       "0    5615\n",
       "1    5615\n",
       "Name: count, dtype: int64"
      ]
     },
     "execution_count": 106,
     "metadata": {},
     "output_type": "execute_result"
    }
   ],
   "source": [
    "y_res2.value_counts()"
   ]
  },
  {
   "cell_type": "code",
   "execution_count": 107,
   "id": "e660f99e",
   "metadata": {},
   "outputs": [
    {
     "name": "stdout",
     "output_type": "stream",
     "text": [
      "Fitting 5 folds for each of 27 candidates, totalling 135 fits\n",
      "['mean_fit_time', 'mean_score_time', 'mean_test_score', 'param_learning_rate', 'param_max_depth', 'param_n_estimators', 'params', 'rank_test_score', 'split0_test_score', 'split1_test_score', 'split2_test_score', 'split3_test_score', 'split4_test_score', 'std_fit_time', 'std_score_time', 'std_test_score']\n",
      "최적 하이퍼 파라미터:  {'n_estimators': 1000, 'max_depth': 3, 'learning_rate': 0.1}\n",
      "최고 예측 정확도: 0.7612\n"
     ]
    }
   ],
   "source": [
    "rand_cv = RandomizedSearchCV(xgb_mx, param_distributions=params, n_iter=27, cv=5, n_jobs=-1, verbose=3)\n",
    "rand_cv.fit(X_res2, y_res2)\n",
    "pred = rand_cv.predict(X_valid)\n",
    "print(sorted(rand_cv.cv_results_.keys()))\n",
    "print('최적 하이퍼 파라미터: ', rand_cv.best_params_)\n",
    "print(f'최고 예측 정확도: {rand_cv.best_score_ :.4f}')"
   ]
  },
  {
   "cell_type": "code",
   "execution_count": 108,
   "id": "04083d0d",
   "metadata": {},
   "outputs": [
    {
     "name": "stdout",
     "output_type": "stream",
     "text": [
      "0.523671875\n",
      "              precision    recall  f1-score   support\n",
      "\n",
      "           0       0.95      0.47      0.63     10953\n",
      "           1       0.21      0.85      0.34      1847\n",
      "\n",
      "    accuracy                           0.52     12800\n",
      "   macro avg       0.58      0.66      0.48     12800\n",
      "weighted avg       0.84      0.52      0.59     12800\n",
      "\n"
     ]
    }
   ],
   "source": [
    "xgb_mx = XGBClassifier(max_depth = 3, n_estimators= 1000, n_jobs=-1, learning_rate=0.1, random_state=10)\n",
    "xgb_mx.fit(X_res2, y_res2)\n",
    "pred_xgb_mx_smt = xgb_mx.predict(X_test)\n",
    "print(accuracy_score(y_test, pred_xgb_mx_smt))\n",
    "print(classification_report(y_test, pred_xgb_mx_smt))"
   ]
  },
  {
   "cell_type": "code",
   "execution_count": null,
   "id": "69fc5cab",
   "metadata": {},
   "outputs": [],
   "source": []
  },
  {
   "cell_type": "code",
   "execution_count": null,
   "id": "56ed12e1",
   "metadata": {},
   "outputs": [],
   "source": []
  }
 ],
 "metadata": {
  "kernelspec": {
   "display_name": "testenv",
   "language": "python",
   "name": "testenv"
  },
  "language_info": {
   "codemirror_mode": {
    "name": "ipython",
    "version": 3
   },
   "file_extension": ".py",
   "mimetype": "text/x-python",
   "name": "python",
   "nbconvert_exporter": "python",
   "pygments_lexer": "ipython3",
   "version": "3.8.17"
  }
 },
 "nbformat": 4,
 "nbformat_minor": 5
}
