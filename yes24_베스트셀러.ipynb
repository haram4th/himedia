{
 "cells": [
  {
   "cell_type": "code",
   "execution_count": 1,
   "id": "755c4734",
   "metadata": {},
   "outputs": [],
   "source": [
    "import requests\n",
    "from bs4 import BeautifulSoup as bs\n",
    "import time\n",
    "import pandas as pd"
   ]
  },
  {
   "cell_type": "code",
   "execution_count": 2,
   "id": "e57004ce",
   "metadata": {},
   "outputs": [
    {
     "name": "stdout",
     "output_type": "stream",
     "text": [
      "https://www.yes24.com/24/category/bestseller?CategoryNumber=001&sumgb=09&year=2023&month=7\n",
      "200\n"
     ]
    }
   ],
   "source": [
    "url = \"https://www.yes24.com/24/category/bestseller\"\n",
    "payload = dict(CategoryNumber='001', sumgb='09', year=2023, month=7)\n",
    "r = requests.get(url, params=payload)\n",
    "print(r.url)\n",
    "print(r.status_code)\n",
    "soup = bs(r.text, 'lxml')\n"
   ]
  },
  {
   "cell_type": "code",
   "execution_count": 3,
   "id": "9a055f34",
   "metadata": {},
   "outputs": [],
   "source": [
    "evens = []\n",
    "odds = []\n",
    "for i, tr in enumerate(soup.select(\"tr\")):\n",
    "    if i % 2 == 0:\n",
    "        odds.append(tr)\n",
    "    else:\n",
    "        evens.append(tr)\n",
    "        "
   ]
  },
  {
   "cell_type": "code",
   "execution_count": 4,
   "id": "f2867167",
   "metadata": {},
   "outputs": [
    {
     "data": {
      "text/plain": [
       "20"
      ]
     },
     "execution_count": 4,
     "metadata": {},
     "output_type": "execute_result"
    }
   ],
   "source": [
    "len(evens)"
   ]
  },
  {
   "cell_type": "code",
   "execution_count": 5,
   "id": "ea00e8d4",
   "metadata": {},
   "outputs": [
    {
     "data": {
      "text/plain": [
       "20"
      ]
     },
     "execution_count": 5,
     "metadata": {},
     "output_type": "execute_result"
    }
   ],
   "source": [
    "len(odds)"
   ]
  },
  {
   "cell_type": "code",
   "execution_count": 26,
   "id": "ef9e688c",
   "metadata": {},
   "outputs": [],
   "source": [
    "book_info = []\n",
    "book_preview = []\n",
    "for info in odds:\n",
    "    title = info.select_one(\"td.goodsTxtInfo p\").text\n",
    "    detail_link = 'https://www.yes24.com' + info.select_one(\"td.goodsTxtInfo p > a\")[\"href\"]\n",
    "    author, publisher, pub_date = info.select_one(\"div.aupu\").text.split(\"|\")\n",
    "    ori_price = info.select_one(\".aupu + p\").text.split(\"→\")[0] # 원래가격\n",
    "    disc_price = info.select_one(\".aupu + p\").text.split(\"→\")[1].split(\"원\")[0] # 할인가격\n",
    "    num_review = info.select_one(\"p.review\").text.split(\"(\")[1].split(\"개\")[0]  # 리뷰갯수\n",
    "    content_review = 0\n",
    "    edit_review =0\n",
    "    for i in info.select_one(\"p.review\").select(\"img\")[:5]: # 내용리뷰\n",
    "        if len(str(i)) == 66:\n",
    "            content_review += 1\n",
    "    for i in info.select_one(\"p.review\").select(\"img\")[5:]: # 편집리뷰\n",
    "        if len(str(i)) == 66:\n",
    "            edit_review += 1\n",
    "    book_info.append([title, detail_link, author, publisher, pub_date, ori_price, disc_price, num_review, content_review, edit_review])\n",
    "for info2 in evens:\n",
    "    preview = info2.select_one(\"p.read\").text\n",
    "    book_preview.append(preview)\n",
    "\n",
    "    \n",
    "    \n"
   ]
  },
  {
   "cell_type": "code",
   "execution_count": 27,
   "id": "8c69f2f4",
   "metadata": {},
   "outputs": [
    {
     "data": {
      "text/plain": [
       "['[도서]   세이노의 가르침\\n',\n",
       " 'https://www.yes24.com/Product/Goods/117014613',\n",
       " '\\n세이노(SayNo) 저  \\r\\n                \\r\\n                \\r\\n                    ',\n",
       " ' 데이원\\r\\n                \\r\\n                    ',\n",
       " ' 2023년 03월\\r\\n                 \\r\\n            ',\n",
       " '7,200원 ',\n",
       " '6,480',\n",
       " '296',\n",
       " 4,\n",
       " 4,\n",
       " '\\r\\n\\t\\t\\t            재야의 명저 『세이노의 가르침』 2023년판 정식 출간! 순자산 천억 원대 자산가, 세이노의 ‘요즘 생각’을 만나다  2000년부터 발표된 그의 주옥같은 글들. 독자들이 자발적으로 만든 제본서는 물론, 전자책과 앱까지 나왔던 『세이노의 가르침』이 드디어 서점에서 독자들을 마주한다. 여러 판본을 모으고 저자의 확...\\r\\n\\t\\t\\t        ']"
      ]
     },
     "execution_count": 27,
     "metadata": {},
     "output_type": "execute_result"
    }
   ],
   "source": [
    "for index, prev in enumerate(book_preview):\n",
    "    book_info[index].insert(10, prev)\n"
   ]
  },
  {
   "cell_type": "code",
   "execution_count": 29,
   "id": "476b56f5",
   "metadata": {},
   "outputs": [
    {
     "data": {
      "text/plain": [
       "['[도서]   비욘드 더 스토리 BEYOND THE STORY    : 10-YEAR RECORD OF BTS(Photo Card Set + PET Bookmark, 양장, 포토카드 홀더/Beyond The Story 포스터 증정(택1/포인트 차감/한정수량)   ) \\r\\n            \\r\\n            ',\n",
       " 'https://www.yes24.com/Product/Goods/119578103',\n",
       " '\\n강명석,방탄소년단 저  \\r\\n                \\r\\n                \\r\\n                    ',\n",
       " ' 빅히트뮤직(BIGHIT MUSIC)\\r\\n                \\r\\n                    ',\n",
       " ' 2023년 07월\\r\\n                 \\r\\n            ',\n",
       " '35,000원 ',\n",
       " '31,500',\n",
       " '22',\n",
       " 4,\n",
       " 4,\n",
       " '\\r\\n\\t\\t\\t            / 방탄소년단 데뷔 10주년, 오피셜 북 최초 출간 / 우리가 알고 있는 방탄소년단, 그 너머의 이야기를 말하다  2013년 6월 13일 세상에 첫발을 내디딘 후, 2023년 6월 데뷔 10주년을 맞이하는 방탄소년단. 더 이상의 수식어가 불필요할 만큼 글로벌 아티스트이자 아이콘으로 정점에 올라 또 하나의 챕터를 연 지금, 그동...\\r\\n\\t\\t\\t        ']"
      ]
     },
     "execution_count": 29,
     "metadata": {},
     "output_type": "execute_result"
    }
   ],
   "source": [
    "book_info[2]"
   ]
  },
  {
   "cell_type": "code",
   "execution_count": null,
   "id": "1dc6b01e",
   "metadata": {
    "scrolled": true
   },
   "outputs": [],
   "source": [
    "\n",
    "    "
   ]
  },
  {
   "cell_type": "code",
   "execution_count": null,
   "id": "f6ed558d",
   "metadata": {},
   "outputs": [],
   "source": []
  }
 ],
 "metadata": {
  "kernelspec": {
   "display_name": "mdai",
   "language": "python",
   "name": "mdai"
  },
  "language_info": {
   "codemirror_mode": {
    "name": "ipython",
    "version": 3
   },
   "file_extension": ".py",
   "mimetype": "text/x-python",
   "name": "python",
   "nbconvert_exporter": "python",
   "pygments_lexer": "ipython3",
   "version": "3.9.7"
  }
 },
 "nbformat": 4,
 "nbformat_minor": 5
}
