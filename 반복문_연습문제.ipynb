{
  "cells": [
    {
      "cell_type": "markdown",
      "metadata": {
        "id": "GrRUuOeNFMVP"
      },
      "source": [
        "## 반복문 연습문제 1"
      ]
    },
    {
      "cell_type": "markdown",
      "metadata": {
        "id": "_Nx1MGvpFMVQ"
      },
      "source": [
        "리스트에 동물 이름 저장돼 있다.\n",
        "\n",
        "리스트 = ['dog', 'cat', 'parrot']\n",
        "for문을 사용해서 동물 이름의 첫 글자만 출력하시오.\n",
        "\n",
        "d<br/>\n",
        "c<br/>\n",
        "p"
      ]
    },
    {
      "cell_type": "code",
      "execution_count": null,
      "metadata": {
        "id": "L12B_HOAFMVR"
      },
      "outputs": [],
      "source": []
    },
    {
      "cell_type": "markdown",
      "metadata": {
        "id": "1nw5FBC1FMVS"
      },
      "source": [
        "## 반복문 연습문제 2"
      ]
    },
    {
      "cell_type": "markdown",
      "metadata": {
        "id": "w-ypUQhwFMVT"
      },
      "source": [
        "리스트에서 세 글자 이상의 문자를 화면에 출력하라\n",
        "\n",
        "리스트 = [\"I\", \"study\", \"python\", \"language\", \"!\"]\n",
        "\n",
        "study<br/>\n",
        "python<br/>\n",
        "language"
      ]
    },
    {
      "cell_type": "markdown",
      "metadata": {
        "id": "nCg2JO4DFMVT"
      },
      "source": [
        "if, for"
      ]
    },
    {
      "cell_type": "code",
      "execution_count": null,
      "metadata": {
        "id": "PAvSSeicFMVU"
      },
      "outputs": [],
      "source": []
    },
    {
      "cell_type": "markdown",
      "metadata": {
        "ExecuteTime": {
          "end_time": "2021-09-30T10:57:55.478425Z",
          "start_time": "2021-09-30T10:57:55.463489Z"
        },
        "id": "phodggTgFMVU"
      },
      "source": [
        "## 반복문 연습문제 3"
      ]
    },
    {
      "cell_type": "markdown",
      "metadata": {
        "id": "QrTRyqLqFMVU"
      },
      "source": [
        "리스트에 저장된 데이터를 아래와 같이 출력하라.\n",
        "\n",
        "apart = [ [101, 102], [201, 202], [301, 302] ]\n",
        "\n",
        "101 호<br/>\n",
        "102 호<br/>\n",
        "201 호<br/>\n",
        "202 호<br/>\n",
        "301 호<br/>\n",
        "302 호"
      ]
    },
    {
      "cell_type": "markdown",
      "metadata": {
        "id": "cZvnbdNBFMVU"
      },
      "source": [
        "## 반복문 연습문제 4"
      ]
    },
    {
      "cell_type": "markdown",
      "metadata": {
        "id": "jS0iGcCkFMVU"
      },
      "source": [
        "리스트에 저장된 데이터를 아래와 같이 출력하라.\n",
        "\n",
        "apart = [ [101, 102], [201, 202], [301, 302] ]\n",
        "\n",
        "301 호<br/>\n",
        "302 호<br/>\n",
        "201 호<br/>\n",
        "202 호<br/>\n",
        "101 호<br/>\n",
        "102 호"
      ]
    },
    {
      "cell_type": "code",
      "execution_count": null,
      "metadata": {
        "id": "PbfMrQGaFMVV"
      },
      "outputs": [],
      "source": []
    },
    {
      "cell_type": "code",
      "execution_count": null,
      "metadata": {
        "id": "RpGjVLWTFMVV"
      },
      "outputs": [],
      "source": []
    },
    {
      "cell_type": "markdown",
      "metadata": {
        "id": "zi4rIeVFFMVV"
      },
      "source": [
        "## 반복문 연습문제 5"
      ]
    },
    {
      "cell_type": "markdown",
      "metadata": {
        "id": "hceGplEWFMVV"
      },
      "source": [
        "표준 입력으로 나이(만 나이)가 입력받아(입력 값은 7 이상 입력됨). <br>\n",
        "교통카드 시스템에서 각 나이에 맞게 요금을 차감한 뒤 잔액이 출력되게 만드세요\n",
        "(if, elif 사용). <br>\n",
        "현재 교통카드에는 10,000원이 들어있습니다.<br>\n",
        "while 반복문을 사용해서 잔액이 부족해질 때까지 반복해서 나이를 입력하고<br>\n",
        "잔액이 450원 미만이 되면 '잔액이 부족합니다. 카드를 충전해 주세요'를 출력하세요.<br>\n",
        "\n",
        "** 요금 **<br/>\n",
        "어린이(초등학생, 만 7세 이상 12세 이하): 450원<br/>\n",
        "청소년(중∙고등학생, 만 13세 이상 18세 이하): 720원<br/>\n",
        "어른(일반, 만 19세 이상): 1,250원"
      ]
    },
    {
      "cell_type": "code",
      "execution_count": null,
      "metadata": {
        "id": "GyGNv2kdFMVW"
      },
      "outputs": [],
      "source": []
    },
    {
      "cell_type": "code",
      "execution_count": null,
      "metadata": {
        "id": "YghKm7VnFMVW"
      },
      "outputs": [],
      "source": []
    }
  ],
  "metadata": {
    "kernelspec": {
      "display_name": "Python 3 (ipykernel)",
      "language": "python",
      "name": "python3"
    },
    "language_info": {
      "codemirror_mode": {
        "name": "ipython",
        "version": 3
      },
      "file_extension": ".py",
      "mimetype": "text/x-python",
      "name": "python",
      "nbconvert_exporter": "python",
      "pygments_lexer": "ipython3",
      "version": "3.10.4"
    },
    "colab": {
      "provenance": []
    }
  },
  "nbformat": 4,
  "nbformat_minor": 0
}